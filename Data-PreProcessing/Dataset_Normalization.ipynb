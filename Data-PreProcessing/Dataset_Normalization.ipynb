{
 "cells": [
  {
   "cell_type": "markdown",
   "source": [
    "Library importing at the beginning"
   ],
   "metadata": {
    "collapsed": false
   }
  },
  {
   "cell_type": "code",
   "execution_count": 1,
   "metadata": {
    "collapsed": true
   },
   "outputs": [],
   "source": [
    "from dask import dataframe as dd"
   ]
  },
  {
   "cell_type": "code",
   "execution_count": 2,
   "outputs": [
    {
     "data": {
      "text/plain": "    Unnamed: 0  Protocol  Flow Duration  Total Fwd Packets  \\\n0            0        17              1                  2   \n1            1        17              1                  2   \n2            2        17              2                  2   \n3            3        17              2                  2   \n4            4        17              1                  2   \n..         ...       ...            ...                ...   \n14       92931         6            175                  2   \n15       92932         6           2951                  1   \n16       92933         6             95                  1   \n17       92934         6            114                  2   \n18       92935         6            105                  2   \n\n    Total Backward Packets  Fwd Packets Length Total  \\\n0                        0                     766.0   \n1                        0                     778.0   \n2                        0                     750.0   \n3                        0                     738.0   \n4                        0                     750.0   \n..                     ...                       ...   \n14                       0                       0.0   \n15                       1                       0.0   \n16                       2                       0.0   \n17                       2                       0.0   \n18                       2                       0.0   \n\n    Bwd Packets Length Total  Fwd Packet Length Max  Fwd Packet Length Min  \\\n0                        0.0                  383.0                  383.0   \n1                        0.0                  389.0                  389.0   \n2                        0.0                  375.0                  375.0   \n3                        0.0                  369.0                  369.0   \n4                        0.0                  375.0                  375.0   \n..                       ...                    ...                    ...   \n14                       0.0                    0.0                    0.0   \n15                       0.0                    0.0                    0.0   \n16                       0.0                    0.0                    0.0   \n17                       0.0                    0.0                    0.0   \n18                       0.0                    0.0                    0.0   \n\n    Fwd Packet Length Mean  ...  Fwd Seg Size Min  Active Mean  Active Std  \\\n0                    383.0  ...                -1          0.0         0.0   \n1                    389.0  ...                -1          0.0         0.0   \n2                    375.0  ...                -1          0.0         0.0   \n3                    369.0  ...                -1          0.0         0.0   \n4                    375.0  ...                -1          0.0         0.0   \n..                     ...  ...               ...          ...         ...   \n14                     0.0  ...                20          0.0         0.0   \n15                     0.0  ...                32          0.0         0.0   \n16                     0.0  ...                32          0.0         0.0   \n17                     0.0  ...                20          0.0         0.0   \n18                     0.0  ...                20          0.0         0.0   \n\n    Active Max  Active Min  Idle Mean  Idle Std  Idle Max  Idle Min    Label  \n0          0.0         0.0        0.0       0.0       0.0       0.0  UDP-lag  \n1          0.0         0.0        0.0       0.0       0.0       0.0  UDP-lag  \n2          0.0         0.0        0.0       0.0       0.0       0.0  UDP-lag  \n3          0.0         0.0        0.0       0.0       0.0       0.0  UDP-lag  \n4          0.0         0.0        0.0       0.0       0.0       0.0  UDP-lag  \n..         ...         ...        ...       ...       ...       ...      ...  \n14         0.0         0.0        0.0       0.0       0.0       0.0  UDP-lag  \n15         0.0         0.0        0.0       0.0       0.0       0.0  WebDDoS  \n16         0.0         0.0        0.0       0.0       0.0       0.0  WebDDoS  \n17         0.0         0.0        0.0       0.0       0.0       0.0  UDP-lag  \n18         0.0         0.0        0.0       0.0       0.0       0.0  UDP-lag  \n\n[92936 rows x 61 columns]",
      "text/html": "<div>\n<style scoped>\n    .dataframe tbody tr th:only-of-type {\n        vertical-align: middle;\n    }\n\n    .dataframe tbody tr th {\n        vertical-align: top;\n    }\n\n    .dataframe thead th {\n        text-align: right;\n    }\n</style>\n<table border=\"1\" class=\"dataframe\">\n  <thead>\n    <tr style=\"text-align: right;\">\n      <th></th>\n      <th>Unnamed: 0</th>\n      <th>Protocol</th>\n      <th>Flow Duration</th>\n      <th>Total Fwd Packets</th>\n      <th>Total Backward Packets</th>\n      <th>Fwd Packets Length Total</th>\n      <th>Bwd Packets Length Total</th>\n      <th>Fwd Packet Length Max</th>\n      <th>Fwd Packet Length Min</th>\n      <th>Fwd Packet Length Mean</th>\n      <th>...</th>\n      <th>Fwd Seg Size Min</th>\n      <th>Active Mean</th>\n      <th>Active Std</th>\n      <th>Active Max</th>\n      <th>Active Min</th>\n      <th>Idle Mean</th>\n      <th>Idle Std</th>\n      <th>Idle Max</th>\n      <th>Idle Min</th>\n      <th>Label</th>\n    </tr>\n  </thead>\n  <tbody>\n    <tr>\n      <th>0</th>\n      <td>0</td>\n      <td>17</td>\n      <td>1</td>\n      <td>2</td>\n      <td>0</td>\n      <td>766.0</td>\n      <td>0.0</td>\n      <td>383.0</td>\n      <td>383.0</td>\n      <td>383.0</td>\n      <td>...</td>\n      <td>-1</td>\n      <td>0.0</td>\n      <td>0.0</td>\n      <td>0.0</td>\n      <td>0.0</td>\n      <td>0.0</td>\n      <td>0.0</td>\n      <td>0.0</td>\n      <td>0.0</td>\n      <td>UDP-lag</td>\n    </tr>\n    <tr>\n      <th>1</th>\n      <td>1</td>\n      <td>17</td>\n      <td>1</td>\n      <td>2</td>\n      <td>0</td>\n      <td>778.0</td>\n      <td>0.0</td>\n      <td>389.0</td>\n      <td>389.0</td>\n      <td>389.0</td>\n      <td>...</td>\n      <td>-1</td>\n      <td>0.0</td>\n      <td>0.0</td>\n      <td>0.0</td>\n      <td>0.0</td>\n      <td>0.0</td>\n      <td>0.0</td>\n      <td>0.0</td>\n      <td>0.0</td>\n      <td>UDP-lag</td>\n    </tr>\n    <tr>\n      <th>2</th>\n      <td>2</td>\n      <td>17</td>\n      <td>2</td>\n      <td>2</td>\n      <td>0</td>\n      <td>750.0</td>\n      <td>0.0</td>\n      <td>375.0</td>\n      <td>375.0</td>\n      <td>375.0</td>\n      <td>...</td>\n      <td>-1</td>\n      <td>0.0</td>\n      <td>0.0</td>\n      <td>0.0</td>\n      <td>0.0</td>\n      <td>0.0</td>\n      <td>0.0</td>\n      <td>0.0</td>\n      <td>0.0</td>\n      <td>UDP-lag</td>\n    </tr>\n    <tr>\n      <th>3</th>\n      <td>3</td>\n      <td>17</td>\n      <td>2</td>\n      <td>2</td>\n      <td>0</td>\n      <td>738.0</td>\n      <td>0.0</td>\n      <td>369.0</td>\n      <td>369.0</td>\n      <td>369.0</td>\n      <td>...</td>\n      <td>-1</td>\n      <td>0.0</td>\n      <td>0.0</td>\n      <td>0.0</td>\n      <td>0.0</td>\n      <td>0.0</td>\n      <td>0.0</td>\n      <td>0.0</td>\n      <td>0.0</td>\n      <td>UDP-lag</td>\n    </tr>\n    <tr>\n      <th>4</th>\n      <td>4</td>\n      <td>17</td>\n      <td>1</td>\n      <td>2</td>\n      <td>0</td>\n      <td>750.0</td>\n      <td>0.0</td>\n      <td>375.0</td>\n      <td>375.0</td>\n      <td>375.0</td>\n      <td>...</td>\n      <td>-1</td>\n      <td>0.0</td>\n      <td>0.0</td>\n      <td>0.0</td>\n      <td>0.0</td>\n      <td>0.0</td>\n      <td>0.0</td>\n      <td>0.0</td>\n      <td>0.0</td>\n      <td>UDP-lag</td>\n    </tr>\n    <tr>\n      <th>...</th>\n      <td>...</td>\n      <td>...</td>\n      <td>...</td>\n      <td>...</td>\n      <td>...</td>\n      <td>...</td>\n      <td>...</td>\n      <td>...</td>\n      <td>...</td>\n      <td>...</td>\n      <td>...</td>\n      <td>...</td>\n      <td>...</td>\n      <td>...</td>\n      <td>...</td>\n      <td>...</td>\n      <td>...</td>\n      <td>...</td>\n      <td>...</td>\n      <td>...</td>\n      <td>...</td>\n    </tr>\n    <tr>\n      <th>14</th>\n      <td>92931</td>\n      <td>6</td>\n      <td>175</td>\n      <td>2</td>\n      <td>0</td>\n      <td>0.0</td>\n      <td>0.0</td>\n      <td>0.0</td>\n      <td>0.0</td>\n      <td>0.0</td>\n      <td>...</td>\n      <td>20</td>\n      <td>0.0</td>\n      <td>0.0</td>\n      <td>0.0</td>\n      <td>0.0</td>\n      <td>0.0</td>\n      <td>0.0</td>\n      <td>0.0</td>\n      <td>0.0</td>\n      <td>UDP-lag</td>\n    </tr>\n    <tr>\n      <th>15</th>\n      <td>92932</td>\n      <td>6</td>\n      <td>2951</td>\n      <td>1</td>\n      <td>1</td>\n      <td>0.0</td>\n      <td>0.0</td>\n      <td>0.0</td>\n      <td>0.0</td>\n      <td>0.0</td>\n      <td>...</td>\n      <td>32</td>\n      <td>0.0</td>\n      <td>0.0</td>\n      <td>0.0</td>\n      <td>0.0</td>\n      <td>0.0</td>\n      <td>0.0</td>\n      <td>0.0</td>\n      <td>0.0</td>\n      <td>WebDDoS</td>\n    </tr>\n    <tr>\n      <th>16</th>\n      <td>92933</td>\n      <td>6</td>\n      <td>95</td>\n      <td>1</td>\n      <td>2</td>\n      <td>0.0</td>\n      <td>0.0</td>\n      <td>0.0</td>\n      <td>0.0</td>\n      <td>0.0</td>\n      <td>...</td>\n      <td>32</td>\n      <td>0.0</td>\n      <td>0.0</td>\n      <td>0.0</td>\n      <td>0.0</td>\n      <td>0.0</td>\n      <td>0.0</td>\n      <td>0.0</td>\n      <td>0.0</td>\n      <td>WebDDoS</td>\n    </tr>\n    <tr>\n      <th>17</th>\n      <td>92934</td>\n      <td>6</td>\n      <td>114</td>\n      <td>2</td>\n      <td>2</td>\n      <td>0.0</td>\n      <td>0.0</td>\n      <td>0.0</td>\n      <td>0.0</td>\n      <td>0.0</td>\n      <td>...</td>\n      <td>20</td>\n      <td>0.0</td>\n      <td>0.0</td>\n      <td>0.0</td>\n      <td>0.0</td>\n      <td>0.0</td>\n      <td>0.0</td>\n      <td>0.0</td>\n      <td>0.0</td>\n      <td>UDP-lag</td>\n    </tr>\n    <tr>\n      <th>18</th>\n      <td>92935</td>\n      <td>6</td>\n      <td>105</td>\n      <td>2</td>\n      <td>2</td>\n      <td>0.0</td>\n      <td>0.0</td>\n      <td>0.0</td>\n      <td>0.0</td>\n      <td>0.0</td>\n      <td>...</td>\n      <td>20</td>\n      <td>0.0</td>\n      <td>0.0</td>\n      <td>0.0</td>\n      <td>0.0</td>\n      <td>0.0</td>\n      <td>0.0</td>\n      <td>0.0</td>\n      <td>0.0</td>\n      <td>UDP-lag</td>\n    </tr>\n  </tbody>\n</table>\n<p>92936 rows × 61 columns</p>\n</div>"
     },
     "execution_count": 2,
     "metadata": {},
     "output_type": "execute_result"
    }
   ],
   "source": [
    "file_path = \"D:\\\\ThesisDataset\\\\CIC-DDOS-2019\\\\AfterDataCleaning\\\\UDPLag.csv\"\n",
    "dask_df = dd.read_csv(file_path, low_memory=False, blocksize=5000)  # 5MB chunk-size\n",
    "workingDataFrame = dask_df.compute()\n",
    "workingDataFrame\n"
   ],
   "metadata": {
    "collapsed": false
   }
  },
  {
   "cell_type": "code",
   "execution_count": 9,
   "outputs": [
    {
     "data": {
      "text/plain": "{'Destination IP',\n 'Destination Port',\n 'Fwd Header Length.1',\n 'Source IP',\n 'Source Port'}"
     },
     "execution_count": 9,
     "metadata": {},
     "output_type": "execute_result"
    }
   ],
   "source": [
    "prev_set = set(workingDataFrame.columns.values)\n",
    "prev_drop_columns = {  # this list includes all spellings across CIC NIDS datasets\n",
    "    \"Flow ID\",\n",
    "    'Fwd Header Length.1',\n",
    "    \"Source IP\",\n",
    "    \"Src IP\",\n",
    "    \"Source Port\",\n",
    "    \"Src Port\",\n",
    "    \"Destination IP\",\n",
    "    \"Dst IP\",\n",
    "    \"Destination Port\",\n",
    "    \"Dst Port\",\n",
    "    \"Timestamp\",\n",
    "    \"Unnamed: 0\",\n",
    "    \"Inbound\",\n",
    "    \"SimillarHTTP\",  # CIC-DDoS other undocumented columns\n",
    "}\n",
    "emon_set = {\"Source IP\",\n",
    "            \"Source Port\",\n",
    "            \"Destination IP\",\n",
    "            \"Destination Port\",\n",
    "            \"ACK Flag Count\",\n",
    "            \"Average Packet Size\",\n",
    "            \"Fwd IAT Max\",\n",
    "            \"Fwd IAT Mean\",\n",
    "            \"Fwd Header Length\",\n",
    "            \"Fwd Header Length.1\",\n",
    "            \"Fwd Packets/s\",\n",
    "            \"Fwd Packet Length Std\",\n",
    "            \"Fwd Packet Length Max\",\n",
    "            \"Fwd Packet Length Min\",\n",
    "            \"Flow IAT Max\",\n",
    "            \"Flow IAT Mean\",\n",
    "            \"Flow Duration\",\n",
    "            \"Fwd IAT Total\",\n",
    "            \"Length of Fwd Packets\",\n",
    "            \"Max Packet Length\",\n",
    "            \"Min Packet Length\",\n",
    "            \"min_seg_size_forward\",\n",
    "            \"Packet Length Std\",\n",
    "            \"Protocol\",\n",
    "            \"Subflow Fwd Bytes\",\n",
    "            }\n",
    "final_features = (emon_set & prev_drop_columns)\n",
    "final_features\n"
   ],
   "metadata": {
    "collapsed": false
   }
  }
 ],
 "metadata": {
  "kernelspec": {
   "display_name": "Python 3",
   "language": "python",
   "name": "python3"
  },
  "language_info": {
   "codemirror_mode": {
    "name": "ipython",
    "version": 2
   },
   "file_extension": ".py",
   "mimetype": "text/x-python",
   "name": "python",
   "nbconvert_exporter": "python",
   "pygments_lexer": "ipython2",
   "version": "2.7.6"
  }
 },
 "nbformat": 4,
 "nbformat_minor": 0
}

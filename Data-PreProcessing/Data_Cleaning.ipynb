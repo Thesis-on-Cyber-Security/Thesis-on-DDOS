{
 "cells": [
  {
   "cell_type": "markdown",
   "source": [
    "Loading Libraries"
   ],
   "metadata": {
    "collapsed": false
   }
  },
  {
   "cell_type": "code",
   "execution_count": 2,
   "metadata": {
    "collapsed": true
   },
   "outputs": [],
   "source": [
    "import numba\n",
    "import tensorflow as tf\n",
    "import pandas as pd\n",
    "import numpy as np\n",
    "import random\n",
    "import gc  # garbage collector\n",
    "\n",
    "from fastcore.basics import *\n",
    "from fastcore.parallel import *\n",
    "from numba import jit, njit, vectorize, cuda, uint32, f8, uint8\n",
    "\n",
    "from sklearn.model_selection import train_test_split\n",
    "from sklearn import metrics  # for accuracy calculation\n",
    "from sklearn.tree import DecisionTreeClassifier\n",
    "from sklearn.metrics import roc_auc_score, accuracy_score\n",
    "from functools import partial\n",
    "from os import cpu_count\n",
    "import matplotlib.pyplot as plt\n",
    "\n",
    "import math\n",
    "from pylab import imshow, show\n",
    "from timeit import default_timer as timer\n",
    "\n",
    "from dask import dataframe as dd\n",
    "from dask.distributed import Client"
   ]
  },
  {
   "cell_type": "markdown",
   "source": [
    "Setting up paths to csv files / datasets"
   ],
   "metadata": {
    "collapsed": false
   }
  },
  {
   "cell_type": "code",
   "execution_count": 3,
   "outputs": [
    {
     "data": {
      "text/plain": "[PhysicalDevice(name='/physical_device:CPU:0', device_type='CPU'),\n PhysicalDevice(name='/physical_device:XLA_CPU:0', device_type='XLA_CPU'),\n PhysicalDevice(name='/physical_device:XLA_GPU:0', device_type='XLA_GPU')]"
     },
     "execution_count": 3,
     "metadata": {},
     "output_type": "execute_result"
    }
   ],
   "source": [
    "tf.config.list_physical_devices(\n",
    "    device_type=None\n",
    ")"
   ],
   "metadata": {
    "collapsed": false
   }
  },
  {
   "cell_type": "code",
   "execution_count": 4,
   "outputs": [],
   "source": [
    "# CSV-01-12\n",
    "path_DdoS_DNS = \"D:\\\\thesis_dataset\\\\01-12\\\\DrDoS_DNS.csv\"\n",
    "path_DdoS_MSSQL = \"D:\\\\thesis_dataset\\\\01-12\\\\DrDoS_MSSQL.csv\"\n",
    "path_DdoS_LDAP = \"D:\\\\thesis_dataset\\\\01-12\\\\DrDoS_LDAP.csv\"\n",
    "path_DdoS_NTP = \"D:\\\\thesis_dataset\\\\01-12\\\\DrDoS_NTP.csv\"\n",
    "path_DdoS_NetBIOS = \"D:\\\\thesis_dataset\\\\01-12\\\\DrDoS_NetBIOS.csv\"\n",
    "path_DdoS_SNMP = \"D:\\\\thesis_dataset\\\\01-12\\\\DrDoS_SNMP.csv\"\n",
    "path_DdoS_SSDP = \"D:\\\\thesis_dataset\\\\01-12\\\\DrDoS_SSDP.csv\"\n",
    "path_DdoS_UDP = \"D:\\\\thesis_dataset\\\\01-12\\\\DrDoS_UDP.csv\"\n",
    "path_Syn = \"D:\\\\thesis_dataset\\\\01-12\\\\Syn.csv\"\n",
    "path_TFTP = \"D:\\\\thesis_dataset\\\\01-12\\\\TFTP.csv\"\n",
    "path_UDPLag = \"D:\\\\thesis_dataset\\\\01-12\\\\UDPLag.csv\"\n",
    "\n",
    "# # CSV-03-11\n",
    "# path__LDAP = \"../CICDDoS-2019/CSV-03-11/03-11/LDAP.csv\"\n",
    "# path__MSSQL = \"../CICDDoS-2019/CSV-03-11/03-11/MSSQL.csv\"\n",
    "# path__NetBIOS = \"../CICDDoS-2019/CSV-03-11/03-11/NetBIOS.csv\"\n",
    "# path__Portmap = \"../CICDDoS-2019/CSV-03-11/03-11/Portmap.csv\"\n",
    "# path__Syn = \"../CICDDoS-2019/CSV-03-11/03-11/Syn.csv\"\n",
    "# path__UDP = \"../CICDDoS-2019/CSV-03-11/03-11/UDP.csv\"\n",
    "# path__UDPLag = \"../CICDDoS-2019/CSV-03-11/03-11/UDPLag.csv\"\n",
    "\n",
    "paths = [path_DdoS_DNS, path_DdoS_MSSQL, path_DdoS_LDAP, path_DdoS_NTP, path_DdoS_NetBIOS, path_DdoS_SNMP, path_DdoS_SSDP, path_DdoS_UDP, path_Syn, path_TFTP, path_UDPLag]\n",
    "# , path__LDAP, path__MSSQL, path__NetBIOS,\n",
    "#      path__Portmap, path__Syn, path__UDP, path__UDPLag]"
   ],
   "metadata": {
    "collapsed": false
   }
  },
  {
   "cell_type": "markdown",
   "source": [
    "Column / feature names"
   ],
   "metadata": {
    "collapsed": false
   }
  },
  {
   "cell_type": "code",
   "execution_count": 5,
   "outputs": [],
   "source": [
    "col_name_consistency = {\n",
    "    'Flow ID': 'Flow ID',\n",
    "    'Source IP': 'Source IP',\n",
    "    'Src IP': 'Source IP',\n",
    "    'Source Port': 'Source Port',\n",
    "    'Src Port': 'Source Port',\n",
    "    'Destination IP': 'Destination IP',\n",
    "    'Dst IP': 'Destination IP',\n",
    "    'Destination Port': 'Destination Port',\n",
    "    'Dst Port': 'Destination Port',\n",
    "    'Protocol': 'Protocol',\n",
    "    'Timestamp': 'Timestamp',\n",
    "    'Flow Duration': 'Flow Duration',\n",
    "    'Total Fwd Packets': 'Total Fwd Packets',\n",
    "    'Tot Fwd Pkts': 'Total Fwd Packets',\n",
    "    'Total Backward Packets': 'Total Backward Packets',\n",
    "    'Tot Bwd Pkts': 'Total Backward Packets',\n",
    "    'Total Length of Fwd Packets': 'Fwd Packets Length Total',\n",
    "    'TotLen Fwd Pkts': 'Fwd Packets Length Total',\n",
    "    'Total Length of Bwd Packets': 'Bwd Packets Length Total',\n",
    "    'TotLen Bwd Pkts': 'Bwd Packets Length Total',\n",
    "    'Fwd Packet Length Max': 'Fwd Packet Length Max',\n",
    "    'Fwd Pkt Len Max': 'Fwd Packet Length Max',\n",
    "    'Fwd Packet Length Min': 'Fwd Packet Length Min',\n",
    "    'Fwd Pkt Len Min': 'Fwd Packet Length Min',\n",
    "    'Fwd Packet Length Mean': 'Fwd Packet Length Mean',\n",
    "    'Fwd Pkt Len Mean': 'Fwd Packet Length Mean',\n",
    "    'Fwd Packet Length Std': 'Fwd Packet Length Std',\n",
    "    'Fwd Pkt Len Std': 'Fwd Packet Length Std',\n",
    "    'Bwd Packet Length Max': 'Bwd Packet Length Max',\n",
    "    'Bwd Pkt Len Max': 'Bwd Packet Length Max',\n",
    "    'Bwd Packet Length Min': 'Bwd Packet Length Min',\n",
    "    'Bwd Pkt Len Min': 'Bwd Packet Length Min',\n",
    "    'Bwd Packet Length Mean': 'Bwd Packet Length Mean',\n",
    "    'Bwd Pkt Len Mean': 'Bwd Packet Length Mean',\n",
    "    'Bwd Packet Length Std': 'Bwd Packet Length Std',\n",
    "    'Bwd Pkt Len Std': 'Bwd Packet Length Std',\n",
    "    'Flow Bytes/s': 'Flow Bytes/s',\n",
    "    'Flow Byts/s': 'Flow Bytes/s',\n",
    "    'Flow Packets/s': 'Flow Packets/s',\n",
    "    'Flow Pkts/s': 'Flow Packets/s',\n",
    "    'Flow IAT Mean': 'Flow IAT Mean',\n",
    "    'Flow IAT Std': 'Flow IAT Std',\n",
    "    'Flow IAT Max': 'Flow IAT Max',\n",
    "    'Flow IAT Min': 'Flow IAT Min',\n",
    "    'Fwd IAT Total': 'Fwd IAT Total',\n",
    "    'Fwd IAT Tot': 'Fwd IAT Total',\n",
    "    'Fwd IAT Mean': 'Fwd IAT Mean',\n",
    "    'Fwd IAT Std': 'Fwd IAT Std',\n",
    "    'Fwd IAT Max': 'Fwd IAT Max',\n",
    "    'Fwd IAT Min': 'Fwd IAT Min',\n",
    "    'Bwd IAT Total': 'Bwd IAT Total',\n",
    "    'Bwd IAT Tot': 'Bwd IAT Total',\n",
    "    'Bwd IAT Mean': 'Bwd IAT Mean',\n",
    "    'Bwd IAT Std': 'Bwd IAT Std',\n",
    "    'Bwd IAT Max': 'Bwd IAT Max',\n",
    "    'Bwd IAT Min': 'Bwd IAT Min',\n",
    "    'Fwd PSH Flags': 'Fwd PSH Flags',\n",
    "    'Bwd PSH Flags': 'Bwd PSH Flags',\n",
    "    'Fwd URG Flags': 'Fwd URG Flags',\n",
    "    'Bwd URG Flags': 'Bwd URG Flags',\n",
    "    'Fwd Header Length': 'Fwd Header Length',\n",
    "    'Fwd Header Len': 'Fwd Header Length',\n",
    "    'Bwd Header Length': 'Bwd Header Length',\n",
    "    'Bwd Header Len': 'Bwd Header Length',\n",
    "    'Fwd Packets/s': 'Fwd Packets/s',\n",
    "    'Fwd Pkts/s': 'Fwd Packets/s',\n",
    "    'Bwd Packets/s': 'Bwd Packets/s',\n",
    "    'Bwd Pkts/s': 'Bwd Packets/s',\n",
    "    'Min Packet Length': 'Packet Length Min',\n",
    "    'Pkt Len Min': 'Packet Length Min',\n",
    "    'Max Packet Length': 'Packet Length Max',\n",
    "    'Pkt Len Max': 'Packet Length Max',\n",
    "    'Packet Length Mean': 'Packet Length Mean',\n",
    "    'Pkt Len Mean': 'Packet Length Mean',\n",
    "    'Packet Length Std': 'Packet Length Std',\n",
    "    'Pkt Len Std': 'Packet Length Std',\n",
    "    'Packet Length Variance': 'Packet Length Variance',\n",
    "    'Pkt Len Var': 'Packet Length Variance',\n",
    "    'FIN Flag Count': 'FIN Flag Count',\n",
    "    'FIN Flag Cnt': 'FIN Flag Count',\n",
    "    'SYN Flag Count': 'SYN Flag Count',\n",
    "    'SYN Flag Cnt': 'SYN Flag Count',\n",
    "    'RST Flag Count': 'RST Flag Count',\n",
    "    'RST Flag Cnt': 'RST Flag Count',\n",
    "    'PSH Flag Count': 'PSH Flag Count',\n",
    "    'PSH Flag Cnt': 'PSH Flag Count',\n",
    "    'ACK Flag Count': 'ACK Flag Count',\n",
    "    'ACK Flag Cnt': 'ACK Flag Count',\n",
    "    'URG Flag Count': 'URG Flag Count',\n",
    "    'URG Flag Cnt': 'URG Flag Count',\n",
    "    'CWE Flag Count': 'CWE Flag Count',\n",
    "    'CWE Flag Cnt': 'CWE Flag Count',\n",
    "    'ECE Flag Count': 'ECE Flag Count',\n",
    "    'ECE Flag Cnt': 'ECE Flag Count',\n",
    "    'Down/Up Ratio': 'Down/Up Ratio',\n",
    "    'Average Packet Size': 'Avg Packet Size',\n",
    "    'Pkt Size Avg': 'Avg Packet Size',\n",
    "    'Avg Fwd Segment Size': 'Avg Fwd Segment Size',\n",
    "    'Fwd Seg Size Avg': 'Avg Fwd Segment Size',\n",
    "    'Avg Bwd Segment Size': 'Avg Bwd Segment Size',\n",
    "    'Bwd Seg Size Avg': 'Avg Bwd Segment Size',\n",
    "    'Fwd Avg Bytes/Bulk': 'Fwd Avg Bytes/Bulk',\n",
    "    'Fwd Byts/b Avg': 'Fwd Avg Bytes/Bulk',\n",
    "    'Fwd Avg Packets/Bulk': 'Fwd Avg Packets/Bulk',\n",
    "    'Fwd Pkts/b Avg': 'Fwd Avg Packets/Bulk',\n",
    "    'Fwd Avg Bulk Rate': 'Fwd Avg Bulk Rate',\n",
    "    'Fwd Blk Rate Avg': 'Fwd Avg Bulk Rate',\n",
    "    'Bwd Avg Bytes/Bulk': 'Bwd Avg Bytes/Bulk',\n",
    "    'Bwd Byts/b Avg': 'Bwd Avg Bytes/Bulk',\n",
    "    'Bwd Avg Packets/Bulk': 'Bwd Avg Packets/Bulk',\n",
    "    'Bwd Pkts/b Avg': 'Bwd Avg Packets/Bulk',\n",
    "    'Bwd Avg Bulk Rate': 'Bwd Avg Bulk Rate',\n",
    "    'Bwd Blk Rate Avg': 'Bwd Avg Bulk Rate',\n",
    "    'Subflow Fwd Packets': 'Subflow Fwd Packets',\n",
    "    'Subflow Fwd Pkts': 'Subflow Fwd Packets',\n",
    "    'Subflow Fwd Bytes': 'Subflow Fwd Bytes',\n",
    "    'Subflow Fwd Byts': 'Subflow Fwd Bytes',\n",
    "    'Subflow Bwd Packets': 'Subflow Bwd Packets',\n",
    "    'Subflow Bwd Pkts': 'Subflow Bwd Packets',\n",
    "    'Subflow Bwd Bytes': 'Subflow Bwd Bytes',\n",
    "    'Subflow Bwd Byts': 'Subflow Bwd Bytes',\n",
    "    'Init_Win_bytes_forward': 'Init Fwd Win Bytes',\n",
    "    'Init Fwd Win Byts': 'Init Fwd Win Bytes',\n",
    "    'Init_Win_bytes_backward': 'Init Bwd Win Bytes',\n",
    "    'Init Bwd Win Byts': 'Init Bwd Win Bytes',\n",
    "    'act_data_pkt_fwd': 'Fwd Act Data Packets',\n",
    "    'Fwd Act Data Pkts': 'Fwd Act Data Packets',\n",
    "    'min_seg_size_forward': 'Fwd Seg Size Min',\n",
    "    'Fwd Seg Size Min': 'Fwd Seg Size Min',\n",
    "    'Active Mean': 'Active Mean',\n",
    "    'Active Std': 'Active Std',\n",
    "    'Active Max': 'Active Max',\n",
    "    'Active Min': 'Active Min',\n",
    "    'Idle Mean': 'Idle Mean',\n",
    "    'Idle Std': 'Idle Std',\n",
    "    'Idle Max': 'Idle Max',\n",
    "    'Idle Min': 'Idle Min',\n",
    "    'Label': 'Label'\n",
    "}"
   ],
   "metadata": {
    "collapsed": false
   }
  },
  {
   "cell_type": "markdown",
   "source": [
    "Following Columns may have little insignificance over model"
   ],
   "metadata": {
    "collapsed": false
   }
  },
  {
   "cell_type": "code",
   "execution_count": 6,
   "outputs": [
    {
     "data": {
      "text/plain": "6"
     },
     "execution_count": 6,
     "metadata": {},
     "output_type": "execute_result"
    }
   ],
   "source": [
    "drop_columns = [  # this list includes all spellings across CIC NIDS datasets\n",
    "    \"Flow ID\",\n",
    "    'Fwd Header Length.1',\n",
    "    \"Timestamp\",\n",
    "    \"Unnamed: 0\",\n",
    "    \"Inbound\",\n",
    "    \"SimillarHTTP\"  # CIC-DDoS other undocumented columns\n",
    "]\n",
    "len(drop_columns)  # src_port,dst_port, src_ip, dst_ip these are duplicate"
   ],
   "metadata": {
    "collapsed": false
   }
  },
  {
   "cell_type": "code",
   "execution_count": 7,
   "outputs": [],
   "source": [
    "def readHugeCsvFileAsDataFrame(file_path):\n",
    "    # start = timer()\n",
    "    dtypes = {'SimillarHTTP': 'object',\n",
    "              'Timestamp': 'object',\n",
    "              'Source IP': 'str',\n",
    "              'Destination IP': 'str',\n",
    "              'Flow ID': 'object',\n",
    "              'Label': 'object',\n",
    "              }\n",
    "    for feature in [f'f_{i}' for i in range(82)]:\n",
    "        dtypes[feature] = \"float32\"\n",
    "\n",
    "    dask_df = dd.read_csv(file_path, low_memory=False,blocksize=50000, dtype=dtypes)  # 50MB chunk-size\n",
    "    # elapsed_time = timer() - start\n",
    "    # print(\"Read csv with dask: \", elapsed_time, \"sec\")\n",
    "    return dask_df.compute()"
   ],
   "metadata": {
    "collapsed": false
   }
  },
  {
   "cell_type": "code",
   "execution_count": 8,
   "outputs": [
    {
     "data": {
      "text/plain": "<Client: 'tcp://127.0.0.1:8075' processes=4 threads=4, memory=7.89 GiB>",
      "text/html": "<div>\n    <div style=\"width: 24px; height: 24px; background-color: #e1e1e1; border: 3px solid #9D9D9D; border-radius: 5px; position: absolute;\"> </div>\n    <div style=\"margin-left: 48px;\">\n        <h3 style=\"margin-bottom: 0px;\">Client</h3>\n        <p style=\"color: #9D9D9D; margin-bottom: 0px;\">Client-0f28cff6-a017-11ed-bd7c-30e37a1b585e</p>\n        <table style=\"width: 100%; text-align: left;\">\n\n        <tr>\n        \n            <td style=\"text-align: left;\"><strong>Connection method:</strong> Cluster object</td>\n            <td style=\"text-align: left;\"><strong>Cluster type:</strong> distributed.LocalCluster</td>\n        \n        </tr>\n\n        \n            <tr>\n                <td style=\"text-align: left;\">\n                    <strong>Dashboard: </strong> <a href=\"http://127.0.0.1:8787/status\" target=\"_blank\">http://127.0.0.1:8787/status</a>\n                </td>\n                <td style=\"text-align: left;\"></td>\n            </tr>\n        \n\n        </table>\n\n        \n            <details>\n            <summary style=\"margin-bottom: 20px;\"><h3 style=\"display: inline;\">Cluster Info</h3></summary>\n            <div class=\"jp-RenderedHTMLCommon jp-RenderedHTML jp-mod-trusted jp-OutputArea-output\">\n    <div style=\"width: 24px; height: 24px; background-color: #e1e1e1; border: 3px solid #9D9D9D; border-radius: 5px; position: absolute;\">\n    </div>\n    <div style=\"margin-left: 48px;\">\n        <h3 style=\"margin-bottom: 0px; margin-top: 0px;\">LocalCluster</h3>\n        <p style=\"color: #9D9D9D; margin-bottom: 0px;\">de462f81</p>\n        <table style=\"width: 100%; text-align: left;\">\n            <tr>\n                <td style=\"text-align: left;\">\n                    <strong>Dashboard:</strong> <a href=\"http://127.0.0.1:8787/status\" target=\"_blank\">http://127.0.0.1:8787/status</a>\n                </td>\n                <td style=\"text-align: left;\">\n                    <strong>Workers:</strong> 4\n                </td>\n            </tr>\n            <tr>\n                <td style=\"text-align: left;\">\n                    <strong>Total threads:</strong> 4\n                </td>\n                <td style=\"text-align: left;\">\n                    <strong>Total memory:</strong> 7.89 GiB\n                </td>\n            </tr>\n            \n            <tr>\n    <td style=\"text-align: left;\"><strong>Status:</strong> running</td>\n    <td style=\"text-align: left;\"><strong>Using processes:</strong> True</td>\n</tr>\n\n            \n        </table>\n\n        <details>\n            <summary style=\"margin-bottom: 20px;\">\n                <h3 style=\"display: inline;\">Scheduler Info</h3>\n            </summary>\n\n            <div style=\"\">\n    <div>\n        <div style=\"width: 24px; height: 24px; background-color: #FFF7E5; border: 3px solid #FF6132; border-radius: 5px; position: absolute;\"> </div>\n        <div style=\"margin-left: 48px;\">\n            <h3 style=\"margin-bottom: 0px;\">Scheduler</h3>\n            <p style=\"color: #9D9D9D; margin-bottom: 0px;\">Scheduler-3359082a-a3b3-4b1e-8c60-900732552cc1</p>\n            <table style=\"width: 100%; text-align: left;\">\n                <tr>\n                    <td style=\"text-align: left;\">\n                        <strong>Comm:</strong> tcp://127.0.0.1:8075\n                    </td>\n                    <td style=\"text-align: left;\">\n                        <strong>Workers:</strong> 4\n                    </td>\n                </tr>\n                <tr>\n                    <td style=\"text-align: left;\">\n                        <strong>Dashboard:</strong> <a href=\"http://127.0.0.1:8787/status\" target=\"_blank\">http://127.0.0.1:8787/status</a>\n                    </td>\n                    <td style=\"text-align: left;\">\n                        <strong>Total threads:</strong> 4\n                    </td>\n                </tr>\n                <tr>\n                    <td style=\"text-align: left;\">\n                        <strong>Started:</strong> Just now\n                    </td>\n                    <td style=\"text-align: left;\">\n                        <strong>Total memory:</strong> 7.89 GiB\n                    </td>\n                </tr>\n            </table>\n        </div>\n    </div>\n\n    <details style=\"margin-left: 48px;\">\n        <summary style=\"margin-bottom: 20px;\">\n            <h3 style=\"display: inline;\">Workers</h3>\n        </summary>\n\n        \n        <div style=\"margin-bottom: 20px;\">\n            <div style=\"width: 24px; height: 24px; background-color: #DBF5FF; border: 3px solid #4CC9FF; border-radius: 5px; position: absolute;\"> </div>\n            <div style=\"margin-left: 48px;\">\n            <details>\n                <summary>\n                    <h4 style=\"margin-bottom: 0px; display: inline;\">Worker: 0</h4>\n                </summary>\n                <table style=\"width: 100%; text-align: left;\">\n                    <tr>\n                        <td style=\"text-align: left;\">\n                            <strong>Comm: </strong> tcp://127.0.0.1:8108\n                        </td>\n                        <td style=\"text-align: left;\">\n                            <strong>Total threads: </strong> 1\n                        </td>\n                    </tr>\n                    <tr>\n                        <td style=\"text-align: left;\">\n                            <strong>Dashboard: </strong> <a href=\"http://127.0.0.1:8109/status\" target=\"_blank\">http://127.0.0.1:8109/status</a>\n                        </td>\n                        <td style=\"text-align: left;\">\n                            <strong>Memory: </strong> 1.97 GiB\n                        </td>\n                    </tr>\n                    <tr>\n                        <td style=\"text-align: left;\">\n                            <strong>Nanny: </strong> tcp://127.0.0.1:8081\n                        </td>\n                        <td style=\"text-align: left;\"></td>\n                    </tr>\n                    <tr>\n                        <td colspan=\"2\" style=\"text-align: left;\">\n                            <strong>Local directory: </strong> C:\\Users\\Malware\\DataspellProjects\\Thesis-on-DDOS\\Data-PreProcessing\\dask-worker-space\\worker-5z_v3_66\n                        </td>\n                    </tr>\n\n                    \n\n                    \n\n                </table>\n            </details>\n            </div>\n        </div>\n        \n        <div style=\"margin-bottom: 20px;\">\n            <div style=\"width: 24px; height: 24px; background-color: #DBF5FF; border: 3px solid #4CC9FF; border-radius: 5px; position: absolute;\"> </div>\n            <div style=\"margin-left: 48px;\">\n            <details>\n                <summary>\n                    <h4 style=\"margin-bottom: 0px; display: inline;\">Worker: 1</h4>\n                </summary>\n                <table style=\"width: 100%; text-align: left;\">\n                    <tr>\n                        <td style=\"text-align: left;\">\n                            <strong>Comm: </strong> tcp://127.0.0.1:8111\n                        </td>\n                        <td style=\"text-align: left;\">\n                            <strong>Total threads: </strong> 1\n                        </td>\n                    </tr>\n                    <tr>\n                        <td style=\"text-align: left;\">\n                            <strong>Dashboard: </strong> <a href=\"http://127.0.0.1:8112/status\" target=\"_blank\">http://127.0.0.1:8112/status</a>\n                        </td>\n                        <td style=\"text-align: left;\">\n                            <strong>Memory: </strong> 1.97 GiB\n                        </td>\n                    </tr>\n                    <tr>\n                        <td style=\"text-align: left;\">\n                            <strong>Nanny: </strong> tcp://127.0.0.1:8078\n                        </td>\n                        <td style=\"text-align: left;\"></td>\n                    </tr>\n                    <tr>\n                        <td colspan=\"2\" style=\"text-align: left;\">\n                            <strong>Local directory: </strong> C:\\Users\\Malware\\DataspellProjects\\Thesis-on-DDOS\\Data-PreProcessing\\dask-worker-space\\worker-qm0pv_2p\n                        </td>\n                    </tr>\n\n                    \n\n                    \n\n                </table>\n            </details>\n            </div>\n        </div>\n        \n        <div style=\"margin-bottom: 20px;\">\n            <div style=\"width: 24px; height: 24px; background-color: #DBF5FF; border: 3px solid #4CC9FF; border-radius: 5px; position: absolute;\"> </div>\n            <div style=\"margin-left: 48px;\">\n            <details>\n                <summary>\n                    <h4 style=\"margin-bottom: 0px; display: inline;\">Worker: 2</h4>\n                </summary>\n                <table style=\"width: 100%; text-align: left;\">\n                    <tr>\n                        <td style=\"text-align: left;\">\n                            <strong>Comm: </strong> tcp://127.0.0.1:8094\n                        </td>\n                        <td style=\"text-align: left;\">\n                            <strong>Total threads: </strong> 1\n                        </td>\n                    </tr>\n                    <tr>\n                        <td style=\"text-align: left;\">\n                            <strong>Dashboard: </strong> <a href=\"http://127.0.0.1:8098/status\" target=\"_blank\">http://127.0.0.1:8098/status</a>\n                        </td>\n                        <td style=\"text-align: left;\">\n                            <strong>Memory: </strong> 1.97 GiB\n                        </td>\n                    </tr>\n                    <tr>\n                        <td style=\"text-align: left;\">\n                            <strong>Nanny: </strong> tcp://127.0.0.1:8079\n                        </td>\n                        <td style=\"text-align: left;\"></td>\n                    </tr>\n                    <tr>\n                        <td colspan=\"2\" style=\"text-align: left;\">\n                            <strong>Local directory: </strong> C:\\Users\\Malware\\DataspellProjects\\Thesis-on-DDOS\\Data-PreProcessing\\dask-worker-space\\worker-esurcpi7\n                        </td>\n                    </tr>\n\n                    \n\n                    \n\n                </table>\n            </details>\n            </div>\n        </div>\n        \n        <div style=\"margin-bottom: 20px;\">\n            <div style=\"width: 24px; height: 24px; background-color: #DBF5FF; border: 3px solid #4CC9FF; border-radius: 5px; position: absolute;\"> </div>\n            <div style=\"margin-left: 48px;\">\n            <details>\n                <summary>\n                    <h4 style=\"margin-bottom: 0px; display: inline;\">Worker: 3</h4>\n                </summary>\n                <table style=\"width: 100%; text-align: left;\">\n                    <tr>\n                        <td style=\"text-align: left;\">\n                            <strong>Comm: </strong> tcp://127.0.0.1:8095\n                        </td>\n                        <td style=\"text-align: left;\">\n                            <strong>Total threads: </strong> 1\n                        </td>\n                    </tr>\n                    <tr>\n                        <td style=\"text-align: left;\">\n                            <strong>Dashboard: </strong> <a href=\"http://127.0.0.1:8096/status\" target=\"_blank\">http://127.0.0.1:8096/status</a>\n                        </td>\n                        <td style=\"text-align: left;\">\n                            <strong>Memory: </strong> 1.97 GiB\n                        </td>\n                    </tr>\n                    <tr>\n                        <td style=\"text-align: left;\">\n                            <strong>Nanny: </strong> tcp://127.0.0.1:8080\n                        </td>\n                        <td style=\"text-align: left;\"></td>\n                    </tr>\n                    <tr>\n                        <td colspan=\"2\" style=\"text-align: left;\">\n                            <strong>Local directory: </strong> C:\\Users\\Malware\\DataspellProjects\\Thesis-on-DDOS\\Data-PreProcessing\\dask-worker-space\\worker-vls8o2yo\n                        </td>\n                    </tr>\n\n                    \n\n                    \n\n                </table>\n            </details>\n            </div>\n        </div>\n        \n\n    </details>\n</div>\n\n        </details>\n    </div>\n</div>\n            </details>\n        \n\n    </div>\n</div>"
     },
     "execution_count": 8,
     "metadata": {},
     "output_type": "execute_result"
    }
   ],
   "source": [
    "scheduler = Client()\n",
    "scheduler"
   ],
   "metadata": {
    "collapsed": false
   }
  },
  {
   "cell_type": "markdown",
   "source": [
    "Without Scheduler (see the elapsed time to process)\n",
    "%%time\n",
    "workingDataFrame = readHugeCsvFileAsDataFrame(path_UDPLag)\n",
    "workingDataFrame = readHugeCsvFileAsDataFrame(path_Syn)\n",
    "workingDataFrame = readHugeCsvFileAsDataFrame(path_DdoS_NTP)\n",
    "workingDataFrame = readHugeCsvFileAsDataFrame(path_DdoS_LDAP)\n",
    "workingDataFrame = readHugeCsvFileAsDataFrame(path_DdoS_SSDP)\n",
    "workingDataFrame = readHugeCsvFileAsDataFrame(path_DdoS_UDP)\n",
    "workingDataFrame.describe()\n",
    "workingDataFrame"
   ],
   "metadata": {
    "collapsed": false
   }
  },
  {
   "cell_type": "markdown",
   "source": [
    "With Scheduler (see the elapsed time to process)"
   ],
   "metadata": {
    "collapsed": false
   }
  },
  {
   "cell_type": "code",
   "execution_count": 9,
   "outputs": [
    {
     "name": "stdout",
     "output_type": "stream",
     "text": [
      "Wall time: 1min 44s\n"
     ]
    },
    {
     "data": {
      "text/plain": "     Unnamed: 0                                 Flow ID   Source IP  \\\n0        186059   172.16.0.5-192.168.50.1-58445-4463-17  172.16.0.5   \n1        135692   172.16.0.5-192.168.50.1-36908-9914-17  172.16.0.5   \n2         33822  172.16.0.5-192.168.50.1-41727-32361-17  172.16.0.5   \n3         24498   172.16.0.5-192.168.50.1-55447-5691-17  172.16.0.5   \n4        117372  172.16.0.5-192.168.50.1-58794-56335-17  172.16.0.5   \n..          ...                                     ...         ...   \n122      350624   172.16.0.5-192.168.50.1-60490-14102-6  172.16.0.5   \n123      336856   172.16.0.5-192.168.50.1-60491-58360-6  172.16.0.5   \n124      115128    172.16.0.5-192.168.50.1-60492-2905-6  172.16.0.5   \n125       51370   172.16.0.5-192.168.50.1-60493-45714-6  172.16.0.5   \n126      317173   172.16.0.5-192.168.50.1-60494-44935-6  172.16.0.5   \n\n      Source Port  Destination IP   Destination Port   Protocol  \\\n0           58445    192.168.50.1               4463         17   \n1           36908    192.168.50.1               9914         17   \n2           41727    192.168.50.1              32361         17   \n3           55447    192.168.50.1               5691         17   \n4           58794    192.168.50.1              56335         17   \n..            ...             ...                ...        ...   \n122         60490    192.168.50.1              14102          6   \n123         60491    192.168.50.1              58360          6   \n124         60492    192.168.50.1               2905          6   \n125         60493    192.168.50.1              45714          6   \n126         60494    192.168.50.1              44935          6   \n\n                      Timestamp   Flow Duration   Total Fwd Packets  ...  \\\n0    2018-12-01 13:04:45.928673               1                   2  ...   \n1    2018-12-01 13:04:45.928913               1                   2  ...   \n2    2018-12-01 13:04:45.928915               2                   2  ...   \n3    2018-12-01 13:04:45.929024               2                   2  ...   \n4    2018-12-01 13:04:45.929096               1                   2  ...   \n..                          ...             ...                 ...  ...   \n122  2018-12-01 13:30:30.740273               1                   2  ...   \n123  2018-12-01 13:30:30.740323               1                   2  ...   \n124  2018-12-01 13:30:30.740374               2                   2  ...   \n125  2018-12-01 13:30:30.740424               0                   2  ...   \n126  2018-12-01 13:30:30.740425             134                   2  ...   \n\n      Active Std   Active Max   Active Min  Idle Mean   Idle Std   Idle Max  \\\n0            0.0          0.0          0.0        0.0        0.0        0.0   \n1            0.0          0.0          0.0        0.0        0.0        0.0   \n2            0.0          0.0          0.0        0.0        0.0        0.0   \n3            0.0          0.0          0.0        0.0        0.0        0.0   \n4            0.0          0.0          0.0        0.0        0.0        0.0   \n..           ...          ...          ...        ...        ...        ...   \n122          0.0          0.0          0.0        0.0        0.0        0.0   \n123          0.0          0.0          0.0        0.0        0.0        0.0   \n124          0.0          0.0          0.0        0.0        0.0        0.0   \n125          0.0          0.0          0.0        0.0        0.0        0.0   \n126          0.0          0.0          0.0        0.0        0.0        0.0   \n\n      Idle Min  SimillarHTTP   Inbound    Label  \n0          0.0             0         1  UDP-lag  \n1          0.0             0         1  UDP-lag  \n2          0.0             0         1  UDP-lag  \n3          0.0             0         1  UDP-lag  \n4          0.0             0         1  UDP-lag  \n..         ...           ...       ...      ...  \n122        0.0             0         1  UDP-lag  \n123        0.0             0         1  UDP-lag  \n124        0.0             0         1  UDP-lag  \n125        0.0             0         1  UDP-lag  \n126        0.0             0         1  UDP-lag  \n\n[370605 rows x 88 columns]",
      "text/html": "<div>\n<style scoped>\n    .dataframe tbody tr th:only-of-type {\n        vertical-align: middle;\n    }\n\n    .dataframe tbody tr th {\n        vertical-align: top;\n    }\n\n    .dataframe thead th {\n        text-align: right;\n    }\n</style>\n<table border=\"1\" class=\"dataframe\">\n  <thead>\n    <tr style=\"text-align: right;\">\n      <th></th>\n      <th>Unnamed: 0</th>\n      <th>Flow ID</th>\n      <th>Source IP</th>\n      <th>Source Port</th>\n      <th>Destination IP</th>\n      <th>Destination Port</th>\n      <th>Protocol</th>\n      <th>Timestamp</th>\n      <th>Flow Duration</th>\n      <th>Total Fwd Packets</th>\n      <th>...</th>\n      <th>Active Std</th>\n      <th>Active Max</th>\n      <th>Active Min</th>\n      <th>Idle Mean</th>\n      <th>Idle Std</th>\n      <th>Idle Max</th>\n      <th>Idle Min</th>\n      <th>SimillarHTTP</th>\n      <th>Inbound</th>\n      <th>Label</th>\n    </tr>\n  </thead>\n  <tbody>\n    <tr>\n      <th>0</th>\n      <td>186059</td>\n      <td>172.16.0.5-192.168.50.1-58445-4463-17</td>\n      <td>172.16.0.5</td>\n      <td>58445</td>\n      <td>192.168.50.1</td>\n      <td>4463</td>\n      <td>17</td>\n      <td>2018-12-01 13:04:45.928673</td>\n      <td>1</td>\n      <td>2</td>\n      <td>...</td>\n      <td>0.0</td>\n      <td>0.0</td>\n      <td>0.0</td>\n      <td>0.0</td>\n      <td>0.0</td>\n      <td>0.0</td>\n      <td>0.0</td>\n      <td>0</td>\n      <td>1</td>\n      <td>UDP-lag</td>\n    </tr>\n    <tr>\n      <th>1</th>\n      <td>135692</td>\n      <td>172.16.0.5-192.168.50.1-36908-9914-17</td>\n      <td>172.16.0.5</td>\n      <td>36908</td>\n      <td>192.168.50.1</td>\n      <td>9914</td>\n      <td>17</td>\n      <td>2018-12-01 13:04:45.928913</td>\n      <td>1</td>\n      <td>2</td>\n      <td>...</td>\n      <td>0.0</td>\n      <td>0.0</td>\n      <td>0.0</td>\n      <td>0.0</td>\n      <td>0.0</td>\n      <td>0.0</td>\n      <td>0.0</td>\n      <td>0</td>\n      <td>1</td>\n      <td>UDP-lag</td>\n    </tr>\n    <tr>\n      <th>2</th>\n      <td>33822</td>\n      <td>172.16.0.5-192.168.50.1-41727-32361-17</td>\n      <td>172.16.0.5</td>\n      <td>41727</td>\n      <td>192.168.50.1</td>\n      <td>32361</td>\n      <td>17</td>\n      <td>2018-12-01 13:04:45.928915</td>\n      <td>2</td>\n      <td>2</td>\n      <td>...</td>\n      <td>0.0</td>\n      <td>0.0</td>\n      <td>0.0</td>\n      <td>0.0</td>\n      <td>0.0</td>\n      <td>0.0</td>\n      <td>0.0</td>\n      <td>0</td>\n      <td>1</td>\n      <td>UDP-lag</td>\n    </tr>\n    <tr>\n      <th>3</th>\n      <td>24498</td>\n      <td>172.16.0.5-192.168.50.1-55447-5691-17</td>\n      <td>172.16.0.5</td>\n      <td>55447</td>\n      <td>192.168.50.1</td>\n      <td>5691</td>\n      <td>17</td>\n      <td>2018-12-01 13:04:45.929024</td>\n      <td>2</td>\n      <td>2</td>\n      <td>...</td>\n      <td>0.0</td>\n      <td>0.0</td>\n      <td>0.0</td>\n      <td>0.0</td>\n      <td>0.0</td>\n      <td>0.0</td>\n      <td>0.0</td>\n      <td>0</td>\n      <td>1</td>\n      <td>UDP-lag</td>\n    </tr>\n    <tr>\n      <th>4</th>\n      <td>117372</td>\n      <td>172.16.0.5-192.168.50.1-58794-56335-17</td>\n      <td>172.16.0.5</td>\n      <td>58794</td>\n      <td>192.168.50.1</td>\n      <td>56335</td>\n      <td>17</td>\n      <td>2018-12-01 13:04:45.929096</td>\n      <td>1</td>\n      <td>2</td>\n      <td>...</td>\n      <td>0.0</td>\n      <td>0.0</td>\n      <td>0.0</td>\n      <td>0.0</td>\n      <td>0.0</td>\n      <td>0.0</td>\n      <td>0.0</td>\n      <td>0</td>\n      <td>1</td>\n      <td>UDP-lag</td>\n    </tr>\n    <tr>\n      <th>...</th>\n      <td>...</td>\n      <td>...</td>\n      <td>...</td>\n      <td>...</td>\n      <td>...</td>\n      <td>...</td>\n      <td>...</td>\n      <td>...</td>\n      <td>...</td>\n      <td>...</td>\n      <td>...</td>\n      <td>...</td>\n      <td>...</td>\n      <td>...</td>\n      <td>...</td>\n      <td>...</td>\n      <td>...</td>\n      <td>...</td>\n      <td>...</td>\n      <td>...</td>\n      <td>...</td>\n    </tr>\n    <tr>\n      <th>122</th>\n      <td>350624</td>\n      <td>172.16.0.5-192.168.50.1-60490-14102-6</td>\n      <td>172.16.0.5</td>\n      <td>60490</td>\n      <td>192.168.50.1</td>\n      <td>14102</td>\n      <td>6</td>\n      <td>2018-12-01 13:30:30.740273</td>\n      <td>1</td>\n      <td>2</td>\n      <td>...</td>\n      <td>0.0</td>\n      <td>0.0</td>\n      <td>0.0</td>\n      <td>0.0</td>\n      <td>0.0</td>\n      <td>0.0</td>\n      <td>0.0</td>\n      <td>0</td>\n      <td>1</td>\n      <td>UDP-lag</td>\n    </tr>\n    <tr>\n      <th>123</th>\n      <td>336856</td>\n      <td>172.16.0.5-192.168.50.1-60491-58360-6</td>\n      <td>172.16.0.5</td>\n      <td>60491</td>\n      <td>192.168.50.1</td>\n      <td>58360</td>\n      <td>6</td>\n      <td>2018-12-01 13:30:30.740323</td>\n      <td>1</td>\n      <td>2</td>\n      <td>...</td>\n      <td>0.0</td>\n      <td>0.0</td>\n      <td>0.0</td>\n      <td>0.0</td>\n      <td>0.0</td>\n      <td>0.0</td>\n      <td>0.0</td>\n      <td>0</td>\n      <td>1</td>\n      <td>UDP-lag</td>\n    </tr>\n    <tr>\n      <th>124</th>\n      <td>115128</td>\n      <td>172.16.0.5-192.168.50.1-60492-2905-6</td>\n      <td>172.16.0.5</td>\n      <td>60492</td>\n      <td>192.168.50.1</td>\n      <td>2905</td>\n      <td>6</td>\n      <td>2018-12-01 13:30:30.740374</td>\n      <td>2</td>\n      <td>2</td>\n      <td>...</td>\n      <td>0.0</td>\n      <td>0.0</td>\n      <td>0.0</td>\n      <td>0.0</td>\n      <td>0.0</td>\n      <td>0.0</td>\n      <td>0.0</td>\n      <td>0</td>\n      <td>1</td>\n      <td>UDP-lag</td>\n    </tr>\n    <tr>\n      <th>125</th>\n      <td>51370</td>\n      <td>172.16.0.5-192.168.50.1-60493-45714-6</td>\n      <td>172.16.0.5</td>\n      <td>60493</td>\n      <td>192.168.50.1</td>\n      <td>45714</td>\n      <td>6</td>\n      <td>2018-12-01 13:30:30.740424</td>\n      <td>0</td>\n      <td>2</td>\n      <td>...</td>\n      <td>0.0</td>\n      <td>0.0</td>\n      <td>0.0</td>\n      <td>0.0</td>\n      <td>0.0</td>\n      <td>0.0</td>\n      <td>0.0</td>\n      <td>0</td>\n      <td>1</td>\n      <td>UDP-lag</td>\n    </tr>\n    <tr>\n      <th>126</th>\n      <td>317173</td>\n      <td>172.16.0.5-192.168.50.1-60494-44935-6</td>\n      <td>172.16.0.5</td>\n      <td>60494</td>\n      <td>192.168.50.1</td>\n      <td>44935</td>\n      <td>6</td>\n      <td>2018-12-01 13:30:30.740425</td>\n      <td>134</td>\n      <td>2</td>\n      <td>...</td>\n      <td>0.0</td>\n      <td>0.0</td>\n      <td>0.0</td>\n      <td>0.0</td>\n      <td>0.0</td>\n      <td>0.0</td>\n      <td>0.0</td>\n      <td>0</td>\n      <td>1</td>\n      <td>UDP-lag</td>\n    </tr>\n  </tbody>\n</table>\n<p>370605 rows × 88 columns</p>\n</div>"
     },
     "execution_count": 9,
     "metadata": {},
     "output_type": "execute_result"
    }
   ],
   "source": [
    "%%time\n",
    "df = scheduler.submit(readHugeCsvFileAsDataFrame, path_UDPLag)\n",
    "workingDataFrame = df.result()\n",
    "workingDataFrame"
   ],
   "metadata": {
    "collapsed": false
   }
  },
  {
   "cell_type": "code",
   "execution_count": 10,
   "outputs": [
    {
     "data": {
      "text/plain": "88"
     },
     "execution_count": 10,
     "metadata": {},
     "output_type": "execute_result"
    }
   ],
   "source": [
    "len(list(workingDataFrame.columns))"
   ],
   "metadata": {
    "collapsed": false
   }
  },
  {
   "cell_type": "markdown",
   "source": [
    "Dropping Unnecessary Features & maintaing column consistency"
   ],
   "metadata": {
    "collapsed": false
   }
  },
  {
   "cell_type": "code",
   "execution_count": 11,
   "outputs": [
    {
     "data": {
      "text/plain": "    Source IP  Source Port Destination IP  Destination Port  Protocol  \\\n0  172.16.0.5        58445   192.168.50.1              4463        17   \n1  172.16.0.5        36908   192.168.50.1              9914        17   \n2  172.16.0.5        41727   192.168.50.1             32361        17   \n3  172.16.0.5        55447   192.168.50.1              5691        17   \n4  172.16.0.5        58794   192.168.50.1             56335        17   \n\n   Flow Duration  Total Fwd Packets  Total Backward Packets  \\\n0              1                  2                       0   \n1              1                  2                       0   \n2              2                  2                       0   \n3              2                  2                       0   \n4              1                  2                       0   \n\n   Fwd Packets Length Total  Bwd Packets Length Total  ...  Fwd Seg Size Min  \\\n0                     766.0                       0.0  ...                -1   \n1                     778.0                       0.0  ...                -1   \n2                     750.0                       0.0  ...                -1   \n3                     738.0                       0.0  ...                -1   \n4                     750.0                       0.0  ...                -1   \n\n   Active Mean  Active Std  Active Max  Active Min  Idle Mean  Idle Std  \\\n0          0.0         0.0         0.0         0.0        0.0       0.0   \n1          0.0         0.0         0.0         0.0        0.0       0.0   \n2          0.0         0.0         0.0         0.0        0.0       0.0   \n3          0.0         0.0         0.0         0.0        0.0       0.0   \n4          0.0         0.0         0.0         0.0        0.0       0.0   \n\n   Idle Max  Idle Min    Label  \n0       0.0       0.0  UDP-lag  \n1       0.0       0.0  UDP-lag  \n2       0.0       0.0  UDP-lag  \n3       0.0       0.0  UDP-lag  \n4       0.0       0.0  UDP-lag  \n\n[5 rows x 82 columns]",
      "text/html": "<div>\n<style scoped>\n    .dataframe tbody tr th:only-of-type {\n        vertical-align: middle;\n    }\n\n    .dataframe tbody tr th {\n        vertical-align: top;\n    }\n\n    .dataframe thead th {\n        text-align: right;\n    }\n</style>\n<table border=\"1\" class=\"dataframe\">\n  <thead>\n    <tr style=\"text-align: right;\">\n      <th></th>\n      <th>Source IP</th>\n      <th>Source Port</th>\n      <th>Destination IP</th>\n      <th>Destination Port</th>\n      <th>Protocol</th>\n      <th>Flow Duration</th>\n      <th>Total Fwd Packets</th>\n      <th>Total Backward Packets</th>\n      <th>Fwd Packets Length Total</th>\n      <th>Bwd Packets Length Total</th>\n      <th>...</th>\n      <th>Fwd Seg Size Min</th>\n      <th>Active Mean</th>\n      <th>Active Std</th>\n      <th>Active Max</th>\n      <th>Active Min</th>\n      <th>Idle Mean</th>\n      <th>Idle Std</th>\n      <th>Idle Max</th>\n      <th>Idle Min</th>\n      <th>Label</th>\n    </tr>\n  </thead>\n  <tbody>\n    <tr>\n      <th>0</th>\n      <td>172.16.0.5</td>\n      <td>58445</td>\n      <td>192.168.50.1</td>\n      <td>4463</td>\n      <td>17</td>\n      <td>1</td>\n      <td>2</td>\n      <td>0</td>\n      <td>766.0</td>\n      <td>0.0</td>\n      <td>...</td>\n      <td>-1</td>\n      <td>0.0</td>\n      <td>0.0</td>\n      <td>0.0</td>\n      <td>0.0</td>\n      <td>0.0</td>\n      <td>0.0</td>\n      <td>0.0</td>\n      <td>0.0</td>\n      <td>UDP-lag</td>\n    </tr>\n    <tr>\n      <th>1</th>\n      <td>172.16.0.5</td>\n      <td>36908</td>\n      <td>192.168.50.1</td>\n      <td>9914</td>\n      <td>17</td>\n      <td>1</td>\n      <td>2</td>\n      <td>0</td>\n      <td>778.0</td>\n      <td>0.0</td>\n      <td>...</td>\n      <td>-1</td>\n      <td>0.0</td>\n      <td>0.0</td>\n      <td>0.0</td>\n      <td>0.0</td>\n      <td>0.0</td>\n      <td>0.0</td>\n      <td>0.0</td>\n      <td>0.0</td>\n      <td>UDP-lag</td>\n    </tr>\n    <tr>\n      <th>2</th>\n      <td>172.16.0.5</td>\n      <td>41727</td>\n      <td>192.168.50.1</td>\n      <td>32361</td>\n      <td>17</td>\n      <td>2</td>\n      <td>2</td>\n      <td>0</td>\n      <td>750.0</td>\n      <td>0.0</td>\n      <td>...</td>\n      <td>-1</td>\n      <td>0.0</td>\n      <td>0.0</td>\n      <td>0.0</td>\n      <td>0.0</td>\n      <td>0.0</td>\n      <td>0.0</td>\n      <td>0.0</td>\n      <td>0.0</td>\n      <td>UDP-lag</td>\n    </tr>\n    <tr>\n      <th>3</th>\n      <td>172.16.0.5</td>\n      <td>55447</td>\n      <td>192.168.50.1</td>\n      <td>5691</td>\n      <td>17</td>\n      <td>2</td>\n      <td>2</td>\n      <td>0</td>\n      <td>738.0</td>\n      <td>0.0</td>\n      <td>...</td>\n      <td>-1</td>\n      <td>0.0</td>\n      <td>0.0</td>\n      <td>0.0</td>\n      <td>0.0</td>\n      <td>0.0</td>\n      <td>0.0</td>\n      <td>0.0</td>\n      <td>0.0</td>\n      <td>UDP-lag</td>\n    </tr>\n    <tr>\n      <th>4</th>\n      <td>172.16.0.5</td>\n      <td>58794</td>\n      <td>192.168.50.1</td>\n      <td>56335</td>\n      <td>17</td>\n      <td>1</td>\n      <td>2</td>\n      <td>0</td>\n      <td>750.0</td>\n      <td>0.0</td>\n      <td>...</td>\n      <td>-1</td>\n      <td>0.0</td>\n      <td>0.0</td>\n      <td>0.0</td>\n      <td>0.0</td>\n      <td>0.0</td>\n      <td>0.0</td>\n      <td>0.0</td>\n      <td>0.0</td>\n      <td>UDP-lag</td>\n    </tr>\n  </tbody>\n</table>\n<p>5 rows × 82 columns</p>\n</div>"
     },
     "execution_count": 11,
     "metadata": {},
     "output_type": "execute_result"
    }
   ],
   "source": [
    "workingDataFrame.columns = workingDataFrame.columns.str.strip()  # sometimes there's leading / trailing whitespace\n",
    "workingDataFrame.drop(columns=drop_columns, inplace=True, errors='ignore')\n",
    "workingDataFrame.rename(columns=col_name_consistency, inplace=True)\n",
    "\n",
    "workingDataFrame.head()"
   ],
   "metadata": {
    "collapsed": false
   }
  },
  {
   "cell_type": "markdown",
   "source": [
    "Data Cleaning Based on Data Types (DownSizing)"
   ],
   "metadata": {
    "collapsed": false
   }
  },
  {
   "cell_type": "code",
   "execution_count": 12,
   "outputs": [
    {
     "name": "stdout",
     "output_type": "stream",
     "text": [
      "<class 'pandas.core.frame.DataFrame'>\n",
      "Int64Index: 370605 entries, 0 to 126\n",
      "Data columns (total 82 columns):\n",
      " #   Column                    Non-Null Count   Dtype  \n",
      "---  ------                    --------------   -----  \n",
      " 0   Source IP                 370605 non-null  object \n",
      " 1   Source Port               370605 non-null  int64  \n",
      " 2   Destination IP            370605 non-null  object \n",
      " 3   Destination Port          370605 non-null  int64  \n",
      " 4   Protocol                  370605 non-null  int64  \n",
      " 5   Flow Duration             370605 non-null  int64  \n",
      " 6   Total Fwd Packets         370605 non-null  int64  \n",
      " 7   Total Backward Packets    370605 non-null  int64  \n",
      " 8   Fwd Packets Length Total  370605 non-null  float64\n",
      " 9   Bwd Packets Length Total  370605 non-null  float64\n",
      " 10  Fwd Packet Length Max     370605 non-null  float64\n",
      " 11  Fwd Packet Length Min     370605 non-null  float64\n",
      " 12  Fwd Packet Length Mean    370605 non-null  float64\n",
      " 13  Fwd Packet Length Std     370605 non-null  float64\n",
      " 14  Bwd Packet Length Max     370605 non-null  float64\n",
      " 15  Bwd Packet Length Min     370605 non-null  float64\n",
      " 16  Bwd Packet Length Mean    370605 non-null  float64\n",
      " 17  Bwd Packet Length Std     370605 non-null  float64\n",
      " 18  Flow Bytes/s              334473 non-null  float64\n",
      " 19  Flow Packets/s            370605 non-null  float64\n",
      " 20  Flow IAT Mean             370605 non-null  float64\n",
      " 21  Flow IAT Std              370605 non-null  float64\n",
      " 22  Flow IAT Max              370605 non-null  float64\n",
      " 23  Flow IAT Min              370605 non-null  float64\n",
      " 24  Fwd IAT Total             370605 non-null  float64\n",
      " 25  Fwd IAT Mean              370605 non-null  float64\n",
      " 26  Fwd IAT Std               370605 non-null  float64\n",
      " 27  Fwd IAT Max               370605 non-null  float64\n",
      " 28  Fwd IAT Min               370605 non-null  float64\n",
      " 29  Bwd IAT Total             370605 non-null  float64\n",
      " 30  Bwd IAT Mean              370605 non-null  float64\n",
      " 31  Bwd IAT Std               370605 non-null  float64\n",
      " 32  Bwd IAT Max               370605 non-null  float64\n",
      " 33  Bwd IAT Min               370605 non-null  float64\n",
      " 34  Fwd PSH Flags             370605 non-null  int64  \n",
      " 35  Bwd PSH Flags             370605 non-null  int64  \n",
      " 36  Fwd URG Flags             370605 non-null  int64  \n",
      " 37  Bwd URG Flags             370605 non-null  int64  \n",
      " 38  Fwd Header Length         370605 non-null  int64  \n",
      " 39  Bwd Header Length         370605 non-null  int64  \n",
      " 40  Fwd Packets/s             370605 non-null  float64\n",
      " 41  Bwd Packets/s             370605 non-null  float64\n",
      " 42  Packet Length Min         370605 non-null  float64\n",
      " 43  Packet Length Max         370605 non-null  float64\n",
      " 44  Packet Length Mean        370605 non-null  float64\n",
      " 45  Packet Length Std         370605 non-null  float64\n",
      " 46  Packet Length Variance    370605 non-null  float64\n",
      " 47  FIN Flag Count            370605 non-null  int64  \n",
      " 48  SYN Flag Count            370605 non-null  int64  \n",
      " 49  RST Flag Count            370605 non-null  int64  \n",
      " 50  PSH Flag Count            370605 non-null  int64  \n",
      " 51  ACK Flag Count            370605 non-null  int64  \n",
      " 52  URG Flag Count            370605 non-null  int64  \n",
      " 53  CWE Flag Count            370605 non-null  int64  \n",
      " 54  ECE Flag Count            370605 non-null  int64  \n",
      " 55  Down/Up Ratio             370605 non-null  float64\n",
      " 56  Avg Packet Size           370605 non-null  float64\n",
      " 57  Avg Fwd Segment Size      370605 non-null  float64\n",
      " 58  Avg Bwd Segment Size      370605 non-null  float64\n",
      " 59  Fwd Avg Bytes/Bulk        370605 non-null  int64  \n",
      " 60  Fwd Avg Packets/Bulk      370605 non-null  int64  \n",
      " 61  Fwd Avg Bulk Rate         370605 non-null  int64  \n",
      " 62  Bwd Avg Bytes/Bulk        370605 non-null  int64  \n",
      " 63  Bwd Avg Packets/Bulk      370605 non-null  int64  \n",
      " 64  Bwd Avg Bulk Rate         370605 non-null  int64  \n",
      " 65  Subflow Fwd Packets       370605 non-null  int64  \n",
      " 66  Subflow Fwd Bytes         370605 non-null  int64  \n",
      " 67  Subflow Bwd Packets       370605 non-null  int64  \n",
      " 68  Subflow Bwd Bytes         370605 non-null  int64  \n",
      " 69  Init Fwd Win Bytes        370605 non-null  int64  \n",
      " 70  Init Bwd Win Bytes        370605 non-null  int64  \n",
      " 71  Fwd Act Data Packets      370605 non-null  int64  \n",
      " 72  Fwd Seg Size Min          370605 non-null  int64  \n",
      " 73  Active Mean               370605 non-null  float64\n",
      " 74  Active Std                370605 non-null  float64\n",
      " 75  Active Max                370605 non-null  float64\n",
      " 76  Active Min                370605 non-null  float64\n",
      " 77  Idle Mean                 370605 non-null  float64\n",
      " 78  Idle Std                  370605 non-null  float64\n",
      " 79  Idle Max                  370605 non-null  float64\n",
      " 80  Idle Min                  370605 non-null  float64\n",
      " 81  Label                     370605 non-null  object \n",
      "dtypes: float64(45), int64(34), object(3)\n",
      "memory usage: 296.9 MB\n"
     ]
    }
   ],
   "source": [
    "# workingDataFrame.dtypes\n",
    "workingDataFrame.info(memory_usage=\"deep\")"
   ],
   "metadata": {
    "collapsed": false
   }
  },
  {
   "cell_type": "code",
   "execution_count": 13,
   "outputs": [
    {
     "name": "stdout",
     "output_type": "stream",
     "text": [
      "<class 'pandas.core.frame.DataFrame'>\n",
      "Int64Index: 370605 entries, 0 to 126\n",
      "Data columns (total 82 columns):\n",
      " #   Column                    Non-Null Count   Dtype  \n",
      "---  ------                    --------------   -----  \n",
      " 0   Source IP                 370605 non-null  object \n",
      " 1   Source Port               370605 non-null  int32  \n",
      " 2   Destination IP            370605 non-null  object \n",
      " 3   Destination Port          370605 non-null  int32  \n",
      " 4   Protocol                  370605 non-null  int8   \n",
      " 5   Flow Duration             370605 non-null  int32  \n",
      " 6   Total Fwd Packets         370605 non-null  int16  \n",
      " 7   Total Backward Packets    370605 non-null  int16  \n",
      " 8   Fwd Packets Length Total  370605 non-null  float32\n",
      " 9   Bwd Packets Length Total  370605 non-null  float32\n",
      " 10  Fwd Packet Length Max     370605 non-null  float32\n",
      " 11  Fwd Packet Length Min     370605 non-null  float32\n",
      " 12  Fwd Packet Length Mean    370605 non-null  float32\n",
      " 13  Fwd Packet Length Std     370605 non-null  float32\n",
      " 14  Bwd Packet Length Max     370605 non-null  float32\n",
      " 15  Bwd Packet Length Min     370605 non-null  float32\n",
      " 16  Bwd Packet Length Mean    370605 non-null  float32\n",
      " 17  Bwd Packet Length Std     370605 non-null  float32\n",
      " 18  Flow Bytes/s              334473 non-null  float32\n",
      " 19  Flow Packets/s            370605 non-null  float32\n",
      " 20  Flow IAT Mean             370605 non-null  float32\n",
      " 21  Flow IAT Std              370605 non-null  float32\n",
      " 22  Flow IAT Max              370605 non-null  float32\n",
      " 23  Flow IAT Min              370605 non-null  float32\n",
      " 24  Fwd IAT Total             370605 non-null  float32\n",
      " 25  Fwd IAT Mean              370605 non-null  float32\n",
      " 26  Fwd IAT Std               370605 non-null  float32\n",
      " 27  Fwd IAT Max               370605 non-null  float32\n",
      " 28  Fwd IAT Min               370605 non-null  float32\n",
      " 29  Bwd IAT Total             370605 non-null  float32\n",
      " 30  Bwd IAT Mean              370605 non-null  float32\n",
      " 31  Bwd IAT Std               370605 non-null  float32\n",
      " 32  Bwd IAT Max               370605 non-null  float32\n",
      " 33  Bwd IAT Min               370605 non-null  float32\n",
      " 34  Fwd PSH Flags             370605 non-null  int8   \n",
      " 35  Bwd PSH Flags             370605 non-null  int8   \n",
      " 36  Fwd URG Flags             370605 non-null  int8   \n",
      " 37  Bwd URG Flags             370605 non-null  int8   \n",
      " 38  Fwd Header Length         370605 non-null  int64  \n",
      " 39  Bwd Header Length         370605 non-null  int16  \n",
      " 40  Fwd Packets/s             370605 non-null  float32\n",
      " 41  Bwd Packets/s             370605 non-null  float32\n",
      " 42  Packet Length Min         370605 non-null  float32\n",
      " 43  Packet Length Max         370605 non-null  float32\n",
      " 44  Packet Length Mean        370605 non-null  float32\n",
      " 45  Packet Length Std         370605 non-null  float32\n",
      " 46  Packet Length Variance    370605 non-null  float32\n",
      " 47  FIN Flag Count            370605 non-null  int8   \n",
      " 48  SYN Flag Count            370605 non-null  int8   \n",
      " 49  RST Flag Count            370605 non-null  int8   \n",
      " 50  PSH Flag Count            370605 non-null  int8   \n",
      " 51  ACK Flag Count            370605 non-null  int8   \n",
      " 52  URG Flag Count            370605 non-null  int8   \n",
      " 53  CWE Flag Count            370605 non-null  int8   \n",
      " 54  ECE Flag Count            370605 non-null  int8   \n",
      " 55  Down/Up Ratio             370605 non-null  float32\n",
      " 56  Avg Packet Size           370605 non-null  float32\n",
      " 57  Avg Fwd Segment Size      370605 non-null  float32\n",
      " 58  Avg Bwd Segment Size      370605 non-null  float32\n",
      " 59  Fwd Avg Bytes/Bulk        370605 non-null  int8   \n",
      " 60  Fwd Avg Packets/Bulk      370605 non-null  int8   \n",
      " 61  Fwd Avg Bulk Rate         370605 non-null  int8   \n",
      " 62  Bwd Avg Bytes/Bulk        370605 non-null  int8   \n",
      " 63  Bwd Avg Packets/Bulk      370605 non-null  int8   \n",
      " 64  Bwd Avg Bulk Rate         370605 non-null  int8   \n",
      " 65  Subflow Fwd Packets       370605 non-null  int16  \n",
      " 66  Subflow Fwd Bytes         370605 non-null  int32  \n",
      " 67  Subflow Bwd Packets       370605 non-null  int16  \n",
      " 68  Subflow Bwd Bytes         370605 non-null  int32  \n",
      " 69  Init Fwd Win Bytes        370605 non-null  int32  \n",
      " 70  Init Bwd Win Bytes        370605 non-null  int32  \n",
      " 71  Fwd Act Data Packets      370605 non-null  int8   \n",
      " 72  Fwd Seg Size Min          370605 non-null  int32  \n",
      " 73  Active Mean               370605 non-null  float32\n",
      " 74  Active Std                370605 non-null  float32\n",
      " 75  Active Max                370605 non-null  float32\n",
      " 76  Active Min                370605 non-null  float32\n",
      " 77  Idle Mean                 370605 non-null  float32\n",
      " 78  Idle Std                  370605 non-null  float32\n",
      " 79  Idle Max                  370605 non-null  float32\n",
      " 80  Idle Min                  370605 non-null  float32\n",
      " 81  Label                     370605 non-null  object \n",
      "dtypes: float32(45), int16(5), int32(8), int64(1), int8(20), object(3)\n",
      "memory usage: 161.9 MB\n"
     ]
    }
   ],
   "source": [
    "# converting 64bit float to 32 bit float & 64bit integer to 8bit integer\n",
    "for column in workingDataFrame:\n",
    "    if workingDataFrame[column].dtype == 'float64':\n",
    "        workingDataFrame[column] = pd.to_numeric(workingDataFrame[column], downcast='float')\n",
    "    if workingDataFrame[column].dtype == 'int64':\n",
    "        workingDataFrame[column] = pd.to_numeric(workingDataFrame[column], downcast='integer')\n",
    "\n",
    "workingDataFrame.info(memory_usage=\"deep\") # observe the dTypes"
   ],
   "metadata": {
    "collapsed": false
   }
  },
  {
   "cell_type": "markdown",
   "source": [
    "Finding number of missing values contains features in the dataset"
   ],
   "metadata": {
    "collapsed": false
   }
  },
  {
   "cell_type": "code",
   "execution_count": 14,
   "outputs": [
    {
     "data": {
      "text/plain": "Source IP           0\nSource Port         0\nDestination IP      0\nDestination Port    0\nProtocol            0\n                   ..\nIdle Mean           0\nIdle Std            0\nIdle Max            0\nIdle Min            0\nLabel               0\nLength: 82, dtype: int64"
     },
     "execution_count": 14,
     "metadata": {},
     "output_type": "execute_result"
    }
   ],
   "source": [
    "workingDataFrame.isnull().sum()"
   ],
   "metadata": {
    "collapsed": false
   }
  },
  {
   "cell_type": "markdown",
   "source": [
    "Removing NaN values"
   ],
   "metadata": {
    "collapsed": false
   }
  },
  {
   "cell_type": "code",
   "execution_count": 15,
   "outputs": [
    {
     "data": {
      "text/plain": "36132"
     },
     "execution_count": 15,
     "metadata": {},
     "output_type": "execute_result"
    }
   ],
   "source": [
    "workingDataFrame.isna().any(axis=1).sum()\n",
    "# workingDataFrame.isna().sum()"
   ],
   "metadata": {
    "collapsed": false
   }
  },
  {
   "cell_type": "markdown",
   "source": [],
   "metadata": {
    "collapsed": false
   }
  },
  {
   "cell_type": "code",
   "execution_count": 16,
   "outputs": [
    {
     "data": {
      "text/plain": "36403"
     },
     "execution_count": 16,
     "metadata": {},
     "output_type": "execute_result"
    }
   ],
   "source": [
    "workingDataFrame.replace([np.inf, -np.inf], np.nan, inplace=True)\n",
    "workingDataFrame.isna().any(axis=1).sum()"
   ],
   "metadata": {
    "collapsed": false
   }
  },
  {
   "cell_type": "markdown",
   "source": [
    "After Dropping NaN values, want to see total rows."
   ],
   "metadata": {
    "collapsed": false
   }
  },
  {
   "cell_type": "code",
   "execution_count": 17,
   "outputs": [
    {
     "name": "stdout",
     "output_type": "stream",
     "text": [
      "After dropping NaN values, number of rows: 334202\n",
      "After dropping NaN values, number of columns: 82\n"
     ]
    }
   ],
   "source": [
    "workingDataFrame.dropna(inplace=True)\n",
    "print(f\"After dropping NaN values, number of rows: {workingDataFrame.shape[0]}\")\n",
    "print(f\"After dropping NaN values, number of columns: {workingDataFrame.shape[1]}\")"
   ],
   "metadata": {
    "collapsed": false
   }
  },
  {
   "cell_type": "markdown",
   "source": [
    "That's why, Converting pandas dataFrame into dask's dataFrame"
   ],
   "metadata": {
    "collapsed": false
   }
  },
  {
   "cell_type": "markdown",
   "source": [
    "ddf = dd.from_pandas(workingDataFrame, npartitions=10)\n",
    "ddf.compute()"
   ],
   "metadata": {
    "collapsed": false
   }
  },
  {
   "cell_type": "markdown",
   "source": [
    "Dropping Duplicates\n",
    "There should be no duplicates because they can bias training and can lead to over-optimistic estimates of classification performance during testing."
   ],
   "metadata": {
    "collapsed": false
   }
  },
  {
   "cell_type": "code",
   "execution_count": 18,
   "outputs": [
    {
     "data": {
      "text/plain": "9"
     },
     "execution_count": 18,
     "metadata": {},
     "output_type": "execute_result"
    }
   ],
   "source": [
    "workingDataFrame.duplicated().sum()"
   ],
   "metadata": {
    "collapsed": false
   }
  },
  {
   "cell_type": "markdown",
   "source": [
    "Fully duplicate rows to be removed"
   ],
   "metadata": {
    "collapsed": false
   }
  },
  {
   "cell_type": "code",
   "execution_count": 19,
   "outputs": [
    {
     "name": "stdout",
     "output_type": "stream",
     "text": [
      "After dropping NaN values, number of rows: 334193\n",
      "After dropping NaN values, number of columns: 82\n",
      "After dropping NaN values, unique no of Source IP: 117\n",
      "After dropping NaN values, unique no of Destination IP: 138\n"
     ]
    }
   ],
   "source": [
    "workingDataFrame.drop_duplicates(inplace=True)\n",
    "workingDataFrame.reset_index(inplace=True, drop=True)\n",
    "print(f\"After dropping NaN values, number of rows: {workingDataFrame.shape[0]}\")\n",
    "print(f\"After dropping NaN values, number of columns: {workingDataFrame.shape[1]}\")\n",
    "print(f\"After dropping NaN values, unique no of Source IP: {workingDataFrame['Source IP'].nunique()}\")\n",
    "print(f\"After dropping NaN values, unique no of Destination IP: {workingDataFrame['Destination IP'].nunique()}\")\n",
    "# print(workingDataFrame[\"Source IP\"].unique())\n",
    "# print(workingDataFrame[\"Destination IP\"].unique())"
   ],
   "metadata": {
    "collapsed": false
   }
  },
  {
   "cell_type": "markdown",
   "source": [
    "After data cleaning, how much storage it holds now"
   ],
   "metadata": {
    "collapsed": false
   }
  },
  {
   "cell_type": "code",
   "execution_count": 20,
   "outputs": [
    {
     "name": "stdout",
     "output_type": "stream",
     "text": [
      "<class 'pandas.core.frame.DataFrame'>\n",
      "RangeIndex: 334193 entries, 0 to 334192\n",
      "Data columns (total 82 columns):\n",
      " #   Column                    Non-Null Count   Dtype  \n",
      "---  ------                    --------------   -----  \n",
      " 0   Source IP                 334193 non-null  object \n",
      " 1   Source Port               334193 non-null  int32  \n",
      " 2   Destination IP            334193 non-null  object \n",
      " 3   Destination Port          334193 non-null  int32  \n",
      " 4   Protocol                  334193 non-null  int8   \n",
      " 5   Flow Duration             334193 non-null  int32  \n",
      " 6   Total Fwd Packets         334193 non-null  int16  \n",
      " 7   Total Backward Packets    334193 non-null  int16  \n",
      " 8   Fwd Packets Length Total  334193 non-null  float64\n",
      " 9   Bwd Packets Length Total  334193 non-null  float64\n",
      " 10  Fwd Packet Length Max     334193 non-null  float64\n",
      " 11  Fwd Packet Length Min     334193 non-null  float64\n",
      " 12  Fwd Packet Length Mean    334193 non-null  float64\n",
      " 13  Fwd Packet Length Std     334193 non-null  float64\n",
      " 14  Bwd Packet Length Max     334193 non-null  float64\n",
      " 15  Bwd Packet Length Min     334193 non-null  float64\n",
      " 16  Bwd Packet Length Mean    334193 non-null  float64\n",
      " 17  Bwd Packet Length Std     334193 non-null  float64\n",
      " 18  Flow Bytes/s              334193 non-null  float64\n",
      " 19  Flow Packets/s            334193 non-null  float64\n",
      " 20  Flow IAT Mean             334193 non-null  float64\n",
      " 21  Flow IAT Std              334193 non-null  float64\n",
      " 22  Flow IAT Max              334193 non-null  float64\n",
      " 23  Flow IAT Min              334193 non-null  float64\n",
      " 24  Fwd IAT Total             334193 non-null  float64\n",
      " 25  Fwd IAT Mean              334193 non-null  float64\n",
      " 26  Fwd IAT Std               334193 non-null  float64\n",
      " 27  Fwd IAT Max               334193 non-null  float64\n",
      " 28  Fwd IAT Min               334193 non-null  float64\n",
      " 29  Bwd IAT Total             334193 non-null  float64\n",
      " 30  Bwd IAT Mean              334193 non-null  float64\n",
      " 31  Bwd IAT Std               334193 non-null  float64\n",
      " 32  Bwd IAT Max               334193 non-null  float64\n",
      " 33  Bwd IAT Min               334193 non-null  float64\n",
      " 34  Fwd PSH Flags             334193 non-null  int8   \n",
      " 35  Bwd PSH Flags             334193 non-null  int8   \n",
      " 36  Fwd URG Flags             334193 non-null  int8   \n",
      " 37  Bwd URG Flags             334193 non-null  int8   \n",
      " 38  Fwd Header Length         334193 non-null  int64  \n",
      " 39  Bwd Header Length         334193 non-null  int16  \n",
      " 40  Fwd Packets/s             334193 non-null  float64\n",
      " 41  Bwd Packets/s             334193 non-null  float64\n",
      " 42  Packet Length Min         334193 non-null  float64\n",
      " 43  Packet Length Max         334193 non-null  float64\n",
      " 44  Packet Length Mean        334193 non-null  float64\n",
      " 45  Packet Length Std         334193 non-null  float64\n",
      " 46  Packet Length Variance    334193 non-null  float64\n",
      " 47  FIN Flag Count            334193 non-null  int8   \n",
      " 48  SYN Flag Count            334193 non-null  int8   \n",
      " 49  RST Flag Count            334193 non-null  int8   \n",
      " 50  PSH Flag Count            334193 non-null  int8   \n",
      " 51  ACK Flag Count            334193 non-null  int8   \n",
      " 52  URG Flag Count            334193 non-null  int8   \n",
      " 53  CWE Flag Count            334193 non-null  int8   \n",
      " 54  ECE Flag Count            334193 non-null  int8   \n",
      " 55  Down/Up Ratio             334193 non-null  float64\n",
      " 56  Avg Packet Size           334193 non-null  float64\n",
      " 57  Avg Fwd Segment Size      334193 non-null  float64\n",
      " 58  Avg Bwd Segment Size      334193 non-null  float64\n",
      " 59  Fwd Avg Bytes/Bulk        334193 non-null  int8   \n",
      " 60  Fwd Avg Packets/Bulk      334193 non-null  int8   \n",
      " 61  Fwd Avg Bulk Rate         334193 non-null  int8   \n",
      " 62  Bwd Avg Bytes/Bulk        334193 non-null  int8   \n",
      " 63  Bwd Avg Packets/Bulk      334193 non-null  int8   \n",
      " 64  Bwd Avg Bulk Rate         334193 non-null  int8   \n",
      " 65  Subflow Fwd Packets       334193 non-null  int16  \n",
      " 66  Subflow Fwd Bytes         334193 non-null  int32  \n",
      " 67  Subflow Bwd Packets       334193 non-null  int16  \n",
      " 68  Subflow Bwd Bytes         334193 non-null  int32  \n",
      " 69  Init Fwd Win Bytes        334193 non-null  int32  \n",
      " 70  Init Bwd Win Bytes        334193 non-null  int32  \n",
      " 71  Fwd Act Data Packets      334193 non-null  int8   \n",
      " 72  Fwd Seg Size Min          334193 non-null  int32  \n",
      " 73  Active Mean               334193 non-null  float64\n",
      " 74  Active Std                334193 non-null  float64\n",
      " 75  Active Max                334193 non-null  float64\n",
      " 76  Active Min                334193 non-null  float64\n",
      " 77  Idle Mean                 334193 non-null  float64\n",
      " 78  Idle Std                  334193 non-null  float64\n",
      " 79  Idle Max                  334193 non-null  float64\n",
      " 80  Idle Min                  334193 non-null  float64\n",
      " 81  Label                     334193 non-null  object \n",
      "dtypes: float64(45), int16(5), int32(8), int64(1), int8(20), object(3)\n",
      "memory usage: 200.8 MB\n"
     ]
    }
   ],
   "source": [
    "workingDataFrame.info(memory_usage=\"deep\")"
   ],
   "metadata": {
    "collapsed": false
   }
  },
  {
   "cell_type": "code",
   "execution_count": 21,
   "outputs": [
    {
     "data": {
      "text/plain": "Summarize dataset:   0%|          | 0/5 [00:00<?, ?it/s]",
      "application/vnd.jupyter.widget-view+json": {
       "version_major": 2,
       "version_minor": 0,
       "model_id": "f47acd1af53b433bbe697250d7b5012c"
      }
     },
     "metadata": {},
     "output_type": "display_data"
    },
    {
     "name": "stderr",
     "output_type": "stream",
     "text": [
      "ERROR:root:Internal Python error in the inspect module.\n",
      "Below is the traceback from this internal error.\n",
      "\n",
      "distributed.nanny - WARNING - Restarting worker\n",
      "distributed.nanny - WARNING - Restarting worker\n",
      "distributed.nanny - WARNING - Restarting worker\n",
      "distributed.nanny - WARNING - Restarting worker\n"
     ]
    },
    {
     "name": "stdout",
     "output_type": "stream",
     "text": [
      "Traceback (most recent call last):\n",
      "  File \"C:\\Users\\Malware\\anaconda3\\envs\\cp_env\\lib\\site-packages\\IPython\\core\\interactiveshell.py\", line 3552, in run_code\n",
      "    exec(code_obj, self.user_global_ns, self.user_ns)\n",
      "  File \"C:\\Users\\Malware\\AppData\\Local\\Temp\\ipykernel_15740\\3482013782.py\", line 3, in <module>\n",
      "    profile.to_file(\"rainfall.html\")\n",
      "  File \"C:\\Users\\Malware\\AppData\\Roaming\\Python\\Python37\\site-packages\\typeguard\\__init__.py\", line 1033, in wrapper\n",
      "    retval = func(*args, **kwargs)\n",
      "  File \"C:\\Users\\Malware\\AppData\\Roaming\\Python\\Python37\\site-packages\\pandas_profiling\\profile_report.py\", line 309, in to_file\n",
      "    data = self.to_html()\n",
      "  File \"C:\\Users\\Malware\\AppData\\Roaming\\Python\\Python37\\site-packages\\typeguard\\__init__.py\", line 1033, in wrapper\n",
      "    retval = func(*args, **kwargs)\n",
      "  File \"C:\\Users\\Malware\\AppData\\Roaming\\Python\\Python37\\site-packages\\pandas_profiling\\profile_report.py\", line 420, in to_html\n",
      "    return self.html\n",
      "  File \"C:\\Users\\Malware\\AppData\\Roaming\\Python\\Python37\\site-packages\\typeguard\\__init__.py\", line 1033, in wrapper\n",
      "    retval = func(*args, **kwargs)\n",
      "  File \"C:\\Users\\Malware\\AppData\\Roaming\\Python\\Python37\\site-packages\\pandas_profiling\\profile_report.py\", line 231, in html\n",
      "    self._html = self._render_html()\n",
      "  File \"C:\\Users\\Malware\\AppData\\Roaming\\Python\\Python37\\site-packages\\typeguard\\__init__.py\", line 1033, in wrapper\n",
      "    retval = func(*args, **kwargs)\n",
      "  File \"C:\\Users\\Malware\\AppData\\Roaming\\Python\\Python37\\site-packages\\pandas_profiling\\profile_report.py\", line 339, in _render_html\n",
      "    report = self.report\n",
      "  File \"C:\\Users\\Malware\\AppData\\Roaming\\Python\\Python37\\site-packages\\typeguard\\__init__.py\", line 1033, in wrapper\n",
      "    retval = func(*args, **kwargs)\n",
      "  File \"C:\\Users\\Malware\\AppData\\Roaming\\Python\\Python37\\site-packages\\pandas_profiling\\profile_report.py\", line 225, in report\n",
      "    self._report = get_report_structure(self.config, self.description_set)\n",
      "  File \"C:\\Users\\Malware\\AppData\\Roaming\\Python\\Python37\\site-packages\\typeguard\\__init__.py\", line 1033, in wrapper\n",
      "    retval = func(*args, **kwargs)\n",
      "  File \"C:\\Users\\Malware\\AppData\\Roaming\\Python\\Python37\\site-packages\\pandas_profiling\\profile_report.py\", line 212, in description_set\n",
      "    self._sample,\n",
      "  File \"C:\\Users\\Malware\\AppData\\Roaming\\Python\\Python37\\site-packages\\pandas_profiling\\model\\describe.py\", line 119, in describe\n",
      "    )(config, df, x, y, interval_columns)\n",
      "  File \"C:\\Users\\Malware\\AppData\\Roaming\\Python\\Python37\\site-packages\\pandas_profiling\\utils\\progress_bar.py\", line 11, in inner\n",
      "    ret = fn(*args, **kwargs)\n",
      "  File \"C:\\Users\\Malware\\AppData\\Roaming\\Python\\Python37\\site-packages\\pandas_profiling\\model\\pairwise.py\", line 31, in get_scatter_plot\n",
      "    return scatter_pairwise(config, df_temp[x], df_temp[y], x, y)\n",
      "  File \"C:\\Users\\Malware\\anaconda3\\envs\\cp_env\\lib\\contextlib.py\", line 74, in inner\n",
      "    return func(*args, **kwds)\n",
      "  File \"C:\\Users\\Malware\\AppData\\Roaming\\Python\\Python37\\site-packages\\pandas_profiling\\visualisation\\plot.py\", line 336, in scatter_pairwise\n",
      "    plt.hexbin(series1[indices], series2[indices], gridsize=15, cmap=cmap)\n",
      "  File \"C:\\Users\\Malware\\anaconda3\\envs\\cp_env\\lib\\site-packages\\matplotlib\\pyplot.py\", line 2588, in hexbin\n",
      "    **({\"data\": data} if data is not None else {}), **kwargs)\n",
      "  File \"C:\\Users\\Malware\\anaconda3\\envs\\cp_env\\lib\\site-packages\\matplotlib\\__init__.py\", line 1414, in inner\n",
      "    return func(ax, *map(sanitize_sequence, args), **kwargs)\n",
      "  File \"C:\\Users\\Malware\\anaconda3\\envs\\cp_env\\lib\\site-packages\\matplotlib\\axes\\_axes.py\", line 4694, in hexbin\n",
      "    d2 = (x - ix2 - 0.5) ** 2 + 3.0 * (y - iy2 - 0.5) ** 2\n",
      "KeyboardInterrupt\n",
      "\n",
      "During handling of the above exception, another exception occurred:\n",
      "\n",
      "Traceback (most recent call last):\n",
      "  File \"C:\\Users\\Malware\\anaconda3\\envs\\cp_env\\lib\\site-packages\\IPython\\core\\interactiveshell.py\", line 2098, in showtraceback\n",
      "    stb = value._render_traceback_()\n",
      "AttributeError: 'KeyboardInterrupt' object has no attribute '_render_traceback_'\n",
      "\n",
      "During handling of the above exception, another exception occurred:\n",
      "\n",
      "Traceback (most recent call last):\n",
      "  File \"C:\\Users\\Malware\\anaconda3\\envs\\cp_env\\lib\\site-packages\\IPython\\core\\ultratb.py\", line 1101, in get_records\n",
      "    return _fixed_getinnerframes(etb, number_of_lines_of_context, tb_offset)\n",
      "  File \"C:\\Users\\Malware\\anaconda3\\envs\\cp_env\\lib\\site-packages\\IPython\\core\\ultratb.py\", line 248, in wrapped\n",
      "    return f(*args, **kwargs)\n",
      "  File \"C:\\Users\\Malware\\anaconda3\\envs\\cp_env\\lib\\site-packages\\IPython\\core\\ultratb.py\", line 281, in _fixed_getinnerframes\n",
      "    records = fix_frame_records_filenames(inspect.getinnerframes(etb, context))\n",
      "  File \"C:\\Users\\Malware\\anaconda3\\envs\\cp_env\\lib\\inspect.py\", line 1502, in getinnerframes\n",
      "    frameinfo = (tb.tb_frame,) + getframeinfo(tb, context)\n",
      "  File \"C:\\Users\\Malware\\anaconda3\\envs\\cp_env\\lib\\inspect.py\", line 1460, in getframeinfo\n",
      "    filename = getsourcefile(frame) or getfile(frame)\n",
      "  File \"C:\\Users\\Malware\\anaconda3\\envs\\cp_env\\lib\\inspect.py\", line 696, in getsourcefile\n",
      "    if getattr(getmodule(object, filename), '__loader__', None) is not None:\n",
      "  File \"C:\\Users\\Malware\\anaconda3\\envs\\cp_env\\lib\\inspect.py\", line 739, in getmodule\n",
      "    f = getabsfile(module)\n",
      "  File \"C:\\Users\\Malware\\anaconda3\\envs\\cp_env\\lib\\inspect.py\", line 708, in getabsfile\n",
      "    _filename = getsourcefile(object) or getfile(object)\n",
      "  File \"C:\\Users\\Malware\\anaconda3\\envs\\cp_env\\lib\\inspect.py\", line 693, in getsourcefile\n",
      "    if os.path.exists(filename):\n",
      "  File \"C:\\Users\\Malware\\anaconda3\\envs\\cp_env\\lib\\genericpath.py\", line 19, in exists\n",
      "    os.stat(path)\n",
      "KeyboardInterrupt\n"
     ]
    },
    {
     "ename": "TypeError",
     "evalue": "object of type 'NoneType' has no len()",
     "output_type": "error",
     "traceback": [
      "\u001B[1;31m---------------------------------------------------------------------------\u001B[0m",
      "\u001B[1;31mKeyboardInterrupt\u001B[0m                         Traceback (most recent call last)",
      "    \u001B[1;31m[... skipping hidden 1 frame]\u001B[0m\n",
      "\u001B[1;32m~\\AppData\\Local\\Temp\\ipykernel_15740\\3482013782.py\u001B[0m in \u001B[0;36m<module>\u001B[1;34m\u001B[0m\n\u001B[0;32m      2\u001B[0m \u001B[0mprofile\u001B[0m \u001B[1;33m=\u001B[0m \u001B[0mProfileReport\u001B[0m\u001B[1;33m(\u001B[0m\u001B[0mworkingDataFrame\u001B[0m\u001B[1;33m,\u001B[0m \u001B[0mtitle\u001B[0m\u001B[1;33m=\u001B[0m\u001B[1;34m\"rainfall\"\u001B[0m\u001B[1;33m)\u001B[0m\u001B[1;33m\u001B[0m\u001B[1;33m\u001B[0m\u001B[0m\n\u001B[1;32m----> 3\u001B[1;33m \u001B[0mprofile\u001B[0m\u001B[1;33m.\u001B[0m\u001B[0mto_file\u001B[0m\u001B[1;33m(\u001B[0m\u001B[1;34m\"rainfall.html\"\u001B[0m\u001B[1;33m)\u001B[0m\u001B[1;33m\u001B[0m\u001B[1;33m\u001B[0m\u001B[0m\n\u001B[0m",
      "\u001B[1;32m~\\AppData\\Roaming\\Python\\Python37\\site-packages\\typeguard\\__init__.py\u001B[0m in \u001B[0;36mwrapper\u001B[1;34m(*args, **kwargs)\u001B[0m\n\u001B[0;32m   1032\u001B[0m         \u001B[0mcheck_argument_types\u001B[0m\u001B[1;33m(\u001B[0m\u001B[0mmemo\u001B[0m\u001B[1;33m)\u001B[0m\u001B[1;33m\u001B[0m\u001B[1;33m\u001B[0m\u001B[0m\n\u001B[1;32m-> 1033\u001B[1;33m         \u001B[0mretval\u001B[0m \u001B[1;33m=\u001B[0m \u001B[0mfunc\u001B[0m\u001B[1;33m(\u001B[0m\u001B[1;33m*\u001B[0m\u001B[0margs\u001B[0m\u001B[1;33m,\u001B[0m \u001B[1;33m**\u001B[0m\u001B[0mkwargs\u001B[0m\u001B[1;33m)\u001B[0m\u001B[1;33m\u001B[0m\u001B[1;33m\u001B[0m\u001B[0m\n\u001B[0m\u001B[0;32m   1034\u001B[0m         \u001B[1;32mtry\u001B[0m\u001B[1;33m:\u001B[0m\u001B[1;33m\u001B[0m\u001B[1;33m\u001B[0m\u001B[0m\n",
      "\u001B[1;32m~\\AppData\\Roaming\\Python\\Python37\\site-packages\\pandas_profiling\\profile_report.py\u001B[0m in \u001B[0;36mto_file\u001B[1;34m(self, output_file, silent)\u001B[0m\n\u001B[0;32m    308\u001B[0m \u001B[1;33m\u001B[0m\u001B[0m\n\u001B[1;32m--> 309\u001B[1;33m             \u001B[0mdata\u001B[0m \u001B[1;33m=\u001B[0m \u001B[0mself\u001B[0m\u001B[1;33m.\u001B[0m\u001B[0mto_html\u001B[0m\u001B[1;33m(\u001B[0m\u001B[1;33m)\u001B[0m\u001B[1;33m\u001B[0m\u001B[1;33m\u001B[0m\u001B[0m\n\u001B[0m\u001B[0;32m    310\u001B[0m \u001B[1;33m\u001B[0m\u001B[0m\n",
      "\u001B[1;32m~\\AppData\\Roaming\\Python\\Python37\\site-packages\\typeguard\\__init__.py\u001B[0m in \u001B[0;36mwrapper\u001B[1;34m(*args, **kwargs)\u001B[0m\n\u001B[0;32m   1032\u001B[0m         \u001B[0mcheck_argument_types\u001B[0m\u001B[1;33m(\u001B[0m\u001B[0mmemo\u001B[0m\u001B[1;33m)\u001B[0m\u001B[1;33m\u001B[0m\u001B[1;33m\u001B[0m\u001B[0m\n\u001B[1;32m-> 1033\u001B[1;33m         \u001B[0mretval\u001B[0m \u001B[1;33m=\u001B[0m \u001B[0mfunc\u001B[0m\u001B[1;33m(\u001B[0m\u001B[1;33m*\u001B[0m\u001B[0margs\u001B[0m\u001B[1;33m,\u001B[0m \u001B[1;33m**\u001B[0m\u001B[0mkwargs\u001B[0m\u001B[1;33m)\u001B[0m\u001B[1;33m\u001B[0m\u001B[1;33m\u001B[0m\u001B[0m\n\u001B[0m\u001B[0;32m   1034\u001B[0m         \u001B[1;32mtry\u001B[0m\u001B[1;33m:\u001B[0m\u001B[1;33m\u001B[0m\u001B[1;33m\u001B[0m\u001B[0m\n",
      "\u001B[1;32m~\\AppData\\Roaming\\Python\\Python37\\site-packages\\pandas_profiling\\profile_report.py\u001B[0m in \u001B[0;36mto_html\u001B[1;34m(self)\u001B[0m\n\u001B[0;32m    419\u001B[0m         \"\"\"\n\u001B[1;32m--> 420\u001B[1;33m         \u001B[1;32mreturn\u001B[0m \u001B[0mself\u001B[0m\u001B[1;33m.\u001B[0m\u001B[0mhtml\u001B[0m\u001B[1;33m\u001B[0m\u001B[1;33m\u001B[0m\u001B[0m\n\u001B[0m\u001B[0;32m    421\u001B[0m \u001B[1;33m\u001B[0m\u001B[0m\n",
      "\u001B[1;32m~\\AppData\\Roaming\\Python\\Python37\\site-packages\\typeguard\\__init__.py\u001B[0m in \u001B[0;36mwrapper\u001B[1;34m(*args, **kwargs)\u001B[0m\n\u001B[0;32m   1032\u001B[0m         \u001B[0mcheck_argument_types\u001B[0m\u001B[1;33m(\u001B[0m\u001B[0mmemo\u001B[0m\u001B[1;33m)\u001B[0m\u001B[1;33m\u001B[0m\u001B[1;33m\u001B[0m\u001B[0m\n\u001B[1;32m-> 1033\u001B[1;33m         \u001B[0mretval\u001B[0m \u001B[1;33m=\u001B[0m \u001B[0mfunc\u001B[0m\u001B[1;33m(\u001B[0m\u001B[1;33m*\u001B[0m\u001B[0margs\u001B[0m\u001B[1;33m,\u001B[0m \u001B[1;33m**\u001B[0m\u001B[0mkwargs\u001B[0m\u001B[1;33m)\u001B[0m\u001B[1;33m\u001B[0m\u001B[1;33m\u001B[0m\u001B[0m\n\u001B[0m\u001B[0;32m   1034\u001B[0m         \u001B[1;32mtry\u001B[0m\u001B[1;33m:\u001B[0m\u001B[1;33m\u001B[0m\u001B[1;33m\u001B[0m\u001B[0m\n",
      "\u001B[1;32m~\\AppData\\Roaming\\Python\\Python37\\site-packages\\pandas_profiling\\profile_report.py\u001B[0m in \u001B[0;36mhtml\u001B[1;34m(self)\u001B[0m\n\u001B[0;32m    230\u001B[0m         \u001B[1;32mif\u001B[0m \u001B[0mself\u001B[0m\u001B[1;33m.\u001B[0m\u001B[0m_html\u001B[0m \u001B[1;32mis\u001B[0m \u001B[1;32mNone\u001B[0m\u001B[1;33m:\u001B[0m\u001B[1;33m\u001B[0m\u001B[1;33m\u001B[0m\u001B[0m\n\u001B[1;32m--> 231\u001B[1;33m             \u001B[0mself\u001B[0m\u001B[1;33m.\u001B[0m\u001B[0m_html\u001B[0m \u001B[1;33m=\u001B[0m \u001B[0mself\u001B[0m\u001B[1;33m.\u001B[0m\u001B[0m_render_html\u001B[0m\u001B[1;33m(\u001B[0m\u001B[1;33m)\u001B[0m\u001B[1;33m\u001B[0m\u001B[1;33m\u001B[0m\u001B[0m\n\u001B[0m\u001B[0;32m    232\u001B[0m         \u001B[1;32mreturn\u001B[0m \u001B[0mself\u001B[0m\u001B[1;33m.\u001B[0m\u001B[0m_html\u001B[0m\u001B[1;33m\u001B[0m\u001B[1;33m\u001B[0m\u001B[0m\n",
      "\u001B[1;32m~\\AppData\\Roaming\\Python\\Python37\\site-packages\\typeguard\\__init__.py\u001B[0m in \u001B[0;36mwrapper\u001B[1;34m(*args, **kwargs)\u001B[0m\n\u001B[0;32m   1032\u001B[0m         \u001B[0mcheck_argument_types\u001B[0m\u001B[1;33m(\u001B[0m\u001B[0mmemo\u001B[0m\u001B[1;33m)\u001B[0m\u001B[1;33m\u001B[0m\u001B[1;33m\u001B[0m\u001B[0m\n\u001B[1;32m-> 1033\u001B[1;33m         \u001B[0mretval\u001B[0m \u001B[1;33m=\u001B[0m \u001B[0mfunc\u001B[0m\u001B[1;33m(\u001B[0m\u001B[1;33m*\u001B[0m\u001B[0margs\u001B[0m\u001B[1;33m,\u001B[0m \u001B[1;33m**\u001B[0m\u001B[0mkwargs\u001B[0m\u001B[1;33m)\u001B[0m\u001B[1;33m\u001B[0m\u001B[1;33m\u001B[0m\u001B[0m\n\u001B[0m\u001B[0;32m   1034\u001B[0m         \u001B[1;32mtry\u001B[0m\u001B[1;33m:\u001B[0m\u001B[1;33m\u001B[0m\u001B[1;33m\u001B[0m\u001B[0m\n",
      "\u001B[1;32m~\\AppData\\Roaming\\Python\\Python37\\site-packages\\pandas_profiling\\profile_report.py\u001B[0m in \u001B[0;36m_render_html\u001B[1;34m(self)\u001B[0m\n\u001B[0;32m    338\u001B[0m \u001B[1;33m\u001B[0m\u001B[0m\n\u001B[1;32m--> 339\u001B[1;33m         \u001B[0mreport\u001B[0m \u001B[1;33m=\u001B[0m \u001B[0mself\u001B[0m\u001B[1;33m.\u001B[0m\u001B[0mreport\u001B[0m\u001B[1;33m\u001B[0m\u001B[1;33m\u001B[0m\u001B[0m\n\u001B[0m\u001B[0;32m    340\u001B[0m \u001B[1;33m\u001B[0m\u001B[0m\n",
      "\u001B[1;32m~\\AppData\\Roaming\\Python\\Python37\\site-packages\\typeguard\\__init__.py\u001B[0m in \u001B[0;36mwrapper\u001B[1;34m(*args, **kwargs)\u001B[0m\n\u001B[0;32m   1032\u001B[0m         \u001B[0mcheck_argument_types\u001B[0m\u001B[1;33m(\u001B[0m\u001B[0mmemo\u001B[0m\u001B[1;33m)\u001B[0m\u001B[1;33m\u001B[0m\u001B[1;33m\u001B[0m\u001B[0m\n\u001B[1;32m-> 1033\u001B[1;33m         \u001B[0mretval\u001B[0m \u001B[1;33m=\u001B[0m \u001B[0mfunc\u001B[0m\u001B[1;33m(\u001B[0m\u001B[1;33m*\u001B[0m\u001B[0margs\u001B[0m\u001B[1;33m,\u001B[0m \u001B[1;33m**\u001B[0m\u001B[0mkwargs\u001B[0m\u001B[1;33m)\u001B[0m\u001B[1;33m\u001B[0m\u001B[1;33m\u001B[0m\u001B[0m\n\u001B[0m\u001B[0;32m   1034\u001B[0m         \u001B[1;32mtry\u001B[0m\u001B[1;33m:\u001B[0m\u001B[1;33m\u001B[0m\u001B[1;33m\u001B[0m\u001B[0m\n",
      "\u001B[1;32m~\\AppData\\Roaming\\Python\\Python37\\site-packages\\pandas_profiling\\profile_report.py\u001B[0m in \u001B[0;36mreport\u001B[1;34m(self)\u001B[0m\n\u001B[0;32m    224\u001B[0m         \u001B[1;32mif\u001B[0m \u001B[0mself\u001B[0m\u001B[1;33m.\u001B[0m\u001B[0m_report\u001B[0m \u001B[1;32mis\u001B[0m \u001B[1;32mNone\u001B[0m\u001B[1;33m:\u001B[0m\u001B[1;33m\u001B[0m\u001B[1;33m\u001B[0m\u001B[0m\n\u001B[1;32m--> 225\u001B[1;33m             \u001B[0mself\u001B[0m\u001B[1;33m.\u001B[0m\u001B[0m_report\u001B[0m \u001B[1;33m=\u001B[0m \u001B[0mget_report_structure\u001B[0m\u001B[1;33m(\u001B[0m\u001B[0mself\u001B[0m\u001B[1;33m.\u001B[0m\u001B[0mconfig\u001B[0m\u001B[1;33m,\u001B[0m \u001B[0mself\u001B[0m\u001B[1;33m.\u001B[0m\u001B[0mdescription_set\u001B[0m\u001B[1;33m)\u001B[0m\u001B[1;33m\u001B[0m\u001B[1;33m\u001B[0m\u001B[0m\n\u001B[0m\u001B[0;32m    226\u001B[0m         \u001B[1;32mreturn\u001B[0m \u001B[0mself\u001B[0m\u001B[1;33m.\u001B[0m\u001B[0m_report\u001B[0m\u001B[1;33m\u001B[0m\u001B[1;33m\u001B[0m\u001B[0m\n",
      "\u001B[1;32m~\\AppData\\Roaming\\Python\\Python37\\site-packages\\typeguard\\__init__.py\u001B[0m in \u001B[0;36mwrapper\u001B[1;34m(*args, **kwargs)\u001B[0m\n\u001B[0;32m   1032\u001B[0m         \u001B[0mcheck_argument_types\u001B[0m\u001B[1;33m(\u001B[0m\u001B[0mmemo\u001B[0m\u001B[1;33m)\u001B[0m\u001B[1;33m\u001B[0m\u001B[1;33m\u001B[0m\u001B[0m\n\u001B[1;32m-> 1033\u001B[1;33m         \u001B[0mretval\u001B[0m \u001B[1;33m=\u001B[0m \u001B[0mfunc\u001B[0m\u001B[1;33m(\u001B[0m\u001B[1;33m*\u001B[0m\u001B[0margs\u001B[0m\u001B[1;33m,\u001B[0m \u001B[1;33m**\u001B[0m\u001B[0mkwargs\u001B[0m\u001B[1;33m)\u001B[0m\u001B[1;33m\u001B[0m\u001B[1;33m\u001B[0m\u001B[0m\n\u001B[0m\u001B[0;32m   1034\u001B[0m         \u001B[1;32mtry\u001B[0m\u001B[1;33m:\u001B[0m\u001B[1;33m\u001B[0m\u001B[1;33m\u001B[0m\u001B[0m\n",
      "\u001B[1;32m~\\AppData\\Roaming\\Python\\Python37\\site-packages\\pandas_profiling\\profile_report.py\u001B[0m in \u001B[0;36mdescription_set\u001B[1;34m(self)\u001B[0m\n\u001B[0;32m    211\u001B[0m                 \u001B[0mself\u001B[0m\u001B[1;33m.\u001B[0m\u001B[0mtypeset\u001B[0m\u001B[1;33m,\u001B[0m\u001B[1;33m\u001B[0m\u001B[1;33m\u001B[0m\u001B[0m\n\u001B[1;32m--> 212\u001B[1;33m                 \u001B[0mself\u001B[0m\u001B[1;33m.\u001B[0m\u001B[0m_sample\u001B[0m\u001B[1;33m,\u001B[0m\u001B[1;33m\u001B[0m\u001B[1;33m\u001B[0m\u001B[0m\n\u001B[0m\u001B[0;32m    213\u001B[0m             )\n",
      "\u001B[1;32m~\\AppData\\Roaming\\Python\\Python37\\site-packages\\pandas_profiling\\model\\describe.py\u001B[0m in \u001B[0;36mdescribe\u001B[1;34m(config, df, summarizer, typeset, sample)\u001B[0m\n\u001B[0;32m    118\u001B[0m                 \u001B[0mget_scatter_plot\u001B[0m\u001B[1;33m,\u001B[0m \u001B[0mpbar\u001B[0m\u001B[1;33m,\u001B[0m \u001B[1;34mf\"scatter {x}, {y}\"\u001B[0m\u001B[1;33m\u001B[0m\u001B[1;33m\u001B[0m\u001B[0m\n\u001B[1;32m--> 119\u001B[1;33m             )(config, df, x, y, interval_columns)\n\u001B[0m\u001B[0;32m    120\u001B[0m \u001B[1;33m\u001B[0m\u001B[0m\n",
      "\u001B[1;32m~\\AppData\\Roaming\\Python\\Python37\\site-packages\\pandas_profiling\\utils\\progress_bar.py\u001B[0m in \u001B[0;36minner\u001B[1;34m(*args, **kwargs)\u001B[0m\n\u001B[0;32m     10\u001B[0m         \u001B[0mbar\u001B[0m\u001B[1;33m.\u001B[0m\u001B[0mset_postfix_str\u001B[0m\u001B[1;33m(\u001B[0m\u001B[0mmessage\u001B[0m\u001B[1;33m)\u001B[0m\u001B[1;33m\u001B[0m\u001B[1;33m\u001B[0m\u001B[0m\n\u001B[1;32m---> 11\u001B[1;33m         \u001B[0mret\u001B[0m \u001B[1;33m=\u001B[0m \u001B[0mfn\u001B[0m\u001B[1;33m(\u001B[0m\u001B[1;33m*\u001B[0m\u001B[0margs\u001B[0m\u001B[1;33m,\u001B[0m \u001B[1;33m**\u001B[0m\u001B[0mkwargs\u001B[0m\u001B[1;33m)\u001B[0m\u001B[1;33m\u001B[0m\u001B[1;33m\u001B[0m\u001B[0m\n\u001B[0m\u001B[0;32m     12\u001B[0m         \u001B[0mbar\u001B[0m\u001B[1;33m.\u001B[0m\u001B[0mupdate\u001B[0m\u001B[1;33m(\u001B[0m\u001B[1;33m)\u001B[0m\u001B[1;33m\u001B[0m\u001B[1;33m\u001B[0m\u001B[0m\n",
      "\u001B[1;32m~\\AppData\\Roaming\\Python\\Python37\\site-packages\\pandas_profiling\\model\\pairwise.py\u001B[0m in \u001B[0;36mget_scatter_plot\u001B[1;34m(config, df, x, y, continuous_variables)\u001B[0m\n\u001B[0;32m     30\u001B[0m             \u001B[0mdf_temp\u001B[0m \u001B[1;33m=\u001B[0m \u001B[0mdf\u001B[0m\u001B[1;33m[\u001B[0m\u001B[1;33m[\u001B[0m\u001B[0mx\u001B[0m\u001B[1;33m,\u001B[0m \u001B[0my\u001B[0m\u001B[1;33m]\u001B[0m\u001B[1;33m]\u001B[0m\u001B[1;33m.\u001B[0m\u001B[0mdropna\u001B[0m\u001B[1;33m(\u001B[0m\u001B[1;33m)\u001B[0m\u001B[1;33m\u001B[0m\u001B[1;33m\u001B[0m\u001B[0m\n\u001B[1;32m---> 31\u001B[1;33m         \u001B[1;32mreturn\u001B[0m \u001B[0mscatter_pairwise\u001B[0m\u001B[1;33m(\u001B[0m\u001B[0mconfig\u001B[0m\u001B[1;33m,\u001B[0m \u001B[0mdf_temp\u001B[0m\u001B[1;33m[\u001B[0m\u001B[0mx\u001B[0m\u001B[1;33m]\u001B[0m\u001B[1;33m,\u001B[0m \u001B[0mdf_temp\u001B[0m\u001B[1;33m[\u001B[0m\u001B[0my\u001B[0m\u001B[1;33m]\u001B[0m\u001B[1;33m,\u001B[0m \u001B[0mx\u001B[0m\u001B[1;33m,\u001B[0m \u001B[0my\u001B[0m\u001B[1;33m)\u001B[0m\u001B[1;33m\u001B[0m\u001B[1;33m\u001B[0m\u001B[0m\n\u001B[0m\u001B[0;32m     32\u001B[0m     \u001B[1;32melse\u001B[0m\u001B[1;33m:\u001B[0m\u001B[1;33m\u001B[0m\u001B[1;33m\u001B[0m\u001B[0m\n",
      "\u001B[1;32m~\\anaconda3\\envs\\cp_env\\lib\\contextlib.py\u001B[0m in \u001B[0;36minner\u001B[1;34m(*args, **kwds)\u001B[0m\n\u001B[0;32m     73\u001B[0m             \u001B[1;32mwith\u001B[0m \u001B[0mself\u001B[0m\u001B[1;33m.\u001B[0m\u001B[0m_recreate_cm\u001B[0m\u001B[1;33m(\u001B[0m\u001B[1;33m)\u001B[0m\u001B[1;33m:\u001B[0m\u001B[1;33m\u001B[0m\u001B[1;33m\u001B[0m\u001B[0m\n\u001B[1;32m---> 74\u001B[1;33m                 \u001B[1;32mreturn\u001B[0m \u001B[0mfunc\u001B[0m\u001B[1;33m(\u001B[0m\u001B[1;33m*\u001B[0m\u001B[0margs\u001B[0m\u001B[1;33m,\u001B[0m \u001B[1;33m**\u001B[0m\u001B[0mkwds\u001B[0m\u001B[1;33m)\u001B[0m\u001B[1;33m\u001B[0m\u001B[1;33m\u001B[0m\u001B[0m\n\u001B[0m\u001B[0;32m     75\u001B[0m         \u001B[1;32mreturn\u001B[0m \u001B[0minner\u001B[0m\u001B[1;33m\u001B[0m\u001B[1;33m\u001B[0m\u001B[0m\n",
      "\u001B[1;32m~\\AppData\\Roaming\\Python\\Python37\\site-packages\\pandas_profiling\\visualisation\\plot.py\u001B[0m in \u001B[0;36mscatter_pairwise\u001B[1;34m(config, series1, series2, x_label, y_label)\u001B[0m\n\u001B[0;32m    335\u001B[0m         \u001B[0mcmap\u001B[0m \u001B[1;33m=\u001B[0m \u001B[0msns\u001B[0m\u001B[1;33m.\u001B[0m\u001B[0mlight_palette\u001B[0m\u001B[1;33m(\u001B[0m\u001B[0mcolor\u001B[0m\u001B[1;33m,\u001B[0m \u001B[0mas_cmap\u001B[0m\u001B[1;33m=\u001B[0m\u001B[1;32mTrue\u001B[0m\u001B[1;33m)\u001B[0m\u001B[1;33m\u001B[0m\u001B[1;33m\u001B[0m\u001B[0m\n\u001B[1;32m--> 336\u001B[1;33m         \u001B[0mplt\u001B[0m\u001B[1;33m.\u001B[0m\u001B[0mhexbin\u001B[0m\u001B[1;33m(\u001B[0m\u001B[0mseries1\u001B[0m\u001B[1;33m[\u001B[0m\u001B[0mindices\u001B[0m\u001B[1;33m]\u001B[0m\u001B[1;33m,\u001B[0m \u001B[0mseries2\u001B[0m\u001B[1;33m[\u001B[0m\u001B[0mindices\u001B[0m\u001B[1;33m]\u001B[0m\u001B[1;33m,\u001B[0m \u001B[0mgridsize\u001B[0m\u001B[1;33m=\u001B[0m\u001B[1;36m15\u001B[0m\u001B[1;33m,\u001B[0m \u001B[0mcmap\u001B[0m\u001B[1;33m=\u001B[0m\u001B[0mcmap\u001B[0m\u001B[1;33m)\u001B[0m\u001B[1;33m\u001B[0m\u001B[1;33m\u001B[0m\u001B[0m\n\u001B[0m\u001B[0;32m    337\u001B[0m     \u001B[1;32melse\u001B[0m\u001B[1;33m:\u001B[0m\u001B[1;33m\u001B[0m\u001B[1;33m\u001B[0m\u001B[0m\n",
      "\u001B[1;32m~\\anaconda3\\envs\\cp_env\\lib\\site-packages\\matplotlib\\pyplot.py\u001B[0m in \u001B[0;36mhexbin\u001B[1;34m(x, y, C, gridsize, bins, xscale, yscale, extent, cmap, norm, vmin, vmax, alpha, linewidths, edgecolors, reduce_C_function, mincnt, marginals, data, **kwargs)\u001B[0m\n\u001B[0;32m   2587\u001B[0m         \u001B[0mmincnt\u001B[0m\u001B[1;33m=\u001B[0m\u001B[0mmincnt\u001B[0m\u001B[1;33m,\u001B[0m \u001B[0mmarginals\u001B[0m\u001B[1;33m=\u001B[0m\u001B[0mmarginals\u001B[0m\u001B[1;33m,\u001B[0m\u001B[1;33m\u001B[0m\u001B[1;33m\u001B[0m\u001B[0m\n\u001B[1;32m-> 2588\u001B[1;33m         **({\"data\": data} if data is not None else {}), **kwargs)\n\u001B[0m\u001B[0;32m   2589\u001B[0m     \u001B[0msci\u001B[0m\u001B[1;33m(\u001B[0m\u001B[0m__ret\u001B[0m\u001B[1;33m)\u001B[0m\u001B[1;33m\u001B[0m\u001B[1;33m\u001B[0m\u001B[0m\n",
      "\u001B[1;32m~\\anaconda3\\envs\\cp_env\\lib\\site-packages\\matplotlib\\__init__.py\u001B[0m in \u001B[0;36minner\u001B[1;34m(ax, data, *args, **kwargs)\u001B[0m\n\u001B[0;32m   1413\u001B[0m         \u001B[1;32mif\u001B[0m \u001B[0mdata\u001B[0m \u001B[1;32mis\u001B[0m \u001B[1;32mNone\u001B[0m\u001B[1;33m:\u001B[0m\u001B[1;33m\u001B[0m\u001B[1;33m\u001B[0m\u001B[0m\n\u001B[1;32m-> 1414\u001B[1;33m             \u001B[1;32mreturn\u001B[0m \u001B[0mfunc\u001B[0m\u001B[1;33m(\u001B[0m\u001B[0max\u001B[0m\u001B[1;33m,\u001B[0m \u001B[1;33m*\u001B[0m\u001B[0mmap\u001B[0m\u001B[1;33m(\u001B[0m\u001B[0msanitize_sequence\u001B[0m\u001B[1;33m,\u001B[0m \u001B[0margs\u001B[0m\u001B[1;33m)\u001B[0m\u001B[1;33m,\u001B[0m \u001B[1;33m**\u001B[0m\u001B[0mkwargs\u001B[0m\u001B[1;33m)\u001B[0m\u001B[1;33m\u001B[0m\u001B[1;33m\u001B[0m\u001B[0m\n\u001B[0m\u001B[0;32m   1415\u001B[0m \u001B[1;33m\u001B[0m\u001B[0m\n",
      "\u001B[1;32m~\\anaconda3\\envs\\cp_env\\lib\\site-packages\\matplotlib\\axes\\_axes.py\u001B[0m in \u001B[0;36mhexbin\u001B[1;34m(self, x, y, C, gridsize, bins, xscale, yscale, extent, cmap, norm, vmin, vmax, alpha, linewidths, edgecolors, reduce_C_function, mincnt, marginals, **kwargs)\u001B[0m\n\u001B[0;32m   4693\u001B[0m         \u001B[0md1\u001B[0m \u001B[1;33m=\u001B[0m \u001B[1;33m(\u001B[0m\u001B[0mx\u001B[0m \u001B[1;33m-\u001B[0m \u001B[0mix1\u001B[0m\u001B[1;33m)\u001B[0m \u001B[1;33m**\u001B[0m \u001B[1;36m2\u001B[0m \u001B[1;33m+\u001B[0m \u001B[1;36m3.0\u001B[0m \u001B[1;33m*\u001B[0m \u001B[1;33m(\u001B[0m\u001B[0my\u001B[0m \u001B[1;33m-\u001B[0m \u001B[0miy1\u001B[0m\u001B[1;33m)\u001B[0m \u001B[1;33m**\u001B[0m \u001B[1;36m2\u001B[0m\u001B[1;33m\u001B[0m\u001B[1;33m\u001B[0m\u001B[0m\n\u001B[1;32m-> 4694\u001B[1;33m         \u001B[0md2\u001B[0m \u001B[1;33m=\u001B[0m \u001B[1;33m(\u001B[0m\u001B[0mx\u001B[0m \u001B[1;33m-\u001B[0m \u001B[0mix2\u001B[0m \u001B[1;33m-\u001B[0m \u001B[1;36m0.5\u001B[0m\u001B[1;33m)\u001B[0m \u001B[1;33m**\u001B[0m \u001B[1;36m2\u001B[0m \u001B[1;33m+\u001B[0m \u001B[1;36m3.0\u001B[0m \u001B[1;33m*\u001B[0m \u001B[1;33m(\u001B[0m\u001B[0my\u001B[0m \u001B[1;33m-\u001B[0m \u001B[0miy2\u001B[0m \u001B[1;33m-\u001B[0m \u001B[1;36m0.5\u001B[0m\u001B[1;33m)\u001B[0m \u001B[1;33m**\u001B[0m \u001B[1;36m2\u001B[0m\u001B[1;33m\u001B[0m\u001B[1;33m\u001B[0m\u001B[0m\n\u001B[0m\u001B[0;32m   4695\u001B[0m         \u001B[0mbdist\u001B[0m \u001B[1;33m=\u001B[0m \u001B[1;33m(\u001B[0m\u001B[0md1\u001B[0m \u001B[1;33m<\u001B[0m \u001B[0md2\u001B[0m\u001B[1;33m)\u001B[0m\u001B[1;33m\u001B[0m\u001B[1;33m\u001B[0m\u001B[0m\n",
      "\u001B[1;31mKeyboardInterrupt\u001B[0m: ",
      "\nDuring handling of the above exception, another exception occurred:\n",
      "\u001B[1;31mAttributeError\u001B[0m                            Traceback (most recent call last)",
      "\u001B[1;32m~\\anaconda3\\envs\\cp_env\\lib\\site-packages\\IPython\\core\\interactiveshell.py\u001B[0m in \u001B[0;36mshowtraceback\u001B[1;34m(self, exc_tuple, filename, tb_offset, exception_only, running_compiled_code)\u001B[0m\n\u001B[0;32m   2097\u001B[0m                         \u001B[1;31m# in the engines. This should return a list of strings.\u001B[0m\u001B[1;33m\u001B[0m\u001B[1;33m\u001B[0m\u001B[1;33m\u001B[0m\u001B[0m\n\u001B[1;32m-> 2098\u001B[1;33m                         \u001B[0mstb\u001B[0m \u001B[1;33m=\u001B[0m \u001B[0mvalue\u001B[0m\u001B[1;33m.\u001B[0m\u001B[0m_render_traceback_\u001B[0m\u001B[1;33m(\u001B[0m\u001B[1;33m)\u001B[0m\u001B[1;33m\u001B[0m\u001B[1;33m\u001B[0m\u001B[0m\n\u001B[0m\u001B[0;32m   2099\u001B[0m                     \u001B[1;32mexcept\u001B[0m \u001B[0mException\u001B[0m\u001B[1;33m:\u001B[0m\u001B[1;33m\u001B[0m\u001B[1;33m\u001B[0m\u001B[0m\n",
      "\u001B[1;31mAttributeError\u001B[0m: 'KeyboardInterrupt' object has no attribute '_render_traceback_'",
      "\nDuring handling of the above exception, another exception occurred:\n",
      "\u001B[1;31mTypeError\u001B[0m                                 Traceback (most recent call last)",
      "    \u001B[1;31m[... skipping hidden 1 frame]\u001B[0m\n",
      "\u001B[1;32m~\\anaconda3\\envs\\cp_env\\lib\\site-packages\\IPython\\core\\interactiveshell.py\u001B[0m in \u001B[0;36mshowtraceback\u001B[1;34m(self, exc_tuple, filename, tb_offset, exception_only, running_compiled_code)\u001B[0m\n\u001B[0;32m   2099\u001B[0m                     \u001B[1;32mexcept\u001B[0m \u001B[0mException\u001B[0m\u001B[1;33m:\u001B[0m\u001B[1;33m\u001B[0m\u001B[1;33m\u001B[0m\u001B[0m\n\u001B[0;32m   2100\u001B[0m                         stb = self.InteractiveTB.structured_traceback(etype,\n\u001B[1;32m-> 2101\u001B[1;33m                                             value, tb, tb_offset=tb_offset)\n\u001B[0m\u001B[0;32m   2102\u001B[0m \u001B[1;33m\u001B[0m\u001B[0m\n\u001B[0;32m   2103\u001B[0m                     \u001B[0mself\u001B[0m\u001B[1;33m.\u001B[0m\u001B[0m_showtraceback\u001B[0m\u001B[1;33m(\u001B[0m\u001B[0metype\u001B[0m\u001B[1;33m,\u001B[0m \u001B[0mvalue\u001B[0m\u001B[1;33m,\u001B[0m \u001B[0mstb\u001B[0m\u001B[1;33m)\u001B[0m\u001B[1;33m\u001B[0m\u001B[1;33m\u001B[0m\u001B[0m\n",
      "\u001B[1;32m~\\anaconda3\\envs\\cp_env\\lib\\site-packages\\IPython\\core\\ultratb.py\u001B[0m in \u001B[0;36mstructured_traceback\u001B[1;34m(self, etype, value, tb, tb_offset, number_of_lines_of_context)\u001B[0m\n\u001B[0;32m   1366\u001B[0m             \u001B[0mself\u001B[0m\u001B[1;33m.\u001B[0m\u001B[0mtb\u001B[0m \u001B[1;33m=\u001B[0m \u001B[0mtb\u001B[0m\u001B[1;33m\u001B[0m\u001B[1;33m\u001B[0m\u001B[0m\n\u001B[0;32m   1367\u001B[0m         return FormattedTB.structured_traceback(\n\u001B[1;32m-> 1368\u001B[1;33m             self, etype, value, tb, tb_offset, number_of_lines_of_context)\n\u001B[0m\u001B[0;32m   1369\u001B[0m \u001B[1;33m\u001B[0m\u001B[0m\n\u001B[0;32m   1370\u001B[0m \u001B[1;33m\u001B[0m\u001B[0m\n",
      "\u001B[1;32m~\\anaconda3\\envs\\cp_env\\lib\\site-packages\\IPython\\core\\ultratb.py\u001B[0m in \u001B[0;36mstructured_traceback\u001B[1;34m(self, etype, value, tb, tb_offset, number_of_lines_of_context)\u001B[0m\n\u001B[0;32m   1266\u001B[0m             \u001B[1;31m# Verbose modes need a full traceback\u001B[0m\u001B[1;33m\u001B[0m\u001B[1;33m\u001B[0m\u001B[1;33m\u001B[0m\u001B[0m\n\u001B[0;32m   1267\u001B[0m             return VerboseTB.structured_traceback(\n\u001B[1;32m-> 1268\u001B[1;33m                 \u001B[0mself\u001B[0m\u001B[1;33m,\u001B[0m \u001B[0metype\u001B[0m\u001B[1;33m,\u001B[0m \u001B[0mvalue\u001B[0m\u001B[1;33m,\u001B[0m \u001B[0mtb\u001B[0m\u001B[1;33m,\u001B[0m \u001B[0mtb_offset\u001B[0m\u001B[1;33m,\u001B[0m \u001B[0mnumber_of_lines_of_context\u001B[0m\u001B[1;33m\u001B[0m\u001B[1;33m\u001B[0m\u001B[0m\n\u001B[0m\u001B[0;32m   1269\u001B[0m             )\n\u001B[0;32m   1270\u001B[0m         \u001B[1;32melif\u001B[0m \u001B[0mmode\u001B[0m \u001B[1;33m==\u001B[0m \u001B[1;34m'Minimal'\u001B[0m\u001B[1;33m:\u001B[0m\u001B[1;33m\u001B[0m\u001B[1;33m\u001B[0m\u001B[0m\n",
      "\u001B[1;32m~\\anaconda3\\envs\\cp_env\\lib\\site-packages\\IPython\\core\\ultratb.py\u001B[0m in \u001B[0;36mstructured_traceback\u001B[1;34m(self, etype, evalue, etb, tb_offset, number_of_lines_of_context)\u001B[0m\n\u001B[0;32m   1123\u001B[0m \u001B[1;33m\u001B[0m\u001B[0m\n\u001B[0;32m   1124\u001B[0m         formatted_exception = self.format_exception_as_a_whole(etype, evalue, etb, number_of_lines_of_context,\n\u001B[1;32m-> 1125\u001B[1;33m                                                                tb_offset)\n\u001B[0m\u001B[0;32m   1126\u001B[0m \u001B[1;33m\u001B[0m\u001B[0m\n\u001B[0;32m   1127\u001B[0m         \u001B[0mcolors\u001B[0m \u001B[1;33m=\u001B[0m \u001B[0mself\u001B[0m\u001B[1;33m.\u001B[0m\u001B[0mColors\u001B[0m  \u001B[1;31m# just a shorthand + quicker name lookup\u001B[0m\u001B[1;33m\u001B[0m\u001B[1;33m\u001B[0m\u001B[0m\n",
      "\u001B[1;32m~\\anaconda3\\envs\\cp_env\\lib\\site-packages\\IPython\\core\\ultratb.py\u001B[0m in \u001B[0;36mformat_exception_as_a_whole\u001B[1;34m(self, etype, evalue, etb, number_of_lines_of_context, tb_offset)\u001B[0m\n\u001B[0;32m   1080\u001B[0m \u001B[1;33m\u001B[0m\u001B[0m\n\u001B[0;32m   1081\u001B[0m \u001B[1;33m\u001B[0m\u001B[0m\n\u001B[1;32m-> 1082\u001B[1;33m         \u001B[0mlast_unique\u001B[0m\u001B[1;33m,\u001B[0m \u001B[0mrecursion_repeat\u001B[0m \u001B[1;33m=\u001B[0m \u001B[0mfind_recursion\u001B[0m\u001B[1;33m(\u001B[0m\u001B[0morig_etype\u001B[0m\u001B[1;33m,\u001B[0m \u001B[0mevalue\u001B[0m\u001B[1;33m,\u001B[0m \u001B[0mrecords\u001B[0m\u001B[1;33m)\u001B[0m\u001B[1;33m\u001B[0m\u001B[1;33m\u001B[0m\u001B[0m\n\u001B[0m\u001B[0;32m   1083\u001B[0m \u001B[1;33m\u001B[0m\u001B[0m\n\u001B[0;32m   1084\u001B[0m         \u001B[0mframes\u001B[0m \u001B[1;33m=\u001B[0m \u001B[0mself\u001B[0m\u001B[1;33m.\u001B[0m\u001B[0mformat_records\u001B[0m\u001B[1;33m(\u001B[0m\u001B[0mrecords\u001B[0m\u001B[1;33m,\u001B[0m \u001B[0mlast_unique\u001B[0m\u001B[1;33m,\u001B[0m \u001B[0mrecursion_repeat\u001B[0m\u001B[1;33m)\u001B[0m\u001B[1;33m\u001B[0m\u001B[1;33m\u001B[0m\u001B[0m\n",
      "\u001B[1;32m~\\anaconda3\\envs\\cp_env\\lib\\site-packages\\IPython\\core\\ultratb.py\u001B[0m in \u001B[0;36mfind_recursion\u001B[1;34m(etype, value, records)\u001B[0m\n\u001B[0;32m    380\u001B[0m     \u001B[1;31m# first frame (from in to out) that looks different.\u001B[0m\u001B[1;33m\u001B[0m\u001B[1;33m\u001B[0m\u001B[1;33m\u001B[0m\u001B[0m\n\u001B[0;32m    381\u001B[0m     \u001B[1;32mif\u001B[0m \u001B[1;32mnot\u001B[0m \u001B[0mis_recursion_error\u001B[0m\u001B[1;33m(\u001B[0m\u001B[0metype\u001B[0m\u001B[1;33m,\u001B[0m \u001B[0mvalue\u001B[0m\u001B[1;33m,\u001B[0m \u001B[0mrecords\u001B[0m\u001B[1;33m)\u001B[0m\u001B[1;33m:\u001B[0m\u001B[1;33m\u001B[0m\u001B[1;33m\u001B[0m\u001B[0m\n\u001B[1;32m--> 382\u001B[1;33m         \u001B[1;32mreturn\u001B[0m \u001B[0mlen\u001B[0m\u001B[1;33m(\u001B[0m\u001B[0mrecords\u001B[0m\u001B[1;33m)\u001B[0m\u001B[1;33m,\u001B[0m \u001B[1;36m0\u001B[0m\u001B[1;33m\u001B[0m\u001B[1;33m\u001B[0m\u001B[0m\n\u001B[0m\u001B[0;32m    383\u001B[0m \u001B[1;33m\u001B[0m\u001B[0m\n\u001B[0;32m    384\u001B[0m     \u001B[1;31m# Select filename, lineno, func_name to track frames with\u001B[0m\u001B[1;33m\u001B[0m\u001B[1;33m\u001B[0m\u001B[1;33m\u001B[0m\u001B[0m\n",
      "\u001B[1;31mTypeError\u001B[0m: object of type 'NoneType' has no len()"
     ]
    }
   ],
   "source": [
    "from pandas_profiling import ProfileReport\n",
    "profile = ProfileReport(workingDataFrame, title=\"rainfall\")\n",
    "profile.to_file(\"rainfall.html\")"
   ],
   "metadata": {
    "collapsed": false
   }
  },
  {
   "cell_type": "code",
   "execution_count": null,
   "outputs": [],
   "source": [
    "columnList = workingDataFrame.columns.tolist()\n",
    "# columnList[:-1]  # just for now, Omitting 'label' column\n",
    "\n",
    "from sklearn.feature_selection import VarianceThreshold\n",
    "\n",
    "var_thr = VarianceThreshold(threshold=0.1)  #Removing both constant and quasi-constant\n",
    "var_thr.fit(workingDataFrame[columnList[:-1]])\n",
    "\n",
    "var_threshold_bool_list = var_thr.get_support()\n",
    "var_threshold_bool_list_after_label_added = np.append(var_threshold_bool_list,True)\n",
    "var_threshold_bool_list_after_label_added"
   ],
   "metadata": {
    "collapsed": false
   }
  },
  {
   "cell_type": "code",
   "execution_count": null,
   "outputs": [],
   "source": [
    "concol = [column for column in workingDataFrame.columns\n",
    "          if column not in workingDataFrame.columns[var_threshold_bool_list_after_label_added]]\n",
    "\n",
    "for omittedFeatures in concol:\n",
    "    print(omittedFeatures)\n",
    "\n",
    "workingDataFrame.drop(columns=concol, inplace=True, errors='ignore')\n",
    "workingDataFrame"
   ],
   "metadata": {
    "collapsed": false
   }
  },
  {
   "cell_type": "markdown",
   "source": [
    "Now arising problem is that, row number has been significantly reduced but feature numbers are still 78!!\n",
    "So, need feature engineering here"
   ],
   "metadata": {
    "collapsed": false
   }
  },
  {
   "cell_type": "code",
   "execution_count": null,
   "outputs": [],
   "source": [
    "\n",
    "def featueEngineeringBasedOnZero(dataFrameArg, thresholdPercentage, showPercentage):\n",
    "    totalCols = dataFrameArg.shape[1]\n",
    "    totalRows = len(dataFrameArg)\n",
    "    unNecessaryFeatureCount = 0\n",
    "    unNecessaryFeatureNames = []\n",
    "\n",
    "    for column in dataFrameArg:\n",
    "        zerosInCol = (dataFrameArg[column] == 0).sum()\n",
    "        if zerosInCol != 0:\n",
    "            percentageOfZerosInRow = ((zerosInCol * 100) / totalRows)\n",
    "\n",
    "            if showPercentage:\n",
    "                print(column, \"\\t\\t-\\t\\t\", zerosInCol, \"\\t\\t-\\t\\t\", percentageOfZerosInRow)\n",
    "\n",
    "            if percentageOfZerosInRow > thresholdPercentage:\n",
    "                unNecessaryFeatureNames.append(column)\n",
    "                unNecessaryFeatureCount = unNecessaryFeatureCount + 1\n",
    "\n",
    "    print(\"\\nTotal features having more than \", thresholdPercentage, \"% zero are - \", unNecessaryFeatureCount,\n",
    "          \"out of \",\n",
    "          totalCols)\n",
    "    return unNecessaryFeatureNames"
   ],
   "metadata": {
    "collapsed": false
   }
  },
  {
   "cell_type": "markdown",
   "source": [
    "Identifying those features containing 99% zeroes"
   ],
   "metadata": {
    "collapsed": false
   }
  },
  {
   "cell_type": "code",
   "execution_count": null,
   "outputs": [],
   "source": [
    "featureContainingAlmostZero = featueEngineeringBasedOnZero(dataFrameArg=workingDataFrame, thresholdPercentage=99,\n",
    "                                                           showPercentage=False)\n",
    "featureContainingAlmostZero"
   ],
   "metadata": {
    "collapsed": false
   }
  },
  {
   "cell_type": "markdown",
   "source": [
    "Omitting above features containing 99% zeroes"
   ],
   "metadata": {
    "collapsed": false
   }
  },
  {
   "cell_type": "code",
   "execution_count": null,
   "outputs": [],
   "source": [
    "workingDataFrame.drop(columns=featureContainingAlmostZero, inplace=True, errors='ignore')\n",
    "workingDataFrame.rename(columns=col_name_consistency, inplace=True)\n",
    "workingDataFrame.reset_index(inplace=True, drop=True)\n",
    "workingDataFrame"
   ],
   "metadata": {
    "collapsed": false
   }
  },
  {
   "cell_type": "markdown",
   "source": [
    "Now, To see the number of unique values in each column"
   ],
   "metadata": {
    "collapsed": false
   }
  },
  {
   "cell_type": "code",
   "execution_count": null,
   "outputs": [],
   "source": [
    "workingDataFrame.nunique(axis=0)"
   ],
   "metadata": {
    "collapsed": false
   }
  },
  {
   "cell_type": "code",
   "execution_count": null,
   "outputs": [],
   "source": [
    "workingDataFrame"
   ],
   "metadata": {
    "collapsed": false
   }
  },
  {
   "cell_type": "markdown",
   "source": [
    "Saving New DataFrame as csv file to new location"
   ],
   "metadata": {
    "collapsed": false
   }
  },
  {
   "cell_type": "code",
   "execution_count": null,
   "outputs": [],
   "source": [
    "def dataCleaningResultToAnotherCSV(dataFrameArg, dirPath, file_name):\n",
    "    dataFrameArg.to_csv(dirPath + file_name)"
   ],
   "metadata": {
    "collapsed": false
   }
  },
  {
   "cell_type": "code",
   "execution_count": null,
   "outputs": [],
   "source": [
    "newCsvPath = \"D:\\\\thesis_dataset\\\\01-12\\\\AfterDataCleaning(Final)\\\\\"\n",
    "newFileName = \"UDPLag.csv\"\n",
    "# newFileName = \"Syn.csv\"\n",
    "# newFileName = \"DrDoS_NTP.csv\"\n",
    "# newFileName = \"DrDoS_LDAP.csv\"\n",
    "# newFileName = \"DrDoS_SSDP.csv\"\n",
    "# newFileName = \"DrDoS_UDP.csv\"\n",
    "dataCleaningResultToAnotherCSV(dataFrameArg=workingDataFrame, dirPath=newCsvPath, file_name=newFileName)"
   ],
   "metadata": {
    "collapsed": false
   }
  },
  {
   "cell_type": "code",
   "execution_count": null,
   "outputs": [],
   "source": [
    "import gc\n",
    "gc.collect()\n"
   ],
   "metadata": {
    "collapsed": false
   }
  }
 ],
 "metadata": {
  "kernelspec": {
   "display_name": "Python 3",
   "language": "python",
   "name": "python3"
  },
  "language_info": {
   "codemirror_mode": {
    "name": "ipython",
    "version": 2
   },
   "file_extension": ".py",
   "mimetype": "text/x-python",
   "name": "python",
   "nbconvert_exporter": "python",
   "pygments_lexer": "ipython2",
   "version": "2.7.6"
  }
 },
 "nbformat": 4,
 "nbformat_minor": 0
}

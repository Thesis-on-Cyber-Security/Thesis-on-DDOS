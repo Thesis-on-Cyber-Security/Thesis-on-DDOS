{
 "cells": [
  {
   "cell_type": "markdown",
   "source": [
    "Loading Libraries"
   ],
   "metadata": {
    "collapsed": false
   }
  },
  {
   "cell_type": "code",
   "execution_count": 1,
   "metadata": {
    "collapsed": true
   },
   "outputs": [],
   "source": [
    "import pandas as pd\n",
    "import numpy as np\n",
    "from dask import dataframe as dd\n",
    "from dask.distributed import Client"
   ]
  },
  {
   "cell_type": "markdown",
   "source": [
    "Setting up paths to csv files / datasets"
   ],
   "metadata": {
    "collapsed": false
   }
  },
  {
   "cell_type": "code",
   "execution_count": 2,
   "outputs": [],
   "source": [
    "# CSV-01-12\n",
    "path_DdoS_DNS = \"D:\\\\thesis_dataset\\\\01-12\\\\DrDoS_DNS.csv\"\n",
    "path_DdoS_MSSQL = \"D:\\\\thesis_dataset\\\\01-12\\\\DrDoS_MSSQL.csv\"\n",
    "path_DdoS_LDAP = \"D:\\\\thesis_dataset\\\\01-12\\\\DrDoS_LDAP.csv\"\n",
    "path_DdoS_NTP = \"D:\\\\thesis_dataset\\\\01-12\\\\DrDoS_NTP.csv\"\n",
    "path_DdoS_NetBIOS = \"D:\\\\thesis_dataset\\\\01-12\\\\DrDoS_NetBIOS.csv\"\n",
    "path_DdoS_SNMP = \"D:\\\\thesis_dataset\\\\01-12\\\\DrDoS_SNMP.csv\"\n",
    "path_DdoS_SSDP = \"D:\\\\thesis_dataset\\\\01-12\\\\DrDoS_SSDP.csv\"\n",
    "path_DdoS_UDP = \"D:\\\\thesis_dataset\\\\01-12\\\\DrDoS_UDP.csv\"\n",
    "path_Syn = \"D:\\\\thesis_dataset\\\\01-12\\\\Syn.csv\"\n",
    "path_TFTP = \"D:\\\\thesis_dataset\\\\01-12\\\\TFTP.csv\"\n",
    "path_UDPLag = \"D:\\\\thesis_dataset\\\\01-12\\\\UDPLag.csv\"\n",
    "\n",
    "# # CSV-03-11\n",
    "# path__LDAP = \"../CICDDoS-2019/CSV-03-11/03-11/LDAP.csv\"\n",
    "# path__MSSQL = \"../CICDDoS-2019/CSV-03-11/03-11/MSSQL.csv\"\n",
    "# path__NetBIOS = \"../CICDDoS-2019/CSV-03-11/03-11/NetBIOS.csv\"\n",
    "# path__Portmap = \"../CICDDoS-2019/CSV-03-11/03-11/Portmap.csv\"\n",
    "# path__Syn = \"../CICDDoS-2019/CSV-03-11/03-11/Syn.csv\"\n",
    "# path__UDP = \"../CICDDoS-2019/CSV-03-11/03-11/UDP.csv\"\n",
    "# path__UDPLag = \"../CICDDoS-2019/CSV-03-11/03-11/UDPLag.csv\"\n",
    "\n",
    "paths = [path_DdoS_DNS, path_DdoS_MSSQL, path_DdoS_LDAP, path_DdoS_NTP, path_DdoS_NetBIOS, path_DdoS_SNMP, path_DdoS_SSDP, path_DdoS_UDP, path_Syn, path_TFTP, path_UDPLag]\n",
    "# , path__LDAP, path__MSSQL, path__NetBIOS,\n",
    "#      path__Portmap, path__Syn, path__UDP, path__UDPLag]"
   ],
   "metadata": {
    "collapsed": false
   }
  },
  {
   "cell_type": "markdown",
   "source": [
    "Column / feature names"
   ],
   "metadata": {
    "collapsed": false
   }
  },
  {
   "cell_type": "code",
   "execution_count": 3,
   "outputs": [],
   "source": [
    "col_name_consistency = {\n",
    "    'Flow ID': 'Flow ID',\n",
    "    'Source IP': 'Source IP',\n",
    "    'Src IP': 'Source IP',\n",
    "    'Source Port': 'Source Port',\n",
    "    'Src Port': 'Source Port',\n",
    "    'Destination IP': 'Destination IP',\n",
    "    'Dst IP': 'Destination IP',\n",
    "    'Destination Port': 'Destination Port',\n",
    "    'Dst Port': 'Destination Port',\n",
    "    'Protocol': 'Protocol',\n",
    "    'Timestamp': 'Timestamp',\n",
    "    'Flow Duration': 'Flow Duration',\n",
    "    'Total Fwd Packets': 'Total Fwd Packets',\n",
    "    'Tot Fwd Pkts': 'Total Fwd Packets',\n",
    "    'Total Backward Packets': 'Total Backward Packets',\n",
    "    'Tot Bwd Pkts': 'Total Backward Packets',\n",
    "    'Total Length of Fwd Packets': 'Fwd Packets Length Total',\n",
    "    'TotLen Fwd Pkts': 'Fwd Packets Length Total',\n",
    "    'Total Length of Bwd Packets': 'Bwd Packets Length Total',\n",
    "    'TotLen Bwd Pkts': 'Bwd Packets Length Total',\n",
    "    'Fwd Packet Length Max': 'Fwd Packet Length Max',\n",
    "    'Fwd Pkt Len Max': 'Fwd Packet Length Max',\n",
    "    'Fwd Packet Length Min': 'Fwd Packet Length Min',\n",
    "    'Fwd Pkt Len Min': 'Fwd Packet Length Min',\n",
    "    'Fwd Packet Length Mean': 'Fwd Packet Length Mean',\n",
    "    'Fwd Pkt Len Mean': 'Fwd Packet Length Mean',\n",
    "    'Fwd Packet Length Std': 'Fwd Packet Length Std',\n",
    "    'Fwd Pkt Len Std': 'Fwd Packet Length Std',\n",
    "    'Bwd Packet Length Max': 'Bwd Packet Length Max',\n",
    "    'Bwd Pkt Len Max': 'Bwd Packet Length Max',\n",
    "    'Bwd Packet Length Min': 'Bwd Packet Length Min',\n",
    "    'Bwd Pkt Len Min': 'Bwd Packet Length Min',\n",
    "    'Bwd Packet Length Mean': 'Bwd Packet Length Mean',\n",
    "    'Bwd Pkt Len Mean': 'Bwd Packet Length Mean',\n",
    "    'Bwd Packet Length Std': 'Bwd Packet Length Std',\n",
    "    'Bwd Pkt Len Std': 'Bwd Packet Length Std',\n",
    "    'Flow Bytes/s': 'Flow Bytes/s',\n",
    "    'Flow Byts/s': 'Flow Bytes/s',\n",
    "    'Flow Packets/s': 'Flow Packets/s',\n",
    "    'Flow Pkts/s': 'Flow Packets/s',\n",
    "    'Flow IAT Mean': 'Flow IAT Mean',\n",
    "    'Flow IAT Std': 'Flow IAT Std',\n",
    "    'Flow IAT Max': 'Flow IAT Max',\n",
    "    'Flow IAT Min': 'Flow IAT Min',\n",
    "    'Fwd IAT Total': 'Fwd IAT Total',\n",
    "    'Fwd IAT Tot': 'Fwd IAT Total',\n",
    "    'Fwd IAT Mean': 'Fwd IAT Mean',\n",
    "    'Fwd IAT Std': 'Fwd IAT Std',\n",
    "    'Fwd IAT Max': 'Fwd IAT Max',\n",
    "    'Fwd IAT Min': 'Fwd IAT Min',\n",
    "    'Bwd IAT Total': 'Bwd IAT Total',\n",
    "    'Bwd IAT Tot': 'Bwd IAT Total',\n",
    "    'Bwd IAT Mean': 'Bwd IAT Mean',\n",
    "    'Bwd IAT Std': 'Bwd IAT Std',\n",
    "    'Bwd IAT Max': 'Bwd IAT Max',\n",
    "    'Bwd IAT Min': 'Bwd IAT Min',\n",
    "    'Fwd PSH Flags': 'Fwd PSH Flags',\n",
    "    'Bwd PSH Flags': 'Bwd PSH Flags',\n",
    "    'Fwd URG Flags': 'Fwd URG Flags',\n",
    "    'Bwd URG Flags': 'Bwd URG Flags',\n",
    "    'Fwd Header Length': 'Fwd Header Length',\n",
    "    'Fwd Header Len': 'Fwd Header Length',\n",
    "    'Bwd Header Length': 'Bwd Header Length',\n",
    "    'Bwd Header Len': 'Bwd Header Length',\n",
    "    'Fwd Packets/s': 'Fwd Packets/s',\n",
    "    'Fwd Pkts/s': 'Fwd Packets/s',\n",
    "    'Bwd Packets/s': 'Bwd Packets/s',\n",
    "    'Bwd Pkts/s': 'Bwd Packets/s',\n",
    "    'Min Packet Length': 'Packet Length Min',\n",
    "    'Pkt Len Min': 'Packet Length Min',\n",
    "    'Max Packet Length': 'Packet Length Max',\n",
    "    'Pkt Len Max': 'Packet Length Max',\n",
    "    'Packet Length Mean': 'Packet Length Mean',\n",
    "    'Pkt Len Mean': 'Packet Length Mean',\n",
    "    'Packet Length Std': 'Packet Length Std',\n",
    "    'Pkt Len Std': 'Packet Length Std',\n",
    "    'Packet Length Variance': 'Packet Length Variance',\n",
    "    'Pkt Len Var': 'Packet Length Variance',\n",
    "    'FIN Flag Count': 'FIN Flag Count',\n",
    "    'FIN Flag Cnt': 'FIN Flag Count',\n",
    "    'SYN Flag Count': 'SYN Flag Count',\n",
    "    'SYN Flag Cnt': 'SYN Flag Count',\n",
    "    'RST Flag Count': 'RST Flag Count',\n",
    "    'RST Flag Cnt': 'RST Flag Count',\n",
    "    'PSH Flag Count': 'PSH Flag Count',\n",
    "    'PSH Flag Cnt': 'PSH Flag Count',\n",
    "    'ACK Flag Count': 'ACK Flag Count',\n",
    "    'ACK Flag Cnt': 'ACK Flag Count',\n",
    "    'URG Flag Count': 'URG Flag Count',\n",
    "    'URG Flag Cnt': 'URG Flag Count',\n",
    "    'CWE Flag Count': 'CWE Flag Count',\n",
    "    'CWE Flag Cnt': 'CWE Flag Count',\n",
    "    'ECE Flag Count': 'ECE Flag Count',\n",
    "    'ECE Flag Cnt': 'ECE Flag Count',\n",
    "    'Down/Up Ratio': 'Down/Up Ratio',\n",
    "    'Average Packet Size': 'Avg Packet Size',\n",
    "    'Pkt Size Avg': 'Avg Packet Size',\n",
    "    'Avg Fwd Segment Size': 'Avg Fwd Segment Size',\n",
    "    'Fwd Seg Size Avg': 'Avg Fwd Segment Size',\n",
    "    'Avg Bwd Segment Size': 'Avg Bwd Segment Size',\n",
    "    'Bwd Seg Size Avg': 'Avg Bwd Segment Size',\n",
    "    'Fwd Avg Bytes/Bulk': 'Fwd Avg Bytes/Bulk',\n",
    "    'Fwd Byts/b Avg': 'Fwd Avg Bytes/Bulk',\n",
    "    'Fwd Avg Packets/Bulk': 'Fwd Avg Packets/Bulk',\n",
    "    'Fwd Pkts/b Avg': 'Fwd Avg Packets/Bulk',\n",
    "    'Fwd Avg Bulk Rate': 'Fwd Avg Bulk Rate',\n",
    "    'Fwd Blk Rate Avg': 'Fwd Avg Bulk Rate',\n",
    "    'Bwd Avg Bytes/Bulk': 'Bwd Avg Bytes/Bulk',\n",
    "    'Bwd Byts/b Avg': 'Bwd Avg Bytes/Bulk',\n",
    "    'Bwd Avg Packets/Bulk': 'Bwd Avg Packets/Bulk',\n",
    "    'Bwd Pkts/b Avg': 'Bwd Avg Packets/Bulk',\n",
    "    'Bwd Avg Bulk Rate': 'Bwd Avg Bulk Rate',\n",
    "    'Bwd Blk Rate Avg': 'Bwd Avg Bulk Rate',\n",
    "    'Subflow Fwd Packets': 'Subflow Fwd Packets',\n",
    "    'Subflow Fwd Pkts': 'Subflow Fwd Packets',\n",
    "    'Subflow Fwd Bytes': 'Subflow Fwd Bytes',\n",
    "    'Subflow Fwd Byts': 'Subflow Fwd Bytes',\n",
    "    'Subflow Bwd Packets': 'Subflow Bwd Packets',\n",
    "    'Subflow Bwd Pkts': 'Subflow Bwd Packets',\n",
    "    'Subflow Bwd Bytes': 'Subflow Bwd Bytes',\n",
    "    'Subflow Bwd Byts': 'Subflow Bwd Bytes',\n",
    "    'Init_Win_bytes_forward': 'Init Fwd Win Bytes',\n",
    "    'Init Fwd Win Byts': 'Init Fwd Win Bytes',\n",
    "    'Init_Win_bytes_backward': 'Init Bwd Win Bytes',\n",
    "    'Init Bwd Win Byts': 'Init Bwd Win Bytes',\n",
    "    'act_data_pkt_fwd': 'Fwd Act Data Packets',\n",
    "    'Fwd Act Data Pkts': 'Fwd Act Data Packets',\n",
    "    'min_seg_size_forward': 'Fwd Seg Size Min',\n",
    "    'Fwd Seg Size Min': 'Fwd Seg Size Min',\n",
    "    'Active Mean': 'Active Mean',\n",
    "    'Active Std': 'Active Std',\n",
    "    'Active Max': 'Active Max',\n",
    "    'Active Min': 'Active Min',\n",
    "    'Idle Mean': 'Idle Mean',\n",
    "    'Idle Std': 'Idle Std',\n",
    "    'Idle Max': 'Idle Max',\n",
    "    'Idle Min': 'Idle Min',\n",
    "    'Label': 'Label'\n",
    "}"
   ],
   "metadata": {
    "collapsed": false
   }
  },
  {
   "cell_type": "code",
   "execution_count": 5,
   "outputs": [],
   "source": [
    "def readHugeCsvFileAsDataFrame(file_path):\n",
    "    # start = timer()\n",
    "    dtypes = {'SimillarHTTP': 'object',\n",
    "              'Timestamp': 'object',\n",
    "              'Source IP': 'str',\n",
    "              'Destination IP': 'str',\n",
    "              'Flow ID': 'object',\n",
    "              'Label': 'object',\n",
    "              }\n",
    "    for feature in [f'f_{i}' for i in range(82)]:\n",
    "        dtypes[feature] = \"float32\"\n",
    "\n",
    "    dask_df = dd.read_csv(file_path, low_memory=False,blocksize=50000, dtype=dtypes)  # 50MB chunk-size\n",
    "    # elapsed_time = timer() - start\n",
    "    # print(\"Read csv with dask: \", elapsed_time, \"sec\")\n",
    "    return dask_df.compute()"
   ],
   "metadata": {
    "collapsed": false
   }
  },
  {
   "cell_type": "markdown",
   "source": [
    "With Scheduler (see the elapsed time to process)"
   ],
   "metadata": {
    "collapsed": false
   }
  },
  {
   "cell_type": "code",
   "execution_count": 6,
   "outputs": [
    {
     "name": "stdout",
     "output_type": "stream",
     "text": [
      "Wall time: 2min 27s\n"
     ]
    },
    {
     "data": {
      "text/plain": "     Unnamed: 0                                 Flow ID   Source IP  \\\n0        186059   172.16.0.5-192.168.50.1-58445-4463-17  172.16.0.5   \n1        135692   172.16.0.5-192.168.50.1-36908-9914-17  172.16.0.5   \n2         33822  172.16.0.5-192.168.50.1-41727-32361-17  172.16.0.5   \n3         24498   172.16.0.5-192.168.50.1-55447-5691-17  172.16.0.5   \n4        117372  172.16.0.5-192.168.50.1-58794-56335-17  172.16.0.5   \n..          ...                                     ...         ...   \n122      350624   172.16.0.5-192.168.50.1-60490-14102-6  172.16.0.5   \n123      336856   172.16.0.5-192.168.50.1-60491-58360-6  172.16.0.5   \n124      115128    172.16.0.5-192.168.50.1-60492-2905-6  172.16.0.5   \n125       51370   172.16.0.5-192.168.50.1-60493-45714-6  172.16.0.5   \n126      317173   172.16.0.5-192.168.50.1-60494-44935-6  172.16.0.5   \n\n      Source Port  Destination IP   Destination Port   Protocol  \\\n0           58445    192.168.50.1               4463         17   \n1           36908    192.168.50.1               9914         17   \n2           41727    192.168.50.1              32361         17   \n3           55447    192.168.50.1               5691         17   \n4           58794    192.168.50.1              56335         17   \n..            ...             ...                ...        ...   \n122         60490    192.168.50.1              14102          6   \n123         60491    192.168.50.1              58360          6   \n124         60492    192.168.50.1               2905          6   \n125         60493    192.168.50.1              45714          6   \n126         60494    192.168.50.1              44935          6   \n\n                      Timestamp   Flow Duration   Total Fwd Packets  ...  \\\n0    2018-12-01 13:04:45.928673               1                   2  ...   \n1    2018-12-01 13:04:45.928913               1                   2  ...   \n2    2018-12-01 13:04:45.928915               2                   2  ...   \n3    2018-12-01 13:04:45.929024               2                   2  ...   \n4    2018-12-01 13:04:45.929096               1                   2  ...   \n..                          ...             ...                 ...  ...   \n122  2018-12-01 13:30:30.740273               1                   2  ...   \n123  2018-12-01 13:30:30.740323               1                   2  ...   \n124  2018-12-01 13:30:30.740374               2                   2  ...   \n125  2018-12-01 13:30:30.740424               0                   2  ...   \n126  2018-12-01 13:30:30.740425             134                   2  ...   \n\n      Active Std   Active Max   Active Min  Idle Mean   Idle Std   Idle Max  \\\n0            0.0          0.0          0.0        0.0        0.0        0.0   \n1            0.0          0.0          0.0        0.0        0.0        0.0   \n2            0.0          0.0          0.0        0.0        0.0        0.0   \n3            0.0          0.0          0.0        0.0        0.0        0.0   \n4            0.0          0.0          0.0        0.0        0.0        0.0   \n..           ...          ...          ...        ...        ...        ...   \n122          0.0          0.0          0.0        0.0        0.0        0.0   \n123          0.0          0.0          0.0        0.0        0.0        0.0   \n124          0.0          0.0          0.0        0.0        0.0        0.0   \n125          0.0          0.0          0.0        0.0        0.0        0.0   \n126          0.0          0.0          0.0        0.0        0.0        0.0   \n\n      Idle Min  SimillarHTTP   Inbound    Label  \n0          0.0             0         1  UDP-lag  \n1          0.0             0         1  UDP-lag  \n2          0.0             0         1  UDP-lag  \n3          0.0             0         1  UDP-lag  \n4          0.0             0         1  UDP-lag  \n..         ...           ...       ...      ...  \n122        0.0             0         1  UDP-lag  \n123        0.0             0         1  UDP-lag  \n124        0.0             0         1  UDP-lag  \n125        0.0             0         1  UDP-lag  \n126        0.0             0         1  UDP-lag  \n\n[370605 rows x 88 columns]",
      "text/html": "<div>\n<style scoped>\n    .dataframe tbody tr th:only-of-type {\n        vertical-align: middle;\n    }\n\n    .dataframe tbody tr th {\n        vertical-align: top;\n    }\n\n    .dataframe thead th {\n        text-align: right;\n    }\n</style>\n<table border=\"1\" class=\"dataframe\">\n  <thead>\n    <tr style=\"text-align: right;\">\n      <th></th>\n      <th>Unnamed: 0</th>\n      <th>Flow ID</th>\n      <th>Source IP</th>\n      <th>Source Port</th>\n      <th>Destination IP</th>\n      <th>Destination Port</th>\n      <th>Protocol</th>\n      <th>Timestamp</th>\n      <th>Flow Duration</th>\n      <th>Total Fwd Packets</th>\n      <th>...</th>\n      <th>Active Std</th>\n      <th>Active Max</th>\n      <th>Active Min</th>\n      <th>Idle Mean</th>\n      <th>Idle Std</th>\n      <th>Idle Max</th>\n      <th>Idle Min</th>\n      <th>SimillarHTTP</th>\n      <th>Inbound</th>\n      <th>Label</th>\n    </tr>\n  </thead>\n  <tbody>\n    <tr>\n      <th>0</th>\n      <td>186059</td>\n      <td>172.16.0.5-192.168.50.1-58445-4463-17</td>\n      <td>172.16.0.5</td>\n      <td>58445</td>\n      <td>192.168.50.1</td>\n      <td>4463</td>\n      <td>17</td>\n      <td>2018-12-01 13:04:45.928673</td>\n      <td>1</td>\n      <td>2</td>\n      <td>...</td>\n      <td>0.0</td>\n      <td>0.0</td>\n      <td>0.0</td>\n      <td>0.0</td>\n      <td>0.0</td>\n      <td>0.0</td>\n      <td>0.0</td>\n      <td>0</td>\n      <td>1</td>\n      <td>UDP-lag</td>\n    </tr>\n    <tr>\n      <th>1</th>\n      <td>135692</td>\n      <td>172.16.0.5-192.168.50.1-36908-9914-17</td>\n      <td>172.16.0.5</td>\n      <td>36908</td>\n      <td>192.168.50.1</td>\n      <td>9914</td>\n      <td>17</td>\n      <td>2018-12-01 13:04:45.928913</td>\n      <td>1</td>\n      <td>2</td>\n      <td>...</td>\n      <td>0.0</td>\n      <td>0.0</td>\n      <td>0.0</td>\n      <td>0.0</td>\n      <td>0.0</td>\n      <td>0.0</td>\n      <td>0.0</td>\n      <td>0</td>\n      <td>1</td>\n      <td>UDP-lag</td>\n    </tr>\n    <tr>\n      <th>2</th>\n      <td>33822</td>\n      <td>172.16.0.5-192.168.50.1-41727-32361-17</td>\n      <td>172.16.0.5</td>\n      <td>41727</td>\n      <td>192.168.50.1</td>\n      <td>32361</td>\n      <td>17</td>\n      <td>2018-12-01 13:04:45.928915</td>\n      <td>2</td>\n      <td>2</td>\n      <td>...</td>\n      <td>0.0</td>\n      <td>0.0</td>\n      <td>0.0</td>\n      <td>0.0</td>\n      <td>0.0</td>\n      <td>0.0</td>\n      <td>0.0</td>\n      <td>0</td>\n      <td>1</td>\n      <td>UDP-lag</td>\n    </tr>\n    <tr>\n      <th>3</th>\n      <td>24498</td>\n      <td>172.16.0.5-192.168.50.1-55447-5691-17</td>\n      <td>172.16.0.5</td>\n      <td>55447</td>\n      <td>192.168.50.1</td>\n      <td>5691</td>\n      <td>17</td>\n      <td>2018-12-01 13:04:45.929024</td>\n      <td>2</td>\n      <td>2</td>\n      <td>...</td>\n      <td>0.0</td>\n      <td>0.0</td>\n      <td>0.0</td>\n      <td>0.0</td>\n      <td>0.0</td>\n      <td>0.0</td>\n      <td>0.0</td>\n      <td>0</td>\n      <td>1</td>\n      <td>UDP-lag</td>\n    </tr>\n    <tr>\n      <th>4</th>\n      <td>117372</td>\n      <td>172.16.0.5-192.168.50.1-58794-56335-17</td>\n      <td>172.16.0.5</td>\n      <td>58794</td>\n      <td>192.168.50.1</td>\n      <td>56335</td>\n      <td>17</td>\n      <td>2018-12-01 13:04:45.929096</td>\n      <td>1</td>\n      <td>2</td>\n      <td>...</td>\n      <td>0.0</td>\n      <td>0.0</td>\n      <td>0.0</td>\n      <td>0.0</td>\n      <td>0.0</td>\n      <td>0.0</td>\n      <td>0.0</td>\n      <td>0</td>\n      <td>1</td>\n      <td>UDP-lag</td>\n    </tr>\n    <tr>\n      <th>...</th>\n      <td>...</td>\n      <td>...</td>\n      <td>...</td>\n      <td>...</td>\n      <td>...</td>\n      <td>...</td>\n      <td>...</td>\n      <td>...</td>\n      <td>...</td>\n      <td>...</td>\n      <td>...</td>\n      <td>...</td>\n      <td>...</td>\n      <td>...</td>\n      <td>...</td>\n      <td>...</td>\n      <td>...</td>\n      <td>...</td>\n      <td>...</td>\n      <td>...</td>\n      <td>...</td>\n    </tr>\n    <tr>\n      <th>122</th>\n      <td>350624</td>\n      <td>172.16.0.5-192.168.50.1-60490-14102-6</td>\n      <td>172.16.0.5</td>\n      <td>60490</td>\n      <td>192.168.50.1</td>\n      <td>14102</td>\n      <td>6</td>\n      <td>2018-12-01 13:30:30.740273</td>\n      <td>1</td>\n      <td>2</td>\n      <td>...</td>\n      <td>0.0</td>\n      <td>0.0</td>\n      <td>0.0</td>\n      <td>0.0</td>\n      <td>0.0</td>\n      <td>0.0</td>\n      <td>0.0</td>\n      <td>0</td>\n      <td>1</td>\n      <td>UDP-lag</td>\n    </tr>\n    <tr>\n      <th>123</th>\n      <td>336856</td>\n      <td>172.16.0.5-192.168.50.1-60491-58360-6</td>\n      <td>172.16.0.5</td>\n      <td>60491</td>\n      <td>192.168.50.1</td>\n      <td>58360</td>\n      <td>6</td>\n      <td>2018-12-01 13:30:30.740323</td>\n      <td>1</td>\n      <td>2</td>\n      <td>...</td>\n      <td>0.0</td>\n      <td>0.0</td>\n      <td>0.0</td>\n      <td>0.0</td>\n      <td>0.0</td>\n      <td>0.0</td>\n      <td>0.0</td>\n      <td>0</td>\n      <td>1</td>\n      <td>UDP-lag</td>\n    </tr>\n    <tr>\n      <th>124</th>\n      <td>115128</td>\n      <td>172.16.0.5-192.168.50.1-60492-2905-6</td>\n      <td>172.16.0.5</td>\n      <td>60492</td>\n      <td>192.168.50.1</td>\n      <td>2905</td>\n      <td>6</td>\n      <td>2018-12-01 13:30:30.740374</td>\n      <td>2</td>\n      <td>2</td>\n      <td>...</td>\n      <td>0.0</td>\n      <td>0.0</td>\n      <td>0.0</td>\n      <td>0.0</td>\n      <td>0.0</td>\n      <td>0.0</td>\n      <td>0.0</td>\n      <td>0</td>\n      <td>1</td>\n      <td>UDP-lag</td>\n    </tr>\n    <tr>\n      <th>125</th>\n      <td>51370</td>\n      <td>172.16.0.5-192.168.50.1-60493-45714-6</td>\n      <td>172.16.0.5</td>\n      <td>60493</td>\n      <td>192.168.50.1</td>\n      <td>45714</td>\n      <td>6</td>\n      <td>2018-12-01 13:30:30.740424</td>\n      <td>0</td>\n      <td>2</td>\n      <td>...</td>\n      <td>0.0</td>\n      <td>0.0</td>\n      <td>0.0</td>\n      <td>0.0</td>\n      <td>0.0</td>\n      <td>0.0</td>\n      <td>0.0</td>\n      <td>0</td>\n      <td>1</td>\n      <td>UDP-lag</td>\n    </tr>\n    <tr>\n      <th>126</th>\n      <td>317173</td>\n      <td>172.16.0.5-192.168.50.1-60494-44935-6</td>\n      <td>172.16.0.5</td>\n      <td>60494</td>\n      <td>192.168.50.1</td>\n      <td>44935</td>\n      <td>6</td>\n      <td>2018-12-01 13:30:30.740425</td>\n      <td>134</td>\n      <td>2</td>\n      <td>...</td>\n      <td>0.0</td>\n      <td>0.0</td>\n      <td>0.0</td>\n      <td>0.0</td>\n      <td>0.0</td>\n      <td>0.0</td>\n      <td>0.0</td>\n      <td>0</td>\n      <td>1</td>\n      <td>UDP-lag</td>\n    </tr>\n  </tbody>\n</table>\n<p>370605 rows × 88 columns</p>\n</div>"
     },
     "execution_count": 6,
     "metadata": {},
     "output_type": "execute_result"
    }
   ],
   "source": [
    "%%time\n",
    "scheduler = Client()\n",
    "df = scheduler.submit(readHugeCsvFileAsDataFrame, path_UDPLag)\n",
    "workingDataFrame = df.result()\n",
    "workingDataFrame"
   ],
   "metadata": {
    "collapsed": false
   }
  },
  {
   "cell_type": "code",
   "execution_count": 7,
   "outputs": [
    {
     "name": "stdout",
     "output_type": "stream",
     "text": [
      "Memory usage of dataframe is 251.65 MB\n"
     ]
    }
   ],
   "source": [
    "mb = workingDataFrame.memory_usage().sum() / 1024**2\n",
    "print('Memory usage of Working Dataframe: {:.2f} MB'.format(mb))"
   ],
   "metadata": {
    "collapsed": false
   }
  },
  {
   "cell_type": "code",
   "execution_count": 86,
   "outputs": [
    {
     "data": {
      "text/plain": "88"
     },
     "execution_count": 86,
     "metadata": {},
     "output_type": "execute_result"
    }
   ],
   "source": [
    "len(list(workingDataFrame.columns))"
   ],
   "metadata": {
    "collapsed": false
   }
  },
  {
   "cell_type": "code",
   "execution_count": 87,
   "outputs": [
    {
     "data": {
      "text/plain": "Unnamed: 0         370605\nFlow ID            368680\n Source IP            117\n Source Port        60938\n Destination IP       138\n                    ...  \n Idle Max           62358\n Idle Min           62272\nSimillarHTTP           89\n Inbound                2\n Label                  3\nLength: 88, dtype: int64"
     },
     "execution_count": 87,
     "metadata": {},
     "output_type": "execute_result"
    }
   ],
   "source": [
    "workingDataFrame.nunique(axis=0)"
   ],
   "metadata": {
    "collapsed": false
   }
  },
  {
   "cell_type": "markdown",
   "source": [
    "Following Columns may have little insignificance over model creation. Follow Below Ling\n",
    "https://link.springer.com/chapter/10.1007/978-3-031-09484-2_2"
   ],
   "metadata": {
    "collapsed": false
   }
  },
  {
   "cell_type": "code",
   "execution_count": 2,
   "outputs": [],
   "source": [
    "# src_port,dst_port, src_ip, dst_ip these are duplicate\n",
    "drop_columns = [\n",
    "    \"Flow ID\",\n",
    "    'Fwd Header Length.1',\n",
    "    \"Source IP\", \"Src IP\",\n",
    "    \"Source Port\", \"Src Port\",\n",
    "    \"Destination IP\", \"Dst IP\",\n",
    "    \"Destination Port\", \"Dst Port\",\n",
    "    \"Timestamp\",\n",
    "    \"Unnamed: 0\",\n",
    "    \"Inbound\",\n",
    "    \"SimillarHTTP\"\n",
    "]"
   ],
   "metadata": {
    "collapsed": false
   }
  },
  {
   "cell_type": "markdown",
   "source": [
    "Dropping Unnecessary Features & maintain column consistency"
   ],
   "metadata": {
    "collapsed": false
   }
  },
  {
   "cell_type": "code",
   "execution_count": 67,
   "outputs": [
    {
     "data": {
      "text/plain": "   Source Port  Destination Port  Protocol  Flow Duration  Total Fwd Packets  \\\n0        58445              4463        17              1                  2   \n1        36908              9914        17              1                  2   \n2        41727             32361        17              2                  2   \n3        55447              5691        17              2                  2   \n4        58794             56335        17              1                  2   \n\n   Total Backward Packets  Fwd Packets Length Total  Bwd Packets Length Total  \\\n0                       0                     766.0                       0.0   \n1                       0                     778.0                       0.0   \n2                       0                     750.0                       0.0   \n3                       0                     738.0                       0.0   \n4                       0                     750.0                       0.0   \n\n   Fwd Packet Length Max  Fwd Packet Length Min  ...  Fwd Seg Size Min  \\\n0                  383.0                  383.0  ...                -1   \n1                  389.0                  389.0  ...                -1   \n2                  375.0                  375.0  ...                -1   \n3                  369.0                  369.0  ...                -1   \n4                  375.0                  375.0  ...                -1   \n\n   Active Mean  Active Std  Active Max  Active Min  Idle Mean  Idle Std  \\\n0          0.0         0.0         0.0         0.0        0.0       0.0   \n1          0.0         0.0         0.0         0.0        0.0       0.0   \n2          0.0         0.0         0.0         0.0        0.0       0.0   \n3          0.0         0.0         0.0         0.0        0.0       0.0   \n4          0.0         0.0         0.0         0.0        0.0       0.0   \n\n   Idle Max  Idle Min    Label  \n0       0.0       0.0  UDP-lag  \n1       0.0       0.0  UDP-lag  \n2       0.0       0.0  UDP-lag  \n3       0.0       0.0  UDP-lag  \n4       0.0       0.0  UDP-lag  \n\n[5 rows x 80 columns]",
      "text/html": "<div>\n<style scoped>\n    .dataframe tbody tr th:only-of-type {\n        vertical-align: middle;\n    }\n\n    .dataframe tbody tr th {\n        vertical-align: top;\n    }\n\n    .dataframe thead th {\n        text-align: right;\n    }\n</style>\n<table border=\"1\" class=\"dataframe\">\n  <thead>\n    <tr style=\"text-align: right;\">\n      <th></th>\n      <th>Source Port</th>\n      <th>Destination Port</th>\n      <th>Protocol</th>\n      <th>Flow Duration</th>\n      <th>Total Fwd Packets</th>\n      <th>Total Backward Packets</th>\n      <th>Fwd Packets Length Total</th>\n      <th>Bwd Packets Length Total</th>\n      <th>Fwd Packet Length Max</th>\n      <th>Fwd Packet Length Min</th>\n      <th>...</th>\n      <th>Fwd Seg Size Min</th>\n      <th>Active Mean</th>\n      <th>Active Std</th>\n      <th>Active Max</th>\n      <th>Active Min</th>\n      <th>Idle Mean</th>\n      <th>Idle Std</th>\n      <th>Idle Max</th>\n      <th>Idle Min</th>\n      <th>Label</th>\n    </tr>\n  </thead>\n  <tbody>\n    <tr>\n      <th>0</th>\n      <td>58445</td>\n      <td>4463</td>\n      <td>17</td>\n      <td>1</td>\n      <td>2</td>\n      <td>0</td>\n      <td>766.0</td>\n      <td>0.0</td>\n      <td>383.0</td>\n      <td>383.0</td>\n      <td>...</td>\n      <td>-1</td>\n      <td>0.0</td>\n      <td>0.0</td>\n      <td>0.0</td>\n      <td>0.0</td>\n      <td>0.0</td>\n      <td>0.0</td>\n      <td>0.0</td>\n      <td>0.0</td>\n      <td>UDP-lag</td>\n    </tr>\n    <tr>\n      <th>1</th>\n      <td>36908</td>\n      <td>9914</td>\n      <td>17</td>\n      <td>1</td>\n      <td>2</td>\n      <td>0</td>\n      <td>778.0</td>\n      <td>0.0</td>\n      <td>389.0</td>\n      <td>389.0</td>\n      <td>...</td>\n      <td>-1</td>\n      <td>0.0</td>\n      <td>0.0</td>\n      <td>0.0</td>\n      <td>0.0</td>\n      <td>0.0</td>\n      <td>0.0</td>\n      <td>0.0</td>\n      <td>0.0</td>\n      <td>UDP-lag</td>\n    </tr>\n    <tr>\n      <th>2</th>\n      <td>41727</td>\n      <td>32361</td>\n      <td>17</td>\n      <td>2</td>\n      <td>2</td>\n      <td>0</td>\n      <td>750.0</td>\n      <td>0.0</td>\n      <td>375.0</td>\n      <td>375.0</td>\n      <td>...</td>\n      <td>-1</td>\n      <td>0.0</td>\n      <td>0.0</td>\n      <td>0.0</td>\n      <td>0.0</td>\n      <td>0.0</td>\n      <td>0.0</td>\n      <td>0.0</td>\n      <td>0.0</td>\n      <td>UDP-lag</td>\n    </tr>\n    <tr>\n      <th>3</th>\n      <td>55447</td>\n      <td>5691</td>\n      <td>17</td>\n      <td>2</td>\n      <td>2</td>\n      <td>0</td>\n      <td>738.0</td>\n      <td>0.0</td>\n      <td>369.0</td>\n      <td>369.0</td>\n      <td>...</td>\n      <td>-1</td>\n      <td>0.0</td>\n      <td>0.0</td>\n      <td>0.0</td>\n      <td>0.0</td>\n      <td>0.0</td>\n      <td>0.0</td>\n      <td>0.0</td>\n      <td>0.0</td>\n      <td>UDP-lag</td>\n    </tr>\n    <tr>\n      <th>4</th>\n      <td>58794</td>\n      <td>56335</td>\n      <td>17</td>\n      <td>1</td>\n      <td>2</td>\n      <td>0</td>\n      <td>750.0</td>\n      <td>0.0</td>\n      <td>375.0</td>\n      <td>375.0</td>\n      <td>...</td>\n      <td>-1</td>\n      <td>0.0</td>\n      <td>0.0</td>\n      <td>0.0</td>\n      <td>0.0</td>\n      <td>0.0</td>\n      <td>0.0</td>\n      <td>0.0</td>\n      <td>0.0</td>\n      <td>UDP-lag</td>\n    </tr>\n  </tbody>\n</table>\n<p>5 rows × 80 columns</p>\n</div>"
     },
     "execution_count": 67,
     "metadata": {},
     "output_type": "execute_result"
    }
   ],
   "source": [
    "workingDataFrame.columns = workingDataFrame.columns.str.strip()  # sometimes there's leading / trailing whitespace\n",
    "workingDataFrame.rename(columns=col_name_consistency, inplace=True)\n",
    "workingDataFrame.drop(columns=drop_columns, inplace=True, errors='ignore')\n",
    "\n",
    "workingDataFrame.head()"
   ],
   "metadata": {
    "collapsed": false
   }
  },
  {
   "cell_type": "markdown",
   "source": [
    "Data Cleaning Based on Data Types (DownSizing)"
   ],
   "metadata": {
    "collapsed": false
   }
  },
  {
   "cell_type": "code",
   "execution_count": 68,
   "outputs": [
    {
     "name": "stdout",
     "output_type": "stream",
     "text": [
      "<class 'pandas.core.frame.DataFrame'>\n",
      "Int64Index: 370605 entries, 0 to 126\n",
      "Data columns (total 80 columns):\n",
      " #   Column                    Non-Null Count   Dtype  \n",
      "---  ------                    --------------   -----  \n",
      " 0   Source Port               370605 non-null  int64  \n",
      " 1   Destination Port          370605 non-null  int64  \n",
      " 2   Protocol                  370605 non-null  int64  \n",
      " 3   Flow Duration             370605 non-null  int64  \n",
      " 4   Total Fwd Packets         370605 non-null  int64  \n",
      " 5   Total Backward Packets    370605 non-null  int64  \n",
      " 6   Fwd Packets Length Total  370605 non-null  float64\n",
      " 7   Bwd Packets Length Total  370605 non-null  float64\n",
      " 8   Fwd Packet Length Max     370605 non-null  float64\n",
      " 9   Fwd Packet Length Min     370605 non-null  float64\n",
      " 10  Fwd Packet Length Mean    370605 non-null  float64\n",
      " 11  Fwd Packet Length Std     370605 non-null  float64\n",
      " 12  Bwd Packet Length Max     370605 non-null  float64\n",
      " 13  Bwd Packet Length Min     370605 non-null  float64\n",
      " 14  Bwd Packet Length Mean    370605 non-null  float64\n",
      " 15  Bwd Packet Length Std     370605 non-null  float64\n",
      " 16  Flow Bytes/s              334473 non-null  float64\n",
      " 17  Flow Packets/s            370605 non-null  float64\n",
      " 18  Flow IAT Mean             370605 non-null  float64\n",
      " 19  Flow IAT Std              370605 non-null  float64\n",
      " 20  Flow IAT Max              370605 non-null  float64\n",
      " 21  Flow IAT Min              370605 non-null  float64\n",
      " 22  Fwd IAT Total             370605 non-null  float64\n",
      " 23  Fwd IAT Mean              370605 non-null  float64\n",
      " 24  Fwd IAT Std               370605 non-null  float64\n",
      " 25  Fwd IAT Max               370605 non-null  float64\n",
      " 26  Fwd IAT Min               370605 non-null  float64\n",
      " 27  Bwd IAT Total             370605 non-null  float64\n",
      " 28  Bwd IAT Mean              370605 non-null  float64\n",
      " 29  Bwd IAT Std               370605 non-null  float64\n",
      " 30  Bwd IAT Max               370605 non-null  float64\n",
      " 31  Bwd IAT Min               370605 non-null  float64\n",
      " 32  Fwd PSH Flags             370605 non-null  int64  \n",
      " 33  Bwd PSH Flags             370605 non-null  int64  \n",
      " 34  Fwd URG Flags             370605 non-null  int64  \n",
      " 35  Bwd URG Flags             370605 non-null  int64  \n",
      " 36  Fwd Header Length         370605 non-null  int64  \n",
      " 37  Bwd Header Length         370605 non-null  int64  \n",
      " 38  Fwd Packets/s             370605 non-null  float64\n",
      " 39  Bwd Packets/s             370605 non-null  float64\n",
      " 40  Packet Length Min         370605 non-null  float64\n",
      " 41  Packet Length Max         370605 non-null  float64\n",
      " 42  Packet Length Mean        370605 non-null  float64\n",
      " 43  Packet Length Std         370605 non-null  float64\n",
      " 44  Packet Length Variance    370605 non-null  float64\n",
      " 45  FIN Flag Count            370605 non-null  int64  \n",
      " 46  SYN Flag Count            370605 non-null  int64  \n",
      " 47  RST Flag Count            370605 non-null  int64  \n",
      " 48  PSH Flag Count            370605 non-null  int64  \n",
      " 49  ACK Flag Count            370605 non-null  int64  \n",
      " 50  URG Flag Count            370605 non-null  int64  \n",
      " 51  CWE Flag Count            370605 non-null  int64  \n",
      " 52  ECE Flag Count            370605 non-null  int64  \n",
      " 53  Down/Up Ratio             370605 non-null  float64\n",
      " 54  Avg Packet Size           370605 non-null  float64\n",
      " 55  Avg Fwd Segment Size      370605 non-null  float64\n",
      " 56  Avg Bwd Segment Size      370605 non-null  float64\n",
      " 57  Fwd Avg Bytes/Bulk        370605 non-null  int64  \n",
      " 58  Fwd Avg Packets/Bulk      370605 non-null  int64  \n",
      " 59  Fwd Avg Bulk Rate         370605 non-null  int64  \n",
      " 60  Bwd Avg Bytes/Bulk        370605 non-null  int64  \n",
      " 61  Bwd Avg Packets/Bulk      370605 non-null  int64  \n",
      " 62  Bwd Avg Bulk Rate         370605 non-null  int64  \n",
      " 63  Subflow Fwd Packets       370605 non-null  int64  \n",
      " 64  Subflow Fwd Bytes         370605 non-null  int64  \n",
      " 65  Subflow Bwd Packets       370605 non-null  int64  \n",
      " 66  Subflow Bwd Bytes         370605 non-null  int64  \n",
      " 67  Init Fwd Win Bytes        370605 non-null  int64  \n",
      " 68  Init Bwd Win Bytes        370605 non-null  int64  \n",
      " 69  Fwd Act Data Packets      370605 non-null  int64  \n",
      " 70  Fwd Seg Size Min          370605 non-null  int64  \n",
      " 71  Active Mean               370605 non-null  float64\n",
      " 72  Active Std                370605 non-null  float64\n",
      " 73  Active Max                370605 non-null  float64\n",
      " 74  Active Min                370605 non-null  float64\n",
      " 75  Idle Mean                 370605 non-null  float64\n",
      " 76  Idle Std                  370605 non-null  float64\n",
      " 77  Idle Max                  370605 non-null  float64\n",
      " 78  Idle Min                  370605 non-null  float64\n",
      " 79  Label                     370605 non-null  object \n",
      "dtypes: float64(45), int64(34), object(1)\n",
      "memory usage: 248.8 MB\n"
     ]
    }
   ],
   "source": [
    "# workingDataFrame.dtypes\n",
    "workingDataFrame.info(memory_usage=\"deep\")"
   ],
   "metadata": {
    "collapsed": false
   }
  },
  {
   "cell_type": "code",
   "execution_count": 69,
   "outputs": [
    {
     "name": "stdout",
     "output_type": "stream",
     "text": [
      "<class 'pandas.core.frame.DataFrame'>\n",
      "Int64Index: 370605 entries, 0 to 126\n",
      "Data columns (total 80 columns):\n",
      " #   Column                    Non-Null Count   Dtype  \n",
      "---  ------                    --------------   -----  \n",
      " 0   Source Port               370605 non-null  int32  \n",
      " 1   Destination Port          370605 non-null  int32  \n",
      " 2   Protocol                  370605 non-null  int8   \n",
      " 3   Flow Duration             370605 non-null  int32  \n",
      " 4   Total Fwd Packets         370605 non-null  int16  \n",
      " 5   Total Backward Packets    370605 non-null  int16  \n",
      " 6   Fwd Packets Length Total  370605 non-null  float32\n",
      " 7   Bwd Packets Length Total  370605 non-null  float32\n",
      " 8   Fwd Packet Length Max     370605 non-null  float32\n",
      " 9   Fwd Packet Length Min     370605 non-null  float32\n",
      " 10  Fwd Packet Length Mean    370605 non-null  float32\n",
      " 11  Fwd Packet Length Std     370605 non-null  float32\n",
      " 12  Bwd Packet Length Max     370605 non-null  float32\n",
      " 13  Bwd Packet Length Min     370605 non-null  float32\n",
      " 14  Bwd Packet Length Mean    370605 non-null  float32\n",
      " 15  Bwd Packet Length Std     370605 non-null  float32\n",
      " 16  Flow Bytes/s              334473 non-null  float32\n",
      " 17  Flow Packets/s            370605 non-null  float32\n",
      " 18  Flow IAT Mean             370605 non-null  float32\n",
      " 19  Flow IAT Std              370605 non-null  float32\n",
      " 20  Flow IAT Max              370605 non-null  float32\n",
      " 21  Flow IAT Min              370605 non-null  float32\n",
      " 22  Fwd IAT Total             370605 non-null  float32\n",
      " 23  Fwd IAT Mean              370605 non-null  float32\n",
      " 24  Fwd IAT Std               370605 non-null  float32\n",
      " 25  Fwd IAT Max               370605 non-null  float32\n",
      " 26  Fwd IAT Min               370605 non-null  float32\n",
      " 27  Bwd IAT Total             370605 non-null  float32\n",
      " 28  Bwd IAT Mean              370605 non-null  float32\n",
      " 29  Bwd IAT Std               370605 non-null  float32\n",
      " 30  Bwd IAT Max               370605 non-null  float32\n",
      " 31  Bwd IAT Min               370605 non-null  float32\n",
      " 32  Fwd PSH Flags             370605 non-null  int8   \n",
      " 33  Bwd PSH Flags             370605 non-null  int8   \n",
      " 34  Fwd URG Flags             370605 non-null  int8   \n",
      " 35  Bwd URG Flags             370605 non-null  int8   \n",
      " 36  Fwd Header Length         370605 non-null  int64  \n",
      " 37  Bwd Header Length         370605 non-null  int16  \n",
      " 38  Fwd Packets/s             370605 non-null  float32\n",
      " 39  Bwd Packets/s             370605 non-null  float32\n",
      " 40  Packet Length Min         370605 non-null  float32\n",
      " 41  Packet Length Max         370605 non-null  float32\n",
      " 42  Packet Length Mean        370605 non-null  float32\n",
      " 43  Packet Length Std         370605 non-null  float32\n",
      " 44  Packet Length Variance    370605 non-null  float32\n",
      " 45  FIN Flag Count            370605 non-null  int8   \n",
      " 46  SYN Flag Count            370605 non-null  int8   \n",
      " 47  RST Flag Count            370605 non-null  int8   \n",
      " 48  PSH Flag Count            370605 non-null  int8   \n",
      " 49  ACK Flag Count            370605 non-null  int8   \n",
      " 50  URG Flag Count            370605 non-null  int8   \n",
      " 51  CWE Flag Count            370605 non-null  int8   \n",
      " 52  ECE Flag Count            370605 non-null  int8   \n",
      " 53  Down/Up Ratio             370605 non-null  float32\n",
      " 54  Avg Packet Size           370605 non-null  float32\n",
      " 55  Avg Fwd Segment Size      370605 non-null  float32\n",
      " 56  Avg Bwd Segment Size      370605 non-null  float32\n",
      " 57  Fwd Avg Bytes/Bulk        370605 non-null  int8   \n",
      " 58  Fwd Avg Packets/Bulk      370605 non-null  int8   \n",
      " 59  Fwd Avg Bulk Rate         370605 non-null  int8   \n",
      " 60  Bwd Avg Bytes/Bulk        370605 non-null  int8   \n",
      " 61  Bwd Avg Packets/Bulk      370605 non-null  int8   \n",
      " 62  Bwd Avg Bulk Rate         370605 non-null  int8   \n",
      " 63  Subflow Fwd Packets       370605 non-null  int16  \n",
      " 64  Subflow Fwd Bytes         370605 non-null  int32  \n",
      " 65  Subflow Bwd Packets       370605 non-null  int16  \n",
      " 66  Subflow Bwd Bytes         370605 non-null  int32  \n",
      " 67  Init Fwd Win Bytes        370605 non-null  int32  \n",
      " 68  Init Bwd Win Bytes        370605 non-null  int32  \n",
      " 69  Fwd Act Data Packets      370605 non-null  int8   \n",
      " 70  Fwd Seg Size Min          370605 non-null  int32  \n",
      " 71  Active Mean               370605 non-null  float32\n",
      " 72  Active Std                370605 non-null  float32\n",
      " 73  Active Max                370605 non-null  float32\n",
      " 74  Active Min                370605 non-null  float32\n",
      " 75  Idle Mean                 370605 non-null  float32\n",
      " 76  Idle Std                  370605 non-null  float32\n",
      " 77  Idle Max                  370605 non-null  float32\n",
      " 78  Idle Min                  370605 non-null  float32\n",
      " 79  Label                     370605 non-null  object \n",
      "dtypes: float32(45), int16(5), int32(8), int64(1), int8(20), object(1)\n",
      "memory usage: 113.8 MB\n"
     ]
    }
   ],
   "source": [
    "# converting 64bit float to 32 bit float & 64bit integer to 8bit integer\n",
    "for column in workingDataFrame:\n",
    "    if workingDataFrame[column].dtype == 'float64':\n",
    "        workingDataFrame[column] = pd.to_numeric(workingDataFrame[column], downcast='float')\n",
    "    if workingDataFrame[column].dtype == 'int64':\n",
    "        workingDataFrame[column] = pd.to_numeric(workingDataFrame[column], downcast='integer')\n",
    "\n",
    "workingDataFrame.info(memory_usage=\"deep\") # observe the dTypes"
   ],
   "metadata": {
    "collapsed": false
   }
  },
  {
   "cell_type": "markdown",
   "source": [
    "Finding number of missing values contains features in the dataset"
   ],
   "metadata": {
    "collapsed": false
   }
  },
  {
   "cell_type": "code",
   "execution_count": 70,
   "outputs": [
    {
     "data": {
      "text/plain": "Source Port          0\nDestination Port     0\nProtocol             0\nFlow Duration        0\nTotal Fwd Packets    0\n                    ..\nIdle Mean            0\nIdle Std             0\nIdle Max             0\nIdle Min             0\nLabel                0\nLength: 80, dtype: int64"
     },
     "execution_count": 70,
     "metadata": {},
     "output_type": "execute_result"
    }
   ],
   "source": [
    "workingDataFrame.isnull().sum()"
   ],
   "metadata": {
    "collapsed": false
   }
  },
  {
   "cell_type": "markdown",
   "source": [
    "Removing NaN values"
   ],
   "metadata": {
    "collapsed": false
   }
  },
  {
   "cell_type": "code",
   "execution_count": 71,
   "outputs": [
    {
     "name": "stdout",
     "output_type": "stream",
     "text": [
      "pure missing value contains rows: 36132\n"
     ]
    }
   ],
   "source": [
    "print(f\"pure missing value contains rows: {workingDataFrame.isna().any(axis=1).sum()}\")\n",
    "# workingDataFrame.isna().sum()"
   ],
   "metadata": {
    "collapsed": false
   }
  },
  {
   "cell_type": "markdown",
   "source": [
    "plus infinity or negative infinity columns also made as nan, to remove all easily"
   ],
   "metadata": {
    "collapsed": false
   }
  },
  {
   "cell_type": "code",
   "execution_count": 72,
   "outputs": [
    {
     "name": "stdout",
     "output_type": "stream",
     "text": [
      "missing value contains total rows: 36403\n"
     ]
    }
   ],
   "source": [
    "workingDataFrame.replace([np.inf, -np.inf], np.nan, inplace=True)\n",
    "print(f\"missing value contains total rows: {workingDataFrame.isna().any(axis=1).sum()}\")"
   ],
   "metadata": {
    "collapsed": false
   }
  },
  {
   "cell_type": "markdown",
   "source": [
    "After Dropping NaN values, want to see total rows."
   ],
   "metadata": {
    "collapsed": false
   }
  },
  {
   "cell_type": "code",
   "execution_count": 73,
   "outputs": [
    {
     "name": "stdout",
     "output_type": "stream",
     "text": [
      "After dropping NaN values, number of rows: 334202\n",
      "After dropping NaN values, number of columns: 80\n"
     ]
    }
   ],
   "source": [
    "workingDataFrame.dropna(inplace=True)\n",
    "print(f\"After dropping NaN values, number of rows: {workingDataFrame.shape[0]}\")\n",
    "print(f\"After dropping NaN values, number of columns: {workingDataFrame.shape[1]}\")"
   ],
   "metadata": {
    "collapsed": false
   }
  },
  {
   "cell_type": "markdown",
   "source": [
    "That's why, Converting pandas dataFrame into dask's dataFrame"
   ],
   "metadata": {
    "collapsed": false
   }
  },
  {
   "cell_type": "markdown",
   "source": [
    "ddf = dd.from_pandas(workingDataFrame, npartitions=10)\n",
    "ddf.compute()"
   ],
   "metadata": {
    "collapsed": false
   }
  },
  {
   "cell_type": "markdown",
   "source": [
    "Dropping Duplicates\n",
    "There should be no duplicates because they can bias training and can lead to over-optimistic estimates of classification performance during testing."
   ],
   "metadata": {
    "collapsed": false
   }
  },
  {
   "cell_type": "code",
   "execution_count": 74,
   "outputs": [
    {
     "data": {
      "text/plain": "49"
     },
     "execution_count": 74,
     "metadata": {},
     "output_type": "execute_result"
    }
   ],
   "source": [
    "workingDataFrame.duplicated().sum()"
   ],
   "metadata": {
    "collapsed": false
   }
  },
  {
   "cell_type": "markdown",
   "source": [
    "Fully duplicate rows to be removed"
   ],
   "metadata": {
    "collapsed": false
   }
  },
  {
   "cell_type": "code",
   "execution_count": 75,
   "outputs": [
    {
     "name": "stdout",
     "output_type": "stream",
     "text": [
      "After dropping NaN values, number of rows: 334153\n",
      "After dropping NaN values, number of columns: 80\n",
      "After dropping NaN values, unique no of Source IP: 60937\n",
      "After dropping NaN values, unique no of Destination IP: 65088\n"
     ]
    }
   ],
   "source": [
    "workingDataFrame.drop_duplicates(inplace=True)\n",
    "workingDataFrame.reset_index(inplace=True, drop=True)\n",
    "print(f\"After dropping NaN values, number of rows: {workingDataFrame.shape[0]}\")\n",
    "print(f\"After dropping NaN values, number of columns: {workingDataFrame.shape[1]}\")\n",
    "print(f\"After dropping NaN values, unique no of Source IP: {workingDataFrame['Source Port'].nunique()}\")\n",
    "print(f\"After dropping NaN values, unique no of Destination IP: {workingDataFrame['Destination Port'].nunique()}\")\n",
    "# print(workingDataFrame[\"Source IP\"].unique())\n",
    "# print(workingDataFrame[\"Destination IP\"].unique())"
   ],
   "metadata": {
    "collapsed": false
   }
  },
  {
   "cell_type": "markdown",
   "source": [
    "After data cleaning, how much storage it holds now"
   ],
   "metadata": {
    "collapsed": false
   }
  },
  {
   "cell_type": "code",
   "execution_count": null,
   "outputs": [],
   "source": [
    "workingDataFrame.info(memory_usage=\"deep\")"
   ],
   "metadata": {
    "collapsed": false
   }
  },
  {
   "cell_type": "markdown",
   "source": [
    "Now arising problem is that, row number has been significantly reduced but feature numbers are still 80!!\n",
    "So, need feature engineering here"
   ],
   "metadata": {
    "collapsed": false
   }
  },
  {
   "cell_type": "code",
   "execution_count": null,
   "outputs": [],
   "source": [
    "columnList = workingDataFrame.columns.tolist()\n",
    "# columnList[:-1]  # just for now, Omitting 'label' column\n",
    "\n",
    "from sklearn.feature_selection import VarianceThreshold\n",
    "\n",
    "var_thr = VarianceThreshold(threshold=0.1)  #Removing both constant and quasi-constant\n",
    "var_thr.fit(workingDataFrame[columnList[:-1]])\n",
    "\n",
    "var_threshold_bool_list = var_thr.get_support()\n",
    "var_threshold_bool_list_after_label_added = np.append(var_threshold_bool_list,True)\n",
    "var_threshold_bool_list_after_label_added"
   ],
   "metadata": {
    "collapsed": false
   }
  },
  {
   "cell_type": "code",
   "execution_count": null,
   "outputs": [],
   "source": [
    "concol = [column for column in workingDataFrame.columns\n",
    "          if column not in workingDataFrame.columns[var_threshold_bool_list_after_label_added]]\n",
    "\n",
    "for omittedFeatures in concol:\n",
    "    print(omittedFeatures)\n",
    "\n",
    "workingDataFrame.drop(columns=concol, inplace=True, errors='ignore')\n",
    "workingDataFrame"
   ],
   "metadata": {
    "collapsed": false
   }
  },
  {
   "cell_type": "code",
   "execution_count": 76,
   "outputs": [],
   "source": [
    "\n",
    "def featueEngineeringBasedOnZero(dataFrameArg, thresholdPercentage, showPercentage):\n",
    "    totalCols = dataFrameArg.shape[1]\n",
    "    totalRows = len(dataFrameArg)\n",
    "    unNecessaryFeatureCount = 0\n",
    "    unNecessaryFeatureNames = []\n",
    "\n",
    "    for column in dataFrameArg:\n",
    "        zerosInCol = (dataFrameArg[column] == 0).sum()\n",
    "        if zerosInCol != 0:\n",
    "            percentageOfZerosInRow = ((zerosInCol * 100) / totalRows)\n",
    "\n",
    "            if showPercentage:\n",
    "                print(column, \"\\t\\t-\\t\\t\", zerosInCol, \"\\t\\t-\\t\\t\", percentageOfZerosInRow)\n",
    "\n",
    "            if percentageOfZerosInRow > thresholdPercentage:\n",
    "                unNecessaryFeatureNames.append(column)\n",
    "                unNecessaryFeatureCount = unNecessaryFeatureCount + 1\n",
    "\n",
    "    print(\"\\nTotal features having more than \", thresholdPercentage, \"% zero are - \", unNecessaryFeatureCount,\n",
    "          \"out of \",\n",
    "          totalCols)\n",
    "    return unNecessaryFeatureNames"
   ],
   "metadata": {
    "collapsed": false
   }
  },
  {
   "cell_type": "markdown",
   "source": [
    "Identifying those features containing 99% zeroes"
   ],
   "metadata": {
    "collapsed": false
   }
  },
  {
   "cell_type": "code",
   "execution_count": 77,
   "outputs": [
    {
     "name": "stdout",
     "output_type": "stream",
     "text": [
      "\n",
      "Total features having more than  99 % zero are -  25 out of  80\n"
     ]
    },
    {
     "data": {
      "text/plain": "['Bwd Packets Length Total',\n 'Bwd Packet Length Max',\n 'Bwd Packet Length Min',\n 'Bwd Packet Length Mean',\n 'Bwd Packet Length Std',\n 'Bwd IAT Std',\n 'Fwd PSH Flags',\n 'Bwd PSH Flags',\n 'Fwd URG Flags',\n 'Bwd URG Flags',\n 'FIN Flag Count',\n 'SYN Flag Count',\n 'RST Flag Count',\n 'PSH Flag Count',\n 'URG Flag Count',\n 'CWE Flag Count',\n 'ECE Flag Count',\n 'Avg Bwd Segment Size',\n 'Fwd Avg Bytes/Bulk',\n 'Fwd Avg Packets/Bulk',\n 'Fwd Avg Bulk Rate',\n 'Bwd Avg Bytes/Bulk',\n 'Bwd Avg Packets/Bulk',\n 'Bwd Avg Bulk Rate',\n 'Subflow Bwd Bytes']"
     },
     "execution_count": 77,
     "metadata": {},
     "output_type": "execute_result"
    }
   ],
   "source": [
    "featureContainingAlmostZero = featueEngineeringBasedOnZero(dataFrameArg=workingDataFrame, thresholdPercentage=99,showPercentage=False)\n",
    "featureContainingAlmostZero"
   ],
   "metadata": {
    "collapsed": false
   }
  },
  {
   "cell_type": "markdown",
   "source": [
    "Omitting above features containing 99% zeroes"
   ],
   "metadata": {
    "collapsed": false
   }
  },
  {
   "cell_type": "code",
   "execution_count": 78,
   "outputs": [
    {
     "data": {
      "text/plain": "        Source Port  Destination Port  Protocol  Flow Duration  \\\n0             58445              4463        17              1   \n1             36908              9914        17              1   \n2             41727             32361        17              2   \n3             55447              5691        17              2   \n4             58794             56335        17              1   \n...             ...               ...       ...            ...   \n334148        60489             27808         6              1   \n334149        60490             14102         6              1   \n334150        60491             58360         6              1   \n334151        60492              2905         6              2   \n334152        60494             44935         6            134   \n\n        Total Fwd Packets  Total Backward Packets  Fwd Packets Length Total  \\\n0                       2                       0                     766.0   \n1                       2                       0                     778.0   \n2                       2                       0                     750.0   \n3                       2                       0                     738.0   \n4                       2                       0                     750.0   \n...                   ...                     ...                       ...   \n334148                  2                       0                       0.0   \n334149                  2                       0                       0.0   \n334150                  2                       0                       0.0   \n334151                  2                       0                       0.0   \n334152                  2                       2                       0.0   \n\n        Fwd Packet Length Max  Fwd Packet Length Min  Fwd Packet Length Mean  \\\n0                       383.0                  383.0                   383.0   \n1                       389.0                  389.0                   389.0   \n2                       375.0                  375.0                   375.0   \n3                       369.0                  369.0                   369.0   \n4                       375.0                  375.0                   375.0   \n...                       ...                    ...                     ...   \n334148                    0.0                    0.0                     0.0   \n334149                    0.0                    0.0                     0.0   \n334150                    0.0                    0.0                     0.0   \n334151                    0.0                    0.0                     0.0   \n334152                    0.0                    0.0                     0.0   \n\n        ...  Fwd Seg Size Min  Active Mean  Active Std  Active Max  \\\n0       ...                -1          0.0         0.0         0.0   \n1       ...                -1          0.0         0.0         0.0   \n2       ...                -1          0.0         0.0         0.0   \n3       ...                -1          0.0         0.0         0.0   \n4       ...                -1          0.0         0.0         0.0   \n...     ...               ...          ...         ...         ...   \n334148  ...                20          0.0         0.0         0.0   \n334149  ...                20          0.0         0.0         0.0   \n334150  ...                20          0.0         0.0         0.0   \n334151  ...                20          0.0         0.0         0.0   \n334152  ...                20          0.0         0.0         0.0   \n\n        Active Min  Idle Mean  Idle Std  Idle Max  Idle Min    Label  \n0              0.0        0.0       0.0       0.0       0.0  UDP-lag  \n1              0.0        0.0       0.0       0.0       0.0  UDP-lag  \n2              0.0        0.0       0.0       0.0       0.0  UDP-lag  \n3              0.0        0.0       0.0       0.0       0.0  UDP-lag  \n4              0.0        0.0       0.0       0.0       0.0  UDP-lag  \n...            ...        ...       ...       ...       ...      ...  \n334148         0.0        0.0       0.0       0.0       0.0  UDP-lag  \n334149         0.0        0.0       0.0       0.0       0.0  UDP-lag  \n334150         0.0        0.0       0.0       0.0       0.0  UDP-lag  \n334151         0.0        0.0       0.0       0.0       0.0  UDP-lag  \n334152         0.0        0.0       0.0       0.0       0.0  UDP-lag  \n\n[334153 rows x 55 columns]",
      "text/html": "<div>\n<style scoped>\n    .dataframe tbody tr th:only-of-type {\n        vertical-align: middle;\n    }\n\n    .dataframe tbody tr th {\n        vertical-align: top;\n    }\n\n    .dataframe thead th {\n        text-align: right;\n    }\n</style>\n<table border=\"1\" class=\"dataframe\">\n  <thead>\n    <tr style=\"text-align: right;\">\n      <th></th>\n      <th>Source Port</th>\n      <th>Destination Port</th>\n      <th>Protocol</th>\n      <th>Flow Duration</th>\n      <th>Total Fwd Packets</th>\n      <th>Total Backward Packets</th>\n      <th>Fwd Packets Length Total</th>\n      <th>Fwd Packet Length Max</th>\n      <th>Fwd Packet Length Min</th>\n      <th>Fwd Packet Length Mean</th>\n      <th>...</th>\n      <th>Fwd Seg Size Min</th>\n      <th>Active Mean</th>\n      <th>Active Std</th>\n      <th>Active Max</th>\n      <th>Active Min</th>\n      <th>Idle Mean</th>\n      <th>Idle Std</th>\n      <th>Idle Max</th>\n      <th>Idle Min</th>\n      <th>Label</th>\n    </tr>\n  </thead>\n  <tbody>\n    <tr>\n      <th>0</th>\n      <td>58445</td>\n      <td>4463</td>\n      <td>17</td>\n      <td>1</td>\n      <td>2</td>\n      <td>0</td>\n      <td>766.0</td>\n      <td>383.0</td>\n      <td>383.0</td>\n      <td>383.0</td>\n      <td>...</td>\n      <td>-1</td>\n      <td>0.0</td>\n      <td>0.0</td>\n      <td>0.0</td>\n      <td>0.0</td>\n      <td>0.0</td>\n      <td>0.0</td>\n      <td>0.0</td>\n      <td>0.0</td>\n      <td>UDP-lag</td>\n    </tr>\n    <tr>\n      <th>1</th>\n      <td>36908</td>\n      <td>9914</td>\n      <td>17</td>\n      <td>1</td>\n      <td>2</td>\n      <td>0</td>\n      <td>778.0</td>\n      <td>389.0</td>\n      <td>389.0</td>\n      <td>389.0</td>\n      <td>...</td>\n      <td>-1</td>\n      <td>0.0</td>\n      <td>0.0</td>\n      <td>0.0</td>\n      <td>0.0</td>\n      <td>0.0</td>\n      <td>0.0</td>\n      <td>0.0</td>\n      <td>0.0</td>\n      <td>UDP-lag</td>\n    </tr>\n    <tr>\n      <th>2</th>\n      <td>41727</td>\n      <td>32361</td>\n      <td>17</td>\n      <td>2</td>\n      <td>2</td>\n      <td>0</td>\n      <td>750.0</td>\n      <td>375.0</td>\n      <td>375.0</td>\n      <td>375.0</td>\n      <td>...</td>\n      <td>-1</td>\n      <td>0.0</td>\n      <td>0.0</td>\n      <td>0.0</td>\n      <td>0.0</td>\n      <td>0.0</td>\n      <td>0.0</td>\n      <td>0.0</td>\n      <td>0.0</td>\n      <td>UDP-lag</td>\n    </tr>\n    <tr>\n      <th>3</th>\n      <td>55447</td>\n      <td>5691</td>\n      <td>17</td>\n      <td>2</td>\n      <td>2</td>\n      <td>0</td>\n      <td>738.0</td>\n      <td>369.0</td>\n      <td>369.0</td>\n      <td>369.0</td>\n      <td>...</td>\n      <td>-1</td>\n      <td>0.0</td>\n      <td>0.0</td>\n      <td>0.0</td>\n      <td>0.0</td>\n      <td>0.0</td>\n      <td>0.0</td>\n      <td>0.0</td>\n      <td>0.0</td>\n      <td>UDP-lag</td>\n    </tr>\n    <tr>\n      <th>4</th>\n      <td>58794</td>\n      <td>56335</td>\n      <td>17</td>\n      <td>1</td>\n      <td>2</td>\n      <td>0</td>\n      <td>750.0</td>\n      <td>375.0</td>\n      <td>375.0</td>\n      <td>375.0</td>\n      <td>...</td>\n      <td>-1</td>\n      <td>0.0</td>\n      <td>0.0</td>\n      <td>0.0</td>\n      <td>0.0</td>\n      <td>0.0</td>\n      <td>0.0</td>\n      <td>0.0</td>\n      <td>0.0</td>\n      <td>UDP-lag</td>\n    </tr>\n    <tr>\n      <th>...</th>\n      <td>...</td>\n      <td>...</td>\n      <td>...</td>\n      <td>...</td>\n      <td>...</td>\n      <td>...</td>\n      <td>...</td>\n      <td>...</td>\n      <td>...</td>\n      <td>...</td>\n      <td>...</td>\n      <td>...</td>\n      <td>...</td>\n      <td>...</td>\n      <td>...</td>\n      <td>...</td>\n      <td>...</td>\n      <td>...</td>\n      <td>...</td>\n      <td>...</td>\n      <td>...</td>\n    </tr>\n    <tr>\n      <th>334148</th>\n      <td>60489</td>\n      <td>27808</td>\n      <td>6</td>\n      <td>1</td>\n      <td>2</td>\n      <td>0</td>\n      <td>0.0</td>\n      <td>0.0</td>\n      <td>0.0</td>\n      <td>0.0</td>\n      <td>...</td>\n      <td>20</td>\n      <td>0.0</td>\n      <td>0.0</td>\n      <td>0.0</td>\n      <td>0.0</td>\n      <td>0.0</td>\n      <td>0.0</td>\n      <td>0.0</td>\n      <td>0.0</td>\n      <td>UDP-lag</td>\n    </tr>\n    <tr>\n      <th>334149</th>\n      <td>60490</td>\n      <td>14102</td>\n      <td>6</td>\n      <td>1</td>\n      <td>2</td>\n      <td>0</td>\n      <td>0.0</td>\n      <td>0.0</td>\n      <td>0.0</td>\n      <td>0.0</td>\n      <td>...</td>\n      <td>20</td>\n      <td>0.0</td>\n      <td>0.0</td>\n      <td>0.0</td>\n      <td>0.0</td>\n      <td>0.0</td>\n      <td>0.0</td>\n      <td>0.0</td>\n      <td>0.0</td>\n      <td>UDP-lag</td>\n    </tr>\n    <tr>\n      <th>334150</th>\n      <td>60491</td>\n      <td>58360</td>\n      <td>6</td>\n      <td>1</td>\n      <td>2</td>\n      <td>0</td>\n      <td>0.0</td>\n      <td>0.0</td>\n      <td>0.0</td>\n      <td>0.0</td>\n      <td>...</td>\n      <td>20</td>\n      <td>0.0</td>\n      <td>0.0</td>\n      <td>0.0</td>\n      <td>0.0</td>\n      <td>0.0</td>\n      <td>0.0</td>\n      <td>0.0</td>\n      <td>0.0</td>\n      <td>UDP-lag</td>\n    </tr>\n    <tr>\n      <th>334151</th>\n      <td>60492</td>\n      <td>2905</td>\n      <td>6</td>\n      <td>2</td>\n      <td>2</td>\n      <td>0</td>\n      <td>0.0</td>\n      <td>0.0</td>\n      <td>0.0</td>\n      <td>0.0</td>\n      <td>...</td>\n      <td>20</td>\n      <td>0.0</td>\n      <td>0.0</td>\n      <td>0.0</td>\n      <td>0.0</td>\n      <td>0.0</td>\n      <td>0.0</td>\n      <td>0.0</td>\n      <td>0.0</td>\n      <td>UDP-lag</td>\n    </tr>\n    <tr>\n      <th>334152</th>\n      <td>60494</td>\n      <td>44935</td>\n      <td>6</td>\n      <td>134</td>\n      <td>2</td>\n      <td>2</td>\n      <td>0.0</td>\n      <td>0.0</td>\n      <td>0.0</td>\n      <td>0.0</td>\n      <td>...</td>\n      <td>20</td>\n      <td>0.0</td>\n      <td>0.0</td>\n      <td>0.0</td>\n      <td>0.0</td>\n      <td>0.0</td>\n      <td>0.0</td>\n      <td>0.0</td>\n      <td>0.0</td>\n      <td>UDP-lag</td>\n    </tr>\n  </tbody>\n</table>\n<p>334153 rows × 55 columns</p>\n</div>"
     },
     "execution_count": 78,
     "metadata": {},
     "output_type": "execute_result"
    }
   ],
   "source": [
    "workingDataFrame.drop(columns=featureContainingAlmostZero, inplace=True, errors='ignore')\n",
    "workingDataFrame.rename(columns=col_name_consistency, inplace=True)\n",
    "workingDataFrame.reset_index(inplace=True, drop=True)\n",
    "workingDataFrame"
   ],
   "metadata": {
    "collapsed": false
   }
  },
  {
   "cell_type": "markdown",
   "source": [
    "Now, To see the number of unique values in each column"
   ],
   "metadata": {
    "collapsed": false
   }
  },
  {
   "cell_type": "code",
   "execution_count": 79,
   "outputs": [
    {
     "data": {
      "text/plain": "Source Port                 60937\nDestination Port            65088\nProtocol                        3\nFlow Duration               77044\nTotal Fwd Packets             102\nTotal Backward Packets        111\nFwd Packets Length Total      648\nFwd Packet Length Max         448\nFwd Packet Length Min         126\nFwd Packet Length Mean        724\nFwd Packet Length Std         632\nFlow Bytes/s                15607\nFlow Packets/s              77138\nFlow IAT Mean               77156\nFlow IAT Std                83362\nFlow IAT Max                73387\nFlow IAT Min                  340\nFwd IAT Total               75510\nFwd IAT Mean                75594\nFwd IAT Std                 80829\nFwd IAT Max                 72086\nFwd IAT Min                   141\nBwd IAT Total                3300\nBwd IAT Mean                 3317\nBwd IAT Max                  3283\nBwd IAT Min                    87\nFwd Header Length             331\nBwd Header Length             204\nFwd Packets/s               77062\nBwd Packets/s               18532\nPacket Length Min             121\nPacket Length Max             375\nPacket Length Mean            941\nPacket Length Std             788\nPacket Length Variance        788\nACK Flag Count                  2\nDown/Up Ratio                  10\nAvg Packet Size               950\nAvg Fwd Segment Size          724\nSubflow Fwd Packets           102\nSubflow Fwd Bytes             648\nSubflow Bwd Packets           111\nInit Fwd Win Bytes            212\nInit Bwd Win Bytes            233\nFwd Act Data Packets           58\nFwd Seg Size Min               18\nActive Mean                  2172\nActive Std                   2401\nActive Max                   1824\nActive Min                    943\nIdle Mean                   62257\nIdle Std                    42829\nIdle Max                    62234\nIdle Min                    62241\nLabel                           3\ndtype: int64"
     },
     "execution_count": 79,
     "metadata": {},
     "output_type": "execute_result"
    }
   ],
   "source": [
    "workingDataFrame.nunique(axis=0)"
   ],
   "metadata": {
    "collapsed": false
   }
  },
  {
   "cell_type": "code",
   "execution_count": null,
   "outputs": [],
   "source": [
    "workingDataFrame"
   ],
   "metadata": {
    "collapsed": false
   }
  },
  {
   "cell_type": "markdown",
   "source": [
    "Profiling of all features to find out the co-relations"
   ],
   "metadata": {
    "collapsed": false
   }
  },
  {
   "cell_type": "code",
   "execution_count": null,
   "outputs": [],
   "source": [
    "from pandas_profiling import ProfileReport\n",
    "profile = ProfileReport(workingDataFrame, title=\"DDOS\")\n",
    "profile.to_file(\"UdpLag.html\")"
   ],
   "metadata": {
    "collapsed": false
   }
  },
  {
   "cell_type": "markdown",
   "source": [
    "Saving New DataFrame as csv file to new location"
   ],
   "metadata": {
    "collapsed": false
   }
  },
  {
   "cell_type": "code",
   "execution_count": null,
   "outputs": [],
   "source": [
    "def dataCleaningResultToAnotherCSV(dataFrameArg, dirPath, file_name):\n",
    "    dataFrameArg.to_csv(dirPath + file_name)"
   ],
   "metadata": {
    "collapsed": false
   }
  },
  {
   "cell_type": "code",
   "execution_count": null,
   "outputs": [],
   "source": [
    "newCsvPath = \"D:\\\\thesis_dataset\\\\01-12\\\\AfterDataCleaning(Final)\\\\\"\n",
    "newFileName = \"UDPLag.csv\"\n",
    "# newFileName = \"Syn.csv\"\n",
    "# newFileName = \"DrDoS_NTP.csv\"\n",
    "# newFileName = \"DrDoS_LDAP.csv\"\n",
    "# newFileName = \"DrDoS_SSDP.csv\"\n",
    "# newFileName = \"DrDoS_UDP.csv\"\n",
    "dataCleaningResultToAnotherCSV(dataFrameArg=workingDataFrame, dirPath=newCsvPath, file_name=newFileName)"
   ],
   "metadata": {
    "collapsed": false
   }
  },
  {
   "cell_type": "code",
   "execution_count": null,
   "outputs": [],
   "source": [
    "import gc\n",
    "gc.collect()\n"
   ],
   "metadata": {
    "collapsed": false
   }
  }
 ],
 "metadata": {
  "kernelspec": {
   "display_name": "Python 3",
   "language": "python",
   "name": "python3"
  },
  "language_info": {
   "codemirror_mode": {
    "name": "ipython",
    "version": 2
   },
   "file_extension": ".py",
   "mimetype": "text/x-python",
   "name": "python",
   "nbconvert_exporter": "python",
   "pygments_lexer": "ipython2",
   "version": "2.7.6"
  }
 },
 "nbformat": 4,
 "nbformat_minor": 0
}

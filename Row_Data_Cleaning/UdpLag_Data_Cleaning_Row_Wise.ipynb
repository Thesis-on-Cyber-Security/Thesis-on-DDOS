{
 "cells": [
  {
   "cell_type": "markdown",
   "source": [
    "<center><h2>\n",
    "<a href=\"https://masumbhai.me\">Kindly visit my portfolio to see more of my works</a>\n",
    "</h2></center>"
   ],
   "metadata": {
    "collapsed": false
   }
  },
  {
   "cell_type": "markdown",
   "source": [
    "<p style=\"background:black\">\n",
    "<code style=\"background:black;color: #0FFF50\">\n",
    "anaconda login <br/>\n",
    "conda install -c conda-forge numpy <br/>\n",
    "pip install pandas <br/>\n",
    "pip install seaborn <br/>\n",
    "conda install -c conda-forge matplotlib <br/>\n",
    "conda install -c conda-forge scikit-learn <br/>\n",
    "conda install -c conda-forge dask <br/>\n",
    "conda install -c fastai fastcore <br/>\n",
    "conda install jupyter notebook <br/>\n",
    "pip install jupyter <br/>\n",
    "pip install tqdm <br/>\n",
    "conda install cudatoolkit <br/>\n",
    "pip install --default-timeout=100 tensorflow==2.3.4 <br/>\n",
    "pip install --default-timeout=100 tensorflow-gpu==2.3.4 <br/>\n",
    "pip install numba <br/>\n",
    "</code>\n",
    "</p>"
   ],
   "metadata": {
    "collapsed": false
   }
  },
  {
   "cell_type": "code",
   "execution_count": 1,
   "metadata": {
    "collapsed": true
   },
   "outputs": [],
   "source": [
    "import numpy as np\n",
    "import pandas as pd\n",
    "from dask import dataframe as dd\n",
    "from dask.distributed import Client"
   ]
  },
  {
   "cell_type": "markdown",
   "source": [
    "<center><h4 style=\"background:yellow;color:black\">\n",
    "Setting up paths to csv files / datasets\n",
    "</center></h4>"
   ],
   "metadata": {
    "collapsed": false
   }
  },
  {
   "cell_type": "code",
   "execution_count": 2,
   "outputs": [
    {
     "name": "stdout",
     "output_type": "stream",
     "text": [
      "Total Dataset CSV Files 11\n"
     ]
    }
   ],
   "source": [
    "# CSV-01-12\n",
    "path_DdoS_DNS = \"C:\\\\Thesis_Group_of_Brig_Gen_Razzak_Sir\\\\01-12\\\\DrDoS_DNS.csv\"\n",
    "path_DdoS_MSSQL = \"C:\\\\Thesis_Group_of_Brig_Gen_Razzak_Sir\\\\01-12\\\\DrDoS_MSSQL.csv\"\n",
    "path_DdoS_LDAP = \"C:\\\\Thesis_Group_of_Brig_Gen_Razzak_Sir\\\\01-12\\\\DrDoS_LDAP.csv\"\n",
    "path_DdoS_NTP = \"C:\\\\Thesis_Group_of_Brig_Gen_Razzak_Sir\\\\01-12\\\\DrDoS_NTP.csv\"\n",
    "path_DdoS_NetBIOS = \"C:\\\\Thesis_Group_of_Brig_Gen_Razzak_Sir\\\\01-12\\\\DrDoS_NetBIOS.csv\"\n",
    "path_DdoS_SNMP = \"C:\\\\Thesis_Group_of_Brig_Gen_Razzak_Sir\\\\01-12\\\\DrDoS_SNMP.csv\"\n",
    "path_DdoS_SSDP = \"C:\\\\Thesis_Group_of_Brig_Gen_Razzak_Sir\\\\01-12\\\\DrDoS_SSDP.csv\"\n",
    "path_DdoS_UDP = \"C:\\\\Thesis_Group_of_Brig_Gen_Razzak_Sir\\\\01-12\\\\DrDoS_UDP.csv\"\n",
    "path_Syn = \"C:\\\\Thesis_Group_of_Brig_Gen_Razzak_Sir\\\\01-12\\\\Syn.csv\"\n",
    "path_TFTP = \"C:\\\\Thesis_Group_of_Brig_Gen_Razzak_Sir\\\\01-12\\\\TFTP.csv\"\n",
    "path_UDPLag = \"C:\\\\Thesis_Group_of_Brig_Gen_Razzak_Sir\\\\01-12\\\\UDPLag.csv\"\n",
    "\n",
    "# # CSV-03-11\n",
    "# path__LDAP = \"../CICDDoS-2019/CSV-03-11/03-11/LDAP.csv\"\n",
    "# path__MSSQL = \"../CICDDoS-2019/CSV-03-11/03-11/MSSQL.csv\"\n",
    "# path__NetBIOS = \"../CICDDoS-2019/CSV-03-11/03-11/NetBIOS.csv\"\n",
    "# path__Portmap = \"../CICDDoS-2019/CSV-03-11/03-11/Portmap.csv\"\n",
    "# path__Syn = \"../CICDDoS-2019/CSV-03-11/03-11/Syn.csv\"\n",
    "# path__UDP = \"../CICDDoS-2019/CSV-03-11/03-11/UDP.csv\"\n",
    "# path__UDPLag = \"../CICDDoS-2019/CSV-03-11/03-11/UDPLag.csv\"\n",
    "\n",
    "paths = [path_DdoS_DNS, path_DdoS_MSSQL, path_DdoS_LDAP, path_DdoS_NTP, path_DdoS_NetBIOS, path_DdoS_SNMP,\n",
    "         path_DdoS_SSDP, path_DdoS_UDP, path_Syn, path_TFTP, path_UDPLag]\n",
    "# , path__LDAP, path__MSSQL, path__NetBIOS,\n",
    "#      path__Portmap, path__Syn, path__UDP, path__UDPLag]\n",
    "print(\"Total Dataset CSV Files\", len(paths))\n"
   ],
   "metadata": {
    "collapsed": false
   }
  },
  {
   "cell_type": "markdown",
   "source": [
    "Assuming Column / feature names might differ in different csv files"
   ],
   "metadata": {
    "collapsed": false
   }
  },
  {
   "cell_type": "code",
   "execution_count": 3,
   "outputs": [],
   "source": [
    "col_name_consistency = {\n",
    "    'Flow ID': 'Flow ID',\n",
    "    'Source IP': 'Source IP',\n",
    "    'Src IP': 'Source IP',\n",
    "    'Source Port': 'Source Port',\n",
    "    'Src Port': 'Source Port',\n",
    "    'Destination IP': 'Destination IP',\n",
    "    'Dst IP': 'Destination IP',\n",
    "    'Destination Port': 'Destination Port',\n",
    "    'Dst Port': 'Destination Port',\n",
    "    'Protocol': 'Protocol',\n",
    "    'Timestamp': 'Timestamp',\n",
    "    'Flow Duration': 'Flow Duration',\n",
    "    'Total Fwd Packets': 'Total Fwd Packets',\n",
    "    'Tot Fwd Pkts': 'Total Fwd Packets',\n",
    "    'Total Backward Packets': 'Total Backward Packets',\n",
    "    'Tot Bwd Pkts': 'Total Backward Packets',\n",
    "    'Total Length of Fwd Packets': 'Fwd Packets Length Total',\n",
    "    'TotLen Fwd Pkts': 'Fwd Packets Length Total',\n",
    "    'Total Length of Bwd Packets': 'Bwd Packets Length Total',\n",
    "    'TotLen Bwd Pkts': 'Bwd Packets Length Total',\n",
    "    'Fwd Packet Length Max': 'Fwd Packet Length Max',\n",
    "    'Fwd Pkt Len Max': 'Fwd Packet Length Max',\n",
    "    'Fwd Packet Length Min': 'Fwd Packet Length Min',\n",
    "    'Fwd Pkt Len Min': 'Fwd Packet Length Min',\n",
    "    'Fwd Packet Length Mean': 'Fwd Packet Length Mean',\n",
    "    'Fwd Pkt Len Mean': 'Fwd Packet Length Mean',\n",
    "    'Fwd Packet Length Std': 'Fwd Packet Length Std',\n",
    "    'Fwd Pkt Len Std': 'Fwd Packet Length Std',\n",
    "    'Bwd Packet Length Max': 'Bwd Packet Length Max',\n",
    "    'Bwd Pkt Len Max': 'Bwd Packet Length Max',\n",
    "    'Bwd Packet Length Min': 'Bwd Packet Length Min',\n",
    "    'Bwd Pkt Len Min': 'Bwd Packet Length Min',\n",
    "    'Bwd Packet Length Mean': 'Bwd Packet Length Mean',\n",
    "    'Bwd Pkt Len Mean': 'Bwd Packet Length Mean',\n",
    "    'Bwd Packet Length Std': 'Bwd Packet Length Std',\n",
    "    'Bwd Pkt Len Std': 'Bwd Packet Length Std',\n",
    "    'Flow Bytes/s': 'Flow Bytes/s',\n",
    "    'Flow Byts/s': 'Flow Bytes/s',\n",
    "    'Flow Packets/s': 'Flow Packets/s',\n",
    "    'Flow Pkts/s': 'Flow Packets/s',\n",
    "    'Flow IAT Mean': 'Flow IAT Mean',\n",
    "    'Flow IAT Std': 'Flow IAT Std',\n",
    "    'Flow IAT Max': 'Flow IAT Max',\n",
    "    'Flow IAT Min': 'Flow IAT Min',\n",
    "    'Fwd IAT Total': 'Fwd IAT Total',\n",
    "    'Fwd IAT Tot': 'Fwd IAT Total',\n",
    "    'Fwd IAT Mean': 'Fwd IAT Mean',\n",
    "    'Fwd IAT Std': 'Fwd IAT Std',\n",
    "    'Fwd IAT Max': 'Fwd IAT Max',\n",
    "    'Fwd IAT Min': 'Fwd IAT Min',\n",
    "    'Bwd IAT Total': 'Bwd IAT Total',\n",
    "    'Bwd IAT Tot': 'Bwd IAT Total',\n",
    "    'Bwd IAT Mean': 'Bwd IAT Mean',\n",
    "    'Bwd IAT Std': 'Bwd IAT Std',\n",
    "    'Bwd IAT Max': 'Bwd IAT Max',\n",
    "    'Bwd IAT Min': 'Bwd IAT Min',\n",
    "    'Fwd PSH Flags': 'Fwd PSH Flags',\n",
    "    'Bwd PSH Flags': 'Bwd PSH Flags',\n",
    "    'Fwd URG Flags': 'Fwd URG Flags',\n",
    "    'Bwd URG Flags': 'Bwd URG Flags',\n",
    "    'Fwd Header Length': 'Fwd Header Length',\n",
    "    'Fwd Header Len': 'Fwd Header Length',\n",
    "    'Bwd Header Length': 'Bwd Header Length',\n",
    "    'Bwd Header Len': 'Bwd Header Length',\n",
    "    'Fwd Packets/s': 'Fwd Packets/s',\n",
    "    'Fwd Pkts/s': 'Fwd Packets/s',\n",
    "    'Bwd Packets/s': 'Bwd Packets/s',\n",
    "    'Bwd Pkts/s': 'Bwd Packets/s',\n",
    "    'Min Packet Length': 'Packet Length Min',\n",
    "    'Pkt Len Min': 'Packet Length Min',\n",
    "    'Max Packet Length': 'Packet Length Max',\n",
    "    'Pkt Len Max': 'Packet Length Max',\n",
    "    'Packet Length Mean': 'Packet Length Mean',\n",
    "    'Pkt Len Mean': 'Packet Length Mean',\n",
    "    'Packet Length Std': 'Packet Length Std',\n",
    "    'Pkt Len Std': 'Packet Length Std',\n",
    "    'Packet Length Variance': 'Packet Length Variance',\n",
    "    'Pkt Len Var': 'Packet Length Variance',\n",
    "    'FIN Flag Count': 'FIN Flag Count',\n",
    "    'FIN Flag Cnt': 'FIN Flag Count',\n",
    "    'SYN Flag Count': 'SYN Flag Count',\n",
    "    'SYN Flag Cnt': 'SYN Flag Count',\n",
    "    'RST Flag Count': 'RST Flag Count',\n",
    "    'RST Flag Cnt': 'RST Flag Count',\n",
    "    'PSH Flag Count': 'PSH Flag Count',\n",
    "    'PSH Flag Cnt': 'PSH Flag Count',\n",
    "    'ACK Flag Count': 'ACK Flag Count',\n",
    "    'ACK Flag Cnt': 'ACK Flag Count',\n",
    "    'URG Flag Count': 'URG Flag Count',\n",
    "    'URG Flag Cnt': 'URG Flag Count',\n",
    "    'CWE Flag Count': 'CWE Flag Count',\n",
    "    'CWE Flag Cnt': 'CWE Flag Count',\n",
    "    'ECE Flag Count': 'ECE Flag Count',\n",
    "    'ECE Flag Cnt': 'ECE Flag Count',\n",
    "    'Down/Up Ratio': 'Down/Up Ratio',\n",
    "    'Average Packet Size': 'Avg Packet Size',\n",
    "    'Pkt Size Avg': 'Avg Packet Size',\n",
    "    'Avg Fwd Segment Size': 'Avg Fwd Segment Size',\n",
    "    'Fwd Seg Size Avg': 'Avg Fwd Segment Size',\n",
    "    'Avg Bwd Segment Size': 'Avg Bwd Segment Size',\n",
    "    'Bwd Seg Size Avg': 'Avg Bwd Segment Size',\n",
    "    'Fwd Avg Bytes/Bulk': 'Fwd Avg Bytes/Bulk',\n",
    "    'Fwd Byts/b Avg': 'Fwd Avg Bytes/Bulk',\n",
    "    'Fwd Avg Packets/Bulk': 'Fwd Avg Packets/Bulk',\n",
    "    'Fwd Pkts/b Avg': 'Fwd Avg Packets/Bulk',\n",
    "    'Fwd Avg Bulk Rate': 'Fwd Avg Bulk Rate',\n",
    "    'Fwd Blk Rate Avg': 'Fwd Avg Bulk Rate',\n",
    "    'Bwd Avg Bytes/Bulk': 'Bwd Avg Bytes/Bulk',\n",
    "    'Bwd Byts/b Avg': 'Bwd Avg Bytes/Bulk',\n",
    "    'Bwd Avg Packets/Bulk': 'Bwd Avg Packets/Bulk',\n",
    "    'Bwd Pkts/b Avg': 'Bwd Avg Packets/Bulk',\n",
    "    'Bwd Avg Bulk Rate': 'Bwd Avg Bulk Rate',\n",
    "    'Bwd Blk Rate Avg': 'Bwd Avg Bulk Rate',\n",
    "    'Subflow Fwd Packets': 'Subflow Fwd Packets',\n",
    "    'Subflow Fwd Pkts': 'Subflow Fwd Packets',\n",
    "    'Subflow Fwd Bytes': 'Subflow Fwd Bytes',\n",
    "    'Subflow Fwd Byts': 'Subflow Fwd Bytes',\n",
    "    'Subflow Bwd Packets': 'Subflow Bwd Packets',\n",
    "    'Subflow Bwd Pkts': 'Subflow Bwd Packets',\n",
    "    'Subflow Bwd Bytes': 'Subflow Bwd Bytes',\n",
    "    'Subflow Bwd Byts': 'Subflow Bwd Bytes',\n",
    "    'Init_Win_bytes_forward': 'Init Fwd Win Bytes',\n",
    "    'Init Fwd Win Byts': 'Init Fwd Win Bytes',\n",
    "    'Init_Win_bytes_backward': 'Init Bwd Win Bytes',\n",
    "    'Init Bwd Win Byts': 'Init Bwd Win Bytes',\n",
    "    'act_data_pkt_fwd': 'Fwd Act Data Packets',\n",
    "    'Fwd Act Data Pkts': 'Fwd Act Data Packets',\n",
    "    'min_seg_size_forward': 'Fwd Seg Size Min',\n",
    "    'Fwd Seg Size Min': 'Fwd Seg Size Min',\n",
    "    'Active Mean': 'Active Mean',\n",
    "    'Active Std': 'Active Std',\n",
    "    'Active Max': 'Active Max',\n",
    "    'Active Min': 'Active Min',\n",
    "    'Idle Mean': 'Idle Mean',\n",
    "    'Idle Std': 'Idle Std',\n",
    "    'Idle Max': 'Idle Max',\n",
    "    'Idle Min': 'Idle Min',\n",
    "    'Label': 'Label'\n",
    "}"
   ],
   "metadata": {
    "collapsed": false
   }
  },
  {
   "cell_type": "markdown",
   "source": [
    "Using Parallel Processing {Dask Library} to Read the Large (above 1GB) csv files as chunk-wise but returning pandas dataframe"
   ],
   "metadata": {
    "collapsed": false
   }
  },
  {
   "cell_type": "code",
   "execution_count": 4,
   "outputs": [],
   "source": [
    "def readHugeCsvFileAsDataFrame(file_path):\n",
    "    dtypes = {'SimillarHTTP': 'object',\n",
    "              'Timestamp': 'object',\n",
    "              'Source IP': 'str',\n",
    "              'Destination IP': 'str',\n",
    "              'Flow ID': 'object',\n",
    "              'Label': 'object',\n",
    "              }\n",
    "    for feature in [f'f_{i}' for i in range(82)]:\n",
    "        dtypes[feature] = \"float32\"\n",
    "\n",
    "    dask_df = dd.read_csv(file_path, low_memory=False, blocksize=1e6, dtype=dtypes)  # 50MB chunk-size\n",
    "    # dask_df = dask_df.repartition(npartitions=8)\n",
    "    return dask_df.compute()\n"
   ],
   "metadata": {
    "collapsed": false
   }
  },
  {
   "cell_type": "markdown",
   "source": [
    "With Scheduler (see the elapsed time to process each file)"
   ],
   "metadata": {
    "collapsed": false
   }
  },
  {
   "cell_type": "code",
   "execution_count": 5,
   "outputs": [
    {
     "name": "stderr",
     "output_type": "stream",
     "text": [
      "C:\\Users\\MIST LAB\\anaconda3\\envs\\ml_env\\lib\\site-packages\\distributed\\node.py:182: UserWarning: Port 8787 is already in use.\n",
      "Perhaps you already have a cluster running?\n",
      "Hosting the HTTP server on port 51575 instead\n",
      "  f\"Port {expected} is already in use.\\n\"\n"
     ]
    },
    {
     "name": "stdout",
     "output_type": "stream",
     "text": [
      "Wall time: 4.11 s\n"
     ]
    },
    {
     "data": {
      "text/plain": "      Unnamed: 0                                 Flow ID   Source IP  \\\n0         186059   172.16.0.5-192.168.50.1-58445-4463-17  172.16.0.5   \n1         135692   172.16.0.5-192.168.50.1-36908-9914-17  172.16.0.5   \n2          33822  172.16.0.5-192.168.50.1-41727-32361-17  172.16.0.5   \n3          24498   172.16.0.5-192.168.50.1-55447-5691-17  172.16.0.5   \n4         117372  172.16.0.5-192.168.50.1-58794-56335-17  172.16.0.5   \n...          ...                                     ...         ...   \n2565      350624   172.16.0.5-192.168.50.1-60490-14102-6  172.16.0.5   \n2566      336856   172.16.0.5-192.168.50.1-60491-58360-6  172.16.0.5   \n2567      115128    172.16.0.5-192.168.50.1-60492-2905-6  172.16.0.5   \n2568       51370   172.16.0.5-192.168.50.1-60493-45714-6  172.16.0.5   \n2569      317173   172.16.0.5-192.168.50.1-60494-44935-6  172.16.0.5   \n\n       Source Port  Destination IP   Destination Port   Protocol  \\\n0            58445    192.168.50.1               4463         17   \n1            36908    192.168.50.1               9914         17   \n2            41727    192.168.50.1              32361         17   \n3            55447    192.168.50.1               5691         17   \n4            58794    192.168.50.1              56335         17   \n...            ...             ...                ...        ...   \n2565         60490    192.168.50.1              14102          6   \n2566         60491    192.168.50.1              58360          6   \n2567         60492    192.168.50.1               2905          6   \n2568         60493    192.168.50.1              45714          6   \n2569         60494    192.168.50.1              44935          6   \n\n                       Timestamp   Flow Duration   Total Fwd Packets  ...  \\\n0     2018-12-01 13:04:45.928673               1                   2  ...   \n1     2018-12-01 13:04:45.928913               1                   2  ...   \n2     2018-12-01 13:04:45.928915               2                   2  ...   \n3     2018-12-01 13:04:45.929024               2                   2  ...   \n4     2018-12-01 13:04:45.929096               1                   2  ...   \n...                          ...             ...                 ...  ...   \n2565  2018-12-01 13:30:30.740273               1                   2  ...   \n2566  2018-12-01 13:30:30.740323               1                   2  ...   \n2567  2018-12-01 13:30:30.740374               2                   2  ...   \n2568  2018-12-01 13:30:30.740424               0                   2  ...   \n2569  2018-12-01 13:30:30.740425             134                   2  ...   \n\n       Active Std   Active Max   Active Min  Idle Mean   Idle Std   Idle Max  \\\n0             0.0          0.0          0.0        0.0        0.0        0.0   \n1             0.0          0.0          0.0        0.0        0.0        0.0   \n2             0.0          0.0          0.0        0.0        0.0        0.0   \n3             0.0          0.0          0.0        0.0        0.0        0.0   \n4             0.0          0.0          0.0        0.0        0.0        0.0   \n...           ...          ...          ...        ...        ...        ...   \n2565          0.0          0.0          0.0        0.0        0.0        0.0   \n2566          0.0          0.0          0.0        0.0        0.0        0.0   \n2567          0.0          0.0          0.0        0.0        0.0        0.0   \n2568          0.0          0.0          0.0        0.0        0.0        0.0   \n2569          0.0          0.0          0.0        0.0        0.0        0.0   \n\n       Idle Min  SimillarHTTP   Inbound    Label  \n0           0.0             0         1  UDP-lag  \n1           0.0             0         1  UDP-lag  \n2           0.0             0         1  UDP-lag  \n3           0.0             0         1  UDP-lag  \n4           0.0             0         1  UDP-lag  \n...         ...           ...       ...      ...  \n2565        0.0             0         1  UDP-lag  \n2566        0.0             0         1  UDP-lag  \n2567        0.0             0         1  UDP-lag  \n2568        0.0             0         1  UDP-lag  \n2569        0.0             0         1  UDP-lag  \n\n[370605 rows x 88 columns]",
      "text/html": "<div>\n<style scoped>\n    .dataframe tbody tr th:only-of-type {\n        vertical-align: middle;\n    }\n\n    .dataframe tbody tr th {\n        vertical-align: top;\n    }\n\n    .dataframe thead th {\n        text-align: right;\n    }\n</style>\n<table border=\"1\" class=\"dataframe\">\n  <thead>\n    <tr style=\"text-align: right;\">\n      <th></th>\n      <th>Unnamed: 0</th>\n      <th>Flow ID</th>\n      <th>Source IP</th>\n      <th>Source Port</th>\n      <th>Destination IP</th>\n      <th>Destination Port</th>\n      <th>Protocol</th>\n      <th>Timestamp</th>\n      <th>Flow Duration</th>\n      <th>Total Fwd Packets</th>\n      <th>...</th>\n      <th>Active Std</th>\n      <th>Active Max</th>\n      <th>Active Min</th>\n      <th>Idle Mean</th>\n      <th>Idle Std</th>\n      <th>Idle Max</th>\n      <th>Idle Min</th>\n      <th>SimillarHTTP</th>\n      <th>Inbound</th>\n      <th>Label</th>\n    </tr>\n  </thead>\n  <tbody>\n    <tr>\n      <th>0</th>\n      <td>186059</td>\n      <td>172.16.0.5-192.168.50.1-58445-4463-17</td>\n      <td>172.16.0.5</td>\n      <td>58445</td>\n      <td>192.168.50.1</td>\n      <td>4463</td>\n      <td>17</td>\n      <td>2018-12-01 13:04:45.928673</td>\n      <td>1</td>\n      <td>2</td>\n      <td>...</td>\n      <td>0.0</td>\n      <td>0.0</td>\n      <td>0.0</td>\n      <td>0.0</td>\n      <td>0.0</td>\n      <td>0.0</td>\n      <td>0.0</td>\n      <td>0</td>\n      <td>1</td>\n      <td>UDP-lag</td>\n    </tr>\n    <tr>\n      <th>1</th>\n      <td>135692</td>\n      <td>172.16.0.5-192.168.50.1-36908-9914-17</td>\n      <td>172.16.0.5</td>\n      <td>36908</td>\n      <td>192.168.50.1</td>\n      <td>9914</td>\n      <td>17</td>\n      <td>2018-12-01 13:04:45.928913</td>\n      <td>1</td>\n      <td>2</td>\n      <td>...</td>\n      <td>0.0</td>\n      <td>0.0</td>\n      <td>0.0</td>\n      <td>0.0</td>\n      <td>0.0</td>\n      <td>0.0</td>\n      <td>0.0</td>\n      <td>0</td>\n      <td>1</td>\n      <td>UDP-lag</td>\n    </tr>\n    <tr>\n      <th>2</th>\n      <td>33822</td>\n      <td>172.16.0.5-192.168.50.1-41727-32361-17</td>\n      <td>172.16.0.5</td>\n      <td>41727</td>\n      <td>192.168.50.1</td>\n      <td>32361</td>\n      <td>17</td>\n      <td>2018-12-01 13:04:45.928915</td>\n      <td>2</td>\n      <td>2</td>\n      <td>...</td>\n      <td>0.0</td>\n      <td>0.0</td>\n      <td>0.0</td>\n      <td>0.0</td>\n      <td>0.0</td>\n      <td>0.0</td>\n      <td>0.0</td>\n      <td>0</td>\n      <td>1</td>\n      <td>UDP-lag</td>\n    </tr>\n    <tr>\n      <th>3</th>\n      <td>24498</td>\n      <td>172.16.0.5-192.168.50.1-55447-5691-17</td>\n      <td>172.16.0.5</td>\n      <td>55447</td>\n      <td>192.168.50.1</td>\n      <td>5691</td>\n      <td>17</td>\n      <td>2018-12-01 13:04:45.929024</td>\n      <td>2</td>\n      <td>2</td>\n      <td>...</td>\n      <td>0.0</td>\n      <td>0.0</td>\n      <td>0.0</td>\n      <td>0.0</td>\n      <td>0.0</td>\n      <td>0.0</td>\n      <td>0.0</td>\n      <td>0</td>\n      <td>1</td>\n      <td>UDP-lag</td>\n    </tr>\n    <tr>\n      <th>4</th>\n      <td>117372</td>\n      <td>172.16.0.5-192.168.50.1-58794-56335-17</td>\n      <td>172.16.0.5</td>\n      <td>58794</td>\n      <td>192.168.50.1</td>\n      <td>56335</td>\n      <td>17</td>\n      <td>2018-12-01 13:04:45.929096</td>\n      <td>1</td>\n      <td>2</td>\n      <td>...</td>\n      <td>0.0</td>\n      <td>0.0</td>\n      <td>0.0</td>\n      <td>0.0</td>\n      <td>0.0</td>\n      <td>0.0</td>\n      <td>0.0</td>\n      <td>0</td>\n      <td>1</td>\n      <td>UDP-lag</td>\n    </tr>\n    <tr>\n      <th>...</th>\n      <td>...</td>\n      <td>...</td>\n      <td>...</td>\n      <td>...</td>\n      <td>...</td>\n      <td>...</td>\n      <td>...</td>\n      <td>...</td>\n      <td>...</td>\n      <td>...</td>\n      <td>...</td>\n      <td>...</td>\n      <td>...</td>\n      <td>...</td>\n      <td>...</td>\n      <td>...</td>\n      <td>...</td>\n      <td>...</td>\n      <td>...</td>\n      <td>...</td>\n      <td>...</td>\n    </tr>\n    <tr>\n      <th>2565</th>\n      <td>350624</td>\n      <td>172.16.0.5-192.168.50.1-60490-14102-6</td>\n      <td>172.16.0.5</td>\n      <td>60490</td>\n      <td>192.168.50.1</td>\n      <td>14102</td>\n      <td>6</td>\n      <td>2018-12-01 13:30:30.740273</td>\n      <td>1</td>\n      <td>2</td>\n      <td>...</td>\n      <td>0.0</td>\n      <td>0.0</td>\n      <td>0.0</td>\n      <td>0.0</td>\n      <td>0.0</td>\n      <td>0.0</td>\n      <td>0.0</td>\n      <td>0</td>\n      <td>1</td>\n      <td>UDP-lag</td>\n    </tr>\n    <tr>\n      <th>2566</th>\n      <td>336856</td>\n      <td>172.16.0.5-192.168.50.1-60491-58360-6</td>\n      <td>172.16.0.5</td>\n      <td>60491</td>\n      <td>192.168.50.1</td>\n      <td>58360</td>\n      <td>6</td>\n      <td>2018-12-01 13:30:30.740323</td>\n      <td>1</td>\n      <td>2</td>\n      <td>...</td>\n      <td>0.0</td>\n      <td>0.0</td>\n      <td>0.0</td>\n      <td>0.0</td>\n      <td>0.0</td>\n      <td>0.0</td>\n      <td>0.0</td>\n      <td>0</td>\n      <td>1</td>\n      <td>UDP-lag</td>\n    </tr>\n    <tr>\n      <th>2567</th>\n      <td>115128</td>\n      <td>172.16.0.5-192.168.50.1-60492-2905-6</td>\n      <td>172.16.0.5</td>\n      <td>60492</td>\n      <td>192.168.50.1</td>\n      <td>2905</td>\n      <td>6</td>\n      <td>2018-12-01 13:30:30.740374</td>\n      <td>2</td>\n      <td>2</td>\n      <td>...</td>\n      <td>0.0</td>\n      <td>0.0</td>\n      <td>0.0</td>\n      <td>0.0</td>\n      <td>0.0</td>\n      <td>0.0</td>\n      <td>0.0</td>\n      <td>0</td>\n      <td>1</td>\n      <td>UDP-lag</td>\n    </tr>\n    <tr>\n      <th>2568</th>\n      <td>51370</td>\n      <td>172.16.0.5-192.168.50.1-60493-45714-6</td>\n      <td>172.16.0.5</td>\n      <td>60493</td>\n      <td>192.168.50.1</td>\n      <td>45714</td>\n      <td>6</td>\n      <td>2018-12-01 13:30:30.740424</td>\n      <td>0</td>\n      <td>2</td>\n      <td>...</td>\n      <td>0.0</td>\n      <td>0.0</td>\n      <td>0.0</td>\n      <td>0.0</td>\n      <td>0.0</td>\n      <td>0.0</td>\n      <td>0.0</td>\n      <td>0</td>\n      <td>1</td>\n      <td>UDP-lag</td>\n    </tr>\n    <tr>\n      <th>2569</th>\n      <td>317173</td>\n      <td>172.16.0.5-192.168.50.1-60494-44935-6</td>\n      <td>172.16.0.5</td>\n      <td>60494</td>\n      <td>192.168.50.1</td>\n      <td>44935</td>\n      <td>6</td>\n      <td>2018-12-01 13:30:30.740425</td>\n      <td>134</td>\n      <td>2</td>\n      <td>...</td>\n      <td>0.0</td>\n      <td>0.0</td>\n      <td>0.0</td>\n      <td>0.0</td>\n      <td>0.0</td>\n      <td>0.0</td>\n      <td>0.0</td>\n      <td>0</td>\n      <td>1</td>\n      <td>UDP-lag</td>\n    </tr>\n  </tbody>\n</table>\n<p>370605 rows × 88 columns</p>\n</div>"
     },
     "execution_count": 5,
     "metadata": {},
     "output_type": "execute_result"
    }
   ],
   "source": [
    "%%time\n",
    "daskScheduler = Client()\n",
    "worker_output = daskScheduler.submit(readHugeCsvFileAsDataFrame, path_UDPLag)\n",
    "workingDataFrame = worker_output.result()\n",
    "workingDataFrame"
   ],
   "metadata": {
    "collapsed": false
   }
  },
  {
   "cell_type": "code",
   "execution_count": 6,
   "outputs": [
    {
     "name": "stdout",
     "output_type": "stream",
     "text": [
      "Memory usage of Working Dataframe: 251.65 MB\n",
      "Total Features in the initial csv file:  88\n"
     ]
    }
   ],
   "source": [
    "mb = workingDataFrame.memory_usage().sum() / 1024 ** 2\n",
    "print('Memory usage of Working Dataframe: {:.2f} MB'.format(mb))\n",
    "print(\"Total Features in the initial csv file: \", len(list(workingDataFrame.columns)))"
   ],
   "metadata": {
    "collapsed": false
   }
  },
  {
   "cell_type": "markdown",
   "source": [
    "<center><h4 style=\"background:#ADFF2F;color:black\">\n",
    "Following Columns may have little insignificance over model creation. Follow <a href=\"https://link.springer.com/chapter/10.1007/978-3-031-09484-2_2\" >This Paper Link</a>\n",
    "</h4></center>"
   ],
   "metadata": {
    "collapsed": false
   }
  },
  {
   "cell_type": "code",
   "execution_count": 7,
   "outputs": [],
   "source": [
    "# src_port,dst_port, src_ip, dst_ip these are duplicate\n",
    "drop_columns = [\n",
    "    \"Flow ID\",\n",
    "    'Fwd Header Length.1',\n",
    "    \"Source IP\", \"Src IP\",\n",
    "    \"Source Port\", \"Src Port\",\n",
    "    \"Destination IP\", \"Dst IP\",\n",
    "    \"Destination Port\", \"Dst Port\",\n",
    "    \"Timestamp\",\n",
    "    \"Unnamed: 0\",\n",
    "    \"Inbound\",\n",
    "    \"SimillarHTTP\"\n",
    "]"
   ],
   "metadata": {
    "collapsed": false
   }
  },
  {
   "cell_type": "markdown",
   "source": [
    "<center><h3 style=\"background:yellow;color:black\">\n",
    "Dropping Unnecessary Features & maintain column consistency\n",
    "</h3></center>"
   ],
   "metadata": {
    "collapsed": false
   }
  },
  {
   "cell_type": "code",
   "execution_count": 8,
   "outputs": [
    {
     "data": {
      "text/plain": "(370605, 78)"
     },
     "execution_count": 8,
     "metadata": {},
     "output_type": "execute_result"
    }
   ],
   "source": [
    "workingDataFrame.columns = workingDataFrame.columns.str.strip()  # sometimes there's leading / trailing whitespace\n",
    "workingDataFrame.rename(columns=col_name_consistency, inplace=True)\n",
    "workingDataFrame.drop(columns=drop_columns, inplace=True, errors='ignore')\n",
    "\n",
    "workingDataFrame.shape"
   ],
   "metadata": {
    "collapsed": false
   }
  },
  {
   "cell_type": "markdown",
   "source": [
    "<center><h3 style=\"background:yellow;color:black\">\n",
    "Data Cleaning Based on Data Types (DownSizing)\n",
    "</h3></center>"
   ],
   "metadata": {
    "collapsed": false
   }
  },
  {
   "cell_type": "code",
   "execution_count": 9,
   "outputs": [
    {
     "name": "stdout",
     "output_type": "stream",
     "text": [
      "<class 'pandas.core.frame.DataFrame'>\n",
      "Int64Index: 370605 entries, 0 to 2569\n",
      "Data columns (total 78 columns):\n",
      " #   Column                    Non-Null Count   Dtype  \n",
      "---  ------                    --------------   -----  \n",
      " 0   Protocol                  370605 non-null  int64  \n",
      " 1   Flow Duration             370605 non-null  int64  \n",
      " 2   Total Fwd Packets         370605 non-null  int64  \n",
      " 3   Total Backward Packets    370605 non-null  int64  \n",
      " 4   Fwd Packets Length Total  370605 non-null  float64\n",
      " 5   Bwd Packets Length Total  370605 non-null  float64\n",
      " 6   Fwd Packet Length Max     370605 non-null  float64\n",
      " 7   Fwd Packet Length Min     370605 non-null  float64\n",
      " 8   Fwd Packet Length Mean    370605 non-null  float64\n",
      " 9   Fwd Packet Length Std     370605 non-null  float64\n",
      " 10  Bwd Packet Length Max     370605 non-null  float64\n",
      " 11  Bwd Packet Length Min     370605 non-null  float64\n",
      " 12  Bwd Packet Length Mean    370605 non-null  float64\n",
      " 13  Bwd Packet Length Std     370605 non-null  float64\n",
      " 14  Flow Bytes/s              334473 non-null  float64\n",
      " 15  Flow Packets/s            370605 non-null  float64\n",
      " 16  Flow IAT Mean             370605 non-null  float64\n",
      " 17  Flow IAT Std              370605 non-null  float64\n",
      " 18  Flow IAT Max              370605 non-null  float64\n",
      " 19  Flow IAT Min              370605 non-null  float64\n",
      " 20  Fwd IAT Total             370605 non-null  float64\n",
      " 21  Fwd IAT Mean              370605 non-null  float64\n",
      " 22  Fwd IAT Std               370605 non-null  float64\n",
      " 23  Fwd IAT Max               370605 non-null  float64\n",
      " 24  Fwd IAT Min               370605 non-null  float64\n",
      " 25  Bwd IAT Total             370605 non-null  float64\n",
      " 26  Bwd IAT Mean              370605 non-null  float64\n",
      " 27  Bwd IAT Std               370605 non-null  float64\n",
      " 28  Bwd IAT Max               370605 non-null  float64\n",
      " 29  Bwd IAT Min               370605 non-null  float64\n",
      " 30  Fwd PSH Flags             370605 non-null  int64  \n",
      " 31  Bwd PSH Flags             370605 non-null  int64  \n",
      " 32  Fwd URG Flags             370605 non-null  int64  \n",
      " 33  Bwd URG Flags             370605 non-null  int64  \n",
      " 34  Fwd Header Length         370605 non-null  int64  \n",
      " 35  Bwd Header Length         370605 non-null  int64  \n",
      " 36  Fwd Packets/s             370605 non-null  float64\n",
      " 37  Bwd Packets/s             370605 non-null  float64\n",
      " 38  Packet Length Min         370605 non-null  float64\n",
      " 39  Packet Length Max         370605 non-null  float64\n",
      " 40  Packet Length Mean        370605 non-null  float64\n",
      " 41  Packet Length Std         370605 non-null  float64\n",
      " 42  Packet Length Variance    370605 non-null  float64\n",
      " 43  FIN Flag Count            370605 non-null  int64  \n",
      " 44  SYN Flag Count            370605 non-null  int64  \n",
      " 45  RST Flag Count            370605 non-null  int64  \n",
      " 46  PSH Flag Count            370605 non-null  int64  \n",
      " 47  ACK Flag Count            370605 non-null  int64  \n",
      " 48  URG Flag Count            370605 non-null  int64  \n",
      " 49  CWE Flag Count            370605 non-null  int64  \n",
      " 50  ECE Flag Count            370605 non-null  int64  \n",
      " 51  Down/Up Ratio             370605 non-null  float64\n",
      " 52  Avg Packet Size           370605 non-null  float64\n",
      " 53  Avg Fwd Segment Size      370605 non-null  float64\n",
      " 54  Avg Bwd Segment Size      370605 non-null  float64\n",
      " 55  Fwd Avg Bytes/Bulk        370605 non-null  int64  \n",
      " 56  Fwd Avg Packets/Bulk      370605 non-null  int64  \n",
      " 57  Fwd Avg Bulk Rate         370605 non-null  int64  \n",
      " 58  Bwd Avg Bytes/Bulk        370605 non-null  int64  \n",
      " 59  Bwd Avg Packets/Bulk      370605 non-null  int64  \n",
      " 60  Bwd Avg Bulk Rate         370605 non-null  int64  \n",
      " 61  Subflow Fwd Packets       370605 non-null  int64  \n",
      " 62  Subflow Fwd Bytes         370605 non-null  int64  \n",
      " 63  Subflow Bwd Packets       370605 non-null  int64  \n",
      " 64  Subflow Bwd Bytes         370605 non-null  int64  \n",
      " 65  Init Fwd Win Bytes        370605 non-null  int64  \n",
      " 66  Init Bwd Win Bytes        370605 non-null  int64  \n",
      " 67  Fwd Act Data Packets      370605 non-null  int64  \n",
      " 68  Fwd Seg Size Min          370605 non-null  int64  \n",
      " 69  Active Mean               370605 non-null  float64\n",
      " 70  Active Std                370605 non-null  float64\n",
      " 71  Active Max                370605 non-null  float64\n",
      " 72  Active Min                370605 non-null  float64\n",
      " 73  Idle Mean                 370605 non-null  float64\n",
      " 74  Idle Std                  370605 non-null  float64\n",
      " 75  Idle Max                  370605 non-null  float64\n",
      " 76  Idle Min                  370605 non-null  float64\n",
      " 77  Label                     370605 non-null  object \n",
      "dtypes: float64(45), int64(32), object(1)\n",
      "memory usage: 243.2 MB\n"
     ]
    }
   ],
   "source": [
    "workingDataFrame.info(memory_usage=\"deep\")"
   ],
   "metadata": {
    "collapsed": false
   }
  },
  {
   "cell_type": "code",
   "execution_count": 10,
   "outputs": [
    {
     "name": "stdout",
     "output_type": "stream",
     "text": [
      "<class 'pandas.core.frame.DataFrame'>\n",
      "Int64Index: 370605 entries, 0 to 2569\n",
      "Data columns (total 78 columns):\n",
      " #   Column                    Non-Null Count   Dtype  \n",
      "---  ------                    --------------   -----  \n",
      " 0   Protocol                  370605 non-null  int8   \n",
      " 1   Flow Duration             370605 non-null  int32  \n",
      " 2   Total Fwd Packets         370605 non-null  int16  \n",
      " 3   Total Backward Packets    370605 non-null  int16  \n",
      " 4   Fwd Packets Length Total  370605 non-null  float32\n",
      " 5   Bwd Packets Length Total  370605 non-null  float32\n",
      " 6   Fwd Packet Length Max     370605 non-null  float32\n",
      " 7   Fwd Packet Length Min     370605 non-null  float32\n",
      " 8   Fwd Packet Length Mean    370605 non-null  float32\n",
      " 9   Fwd Packet Length Std     370605 non-null  float32\n",
      " 10  Bwd Packet Length Max     370605 non-null  float32\n",
      " 11  Bwd Packet Length Min     370605 non-null  float32\n",
      " 12  Bwd Packet Length Mean    370605 non-null  float32\n",
      " 13  Bwd Packet Length Std     370605 non-null  float32\n",
      " 14  Flow Bytes/s              334473 non-null  float32\n",
      " 15  Flow Packets/s            370605 non-null  float32\n",
      " 16  Flow IAT Mean             370605 non-null  float32\n",
      " 17  Flow IAT Std              370605 non-null  float32\n",
      " 18  Flow IAT Max              370605 non-null  float32\n",
      " 19  Flow IAT Min              370605 non-null  float32\n",
      " 20  Fwd IAT Total             370605 non-null  float32\n",
      " 21  Fwd IAT Mean              370605 non-null  float32\n",
      " 22  Fwd IAT Std               370605 non-null  float32\n",
      " 23  Fwd IAT Max               370605 non-null  float32\n",
      " 24  Fwd IAT Min               370605 non-null  float32\n",
      " 25  Bwd IAT Total             370605 non-null  float32\n",
      " 26  Bwd IAT Mean              370605 non-null  float32\n",
      " 27  Bwd IAT Std               370605 non-null  float32\n",
      " 28  Bwd IAT Max               370605 non-null  float32\n",
      " 29  Bwd IAT Min               370605 non-null  float32\n",
      " 30  Fwd PSH Flags             370605 non-null  int8   \n",
      " 31  Bwd PSH Flags             370605 non-null  int8   \n",
      " 32  Fwd URG Flags             370605 non-null  int8   \n",
      " 33  Bwd URG Flags             370605 non-null  int8   \n",
      " 34  Fwd Header Length         370605 non-null  int64  \n",
      " 35  Bwd Header Length         370605 non-null  int16  \n",
      " 36  Fwd Packets/s             370605 non-null  float32\n",
      " 37  Bwd Packets/s             370605 non-null  float32\n",
      " 38  Packet Length Min         370605 non-null  float32\n",
      " 39  Packet Length Max         370605 non-null  float32\n",
      " 40  Packet Length Mean        370605 non-null  float32\n",
      " 41  Packet Length Std         370605 non-null  float32\n",
      " 42  Packet Length Variance    370605 non-null  float32\n",
      " 43  FIN Flag Count            370605 non-null  int8   \n",
      " 44  SYN Flag Count            370605 non-null  int8   \n",
      " 45  RST Flag Count            370605 non-null  int8   \n",
      " 46  PSH Flag Count            370605 non-null  int8   \n",
      " 47  ACK Flag Count            370605 non-null  int8   \n",
      " 48  URG Flag Count            370605 non-null  int8   \n",
      " 49  CWE Flag Count            370605 non-null  int8   \n",
      " 50  ECE Flag Count            370605 non-null  int8   \n",
      " 51  Down/Up Ratio             370605 non-null  float32\n",
      " 52  Avg Packet Size           370605 non-null  float32\n",
      " 53  Avg Fwd Segment Size      370605 non-null  float32\n",
      " 54  Avg Bwd Segment Size      370605 non-null  float32\n",
      " 55  Fwd Avg Bytes/Bulk        370605 non-null  int8   \n",
      " 56  Fwd Avg Packets/Bulk      370605 non-null  int8   \n",
      " 57  Fwd Avg Bulk Rate         370605 non-null  int8   \n",
      " 58  Bwd Avg Bytes/Bulk        370605 non-null  int8   \n",
      " 59  Bwd Avg Packets/Bulk      370605 non-null  int8   \n",
      " 60  Bwd Avg Bulk Rate         370605 non-null  int8   \n",
      " 61  Subflow Fwd Packets       370605 non-null  int16  \n",
      " 62  Subflow Fwd Bytes         370605 non-null  int32  \n",
      " 63  Subflow Bwd Packets       370605 non-null  int16  \n",
      " 64  Subflow Bwd Bytes         370605 non-null  int32  \n",
      " 65  Init Fwd Win Bytes        370605 non-null  int32  \n",
      " 66  Init Bwd Win Bytes        370605 non-null  int32  \n",
      " 67  Fwd Act Data Packets      370605 non-null  int8   \n",
      " 68  Fwd Seg Size Min          370605 non-null  int32  \n",
      " 69  Active Mean               370605 non-null  float32\n",
      " 70  Active Std                370605 non-null  float32\n",
      " 71  Active Max                370605 non-null  float32\n",
      " 72  Active Min                370605 non-null  float32\n",
      " 73  Idle Mean                 370605 non-null  float32\n",
      " 74  Idle Std                  370605 non-null  float32\n",
      " 75  Idle Max                  370605 non-null  float32\n",
      " 76  Idle Min                  370605 non-null  float32\n",
      " 77  Label                     370605 non-null  object \n",
      "dtypes: float32(45), int16(5), int32(6), int64(1), int8(20), object(1)\n",
      "memory usage: 111.0 MB\n"
     ]
    }
   ],
   "source": [
    "# converting 64bit float to 32 bit float & 64bit integer to 8bit integer\n",
    "for column in workingDataFrame:\n",
    "    if workingDataFrame[column].dtype == 'float64':\n",
    "        workingDataFrame[column] = pd.to_numeric(workingDataFrame[column], downcast='float')\n",
    "    if workingDataFrame[column].dtype == 'int64':\n",
    "        workingDataFrame[column] = pd.to_numeric(workingDataFrame[column], downcast='integer')\n",
    "\n",
    "workingDataFrame.info(memory_usage=\"deep\")  # observe the dTypes"
   ],
   "metadata": {
    "collapsed": false
   }
  },
  {
   "cell_type": "markdown",
   "source": [
    "<center><h3 style=\"background:yellow;color:black\">\n",
    "Removing NaN values & infinite values\n",
    "</h3></center>"
   ],
   "metadata": {
    "collapsed": false
   }
  },
  {
   "cell_type": "code",
   "execution_count": 11,
   "outputs": [
    {
     "name": "stdout",
     "output_type": "stream",
     "text": [
      "pure missing value contains rows: 36132\n",
      "missing value contains total rows: 36403\n",
      "After dropping NaN values, number of rows: 334202\n",
      "After dropping NaN values, number of columns: 78\n"
     ]
    }
   ],
   "source": [
    "# workingDataFrame.isnull().sum()\n",
    "print(f\"pure missing value contains rows: {workingDataFrame.isna().any(axis=1).sum()}\")\n",
    "workingDataFrame.replace([np.inf, -np.inf], np.nan, inplace=True)\n",
    "print(f\"missing value contains total rows: {workingDataFrame.isna().any(axis=1).sum()}\")\n",
    "workingDataFrame.dropna(inplace=True)\n",
    "print(f\"After dropping NaN values, number of rows: {workingDataFrame.shape[0]}\")\n",
    "print(f\"After dropping NaN values, number of columns: {workingDataFrame.shape[1]}\")"
   ],
   "metadata": {
    "collapsed": false
   }
  },
  {
   "cell_type": "markdown",
   "source": [
    "<center><h3 style=\"background:yellow;color:black\">\n",
    "Dropping Duplicate Rows\n",
    "</h3></center>"
   ],
   "metadata": {
    "collapsed": false
   }
  },
  {
   "cell_type": "code",
   "execution_count": 12,
   "outputs": [
    {
     "name": "stdout",
     "output_type": "stream",
     "text": [
      "Fully duplicate total rows: 241266\n",
      "After dropping Duplicate values, number of rows: 92936\n",
      "After dropping Duplicate values, number of columns: 78\n"
     ]
    }
   ],
   "source": [
    "print(f\"Fully duplicate total rows: {workingDataFrame.duplicated().sum()}\")\n",
    "workingDataFrame.drop_duplicates(inplace=True)\n",
    "workingDataFrame.reset_index(inplace=True, drop=True)\n",
    "print(f\"After dropping Duplicate values, number of rows: {workingDataFrame.shape[0]}\")\n",
    "print(f\"After dropping Duplicate values, number of columns: {workingDataFrame.shape[1]}\")"
   ],
   "metadata": {
    "collapsed": false
   }
  },
  {
   "cell_type": "markdown",
   "source": [
    "<center><h3 style=\"background:#FF00FF;color:black\">\n",
    "After data cleaning, how much storage it holds now\n",
    "</h3></center>"
   ],
   "metadata": {
    "collapsed": false
   }
  },
  {
   "cell_type": "code",
   "execution_count": 13,
   "outputs": [
    {
     "name": "stdout",
     "output_type": "stream",
     "text": [
      "<class 'pandas.core.frame.DataFrame'>\n",
      "RangeIndex: 92936 entries, 0 to 92935\n",
      "Data columns (total 78 columns):\n",
      " #   Column                    Non-Null Count  Dtype  \n",
      "---  ------                    --------------  -----  \n",
      " 0   Protocol                  92936 non-null  int8   \n",
      " 1   Flow Duration             92936 non-null  int32  \n",
      " 2   Total Fwd Packets         92936 non-null  int16  \n",
      " 3   Total Backward Packets    92936 non-null  int16  \n",
      " 4   Fwd Packets Length Total  92936 non-null  float64\n",
      " 5   Bwd Packets Length Total  92936 non-null  float64\n",
      " 6   Fwd Packet Length Max     92936 non-null  float64\n",
      " 7   Fwd Packet Length Min     92936 non-null  float64\n",
      " 8   Fwd Packet Length Mean    92936 non-null  float64\n",
      " 9   Fwd Packet Length Std     92936 non-null  float64\n",
      " 10  Bwd Packet Length Max     92936 non-null  float64\n",
      " 11  Bwd Packet Length Min     92936 non-null  float64\n",
      " 12  Bwd Packet Length Mean    92936 non-null  float64\n",
      " 13  Bwd Packet Length Std     92936 non-null  float64\n",
      " 14  Flow Bytes/s              92936 non-null  float64\n",
      " 15  Flow Packets/s            92936 non-null  float64\n",
      " 16  Flow IAT Mean             92936 non-null  float64\n",
      " 17  Flow IAT Std              92936 non-null  float64\n",
      " 18  Flow IAT Max              92936 non-null  float64\n",
      " 19  Flow IAT Min              92936 non-null  float64\n",
      " 20  Fwd IAT Total             92936 non-null  float64\n",
      " 21  Fwd IAT Mean              92936 non-null  float64\n",
      " 22  Fwd IAT Std               92936 non-null  float64\n",
      " 23  Fwd IAT Max               92936 non-null  float64\n",
      " 24  Fwd IAT Min               92936 non-null  float64\n",
      " 25  Bwd IAT Total             92936 non-null  float64\n",
      " 26  Bwd IAT Mean              92936 non-null  float64\n",
      " 27  Bwd IAT Std               92936 non-null  float64\n",
      " 28  Bwd IAT Max               92936 non-null  float64\n",
      " 29  Bwd IAT Min               92936 non-null  float64\n",
      " 30  Fwd PSH Flags             92936 non-null  int8   \n",
      " 31  Bwd PSH Flags             92936 non-null  int8   \n",
      " 32  Fwd URG Flags             92936 non-null  int8   \n",
      " 33  Bwd URG Flags             92936 non-null  int8   \n",
      " 34  Fwd Header Length         92936 non-null  int64  \n",
      " 35  Bwd Header Length         92936 non-null  int16  \n",
      " 36  Fwd Packets/s             92936 non-null  float64\n",
      " 37  Bwd Packets/s             92936 non-null  float64\n",
      " 38  Packet Length Min         92936 non-null  float64\n",
      " 39  Packet Length Max         92936 non-null  float64\n",
      " 40  Packet Length Mean        92936 non-null  float64\n",
      " 41  Packet Length Std         92936 non-null  float64\n",
      " 42  Packet Length Variance    92936 non-null  float64\n",
      " 43  FIN Flag Count            92936 non-null  int8   \n",
      " 44  SYN Flag Count            92936 non-null  int8   \n",
      " 45  RST Flag Count            92936 non-null  int8   \n",
      " 46  PSH Flag Count            92936 non-null  int8   \n",
      " 47  ACK Flag Count            92936 non-null  int8   \n",
      " 48  URG Flag Count            92936 non-null  int8   \n",
      " 49  CWE Flag Count            92936 non-null  int8   \n",
      " 50  ECE Flag Count            92936 non-null  int8   \n",
      " 51  Down/Up Ratio             92936 non-null  float64\n",
      " 52  Avg Packet Size           92936 non-null  float64\n",
      " 53  Avg Fwd Segment Size      92936 non-null  float64\n",
      " 54  Avg Bwd Segment Size      92936 non-null  float64\n",
      " 55  Fwd Avg Bytes/Bulk        92936 non-null  int8   \n",
      " 56  Fwd Avg Packets/Bulk      92936 non-null  int8   \n",
      " 57  Fwd Avg Bulk Rate         92936 non-null  int8   \n",
      " 58  Bwd Avg Bytes/Bulk        92936 non-null  int8   \n",
      " 59  Bwd Avg Packets/Bulk      92936 non-null  int8   \n",
      " 60  Bwd Avg Bulk Rate         92936 non-null  int8   \n",
      " 61  Subflow Fwd Packets       92936 non-null  int16  \n",
      " 62  Subflow Fwd Bytes         92936 non-null  int32  \n",
      " 63  Subflow Bwd Packets       92936 non-null  int16  \n",
      " 64  Subflow Bwd Bytes         92936 non-null  int32  \n",
      " 65  Init Fwd Win Bytes        92936 non-null  int32  \n",
      " 66  Init Bwd Win Bytes        92936 non-null  int32  \n",
      " 67  Fwd Act Data Packets      92936 non-null  int8   \n",
      " 68  Fwd Seg Size Min          92936 non-null  int32  \n",
      " 69  Active Mean               92936 non-null  float64\n",
      " 70  Active Std                92936 non-null  float64\n",
      " 71  Active Max                92936 non-null  float64\n",
      " 72  Active Min                92936 non-null  float64\n",
      " 73  Idle Mean                 92936 non-null  float64\n",
      " 74  Idle Std                  92936 non-null  float64\n",
      " 75  Idle Max                  92936 non-null  float64\n",
      " 76  Idle Min                  92936 non-null  float64\n",
      " 77  Label                     92936 non-null  object \n",
      "dtypes: float64(45), int16(5), int32(6), int64(1), int8(20), object(1)\n",
      "memory usage: 43.1 MB\n"
     ]
    }
   ],
   "source": [
    "workingDataFrame.info(memory_usage=\"deep\")"
   ],
   "metadata": {
    "collapsed": false
   }
  },
  {
   "cell_type": "markdown",
   "source": [
    "<center><h3 style=\"background:#00FF00;color:black\">\n",
    "Saving New DataFrame as csv file to new location\n",
    "</h3></center>"
   ],
   "metadata": {
    "collapsed": false
   }
  },
  {
   "cell_type": "code",
   "execution_count": null,
   "outputs": [],
   "source": [
    "def dataCleaningResultToAnotherCSV(dataFrameArg, dirPath, file_name):\n",
    "    dataFrameArg.to_csv(dirPath + file_name)"
   ],
   "metadata": {
    "collapsed": false
   }
  },
  {
   "cell_type": "code",
   "execution_count": null,
   "outputs": [],
   "source": [
    "newCsvPath = \"C:\\\\Thesis_Group_of_Brig_Gen_Razzak_Sir\\\\After_Row_Data_Cleaning\\\\\"\n",
    "newFileName = \"cleaned_udpLag\"\n",
    "# newFileName = \"cleaned_Syn\"\n",
    "# newFileName = \"cleaned_DrDoS_NTP\"\n",
    "# newFileName = \"cleaned_DrDoS_LDAP\"\n",
    "# newFileName = \"cleaned_DrDoS_SSDP\"\n",
    "# newFileName = \"cleaned_DrDoS_UDP\"\n",
    "csvFileName = newFileName + \".csv\"\n",
    "dataCleaningResultToAnotherCSV(dataFrameArg=workingDataFrame, dirPath=newCsvPath, file_name=csvFileName)"
   ],
   "metadata": {
    "collapsed": false
   }
  },
  {
   "cell_type": "code",
   "execution_count": 14,
   "outputs": [
    {
     "data": {
      "text/plain": "132"
     },
     "execution_count": 14,
     "metadata": {},
     "output_type": "execute_result"
    }
   ],
   "source": [
    "import gc\n",
    "\n",
    "gc.collect()"
   ],
   "metadata": {
    "collapsed": false
   }
  },
  {
   "cell_type": "markdown",
   "source": [],
   "metadata": {
    "collapsed": false
   }
  }
 ],
 "metadata": {
  "kernelspec": {
   "display_name": "Python 3",
   "language": "python",
   "name": "python3"
  },
  "language_info": {
   "codemirror_mode": {
    "name": "ipython",
    "version": 2
   },
   "file_extension": ".py",
   "mimetype": "text/x-python",
   "name": "python",
   "nbconvert_exporter": "python",
   "pygments_lexer": "ipython2",
   "version": "2.7.6"
  }
 },
 "nbformat": 4,
 "nbformat_minor": 0
}

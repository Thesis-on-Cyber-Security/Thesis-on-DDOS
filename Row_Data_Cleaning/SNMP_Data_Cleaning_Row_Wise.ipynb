{
 "cells": [
  {
   "attachments": {},
   "cell_type": "markdown",
   "metadata": {
    "collapsed": false
   },
   "source": [
    "<center><h2>\n",
    "<a href=\"https://rebrand.ly/github-of-masum\">Kindly visit my portfolio to see more of my works</a>\n",
    "</h2></center>"
   ]
  },
  {
   "cell_type": "markdown",
   "metadata": {
    "collapsed": false
   },
   "source": [
    "<p style=\"background:black\">\n",
    "<code style=\"background:black;color: #0FFF50\">\n",
    "anaconda login <br/>\n",
    "conda install -c conda-forge numpy <br/>\n",
    "pip install pandas <br/>\n",
    "pip install seaborn <br/>\n",
    "conda install -c conda-forge matplotlib <br/>\n",
    "conda install -c conda-forge scikit-learn <br/>\n",
    "conda install -c conda-forge dask <br/>\n",
    "conda install -c fastai fastcore <br/>\n",
    "conda install jupyter notebook <br/>\n",
    "pip install jupyter <br/>\n",
    "pip install tqdm <br/>\n",
    "conda install cudatoolkit <br/>\n",
    "pip install --default-timeout=100 tensorflow==2.3.4 <br/>\n",
    "pip install --default-timeout=100 tensorflow-gpu==2.3.4 <br/>\n",
    "pip install numba <br/>\n",
    "</code>\n",
    "</p>"
   ]
  },
  {
   "cell_type": "code",
   "execution_count": 1,
   "metadata": {
    "collapsed": true
   },
   "outputs": [],
   "source": [
    "import numpy as np\n",
    "import pandas as pd\n",
    "from dask import dataframe as dd"
   ]
  },
  {
   "cell_type": "markdown",
   "metadata": {
    "collapsed": false
   },
   "source": [
    "<center><h4 style=\"background:yellow;color:black\">\n",
    "Setting up paths to csv files / datasets\n",
    "</center></h4>"
   ]
  },
  {
   "cell_type": "code",
   "execution_count": 2,
   "metadata": {
    "collapsed": false
   },
   "outputs": [
    {
     "name": "stdout",
     "output_type": "stream",
     "text": [
      "Total Dataset CSV Files 11\n"
     ]
    }
   ],
   "source": [
    "# CSV-01-12\n",
    "path_DdoS_DNS = \"C:\\\\Thesis_Group_of_Brig_Gen_Razzak_Sir\\\\01-12\\\\DrDoS_DNS.csv\"\n",
    "path_DdoS_MSSQL = \"C:\\\\Thesis_Group_of_Brig_Gen_Razzak_Sir\\\\01-12\\\\DrDoS_MSSQL.csv\"\n",
    "path_DdoS_LDAP = \"C:\\\\Thesis_Group_of_Brig_Gen_Razzak_Sir\\\\01-12\\\\DrDoS_LDAP.csv\"\n",
    "path_DdoS_NTP = \"C:\\\\Thesis_Group_of_Brig_Gen_Razzak_Sir\\\\01-12\\\\DrDoS_NTP.csv\"\n",
    "path_DdoS_NetBIOS = \"C:\\\\Thesis_Group_of_Brig_Gen_Razzak_Sir\\\\01-12\\\\DrDoS_NetBIOS.csv\"\n",
    "path_DdoS_SNMP = \"C:\\\\Thesis_Group_of_Brig_Gen_Razzak_Sir\\\\01-12\\\\DrDoS_SNMP.csv\"\n",
    "path_DdoS_SSDP = \"C:\\\\Thesis_Group_of_Brig_Gen_Razzak_Sir\\\\01-12\\\\DrDoS_SSDP.csv\"\n",
    "path_DdoS_UDP = \"C:\\\\Thesis_Group_of_Brig_Gen_Razzak_Sir\\\\01-12\\\\DrDoS_UDP.csv\"\n",
    "path_Syn = \"C:\\\\Thesis_Group_of_Brig_Gen_Razzak_Sir\\\\01-12\\\\Syn.csv\"\n",
    "path_TFTP = \"C:\\\\Thesis_Group_of_Brig_Gen_Razzak_Sir\\\\01-12\\\\TFTP.csv\"\n",
    "path_UDPLag = \"C:\\\\Thesis_Group_of_Brig_Gen_Razzak_Sir\\\\01-12\\\\UDPLag.csv\"\n",
    "\n",
    "# # CSV-03-11\n",
    "# path__LDAP = \"../CICDDoS-2019/CSV-03-11/03-11/LDAP.csv\"\n",
    "# path__MSSQL = \"../CICDDoS-2019/CSV-03-11/03-11/MSSQL.csv\"\n",
    "# path__NetBIOS = \"../CICDDoS-2019/CSV-03-11/03-11/NetBIOS.csv\"\n",
    "# path__Portmap = \"../CICDDoS-2019/CSV-03-11/03-11/Portmap.csv\"\n",
    "# path__Syn = \"../CICDDoS-2019/CSV-03-11/03-11/Syn.csv\"\n",
    "# path__UDP = \"../CICDDoS-2019/CSV-03-11/03-11/UDP.csv\"\n",
    "# path__UDPLag = \"../CICDDoS-2019/CSV-03-11/03-11/UDPLag.csv\"\n",
    "\n",
    "paths = [path_DdoS_DNS, path_DdoS_MSSQL, path_DdoS_LDAP, path_DdoS_NTP, path_DdoS_NetBIOS, path_DdoS_SNMP,\n",
    "         path_DdoS_SSDP, path_DdoS_UDP, path_Syn, path_TFTP, path_UDPLag]\n",
    "# , path__LDAP, path__MSSQL, path__NetBIOS,\n",
    "#      path__Portmap, path__Syn, path__UDP, path__UDPLag]\n",
    "print(\"Total Dataset CSV Files\", len(paths))\n"
   ]
  },
  {
   "cell_type": "markdown",
   "metadata": {
    "collapsed": false
   },
   "source": [
    "Assuming Column / feature names might differ in different csv files"
   ]
  },
  {
   "cell_type": "code",
   "execution_count": 3,
   "metadata": {
    "collapsed": false
   },
   "outputs": [],
   "source": [
    "col_name_consistency = {\n",
    "    'Flow ID': 'Flow ID',\n",
    "    'Source IP': 'Source IP',\n",
    "    'Src IP': 'Source IP',\n",
    "    'Source Port': 'Source Port',\n",
    "    'Src Port': 'Source Port',\n",
    "    'Destination IP': 'Destination IP',\n",
    "    'Dst IP': 'Destination IP',\n",
    "    'Destination Port': 'Destination Port',\n",
    "    'Dst Port': 'Destination Port',\n",
    "    'Protocol': 'Protocol',\n",
    "    'Timestamp': 'Timestamp',\n",
    "    'Flow Duration': 'Flow Duration',\n",
    "    'Total Fwd Packets': 'Total Fwd Packets',\n",
    "    'Tot Fwd Pkts': 'Total Fwd Packets',\n",
    "    'Total Backward Packets': 'Total Backward Packets',\n",
    "    'Tot Bwd Pkts': 'Total Backward Packets',\n",
    "    'Total Length of Fwd Packets': 'Fwd Packets Length Total',\n",
    "    'TotLen Fwd Pkts': 'Fwd Packets Length Total',\n",
    "    'Total Length of Bwd Packets': 'Bwd Packets Length Total',\n",
    "    'TotLen Bwd Pkts': 'Bwd Packets Length Total',\n",
    "    'Fwd Packet Length Max': 'Fwd Packet Length Max',\n",
    "    'Fwd Pkt Len Max': 'Fwd Packet Length Max',\n",
    "    'Fwd Packet Length Min': 'Fwd Packet Length Min',\n",
    "    'Fwd Pkt Len Min': 'Fwd Packet Length Min',\n",
    "    'Fwd Packet Length Mean': 'Fwd Packet Length Mean',\n",
    "    'Fwd Pkt Len Mean': 'Fwd Packet Length Mean',\n",
    "    'Fwd Packet Length Std': 'Fwd Packet Length Std',\n",
    "    'Fwd Pkt Len Std': 'Fwd Packet Length Std',\n",
    "    'Bwd Packet Length Max': 'Bwd Packet Length Max',\n",
    "    'Bwd Pkt Len Max': 'Bwd Packet Length Max',\n",
    "    'Bwd Packet Length Min': 'Bwd Packet Length Min',\n",
    "    'Bwd Pkt Len Min': 'Bwd Packet Length Min',\n",
    "    'Bwd Packet Length Mean': 'Bwd Packet Length Mean',\n",
    "    'Bwd Pkt Len Mean': 'Bwd Packet Length Mean',\n",
    "    'Bwd Packet Length Std': 'Bwd Packet Length Std',\n",
    "    'Bwd Pkt Len Std': 'Bwd Packet Length Std',\n",
    "    'Flow Bytes/s': 'Flow Bytes/s',\n",
    "    'Flow Byts/s': 'Flow Bytes/s',\n",
    "    'Flow Packets/s': 'Flow Packets/s',\n",
    "    'Flow Pkts/s': 'Flow Packets/s',\n",
    "    'Flow IAT Mean': 'Flow IAT Mean',\n",
    "    'Flow IAT Std': 'Flow IAT Std',\n",
    "    'Flow IAT Max': 'Flow IAT Max',\n",
    "    'Flow IAT Min': 'Flow IAT Min',\n",
    "    'Fwd IAT Total': 'Fwd IAT Total',\n",
    "    'Fwd IAT Tot': 'Fwd IAT Total',\n",
    "    'Fwd IAT Mean': 'Fwd IAT Mean',\n",
    "    'Fwd IAT Std': 'Fwd IAT Std',\n",
    "    'Fwd IAT Max': 'Fwd IAT Max',\n",
    "    'Fwd IAT Min': 'Fwd IAT Min',\n",
    "    'Bwd IAT Total': 'Bwd IAT Total',\n",
    "    'Bwd IAT Tot': 'Bwd IAT Total',\n",
    "    'Bwd IAT Mean': 'Bwd IAT Mean',\n",
    "    'Bwd IAT Std': 'Bwd IAT Std',\n",
    "    'Bwd IAT Max': 'Bwd IAT Max',\n",
    "    'Bwd IAT Min': 'Bwd IAT Min',\n",
    "    'Fwd PSH Flags': 'Fwd PSH Flags',\n",
    "    'Bwd PSH Flags': 'Bwd PSH Flags',\n",
    "    'Fwd URG Flags': 'Fwd URG Flags',\n",
    "    'Bwd URG Flags': 'Bwd URG Flags',\n",
    "    'Fwd Header Length': 'Fwd Header Length',\n",
    "    'Fwd Header Len': 'Fwd Header Length',\n",
    "    'Bwd Header Length': 'Bwd Header Length',\n",
    "    'Bwd Header Len': 'Bwd Header Length',\n",
    "    'Fwd Packets/s': 'Fwd Packets/s',\n",
    "    'Fwd Pkts/s': 'Fwd Packets/s',\n",
    "    'Bwd Packets/s': 'Bwd Packets/s',\n",
    "    'Bwd Pkts/s': 'Bwd Packets/s',\n",
    "    'Min Packet Length': 'Packet Length Min',\n",
    "    'Pkt Len Min': 'Packet Length Min',\n",
    "    'Max Packet Length': 'Packet Length Max',\n",
    "    'Pkt Len Max': 'Packet Length Max',\n",
    "    'Packet Length Mean': 'Packet Length Mean',\n",
    "    'Pkt Len Mean': 'Packet Length Mean',\n",
    "    'Packet Length Std': 'Packet Length Std',\n",
    "    'Pkt Len Std': 'Packet Length Std',\n",
    "    'Packet Length Variance': 'Packet Length Variance',\n",
    "    'Pkt Len Var': 'Packet Length Variance',\n",
    "    'FIN Flag Count': 'FIN Flag Count',\n",
    "    'FIN Flag Cnt': 'FIN Flag Count',\n",
    "    'SYN Flag Count': 'SYN Flag Count',\n",
    "    'SYN Flag Cnt': 'SYN Flag Count',\n",
    "    'RST Flag Count': 'RST Flag Count',\n",
    "    'RST Flag Cnt': 'RST Flag Count',\n",
    "    'PSH Flag Count': 'PSH Flag Count',\n",
    "    'PSH Flag Cnt': 'PSH Flag Count',\n",
    "    'ACK Flag Count': 'ACK Flag Count',\n",
    "    'ACK Flag Cnt': 'ACK Flag Count',\n",
    "    'URG Flag Count': 'URG Flag Count',\n",
    "    'URG Flag Cnt': 'URG Flag Count',\n",
    "    'CWE Flag Count': 'CWE Flag Count',\n",
    "    'CWE Flag Cnt': 'CWE Flag Count',\n",
    "    'ECE Flag Count': 'ECE Flag Count',\n",
    "    'ECE Flag Cnt': 'ECE Flag Count',\n",
    "    'Down/Up Ratio': 'Down/Up Ratio',\n",
    "    'Average Packet Size': 'Avg Packet Size',\n",
    "    'Pkt Size Avg': 'Avg Packet Size',\n",
    "    'Avg Fwd Segment Size': 'Avg Fwd Segment Size',\n",
    "    'Fwd Seg Size Avg': 'Avg Fwd Segment Size',\n",
    "    'Avg Bwd Segment Size': 'Avg Bwd Segment Size',\n",
    "    'Bwd Seg Size Avg': 'Avg Bwd Segment Size',\n",
    "    'Fwd Avg Bytes/Bulk': 'Fwd Avg Bytes/Bulk',\n",
    "    'Fwd Byts/b Avg': 'Fwd Avg Bytes/Bulk',\n",
    "    'Fwd Avg Packets/Bulk': 'Fwd Avg Packets/Bulk',\n",
    "    'Fwd Pkts/b Avg': 'Fwd Avg Packets/Bulk',\n",
    "    'Fwd Avg Bulk Rate': 'Fwd Avg Bulk Rate',\n",
    "    'Fwd Blk Rate Avg': 'Fwd Avg Bulk Rate',\n",
    "    'Bwd Avg Bytes/Bulk': 'Bwd Avg Bytes/Bulk',\n",
    "    'Bwd Byts/b Avg': 'Bwd Avg Bytes/Bulk',\n",
    "    'Bwd Avg Packets/Bulk': 'Bwd Avg Packets/Bulk',\n",
    "    'Bwd Pkts/b Avg': 'Bwd Avg Packets/Bulk',\n",
    "    'Bwd Avg Bulk Rate': 'Bwd Avg Bulk Rate',\n",
    "    'Bwd Blk Rate Avg': 'Bwd Avg Bulk Rate',\n",
    "    'Subflow Fwd Packets': 'Subflow Fwd Packets',\n",
    "    'Subflow Fwd Pkts': 'Subflow Fwd Packets',\n",
    "    'Subflow Fwd Bytes': 'Subflow Fwd Bytes',\n",
    "    'Subflow Fwd Byts': 'Subflow Fwd Bytes',\n",
    "    'Subflow Bwd Packets': 'Subflow Bwd Packets',\n",
    "    'Subflow Bwd Pkts': 'Subflow Bwd Packets',\n",
    "    'Subflow Bwd Bytes': 'Subflow Bwd Bytes',\n",
    "    'Subflow Bwd Byts': 'Subflow Bwd Bytes',\n",
    "    'Init_Win_bytes_forward': 'Init Fwd Win Bytes',\n",
    "    'Init Fwd Win Byts': 'Init Fwd Win Bytes',\n",
    "    'Init_Win_bytes_backward': 'Init Bwd Win Bytes',\n",
    "    'Init Bwd Win Byts': 'Init Bwd Win Bytes',\n",
    "    'act_data_pkt_fwd': 'Fwd Act Data Packets',\n",
    "    'Fwd Act Data Pkts': 'Fwd Act Data Packets',\n",
    "    'min_seg_size_forward': 'Fwd Seg Size Min',\n",
    "    'Fwd Seg Size Min': 'Fwd Seg Size Min',\n",
    "    'Active Mean': 'Active Mean',\n",
    "    'Active Std': 'Active Std',\n",
    "    'Active Max': 'Active Max',\n",
    "    'Active Min': 'Active Min',\n",
    "    'Idle Mean': 'Idle Mean',\n",
    "    'Idle Std': 'Idle Std',\n",
    "    'Idle Max': 'Idle Max',\n",
    "    'Idle Min': 'Idle Min',\n",
    "    'Label': 'Label'\n",
    "}"
   ]
  },
  {
   "cell_type": "markdown",
   "metadata": {
    "collapsed": false
   },
   "source": [
    "Using Parallel Processing {Dask Library} to Read the Large (above 1GB) csv files as chunk-wise but returning pandas dataframe"
   ]
  },
  {
   "cell_type": "code",
   "execution_count": 4,
   "metadata": {
    "collapsed": false
   },
   "outputs": [],
   "source": [
    "def readHugeCsvFileAsDataFrame(file_path):\n",
    "    dtypes = {'SimillarHTTP': 'object',\n",
    "              'Timestamp': 'object',\n",
    "              'Source IP': 'str',\n",
    "              'Destination IP': 'str',\n",
    "              'Flow ID': 'object',\n",
    "              'Label': 'object',\n",
    "              }\n",
    "    for feature in [f'f_{i}' for i in range(82)]:\n",
    "        dtypes[feature] = \"float32\"\n",
    "\n",
    "    # here is a trick, 40 lakh rows told to read but this csv contains 25 lakh rows, so whole file is being read\n",
    "    dask_df = dd.read_csv(file_path, low_memory=False, blocksize=1e9, dtype=dtypes).head(n=4000000)  # 50MB chunk-size\n",
    "    # dask_df = dask_df.repartition(npartitions=8)\n",
    "    # return dask_df.compute(scheduler='threads')\n",
    "    return dask_df"
   ]
  },
  {
   "cell_type": "markdown",
   "metadata": {
    "collapsed": false
   },
   "source": [
    "With Scheduler (see the elapsed time to process each file)"
   ]
  },
  {
   "cell_type": "code",
   "execution_count": 5,
   "metadata": {
    "collapsed": false
   },
   "outputs": [
    {
     "name": "stderr",
     "output_type": "stream",
     "text": [
      "C:\\Users\\MIST LAB\\anaconda3\\envs\\ml_env\\lib\\site-packages\\dask\\dataframe\\core.py:7117: UserWarning: Insufficient elements for `head`. 4000000 elements requested, only 2576627 elements available. Try passing larger `npartitions` to `head`.\n",
      "  f\"Insufficient elements for `head`. {n} elements requested, only {len(r)} \"\n"
     ]
    },
    {
     "name": "stdout",
     "output_type": "stream",
     "text": [
      "Wall time: 19.2 s\n"
     ]
    },
    {
     "data": {
      "text/html": [
       "<div>\n",
       "<style scoped>\n",
       "    .dataframe tbody tr th:only-of-type {\n",
       "        vertical-align: middle;\n",
       "    }\n",
       "\n",
       "    .dataframe tbody tr th {\n",
       "        vertical-align: top;\n",
       "    }\n",
       "\n",
       "    .dataframe thead th {\n",
       "        text-align: right;\n",
       "    }\n",
       "</style>\n",
       "<table border=\"1\" class=\"dataframe\">\n",
       "  <thead>\n",
       "    <tr style=\"text-align: right;\">\n",
       "      <th></th>\n",
       "      <th>Unnamed: 0</th>\n",
       "      <th>Flow ID</th>\n",
       "      <th>Source IP</th>\n",
       "      <th>Source Port</th>\n",
       "      <th>Destination IP</th>\n",
       "      <th>Destination Port</th>\n",
       "      <th>Protocol</th>\n",
       "      <th>Timestamp</th>\n",
       "      <th>Flow Duration</th>\n",
       "      <th>Total Fwd Packets</th>\n",
       "      <th>...</th>\n",
       "      <th>Active Std</th>\n",
       "      <th>Active Max</th>\n",
       "      <th>Active Min</th>\n",
       "      <th>Idle Mean</th>\n",
       "      <th>Idle Std</th>\n",
       "      <th>Idle Max</th>\n",
       "      <th>Idle Min</th>\n",
       "      <th>SimillarHTTP</th>\n",
       "      <th>Inbound</th>\n",
       "      <th>Label</th>\n",
       "    </tr>\n",
       "  </thead>\n",
       "  <tbody>\n",
       "    <tr>\n",
       "      <th>0</th>\n",
       "      <td>109857</td>\n",
       "      <td>172.16.0.5-192.168.50.1-528-47330-17</td>\n",
       "      <td>172.16.0.5</td>\n",
       "      <td>528</td>\n",
       "      <td>192.168.50.1</td>\n",
       "      <td>47330</td>\n",
       "      <td>17</td>\n",
       "      <td>2018-12-01 12:00:13.902782</td>\n",
       "      <td>2</td>\n",
       "      <td>2</td>\n",
       "      <td>...</td>\n",
       "      <td>0.0</td>\n",
       "      <td>0.0</td>\n",
       "      <td>0.0</td>\n",
       "      <td>0.0</td>\n",
       "      <td>0.0</td>\n",
       "      <td>0.0</td>\n",
       "      <td>0.0</td>\n",
       "      <td>0</td>\n",
       "      <td>1</td>\n",
       "      <td>DrDoS_SNMP</td>\n",
       "    </tr>\n",
       "    <tr>\n",
       "      <th>1</th>\n",
       "      <td>238192</td>\n",
       "      <td>172.16.0.5-192.168.50.1-529-26888-17</td>\n",
       "      <td>172.16.0.5</td>\n",
       "      <td>529</td>\n",
       "      <td>192.168.50.1</td>\n",
       "      <td>26888</td>\n",
       "      <td>17</td>\n",
       "      <td>2018-12-01 12:00:13.902785</td>\n",
       "      <td>1</td>\n",
       "      <td>2</td>\n",
       "      <td>...</td>\n",
       "      <td>0.0</td>\n",
       "      <td>0.0</td>\n",
       "      <td>0.0</td>\n",
       "      <td>0.0</td>\n",
       "      <td>0.0</td>\n",
       "      <td>0.0</td>\n",
       "      <td>0.0</td>\n",
       "      <td>0</td>\n",
       "      <td>1</td>\n",
       "      <td>DrDoS_SNMP</td>\n",
       "    </tr>\n",
       "    <tr>\n",
       "      <th>2</th>\n",
       "      <td>82963</td>\n",
       "      <td>172.16.0.5-192.168.50.1-530-3723-17</td>\n",
       "      <td>172.16.0.5</td>\n",
       "      <td>530</td>\n",
       "      <td>192.168.50.1</td>\n",
       "      <td>3723</td>\n",
       "      <td>17</td>\n",
       "      <td>2018-12-01 12:00:13.903230</td>\n",
       "      <td>1</td>\n",
       "      <td>2</td>\n",
       "      <td>...</td>\n",
       "      <td>0.0</td>\n",
       "      <td>0.0</td>\n",
       "      <td>0.0</td>\n",
       "      <td>0.0</td>\n",
       "      <td>0.0</td>\n",
       "      <td>0.0</td>\n",
       "      <td>0.0</td>\n",
       "      <td>0</td>\n",
       "      <td>1</td>\n",
       "      <td>DrDoS_SNMP</td>\n",
       "    </tr>\n",
       "    <tr>\n",
       "      <th>3</th>\n",
       "      <td>205787</td>\n",
       "      <td>172.16.0.5-192.168.50.1-531-38862-17</td>\n",
       "      <td>172.16.0.5</td>\n",
       "      <td>531</td>\n",
       "      <td>192.168.50.1</td>\n",
       "      <td>38862</td>\n",
       "      <td>17</td>\n",
       "      <td>2018-12-01 12:00:13.903311</td>\n",
       "      <td>1</td>\n",
       "      <td>2</td>\n",
       "      <td>...</td>\n",
       "      <td>0.0</td>\n",
       "      <td>0.0</td>\n",
       "      <td>0.0</td>\n",
       "      <td>0.0</td>\n",
       "      <td>0.0</td>\n",
       "      <td>0.0</td>\n",
       "      <td>0.0</td>\n",
       "      <td>0</td>\n",
       "      <td>1</td>\n",
       "      <td>DrDoS_SNMP</td>\n",
       "    </tr>\n",
       "    <tr>\n",
       "      <th>4</th>\n",
       "      <td>83411</td>\n",
       "      <td>172.16.0.5-192.168.50.1-532-35383-17</td>\n",
       "      <td>172.16.0.5</td>\n",
       "      <td>532</td>\n",
       "      <td>192.168.50.1</td>\n",
       "      <td>35383</td>\n",
       "      <td>17</td>\n",
       "      <td>2018-12-01 12:00:13.903490</td>\n",
       "      <td>1</td>\n",
       "      <td>2</td>\n",
       "      <td>...</td>\n",
       "      <td>0.0</td>\n",
       "      <td>0.0</td>\n",
       "      <td>0.0</td>\n",
       "      <td>0.0</td>\n",
       "      <td>0.0</td>\n",
       "      <td>0.0</td>\n",
       "      <td>0.0</td>\n",
       "      <td>0</td>\n",
       "      <td>1</td>\n",
       "      <td>DrDoS_SNMP</td>\n",
       "    </tr>\n",
       "    <tr>\n",
       "      <th>...</th>\n",
       "      <td>...</td>\n",
       "      <td>...</td>\n",
       "      <td>...</td>\n",
       "      <td>...</td>\n",
       "      <td>...</td>\n",
       "      <td>...</td>\n",
       "      <td>...</td>\n",
       "      <td>...</td>\n",
       "      <td>...</td>\n",
       "      <td>...</td>\n",
       "      <td>...</td>\n",
       "      <td>...</td>\n",
       "      <td>...</td>\n",
       "      <td>...</td>\n",
       "      <td>...</td>\n",
       "      <td>...</td>\n",
       "      <td>...</td>\n",
       "      <td>...</td>\n",
       "      <td>...</td>\n",
       "      <td>...</td>\n",
       "      <td>...</td>\n",
       "    </tr>\n",
       "    <tr>\n",
       "      <th>2576622</th>\n",
       "      <td>15462</td>\n",
       "      <td>172.16.0.5-192.168.50.1-810-9560-17</td>\n",
       "      <td>172.16.0.5</td>\n",
       "      <td>810</td>\n",
       "      <td>192.168.50.1</td>\n",
       "      <td>9560</td>\n",
       "      <td>17</td>\n",
       "      <td>2018-12-01 12:17:59.303542</td>\n",
       "      <td>1</td>\n",
       "      <td>2</td>\n",
       "      <td>...</td>\n",
       "      <td>0.0</td>\n",
       "      <td>0.0</td>\n",
       "      <td>0.0</td>\n",
       "      <td>0.0</td>\n",
       "      <td>0.0</td>\n",
       "      <td>0.0</td>\n",
       "      <td>0.0</td>\n",
       "      <td>0</td>\n",
       "      <td>1</td>\n",
       "      <td>DrDoS_SNMP</td>\n",
       "    </tr>\n",
       "    <tr>\n",
       "      <th>2576623</th>\n",
       "      <td>14477</td>\n",
       "      <td>172.16.0.5-192.168.50.1-811-7233-17</td>\n",
       "      <td>172.16.0.5</td>\n",
       "      <td>811</td>\n",
       "      <td>192.168.50.1</td>\n",
       "      <td>7233</td>\n",
       "      <td>17</td>\n",
       "      <td>2018-12-01 12:17:59.303590</td>\n",
       "      <td>2</td>\n",
       "      <td>2</td>\n",
       "      <td>...</td>\n",
       "      <td>0.0</td>\n",
       "      <td>0.0</td>\n",
       "      <td>0.0</td>\n",
       "      <td>0.0</td>\n",
       "      <td>0.0</td>\n",
       "      <td>0.0</td>\n",
       "      <td>0.0</td>\n",
       "      <td>0</td>\n",
       "      <td>1</td>\n",
       "      <td>DrDoS_SNMP</td>\n",
       "    </tr>\n",
       "    <tr>\n",
       "      <th>2576624</th>\n",
       "      <td>35586</td>\n",
       "      <td>172.16.0.5-192.168.50.1-812-49692-17</td>\n",
       "      <td>172.16.0.5</td>\n",
       "      <td>812</td>\n",
       "      <td>192.168.50.1</td>\n",
       "      <td>49692</td>\n",
       "      <td>17</td>\n",
       "      <td>2018-12-01 12:17:59.303702</td>\n",
       "      <td>2</td>\n",
       "      <td>2</td>\n",
       "      <td>...</td>\n",
       "      <td>0.0</td>\n",
       "      <td>0.0</td>\n",
       "      <td>0.0</td>\n",
       "      <td>0.0</td>\n",
       "      <td>0.0</td>\n",
       "      <td>0.0</td>\n",
       "      <td>0.0</td>\n",
       "      <td>0</td>\n",
       "      <td>1</td>\n",
       "      <td>DrDoS_SNMP</td>\n",
       "    </tr>\n",
       "    <tr>\n",
       "      <th>2576625</th>\n",
       "      <td>38758</td>\n",
       "      <td>172.16.0.5-192.168.50.1-813-58103-17</td>\n",
       "      <td>172.16.0.5</td>\n",
       "      <td>813</td>\n",
       "      <td>192.168.50.1</td>\n",
       "      <td>58103</td>\n",
       "      <td>17</td>\n",
       "      <td>2018-12-01 12:17:59.303760</td>\n",
       "      <td>2</td>\n",
       "      <td>2</td>\n",
       "      <td>...</td>\n",
       "      <td>0.0</td>\n",
       "      <td>0.0</td>\n",
       "      <td>0.0</td>\n",
       "      <td>0.0</td>\n",
       "      <td>0.0</td>\n",
       "      <td>0.0</td>\n",
       "      <td>0.0</td>\n",
       "      <td>0</td>\n",
       "      <td>1</td>\n",
       "      <td>DrDoS_SNMP</td>\n",
       "    </tr>\n",
       "    <tr>\n",
       "      <th>2576626</th>\n",
       "      <td>14211</td>\n",
       "      <td>172.16.0.5-192.168.50.1-814-2351-17</td>\n",
       "      <td>172.16.0.5</td>\n",
       "      <td>814</td>\n",
       "      <td>192.168.50.1</td>\n",
       "      <td>2351</td>\n",
       "      <td>17</td>\n",
       "      <td>2018-12-01 12:17:59.303810</td>\n",
       "      <td>2</td>\n",
       "      <td>2</td>\n",
       "      <td>...</td>\n",
       "      <td>0.0</td>\n",
       "      <td>0.0</td>\n",
       "      <td>0.0</td>\n",
       "      <td>0.0</td>\n",
       "      <td>0.0</td>\n",
       "      <td>0.0</td>\n",
       "      <td>0.0</td>\n",
       "      <td>0</td>\n",
       "      <td>1</td>\n",
       "      <td>DrDoS_SNMP</td>\n",
       "    </tr>\n",
       "  </tbody>\n",
       "</table>\n",
       "<p>2576627 rows × 88 columns</p>\n",
       "</div>"
      ],
      "text/plain": [
       "         Unnamed: 0                               Flow ID   Source IP  \\\n",
       "0            109857  172.16.0.5-192.168.50.1-528-47330-17  172.16.0.5   \n",
       "1            238192  172.16.0.5-192.168.50.1-529-26888-17  172.16.0.5   \n",
       "2             82963   172.16.0.5-192.168.50.1-530-3723-17  172.16.0.5   \n",
       "3            205787  172.16.0.5-192.168.50.1-531-38862-17  172.16.0.5   \n",
       "4             83411  172.16.0.5-192.168.50.1-532-35383-17  172.16.0.5   \n",
       "...             ...                                   ...         ...   \n",
       "2576622       15462   172.16.0.5-192.168.50.1-810-9560-17  172.16.0.5   \n",
       "2576623       14477   172.16.0.5-192.168.50.1-811-7233-17  172.16.0.5   \n",
       "2576624       35586  172.16.0.5-192.168.50.1-812-49692-17  172.16.0.5   \n",
       "2576625       38758  172.16.0.5-192.168.50.1-813-58103-17  172.16.0.5   \n",
       "2576626       14211   172.16.0.5-192.168.50.1-814-2351-17  172.16.0.5   \n",
       "\n",
       "          Source Port  Destination IP   Destination Port   Protocol  \\\n",
       "0                 528    192.168.50.1              47330         17   \n",
       "1                 529    192.168.50.1              26888         17   \n",
       "2                 530    192.168.50.1               3723         17   \n",
       "3                 531    192.168.50.1              38862         17   \n",
       "4                 532    192.168.50.1              35383         17   \n",
       "...               ...             ...                ...        ...   \n",
       "2576622           810    192.168.50.1               9560         17   \n",
       "2576623           811    192.168.50.1               7233         17   \n",
       "2576624           812    192.168.50.1              49692         17   \n",
       "2576625           813    192.168.50.1              58103         17   \n",
       "2576626           814    192.168.50.1               2351         17   \n",
       "\n",
       "                          Timestamp   Flow Duration   Total Fwd Packets  ...  \\\n",
       "0        2018-12-01 12:00:13.902782               2                   2  ...   \n",
       "1        2018-12-01 12:00:13.902785               1                   2  ...   \n",
       "2        2018-12-01 12:00:13.903230               1                   2  ...   \n",
       "3        2018-12-01 12:00:13.903311               1                   2  ...   \n",
       "4        2018-12-01 12:00:13.903490               1                   2  ...   \n",
       "...                             ...             ...                 ...  ...   \n",
       "2576622  2018-12-01 12:17:59.303542               1                   2  ...   \n",
       "2576623  2018-12-01 12:17:59.303590               2                   2  ...   \n",
       "2576624  2018-12-01 12:17:59.303702               2                   2  ...   \n",
       "2576625  2018-12-01 12:17:59.303760               2                   2  ...   \n",
       "2576626  2018-12-01 12:17:59.303810               2                   2  ...   \n",
       "\n",
       "          Active Std   Active Max   Active Min  Idle Mean   Idle Std  \\\n",
       "0                0.0          0.0          0.0        0.0        0.0   \n",
       "1                0.0          0.0          0.0        0.0        0.0   \n",
       "2                0.0          0.0          0.0        0.0        0.0   \n",
       "3                0.0          0.0          0.0        0.0        0.0   \n",
       "4                0.0          0.0          0.0        0.0        0.0   \n",
       "...              ...          ...          ...        ...        ...   \n",
       "2576622          0.0          0.0          0.0        0.0        0.0   \n",
       "2576623          0.0          0.0          0.0        0.0        0.0   \n",
       "2576624          0.0          0.0          0.0        0.0        0.0   \n",
       "2576625          0.0          0.0          0.0        0.0        0.0   \n",
       "2576626          0.0          0.0          0.0        0.0        0.0   \n",
       "\n",
       "          Idle Max   Idle Min  SimillarHTTP   Inbound       Label  \n",
       "0              0.0        0.0             0         1  DrDoS_SNMP  \n",
       "1              0.0        0.0             0         1  DrDoS_SNMP  \n",
       "2              0.0        0.0             0         1  DrDoS_SNMP  \n",
       "3              0.0        0.0             0         1  DrDoS_SNMP  \n",
       "4              0.0        0.0             0         1  DrDoS_SNMP  \n",
       "...            ...        ...           ...       ...         ...  \n",
       "2576622        0.0        0.0             0         1  DrDoS_SNMP  \n",
       "2576623        0.0        0.0             0         1  DrDoS_SNMP  \n",
       "2576624        0.0        0.0             0         1  DrDoS_SNMP  \n",
       "2576625        0.0        0.0             0         1  DrDoS_SNMP  \n",
       "2576626        0.0        0.0             0         1  DrDoS_SNMP  \n",
       "\n",
       "[2576627 rows x 88 columns]"
      ]
     },
     "execution_count": 5,
     "metadata": {},
     "output_type": "execute_result"
    }
   ],
   "source": [
    "%%time\n",
    "# daskScheduler = Client()\n",
    "# worker_output = daskScheduler.submit(readHugeCsvFileAsDataFrame, path_DdoS_UDP)\n",
    "workingDataFrame = readHugeCsvFileAsDataFrame(path_DdoS_SNMP)\n",
    "workingDataFrame"
   ]
  },
  {
   "cell_type": "code",
   "execution_count": 6,
   "metadata": {
    "collapsed": false
   },
   "outputs": [
    {
     "name": "stdout",
     "output_type": "stream",
     "text": [
      "Memory usage of Working Dataframe: 1729.91 MB\n",
      "Total Features in the initial csv file:  88\n"
     ]
    }
   ],
   "source": [
    "mb = workingDataFrame.memory_usage().sum() / 1024 ** 2\n",
    "print('Memory usage of Working Dataframe: {:.2f} MB'.format(mb))\n",
    "print(\"Total Features in the initial csv file: \", len(list(workingDataFrame.columns)))"
   ]
  },
  {
   "cell_type": "markdown",
   "metadata": {
    "collapsed": false
   },
   "source": [
    "<center><h4 style=\"background:#ADFF2F;color:black\">\n",
    "Following Columns may have little insignificance over model creation. Follow <a href=\"https://link.springer.com/chapter/10.1007/978-3-031-09484-2_2\" >This Paper Link</a>\n",
    "</h4></center>"
   ]
  },
  {
   "cell_type": "code",
   "execution_count": 7,
   "metadata": {
    "collapsed": false
   },
   "outputs": [],
   "source": [
    "# src_port,dst_port, src_ip, dst_ip these are duplicate\n",
    "drop_columns = [\n",
    "    \"Flow ID\",\n",
    "    'Fwd Header Length.1',\n",
    "    \"Source IP\", \"Src IP\",\n",
    "    \"Source Port\", \"Src Port\",\n",
    "    \"Destination IP\", \"Dst IP\",\n",
    "    \"Destination Port\", \"Dst Port\",\n",
    "    \"Timestamp\",\n",
    "    \"Unnamed: 0\",\n",
    "    \"Inbound\",\n",
    "    \"SimillarHTTP\"\n",
    "]"
   ]
  },
  {
   "cell_type": "markdown",
   "metadata": {
    "collapsed": false
   },
   "source": [
    "<center><h3 style=\"background:yellow;color:black\">\n",
    "Dropping Unnecessary Features & maintain column consistency\n",
    "</h3></center>"
   ]
  },
  {
   "cell_type": "code",
   "execution_count": 8,
   "metadata": {
    "collapsed": false
   },
   "outputs": [
    {
     "data": {
      "text/plain": [
       "(2576627, 78)"
      ]
     },
     "execution_count": 8,
     "metadata": {},
     "output_type": "execute_result"
    }
   ],
   "source": [
    "workingDataFrame.columns = workingDataFrame.columns.str.strip()  # sometimes there's leading / trailing whitespace\n",
    "workingDataFrame.rename(columns=col_name_consistency, inplace=True)\n",
    "workingDataFrame.drop(columns=drop_columns, inplace=True, errors='ignore')\n",
    "\n",
    "workingDataFrame.shape"
   ]
  },
  {
   "cell_type": "markdown",
   "metadata": {
    "collapsed": false
   },
   "source": [
    "<center><h3 style=\"background:yellow;color:black\">\n",
    "Data Cleaning Based on Data Types (DownSizing)\n",
    "</h3></center>"
   ]
  },
  {
   "cell_type": "code",
   "execution_count": 9,
   "metadata": {
    "collapsed": false
   },
   "outputs": [
    {
     "name": "stdout",
     "output_type": "stream",
     "text": [
      "<class 'pandas.core.frame.DataFrame'>\n",
      "RangeIndex: 2576627 entries, 0 to 2576626\n",
      "Data columns (total 78 columns):\n",
      " #   Column                    Dtype  \n",
      "---  ------                    -----  \n",
      " 0   Protocol                  int64  \n",
      " 1   Flow Duration             int64  \n",
      " 2   Total Fwd Packets         int64  \n",
      " 3   Total Backward Packets    int64  \n",
      " 4   Fwd Packets Length Total  float64\n",
      " 5   Bwd Packets Length Total  float64\n",
      " 6   Fwd Packet Length Max     float64\n",
      " 7   Fwd Packet Length Min     float64\n",
      " 8   Fwd Packet Length Mean    float64\n",
      " 9   Fwd Packet Length Std     float64\n",
      " 10  Bwd Packet Length Max     float64\n",
      " 11  Bwd Packet Length Min     float64\n",
      " 12  Bwd Packet Length Mean    float64\n",
      " 13  Bwd Packet Length Std     float64\n",
      " 14  Flow Bytes/s              float64\n",
      " 15  Flow Packets/s            float64\n",
      " 16  Flow IAT Mean             float64\n",
      " 17  Flow IAT Std              float64\n",
      " 18  Flow IAT Max              float64\n",
      " 19  Flow IAT Min              float64\n",
      " 20  Fwd IAT Total             float64\n",
      " 21  Fwd IAT Mean              float64\n",
      " 22  Fwd IAT Std               float64\n",
      " 23  Fwd IAT Max               float64\n",
      " 24  Fwd IAT Min               float64\n",
      " 25  Bwd IAT Total             float64\n",
      " 26  Bwd IAT Mean              float64\n",
      " 27  Bwd IAT Std               float64\n",
      " 28  Bwd IAT Max               float64\n",
      " 29  Bwd IAT Min               float64\n",
      " 30  Fwd PSH Flags             int64  \n",
      " 31  Bwd PSH Flags             int64  \n",
      " 32  Fwd URG Flags             int64  \n",
      " 33  Bwd URG Flags             int64  \n",
      " 34  Fwd Header Length         int64  \n",
      " 35  Bwd Header Length         int64  \n",
      " 36  Fwd Packets/s             float64\n",
      " 37  Bwd Packets/s             float64\n",
      " 38  Packet Length Min         float64\n",
      " 39  Packet Length Max         float64\n",
      " 40  Packet Length Mean        float64\n",
      " 41  Packet Length Std         float64\n",
      " 42  Packet Length Variance    float64\n",
      " 43  FIN Flag Count            int64  \n",
      " 44  SYN Flag Count            int64  \n",
      " 45  RST Flag Count            int64  \n",
      " 46  PSH Flag Count            int64  \n",
      " 47  ACK Flag Count            int64  \n",
      " 48  URG Flag Count            int64  \n",
      " 49  CWE Flag Count            int64  \n",
      " 50  ECE Flag Count            int64  \n",
      " 51  Down/Up Ratio             float64\n",
      " 52  Avg Packet Size           float64\n",
      " 53  Avg Fwd Segment Size      float64\n",
      " 54  Avg Bwd Segment Size      float64\n",
      " 55  Fwd Avg Bytes/Bulk        int64  \n",
      " 56  Fwd Avg Packets/Bulk      int64  \n",
      " 57  Fwd Avg Bulk Rate         int64  \n",
      " 58  Bwd Avg Bytes/Bulk        int64  \n",
      " 59  Bwd Avg Packets/Bulk      int64  \n",
      " 60  Bwd Avg Bulk Rate         int64  \n",
      " 61  Subflow Fwd Packets       int64  \n",
      " 62  Subflow Fwd Bytes         int64  \n",
      " 63  Subflow Bwd Packets       int64  \n",
      " 64  Subflow Bwd Bytes         int64  \n",
      " 65  Init Fwd Win Bytes        int64  \n",
      " 66  Init Bwd Win Bytes        int64  \n",
      " 67  Fwd Act Data Packets      int64  \n",
      " 68  Fwd Seg Size Min          int64  \n",
      " 69  Active Mean               float64\n",
      " 70  Active Std                float64\n",
      " 71  Active Max                float64\n",
      " 72  Active Min                float64\n",
      " 73  Idle Mean                 float64\n",
      " 74  Idle Std                  float64\n",
      " 75  Idle Max                  float64\n",
      " 76  Idle Min                  float64\n",
      " 77  Label                     object \n",
      "dtypes: float64(45), int64(32), object(1)\n",
      "memory usage: 1.6 GB\n"
     ]
    }
   ],
   "source": [
    "workingDataFrame.info(memory_usage=\"deep\")"
   ]
  },
  {
   "cell_type": "code",
   "execution_count": 10,
   "metadata": {
    "collapsed": false
   },
   "outputs": [
    {
     "name": "stdout",
     "output_type": "stream",
     "text": [
      "<class 'pandas.core.frame.DataFrame'>\n",
      "RangeIndex: 2576627 entries, 0 to 2576626\n",
      "Data columns (total 78 columns):\n",
      " #   Column                    Dtype  \n",
      "---  ------                    -----  \n",
      " 0   Protocol                  int8   \n",
      " 1   Flow Duration             int32  \n",
      " 2   Total Fwd Packets         int32  \n",
      " 3   Total Backward Packets    int16  \n",
      " 4   Fwd Packets Length Total  float32\n",
      " 5   Bwd Packets Length Total  float32\n",
      " 6   Fwd Packet Length Max     float32\n",
      " 7   Fwd Packet Length Min     float32\n",
      " 8   Fwd Packet Length Mean    float32\n",
      " 9   Fwd Packet Length Std     float32\n",
      " 10  Bwd Packet Length Max     float32\n",
      " 11  Bwd Packet Length Min     float32\n",
      " 12  Bwd Packet Length Mean    float32\n",
      " 13  Bwd Packet Length Std     float32\n",
      " 14  Flow Bytes/s              float32\n",
      " 15  Flow Packets/s            float32\n",
      " 16  Flow IAT Mean             float32\n",
      " 17  Flow IAT Std              float32\n",
      " 18  Flow IAT Max              float32\n",
      " 19  Flow IAT Min              float32\n",
      " 20  Fwd IAT Total             float32\n",
      " 21  Fwd IAT Mean              float32\n",
      " 22  Fwd IAT Std               float32\n",
      " 23  Fwd IAT Max               float32\n",
      " 24  Fwd IAT Min               float32\n",
      " 25  Bwd IAT Total             float32\n",
      " 26  Bwd IAT Mean              float32\n",
      " 27  Bwd IAT Std               float32\n",
      " 28  Bwd IAT Max               float32\n",
      " 29  Bwd IAT Min               float32\n",
      " 30  Fwd PSH Flags             int8   \n",
      " 31  Bwd PSH Flags             int8   \n",
      " 32  Fwd URG Flags             int8   \n",
      " 33  Bwd URG Flags             int8   \n",
      " 34  Fwd Header Length         int64  \n",
      " 35  Bwd Header Length         int32  \n",
      " 36  Fwd Packets/s             float32\n",
      " 37  Bwd Packets/s             float32\n",
      " 38  Packet Length Min         float32\n",
      " 39  Packet Length Max         float32\n",
      " 40  Packet Length Mean        float32\n",
      " 41  Packet Length Std         float32\n",
      " 42  Packet Length Variance    float32\n",
      " 43  FIN Flag Count            int8   \n",
      " 44  SYN Flag Count            int8   \n",
      " 45  RST Flag Count            int8   \n",
      " 46  PSH Flag Count            int8   \n",
      " 47  ACK Flag Count            int8   \n",
      " 48  URG Flag Count            int8   \n",
      " 49  CWE Flag Count            int8   \n",
      " 50  ECE Flag Count            int8   \n",
      " 51  Down/Up Ratio             float32\n",
      " 52  Avg Packet Size           float32\n",
      " 53  Avg Fwd Segment Size      float32\n",
      " 54  Avg Bwd Segment Size      float32\n",
      " 55  Fwd Avg Bytes/Bulk        int8   \n",
      " 56  Fwd Avg Packets/Bulk      int8   \n",
      " 57  Fwd Avg Bulk Rate         int8   \n",
      " 58  Bwd Avg Bytes/Bulk        int8   \n",
      " 59  Bwd Avg Packets/Bulk      int8   \n",
      " 60  Bwd Avg Bulk Rate         int8   \n",
      " 61  Subflow Fwd Packets       int32  \n",
      " 62  Subflow Fwd Bytes         int32  \n",
      " 63  Subflow Bwd Packets       int16  \n",
      " 64  Subflow Bwd Bytes         int32  \n",
      " 65  Init Fwd Win Bytes        int32  \n",
      " 66  Init Bwd Win Bytes        int32  \n",
      " 67  Fwd Act Data Packets      int16  \n",
      " 68  Fwd Seg Size Min          int32  \n",
      " 69  Active Mean               float32\n",
      " 70  Active Std                float32\n",
      " 71  Active Max                float32\n",
      " 72  Active Min                float32\n",
      " 73  Idle Mean                 float32\n",
      " 74  Idle Std                  float32\n",
      " 75  Idle Max                  float32\n",
      " 76  Idle Min                  float32\n",
      " 77  Label                     object \n",
      "dtypes: float32(45), int16(3), int32(9), int64(1), int8(19), object(1)\n",
      "memory usage: 776.5 MB\n"
     ]
    }
   ],
   "source": [
    "# converting 64bit float to 32 bit float & 64bit integer to 8bit integer\n",
    "for column in workingDataFrame:\n",
    "    if workingDataFrame[column].dtype == 'float64':\n",
    "        workingDataFrame[column] = pd.to_numeric(workingDataFrame[column], downcast='float')\n",
    "    if workingDataFrame[column].dtype == 'int64':\n",
    "        workingDataFrame[column] = pd.to_numeric(workingDataFrame[column], downcast='integer')\n",
    "\n",
    "workingDataFrame.info(memory_usage=\"deep\")  # observe the dTypes"
   ]
  },
  {
   "cell_type": "markdown",
   "metadata": {
    "collapsed": false
   },
   "source": [
    "<center><h3 style=\"background:yellow;color:black\">\n",
    "Removing NaN values & infinite values\n",
    "</h3></center>"
   ]
  },
  {
   "cell_type": "code",
   "execution_count": 11,
   "metadata": {
    "collapsed": false
   },
   "outputs": [
    {
     "name": "stdout",
     "output_type": "stream",
     "text": [
      "pure missing value contains rows: 5\n",
      "missing value contains total rows: 8084\n",
      "After dropping NaN values, number of rows: 2568543\n",
      "After dropping NaN values, number of columns: 78\n"
     ]
    }
   ],
   "source": [
    "# workingDataFrame.isnull().sum()\n",
    "print(f\"pure missing value contains rows: {workingDataFrame.isna().any(axis=1).sum()}\")\n",
    "workingDataFrame.replace([np.inf, -np.inf], np.nan, inplace=True)\n",
    "print(f\"missing value contains total rows: {workingDataFrame.isna().any(axis=1).sum()}\")\n",
    "workingDataFrame.dropna(inplace=True)\n",
    "print(f\"After dropping NaN values, number of rows: {workingDataFrame.shape[0]}\")\n",
    "print(f\"After dropping NaN values, number of columns: {workingDataFrame.shape[1]}\")"
   ]
  },
  {
   "cell_type": "markdown",
   "metadata": {
    "collapsed": false
   },
   "source": [
    "<center><h3 style=\"background:yellow;color:black\">\n",
    "Dropping Duplicate Rows\n",
    "</h3></center>"
   ]
  },
  {
   "cell_type": "code",
   "execution_count": 12,
   "metadata": {
    "collapsed": false
   },
   "outputs": [
    {
     "name": "stdout",
     "output_type": "stream",
     "text": [
      "Fully duplicate total rows: 2499268\n",
      "After dropping Duplicate values, number of rows: 69275\n",
      "After dropping Duplicate values, number of columns: 78\n"
     ]
    }
   ],
   "source": [
    "print(f\"Fully duplicate total rows: {workingDataFrame.duplicated().sum()}\")\n",
    "workingDataFrame.drop_duplicates(inplace=True)\n",
    "workingDataFrame.reset_index(inplace=True, drop=True)\n",
    "print(f\"After dropping Duplicate values, number of rows: {workingDataFrame.shape[0]}\")\n",
    "print(f\"After dropping Duplicate values, number of columns: {workingDataFrame.shape[1]}\")"
   ]
  },
  {
   "cell_type": "markdown",
   "metadata": {
    "collapsed": false
   },
   "source": [
    "<center><h3 style=\"background:#FF00FF;color:black\">\n",
    "After data cleaning, how much storage it holds now\n",
    "</h3></center>"
   ]
  },
  {
   "cell_type": "code",
   "execution_count": 13,
   "metadata": {
    "collapsed": false
   },
   "outputs": [
    {
     "name": "stdout",
     "output_type": "stream",
     "text": [
      "<class 'pandas.core.frame.DataFrame'>\n",
      "RangeIndex: 69275 entries, 0 to 69274\n",
      "Data columns (total 78 columns):\n",
      " #   Column                    Non-Null Count  Dtype  \n",
      "---  ------                    --------------  -----  \n",
      " 0   Protocol                  69275 non-null  int8   \n",
      " 1   Flow Duration             69275 non-null  int32  \n",
      " 2   Total Fwd Packets         69275 non-null  int32  \n",
      " 3   Total Backward Packets    69275 non-null  int16  \n",
      " 4   Fwd Packets Length Total  69275 non-null  float64\n",
      " 5   Bwd Packets Length Total  69275 non-null  float64\n",
      " 6   Fwd Packet Length Max     69275 non-null  float64\n",
      " 7   Fwd Packet Length Min     69275 non-null  float64\n",
      " 8   Fwd Packet Length Mean    69275 non-null  float64\n",
      " 9   Fwd Packet Length Std     69275 non-null  float64\n",
      " 10  Bwd Packet Length Max     69275 non-null  float64\n",
      " 11  Bwd Packet Length Min     69275 non-null  float64\n",
      " 12  Bwd Packet Length Mean    69275 non-null  float64\n",
      " 13  Bwd Packet Length Std     69275 non-null  float64\n",
      " 14  Flow Bytes/s              69275 non-null  float64\n",
      " 15  Flow Packets/s            69275 non-null  float64\n",
      " 16  Flow IAT Mean             69275 non-null  float64\n",
      " 17  Flow IAT Std              69275 non-null  float64\n",
      " 18  Flow IAT Max              69275 non-null  float64\n",
      " 19  Flow IAT Min              69275 non-null  float64\n",
      " 20  Fwd IAT Total             69275 non-null  float64\n",
      " 21  Fwd IAT Mean              69275 non-null  float64\n",
      " 22  Fwd IAT Std               69275 non-null  float64\n",
      " 23  Fwd IAT Max               69275 non-null  float64\n",
      " 24  Fwd IAT Min               69275 non-null  float64\n",
      " 25  Bwd IAT Total             69275 non-null  float64\n",
      " 26  Bwd IAT Mean              69275 non-null  float64\n",
      " 27  Bwd IAT Std               69275 non-null  float64\n",
      " 28  Bwd IAT Max               69275 non-null  float64\n",
      " 29  Bwd IAT Min               69275 non-null  float64\n",
      " 30  Fwd PSH Flags             69275 non-null  int8   \n",
      " 31  Bwd PSH Flags             69275 non-null  int8   \n",
      " 32  Fwd URG Flags             69275 non-null  int8   \n",
      " 33  Bwd URG Flags             69275 non-null  int8   \n",
      " 34  Fwd Header Length         69275 non-null  int64  \n",
      " 35  Bwd Header Length         69275 non-null  int32  \n",
      " 36  Fwd Packets/s             69275 non-null  float64\n",
      " 37  Bwd Packets/s             69275 non-null  float64\n",
      " 38  Packet Length Min         69275 non-null  float64\n",
      " 39  Packet Length Max         69275 non-null  float64\n",
      " 40  Packet Length Mean        69275 non-null  float64\n",
      " 41  Packet Length Std         69275 non-null  float64\n",
      " 42  Packet Length Variance    69275 non-null  float64\n",
      " 43  FIN Flag Count            69275 non-null  int8   \n",
      " 44  SYN Flag Count            69275 non-null  int8   \n",
      " 45  RST Flag Count            69275 non-null  int8   \n",
      " 46  PSH Flag Count            69275 non-null  int8   \n",
      " 47  ACK Flag Count            69275 non-null  int8   \n",
      " 48  URG Flag Count            69275 non-null  int8   \n",
      " 49  CWE Flag Count            69275 non-null  int8   \n",
      " 50  ECE Flag Count            69275 non-null  int8   \n",
      " 51  Down/Up Ratio             69275 non-null  float64\n",
      " 52  Avg Packet Size           69275 non-null  float64\n",
      " 53  Avg Fwd Segment Size      69275 non-null  float64\n",
      " 54  Avg Bwd Segment Size      69275 non-null  float64\n",
      " 55  Fwd Avg Bytes/Bulk        69275 non-null  int8   \n",
      " 56  Fwd Avg Packets/Bulk      69275 non-null  int8   \n",
      " 57  Fwd Avg Bulk Rate         69275 non-null  int8   \n",
      " 58  Bwd Avg Bytes/Bulk        69275 non-null  int8   \n",
      " 59  Bwd Avg Packets/Bulk      69275 non-null  int8   \n",
      " 60  Bwd Avg Bulk Rate         69275 non-null  int8   \n",
      " 61  Subflow Fwd Packets       69275 non-null  int32  \n",
      " 62  Subflow Fwd Bytes         69275 non-null  int32  \n",
      " 63  Subflow Bwd Packets       69275 non-null  int16  \n",
      " 64  Subflow Bwd Bytes         69275 non-null  int32  \n",
      " 65  Init Fwd Win Bytes        69275 non-null  int32  \n",
      " 66  Init Bwd Win Bytes        69275 non-null  int32  \n",
      " 67  Fwd Act Data Packets      69275 non-null  int16  \n",
      " 68  Fwd Seg Size Min          69275 non-null  int32  \n",
      " 69  Active Mean               69275 non-null  float64\n",
      " 70  Active Std                69275 non-null  float64\n",
      " 71  Active Max                69275 non-null  float64\n",
      " 72  Active Min                69275 non-null  float64\n",
      " 73  Idle Mean                 69275 non-null  float64\n",
      " 74  Idle Std                  69275 non-null  float64\n",
      " 75  Idle Max                  69275 non-null  float64\n",
      " 76  Idle Min                  69275 non-null  float64\n",
      " 77  Label                     69275 non-null  object \n",
      "dtypes: float64(45), int16(3), int32(9), int64(1), int8(19), object(1)\n",
      "memory usage: 32.8 MB\n"
     ]
    }
   ],
   "source": [
    "workingDataFrame.info(memory_usage=\"deep\")"
   ]
  },
  {
   "cell_type": "markdown",
   "metadata": {
    "collapsed": false
   },
   "source": [
    "<center><h3 style=\"background:#00FF00;color:black\">\n",
    "Saving New DataFrame as csv file to new location\n",
    "</h3></center>"
   ]
  },
  {
   "cell_type": "code",
   "execution_count": 14,
   "metadata": {
    "collapsed": false
   },
   "outputs": [],
   "source": [
    "def dataCleaningResultToAnotherCSV(dataFrameArg, dirPath, file_name):\n",
    "    dataFrameArg.to_csv(dirPath + file_name)"
   ]
  },
  {
   "cell_type": "code",
   "execution_count": 15,
   "metadata": {
    "collapsed": false
   },
   "outputs": [],
   "source": [
    "newCsvPath = \"C:\\\\Thesis_Group_of_Brig_Gen_Razzak_Sir\\\\After_Row_Data_Cleaning\\\\\"\n",
    "# newFileName = \"cleaned_udpLag\"\n",
    "# newFileName = \"cleaned_Syn\"\n",
    "# newFileName = \"cleaned_DrDoS_NTP\"\n",
    "# newFileName = \"cleaned_DrDoS_LDAP\"\n",
    "# newFileName = \"cleaned_DrDoS_SSDP\"\n",
    "newFileName = \"cleaned_DrDoS_SNMP\"\n",
    "csvFileName = newFileName + \".csv\"\n",
    "dataCleaningResultToAnotherCSV(dataFrameArg=workingDataFrame, dirPath=newCsvPath, file_name=csvFileName)"
   ]
  },
  {
   "cell_type": "markdown",
   "metadata": {
    "collapsed": false
   },
   "source": [
    "from pandas_profiling import ProfileReport\n",
    "\n",
    "profile = ProfileReport(workingDataFrame, title=newFileName)\n",
    "profile.to_file(newCsvPath + newFileName+ \".html\")"
   ]
  },
  {
   "cell_type": "code",
   "execution_count": 16,
   "metadata": {
    "collapsed": false
   },
   "outputs": [
    {
     "data": {
      "text/plain": [
       "21"
      ]
     },
     "execution_count": 16,
     "metadata": {},
     "output_type": "execute_result"
    }
   ],
   "source": [
    "import gc\n",
    "\n",
    "gc.collect()"
   ]
  },
  {
   "cell_type": "markdown",
   "metadata": {
    "collapsed": false
   },
   "source": []
  }
 ],
 "metadata": {
  "kernelspec": {
   "display_name": "Python 3",
   "language": "python",
   "name": "python3"
  },
  "language_info": {
   "codemirror_mode": {
    "name": "ipython",
    "version": 2
   },
   "file_extension": ".py",
   "mimetype": "text/x-python",
   "name": "python",
   "nbconvert_exporter": "python",
   "pygments_lexer": "ipython2",
   "version": "2.7.6"
  }
 },
 "nbformat": 4,
 "nbformat_minor": 0
}

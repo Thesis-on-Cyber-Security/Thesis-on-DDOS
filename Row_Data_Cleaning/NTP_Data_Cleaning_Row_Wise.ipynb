{
 "cells": [
  {
   "attachments": {},
   "cell_type": "markdown",
   "metadata": {
    "collapsed": false
   },
   "source": [
    "<center><h2>\n",
    "<a href=\"https://rebrand.ly/github-of-masum\">Kindly visit my portfolio to see more of my works</a>\n",
    "</h2></center>"
   ]
  },
  {
   "cell_type": "markdown",
   "metadata": {
    "collapsed": false
   },
   "source": [
    "<p style=\"background:black\">\n",
    "<code style=\"background:black;color: #0FFF50\">\n",
    "anaconda login <br/>\n",
    "conda install -c conda-forge numpy <br/>\n",
    "pip install pandas <br/>\n",
    "pip install seaborn <br/>\n",
    "conda install -c conda-forge matplotlib <br/>\n",
    "conda install -c conda-forge scikit-learn <br/>\n",
    "conda install -c conda-forge dask <br/>\n",
    "conda install -c fastai fastcore <br/>\n",
    "conda install jupyter notebook <br/>\n",
    "pip install jupyter <br/>\n",
    "pip install tqdm <br/>\n",
    "conda install cudatoolkit <br/>\n",
    "pip install --default-timeout=100 tensorflow==2.3.4 <br/>\n",
    "pip install --default-timeout=100 tensorflow-gpu==2.3.4 <br/>\n",
    "pip install numba <br/>\n",
    "</code>\n",
    "</p>"
   ]
  },
  {
   "cell_type": "code",
   "execution_count": 15,
   "metadata": {
    "collapsed": true
   },
   "outputs": [],
   "source": [
    "import numpy as np\n",
    "import pandas as pd\n",
    "from dask import dataframe as dd\n",
    "from dask.distributed import Client"
   ]
  },
  {
   "cell_type": "markdown",
   "metadata": {
    "collapsed": false
   },
   "source": [
    "<center><h4 style=\"background:yellow;color:black\">\n",
    "Setting up paths to csv files / datasets\n",
    "</center></h4>"
   ]
  },
  {
   "cell_type": "code",
   "execution_count": 16,
   "metadata": {
    "collapsed": false
   },
   "outputs": [
    {
     "name": "stdout",
     "output_type": "stream",
     "text": [
      "Total Dataset CSV Files 11\n"
     ]
    }
   ],
   "source": [
    "# CSV-01-12\n",
    "path_DdoS_DNS = \"C:\\\\Thesis_Group_of_Brig_Gen_Razzak_Sir\\\\01-12\\\\DrDoS_DNS.csv\"\n",
    "path_DdoS_MSSQL = \"C:\\\\Thesis_Group_of_Brig_Gen_Razzak_Sir\\\\01-12\\\\DrDoS_MSSQL.csv\"\n",
    "path_DdoS_LDAP = \"C:\\\\Thesis_Group_of_Brig_Gen_Razzak_Sir\\\\01-12\\\\DrDoS_LDAP.csv\"\n",
    "path_DdoS_NTP = \"C:\\\\Thesis_Group_of_Brig_Gen_Razzak_Sir\\\\01-12\\\\DrDoS_NTP.csv\"\n",
    "path_DdoS_NetBIOS = \"C:\\\\Thesis_Group_of_Brig_Gen_Razzak_Sir\\\\01-12\\\\DrDoS_NetBIOS.csv\"\n",
    "path_DdoS_SNMP = \"C:\\\\Thesis_Group_of_Brig_Gen_Razzak_Sir\\\\01-12\\\\DrDoS_SNMP.csv\"\n",
    "path_DdoS_SSDP = \"C:\\\\Thesis_Group_of_Brig_Gen_Razzak_Sir\\\\01-12\\\\DrDoS_SSDP.csv\"\n",
    "path_DdoS_UDP = \"C:\\\\Thesis_Group_of_Brig_Gen_Razzak_Sir\\\\01-12\\\\DrDoS_UDP.csv\"\n",
    "path_Syn = \"C:\\\\Thesis_Group_of_Brig_Gen_Razzak_Sir\\\\01-12\\\\Syn.csv\"\n",
    "path_TFTP = \"C:\\\\Thesis_Group_of_Brig_Gen_Razzak_Sir\\\\01-12\\\\TFTP.csv\"\n",
    "path_UDPLag = \"C:\\\\Thesis_Group_of_Brig_Gen_Razzak_Sir\\\\01-12\\\\UDPLag.csv\"\n",
    "\n",
    "# # CSV-03-11\n",
    "# path__LDAP = \"../CICDDoS-2019/CSV-03-11/03-11/LDAP.csv\"\n",
    "# path__MSSQL = \"../CICDDoS-2019/CSV-03-11/03-11/MSSQL.csv\"\n",
    "# path__NetBIOS = \"../CICDDoS-2019/CSV-03-11/03-11/NetBIOS.csv\"\n",
    "# path__Portmap = \"../CICDDoS-2019/CSV-03-11/03-11/Portmap.csv\"\n",
    "# path__Syn = \"../CICDDoS-2019/CSV-03-11/03-11/Syn.csv\"\n",
    "# path__UDP = \"../CICDDoS-2019/CSV-03-11/03-11/UDP.csv\"\n",
    "# path__UDPLag = \"../CICDDoS-2019/CSV-03-11/03-11/UDPLag.csv\"\n",
    "\n",
    "paths = [path_DdoS_DNS, path_DdoS_MSSQL, path_DdoS_LDAP, path_DdoS_NTP, path_DdoS_NetBIOS, path_DdoS_SNMP,\n",
    "         path_DdoS_SSDP, path_DdoS_UDP, path_Syn, path_TFTP, path_UDPLag]\n",
    "# , path__LDAP, path__MSSQL, path__NetBIOS,\n",
    "#      path__Portmap, path__Syn, path__UDP, path__UDPLag]\n",
    "print(\"Total Dataset CSV Files\", len(paths))\n"
   ]
  },
  {
   "cell_type": "markdown",
   "metadata": {
    "collapsed": false
   },
   "source": [
    "Assuming Column / feature names might differ in different csv files"
   ]
  },
  {
   "cell_type": "code",
   "execution_count": 17,
   "metadata": {
    "collapsed": false
   },
   "outputs": [],
   "source": [
    "col_name_consistency = {\n",
    "    'Flow ID': 'Flow ID',\n",
    "    'Source IP': 'Source IP',\n",
    "    'Src IP': 'Source IP',\n",
    "    'Source Port': 'Source Port',\n",
    "    'Src Port': 'Source Port',\n",
    "    'Destination IP': 'Destination IP',\n",
    "    'Dst IP': 'Destination IP',\n",
    "    'Destination Port': 'Destination Port',\n",
    "    'Dst Port': 'Destination Port',\n",
    "    'Protocol': 'Protocol',\n",
    "    'Timestamp': 'Timestamp',\n",
    "    'Flow Duration': 'Flow Duration',\n",
    "    'Total Fwd Packets': 'Total Fwd Packets',\n",
    "    'Tot Fwd Pkts': 'Total Fwd Packets',\n",
    "    'Total Backward Packets': 'Total Backward Packets',\n",
    "    'Tot Bwd Pkts': 'Total Backward Packets',\n",
    "    'Total Length of Fwd Packets': 'Fwd Packets Length Total',\n",
    "    'TotLen Fwd Pkts': 'Fwd Packets Length Total',\n",
    "    'Total Length of Bwd Packets': 'Bwd Packets Length Total',\n",
    "    'TotLen Bwd Pkts': 'Bwd Packets Length Total',\n",
    "    'Fwd Packet Length Max': 'Fwd Packet Length Max',\n",
    "    'Fwd Pkt Len Max': 'Fwd Packet Length Max',\n",
    "    'Fwd Packet Length Min': 'Fwd Packet Length Min',\n",
    "    'Fwd Pkt Len Min': 'Fwd Packet Length Min',\n",
    "    'Fwd Packet Length Mean': 'Fwd Packet Length Mean',\n",
    "    'Fwd Pkt Len Mean': 'Fwd Packet Length Mean',\n",
    "    'Fwd Packet Length Std': 'Fwd Packet Length Std',\n",
    "    'Fwd Pkt Len Std': 'Fwd Packet Length Std',\n",
    "    'Bwd Packet Length Max': 'Bwd Packet Length Max',\n",
    "    'Bwd Pkt Len Max': 'Bwd Packet Length Max',\n",
    "    'Bwd Packet Length Min': 'Bwd Packet Length Min',\n",
    "    'Bwd Pkt Len Min': 'Bwd Packet Length Min',\n",
    "    'Bwd Packet Length Mean': 'Bwd Packet Length Mean',\n",
    "    'Bwd Pkt Len Mean': 'Bwd Packet Length Mean',\n",
    "    'Bwd Packet Length Std': 'Bwd Packet Length Std',\n",
    "    'Bwd Pkt Len Std': 'Bwd Packet Length Std',\n",
    "    'Flow Bytes/s': 'Flow Bytes/s',\n",
    "    'Flow Byts/s': 'Flow Bytes/s',\n",
    "    'Flow Packets/s': 'Flow Packets/s',\n",
    "    'Flow Pkts/s': 'Flow Packets/s',\n",
    "    'Flow IAT Mean': 'Flow IAT Mean',\n",
    "    'Flow IAT Std': 'Flow IAT Std',\n",
    "    'Flow IAT Max': 'Flow IAT Max',\n",
    "    'Flow IAT Min': 'Flow IAT Min',\n",
    "    'Fwd IAT Total': 'Fwd IAT Total',\n",
    "    'Fwd IAT Tot': 'Fwd IAT Total',\n",
    "    'Fwd IAT Mean': 'Fwd IAT Mean',\n",
    "    'Fwd IAT Std': 'Fwd IAT Std',\n",
    "    'Fwd IAT Max': 'Fwd IAT Max',\n",
    "    'Fwd IAT Min': 'Fwd IAT Min',\n",
    "    'Bwd IAT Total': 'Bwd IAT Total',\n",
    "    'Bwd IAT Tot': 'Bwd IAT Total',\n",
    "    'Bwd IAT Mean': 'Bwd IAT Mean',\n",
    "    'Bwd IAT Std': 'Bwd IAT Std',\n",
    "    'Bwd IAT Max': 'Bwd IAT Max',\n",
    "    'Bwd IAT Min': 'Bwd IAT Min',\n",
    "    'Fwd PSH Flags': 'Fwd PSH Flags',\n",
    "    'Bwd PSH Flags': 'Bwd PSH Flags',\n",
    "    'Fwd URG Flags': 'Fwd URG Flags',\n",
    "    'Bwd URG Flags': 'Bwd URG Flags',\n",
    "    'Fwd Header Length': 'Fwd Header Length',\n",
    "    'Fwd Header Len': 'Fwd Header Length',\n",
    "    'Bwd Header Length': 'Bwd Header Length',\n",
    "    'Bwd Header Len': 'Bwd Header Length',\n",
    "    'Fwd Packets/s': 'Fwd Packets/s',\n",
    "    'Fwd Pkts/s': 'Fwd Packets/s',\n",
    "    'Bwd Packets/s': 'Bwd Packets/s',\n",
    "    'Bwd Pkts/s': 'Bwd Packets/s',\n",
    "    'Min Packet Length': 'Packet Length Min',\n",
    "    'Pkt Len Min': 'Packet Length Min',\n",
    "    'Max Packet Length': 'Packet Length Max',\n",
    "    'Pkt Len Max': 'Packet Length Max',\n",
    "    'Packet Length Mean': 'Packet Length Mean',\n",
    "    'Pkt Len Mean': 'Packet Length Mean',\n",
    "    'Packet Length Std': 'Packet Length Std',\n",
    "    'Pkt Len Std': 'Packet Length Std',\n",
    "    'Packet Length Variance': 'Packet Length Variance',\n",
    "    'Pkt Len Var': 'Packet Length Variance',\n",
    "    'FIN Flag Count': 'FIN Flag Count',\n",
    "    'FIN Flag Cnt': 'FIN Flag Count',\n",
    "    'SYN Flag Count': 'SYN Flag Count',\n",
    "    'SYN Flag Cnt': 'SYN Flag Count',\n",
    "    'RST Flag Count': 'RST Flag Count',\n",
    "    'RST Flag Cnt': 'RST Flag Count',\n",
    "    'PSH Flag Count': 'PSH Flag Count',\n",
    "    'PSH Flag Cnt': 'PSH Flag Count',\n",
    "    'ACK Flag Count': 'ACK Flag Count',\n",
    "    'ACK Flag Cnt': 'ACK Flag Count',\n",
    "    'URG Flag Count': 'URG Flag Count',\n",
    "    'URG Flag Cnt': 'URG Flag Count',\n",
    "    'CWE Flag Count': 'CWE Flag Count',\n",
    "    'CWE Flag Cnt': 'CWE Flag Count',\n",
    "    'ECE Flag Count': 'ECE Flag Count',\n",
    "    'ECE Flag Cnt': 'ECE Flag Count',\n",
    "    'Down/Up Ratio': 'Down/Up Ratio',\n",
    "    'Average Packet Size': 'Avg Packet Size',\n",
    "    'Pkt Size Avg': 'Avg Packet Size',\n",
    "    'Avg Fwd Segment Size': 'Avg Fwd Segment Size',\n",
    "    'Fwd Seg Size Avg': 'Avg Fwd Segment Size',\n",
    "    'Avg Bwd Segment Size': 'Avg Bwd Segment Size',\n",
    "    'Bwd Seg Size Avg': 'Avg Bwd Segment Size',\n",
    "    'Fwd Avg Bytes/Bulk': 'Fwd Avg Bytes/Bulk',\n",
    "    'Fwd Byts/b Avg': 'Fwd Avg Bytes/Bulk',\n",
    "    'Fwd Avg Packets/Bulk': 'Fwd Avg Packets/Bulk',\n",
    "    'Fwd Pkts/b Avg': 'Fwd Avg Packets/Bulk',\n",
    "    'Fwd Avg Bulk Rate': 'Fwd Avg Bulk Rate',\n",
    "    'Fwd Blk Rate Avg': 'Fwd Avg Bulk Rate',\n",
    "    'Bwd Avg Bytes/Bulk': 'Bwd Avg Bytes/Bulk',\n",
    "    'Bwd Byts/b Avg': 'Bwd Avg Bytes/Bulk',\n",
    "    'Bwd Avg Packets/Bulk': 'Bwd Avg Packets/Bulk',\n",
    "    'Bwd Pkts/b Avg': 'Bwd Avg Packets/Bulk',\n",
    "    'Bwd Avg Bulk Rate': 'Bwd Avg Bulk Rate',\n",
    "    'Bwd Blk Rate Avg': 'Bwd Avg Bulk Rate',\n",
    "    'Subflow Fwd Packets': 'Subflow Fwd Packets',\n",
    "    'Subflow Fwd Pkts': 'Subflow Fwd Packets',\n",
    "    'Subflow Fwd Bytes': 'Subflow Fwd Bytes',\n",
    "    'Subflow Fwd Byts': 'Subflow Fwd Bytes',\n",
    "    'Subflow Bwd Packets': 'Subflow Bwd Packets',\n",
    "    'Subflow Bwd Pkts': 'Subflow Bwd Packets',\n",
    "    'Subflow Bwd Bytes': 'Subflow Bwd Bytes',\n",
    "    'Subflow Bwd Byts': 'Subflow Bwd Bytes',\n",
    "    'Init_Win_bytes_forward': 'Init Fwd Win Bytes',\n",
    "    'Init Fwd Win Byts': 'Init Fwd Win Bytes',\n",
    "    'Init_Win_bytes_backward': 'Init Bwd Win Bytes',\n",
    "    'Init Bwd Win Byts': 'Init Bwd Win Bytes',\n",
    "    'act_data_pkt_fwd': 'Fwd Act Data Packets',\n",
    "    'Fwd Act Data Pkts': 'Fwd Act Data Packets',\n",
    "    'min_seg_size_forward': 'Fwd Seg Size Min',\n",
    "    'Fwd Seg Size Min': 'Fwd Seg Size Min',\n",
    "    'Active Mean': 'Active Mean',\n",
    "    'Active Std': 'Active Std',\n",
    "    'Active Max': 'Active Max',\n",
    "    'Active Min': 'Active Min',\n",
    "    'Idle Mean': 'Idle Mean',\n",
    "    'Idle Std': 'Idle Std',\n",
    "    'Idle Max': 'Idle Max',\n",
    "    'Idle Min': 'Idle Min',\n",
    "    'Label': 'Label'\n",
    "}"
   ]
  },
  {
   "cell_type": "markdown",
   "metadata": {
    "collapsed": false
   },
   "source": [
    "Using Parallel Processing {Dask Library} to Read the Large (above 1GB) csv files as chunk-wise but returning pandas dataframe"
   ]
  },
  {
   "cell_type": "code",
   "execution_count": 18,
   "metadata": {
    "collapsed": false
   },
   "outputs": [],
   "source": [
    "def readHugeCsvFileAsDataFrame(file_path):\n",
    "    dtypes = {'SimillarHTTP': 'object',\n",
    "              'Timestamp': 'object',\n",
    "              'Source IP': 'str',\n",
    "              'Destination IP': 'str',\n",
    "              'Flow ID': 'object',\n",
    "              'Label': 'object',\n",
    "              }\n",
    "    for feature in [f'f_{i}' for i in range(82)]:\n",
    "        dtypes[feature] = \"float32\"\n",
    "\n",
    "    dask_df = dd.read_csv(file_path, low_memory=False, blocksize=1e6, dtype=dtypes)  # 50MB chunk-size\n",
    "    # dask_df = dask_df.repartition(npartitions=8)\n",
    "    return dask_df.compute()\n"
   ]
  },
  {
   "cell_type": "markdown",
   "metadata": {
    "collapsed": false
   },
   "source": [
    "With Scheduler (see the elapsed time to process each file)"
   ]
  },
  {
   "cell_type": "code",
   "execution_count": 19,
   "metadata": {
    "collapsed": false
   },
   "outputs": [
    {
     "name": "stderr",
     "output_type": "stream",
     "text": [
      "C:\\Users\\MIST LAB\\anaconda3\\envs\\ml_env\\lib\\site-packages\\distributed\\node.py:182: UserWarning: Port 8787 is already in use.\n",
      "Perhaps you already have a cluster running?\n",
      "Hosting the HTTP server on port 51773 instead\n",
      "  f\"Port {expected} is already in use.\\n\"\n",
      "distributed.protocol.core - CRITICAL - Failed to deserialize\n",
      "Traceback (most recent call last):\n",
      "  File \"C:\\Users\\MIST LAB\\anaconda3\\envs\\ml_env\\lib\\site-packages\\distributed\\protocol\\core.py\", line 112, in loads\n",
      "    frames[0], object_hook=_decode_default, use_list=False, **msgpack_opts\n",
      "  File \"msgpack\\_unpacker.pyx\", line 194, in msgpack._cmsgpack.unpackb\n",
      "  File \"C:\\Users\\MIST LAB\\anaconda3\\envs\\ml_env\\lib\\site-packages\\distributed\\protocol\\core.py\", line 104, in _decode_default\n",
      "    sub_header, sub_frames, deserializers=deserializers\n",
      "  File \"C:\\Users\\MIST LAB\\anaconda3\\envs\\ml_env\\lib\\site-packages\\distributed\\protocol\\serialize.py\", line 488, in merge_and_deserialize\n",
      "    return deserialize(header, merged_frames, deserializers=deserializers)\n",
      "  File \"C:\\Users\\MIST LAB\\anaconda3\\envs\\ml_env\\lib\\site-packages\\distributed\\protocol\\serialize.py\", line 417, in deserialize\n",
      "    return loads(header, frames)\n",
      "  File \"C:\\Users\\MIST LAB\\anaconda3\\envs\\ml_env\\lib\\site-packages\\distributed\\protocol\\serialize.py\", line 180, in serialization_error_loads\n",
      "    raise TypeError(msg)\n",
      "TypeError: Could not serialize object of type DataFrame.\n",
      "Traceback (most recent call last):\n",
      "  File \"C:\\Users\\MIST LAB\\anaconda3\\envs\\ml_env\\lib\\site-packages\\distributed\\protocol\\pickle.py\", line 49, in dumps\n",
      "    result = pickle.dumps(x, **dump_kwargs)\n",
      "MemoryError\n",
      "\n",
      "During handling of the above exception, another exception occurred:\n",
      "\n",
      "Traceback (most recent call last):\n",
      "  File \"C:\\Users\\MIST LAB\\anaconda3\\envs\\ml_env\\lib\\site-packages\\distributed\\protocol\\serialize.py\", line 340, in serialize\n",
      "    header, frames = dumps(x, context=context) if wants_context else dumps(x)\n",
      "  File \"C:\\Users\\MIST LAB\\anaconda3\\envs\\ml_env\\lib\\site-packages\\distributed\\protocol\\serialize.py\", line 66, in pickle_dumps\n",
      "    protocol=context.get(\"pickle-protocol\", None) if context else None,\n",
      "  File \"C:\\Users\\MIST LAB\\anaconda3\\envs\\ml_env\\lib\\site-packages\\distributed\\protocol\\pickle.py\", line 60, in dumps\n",
      "    result = cloudpickle.dumps(x, **dump_kwargs)\n",
      "  File \"C:\\Users\\MIST LAB\\anaconda3\\envs\\ml_env\\lib\\site-packages\\cloudpickle\\cloudpickle_fast.py\", line 102, in dumps\n",
      "    cp.dump(obj)\n",
      "  File \"C:\\Users\\MIST LAB\\anaconda3\\envs\\ml_env\\lib\\site-packages\\cloudpickle\\cloudpickle_fast.py\", line 632, in dump\n",
      "    return Pickler.dump(self, obj)\n",
      "  File \"C:\\Users\\MIST LAB\\anaconda3\\envs\\ml_env\\lib\\pickle.py\", line 437, in dump\n",
      "    self.save(obj)\n",
      "  File \"C:\\Users\\MIST LAB\\anaconda3\\envs\\ml_env\\lib\\pickle.py\", line 549, in save\n",
      "    self.save_reduce(obj=obj, *rv)\n",
      "  File \"C:\\Users\\MIST LAB\\anaconda3\\envs\\ml_env\\lib\\pickle.py\", line 662, in save_reduce\n",
      "    save(state)\n",
      "  File \"C:\\Users\\MIST LAB\\anaconda3\\envs\\ml_env\\lib\\pickle.py\", line 504, in save\n",
      "    f(self, obj) # Call unbound method with explicit self\n",
      "  File \"C:\\Users\\MIST LAB\\anaconda3\\envs\\ml_env\\lib\\pickle.py\", line 859, in save_dict\n",
      "    self._batch_setitems(obj.items())\n",
      "  File \"C:\\Users\\MIST LAB\\anaconda3\\envs\\ml_env\\lib\\pickle.py\", line 885, in _batch_setitems\n",
      "    save(v)\n",
      "  File \"C:\\Users\\MIST LAB\\anaconda3\\envs\\ml_env\\lib\\pickle.py\", line 549, in save\n",
      "    self.save_reduce(obj=obj, *rv)\n",
      "  File \"C:\\Users\\MIST LAB\\anaconda3\\envs\\ml_env\\lib\\pickle.py\", line 638, in save_reduce\n",
      "    save(args)\n",
      "  File \"C:\\Users\\MIST LAB\\anaconda3\\envs\\ml_env\\lib\\pickle.py\", line 504, in save\n",
      "    f(self, obj) # Call unbound method with explicit self\n",
      "  File \"C:\\Users\\MIST LAB\\anaconda3\\envs\\ml_env\\lib\\pickle.py\", line 774, in save_tuple\n",
      "    save(element)\n",
      "  File \"C:\\Users\\MIST LAB\\anaconda3\\envs\\ml_env\\lib\\pickle.py\", line 504, in save\n",
      "    f(self, obj) # Call unbound method with explicit self\n",
      "  File \"C:\\Users\\MIST LAB\\anaconda3\\envs\\ml_env\\lib\\pickle.py\", line 789, in save_tuple\n",
      "    save(element)\n",
      "  File \"C:\\Users\\MIST LAB\\anaconda3\\envs\\ml_env\\lib\\pickle.py\", line 549, in save\n",
      "    self.save_reduce(obj=obj, *rv)\n",
      "  File \"C:\\Users\\MIST LAB\\anaconda3\\envs\\ml_env\\lib\\pickle.py\", line 638, in save_reduce\n",
      "    save(args)\n",
      "  File \"C:\\Users\\MIST LAB\\anaconda3\\envs\\ml_env\\lib\\pickle.py\", line 504, in save\n",
      "    f(self, obj) # Call unbound method with explicit self\n",
      "  File \"C:\\Users\\MIST LAB\\anaconda3\\envs\\ml_env\\lib\\pickle.py\", line 774, in save_tuple\n",
      "    save(element)\n",
      "  File \"C:\\Users\\MIST LAB\\anaconda3\\envs\\ml_env\\lib\\pickle.py\", line 549, in save\n",
      "    self.save_reduce(obj=obj, *rv)\n",
      "  File \"C:\\Users\\MIST LAB\\anaconda3\\envs\\ml_env\\lib\\pickle.py\", line 662, in save_reduce\n",
      "    save(state)\n",
      "  File \"C:\\Users\\MIST LAB\\anaconda3\\envs\\ml_env\\lib\\pickle.py\", line 504, in save\n",
      "    f(self, obj) # Call unbound method with explicit self\n",
      "  File \"C:\\Users\\MIST LAB\\anaconda3\\envs\\ml_env\\lib\\pickle.py\", line 789, in save_tuple\n",
      "    save(element)\n",
      "  File \"C:\\Users\\MIST LAB\\anaconda3\\envs\\ml_env\\lib\\pickle.py\", line 504, in save\n",
      "    f(self, obj) # Call unbound method with explicit self\n",
      "  File \"C:\\Users\\MIST LAB\\anaconda3\\envs\\ml_env\\lib\\pickle.py\", line 732, in save_bytes\n",
      "    self._write_large_bytes(BINBYTES + pack(\"<I\", n), obj)\n",
      "  File \"C:\\Users\\MIST LAB\\anaconda3\\envs\\ml_env\\lib\\pickle.py\", line 244, in write_large_bytes\n",
      "    write(payload)\n",
      "MemoryError\n",
      "\n"
     ]
    },
    {
     "ename": "TypeError",
     "evalue": "Could not serialize object of type DataFrame.\nTraceback (most recent call last):\n  File \"C:\\Users\\MIST LAB\\anaconda3\\envs\\ml_env\\lib\\site-packages\\distributed\\protocol\\pickle.py\", line 49, in dumps\n    result = pickle.dumps(x, **dump_kwargs)\nMemoryError\n\nDuring handling of the above exception, another exception occurred:\n\nTraceback (most recent call last):\n  File \"C:\\Users\\MIST LAB\\anaconda3\\envs\\ml_env\\lib\\site-packages\\distributed\\protocol\\serialize.py\", line 340, in serialize\n    header, frames = dumps(x, context=context) if wants_context else dumps(x)\n  File \"C:\\Users\\MIST LAB\\anaconda3\\envs\\ml_env\\lib\\site-packages\\distributed\\protocol\\serialize.py\", line 66, in pickle_dumps\n    protocol=context.get(\"pickle-protocol\", None) if context else None,\n  File \"C:\\Users\\MIST LAB\\anaconda3\\envs\\ml_env\\lib\\site-packages\\distributed\\protocol\\pickle.py\", line 60, in dumps\n    result = cloudpickle.dumps(x, **dump_kwargs)\n  File \"C:\\Users\\MIST LAB\\anaconda3\\envs\\ml_env\\lib\\site-packages\\cloudpickle\\cloudpickle_fast.py\", line 102, in dumps\n    cp.dump(obj)\n  File \"C:\\Users\\MIST LAB\\anaconda3\\envs\\ml_env\\lib\\site-packages\\cloudpickle\\cloudpickle_fast.py\", line 632, in dump\n    return Pickler.dump(self, obj)\n  File \"C:\\Users\\MIST LAB\\anaconda3\\envs\\ml_env\\lib\\pickle.py\", line 437, in dump\n    self.save(obj)\n  File \"C:\\Users\\MIST LAB\\anaconda3\\envs\\ml_env\\lib\\pickle.py\", line 549, in save\n    self.save_reduce(obj=obj, *rv)\n  File \"C:\\Users\\MIST LAB\\anaconda3\\envs\\ml_env\\lib\\pickle.py\", line 662, in save_reduce\n    save(state)\n  File \"C:\\Users\\MIST LAB\\anaconda3\\envs\\ml_env\\lib\\pickle.py\", line 504, in save\n    f(self, obj) # Call unbound method with explicit self\n  File \"C:\\Users\\MIST LAB\\anaconda3\\envs\\ml_env\\lib\\pickle.py\", line 859, in save_dict\n    self._batch_setitems(obj.items())\n  File \"C:\\Users\\MIST LAB\\anaconda3\\envs\\ml_env\\lib\\pickle.py\", line 885, in _batch_setitems\n    save(v)\n  File \"C:\\Users\\MIST LAB\\anaconda3\\envs\\ml_env\\lib\\pickle.py\", line 549, in save\n    self.save_reduce(obj=obj, *rv)\n  File \"C:\\Users\\MIST LAB\\anaconda3\\envs\\ml_env\\lib\\pickle.py\", line 638, in save_reduce\n    save(args)\n  File \"C:\\Users\\MIST LAB\\anaconda3\\envs\\ml_env\\lib\\pickle.py\", line 504, in save\n    f(self, obj) # Call unbound method with explicit self\n  File \"C:\\Users\\MIST LAB\\anaconda3\\envs\\ml_env\\lib\\pickle.py\", line 774, in save_tuple\n    save(element)\n  File \"C:\\Users\\MIST LAB\\anaconda3\\envs\\ml_env\\lib\\pickle.py\", line 504, in save\n    f(self, obj) # Call unbound method with explicit self\n  File \"C:\\Users\\MIST LAB\\anaconda3\\envs\\ml_env\\lib\\pickle.py\", line 789, in save_tuple\n    save(element)\n  File \"C:\\Users\\MIST LAB\\anaconda3\\envs\\ml_env\\lib\\pickle.py\", line 549, in save\n    self.save_reduce(obj=obj, *rv)\n  File \"C:\\Users\\MIST LAB\\anaconda3\\envs\\ml_env\\lib\\pickle.py\", line 638, in save_reduce\n    save(args)\n  File \"C:\\Users\\MIST LAB\\anaconda3\\envs\\ml_env\\lib\\pickle.py\", line 504, in save\n    f(self, obj) # Call unbound method with explicit self\n  File \"C:\\Users\\MIST LAB\\anaconda3\\envs\\ml_env\\lib\\pickle.py\", line 774, in save_tuple\n    save(element)\n  File \"C:\\Users\\MIST LAB\\anaconda3\\envs\\ml_env\\lib\\pickle.py\", line 549, in save\n    self.save_reduce(obj=obj, *rv)\n  File \"C:\\Users\\MIST LAB\\anaconda3\\envs\\ml_env\\lib\\pickle.py\", line 662, in save_reduce\n    save(state)\n  File \"C:\\Users\\MIST LAB\\anaconda3\\envs\\ml_env\\lib\\pickle.py\", line 504, in save\n    f(self, obj) # Call unbound method with explicit self\n  File \"C:\\Users\\MIST LAB\\anaconda3\\envs\\ml_env\\lib\\pickle.py\", line 789, in save_tuple\n    save(element)\n  File \"C:\\Users\\MIST LAB\\anaconda3\\envs\\ml_env\\lib\\pickle.py\", line 504, in save\n    f(self, obj) # Call unbound method with explicit self\n  File \"C:\\Users\\MIST LAB\\anaconda3\\envs\\ml_env\\lib\\pickle.py\", line 732, in save_bytes\n    self._write_large_bytes(BINBYTES + pack(\"<I\", n), obj)\n  File \"C:\\Users\\MIST LAB\\anaconda3\\envs\\ml_env\\lib\\pickle.py\", line 244, in write_large_bytes\n    write(payload)\nMemoryError\n",
     "output_type": "error",
     "traceback": [
      "\u001b[1;31m---------------------------------------------------------------------------\u001b[0m",
      "\u001b[1;31mTypeError\u001b[0m                                 Traceback (most recent call last)",
      "\u001b[1;32m<timed exec>\u001b[0m in \u001b[0;36m<module>\u001b[1;34m\u001b[0m\n",
      "\u001b[1;32m~\\anaconda3\\envs\\ml_env\\lib\\site-packages\\distributed\\client.py\u001b[0m in \u001b[0;36mresult\u001b[1;34m(self, timeout)\u001b[0m\n\u001b[0;32m    270\u001b[0m \u001b[1;33m\u001b[0m\u001b[0m\n\u001b[0;32m    271\u001b[0m         \u001b[1;31m# shorten error traceback\u001b[0m\u001b[1;33m\u001b[0m\u001b[1;33m\u001b[0m\u001b[1;33m\u001b[0m\u001b[0m\n\u001b[1;32m--> 272\u001b[1;33m         \u001b[0mresult\u001b[0m \u001b[1;33m=\u001b[0m \u001b[0mself\u001b[0m\u001b[1;33m.\u001b[0m\u001b[0mclient\u001b[0m\u001b[1;33m.\u001b[0m\u001b[0msync\u001b[0m\u001b[1;33m(\u001b[0m\u001b[0mself\u001b[0m\u001b[1;33m.\u001b[0m\u001b[0m_result\u001b[0m\u001b[1;33m,\u001b[0m \u001b[0mcallback_timeout\u001b[0m\u001b[1;33m=\u001b[0m\u001b[0mtimeout\u001b[0m\u001b[1;33m,\u001b[0m \u001b[0mraiseit\u001b[0m\u001b[1;33m=\u001b[0m\u001b[1;32mFalse\u001b[0m\u001b[1;33m)\u001b[0m\u001b[1;33m\u001b[0m\u001b[1;33m\u001b[0m\u001b[0m\n\u001b[0m\u001b[0;32m    273\u001b[0m         \u001b[1;32mif\u001b[0m \u001b[0mself\u001b[0m\u001b[1;33m.\u001b[0m\u001b[0mstatus\u001b[0m \u001b[1;33m==\u001b[0m \u001b[1;34m\"error\"\u001b[0m\u001b[1;33m:\u001b[0m\u001b[1;33m\u001b[0m\u001b[1;33m\u001b[0m\u001b[0m\n\u001b[0;32m    274\u001b[0m             \u001b[0mtyp\u001b[0m\u001b[1;33m,\u001b[0m \u001b[0mexc\u001b[0m\u001b[1;33m,\u001b[0m \u001b[0mtb\u001b[0m \u001b[1;33m=\u001b[0m \u001b[0mresult\u001b[0m\u001b[1;33m\u001b[0m\u001b[1;33m\u001b[0m\u001b[0m\n",
      "\u001b[1;32m~\\anaconda3\\envs\\ml_env\\lib\\site-packages\\distributed\\utils.py\u001b[0m in \u001b[0;36msync\u001b[1;34m(self, func, asynchronous, callback_timeout, *args, **kwargs)\u001b[0m\n\u001b[0;32m    308\u001b[0m         \u001b[1;32melse\u001b[0m\u001b[1;33m:\u001b[0m\u001b[1;33m\u001b[0m\u001b[1;33m\u001b[0m\u001b[0m\n\u001b[0;32m    309\u001b[0m             return sync(\n\u001b[1;32m--> 310\u001b[1;33m                 \u001b[0mself\u001b[0m\u001b[1;33m.\u001b[0m\u001b[0mloop\u001b[0m\u001b[1;33m,\u001b[0m \u001b[0mfunc\u001b[0m\u001b[1;33m,\u001b[0m \u001b[1;33m*\u001b[0m\u001b[0margs\u001b[0m\u001b[1;33m,\u001b[0m \u001b[0mcallback_timeout\u001b[0m\u001b[1;33m=\u001b[0m\u001b[0mcallback_timeout\u001b[0m\u001b[1;33m,\u001b[0m \u001b[1;33m**\u001b[0m\u001b[0mkwargs\u001b[0m\u001b[1;33m\u001b[0m\u001b[1;33m\u001b[0m\u001b[0m\n\u001b[0m\u001b[0;32m    311\u001b[0m             )\n\u001b[0;32m    312\u001b[0m \u001b[1;33m\u001b[0m\u001b[0m\n",
      "\u001b[1;32m~\\anaconda3\\envs\\ml_env\\lib\\site-packages\\distributed\\utils.py\u001b[0m in \u001b[0;36msync\u001b[1;34m(loop, func, callback_timeout, *args, **kwargs)\u001b[0m\n\u001b[0;32m    374\u001b[0m     \u001b[1;32mif\u001b[0m \u001b[0merror\u001b[0m\u001b[1;33m:\u001b[0m\u001b[1;33m\u001b[0m\u001b[1;33m\u001b[0m\u001b[0m\n\u001b[0;32m    375\u001b[0m         \u001b[0mtyp\u001b[0m\u001b[1;33m,\u001b[0m \u001b[0mexc\u001b[0m\u001b[1;33m,\u001b[0m \u001b[0mtb\u001b[0m \u001b[1;33m=\u001b[0m \u001b[0merror\u001b[0m\u001b[1;33m\u001b[0m\u001b[1;33m\u001b[0m\u001b[0m\n\u001b[1;32m--> 376\u001b[1;33m         \u001b[1;32mraise\u001b[0m \u001b[0mexc\u001b[0m\u001b[1;33m.\u001b[0m\u001b[0mwith_traceback\u001b[0m\u001b[1;33m(\u001b[0m\u001b[0mtb\u001b[0m\u001b[1;33m)\u001b[0m\u001b[1;33m\u001b[0m\u001b[1;33m\u001b[0m\u001b[0m\n\u001b[0m\u001b[0;32m    377\u001b[0m     \u001b[1;32melse\u001b[0m\u001b[1;33m:\u001b[0m\u001b[1;33m\u001b[0m\u001b[1;33m\u001b[0m\u001b[0m\n\u001b[0;32m    378\u001b[0m         \u001b[1;32mreturn\u001b[0m \u001b[0mresult\u001b[0m\u001b[1;33m\u001b[0m\u001b[1;33m\u001b[0m\u001b[0m\n",
      "\u001b[1;32m~\\anaconda3\\envs\\ml_env\\lib\\site-packages\\distributed\\utils.py\u001b[0m in \u001b[0;36mf\u001b[1;34m()\u001b[0m\n\u001b[0;32m    347\u001b[0m                 \u001b[0mfuture\u001b[0m \u001b[1;33m=\u001b[0m \u001b[0masyncio\u001b[0m\u001b[1;33m.\u001b[0m\u001b[0mwait_for\u001b[0m\u001b[1;33m(\u001b[0m\u001b[0mfuture\u001b[0m\u001b[1;33m,\u001b[0m \u001b[0mcallback_timeout\u001b[0m\u001b[1;33m)\u001b[0m\u001b[1;33m\u001b[0m\u001b[1;33m\u001b[0m\u001b[0m\n\u001b[0;32m    348\u001b[0m             \u001b[0mfuture\u001b[0m \u001b[1;33m=\u001b[0m \u001b[0masyncio\u001b[0m\u001b[1;33m.\u001b[0m\u001b[0mensure_future\u001b[0m\u001b[1;33m(\u001b[0m\u001b[0mfuture\u001b[0m\u001b[1;33m)\u001b[0m\u001b[1;33m\u001b[0m\u001b[1;33m\u001b[0m\u001b[0m\n\u001b[1;32m--> 349\u001b[1;33m             \u001b[0mresult\u001b[0m \u001b[1;33m=\u001b[0m \u001b[1;32myield\u001b[0m \u001b[0mfuture\u001b[0m\u001b[1;33m\u001b[0m\u001b[1;33m\u001b[0m\u001b[0m\n\u001b[0m\u001b[0;32m    350\u001b[0m         \u001b[1;32mexcept\u001b[0m \u001b[0mException\u001b[0m\u001b[1;33m:\u001b[0m\u001b[1;33m\u001b[0m\u001b[1;33m\u001b[0m\u001b[0m\n\u001b[0;32m    351\u001b[0m             \u001b[0merror\u001b[0m \u001b[1;33m=\u001b[0m \u001b[0msys\u001b[0m\u001b[1;33m.\u001b[0m\u001b[0mexc_info\u001b[0m\u001b[1;33m(\u001b[0m\u001b[1;33m)\u001b[0m\u001b[1;33m\u001b[0m\u001b[1;33m\u001b[0m\u001b[0m\n",
      "\u001b[1;32m~\\anaconda3\\envs\\ml_env\\lib\\site-packages\\tornado\\gen.py\u001b[0m in \u001b[0;36mrun\u001b[1;34m(self)\u001b[0m\n\u001b[0;32m    767\u001b[0m \u001b[1;33m\u001b[0m\u001b[0m\n\u001b[0;32m    768\u001b[0m                     \u001b[1;32mtry\u001b[0m\u001b[1;33m:\u001b[0m\u001b[1;33m\u001b[0m\u001b[1;33m\u001b[0m\u001b[0m\n\u001b[1;32m--> 769\u001b[1;33m                         \u001b[0mvalue\u001b[0m \u001b[1;33m=\u001b[0m \u001b[0mfuture\u001b[0m\u001b[1;33m.\u001b[0m\u001b[0mresult\u001b[0m\u001b[1;33m(\u001b[0m\u001b[1;33m)\u001b[0m\u001b[1;33m\u001b[0m\u001b[1;33m\u001b[0m\u001b[0m\n\u001b[0m\u001b[0;32m    770\u001b[0m                     \u001b[1;32mexcept\u001b[0m \u001b[0mException\u001b[0m\u001b[1;33m:\u001b[0m\u001b[1;33m\u001b[0m\u001b[1;33m\u001b[0m\u001b[0m\n\u001b[0;32m    771\u001b[0m                         \u001b[0mexc_info\u001b[0m \u001b[1;33m=\u001b[0m \u001b[0msys\u001b[0m\u001b[1;33m.\u001b[0m\u001b[0mexc_info\u001b[0m\u001b[1;33m(\u001b[0m\u001b[1;33m)\u001b[0m\u001b[1;33m\u001b[0m\u001b[1;33m\u001b[0m\u001b[0m\n",
      "\u001b[1;32m~\\anaconda3\\envs\\ml_env\\lib\\site-packages\\distributed\\client.py\u001b[0m in \u001b[0;36m_result\u001b[1;34m(self, raiseit)\u001b[0m\n\u001b[0;32m    295\u001b[0m                 \u001b[1;32mreturn\u001b[0m \u001b[0mexception\u001b[0m\u001b[1;33m\u001b[0m\u001b[1;33m\u001b[0m\u001b[0m\n\u001b[0;32m    296\u001b[0m         \u001b[1;32melse\u001b[0m\u001b[1;33m:\u001b[0m\u001b[1;33m\u001b[0m\u001b[1;33m\u001b[0m\u001b[0m\n\u001b[1;32m--> 297\u001b[1;33m             \u001b[0mresult\u001b[0m \u001b[1;33m=\u001b[0m \u001b[1;32mawait\u001b[0m \u001b[0mself\u001b[0m\u001b[1;33m.\u001b[0m\u001b[0mclient\u001b[0m\u001b[1;33m.\u001b[0m\u001b[0m_gather\u001b[0m\u001b[1;33m(\u001b[0m\u001b[1;33m[\u001b[0m\u001b[0mself\u001b[0m\u001b[1;33m]\u001b[0m\u001b[1;33m)\u001b[0m\u001b[1;33m\u001b[0m\u001b[1;33m\u001b[0m\u001b[0m\n\u001b[0m\u001b[0;32m    298\u001b[0m             \u001b[1;32mreturn\u001b[0m \u001b[0mresult\u001b[0m\u001b[1;33m[\u001b[0m\u001b[1;36m0\u001b[0m\u001b[1;33m]\u001b[0m\u001b[1;33m\u001b[0m\u001b[1;33m\u001b[0m\u001b[0m\n\u001b[0;32m    299\u001b[0m \u001b[1;33m\u001b[0m\u001b[0m\n",
      "\u001b[1;32m~\\anaconda3\\envs\\ml_env\\lib\\site-packages\\distributed\\client.py\u001b[0m in \u001b[0;36m_gather\u001b[1;34m(self, futures, errors, direct, local_worker)\u001b[0m\n\u001b[0;32m   2036\u001b[0m                 \u001b[1;32melse\u001b[0m\u001b[1;33m:\u001b[0m\u001b[1;33m\u001b[0m\u001b[1;33m\u001b[0m\u001b[0m\n\u001b[0;32m   2037\u001b[0m                     \u001b[0mself\u001b[0m\u001b[1;33m.\u001b[0m\u001b[0m_gather_future\u001b[0m \u001b[1;33m=\u001b[0m \u001b[0mfuture\u001b[0m\u001b[1;33m\u001b[0m\u001b[1;33m\u001b[0m\u001b[0m\n\u001b[1;32m-> 2038\u001b[1;33m                 \u001b[0mresponse\u001b[0m \u001b[1;33m=\u001b[0m \u001b[1;32mawait\u001b[0m \u001b[0mfuture\u001b[0m\u001b[1;33m\u001b[0m\u001b[1;33m\u001b[0m\u001b[0m\n\u001b[0m\u001b[0;32m   2039\u001b[0m \u001b[1;33m\u001b[0m\u001b[0m\n\u001b[0;32m   2040\u001b[0m             \u001b[1;32mif\u001b[0m \u001b[0mresponse\u001b[0m\u001b[1;33m[\u001b[0m\u001b[1;34m\"status\"\u001b[0m\u001b[1;33m]\u001b[0m \u001b[1;33m==\u001b[0m \u001b[1;34m\"error\"\u001b[0m\u001b[1;33m:\u001b[0m\u001b[1;33m\u001b[0m\u001b[1;33m\u001b[0m\u001b[0m\n",
      "\u001b[1;32m~\\anaconda3\\envs\\ml_env\\lib\\site-packages\\distributed\\client.py\u001b[0m in \u001b[0;36m_gather_remote\u001b[1;34m(self, direct, local_worker)\u001b[0m\n\u001b[0;32m   2087\u001b[0m \u001b[1;33m\u001b[0m\u001b[0m\n\u001b[0;32m   2088\u001b[0m             \u001b[1;32melse\u001b[0m\u001b[1;33m:\u001b[0m  \u001b[1;31m# ask scheduler to gather data for us\u001b[0m\u001b[1;33m\u001b[0m\u001b[1;33m\u001b[0m\u001b[0m\n\u001b[1;32m-> 2089\u001b[1;33m                 \u001b[0mresponse\u001b[0m \u001b[1;33m=\u001b[0m \u001b[1;32mawait\u001b[0m \u001b[0mretry_operation\u001b[0m\u001b[1;33m(\u001b[0m\u001b[0mself\u001b[0m\u001b[1;33m.\u001b[0m\u001b[0mscheduler\u001b[0m\u001b[1;33m.\u001b[0m\u001b[0mgather\u001b[0m\u001b[1;33m,\u001b[0m \u001b[0mkeys\u001b[0m\u001b[1;33m=\u001b[0m\u001b[0mkeys\u001b[0m\u001b[1;33m)\u001b[0m\u001b[1;33m\u001b[0m\u001b[1;33m\u001b[0m\u001b[0m\n\u001b[0m\u001b[0;32m   2090\u001b[0m \u001b[1;33m\u001b[0m\u001b[0m\n\u001b[0;32m   2091\u001b[0m         \u001b[1;32mreturn\u001b[0m \u001b[0mresponse\u001b[0m\u001b[1;33m\u001b[0m\u001b[1;33m\u001b[0m\u001b[0m\n",
      "\u001b[1;32m~\\anaconda3\\envs\\ml_env\\lib\\site-packages\\distributed\\utils_comm.py\u001b[0m in \u001b[0;36mretry_operation\u001b[1;34m(coro, operation, *args, **kwargs)\u001b[0m\n\u001b[0;32m    388\u001b[0m         \u001b[0mdelay_min\u001b[0m\u001b[1;33m=\u001b[0m\u001b[0mretry_delay_min\u001b[0m\u001b[1;33m,\u001b[0m\u001b[1;33m\u001b[0m\u001b[1;33m\u001b[0m\u001b[0m\n\u001b[0;32m    389\u001b[0m         \u001b[0mdelay_max\u001b[0m\u001b[1;33m=\u001b[0m\u001b[0mretry_delay_max\u001b[0m\u001b[1;33m,\u001b[0m\u001b[1;33m\u001b[0m\u001b[1;33m\u001b[0m\u001b[0m\n\u001b[1;32m--> 390\u001b[1;33m         \u001b[0moperation\u001b[0m\u001b[1;33m=\u001b[0m\u001b[0moperation\u001b[0m\u001b[1;33m,\u001b[0m\u001b[1;33m\u001b[0m\u001b[1;33m\u001b[0m\u001b[0m\n\u001b[0m\u001b[0;32m    391\u001b[0m     )\n",
      "\u001b[1;32m~\\anaconda3\\envs\\ml_env\\lib\\site-packages\\distributed\\utils_comm.py\u001b[0m in \u001b[0;36mretry\u001b[1;34m(coro, count, delay_min, delay_max, jitter_fraction, retry_on_exceptions, operation)\u001b[0m\n\u001b[0;32m    368\u001b[0m                 \u001b[0mdelay\u001b[0m \u001b[1;33m*=\u001b[0m \u001b[1;36m1\u001b[0m \u001b[1;33m+\u001b[0m \u001b[0mrandom\u001b[0m\u001b[1;33m.\u001b[0m\u001b[0mrandom\u001b[0m\u001b[1;33m(\u001b[0m\u001b[1;33m)\u001b[0m \u001b[1;33m*\u001b[0m \u001b[0mjitter_fraction\u001b[0m\u001b[1;33m\u001b[0m\u001b[1;33m\u001b[0m\u001b[0m\n\u001b[0;32m    369\u001b[0m             \u001b[1;32mawait\u001b[0m \u001b[0masyncio\u001b[0m\u001b[1;33m.\u001b[0m\u001b[0msleep\u001b[0m\u001b[1;33m(\u001b[0m\u001b[0mdelay\u001b[0m\u001b[1;33m)\u001b[0m\u001b[1;33m\u001b[0m\u001b[1;33m\u001b[0m\u001b[0m\n\u001b[1;32m--> 370\u001b[1;33m     \u001b[1;32mreturn\u001b[0m \u001b[1;32mawait\u001b[0m \u001b[0mcoro\u001b[0m\u001b[1;33m(\u001b[0m\u001b[1;33m)\u001b[0m\u001b[1;33m\u001b[0m\u001b[1;33m\u001b[0m\u001b[0m\n\u001b[0m\u001b[0;32m    371\u001b[0m \u001b[1;33m\u001b[0m\u001b[0m\n\u001b[0;32m    372\u001b[0m \u001b[1;33m\u001b[0m\u001b[0m\n",
      "\u001b[1;32m~\\anaconda3\\envs\\ml_env\\lib\\site-packages\\distributed\\core.py\u001b[0m in \u001b[0;36msend_recv_from_rpc\u001b[1;34m(**kwargs)\u001b[0m\n\u001b[0;32m    903\u001b[0m             \u001b[0mprev_name\u001b[0m\u001b[1;33m,\u001b[0m \u001b[0mcomm\u001b[0m\u001b[1;33m.\u001b[0m\u001b[0mname\u001b[0m \u001b[1;33m=\u001b[0m \u001b[0mcomm\u001b[0m\u001b[1;33m.\u001b[0m\u001b[0mname\u001b[0m\u001b[1;33m,\u001b[0m \u001b[1;34m\"ConnectionPool.\"\u001b[0m \u001b[1;33m+\u001b[0m \u001b[0mkey\u001b[0m\u001b[1;33m\u001b[0m\u001b[1;33m\u001b[0m\u001b[0m\n\u001b[0;32m    904\u001b[0m             \u001b[1;32mtry\u001b[0m\u001b[1;33m:\u001b[0m\u001b[1;33m\u001b[0m\u001b[1;33m\u001b[0m\u001b[0m\n\u001b[1;32m--> 905\u001b[1;33m                 \u001b[1;32mreturn\u001b[0m \u001b[1;32mawait\u001b[0m \u001b[0msend_recv\u001b[0m\u001b[1;33m(\u001b[0m\u001b[0mcomm\u001b[0m\u001b[1;33m=\u001b[0m\u001b[0mcomm\u001b[0m\u001b[1;33m,\u001b[0m \u001b[0mop\u001b[0m\u001b[1;33m=\u001b[0m\u001b[0mkey\u001b[0m\u001b[1;33m,\u001b[0m \u001b[1;33m**\u001b[0m\u001b[0mkwargs\u001b[0m\u001b[1;33m)\u001b[0m\u001b[1;33m\u001b[0m\u001b[1;33m\u001b[0m\u001b[0m\n\u001b[0m\u001b[0;32m    906\u001b[0m             \u001b[1;32mfinally\u001b[0m\u001b[1;33m:\u001b[0m\u001b[1;33m\u001b[0m\u001b[1;33m\u001b[0m\u001b[0m\n\u001b[0;32m    907\u001b[0m                 \u001b[0mself\u001b[0m\u001b[1;33m.\u001b[0m\u001b[0mpool\u001b[0m\u001b[1;33m.\u001b[0m\u001b[0mreuse\u001b[0m\u001b[1;33m(\u001b[0m\u001b[0mself\u001b[0m\u001b[1;33m.\u001b[0m\u001b[0maddr\u001b[0m\u001b[1;33m,\u001b[0m \u001b[0mcomm\u001b[0m\u001b[1;33m)\u001b[0m\u001b[1;33m\u001b[0m\u001b[1;33m\u001b[0m\u001b[0m\n",
      "\u001b[1;32m~\\anaconda3\\envs\\ml_env\\lib\\site-packages\\distributed\\core.py\u001b[0m in \u001b[0;36msend_recv\u001b[1;34m(comm, reply, serializers, deserializers, **kwargs)\u001b[0m\n\u001b[0;32m    672\u001b[0m         \u001b[1;32mawait\u001b[0m \u001b[0mcomm\u001b[0m\u001b[1;33m.\u001b[0m\u001b[0mwrite\u001b[0m\u001b[1;33m(\u001b[0m\u001b[0mmsg\u001b[0m\u001b[1;33m,\u001b[0m \u001b[0mserializers\u001b[0m\u001b[1;33m=\u001b[0m\u001b[0mserializers\u001b[0m\u001b[1;33m,\u001b[0m \u001b[0mon_error\u001b[0m\u001b[1;33m=\u001b[0m\u001b[1;34m\"raise\"\u001b[0m\u001b[1;33m)\u001b[0m\u001b[1;33m\u001b[0m\u001b[1;33m\u001b[0m\u001b[0m\n\u001b[0;32m    673\u001b[0m         \u001b[1;32mif\u001b[0m \u001b[0mreply\u001b[0m\u001b[1;33m:\u001b[0m\u001b[1;33m\u001b[0m\u001b[1;33m\u001b[0m\u001b[0m\n\u001b[1;32m--> 674\u001b[1;33m             \u001b[0mresponse\u001b[0m \u001b[1;33m=\u001b[0m \u001b[1;32mawait\u001b[0m \u001b[0mcomm\u001b[0m\u001b[1;33m.\u001b[0m\u001b[0mread\u001b[0m\u001b[1;33m(\u001b[0m\u001b[0mdeserializers\u001b[0m\u001b[1;33m=\u001b[0m\u001b[0mdeserializers\u001b[0m\u001b[1;33m)\u001b[0m\u001b[1;33m\u001b[0m\u001b[1;33m\u001b[0m\u001b[0m\n\u001b[0m\u001b[0;32m    675\u001b[0m         \u001b[1;32melse\u001b[0m\u001b[1;33m:\u001b[0m\u001b[1;33m\u001b[0m\u001b[1;33m\u001b[0m\u001b[0m\n\u001b[0;32m    676\u001b[0m             \u001b[0mresponse\u001b[0m \u001b[1;33m=\u001b[0m \u001b[1;32mNone\u001b[0m\u001b[1;33m\u001b[0m\u001b[1;33m\u001b[0m\u001b[0m\n",
      "\u001b[1;32m~\\anaconda3\\envs\\ml_env\\lib\\site-packages\\distributed\\comm\\tcp.py\u001b[0m in \u001b[0;36mread\u001b[1;34m(self, deserializers)\u001b[0m\n\u001b[0;32m    235\u001b[0m                     \u001b[0mdeserialize\u001b[0m\u001b[1;33m=\u001b[0m\u001b[0mself\u001b[0m\u001b[1;33m.\u001b[0m\u001b[0mdeserialize\u001b[0m\u001b[1;33m,\u001b[0m\u001b[1;33m\u001b[0m\u001b[1;33m\u001b[0m\u001b[0m\n\u001b[0;32m    236\u001b[0m                     \u001b[0mdeserializers\u001b[0m\u001b[1;33m=\u001b[0m\u001b[0mdeserializers\u001b[0m\u001b[1;33m,\u001b[0m\u001b[1;33m\u001b[0m\u001b[1;33m\u001b[0m\u001b[0m\n\u001b[1;32m--> 237\u001b[1;33m                     \u001b[0mallow_offload\u001b[0m\u001b[1;33m=\u001b[0m\u001b[0mself\u001b[0m\u001b[1;33m.\u001b[0m\u001b[0mallow_offload\u001b[0m\u001b[1;33m,\u001b[0m\u001b[1;33m\u001b[0m\u001b[1;33m\u001b[0m\u001b[0m\n\u001b[0m\u001b[0;32m    238\u001b[0m                 )\n\u001b[0;32m    239\u001b[0m             \u001b[1;32mexcept\u001b[0m \u001b[0mEOFError\u001b[0m\u001b[1;33m:\u001b[0m\u001b[1;33m\u001b[0m\u001b[1;33m\u001b[0m\u001b[0m\n",
      "\u001b[1;32m~\\anaconda3\\envs\\ml_env\\lib\\site-packages\\distributed\\comm\\utils.py\u001b[0m in \u001b[0;36mfrom_frames\u001b[1;34m(frames, deserialize, deserializers, allow_offload)\u001b[0m\n\u001b[0;32m     76\u001b[0m         \u001b[0mres\u001b[0m \u001b[1;33m=\u001b[0m \u001b[1;32mawait\u001b[0m \u001b[0moffload\u001b[0m\u001b[1;33m(\u001b[0m\u001b[0m_from_frames\u001b[0m\u001b[1;33m)\u001b[0m\u001b[1;33m\u001b[0m\u001b[1;33m\u001b[0m\u001b[0m\n\u001b[0;32m     77\u001b[0m     \u001b[1;32melse\u001b[0m\u001b[1;33m:\u001b[0m\u001b[1;33m\u001b[0m\u001b[1;33m\u001b[0m\u001b[0m\n\u001b[1;32m---> 78\u001b[1;33m         \u001b[0mres\u001b[0m \u001b[1;33m=\u001b[0m \u001b[0m_from_frames\u001b[0m\u001b[1;33m(\u001b[0m\u001b[1;33m)\u001b[0m\u001b[1;33m\u001b[0m\u001b[1;33m\u001b[0m\u001b[0m\n\u001b[0m\u001b[0;32m     79\u001b[0m \u001b[1;33m\u001b[0m\u001b[0m\n\u001b[0;32m     80\u001b[0m     \u001b[1;32mreturn\u001b[0m \u001b[0mres\u001b[0m\u001b[1;33m\u001b[0m\u001b[1;33m\u001b[0m\u001b[0m\n",
      "\u001b[1;32m~\\anaconda3\\envs\\ml_env\\lib\\site-packages\\distributed\\comm\\utils.py\u001b[0m in \u001b[0;36m_from_frames\u001b[1;34m()\u001b[0m\n\u001b[0;32m     60\u001b[0m         \u001b[1;32mtry\u001b[0m\u001b[1;33m:\u001b[0m\u001b[1;33m\u001b[0m\u001b[1;33m\u001b[0m\u001b[0m\n\u001b[0;32m     61\u001b[0m             return protocol.loads(\n\u001b[1;32m---> 62\u001b[1;33m                 \u001b[0mframes\u001b[0m\u001b[1;33m,\u001b[0m \u001b[0mdeserialize\u001b[0m\u001b[1;33m=\u001b[0m\u001b[0mdeserialize\u001b[0m\u001b[1;33m,\u001b[0m \u001b[0mdeserializers\u001b[0m\u001b[1;33m=\u001b[0m\u001b[0mdeserializers\u001b[0m\u001b[1;33m\u001b[0m\u001b[1;33m\u001b[0m\u001b[0m\n\u001b[0m\u001b[0;32m     63\u001b[0m             )\n\u001b[0;32m     64\u001b[0m         \u001b[1;32mexcept\u001b[0m \u001b[0mEOFError\u001b[0m\u001b[1;33m:\u001b[0m\u001b[1;33m\u001b[0m\u001b[1;33m\u001b[0m\u001b[0m\n",
      "\u001b[1;32m~\\anaconda3\\envs\\ml_env\\lib\\site-packages\\distributed\\protocol\\core.py\u001b[0m in \u001b[0;36mloads\u001b[1;34m(frames, deserialize, deserializers)\u001b[0m\n\u001b[0;32m    110\u001b[0m \u001b[1;33m\u001b[0m\u001b[0m\n\u001b[0;32m    111\u001b[0m         return msgpack.loads(\n\u001b[1;32m--> 112\u001b[1;33m             \u001b[0mframes\u001b[0m\u001b[1;33m[\u001b[0m\u001b[1;36m0\u001b[0m\u001b[1;33m]\u001b[0m\u001b[1;33m,\u001b[0m \u001b[0mobject_hook\u001b[0m\u001b[1;33m=\u001b[0m\u001b[0m_decode_default\u001b[0m\u001b[1;33m,\u001b[0m \u001b[0muse_list\u001b[0m\u001b[1;33m=\u001b[0m\u001b[1;32mFalse\u001b[0m\u001b[1;33m,\u001b[0m \u001b[1;33m**\u001b[0m\u001b[0mmsgpack_opts\u001b[0m\u001b[1;33m\u001b[0m\u001b[1;33m\u001b[0m\u001b[0m\n\u001b[0m\u001b[0;32m    113\u001b[0m         )\n\u001b[0;32m    114\u001b[0m \u001b[1;33m\u001b[0m\u001b[0m\n",
      "\u001b[1;32mmsgpack\\_unpacker.pyx\u001b[0m in \u001b[0;36mmsgpack._cmsgpack.unpackb\u001b[1;34m()\u001b[0m\n",
      "\u001b[1;32m~\\anaconda3\\envs\\ml_env\\lib\\site-packages\\distributed\\protocol\\core.py\u001b[0m in \u001b[0;36m_decode_default\u001b[1;34m(obj)\u001b[0m\n\u001b[0;32m    102\u001b[0m                         \u001b[0msub_frames\u001b[0m \u001b[1;33m=\u001b[0m \u001b[0mdecompress\u001b[0m\u001b[1;33m(\u001b[0m\u001b[0msub_header\u001b[0m\u001b[1;33m,\u001b[0m \u001b[0msub_frames\u001b[0m\u001b[1;33m)\u001b[0m\u001b[1;33m\u001b[0m\u001b[1;33m\u001b[0m\u001b[0m\n\u001b[0;32m    103\u001b[0m                     return merge_and_deserialize(\n\u001b[1;32m--> 104\u001b[1;33m                         \u001b[0msub_header\u001b[0m\u001b[1;33m,\u001b[0m \u001b[0msub_frames\u001b[0m\u001b[1;33m,\u001b[0m \u001b[0mdeserializers\u001b[0m\u001b[1;33m=\u001b[0m\u001b[0mdeserializers\u001b[0m\u001b[1;33m\u001b[0m\u001b[1;33m\u001b[0m\u001b[0m\n\u001b[0m\u001b[0;32m    105\u001b[0m                     )\n\u001b[0;32m    106\u001b[0m                 \u001b[1;32melse\u001b[0m\u001b[1;33m:\u001b[0m\u001b[1;33m\u001b[0m\u001b[1;33m\u001b[0m\u001b[0m\n",
      "\u001b[1;32m~\\anaconda3\\envs\\ml_env\\lib\\site-packages\\distributed\\protocol\\serialize.py\u001b[0m in \u001b[0;36mmerge_and_deserialize\u001b[1;34m(header, frames, deserializers)\u001b[0m\n\u001b[0;32m    486\u001b[0m             \u001b[0mmerged_frames\u001b[0m\u001b[1;33m.\u001b[0m\u001b[0mappend\u001b[0m\u001b[1;33m(\u001b[0m\u001b[0mmerged\u001b[0m\u001b[1;33m)\u001b[0m\u001b[1;33m\u001b[0m\u001b[1;33m\u001b[0m\u001b[0m\n\u001b[0;32m    487\u001b[0m \u001b[1;33m\u001b[0m\u001b[0m\n\u001b[1;32m--> 488\u001b[1;33m     \u001b[1;32mreturn\u001b[0m \u001b[0mdeserialize\u001b[0m\u001b[1;33m(\u001b[0m\u001b[0mheader\u001b[0m\u001b[1;33m,\u001b[0m \u001b[0mmerged_frames\u001b[0m\u001b[1;33m,\u001b[0m \u001b[0mdeserializers\u001b[0m\u001b[1;33m=\u001b[0m\u001b[0mdeserializers\u001b[0m\u001b[1;33m)\u001b[0m\u001b[1;33m\u001b[0m\u001b[1;33m\u001b[0m\u001b[0m\n\u001b[0m\u001b[0;32m    489\u001b[0m \u001b[1;33m\u001b[0m\u001b[0m\n\u001b[0;32m    490\u001b[0m \u001b[1;33m\u001b[0m\u001b[0m\n",
      "\u001b[1;32m~\\anaconda3\\envs\\ml_env\\lib\\site-packages\\distributed\\protocol\\serialize.py\u001b[0m in \u001b[0;36mdeserialize\u001b[1;34m(header, frames, deserializers)\u001b[0m\n\u001b[0;32m    415\u001b[0m         )\n\u001b[0;32m    416\u001b[0m     \u001b[0mdumps\u001b[0m\u001b[1;33m,\u001b[0m \u001b[0mloads\u001b[0m\u001b[1;33m,\u001b[0m \u001b[0mwants_context\u001b[0m \u001b[1;33m=\u001b[0m \u001b[0mfamilies\u001b[0m\u001b[1;33m[\u001b[0m\u001b[0mname\u001b[0m\u001b[1;33m]\u001b[0m\u001b[1;33m\u001b[0m\u001b[1;33m\u001b[0m\u001b[0m\n\u001b[1;32m--> 417\u001b[1;33m     \u001b[1;32mreturn\u001b[0m \u001b[0mloads\u001b[0m\u001b[1;33m(\u001b[0m\u001b[0mheader\u001b[0m\u001b[1;33m,\u001b[0m \u001b[0mframes\u001b[0m\u001b[1;33m)\u001b[0m\u001b[1;33m\u001b[0m\u001b[1;33m\u001b[0m\u001b[0m\n\u001b[0m\u001b[0;32m    418\u001b[0m \u001b[1;33m\u001b[0m\u001b[0m\n\u001b[0;32m    419\u001b[0m \u001b[1;33m\u001b[0m\u001b[0m\n",
      "\u001b[1;32m~\\anaconda3\\envs\\ml_env\\lib\\site-packages\\distributed\\protocol\\serialize.py\u001b[0m in \u001b[0;36mserialization_error_loads\u001b[1;34m(header, frames)\u001b[0m\n\u001b[0;32m    178\u001b[0m \u001b[1;32mdef\u001b[0m \u001b[0mserialization_error_loads\u001b[0m\u001b[1;33m(\u001b[0m\u001b[0mheader\u001b[0m\u001b[1;33m,\u001b[0m \u001b[0mframes\u001b[0m\u001b[1;33m)\u001b[0m\u001b[1;33m:\u001b[0m\u001b[1;33m\u001b[0m\u001b[1;33m\u001b[0m\u001b[0m\n\u001b[0;32m    179\u001b[0m     \u001b[0mmsg\u001b[0m \u001b[1;33m=\u001b[0m \u001b[1;34m\"\\n\"\u001b[0m\u001b[1;33m.\u001b[0m\u001b[0mjoin\u001b[0m\u001b[1;33m(\u001b[0m\u001b[1;33m[\u001b[0m\u001b[0mensure_bytes\u001b[0m\u001b[1;33m(\u001b[0m\u001b[0mframe\u001b[0m\u001b[1;33m)\u001b[0m\u001b[1;33m.\u001b[0m\u001b[0mdecode\u001b[0m\u001b[1;33m(\u001b[0m\u001b[1;34m\"utf8\"\u001b[0m\u001b[1;33m)\u001b[0m \u001b[1;32mfor\u001b[0m \u001b[0mframe\u001b[0m \u001b[1;32min\u001b[0m \u001b[0mframes\u001b[0m\u001b[1;33m]\u001b[0m\u001b[1;33m)\u001b[0m\u001b[1;33m\u001b[0m\u001b[1;33m\u001b[0m\u001b[0m\n\u001b[1;32m--> 180\u001b[1;33m     \u001b[1;32mraise\u001b[0m \u001b[0mTypeError\u001b[0m\u001b[1;33m(\u001b[0m\u001b[0mmsg\u001b[0m\u001b[1;33m)\u001b[0m\u001b[1;33m\u001b[0m\u001b[1;33m\u001b[0m\u001b[0m\n\u001b[0m\u001b[0;32m    181\u001b[0m \u001b[1;33m\u001b[0m\u001b[0m\n\u001b[0;32m    182\u001b[0m \u001b[1;33m\u001b[0m\u001b[0m\n",
      "\u001b[1;31mTypeError\u001b[0m: Could not serialize object of type DataFrame.\nTraceback (most recent call last):\n  File \"C:\\Users\\MIST LAB\\anaconda3\\envs\\ml_env\\lib\\site-packages\\distributed\\protocol\\pickle.py\", line 49, in dumps\n    result = pickle.dumps(x, **dump_kwargs)\nMemoryError\n\nDuring handling of the above exception, another exception occurred:\n\nTraceback (most recent call last):\n  File \"C:\\Users\\MIST LAB\\anaconda3\\envs\\ml_env\\lib\\site-packages\\distributed\\protocol\\serialize.py\", line 340, in serialize\n    header, frames = dumps(x, context=context) if wants_context else dumps(x)\n  File \"C:\\Users\\MIST LAB\\anaconda3\\envs\\ml_env\\lib\\site-packages\\distributed\\protocol\\serialize.py\", line 66, in pickle_dumps\n    protocol=context.get(\"pickle-protocol\", None) if context else None,\n  File \"C:\\Users\\MIST LAB\\anaconda3\\envs\\ml_env\\lib\\site-packages\\distributed\\protocol\\pickle.py\", line 60, in dumps\n    result = cloudpickle.dumps(x, **dump_kwargs)\n  File \"C:\\Users\\MIST LAB\\anaconda3\\envs\\ml_env\\lib\\site-packages\\cloudpickle\\cloudpickle_fast.py\", line 102, in dumps\n    cp.dump(obj)\n  File \"C:\\Users\\MIST LAB\\anaconda3\\envs\\ml_env\\lib\\site-packages\\cloudpickle\\cloudpickle_fast.py\", line 632, in dump\n    return Pickler.dump(self, obj)\n  File \"C:\\Users\\MIST LAB\\anaconda3\\envs\\ml_env\\lib\\pickle.py\", line 437, in dump\n    self.save(obj)\n  File \"C:\\Users\\MIST LAB\\anaconda3\\envs\\ml_env\\lib\\pickle.py\", line 549, in save\n    self.save_reduce(obj=obj, *rv)\n  File \"C:\\Users\\MIST LAB\\anaconda3\\envs\\ml_env\\lib\\pickle.py\", line 662, in save_reduce\n    save(state)\n  File \"C:\\Users\\MIST LAB\\anaconda3\\envs\\ml_env\\lib\\pickle.py\", line 504, in save\n    f(self, obj) # Call unbound method with explicit self\n  File \"C:\\Users\\MIST LAB\\anaconda3\\envs\\ml_env\\lib\\pickle.py\", line 859, in save_dict\n    self._batch_setitems(obj.items())\n  File \"C:\\Users\\MIST LAB\\anaconda3\\envs\\ml_env\\lib\\pickle.py\", line 885, in _batch_setitems\n    save(v)\n  File \"C:\\Users\\MIST LAB\\anaconda3\\envs\\ml_env\\lib\\pickle.py\", line 549, in save\n    self.save_reduce(obj=obj, *rv)\n  File \"C:\\Users\\MIST LAB\\anaconda3\\envs\\ml_env\\lib\\pickle.py\", line 638, in save_reduce\n    save(args)\n  File \"C:\\Users\\MIST LAB\\anaconda3\\envs\\ml_env\\lib\\pickle.py\", line 504, in save\n    f(self, obj) # Call unbound method with explicit self\n  File \"C:\\Users\\MIST LAB\\anaconda3\\envs\\ml_env\\lib\\pickle.py\", line 774, in save_tuple\n    save(element)\n  File \"C:\\Users\\MIST LAB\\anaconda3\\envs\\ml_env\\lib\\pickle.py\", line 504, in save\n    f(self, obj) # Call unbound method with explicit self\n  File \"C:\\Users\\MIST LAB\\anaconda3\\envs\\ml_env\\lib\\pickle.py\", line 789, in save_tuple\n    save(element)\n  File \"C:\\Users\\MIST LAB\\anaconda3\\envs\\ml_env\\lib\\pickle.py\", line 549, in save\n    self.save_reduce(obj=obj, *rv)\n  File \"C:\\Users\\MIST LAB\\anaconda3\\envs\\ml_env\\lib\\pickle.py\", line 638, in save_reduce\n    save(args)\n  File \"C:\\Users\\MIST LAB\\anaconda3\\envs\\ml_env\\lib\\pickle.py\", line 504, in save\n    f(self, obj) # Call unbound method with explicit self\n  File \"C:\\Users\\MIST LAB\\anaconda3\\envs\\ml_env\\lib\\pickle.py\", line 774, in save_tuple\n    save(element)\n  File \"C:\\Users\\MIST LAB\\anaconda3\\envs\\ml_env\\lib\\pickle.py\", line 549, in save\n    self.save_reduce(obj=obj, *rv)\n  File \"C:\\Users\\MIST LAB\\anaconda3\\envs\\ml_env\\lib\\pickle.py\", line 662, in save_reduce\n    save(state)\n  File \"C:\\Users\\MIST LAB\\anaconda3\\envs\\ml_env\\lib\\pickle.py\", line 504, in save\n    f(self, obj) # Call unbound method with explicit self\n  File \"C:\\Users\\MIST LAB\\anaconda3\\envs\\ml_env\\lib\\pickle.py\", line 789, in save_tuple\n    save(element)\n  File \"C:\\Users\\MIST LAB\\anaconda3\\envs\\ml_env\\lib\\pickle.py\", line 504, in save\n    f(self, obj) # Call unbound method with explicit self\n  File \"C:\\Users\\MIST LAB\\anaconda3\\envs\\ml_env\\lib\\pickle.py\", line 732, in save_bytes\n    self._write_large_bytes(BINBYTES + pack(\"<I\", n), obj)\n  File \"C:\\Users\\MIST LAB\\anaconda3\\envs\\ml_env\\lib\\pickle.py\", line 244, in write_large_bytes\n    write(payload)\nMemoryError\n"
     ]
    }
   ],
   "source": [
    "%%time\n",
    "daskScheduler = Client()\n",
    "worker_output = daskScheduler.submit(readHugeCsvFileAsDataFrame, path_DdoS_NTP)\n",
    "workingDataFrame = worker_output.result()\n",
    "workingDataFrame"
   ]
  },
  {
   "cell_type": "code",
   "execution_count": 20,
   "metadata": {
    "collapsed": false
   },
   "outputs": [
    {
     "name": "stdout",
     "output_type": "stream",
     "text": [
      "Memory usage of Working Dataframe: 463.94 MB\n",
      "Total Features in the initial csv file:  78\n"
     ]
    }
   ],
   "source": [
    "mb = workingDataFrame.memory_usage().sum() / 1024 ** 2\n",
    "print('Memory usage of Working Dataframe: {:.2f} MB'.format(mb))\n",
    "print(\"Total Features in the initial csv file: \", len(list(workingDataFrame.columns)))"
   ]
  },
  {
   "cell_type": "markdown",
   "metadata": {
    "collapsed": false
   },
   "source": [
    "<center><h4 style=\"background:#ADFF2F;color:black\">\n",
    "Following Columns may have little insignificance over model creation. Follow <a href=\"https://link.springer.com/chapter/10.1007/978-3-031-09484-2_2\" >This Paper Link</a>\n",
    "</h4></center>"
   ]
  },
  {
   "cell_type": "code",
   "execution_count": 21,
   "metadata": {
    "collapsed": false
   },
   "outputs": [],
   "source": [
    "# src_port,dst_port, src_ip, dst_ip these are duplicate\n",
    "drop_columns = [\n",
    "    \"Flow ID\",\n",
    "    'Fwd Header Length.1',\n",
    "    \"Source IP\", \"Src IP\",\n",
    "    \"Source Port\", \"Src Port\",\n",
    "    \"Destination IP\", \"Dst IP\",\n",
    "    \"Destination Port\", \"Dst Port\",\n",
    "    \"Timestamp\",\n",
    "    \"Unnamed: 0\",\n",
    "    \"Inbound\",\n",
    "    \"SimillarHTTP\"\n",
    "]"
   ]
  },
  {
   "cell_type": "markdown",
   "metadata": {
    "collapsed": false
   },
   "source": [
    "<center><h3 style=\"background:yellow;color:black\">\n",
    "Dropping Unnecessary Features & maintain column consistency\n",
    "</h3></center>"
   ]
  },
  {
   "cell_type": "code",
   "execution_count": 22,
   "metadata": {
    "collapsed": false
   },
   "outputs": [
    {
     "data": {
      "text/plain": [
       "(1123512, 78)"
      ]
     },
     "execution_count": 22,
     "metadata": {},
     "output_type": "execute_result"
    }
   ],
   "source": [
    "workingDataFrame.columns = workingDataFrame.columns.str.strip()  # sometimes there's leading / trailing whitespace\n",
    "workingDataFrame.rename(columns=col_name_consistency, inplace=True)\n",
    "workingDataFrame.drop(columns=drop_columns, inplace=True, errors='ignore')\n",
    "\n",
    "workingDataFrame.shape"
   ]
  },
  {
   "cell_type": "markdown",
   "metadata": {
    "collapsed": false
   },
   "source": [
    "<center><h3 style=\"background:yellow;color:black\">\n",
    "Data Cleaning Based on Data Types (DownSizing)\n",
    "</h3></center>"
   ]
  },
  {
   "cell_type": "code",
   "execution_count": 23,
   "metadata": {
    "collapsed": false
   },
   "outputs": [
    {
     "name": "stdout",
     "output_type": "stream",
     "text": [
      "<class 'pandas.core.frame.DataFrame'>\n",
      "RangeIndex: 1123512 entries, 0 to 1123511\n",
      "Data columns (total 78 columns):\n",
      " #   Column                    Non-Null Count    Dtype  \n",
      "---  ------                    --------------    -----  \n",
      " 0   Protocol                  1123512 non-null  int8   \n",
      " 1   Flow Duration             1123512 non-null  int32  \n",
      " 2   Total Fwd Packets         1123512 non-null  int16  \n",
      " 3   Total Backward Packets    1123512 non-null  int16  \n",
      " 4   Fwd Packets Length Total  1123512 non-null  float64\n",
      " 5   Bwd Packets Length Total  1123512 non-null  float64\n",
      " 6   Fwd Packet Length Max     1123512 non-null  float64\n",
      " 7   Fwd Packet Length Min     1123512 non-null  float64\n",
      " 8   Fwd Packet Length Mean    1123512 non-null  float64\n",
      " 9   Fwd Packet Length Std     1123512 non-null  float64\n",
      " 10  Bwd Packet Length Max     1123512 non-null  float64\n",
      " 11  Bwd Packet Length Min     1123512 non-null  float64\n",
      " 12  Bwd Packet Length Mean    1123512 non-null  float64\n",
      " 13  Bwd Packet Length Std     1123512 non-null  float64\n",
      " 14  Flow Bytes/s              1123512 non-null  float64\n",
      " 15  Flow Packets/s            1123512 non-null  float64\n",
      " 16  Flow IAT Mean             1123512 non-null  float64\n",
      " 17  Flow IAT Std              1123512 non-null  float64\n",
      " 18  Flow IAT Max              1123512 non-null  float64\n",
      " 19  Flow IAT Min              1123512 non-null  float64\n",
      " 20  Fwd IAT Total             1123512 non-null  float64\n",
      " 21  Fwd IAT Mean              1123512 non-null  float64\n",
      " 22  Fwd IAT Std               1123512 non-null  float64\n",
      " 23  Fwd IAT Max               1123512 non-null  float64\n",
      " 24  Fwd IAT Min               1123512 non-null  float64\n",
      " 25  Bwd IAT Total             1123512 non-null  float64\n",
      " 26  Bwd IAT Mean              1123512 non-null  float64\n",
      " 27  Bwd IAT Std               1123512 non-null  float64\n",
      " 28  Bwd IAT Max               1123512 non-null  float64\n",
      " 29  Bwd IAT Min               1123512 non-null  float64\n",
      " 30  Fwd PSH Flags             1123512 non-null  int8   \n",
      " 31  Bwd PSH Flags             1123512 non-null  int8   \n",
      " 32  Fwd URG Flags             1123512 non-null  int8   \n",
      " 33  Bwd URG Flags             1123512 non-null  int8   \n",
      " 34  Fwd Header Length         1123512 non-null  int64  \n",
      " 35  Bwd Header Length         1123512 non-null  int32  \n",
      " 36  Fwd Packets/s             1123512 non-null  float64\n",
      " 37  Bwd Packets/s             1123512 non-null  float64\n",
      " 38  Packet Length Min         1123512 non-null  float64\n",
      " 39  Packet Length Max         1123512 non-null  float64\n",
      " 40  Packet Length Mean        1123512 non-null  float64\n",
      " 41  Packet Length Std         1123512 non-null  float64\n",
      " 42  Packet Length Variance    1123512 non-null  float64\n",
      " 43  FIN Flag Count            1123512 non-null  int8   \n",
      " 44  SYN Flag Count            1123512 non-null  int8   \n",
      " 45  RST Flag Count            1123512 non-null  int8   \n",
      " 46  PSH Flag Count            1123512 non-null  int8   \n",
      " 47  ACK Flag Count            1123512 non-null  int8   \n",
      " 48  URG Flag Count            1123512 non-null  int8   \n",
      " 49  CWE Flag Count            1123512 non-null  int8   \n",
      " 50  ECE Flag Count            1123512 non-null  int8   \n",
      " 51  Down/Up Ratio             1123512 non-null  float64\n",
      " 52  Avg Packet Size           1123512 non-null  float64\n",
      " 53  Avg Fwd Segment Size      1123512 non-null  float64\n",
      " 54  Avg Bwd Segment Size      1123512 non-null  float64\n",
      " 55  Fwd Avg Bytes/Bulk        1123512 non-null  int8   \n",
      " 56  Fwd Avg Packets/Bulk      1123512 non-null  int8   \n",
      " 57  Fwd Avg Bulk Rate         1123512 non-null  int8   \n",
      " 58  Bwd Avg Bytes/Bulk        1123512 non-null  int8   \n",
      " 59  Bwd Avg Packets/Bulk      1123512 non-null  int8   \n",
      " 60  Bwd Avg Bulk Rate         1123512 non-null  int8   \n",
      " 61  Subflow Fwd Packets       1123512 non-null  int16  \n",
      " 62  Subflow Fwd Bytes         1123512 non-null  int32  \n",
      " 63  Subflow Bwd Packets       1123512 non-null  int16  \n",
      " 64  Subflow Bwd Bytes         1123512 non-null  int32  \n",
      " 65  Init Fwd Win Bytes        1123512 non-null  int32  \n",
      " 66  Init Bwd Win Bytes        1123512 non-null  int32  \n",
      " 67  Fwd Act Data Packets      1123512 non-null  int16  \n",
      " 68  Fwd Seg Size Min          1123512 non-null  int32  \n",
      " 69  Active Mean               1123512 non-null  float64\n",
      " 70  Active Std                1123512 non-null  float64\n",
      " 71  Active Max                1123512 non-null  float64\n",
      " 72  Active Min                1123512 non-null  float64\n",
      " 73  Idle Mean                 1123512 non-null  float64\n",
      " 74  Idle Std                  1123512 non-null  float64\n",
      " 75  Idle Max                  1123512 non-null  float64\n",
      " 76  Idle Min                  1123512 non-null  float64\n",
      " 77  Label                     1123512 non-null  object \n",
      "dtypes: float64(45), int16(5), int32(7), int64(1), int8(19), object(1)\n",
      "memory usage: 526.1 MB\n"
     ]
    }
   ],
   "source": [
    "workingDataFrame.info(memory_usage=\"deep\")"
   ]
  },
  {
   "cell_type": "code",
   "execution_count": 24,
   "metadata": {
    "collapsed": false
   },
   "outputs": [
    {
     "name": "stdout",
     "output_type": "stream",
     "text": [
      "<class 'pandas.core.frame.DataFrame'>\n",
      "RangeIndex: 1123512 entries, 0 to 1123511\n",
      "Data columns (total 78 columns):\n",
      " #   Column                    Non-Null Count    Dtype  \n",
      "---  ------                    --------------    -----  \n",
      " 0   Protocol                  1123512 non-null  int8   \n",
      " 1   Flow Duration             1123512 non-null  int32  \n",
      " 2   Total Fwd Packets         1123512 non-null  int16  \n",
      " 3   Total Backward Packets    1123512 non-null  int16  \n",
      " 4   Fwd Packets Length Total  1123512 non-null  float32\n",
      " 5   Bwd Packets Length Total  1123512 non-null  float32\n",
      " 6   Fwd Packet Length Max     1123512 non-null  float32\n",
      " 7   Fwd Packet Length Min     1123512 non-null  float32\n",
      " 8   Fwd Packet Length Mean    1123512 non-null  float32\n",
      " 9   Fwd Packet Length Std     1123512 non-null  float32\n",
      " 10  Bwd Packet Length Max     1123512 non-null  float32\n",
      " 11  Bwd Packet Length Min     1123512 non-null  float32\n",
      " 12  Bwd Packet Length Mean    1123512 non-null  float32\n",
      " 13  Bwd Packet Length Std     1123512 non-null  float32\n",
      " 14  Flow Bytes/s              1123512 non-null  float32\n",
      " 15  Flow Packets/s            1123512 non-null  float32\n",
      " 16  Flow IAT Mean             1123512 non-null  float32\n",
      " 17  Flow IAT Std              1123512 non-null  float32\n",
      " 18  Flow IAT Max              1123512 non-null  float32\n",
      " 19  Flow IAT Min              1123512 non-null  float32\n",
      " 20  Fwd IAT Total             1123512 non-null  float32\n",
      " 21  Fwd IAT Mean              1123512 non-null  float32\n",
      " 22  Fwd IAT Std               1123512 non-null  float32\n",
      " 23  Fwd IAT Max               1123512 non-null  float32\n",
      " 24  Fwd IAT Min               1123512 non-null  float32\n",
      " 25  Bwd IAT Total             1123512 non-null  float32\n",
      " 26  Bwd IAT Mean              1123512 non-null  float32\n",
      " 27  Bwd IAT Std               1123512 non-null  float32\n",
      " 28  Bwd IAT Max               1123512 non-null  float32\n",
      " 29  Bwd IAT Min               1123512 non-null  float32\n",
      " 30  Fwd PSH Flags             1123512 non-null  int8   \n",
      " 31  Bwd PSH Flags             1123512 non-null  int8   \n",
      " 32  Fwd URG Flags             1123512 non-null  int8   \n",
      " 33  Bwd URG Flags             1123512 non-null  int8   \n",
      " 34  Fwd Header Length         1123512 non-null  int64  \n",
      " 35  Bwd Header Length         1123512 non-null  int32  \n",
      " 36  Fwd Packets/s             1123512 non-null  float32\n",
      " 37  Bwd Packets/s             1123512 non-null  float32\n",
      " 38  Packet Length Min         1123512 non-null  float32\n",
      " 39  Packet Length Max         1123512 non-null  float32\n",
      " 40  Packet Length Mean        1123512 non-null  float32\n",
      " 41  Packet Length Std         1123512 non-null  float32\n",
      " 42  Packet Length Variance    1123512 non-null  float32\n",
      " 43  FIN Flag Count            1123512 non-null  int8   \n",
      " 44  SYN Flag Count            1123512 non-null  int8   \n",
      " 45  RST Flag Count            1123512 non-null  int8   \n",
      " 46  PSH Flag Count            1123512 non-null  int8   \n",
      " 47  ACK Flag Count            1123512 non-null  int8   \n",
      " 48  URG Flag Count            1123512 non-null  int8   \n",
      " 49  CWE Flag Count            1123512 non-null  int8   \n",
      " 50  ECE Flag Count            1123512 non-null  int8   \n",
      " 51  Down/Up Ratio             1123512 non-null  float32\n",
      " 52  Avg Packet Size           1123512 non-null  float32\n",
      " 53  Avg Fwd Segment Size      1123512 non-null  float32\n",
      " 54  Avg Bwd Segment Size      1123512 non-null  float32\n",
      " 55  Fwd Avg Bytes/Bulk        1123512 non-null  int8   \n",
      " 56  Fwd Avg Packets/Bulk      1123512 non-null  int8   \n",
      " 57  Fwd Avg Bulk Rate         1123512 non-null  int8   \n",
      " 58  Bwd Avg Bytes/Bulk        1123512 non-null  int8   \n",
      " 59  Bwd Avg Packets/Bulk      1123512 non-null  int8   \n",
      " 60  Bwd Avg Bulk Rate         1123512 non-null  int8   \n",
      " 61  Subflow Fwd Packets       1123512 non-null  int16  \n",
      " 62  Subflow Fwd Bytes         1123512 non-null  int32  \n",
      " 63  Subflow Bwd Packets       1123512 non-null  int16  \n",
      " 64  Subflow Bwd Bytes         1123512 non-null  int32  \n",
      " 65  Init Fwd Win Bytes        1123512 non-null  int32  \n",
      " 66  Init Bwd Win Bytes        1123512 non-null  int32  \n",
      " 67  Fwd Act Data Packets      1123512 non-null  int16  \n",
      " 68  Fwd Seg Size Min          1123512 non-null  int32  \n",
      " 69  Active Mean               1123512 non-null  float32\n",
      " 70  Active Std                1123512 non-null  float32\n",
      " 71  Active Max                1123512 non-null  float32\n",
      " 72  Active Min                1123512 non-null  float32\n",
      " 73  Idle Mean                 1123512 non-null  float32\n",
      " 74  Idle Std                  1123512 non-null  float32\n",
      " 75  Idle Max                  1123512 non-null  float32\n",
      " 76  Idle Min                  1123512 non-null  float32\n",
      " 77  Label                     1123512 non-null  object \n",
      "dtypes: float32(45), int16(5), int32(7), int64(1), int8(19), object(1)\n",
      "memory usage: 333.2 MB\n"
     ]
    }
   ],
   "source": [
    "# converting 64bit float to 32 bit float & 64bit integer to 8bit integer\n",
    "for column in workingDataFrame:\n",
    "    if workingDataFrame[column].dtype == 'float64':\n",
    "        workingDataFrame[column] = pd.to_numeric(workingDataFrame[column], downcast='float')\n",
    "    if workingDataFrame[column].dtype == 'int64':\n",
    "        workingDataFrame[column] = pd.to_numeric(workingDataFrame[column], downcast='integer')\n",
    "\n",
    "workingDataFrame.info(memory_usage=\"deep\")  # observe the dTypes"
   ]
  },
  {
   "cell_type": "markdown",
   "metadata": {
    "collapsed": false
   },
   "source": [
    "<center><h3 style=\"background:yellow;color:black\">\n",
    "Removing NaN values & infinite values\n",
    "</h3></center>"
   ]
  },
  {
   "cell_type": "code",
   "execution_count": 25,
   "metadata": {
    "collapsed": false
   },
   "outputs": [
    {
     "name": "stdout",
     "output_type": "stream",
     "text": [
      "pure missing value contains rows: 0\n",
      "missing value contains total rows: 0\n",
      "After dropping NaN values, number of rows: 1123512\n",
      "After dropping NaN values, number of columns: 78\n"
     ]
    }
   ],
   "source": [
    "# workingDataFrame.isnull().sum()\n",
    "print(f\"pure missing value contains rows: {workingDataFrame.isna().any(axis=1).sum()}\")\n",
    "workingDataFrame.replace([np.inf, -np.inf], np.nan, inplace=True)\n",
    "print(f\"missing value contains total rows: {workingDataFrame.isna().any(axis=1).sum()}\")\n",
    "workingDataFrame.dropna(inplace=True)\n",
    "print(f\"After dropping NaN values, number of rows: {workingDataFrame.shape[0]}\")\n",
    "print(f\"After dropping NaN values, number of columns: {workingDataFrame.shape[1]}\")"
   ]
  },
  {
   "cell_type": "markdown",
   "metadata": {
    "collapsed": false
   },
   "source": [
    "<center><h3 style=\"background:yellow;color:black\">\n",
    "Dropping Duplicate Rows\n",
    "</h3></center>"
   ]
  },
  {
   "cell_type": "code",
   "execution_count": 26,
   "metadata": {
    "collapsed": false
   },
   "outputs": [
    {
     "name": "stdout",
     "output_type": "stream",
     "text": [
      "Fully duplicate total rows: 0\n",
      "After dropping Duplicate values, number of rows: 1123512\n",
      "After dropping Duplicate values, number of columns: 78\n"
     ]
    }
   ],
   "source": [
    "print(f\"Fully duplicate total rows: {workingDataFrame.duplicated().sum()}\")\n",
    "workingDataFrame.drop_duplicates(inplace=True)\n",
    "workingDataFrame.reset_index(inplace=True, drop=True)\n",
    "print(f\"After dropping Duplicate values, number of rows: {workingDataFrame.shape[0]}\")\n",
    "print(f\"After dropping Duplicate values, number of columns: {workingDataFrame.shape[1]}\")"
   ]
  },
  {
   "cell_type": "markdown",
   "metadata": {
    "collapsed": false
   },
   "source": [
    "<center><h3 style=\"background:#FF00FF;color:black\">\n",
    "After data cleaning, how much storage it holds now\n",
    "</h3></center>"
   ]
  },
  {
   "cell_type": "code",
   "execution_count": 27,
   "metadata": {
    "collapsed": false
   },
   "outputs": [
    {
     "name": "stdout",
     "output_type": "stream",
     "text": [
      "<class 'pandas.core.frame.DataFrame'>\n",
      "RangeIndex: 1123512 entries, 0 to 1123511\n",
      "Data columns (total 78 columns):\n",
      " #   Column                    Non-Null Count    Dtype  \n",
      "---  ------                    --------------    -----  \n",
      " 0   Protocol                  1123512 non-null  int8   \n",
      " 1   Flow Duration             1123512 non-null  int32  \n",
      " 2   Total Fwd Packets         1123512 non-null  int16  \n",
      " 3   Total Backward Packets    1123512 non-null  int16  \n",
      " 4   Fwd Packets Length Total  1123512 non-null  float32\n",
      " 5   Bwd Packets Length Total  1123512 non-null  float32\n",
      " 6   Fwd Packet Length Max     1123512 non-null  float32\n",
      " 7   Fwd Packet Length Min     1123512 non-null  float32\n",
      " 8   Fwd Packet Length Mean    1123512 non-null  float32\n",
      " 9   Fwd Packet Length Std     1123512 non-null  float32\n",
      " 10  Bwd Packet Length Max     1123512 non-null  float32\n",
      " 11  Bwd Packet Length Min     1123512 non-null  float32\n",
      " 12  Bwd Packet Length Mean    1123512 non-null  float32\n",
      " 13  Bwd Packet Length Std     1123512 non-null  float32\n",
      " 14  Flow Bytes/s              1123512 non-null  float32\n",
      " 15  Flow Packets/s            1123512 non-null  float32\n",
      " 16  Flow IAT Mean             1123512 non-null  float32\n",
      " 17  Flow IAT Std              1123512 non-null  float32\n",
      " 18  Flow IAT Max              1123512 non-null  float32\n",
      " 19  Flow IAT Min              1123512 non-null  float32\n",
      " 20  Fwd IAT Total             1123512 non-null  float32\n",
      " 21  Fwd IAT Mean              1123512 non-null  float32\n",
      " 22  Fwd IAT Std               1123512 non-null  float32\n",
      " 23  Fwd IAT Max               1123512 non-null  float32\n",
      " 24  Fwd IAT Min               1123512 non-null  float32\n",
      " 25  Bwd IAT Total             1123512 non-null  float32\n",
      " 26  Bwd IAT Mean              1123512 non-null  float32\n",
      " 27  Bwd IAT Std               1123512 non-null  float32\n",
      " 28  Bwd IAT Max               1123512 non-null  float32\n",
      " 29  Bwd IAT Min               1123512 non-null  float32\n",
      " 30  Fwd PSH Flags             1123512 non-null  int8   \n",
      " 31  Bwd PSH Flags             1123512 non-null  int8   \n",
      " 32  Fwd URG Flags             1123512 non-null  int8   \n",
      " 33  Bwd URG Flags             1123512 non-null  int8   \n",
      " 34  Fwd Header Length         1123512 non-null  int64  \n",
      " 35  Bwd Header Length         1123512 non-null  int32  \n",
      " 36  Fwd Packets/s             1123512 non-null  float32\n",
      " 37  Bwd Packets/s             1123512 non-null  float32\n",
      " 38  Packet Length Min         1123512 non-null  float32\n",
      " 39  Packet Length Max         1123512 non-null  float32\n",
      " 40  Packet Length Mean        1123512 non-null  float32\n",
      " 41  Packet Length Std         1123512 non-null  float32\n",
      " 42  Packet Length Variance    1123512 non-null  float32\n",
      " 43  FIN Flag Count            1123512 non-null  int8   \n",
      " 44  SYN Flag Count            1123512 non-null  int8   \n",
      " 45  RST Flag Count            1123512 non-null  int8   \n",
      " 46  PSH Flag Count            1123512 non-null  int8   \n",
      " 47  ACK Flag Count            1123512 non-null  int8   \n",
      " 48  URG Flag Count            1123512 non-null  int8   \n",
      " 49  CWE Flag Count            1123512 non-null  int8   \n",
      " 50  ECE Flag Count            1123512 non-null  int8   \n",
      " 51  Down/Up Ratio             1123512 non-null  float32\n",
      " 52  Avg Packet Size           1123512 non-null  float32\n",
      " 53  Avg Fwd Segment Size      1123512 non-null  float32\n",
      " 54  Avg Bwd Segment Size      1123512 non-null  float32\n",
      " 55  Fwd Avg Bytes/Bulk        1123512 non-null  int8   \n",
      " 56  Fwd Avg Packets/Bulk      1123512 non-null  int8   \n",
      " 57  Fwd Avg Bulk Rate         1123512 non-null  int8   \n",
      " 58  Bwd Avg Bytes/Bulk        1123512 non-null  int8   \n",
      " 59  Bwd Avg Packets/Bulk      1123512 non-null  int8   \n",
      " 60  Bwd Avg Bulk Rate         1123512 non-null  int8   \n",
      " 61  Subflow Fwd Packets       1123512 non-null  int16  \n",
      " 62  Subflow Fwd Bytes         1123512 non-null  int32  \n",
      " 63  Subflow Bwd Packets       1123512 non-null  int16  \n",
      " 64  Subflow Bwd Bytes         1123512 non-null  int32  \n",
      " 65  Init Fwd Win Bytes        1123512 non-null  int32  \n",
      " 66  Init Bwd Win Bytes        1123512 non-null  int32  \n",
      " 67  Fwd Act Data Packets      1123512 non-null  int16  \n",
      " 68  Fwd Seg Size Min          1123512 non-null  int32  \n",
      " 69  Active Mean               1123512 non-null  float32\n",
      " 70  Active Std                1123512 non-null  float32\n",
      " 71  Active Max                1123512 non-null  float32\n",
      " 72  Active Min                1123512 non-null  float32\n",
      " 73  Idle Mean                 1123512 non-null  float32\n",
      " 74  Idle Std                  1123512 non-null  float32\n",
      " 75  Idle Max                  1123512 non-null  float32\n",
      " 76  Idle Min                  1123512 non-null  float32\n",
      " 77  Label                     1123512 non-null  object \n",
      "dtypes: float32(45), int16(5), int32(7), int64(1), int8(19), object(1)\n",
      "memory usage: 333.2 MB\n"
     ]
    }
   ],
   "source": [
    "workingDataFrame.info(memory_usage=\"deep\")"
   ]
  },
  {
   "cell_type": "code",
   "execution_count": 28,
   "metadata": {
    "collapsed": false
   },
   "outputs": [
    {
     "data": {
      "text/plain": [
       "DrDoS_NTP    1110226\n",
       "BENIGN         13286\n",
       "Name: Label, dtype: int64"
      ]
     },
     "execution_count": 28,
     "metadata": {},
     "output_type": "execute_result"
    }
   ],
   "source": [
    "workingDataFrame[\"Label\"].value_counts()"
   ]
  },
  {
   "cell_type": "markdown",
   "metadata": {
    "collapsed": false
   },
   "source": [
    "<center><h3 style=\"background:#00FF00;color:black\">\n",
    "Saving New DataFrame as csv file to new location\n",
    "</h3></center>"
   ]
  },
  {
   "cell_type": "code",
   "execution_count": 29,
   "metadata": {
    "collapsed": false
   },
   "outputs": [],
   "source": [
    "def dataCleaningResultToAnotherCSV(dataFrameArg, dirPath, file_name):\n",
    "    dataFrameArg.to_csv(dirPath + file_name)"
   ]
  },
  {
   "cell_type": "code",
   "execution_count": 30,
   "metadata": {
    "collapsed": false
   },
   "outputs": [],
   "source": [
    "newCsvPath = \"C:\\\\Thesis_Group_of_Brig_Gen_Razzak_Sir\\\\After_Row_Data_Cleaning\\\\\"\n",
    "# newFileName = \"cleaned_udpLag\"\n",
    "# newFileName = \"cleaned_Syn\"\n",
    "newFileName = \"cleaned_DrDoS_NTP\"\n",
    "# newFileName = \"cleaned_DrDoS_LDAP\"\n",
    "# newFileName = \"cleaned_DrDoS_SSDP\"\n",
    "# newFileName = \"cleaned_DrDoS_UDP\"\n",
    "csvFileName = newFileName + \".csv\"\n",
    "dataCleaningResultToAnotherCSV(dataFrameArg=workingDataFrame, dirPath=newCsvPath, file_name=csvFileName)"
   ]
  },
  {
   "cell_type": "code",
   "execution_count": 31,
   "metadata": {
    "collapsed": false
   },
   "outputs": [
    {
     "data": {
      "text/plain": [
       "176"
      ]
     },
     "execution_count": 31,
     "metadata": {},
     "output_type": "execute_result"
    }
   ],
   "source": [
    "import gc\n",
    "\n",
    "gc.collect()"
   ]
  },
  {
   "cell_type": "markdown",
   "metadata": {
    "collapsed": false
   },
   "source": []
  }
 ],
 "metadata": {
  "kernelspec": {
   "display_name": "Python 3",
   "language": "python",
   "name": "python3"
  },
  "language_info": {
   "codemirror_mode": {
    "name": "ipython",
    "version": 2
   },
   "file_extension": ".py",
   "mimetype": "text/x-python",
   "name": "python",
   "nbconvert_exporter": "python",
   "pygments_lexer": "ipython2",
   "version": "2.7.6"
  }
 },
 "nbformat": 4,
 "nbformat_minor": 0
}

{
 "cells": [
  {
   "cell_type": "markdown",
   "source": [
    "<center><h2>\n",
    "<a href=\"https://masumbhai.me\">Kindly visit my portfolio to see more of my works</a>\n",
    "</h2></center>"
   ],
   "metadata": {
    "collapsed": false
   }
  },
  {
   "cell_type": "markdown",
   "source": [
    "<p style=\"background:black\">\n",
    "<code style=\"background:black;color: #0FFF50\">\n",
    "anaconda login <br/>\n",
    "conda install -c conda-forge numpy <br/>\n",
    "pip install pandas <br/>\n",
    "pip install seaborn <br/>\n",
    "conda install -c conda-forge matplotlib <br/>\n",
    "conda install -c conda-forge scikit-learn <br/>\n",
    "conda install -c conda-forge dask <br/>\n",
    "conda install -c fastai fastcore <br/>\n",
    "conda install jupyter notebook <br/>\n",
    "pip install jupyter <br/>\n",
    "pip install tqdm <br/>\n",
    "conda install cudatoolkit <br/>\n",
    "pip install --default-timeout=100 tensorflow==2.3.4 <br/>\n",
    "pip install --default-timeout=100 tensorflow-gpu==2.3.4 <br/>\n",
    "pip install numba <br/>\n",
    "</code>\n",
    "</p>"
   ],
   "metadata": {
    "collapsed": false
   }
  },
  {
   "cell_type": "code",
   "execution_count": 36,
   "metadata": {
    "collapsed": true
   },
   "outputs": [],
   "source": [
    "import numpy as np\n",
    "import pandas as pd\n",
    "from dask import dataframe as dd"
   ]
  },
  {
   "cell_type": "markdown",
   "source": [
    "<center><h4 style=\"background:yellow;color:black\">\n",
    "Setting up paths to csv files / datasets\n",
    "</center></h4>"
   ],
   "metadata": {
    "collapsed": false
   }
  },
  {
   "cell_type": "code",
   "execution_count": 37,
   "outputs": [
    {
     "name": "stdout",
     "output_type": "stream",
     "text": [
      "Total Dataset CSV Files 11\n"
     ]
    }
   ],
   "source": [
    "# CSV-01-12\n",
    "path_DdoS_DNS = \"C:\\\\Thesis_Group_of_Brig_Gen_Razzak_Sir\\\\01-12\\\\DrDoS_DNS.csv\"\n",
    "path_DdoS_MSSQL = \"C:\\\\Thesis_Group_of_Brig_Gen_Razzak_Sir\\\\01-12\\\\DrDoS_MSSQL.csv\"\n",
    "path_DdoS_LDAP = \"C:\\\\Thesis_Group_of_Brig_Gen_Razzak_Sir\\\\01-12\\\\DrDoS_LDAP.csv\"\n",
    "path_DdoS_NTP = \"C:\\\\Thesis_Group_of_Brig_Gen_Razzak_Sir\\\\01-12\\\\DrDoS_NTP.csv\"\n",
    "path_DdoS_NetBIOS = \"C:\\\\Thesis_Group_of_Brig_Gen_Razzak_Sir\\\\01-12\\\\DrDoS_NetBIOS.csv\"\n",
    "path_DdoS_SNMP = \"C:\\\\Thesis_Group_of_Brig_Gen_Razzak_Sir\\\\01-12\\\\DrDoS_SNMP.csv\"\n",
    "path_DdoS_SSDP = \"C:\\\\Thesis_Group_of_Brig_Gen_Razzak_Sir\\\\01-12\\\\DrDoS_SSDP.csv\"\n",
    "path_DdoS_UDP = \"C:\\\\Thesis_Group_of_Brig_Gen_Razzak_Sir\\\\01-12\\\\DrDoS_UDP.csv\"\n",
    "path_Syn = \"C:\\\\Thesis_Group_of_Brig_Gen_Razzak_Sir\\\\01-12\\\\Syn.csv\"\n",
    "path_TFTP = \"C:\\\\Thesis_Group_of_Brig_Gen_Razzak_Sir\\\\01-12\\\\TFTP.csv\"\n",
    "path_UDPLag = \"C:\\\\Thesis_Group_of_Brig_Gen_Razzak_Sir\\\\01-12\\\\UDPLag.csv\"\n",
    "\n",
    "# # CSV-03-11\n",
    "# path__LDAP = \"../CICDDoS-2019/CSV-03-11/03-11/LDAP.csv\"\n",
    "# path__MSSQL = \"../CICDDoS-2019/CSV-03-11/03-11/MSSQL.csv\"\n",
    "# path__NetBIOS = \"../CICDDoS-2019/CSV-03-11/03-11/NetBIOS.csv\"\n",
    "# path__Portmap = \"../CICDDoS-2019/CSV-03-11/03-11/Portmap.csv\"\n",
    "# path__Syn = \"../CICDDoS-2019/CSV-03-11/03-11/Syn.csv\"\n",
    "# path__UDP = \"../CICDDoS-2019/CSV-03-11/03-11/UDP.csv\"\n",
    "# path__UDPLag = \"../CICDDoS-2019/CSV-03-11/03-11/UDPLag.csv\"\n",
    "\n",
    "paths = [path_DdoS_DNS, path_DdoS_MSSQL, path_DdoS_LDAP, path_DdoS_NTP, path_DdoS_NetBIOS, path_DdoS_SNMP,\n",
    "         path_DdoS_SSDP, path_DdoS_UDP, path_Syn, path_TFTP, path_UDPLag]\n",
    "# , path__LDAP, path__MSSQL, path__NetBIOS,\n",
    "#      path__Portmap, path__Syn, path__UDP, path__UDPLag]\n",
    "print(\"Total Dataset CSV Files\", len(paths))\n"
   ],
   "metadata": {
    "collapsed": false
   }
  },
  {
   "cell_type": "markdown",
   "source": [
    "Assuming Column / feature names might differ in different csv files"
   ],
   "metadata": {
    "collapsed": false
   }
  },
  {
   "cell_type": "code",
   "execution_count": 38,
   "outputs": [],
   "source": [
    "col_name_consistency = {\n",
    "    'Flow ID': 'Flow ID',\n",
    "    'Source IP': 'Source IP',\n",
    "    'Src IP': 'Source IP',\n",
    "    'Source Port': 'Source Port',\n",
    "    'Src Port': 'Source Port',\n",
    "    'Destination IP': 'Destination IP',\n",
    "    'Dst IP': 'Destination IP',\n",
    "    'Destination Port': 'Destination Port',\n",
    "    'Dst Port': 'Destination Port',\n",
    "    'Protocol': 'Protocol',\n",
    "    'Timestamp': 'Timestamp',\n",
    "    'Flow Duration': 'Flow Duration',\n",
    "    'Total Fwd Packets': 'Total Fwd Packets',\n",
    "    'Tot Fwd Pkts': 'Total Fwd Packets',\n",
    "    'Total Backward Packets': 'Total Backward Packets',\n",
    "    'Tot Bwd Pkts': 'Total Backward Packets',\n",
    "    'Total Length of Fwd Packets': 'Fwd Packets Length Total',\n",
    "    'TotLen Fwd Pkts': 'Fwd Packets Length Total',\n",
    "    'Total Length of Bwd Packets': 'Bwd Packets Length Total',\n",
    "    'TotLen Bwd Pkts': 'Bwd Packets Length Total',\n",
    "    'Fwd Packet Length Max': 'Fwd Packet Length Max',\n",
    "    'Fwd Pkt Len Max': 'Fwd Packet Length Max',\n",
    "    'Fwd Packet Length Min': 'Fwd Packet Length Min',\n",
    "    'Fwd Pkt Len Min': 'Fwd Packet Length Min',\n",
    "    'Fwd Packet Length Mean': 'Fwd Packet Length Mean',\n",
    "    'Fwd Pkt Len Mean': 'Fwd Packet Length Mean',\n",
    "    'Fwd Packet Length Std': 'Fwd Packet Length Std',\n",
    "    'Fwd Pkt Len Std': 'Fwd Packet Length Std',\n",
    "    'Bwd Packet Length Max': 'Bwd Packet Length Max',\n",
    "    'Bwd Pkt Len Max': 'Bwd Packet Length Max',\n",
    "    'Bwd Packet Length Min': 'Bwd Packet Length Min',\n",
    "    'Bwd Pkt Len Min': 'Bwd Packet Length Min',\n",
    "    'Bwd Packet Length Mean': 'Bwd Packet Length Mean',\n",
    "    'Bwd Pkt Len Mean': 'Bwd Packet Length Mean',\n",
    "    'Bwd Packet Length Std': 'Bwd Packet Length Std',\n",
    "    'Bwd Pkt Len Std': 'Bwd Packet Length Std',\n",
    "    'Flow Bytes/s': 'Flow Bytes/s',\n",
    "    'Flow Byts/s': 'Flow Bytes/s',\n",
    "    'Flow Packets/s': 'Flow Packets/s',\n",
    "    'Flow Pkts/s': 'Flow Packets/s',\n",
    "    'Flow IAT Mean': 'Flow IAT Mean',\n",
    "    'Flow IAT Std': 'Flow IAT Std',\n",
    "    'Flow IAT Max': 'Flow IAT Max',\n",
    "    'Flow IAT Min': 'Flow IAT Min',\n",
    "    'Fwd IAT Total': 'Fwd IAT Total',\n",
    "    'Fwd IAT Tot': 'Fwd IAT Total',\n",
    "    'Fwd IAT Mean': 'Fwd IAT Mean',\n",
    "    'Fwd IAT Std': 'Fwd IAT Std',\n",
    "    'Fwd IAT Max': 'Fwd IAT Max',\n",
    "    'Fwd IAT Min': 'Fwd IAT Min',\n",
    "    'Bwd IAT Total': 'Bwd IAT Total',\n",
    "    'Bwd IAT Tot': 'Bwd IAT Total',\n",
    "    'Bwd IAT Mean': 'Bwd IAT Mean',\n",
    "    'Bwd IAT Std': 'Bwd IAT Std',\n",
    "    'Bwd IAT Max': 'Bwd IAT Max',\n",
    "    'Bwd IAT Min': 'Bwd IAT Min',\n",
    "    'Fwd PSH Flags': 'Fwd PSH Flags',\n",
    "    'Bwd PSH Flags': 'Bwd PSH Flags',\n",
    "    'Fwd URG Flags': 'Fwd URG Flags',\n",
    "    'Bwd URG Flags': 'Bwd URG Flags',\n",
    "    'Fwd Header Length': 'Fwd Header Length',\n",
    "    'Fwd Header Len': 'Fwd Header Length',\n",
    "    'Bwd Header Length': 'Bwd Header Length',\n",
    "    'Bwd Header Len': 'Bwd Header Length',\n",
    "    'Fwd Packets/s': 'Fwd Packets/s',\n",
    "    'Fwd Pkts/s': 'Fwd Packets/s',\n",
    "    'Bwd Packets/s': 'Bwd Packets/s',\n",
    "    'Bwd Pkts/s': 'Bwd Packets/s',\n",
    "    'Min Packet Length': 'Packet Length Min',\n",
    "    'Pkt Len Min': 'Packet Length Min',\n",
    "    'Max Packet Length': 'Packet Length Max',\n",
    "    'Pkt Len Max': 'Packet Length Max',\n",
    "    'Packet Length Mean': 'Packet Length Mean',\n",
    "    'Pkt Len Mean': 'Packet Length Mean',\n",
    "    'Packet Length Std': 'Packet Length Std',\n",
    "    'Pkt Len Std': 'Packet Length Std',\n",
    "    'Packet Length Variance': 'Packet Length Variance',\n",
    "    'Pkt Len Var': 'Packet Length Variance',\n",
    "    'FIN Flag Count': 'FIN Flag Count',\n",
    "    'FIN Flag Cnt': 'FIN Flag Count',\n",
    "    'SYN Flag Count': 'SYN Flag Count',\n",
    "    'SYN Flag Cnt': 'SYN Flag Count',\n",
    "    'RST Flag Count': 'RST Flag Count',\n",
    "    'RST Flag Cnt': 'RST Flag Count',\n",
    "    'PSH Flag Count': 'PSH Flag Count',\n",
    "    'PSH Flag Cnt': 'PSH Flag Count',\n",
    "    'ACK Flag Count': 'ACK Flag Count',\n",
    "    'ACK Flag Cnt': 'ACK Flag Count',\n",
    "    'URG Flag Count': 'URG Flag Count',\n",
    "    'URG Flag Cnt': 'URG Flag Count',\n",
    "    'CWE Flag Count': 'CWE Flag Count',\n",
    "    'CWE Flag Cnt': 'CWE Flag Count',\n",
    "    'ECE Flag Count': 'ECE Flag Count',\n",
    "    'ECE Flag Cnt': 'ECE Flag Count',\n",
    "    'Down/Up Ratio': 'Down/Up Ratio',\n",
    "    'Average Packet Size': 'Avg Packet Size',\n",
    "    'Pkt Size Avg': 'Avg Packet Size',\n",
    "    'Avg Fwd Segment Size': 'Avg Fwd Segment Size',\n",
    "    'Fwd Seg Size Avg': 'Avg Fwd Segment Size',\n",
    "    'Avg Bwd Segment Size': 'Avg Bwd Segment Size',\n",
    "    'Bwd Seg Size Avg': 'Avg Bwd Segment Size',\n",
    "    'Fwd Avg Bytes/Bulk': 'Fwd Avg Bytes/Bulk',\n",
    "    'Fwd Byts/b Avg': 'Fwd Avg Bytes/Bulk',\n",
    "    'Fwd Avg Packets/Bulk': 'Fwd Avg Packets/Bulk',\n",
    "    'Fwd Pkts/b Avg': 'Fwd Avg Packets/Bulk',\n",
    "    'Fwd Avg Bulk Rate': 'Fwd Avg Bulk Rate',\n",
    "    'Fwd Blk Rate Avg': 'Fwd Avg Bulk Rate',\n",
    "    'Bwd Avg Bytes/Bulk': 'Bwd Avg Bytes/Bulk',\n",
    "    'Bwd Byts/b Avg': 'Bwd Avg Bytes/Bulk',\n",
    "    'Bwd Avg Packets/Bulk': 'Bwd Avg Packets/Bulk',\n",
    "    'Bwd Pkts/b Avg': 'Bwd Avg Packets/Bulk',\n",
    "    'Bwd Avg Bulk Rate': 'Bwd Avg Bulk Rate',\n",
    "    'Bwd Blk Rate Avg': 'Bwd Avg Bulk Rate',\n",
    "    'Subflow Fwd Packets': 'Subflow Fwd Packets',\n",
    "    'Subflow Fwd Pkts': 'Subflow Fwd Packets',\n",
    "    'Subflow Fwd Bytes': 'Subflow Fwd Bytes',\n",
    "    'Subflow Fwd Byts': 'Subflow Fwd Bytes',\n",
    "    'Subflow Bwd Packets': 'Subflow Bwd Packets',\n",
    "    'Subflow Bwd Pkts': 'Subflow Bwd Packets',\n",
    "    'Subflow Bwd Bytes': 'Subflow Bwd Bytes',\n",
    "    'Subflow Bwd Byts': 'Subflow Bwd Bytes',\n",
    "    'Init_Win_bytes_forward': 'Init Fwd Win Bytes',\n",
    "    'Init Fwd Win Byts': 'Init Fwd Win Bytes',\n",
    "    'Init_Win_bytes_backward': 'Init Bwd Win Bytes',\n",
    "    'Init Bwd Win Byts': 'Init Bwd Win Bytes',\n",
    "    'act_data_pkt_fwd': 'Fwd Act Data Packets',\n",
    "    'Fwd Act Data Pkts': 'Fwd Act Data Packets',\n",
    "    'min_seg_size_forward': 'Fwd Seg Size Min',\n",
    "    'Fwd Seg Size Min': 'Fwd Seg Size Min',\n",
    "    'Active Mean': 'Active Mean',\n",
    "    'Active Std': 'Active Std',\n",
    "    'Active Max': 'Active Max',\n",
    "    'Active Min': 'Active Min',\n",
    "    'Idle Mean': 'Idle Mean',\n",
    "    'Idle Std': 'Idle Std',\n",
    "    'Idle Max': 'Idle Max',\n",
    "    'Idle Min': 'Idle Min',\n",
    "    'Label': 'Label'\n",
    "}"
   ],
   "metadata": {
    "collapsed": false
   }
  },
  {
   "cell_type": "markdown",
   "source": [
    "Using Parallel Processing {Dask Library} to Read the Large (above 1GB) csv files as chunk-wise but returning pandas dataframe"
   ],
   "metadata": {
    "collapsed": false
   }
  },
  {
   "cell_type": "code",
   "execution_count": 39,
   "outputs": [],
   "source": [
    "def readHugeCsvFileAsDataFrame(file_path):\n",
    "    dtypes = {'SimillarHTTP': 'object',\n",
    "              'Timestamp': 'object',\n",
    "              'Source IP': 'str',\n",
    "              'Destination IP': 'str',\n",
    "              'Flow ID': 'object',\n",
    "              'Label': 'object',\n",
    "              }\n",
    "    for feature in [f'f_{i}' for i in range(82)]:\n",
    "        dtypes[feature] = \"float32\"\n",
    "\n",
    "    dask_df = dd.read_csv(file_path, low_memory=False, blocksize=1e7, dtype=dtypes)  # 50MB chunk-size\n",
    "    dask_df = dask_df.repartition(npartitions=8)\n",
    "    return dask_df.compute(scheduler='threads')\n"
   ],
   "metadata": {
    "collapsed": false
   }
  },
  {
   "cell_type": "markdown",
   "source": [
    "With Scheduler (see the elapsed time to process each file)"
   ],
   "metadata": {
    "collapsed": false
   }
  },
  {
   "cell_type": "code",
   "execution_count": 40,
   "outputs": [
    {
     "name": "stdout",
     "output_type": "stream",
     "text": [
      "Wall time: 11.9 s\n"
     ]
    },
    {
     "data": {
      "text/plain": "       Unnamed: 0                                 Flow ID   Source IP  \\\n0          101418   172.16.0.5-192.168.50.1-43443-6652-17  172.16.0.5   \n1           21564   172.16.0.5-192.168.50.1-54741-9712-17  172.16.0.5   \n2           23389   172.16.0.5-192.168.50.1-56589-4680-17  172.16.0.5   \n3           48872   172.16.0.5-192.168.50.1-40233-2644-17  172.16.0.5   \n4           80354  172.16.0.5-192.168.50.1-33989-16901-17  172.16.0.5   \n...           ...                                     ...         ...   \n20995       10476   172.16.0.5-192.168.50.1-34481-6479-17  172.16.0.5   \n20996      116670  172.16.0.5-192.168.50.1-34212-33462-17  172.16.0.5   \n20997      107761  172.16.0.5-192.168.50.1-45472-22593-17  172.16.0.5   \n20998       87273  172.16.0.5-192.168.50.1-58792-46618-17  172.16.0.5   \n20999       37097  172.16.0.5-192.168.50.1-53125-65428-17  172.16.0.5   \n\n        Source Port  Destination IP   Destination Port   Protocol  \\\n0             43443    192.168.50.1               6652         17   \n1             54741    192.168.50.1               9712         17   \n2             56589    192.168.50.1               4680         17   \n3             40233    192.168.50.1               2644         17   \n4             33989    192.168.50.1              16901         17   \n...             ...             ...                ...        ...   \n20995         34481    192.168.50.1               6479         17   \n20996         34212    192.168.50.1              33462         17   \n20997         45472    192.168.50.1              22593         17   \n20998         58792    192.168.50.1              46618         17   \n20999         53125    192.168.50.1              65428         17   \n\n                        Timestamp   Flow Duration   Total Fwd Packets  ...  \\\n0      2018-12-01 12:36:57.628026          218395                   6  ...   \n1      2018-12-01 12:36:57.628076          108219                   4  ...   \n2      2018-12-01 12:36:57.628164          104579                   4  ...   \n3      2018-12-01 12:36:57.628166          110967                   4  ...   \n4      2018-12-01 12:36:57.628217               1                   2  ...   \n...                           ...             ...                 ...  ...   \n20995  2018-12-01 13:04:45.928050               2                   2  ...   \n20996  2018-12-01 13:04:45.928055               1                   2  ...   \n20997  2018-12-01 13:04:45.928173               2                   2  ...   \n20998  2018-12-01 13:04:45.928225               2                   2  ...   \n20999  2018-12-01 13:04:45.928382               1                   2  ...   \n\n        Active Std   Active Max   Active Min  Idle Mean   Idle Std   Idle Max  \\\n0              0.0          0.0          0.0        0.0        0.0        0.0   \n1              0.0          0.0          0.0        0.0        0.0        0.0   \n2              0.0          0.0          0.0        0.0        0.0        0.0   \n3              0.0          0.0          0.0        0.0        0.0        0.0   \n4              0.0          0.0          0.0        0.0        0.0        0.0   \n...            ...          ...          ...        ...        ...        ...   \n20995          0.0          0.0          0.0        0.0        0.0        0.0   \n20996          0.0          0.0          0.0        0.0        0.0        0.0   \n20997          0.0          0.0          0.0        0.0        0.0        0.0   \n20998          0.0          0.0          0.0        0.0        0.0        0.0   \n20999          0.0          0.0          0.0        0.0        0.0        0.0   \n\n        Idle Min  SimillarHTTP   Inbound      Label  \n0            0.0             0         1  DrDoS_UDP  \n1            0.0             0         1  DrDoS_UDP  \n2            0.0             0         1  DrDoS_UDP  \n3            0.0             0         1  DrDoS_UDP  \n4            0.0             0         1  DrDoS_UDP  \n...          ...           ...       ...        ...  \n20995        0.0             0         1  DrDoS_UDP  \n20996        0.0             0         1  DrDoS_UDP  \n20997        0.0             0         1  DrDoS_UDP  \n20998        0.0             0         1  DrDoS_UDP  \n20999        0.0             0         1  DrDoS_UDP  \n\n[3136802 rows x 88 columns]",
      "text/html": "<div>\n<style scoped>\n    .dataframe tbody tr th:only-of-type {\n        vertical-align: middle;\n    }\n\n    .dataframe tbody tr th {\n        vertical-align: top;\n    }\n\n    .dataframe thead th {\n        text-align: right;\n    }\n</style>\n<table border=\"1\" class=\"dataframe\">\n  <thead>\n    <tr style=\"text-align: right;\">\n      <th></th>\n      <th>Unnamed: 0</th>\n      <th>Flow ID</th>\n      <th>Source IP</th>\n      <th>Source Port</th>\n      <th>Destination IP</th>\n      <th>Destination Port</th>\n      <th>Protocol</th>\n      <th>Timestamp</th>\n      <th>Flow Duration</th>\n      <th>Total Fwd Packets</th>\n      <th>...</th>\n      <th>Active Std</th>\n      <th>Active Max</th>\n      <th>Active Min</th>\n      <th>Idle Mean</th>\n      <th>Idle Std</th>\n      <th>Idle Max</th>\n      <th>Idle Min</th>\n      <th>SimillarHTTP</th>\n      <th>Inbound</th>\n      <th>Label</th>\n    </tr>\n  </thead>\n  <tbody>\n    <tr>\n      <th>0</th>\n      <td>101418</td>\n      <td>172.16.0.5-192.168.50.1-43443-6652-17</td>\n      <td>172.16.0.5</td>\n      <td>43443</td>\n      <td>192.168.50.1</td>\n      <td>6652</td>\n      <td>17</td>\n      <td>2018-12-01 12:36:57.628026</td>\n      <td>218395</td>\n      <td>6</td>\n      <td>...</td>\n      <td>0.0</td>\n      <td>0.0</td>\n      <td>0.0</td>\n      <td>0.0</td>\n      <td>0.0</td>\n      <td>0.0</td>\n      <td>0.0</td>\n      <td>0</td>\n      <td>1</td>\n      <td>DrDoS_UDP</td>\n    </tr>\n    <tr>\n      <th>1</th>\n      <td>21564</td>\n      <td>172.16.0.5-192.168.50.1-54741-9712-17</td>\n      <td>172.16.0.5</td>\n      <td>54741</td>\n      <td>192.168.50.1</td>\n      <td>9712</td>\n      <td>17</td>\n      <td>2018-12-01 12:36:57.628076</td>\n      <td>108219</td>\n      <td>4</td>\n      <td>...</td>\n      <td>0.0</td>\n      <td>0.0</td>\n      <td>0.0</td>\n      <td>0.0</td>\n      <td>0.0</td>\n      <td>0.0</td>\n      <td>0.0</td>\n      <td>0</td>\n      <td>1</td>\n      <td>DrDoS_UDP</td>\n    </tr>\n    <tr>\n      <th>2</th>\n      <td>23389</td>\n      <td>172.16.0.5-192.168.50.1-56589-4680-17</td>\n      <td>172.16.0.5</td>\n      <td>56589</td>\n      <td>192.168.50.1</td>\n      <td>4680</td>\n      <td>17</td>\n      <td>2018-12-01 12:36:57.628164</td>\n      <td>104579</td>\n      <td>4</td>\n      <td>...</td>\n      <td>0.0</td>\n      <td>0.0</td>\n      <td>0.0</td>\n      <td>0.0</td>\n      <td>0.0</td>\n      <td>0.0</td>\n      <td>0.0</td>\n      <td>0</td>\n      <td>1</td>\n      <td>DrDoS_UDP</td>\n    </tr>\n    <tr>\n      <th>3</th>\n      <td>48872</td>\n      <td>172.16.0.5-192.168.50.1-40233-2644-17</td>\n      <td>172.16.0.5</td>\n      <td>40233</td>\n      <td>192.168.50.1</td>\n      <td>2644</td>\n      <td>17</td>\n      <td>2018-12-01 12:36:57.628166</td>\n      <td>110967</td>\n      <td>4</td>\n      <td>...</td>\n      <td>0.0</td>\n      <td>0.0</td>\n      <td>0.0</td>\n      <td>0.0</td>\n      <td>0.0</td>\n      <td>0.0</td>\n      <td>0.0</td>\n      <td>0</td>\n      <td>1</td>\n      <td>DrDoS_UDP</td>\n    </tr>\n    <tr>\n      <th>4</th>\n      <td>80354</td>\n      <td>172.16.0.5-192.168.50.1-33989-16901-17</td>\n      <td>172.16.0.5</td>\n      <td>33989</td>\n      <td>192.168.50.1</td>\n      <td>16901</td>\n      <td>17</td>\n      <td>2018-12-01 12:36:57.628217</td>\n      <td>1</td>\n      <td>2</td>\n      <td>...</td>\n      <td>0.0</td>\n      <td>0.0</td>\n      <td>0.0</td>\n      <td>0.0</td>\n      <td>0.0</td>\n      <td>0.0</td>\n      <td>0.0</td>\n      <td>0</td>\n      <td>1</td>\n      <td>DrDoS_UDP</td>\n    </tr>\n    <tr>\n      <th>...</th>\n      <td>...</td>\n      <td>...</td>\n      <td>...</td>\n      <td>...</td>\n      <td>...</td>\n      <td>...</td>\n      <td>...</td>\n      <td>...</td>\n      <td>...</td>\n      <td>...</td>\n      <td>...</td>\n      <td>...</td>\n      <td>...</td>\n      <td>...</td>\n      <td>...</td>\n      <td>...</td>\n      <td>...</td>\n      <td>...</td>\n      <td>...</td>\n      <td>...</td>\n      <td>...</td>\n    </tr>\n    <tr>\n      <th>20995</th>\n      <td>10476</td>\n      <td>172.16.0.5-192.168.50.1-34481-6479-17</td>\n      <td>172.16.0.5</td>\n      <td>34481</td>\n      <td>192.168.50.1</td>\n      <td>6479</td>\n      <td>17</td>\n      <td>2018-12-01 13:04:45.928050</td>\n      <td>2</td>\n      <td>2</td>\n      <td>...</td>\n      <td>0.0</td>\n      <td>0.0</td>\n      <td>0.0</td>\n      <td>0.0</td>\n      <td>0.0</td>\n      <td>0.0</td>\n      <td>0.0</td>\n      <td>0</td>\n      <td>1</td>\n      <td>DrDoS_UDP</td>\n    </tr>\n    <tr>\n      <th>20996</th>\n      <td>116670</td>\n      <td>172.16.0.5-192.168.50.1-34212-33462-17</td>\n      <td>172.16.0.5</td>\n      <td>34212</td>\n      <td>192.168.50.1</td>\n      <td>33462</td>\n      <td>17</td>\n      <td>2018-12-01 13:04:45.928055</td>\n      <td>1</td>\n      <td>2</td>\n      <td>...</td>\n      <td>0.0</td>\n      <td>0.0</td>\n      <td>0.0</td>\n      <td>0.0</td>\n      <td>0.0</td>\n      <td>0.0</td>\n      <td>0.0</td>\n      <td>0</td>\n      <td>1</td>\n      <td>DrDoS_UDP</td>\n    </tr>\n    <tr>\n      <th>20997</th>\n      <td>107761</td>\n      <td>172.16.0.5-192.168.50.1-45472-22593-17</td>\n      <td>172.16.0.5</td>\n      <td>45472</td>\n      <td>192.168.50.1</td>\n      <td>22593</td>\n      <td>17</td>\n      <td>2018-12-01 13:04:45.928173</td>\n      <td>2</td>\n      <td>2</td>\n      <td>...</td>\n      <td>0.0</td>\n      <td>0.0</td>\n      <td>0.0</td>\n      <td>0.0</td>\n      <td>0.0</td>\n      <td>0.0</td>\n      <td>0.0</td>\n      <td>0</td>\n      <td>1</td>\n      <td>DrDoS_UDP</td>\n    </tr>\n    <tr>\n      <th>20998</th>\n      <td>87273</td>\n      <td>172.16.0.5-192.168.50.1-58792-46618-17</td>\n      <td>172.16.0.5</td>\n      <td>58792</td>\n      <td>192.168.50.1</td>\n      <td>46618</td>\n      <td>17</td>\n      <td>2018-12-01 13:04:45.928225</td>\n      <td>2</td>\n      <td>2</td>\n      <td>...</td>\n      <td>0.0</td>\n      <td>0.0</td>\n      <td>0.0</td>\n      <td>0.0</td>\n      <td>0.0</td>\n      <td>0.0</td>\n      <td>0.0</td>\n      <td>0</td>\n      <td>1</td>\n      <td>DrDoS_UDP</td>\n    </tr>\n    <tr>\n      <th>20999</th>\n      <td>37097</td>\n      <td>172.16.0.5-192.168.50.1-53125-65428-17</td>\n      <td>172.16.0.5</td>\n      <td>53125</td>\n      <td>192.168.50.1</td>\n      <td>65428</td>\n      <td>17</td>\n      <td>2018-12-01 13:04:45.928382</td>\n      <td>1</td>\n      <td>2</td>\n      <td>...</td>\n      <td>0.0</td>\n      <td>0.0</td>\n      <td>0.0</td>\n      <td>0.0</td>\n      <td>0.0</td>\n      <td>0.0</td>\n      <td>0.0</td>\n      <td>0</td>\n      <td>1</td>\n      <td>DrDoS_UDP</td>\n    </tr>\n  </tbody>\n</table>\n<p>3136802 rows × 88 columns</p>\n</div>"
     },
     "execution_count": 40,
     "metadata": {},
     "output_type": "execute_result"
    }
   ],
   "source": [
    "%%time\n",
    "# daskScheduler = Client()\n",
    "# worker_output = daskScheduler.submit(readHugeCsvFileAsDataFrame, path_DdoS_UDP)\n",
    "# workingDataFrame = worker_output.result()\n",
    "workingDataFrame = readHugeCsvFileAsDataFrame(path_DdoS_UDP)\n",
    "workingDataFrame"
   ],
   "metadata": {
    "collapsed": false
   }
  },
  {
   "cell_type": "code",
   "execution_count": 41,
   "outputs": [
    {
     "name": "stdout",
     "output_type": "stream",
     "text": [
      "Memory usage of Working Dataframe: 2129.94 MB\n",
      "Total Features in the initial csv file:  88\n"
     ]
    }
   ],
   "source": [
    "mb = workingDataFrame.memory_usage().sum() / 1024 ** 2\n",
    "print('Memory usage of Working Dataframe: {:.2f} MB'.format(mb))\n",
    "print(\"Total Features in the initial csv file: \", len(list(workingDataFrame.columns)))"
   ],
   "metadata": {
    "collapsed": false
   }
  },
  {
   "cell_type": "markdown",
   "source": [
    "<center><h4 style=\"background:#ADFF2F;color:black\">\n",
    "Following Columns may have little insignificance over model creation. Follow <a href=\"https://link.springer.com/chapter/10.1007/978-3-031-09484-2_2\" >This Paper Link</a>\n",
    "</h4></center>"
   ],
   "metadata": {
    "collapsed": false
   }
  },
  {
   "cell_type": "code",
   "execution_count": 42,
   "outputs": [],
   "source": [
    "# src_port,dst_port, src_ip, dst_ip these are duplicate\n",
    "drop_columns = [\n",
    "    \"Flow ID\",\n",
    "    'Fwd Header Length.1',\n",
    "    \"Source IP\", \"Src IP\",\n",
    "    \"Source Port\", \"Src Port\",\n",
    "    \"Destination IP\", \"Dst IP\",\n",
    "    \"Destination Port\", \"Dst Port\",\n",
    "    \"Timestamp\",\n",
    "    \"Unnamed: 0\",\n",
    "    \"Inbound\",\n",
    "    \"SimillarHTTP\"\n",
    "]"
   ],
   "metadata": {
    "collapsed": false
   }
  },
  {
   "cell_type": "markdown",
   "source": [
    "<center><h3 style=\"background:yellow;color:black\">\n",
    "Dropping Unnecessary Features & maintain column consistency\n",
    "</h3></center>"
   ],
   "metadata": {
    "collapsed": false
   }
  },
  {
   "cell_type": "code",
   "execution_count": 43,
   "outputs": [
    {
     "data": {
      "text/plain": "(3136802, 78)"
     },
     "execution_count": 43,
     "metadata": {},
     "output_type": "execute_result"
    }
   ],
   "source": [
    "workingDataFrame.columns = workingDataFrame.columns.str.strip()  # sometimes there's leading / trailing whitespace\n",
    "workingDataFrame.rename(columns=col_name_consistency, inplace=True)\n",
    "workingDataFrame.drop(columns=drop_columns, inplace=True, errors='ignore')\n",
    "\n",
    "workingDataFrame.shape"
   ],
   "metadata": {
    "collapsed": false
   }
  },
  {
   "cell_type": "markdown",
   "source": [
    "<center><h3 style=\"background:yellow;color:black\">\n",
    "Data Cleaning Based on Data Types (DownSizing)\n",
    "</h3></center>"
   ],
   "metadata": {
    "collapsed": false
   }
  },
  {
   "cell_type": "code",
   "execution_count": 44,
   "outputs": [
    {
     "name": "stdout",
     "output_type": "stream",
     "text": [
      "<class 'pandas.core.frame.DataFrame'>\n",
      "Int64Index: 3136802 entries, 0 to 20999\n",
      "Data columns (total 78 columns):\n",
      " #   Column                    Dtype  \n",
      "---  ------                    -----  \n",
      " 0   Protocol                  int64  \n",
      " 1   Flow Duration             int64  \n",
      " 2   Total Fwd Packets         int64  \n",
      " 3   Total Backward Packets    int64  \n",
      " 4   Fwd Packets Length Total  float64\n",
      " 5   Bwd Packets Length Total  float64\n",
      " 6   Fwd Packet Length Max     float64\n",
      " 7   Fwd Packet Length Min     float64\n",
      " 8   Fwd Packet Length Mean    float64\n",
      " 9   Fwd Packet Length Std     float64\n",
      " 10  Bwd Packet Length Max     float64\n",
      " 11  Bwd Packet Length Min     float64\n",
      " 12  Bwd Packet Length Mean    float64\n",
      " 13  Bwd Packet Length Std     float64\n",
      " 14  Flow Bytes/s              float64\n",
      " 15  Flow Packets/s            float64\n",
      " 16  Flow IAT Mean             float64\n",
      " 17  Flow IAT Std              float64\n",
      " 18  Flow IAT Max              float64\n",
      " 19  Flow IAT Min              float64\n",
      " 20  Fwd IAT Total             float64\n",
      " 21  Fwd IAT Mean              float64\n",
      " 22  Fwd IAT Std               float64\n",
      " 23  Fwd IAT Max               float64\n",
      " 24  Fwd IAT Min               float64\n",
      " 25  Bwd IAT Total             float64\n",
      " 26  Bwd IAT Mean              float64\n",
      " 27  Bwd IAT Std               float64\n",
      " 28  Bwd IAT Max               float64\n",
      " 29  Bwd IAT Min               float64\n",
      " 30  Fwd PSH Flags             int64  \n",
      " 31  Bwd PSH Flags             int64  \n",
      " 32  Fwd URG Flags             int64  \n",
      " 33  Bwd URG Flags             int64  \n",
      " 34  Fwd Header Length         int64  \n",
      " 35  Bwd Header Length         int64  \n",
      " 36  Fwd Packets/s             float64\n",
      " 37  Bwd Packets/s             float64\n",
      " 38  Packet Length Min         float64\n",
      " 39  Packet Length Max         float64\n",
      " 40  Packet Length Mean        float64\n",
      " 41  Packet Length Std         float64\n",
      " 42  Packet Length Variance    float64\n",
      " 43  FIN Flag Count            int64  \n",
      " 44  SYN Flag Count            int64  \n",
      " 45  RST Flag Count            int64  \n",
      " 46  PSH Flag Count            int64  \n",
      " 47  ACK Flag Count            int64  \n",
      " 48  URG Flag Count            int64  \n",
      " 49  CWE Flag Count            int64  \n",
      " 50  ECE Flag Count            int64  \n",
      " 51  Down/Up Ratio             float64\n",
      " 52  Avg Packet Size           float64\n",
      " 53  Avg Fwd Segment Size      float64\n",
      " 54  Avg Bwd Segment Size      float64\n",
      " 55  Fwd Avg Bytes/Bulk        int64  \n",
      " 56  Fwd Avg Packets/Bulk      int64  \n",
      " 57  Fwd Avg Bulk Rate         int64  \n",
      " 58  Bwd Avg Bytes/Bulk        int64  \n",
      " 59  Bwd Avg Packets/Bulk      int64  \n",
      " 60  Bwd Avg Bulk Rate         int64  \n",
      " 61  Subflow Fwd Packets       int64  \n",
      " 62  Subflow Fwd Bytes         int64  \n",
      " 63  Subflow Bwd Packets       int64  \n",
      " 64  Subflow Bwd Bytes         int64  \n",
      " 65  Init Fwd Win Bytes        int64  \n",
      " 66  Init Bwd Win Bytes        int64  \n",
      " 67  Fwd Act Data Packets      int64  \n",
      " 68  Fwd Seg Size Min          int64  \n",
      " 69  Active Mean               float64\n",
      " 70  Active Std                float64\n",
      " 71  Active Max                float64\n",
      " 72  Active Min                float64\n",
      " 73  Idle Mean                 float64\n",
      " 74  Idle Std                  float64\n",
      " 75  Idle Max                  float64\n",
      " 76  Idle Min                  float64\n",
      " 77  Label                     object \n",
      "dtypes: float64(45), int64(32), object(1)\n",
      "memory usage: 2.0 GB\n"
     ]
    }
   ],
   "source": [
    "workingDataFrame.info(memory_usage=\"deep\")"
   ],
   "metadata": {
    "collapsed": false
   }
  },
  {
   "cell_type": "code",
   "execution_count": 45,
   "outputs": [
    {
     "name": "stdout",
     "output_type": "stream",
     "text": [
      "<class 'pandas.core.frame.DataFrame'>\n",
      "Int64Index: 3136802 entries, 0 to 20999\n",
      "Data columns (total 78 columns):\n",
      " #   Column                    Dtype  \n",
      "---  ------                    -----  \n",
      " 0   Protocol                  int8   \n",
      " 1   Flow Duration             int32  \n",
      " 2   Total Fwd Packets         int16  \n",
      " 3   Total Backward Packets    int16  \n",
      " 4   Fwd Packets Length Total  float32\n",
      " 5   Bwd Packets Length Total  float32\n",
      " 6   Fwd Packet Length Max     float32\n",
      " 7   Fwd Packet Length Min     float32\n",
      " 8   Fwd Packet Length Mean    float32\n",
      " 9   Fwd Packet Length Std     float32\n",
      " 10  Bwd Packet Length Max     float32\n",
      " 11  Bwd Packet Length Min     float32\n",
      " 12  Bwd Packet Length Mean    float32\n",
      " 13  Bwd Packet Length Std     float32\n",
      " 14  Flow Bytes/s              float32\n",
      " 15  Flow Packets/s            float32\n",
      " 16  Flow IAT Mean             float32\n",
      " 17  Flow IAT Std              float32\n",
      " 18  Flow IAT Max              float32\n",
      " 19  Flow IAT Min              float32\n",
      " 20  Fwd IAT Total             float32\n",
      " 21  Fwd IAT Mean              float32\n",
      " 22  Fwd IAT Std               float32\n",
      " 23  Fwd IAT Max               float32\n",
      " 24  Fwd IAT Min               float32\n",
      " 25  Bwd IAT Total             float32\n",
      " 26  Bwd IAT Mean              float32\n",
      " 27  Bwd IAT Std               float32\n",
      " 28  Bwd IAT Max               float32\n",
      " 29  Bwd IAT Min               float32\n",
      " 30  Fwd PSH Flags             int8   \n",
      " 31  Bwd PSH Flags             int8   \n",
      " 32  Fwd URG Flags             int8   \n",
      " 33  Bwd URG Flags             int8   \n",
      " 34  Fwd Header Length         int64  \n",
      " 35  Bwd Header Length         int32  \n",
      " 36  Fwd Packets/s             float32\n",
      " 37  Bwd Packets/s             float32\n",
      " 38  Packet Length Min         float32\n",
      " 39  Packet Length Max         float32\n",
      " 40  Packet Length Mean        float32\n",
      " 41  Packet Length Std         float32\n",
      " 42  Packet Length Variance    float32\n",
      " 43  FIN Flag Count            int8   \n",
      " 44  SYN Flag Count            int8   \n",
      " 45  RST Flag Count            int8   \n",
      " 46  PSH Flag Count            int8   \n",
      " 47  ACK Flag Count            int8   \n",
      " 48  URG Flag Count            int8   \n",
      " 49  CWE Flag Count            int8   \n",
      " 50  ECE Flag Count            int8   \n",
      " 51  Down/Up Ratio             float32\n",
      " 52  Avg Packet Size           float32\n",
      " 53  Avg Fwd Segment Size      float32\n",
      " 54  Avg Bwd Segment Size      float32\n",
      " 55  Fwd Avg Bytes/Bulk        int8   \n",
      " 56  Fwd Avg Packets/Bulk      int8   \n",
      " 57  Fwd Avg Bulk Rate         int8   \n",
      " 58  Bwd Avg Bytes/Bulk        int8   \n",
      " 59  Bwd Avg Packets/Bulk      int8   \n",
      " 60  Bwd Avg Bulk Rate         int8   \n",
      " 61  Subflow Fwd Packets       int16  \n",
      " 62  Subflow Fwd Bytes         int32  \n",
      " 63  Subflow Bwd Packets       int16  \n",
      " 64  Subflow Bwd Bytes         int32  \n",
      " 65  Init Fwd Win Bytes        int32  \n",
      " 66  Init Bwd Win Bytes        int32  \n",
      " 67  Fwd Act Data Packets      int16  \n",
      " 68  Fwd Seg Size Min          int32  \n",
      " 69  Active Mean               float32\n",
      " 70  Active Std                float32\n",
      " 71  Active Max                float32\n",
      " 72  Active Min                float32\n",
      " 73  Idle Mean                 float32\n",
      " 74  Idle Std                  float32\n",
      " 75  Idle Max                  float32\n",
      " 76  Idle Min                  float32\n",
      " 77  Label                     object \n",
      "dtypes: float32(45), int16(5), int32(7), int64(1), int8(19), object(1)\n",
      "memory usage: 954.3 MB\n"
     ]
    }
   ],
   "source": [
    "# converting 64bit float to 32 bit float & 64bit integer to 8bit integer\n",
    "for column in workingDataFrame:\n",
    "    if workingDataFrame[column].dtype == 'float64':\n",
    "        workingDataFrame[column] = pd.to_numeric(workingDataFrame[column], downcast='float')\n",
    "    if workingDataFrame[column].dtype == 'int64':\n",
    "        workingDataFrame[column] = pd.to_numeric(workingDataFrame[column], downcast='integer')\n",
    "\n",
    "workingDataFrame.info(memory_usage=\"deep\")  # observe the dTypes"
   ],
   "metadata": {
    "collapsed": false
   }
  },
  {
   "cell_type": "markdown",
   "source": [
    "<center><h3 style=\"background:yellow;color:black\">\n",
    "Removing NaN values & infinite values\n",
    "</h3></center>"
   ],
   "metadata": {
    "collapsed": false
   }
  },
  {
   "cell_type": "code",
   "execution_count": 46,
   "outputs": [
    {
     "name": "stdout",
     "output_type": "stream",
     "text": [
      "pure missing value contains rows: 8\n",
      "missing value contains total rows: 40673\n",
      "After dropping NaN values, number of rows: 3096129\n",
      "After dropping NaN values, number of columns: 78\n"
     ]
    }
   ],
   "source": [
    "# workingDataFrame.isnull().sum()\n",
    "print(f\"pure missing value contains rows: {workingDataFrame.isna().any(axis=1).sum()}\")\n",
    "workingDataFrame.replace([np.inf, -np.inf], np.nan, inplace=True)\n",
    "print(f\"missing value contains total rows: {workingDataFrame.isna().any(axis=1).sum()}\")\n",
    "workingDataFrame.dropna(inplace=True)\n",
    "print(f\"After dropping NaN values, number of rows: {workingDataFrame.shape[0]}\")\n",
    "print(f\"After dropping NaN values, number of columns: {workingDataFrame.shape[1]}\")"
   ],
   "metadata": {
    "collapsed": false
   }
  },
  {
   "cell_type": "markdown",
   "source": [
    "<center><h3 style=\"background:yellow;color:black\">\n",
    "Dropping Duplicate Rows\n",
    "</h3></center>"
   ],
   "metadata": {
    "collapsed": false
   }
  },
  {
   "cell_type": "code",
   "execution_count": 47,
   "outputs": [
    {
     "name": "stdout",
     "output_type": "stream",
     "text": [
      "Fully duplicate total rows: 2019821\n",
      "After dropping Duplicate values, number of rows: 1076308\n",
      "After dropping Duplicate values, number of columns: 78\n"
     ]
    }
   ],
   "source": [
    "print(f\"Fully duplicate total rows: {workingDataFrame.duplicated().sum()}\")\n",
    "workingDataFrame.drop_duplicates(inplace=True)\n",
    "workingDataFrame.reset_index(inplace=True, drop=True)\n",
    "print(f\"After dropping Duplicate values, number of rows: {workingDataFrame.shape[0]}\")\n",
    "print(f\"After dropping Duplicate values, number of columns: {workingDataFrame.shape[1]}\")"
   ],
   "metadata": {
    "collapsed": false
   }
  },
  {
   "cell_type": "markdown",
   "source": [
    "<center><h3 style=\"background:#FF00FF;color:black\">\n",
    "After data cleaning, how much storage it holds now\n",
    "</h3></center>"
   ],
   "metadata": {
    "collapsed": false
   }
  },
  {
   "cell_type": "code",
   "execution_count": 48,
   "outputs": [
    {
     "name": "stdout",
     "output_type": "stream",
     "text": [
      "<class 'pandas.core.frame.DataFrame'>\n",
      "RangeIndex: 1076308 entries, 0 to 1076307\n",
      "Data columns (total 78 columns):\n",
      " #   Column                    Non-Null Count    Dtype  \n",
      "---  ------                    --------------    -----  \n",
      " 0   Protocol                  1076308 non-null  int8   \n",
      " 1   Flow Duration             1076308 non-null  int32  \n",
      " 2   Total Fwd Packets         1076308 non-null  int16  \n",
      " 3   Total Backward Packets    1076308 non-null  int16  \n",
      " 4   Fwd Packets Length Total  1076308 non-null  float64\n",
      " 5   Bwd Packets Length Total  1076308 non-null  float64\n",
      " 6   Fwd Packet Length Max     1076308 non-null  float64\n",
      " 7   Fwd Packet Length Min     1076308 non-null  float64\n",
      " 8   Fwd Packet Length Mean    1076308 non-null  float64\n",
      " 9   Fwd Packet Length Std     1076308 non-null  float64\n",
      " 10  Bwd Packet Length Max     1076308 non-null  float64\n",
      " 11  Bwd Packet Length Min     1076308 non-null  float64\n",
      " 12  Bwd Packet Length Mean    1076308 non-null  float64\n",
      " 13  Bwd Packet Length Std     1076308 non-null  float64\n",
      " 14  Flow Bytes/s              1076308 non-null  float64\n",
      " 15  Flow Packets/s            1076308 non-null  float64\n",
      " 16  Flow IAT Mean             1076308 non-null  float64\n",
      " 17  Flow IAT Std              1076308 non-null  float64\n",
      " 18  Flow IAT Max              1076308 non-null  float64\n",
      " 19  Flow IAT Min              1076308 non-null  float64\n",
      " 20  Fwd IAT Total             1076308 non-null  float64\n",
      " 21  Fwd IAT Mean              1076308 non-null  float64\n",
      " 22  Fwd IAT Std               1076308 non-null  float64\n",
      " 23  Fwd IAT Max               1076308 non-null  float64\n",
      " 24  Fwd IAT Min               1076308 non-null  float64\n",
      " 25  Bwd IAT Total             1076308 non-null  float64\n",
      " 26  Bwd IAT Mean              1076308 non-null  float64\n",
      " 27  Bwd IAT Std               1076308 non-null  float64\n",
      " 28  Bwd IAT Max               1076308 non-null  float64\n",
      " 29  Bwd IAT Min               1076308 non-null  float64\n",
      " 30  Fwd PSH Flags             1076308 non-null  int8   \n",
      " 31  Bwd PSH Flags             1076308 non-null  int8   \n",
      " 32  Fwd URG Flags             1076308 non-null  int8   \n",
      " 33  Bwd URG Flags             1076308 non-null  int8   \n",
      " 34  Fwd Header Length         1076308 non-null  int64  \n",
      " 35  Bwd Header Length         1076308 non-null  int32  \n",
      " 36  Fwd Packets/s             1076308 non-null  float64\n",
      " 37  Bwd Packets/s             1076308 non-null  float64\n",
      " 38  Packet Length Min         1076308 non-null  float64\n",
      " 39  Packet Length Max         1076308 non-null  float64\n",
      " 40  Packet Length Mean        1076308 non-null  float64\n",
      " 41  Packet Length Std         1076308 non-null  float64\n",
      " 42  Packet Length Variance    1076308 non-null  float64\n",
      " 43  FIN Flag Count            1076308 non-null  int8   \n",
      " 44  SYN Flag Count            1076308 non-null  int8   \n",
      " 45  RST Flag Count            1076308 non-null  int8   \n",
      " 46  PSH Flag Count            1076308 non-null  int8   \n",
      " 47  ACK Flag Count            1076308 non-null  int8   \n",
      " 48  URG Flag Count            1076308 non-null  int8   \n",
      " 49  CWE Flag Count            1076308 non-null  int8   \n",
      " 50  ECE Flag Count            1076308 non-null  int8   \n",
      " 51  Down/Up Ratio             1076308 non-null  float64\n",
      " 52  Avg Packet Size           1076308 non-null  float64\n",
      " 53  Avg Fwd Segment Size      1076308 non-null  float64\n",
      " 54  Avg Bwd Segment Size      1076308 non-null  float64\n",
      " 55  Fwd Avg Bytes/Bulk        1076308 non-null  int8   \n",
      " 56  Fwd Avg Packets/Bulk      1076308 non-null  int8   \n",
      " 57  Fwd Avg Bulk Rate         1076308 non-null  int8   \n",
      " 58  Bwd Avg Bytes/Bulk        1076308 non-null  int8   \n",
      " 59  Bwd Avg Packets/Bulk      1076308 non-null  int8   \n",
      " 60  Bwd Avg Bulk Rate         1076308 non-null  int8   \n",
      " 61  Subflow Fwd Packets       1076308 non-null  int16  \n",
      " 62  Subflow Fwd Bytes         1076308 non-null  int32  \n",
      " 63  Subflow Bwd Packets       1076308 non-null  int16  \n",
      " 64  Subflow Bwd Bytes         1076308 non-null  int32  \n",
      " 65  Init Fwd Win Bytes        1076308 non-null  int32  \n",
      " 66  Init Bwd Win Bytes        1076308 non-null  int32  \n",
      " 67  Fwd Act Data Packets      1076308 non-null  int16  \n",
      " 68  Fwd Seg Size Min          1076308 non-null  int32  \n",
      " 69  Active Mean               1076308 non-null  float64\n",
      " 70  Active Std                1076308 non-null  float64\n",
      " 71  Active Max                1076308 non-null  float64\n",
      " 72  Active Min                1076308 non-null  float64\n",
      " 73  Idle Mean                 1076308 non-null  float64\n",
      " 74  Idle Std                  1076308 non-null  float64\n",
      " 75  Idle Max                  1076308 non-null  float64\n",
      " 76  Idle Min                  1076308 non-null  float64\n",
      " 77  Label                     1076308 non-null  object \n",
      "dtypes: float64(45), int16(5), int32(7), int64(1), int8(19), object(1)\n",
      "memory usage: 504.0 MB\n"
     ]
    }
   ],
   "source": [
    "workingDataFrame.info(memory_usage=\"deep\")"
   ],
   "metadata": {
    "collapsed": false
   }
  },
  {
   "cell_type": "markdown",
   "source": [
    "<center><h3 style=\"background:#00FF00;color:black\">\n",
    "Saving New DataFrame as csv file to new location\n",
    "</h3></center>"
   ],
   "metadata": {
    "collapsed": false
   }
  },
  {
   "cell_type": "code",
   "execution_count": 49,
   "outputs": [],
   "source": [
    "def dataCleaningResultToAnotherCSV(dataFrameArg, dirPath, file_name):\n",
    "    dataFrameArg.to_csv(dirPath + file_name)"
   ],
   "metadata": {
    "collapsed": false
   }
  },
  {
   "cell_type": "code",
   "execution_count": 50,
   "outputs": [],
   "source": [
    "newCsvPath = \"C:\\\\Thesis_Group_of_Brig_Gen_Razzak_Sir\\\\After_Row_Data_Cleaning\\\\\"\n",
    "# newFileName = \"cleaned_udpLag\"\n",
    "# newFileName = \"cleaned_Syn\"\n",
    "# newFileName = \"cleaned_DrDoS_NTP\"\n",
    "# newFileName = \"cleaned_DrDoS_LDAP\"\n",
    "# newFileName = \"cleaned_DrDoS_SSDP\"\n",
    "newFileName = \"cleaned_DrDoS_UDP\"\n",
    "csvFileName = newFileName + \".csv\"\n",
    "dataCleaningResultToAnotherCSV(dataFrameArg=workingDataFrame, dirPath=newCsvPath, file_name=csvFileName)"
   ],
   "metadata": {
    "collapsed": false
   }
  },
  {
   "cell_type": "code",
   "execution_count": 51,
   "outputs": [
    {
     "data": {
      "text/plain": "Summarize dataset:   0%|          | 0/5 [00:00<?, ?it/s]",
      "application/vnd.jupyter.widget-view+json": {
       "version_major": 2,
       "version_minor": 0,
       "model_id": "362f7b45d2c1447a8dc6b7baca4a0618"
      }
     },
     "metadata": {},
     "output_type": "display_data"
    },
    {
     "ename": "MemoryError",
     "evalue": "Unable to allocate 218. GiB for an array with shape (29321681636,) and data type float64",
     "output_type": "error",
     "traceback": [
      "\u001B[1;31m---------------------------------------------------------------------------\u001B[0m",
      "\u001B[1;31mMemoryError\u001B[0m                               Traceback (most recent call last)",
      "\u001B[1;32m~\\AppData\\Local\\Temp\\ipykernel_15100\\4182064987.py\u001B[0m in \u001B[0;36m<module>\u001B[1;34m\u001B[0m\n\u001B[0;32m      2\u001B[0m \u001B[1;33m\u001B[0m\u001B[0m\n\u001B[0;32m      3\u001B[0m \u001B[0mprofile\u001B[0m \u001B[1;33m=\u001B[0m \u001B[0mProfileReport\u001B[0m\u001B[1;33m(\u001B[0m\u001B[0mworkingDataFrame\u001B[0m\u001B[1;33m,\u001B[0m \u001B[0mtitle\u001B[0m\u001B[1;33m=\u001B[0m\u001B[0mnewFileName\u001B[0m\u001B[1;33m)\u001B[0m\u001B[1;33m\u001B[0m\u001B[1;33m\u001B[0m\u001B[0m\n\u001B[1;32m----> 4\u001B[1;33m \u001B[0mprofile\u001B[0m\u001B[1;33m.\u001B[0m\u001B[0mto_file\u001B[0m\u001B[1;33m(\u001B[0m\u001B[0mnewCsvPath\u001B[0m \u001B[1;33m+\u001B[0m \u001B[0mnewFileName\u001B[0m\u001B[1;33m+\u001B[0m \u001B[1;34m\".html\"\u001B[0m\u001B[1;33m)\u001B[0m\u001B[1;33m\u001B[0m\u001B[1;33m\u001B[0m\u001B[0m\n\u001B[0m",
      "\u001B[1;32m~\\anaconda3\\envs\\ml_env\\lib\\site-packages\\typeguard\\__init__.py\u001B[0m in \u001B[0;36mwrapper\u001B[1;34m(*args, **kwargs)\u001B[0m\n\u001B[0;32m   1031\u001B[0m         \u001B[0mmemo\u001B[0m \u001B[1;33m=\u001B[0m \u001B[0m_CallMemo\u001B[0m\u001B[1;33m(\u001B[0m\u001B[0mpython_func\u001B[0m\u001B[1;33m,\u001B[0m \u001B[0m_localns\u001B[0m\u001B[1;33m,\u001B[0m \u001B[0margs\u001B[0m\u001B[1;33m=\u001B[0m\u001B[0margs\u001B[0m\u001B[1;33m,\u001B[0m \u001B[0mkwargs\u001B[0m\u001B[1;33m=\u001B[0m\u001B[0mkwargs\u001B[0m\u001B[1;33m)\u001B[0m\u001B[1;33m\u001B[0m\u001B[1;33m\u001B[0m\u001B[0m\n\u001B[0;32m   1032\u001B[0m         \u001B[0mcheck_argument_types\u001B[0m\u001B[1;33m(\u001B[0m\u001B[0mmemo\u001B[0m\u001B[1;33m)\u001B[0m\u001B[1;33m\u001B[0m\u001B[1;33m\u001B[0m\u001B[0m\n\u001B[1;32m-> 1033\u001B[1;33m         \u001B[0mretval\u001B[0m \u001B[1;33m=\u001B[0m \u001B[0mfunc\u001B[0m\u001B[1;33m(\u001B[0m\u001B[1;33m*\u001B[0m\u001B[0margs\u001B[0m\u001B[1;33m,\u001B[0m \u001B[1;33m**\u001B[0m\u001B[0mkwargs\u001B[0m\u001B[1;33m)\u001B[0m\u001B[1;33m\u001B[0m\u001B[1;33m\u001B[0m\u001B[0m\n\u001B[0m\u001B[0;32m   1034\u001B[0m         \u001B[1;32mtry\u001B[0m\u001B[1;33m:\u001B[0m\u001B[1;33m\u001B[0m\u001B[1;33m\u001B[0m\u001B[0m\n\u001B[0;32m   1035\u001B[0m             \u001B[0mcheck_return_type\u001B[0m\u001B[1;33m(\u001B[0m\u001B[0mretval\u001B[0m\u001B[1;33m,\u001B[0m \u001B[0mmemo\u001B[0m\u001B[1;33m)\u001B[0m\u001B[1;33m\u001B[0m\u001B[1;33m\u001B[0m\u001B[0m\n",
      "\u001B[1;32m~\\anaconda3\\envs\\ml_env\\lib\\site-packages\\pandas_profiling\\profile_report.py\u001B[0m in \u001B[0;36mto_file\u001B[1;34m(self, output_file, silent)\u001B[0m\n\u001B[0;32m    307\u001B[0m                 \u001B[0mcreate_html_assets\u001B[0m\u001B[1;33m(\u001B[0m\u001B[0mself\u001B[0m\u001B[1;33m.\u001B[0m\u001B[0mconfig\u001B[0m\u001B[1;33m,\u001B[0m \u001B[0moutput_file\u001B[0m\u001B[1;33m)\u001B[0m\u001B[1;33m\u001B[0m\u001B[1;33m\u001B[0m\u001B[0m\n\u001B[0;32m    308\u001B[0m \u001B[1;33m\u001B[0m\u001B[0m\n\u001B[1;32m--> 309\u001B[1;33m             \u001B[0mdata\u001B[0m \u001B[1;33m=\u001B[0m \u001B[0mself\u001B[0m\u001B[1;33m.\u001B[0m\u001B[0mto_html\u001B[0m\u001B[1;33m(\u001B[0m\u001B[1;33m)\u001B[0m\u001B[1;33m\u001B[0m\u001B[1;33m\u001B[0m\u001B[0m\n\u001B[0m\u001B[0;32m    310\u001B[0m \u001B[1;33m\u001B[0m\u001B[0m\n\u001B[0;32m    311\u001B[0m             \u001B[1;32mif\u001B[0m \u001B[0moutput_file\u001B[0m\u001B[1;33m.\u001B[0m\u001B[0msuffix\u001B[0m \u001B[1;33m!=\u001B[0m \u001B[1;34m\".html\"\u001B[0m\u001B[1;33m:\u001B[0m\u001B[1;33m\u001B[0m\u001B[1;33m\u001B[0m\u001B[0m\n",
      "\u001B[1;32m~\\anaconda3\\envs\\ml_env\\lib\\site-packages\\typeguard\\__init__.py\u001B[0m in \u001B[0;36mwrapper\u001B[1;34m(*args, **kwargs)\u001B[0m\n\u001B[0;32m   1031\u001B[0m         \u001B[0mmemo\u001B[0m \u001B[1;33m=\u001B[0m \u001B[0m_CallMemo\u001B[0m\u001B[1;33m(\u001B[0m\u001B[0mpython_func\u001B[0m\u001B[1;33m,\u001B[0m \u001B[0m_localns\u001B[0m\u001B[1;33m,\u001B[0m \u001B[0margs\u001B[0m\u001B[1;33m=\u001B[0m\u001B[0margs\u001B[0m\u001B[1;33m,\u001B[0m \u001B[0mkwargs\u001B[0m\u001B[1;33m=\u001B[0m\u001B[0mkwargs\u001B[0m\u001B[1;33m)\u001B[0m\u001B[1;33m\u001B[0m\u001B[1;33m\u001B[0m\u001B[0m\n\u001B[0;32m   1032\u001B[0m         \u001B[0mcheck_argument_types\u001B[0m\u001B[1;33m(\u001B[0m\u001B[0mmemo\u001B[0m\u001B[1;33m)\u001B[0m\u001B[1;33m\u001B[0m\u001B[1;33m\u001B[0m\u001B[0m\n\u001B[1;32m-> 1033\u001B[1;33m         \u001B[0mretval\u001B[0m \u001B[1;33m=\u001B[0m \u001B[0mfunc\u001B[0m\u001B[1;33m(\u001B[0m\u001B[1;33m*\u001B[0m\u001B[0margs\u001B[0m\u001B[1;33m,\u001B[0m \u001B[1;33m**\u001B[0m\u001B[0mkwargs\u001B[0m\u001B[1;33m)\u001B[0m\u001B[1;33m\u001B[0m\u001B[1;33m\u001B[0m\u001B[0m\n\u001B[0m\u001B[0;32m   1034\u001B[0m         \u001B[1;32mtry\u001B[0m\u001B[1;33m:\u001B[0m\u001B[1;33m\u001B[0m\u001B[1;33m\u001B[0m\u001B[0m\n\u001B[0;32m   1035\u001B[0m             \u001B[0mcheck_return_type\u001B[0m\u001B[1;33m(\u001B[0m\u001B[0mretval\u001B[0m\u001B[1;33m,\u001B[0m \u001B[0mmemo\u001B[0m\u001B[1;33m)\u001B[0m\u001B[1;33m\u001B[0m\u001B[1;33m\u001B[0m\u001B[0m\n",
      "\u001B[1;32m~\\anaconda3\\envs\\ml_env\\lib\\site-packages\\pandas_profiling\\profile_report.py\u001B[0m in \u001B[0;36mto_html\u001B[1;34m(self)\u001B[0m\n\u001B[0;32m    418\u001B[0m \u001B[1;33m\u001B[0m\u001B[0m\n\u001B[0;32m    419\u001B[0m         \"\"\"\n\u001B[1;32m--> 420\u001B[1;33m         \u001B[1;32mreturn\u001B[0m \u001B[0mself\u001B[0m\u001B[1;33m.\u001B[0m\u001B[0mhtml\u001B[0m\u001B[1;33m\u001B[0m\u001B[1;33m\u001B[0m\u001B[0m\n\u001B[0m\u001B[0;32m    421\u001B[0m \u001B[1;33m\u001B[0m\u001B[0m\n\u001B[0;32m    422\u001B[0m     \u001B[1;32mdef\u001B[0m \u001B[0mto_json\u001B[0m\u001B[1;33m(\u001B[0m\u001B[0mself\u001B[0m\u001B[1;33m)\u001B[0m \u001B[1;33m->\u001B[0m \u001B[0mstr\u001B[0m\u001B[1;33m:\u001B[0m\u001B[1;33m\u001B[0m\u001B[1;33m\u001B[0m\u001B[0m\n",
      "\u001B[1;32m~\\anaconda3\\envs\\ml_env\\lib\\site-packages\\typeguard\\__init__.py\u001B[0m in \u001B[0;36mwrapper\u001B[1;34m(*args, **kwargs)\u001B[0m\n\u001B[0;32m   1031\u001B[0m         \u001B[0mmemo\u001B[0m \u001B[1;33m=\u001B[0m \u001B[0m_CallMemo\u001B[0m\u001B[1;33m(\u001B[0m\u001B[0mpython_func\u001B[0m\u001B[1;33m,\u001B[0m \u001B[0m_localns\u001B[0m\u001B[1;33m,\u001B[0m \u001B[0margs\u001B[0m\u001B[1;33m=\u001B[0m\u001B[0margs\u001B[0m\u001B[1;33m,\u001B[0m \u001B[0mkwargs\u001B[0m\u001B[1;33m=\u001B[0m\u001B[0mkwargs\u001B[0m\u001B[1;33m)\u001B[0m\u001B[1;33m\u001B[0m\u001B[1;33m\u001B[0m\u001B[0m\n\u001B[0;32m   1032\u001B[0m         \u001B[0mcheck_argument_types\u001B[0m\u001B[1;33m(\u001B[0m\u001B[0mmemo\u001B[0m\u001B[1;33m)\u001B[0m\u001B[1;33m\u001B[0m\u001B[1;33m\u001B[0m\u001B[0m\n\u001B[1;32m-> 1033\u001B[1;33m         \u001B[0mretval\u001B[0m \u001B[1;33m=\u001B[0m \u001B[0mfunc\u001B[0m\u001B[1;33m(\u001B[0m\u001B[1;33m*\u001B[0m\u001B[0margs\u001B[0m\u001B[1;33m,\u001B[0m \u001B[1;33m**\u001B[0m\u001B[0mkwargs\u001B[0m\u001B[1;33m)\u001B[0m\u001B[1;33m\u001B[0m\u001B[1;33m\u001B[0m\u001B[0m\n\u001B[0m\u001B[0;32m   1034\u001B[0m         \u001B[1;32mtry\u001B[0m\u001B[1;33m:\u001B[0m\u001B[1;33m\u001B[0m\u001B[1;33m\u001B[0m\u001B[0m\n\u001B[0;32m   1035\u001B[0m             \u001B[0mcheck_return_type\u001B[0m\u001B[1;33m(\u001B[0m\u001B[0mretval\u001B[0m\u001B[1;33m,\u001B[0m \u001B[0mmemo\u001B[0m\u001B[1;33m)\u001B[0m\u001B[1;33m\u001B[0m\u001B[1;33m\u001B[0m\u001B[0m\n",
      "\u001B[1;32m~\\anaconda3\\envs\\ml_env\\lib\\site-packages\\pandas_profiling\\profile_report.py\u001B[0m in \u001B[0;36mhtml\u001B[1;34m(self)\u001B[0m\n\u001B[0;32m    229\u001B[0m     \u001B[1;32mdef\u001B[0m \u001B[0mhtml\u001B[0m\u001B[1;33m(\u001B[0m\u001B[0mself\u001B[0m\u001B[1;33m)\u001B[0m \u001B[1;33m->\u001B[0m \u001B[0mstr\u001B[0m\u001B[1;33m:\u001B[0m\u001B[1;33m\u001B[0m\u001B[1;33m\u001B[0m\u001B[0m\n\u001B[0;32m    230\u001B[0m         \u001B[1;32mif\u001B[0m \u001B[0mself\u001B[0m\u001B[1;33m.\u001B[0m\u001B[0m_html\u001B[0m \u001B[1;32mis\u001B[0m \u001B[1;32mNone\u001B[0m\u001B[1;33m:\u001B[0m\u001B[1;33m\u001B[0m\u001B[1;33m\u001B[0m\u001B[0m\n\u001B[1;32m--> 231\u001B[1;33m             \u001B[0mself\u001B[0m\u001B[1;33m.\u001B[0m\u001B[0m_html\u001B[0m \u001B[1;33m=\u001B[0m \u001B[0mself\u001B[0m\u001B[1;33m.\u001B[0m\u001B[0m_render_html\u001B[0m\u001B[1;33m(\u001B[0m\u001B[1;33m)\u001B[0m\u001B[1;33m\u001B[0m\u001B[1;33m\u001B[0m\u001B[0m\n\u001B[0m\u001B[0;32m    232\u001B[0m         \u001B[1;32mreturn\u001B[0m \u001B[0mself\u001B[0m\u001B[1;33m.\u001B[0m\u001B[0m_html\u001B[0m\u001B[1;33m\u001B[0m\u001B[1;33m\u001B[0m\u001B[0m\n\u001B[0;32m    233\u001B[0m \u001B[1;33m\u001B[0m\u001B[0m\n",
      "\u001B[1;32m~\\anaconda3\\envs\\ml_env\\lib\\site-packages\\typeguard\\__init__.py\u001B[0m in \u001B[0;36mwrapper\u001B[1;34m(*args, **kwargs)\u001B[0m\n\u001B[0;32m   1031\u001B[0m         \u001B[0mmemo\u001B[0m \u001B[1;33m=\u001B[0m \u001B[0m_CallMemo\u001B[0m\u001B[1;33m(\u001B[0m\u001B[0mpython_func\u001B[0m\u001B[1;33m,\u001B[0m \u001B[0m_localns\u001B[0m\u001B[1;33m,\u001B[0m \u001B[0margs\u001B[0m\u001B[1;33m=\u001B[0m\u001B[0margs\u001B[0m\u001B[1;33m,\u001B[0m \u001B[0mkwargs\u001B[0m\u001B[1;33m=\u001B[0m\u001B[0mkwargs\u001B[0m\u001B[1;33m)\u001B[0m\u001B[1;33m\u001B[0m\u001B[1;33m\u001B[0m\u001B[0m\n\u001B[0;32m   1032\u001B[0m         \u001B[0mcheck_argument_types\u001B[0m\u001B[1;33m(\u001B[0m\u001B[0mmemo\u001B[0m\u001B[1;33m)\u001B[0m\u001B[1;33m\u001B[0m\u001B[1;33m\u001B[0m\u001B[0m\n\u001B[1;32m-> 1033\u001B[1;33m         \u001B[0mretval\u001B[0m \u001B[1;33m=\u001B[0m \u001B[0mfunc\u001B[0m\u001B[1;33m(\u001B[0m\u001B[1;33m*\u001B[0m\u001B[0margs\u001B[0m\u001B[1;33m,\u001B[0m \u001B[1;33m**\u001B[0m\u001B[0mkwargs\u001B[0m\u001B[1;33m)\u001B[0m\u001B[1;33m\u001B[0m\u001B[1;33m\u001B[0m\u001B[0m\n\u001B[0m\u001B[0;32m   1034\u001B[0m         \u001B[1;32mtry\u001B[0m\u001B[1;33m:\u001B[0m\u001B[1;33m\u001B[0m\u001B[1;33m\u001B[0m\u001B[0m\n\u001B[0;32m   1035\u001B[0m             \u001B[0mcheck_return_type\u001B[0m\u001B[1;33m(\u001B[0m\u001B[0mretval\u001B[0m\u001B[1;33m,\u001B[0m \u001B[0mmemo\u001B[0m\u001B[1;33m)\u001B[0m\u001B[1;33m\u001B[0m\u001B[1;33m\u001B[0m\u001B[0m\n",
      "\u001B[1;32m~\\anaconda3\\envs\\ml_env\\lib\\site-packages\\pandas_profiling\\profile_report.py\u001B[0m in \u001B[0;36m_render_html\u001B[1;34m(self)\u001B[0m\n\u001B[0;32m    337\u001B[0m         \u001B[1;32mfrom\u001B[0m \u001B[0mpandas_profiling\u001B[0m\u001B[1;33m.\u001B[0m\u001B[0mreport\u001B[0m\u001B[1;33m.\u001B[0m\u001B[0mpresentation\u001B[0m\u001B[1;33m.\u001B[0m\u001B[0mflavours\u001B[0m \u001B[1;32mimport\u001B[0m \u001B[0mHTMLReport\u001B[0m\u001B[1;33m\u001B[0m\u001B[1;33m\u001B[0m\u001B[0m\n\u001B[0;32m    338\u001B[0m \u001B[1;33m\u001B[0m\u001B[0m\n\u001B[1;32m--> 339\u001B[1;33m         \u001B[0mreport\u001B[0m \u001B[1;33m=\u001B[0m \u001B[0mself\u001B[0m\u001B[1;33m.\u001B[0m\u001B[0mreport\u001B[0m\u001B[1;33m\u001B[0m\u001B[1;33m\u001B[0m\u001B[0m\n\u001B[0m\u001B[0;32m    340\u001B[0m \u001B[1;33m\u001B[0m\u001B[0m\n\u001B[0;32m    341\u001B[0m         with tqdm(\n",
      "\u001B[1;32m~\\anaconda3\\envs\\ml_env\\lib\\site-packages\\typeguard\\__init__.py\u001B[0m in \u001B[0;36mwrapper\u001B[1;34m(*args, **kwargs)\u001B[0m\n\u001B[0;32m   1031\u001B[0m         \u001B[0mmemo\u001B[0m \u001B[1;33m=\u001B[0m \u001B[0m_CallMemo\u001B[0m\u001B[1;33m(\u001B[0m\u001B[0mpython_func\u001B[0m\u001B[1;33m,\u001B[0m \u001B[0m_localns\u001B[0m\u001B[1;33m,\u001B[0m \u001B[0margs\u001B[0m\u001B[1;33m=\u001B[0m\u001B[0margs\u001B[0m\u001B[1;33m,\u001B[0m \u001B[0mkwargs\u001B[0m\u001B[1;33m=\u001B[0m\u001B[0mkwargs\u001B[0m\u001B[1;33m)\u001B[0m\u001B[1;33m\u001B[0m\u001B[1;33m\u001B[0m\u001B[0m\n\u001B[0;32m   1032\u001B[0m         \u001B[0mcheck_argument_types\u001B[0m\u001B[1;33m(\u001B[0m\u001B[0mmemo\u001B[0m\u001B[1;33m)\u001B[0m\u001B[1;33m\u001B[0m\u001B[1;33m\u001B[0m\u001B[0m\n\u001B[1;32m-> 1033\u001B[1;33m         \u001B[0mretval\u001B[0m \u001B[1;33m=\u001B[0m \u001B[0mfunc\u001B[0m\u001B[1;33m(\u001B[0m\u001B[1;33m*\u001B[0m\u001B[0margs\u001B[0m\u001B[1;33m,\u001B[0m \u001B[1;33m**\u001B[0m\u001B[0mkwargs\u001B[0m\u001B[1;33m)\u001B[0m\u001B[1;33m\u001B[0m\u001B[1;33m\u001B[0m\u001B[0m\n\u001B[0m\u001B[0;32m   1034\u001B[0m         \u001B[1;32mtry\u001B[0m\u001B[1;33m:\u001B[0m\u001B[1;33m\u001B[0m\u001B[1;33m\u001B[0m\u001B[0m\n\u001B[0;32m   1035\u001B[0m             \u001B[0mcheck_return_type\u001B[0m\u001B[1;33m(\u001B[0m\u001B[0mretval\u001B[0m\u001B[1;33m,\u001B[0m \u001B[0mmemo\u001B[0m\u001B[1;33m)\u001B[0m\u001B[1;33m\u001B[0m\u001B[1;33m\u001B[0m\u001B[0m\n",
      "\u001B[1;32m~\\anaconda3\\envs\\ml_env\\lib\\site-packages\\pandas_profiling\\profile_report.py\u001B[0m in \u001B[0;36mreport\u001B[1;34m(self)\u001B[0m\n\u001B[0;32m    223\u001B[0m     \u001B[1;32mdef\u001B[0m \u001B[0mreport\u001B[0m\u001B[1;33m(\u001B[0m\u001B[0mself\u001B[0m\u001B[1;33m)\u001B[0m \u001B[1;33m->\u001B[0m \u001B[0mRoot\u001B[0m\u001B[1;33m:\u001B[0m\u001B[1;33m\u001B[0m\u001B[1;33m\u001B[0m\u001B[0m\n\u001B[0;32m    224\u001B[0m         \u001B[1;32mif\u001B[0m \u001B[0mself\u001B[0m\u001B[1;33m.\u001B[0m\u001B[0m_report\u001B[0m \u001B[1;32mis\u001B[0m \u001B[1;32mNone\u001B[0m\u001B[1;33m:\u001B[0m\u001B[1;33m\u001B[0m\u001B[1;33m\u001B[0m\u001B[0m\n\u001B[1;32m--> 225\u001B[1;33m             \u001B[0mself\u001B[0m\u001B[1;33m.\u001B[0m\u001B[0m_report\u001B[0m \u001B[1;33m=\u001B[0m \u001B[0mget_report_structure\u001B[0m\u001B[1;33m(\u001B[0m\u001B[0mself\u001B[0m\u001B[1;33m.\u001B[0m\u001B[0mconfig\u001B[0m\u001B[1;33m,\u001B[0m \u001B[0mself\u001B[0m\u001B[1;33m.\u001B[0m\u001B[0mdescription_set\u001B[0m\u001B[1;33m)\u001B[0m\u001B[1;33m\u001B[0m\u001B[1;33m\u001B[0m\u001B[0m\n\u001B[0m\u001B[0;32m    226\u001B[0m         \u001B[1;32mreturn\u001B[0m \u001B[0mself\u001B[0m\u001B[1;33m.\u001B[0m\u001B[0m_report\u001B[0m\u001B[1;33m\u001B[0m\u001B[1;33m\u001B[0m\u001B[0m\n\u001B[0;32m    227\u001B[0m \u001B[1;33m\u001B[0m\u001B[0m\n",
      "\u001B[1;32m~\\anaconda3\\envs\\ml_env\\lib\\site-packages\\typeguard\\__init__.py\u001B[0m in \u001B[0;36mwrapper\u001B[1;34m(*args, **kwargs)\u001B[0m\n\u001B[0;32m   1031\u001B[0m         \u001B[0mmemo\u001B[0m \u001B[1;33m=\u001B[0m \u001B[0m_CallMemo\u001B[0m\u001B[1;33m(\u001B[0m\u001B[0mpython_func\u001B[0m\u001B[1;33m,\u001B[0m \u001B[0m_localns\u001B[0m\u001B[1;33m,\u001B[0m \u001B[0margs\u001B[0m\u001B[1;33m=\u001B[0m\u001B[0margs\u001B[0m\u001B[1;33m,\u001B[0m \u001B[0mkwargs\u001B[0m\u001B[1;33m=\u001B[0m\u001B[0mkwargs\u001B[0m\u001B[1;33m)\u001B[0m\u001B[1;33m\u001B[0m\u001B[1;33m\u001B[0m\u001B[0m\n\u001B[0;32m   1032\u001B[0m         \u001B[0mcheck_argument_types\u001B[0m\u001B[1;33m(\u001B[0m\u001B[0mmemo\u001B[0m\u001B[1;33m)\u001B[0m\u001B[1;33m\u001B[0m\u001B[1;33m\u001B[0m\u001B[0m\n\u001B[1;32m-> 1033\u001B[1;33m         \u001B[0mretval\u001B[0m \u001B[1;33m=\u001B[0m \u001B[0mfunc\u001B[0m\u001B[1;33m(\u001B[0m\u001B[1;33m*\u001B[0m\u001B[0margs\u001B[0m\u001B[1;33m,\u001B[0m \u001B[1;33m**\u001B[0m\u001B[0mkwargs\u001B[0m\u001B[1;33m)\u001B[0m\u001B[1;33m\u001B[0m\u001B[1;33m\u001B[0m\u001B[0m\n\u001B[0m\u001B[0;32m   1034\u001B[0m         \u001B[1;32mtry\u001B[0m\u001B[1;33m:\u001B[0m\u001B[1;33m\u001B[0m\u001B[1;33m\u001B[0m\u001B[0m\n\u001B[0;32m   1035\u001B[0m             \u001B[0mcheck_return_type\u001B[0m\u001B[1;33m(\u001B[0m\u001B[0mretval\u001B[0m\u001B[1;33m,\u001B[0m \u001B[0mmemo\u001B[0m\u001B[1;33m)\u001B[0m\u001B[1;33m\u001B[0m\u001B[1;33m\u001B[0m\u001B[0m\n",
      "\u001B[1;32m~\\anaconda3\\envs\\ml_env\\lib\\site-packages\\pandas_profiling\\profile_report.py\u001B[0m in \u001B[0;36mdescription_set\u001B[1;34m(self)\u001B[0m\n\u001B[0;32m    210\u001B[0m                 \u001B[0mself\u001B[0m\u001B[1;33m.\u001B[0m\u001B[0msummarizer\u001B[0m\u001B[1;33m,\u001B[0m\u001B[1;33m\u001B[0m\u001B[1;33m\u001B[0m\u001B[0m\n\u001B[0;32m    211\u001B[0m                 \u001B[0mself\u001B[0m\u001B[1;33m.\u001B[0m\u001B[0mtypeset\u001B[0m\u001B[1;33m,\u001B[0m\u001B[1;33m\u001B[0m\u001B[1;33m\u001B[0m\u001B[0m\n\u001B[1;32m--> 212\u001B[1;33m                 \u001B[0mself\u001B[0m\u001B[1;33m.\u001B[0m\u001B[0m_sample\u001B[0m\u001B[1;33m,\u001B[0m\u001B[1;33m\u001B[0m\u001B[1;33m\u001B[0m\u001B[0m\n\u001B[0m\u001B[0;32m    213\u001B[0m             )\n\u001B[0;32m    214\u001B[0m         \u001B[1;32mreturn\u001B[0m \u001B[0mself\u001B[0m\u001B[1;33m.\u001B[0m\u001B[0m_description_set\u001B[0m\u001B[1;33m\u001B[0m\u001B[1;33m\u001B[0m\u001B[0m\n",
      "\u001B[1;32m~\\anaconda3\\envs\\ml_env\\lib\\site-packages\\pandas_profiling\\model\\describe.py\u001B[0m in \u001B[0;36mdescribe\u001B[1;34m(config, df, summarizer, typeset, sample)\u001B[0m\n\u001B[0;32m     70\u001B[0m         \u001B[0mpbar\u001B[0m\u001B[1;33m.\u001B[0m\u001B[0mtotal\u001B[0m \u001B[1;33m+=\u001B[0m \u001B[0mlen\u001B[0m\u001B[1;33m(\u001B[0m\u001B[0mdf\u001B[0m\u001B[1;33m.\u001B[0m\u001B[0mcolumns\u001B[0m\u001B[1;33m)\u001B[0m\u001B[1;33m\u001B[0m\u001B[1;33m\u001B[0m\u001B[0m\n\u001B[0;32m     71\u001B[0m         series_description = get_series_descriptions(\n\u001B[1;32m---> 72\u001B[1;33m             \u001B[0mconfig\u001B[0m\u001B[1;33m,\u001B[0m \u001B[0mdf\u001B[0m\u001B[1;33m,\u001B[0m \u001B[0msummarizer\u001B[0m\u001B[1;33m,\u001B[0m \u001B[0mtypeset\u001B[0m\u001B[1;33m,\u001B[0m \u001B[0mpbar\u001B[0m\u001B[1;33m\u001B[0m\u001B[1;33m\u001B[0m\u001B[0m\n\u001B[0m\u001B[0;32m     73\u001B[0m         )\n\u001B[0;32m     74\u001B[0m \u001B[1;33m\u001B[0m\u001B[0m\n",
      "\u001B[1;32m~\\anaconda3\\envs\\ml_env\\lib\\site-packages\\multimethod\\__init__.py\u001B[0m in \u001B[0;36m__call__\u001B[1;34m(self, *args, **kwargs)\u001B[0m\n\u001B[0;32m    313\u001B[0m         \u001B[0mfunc\u001B[0m \u001B[1;33m=\u001B[0m \u001B[0mself\u001B[0m\u001B[1;33m[\u001B[0m\u001B[0mtuple\u001B[0m\u001B[1;33m(\u001B[0m\u001B[0mfunc\u001B[0m\u001B[1;33m(\u001B[0m\u001B[0marg\u001B[0m\u001B[1;33m)\u001B[0m \u001B[1;32mfor\u001B[0m \u001B[0mfunc\u001B[0m\u001B[1;33m,\u001B[0m \u001B[0marg\u001B[0m \u001B[1;32min\u001B[0m \u001B[0mzip\u001B[0m\u001B[1;33m(\u001B[0m\u001B[0mself\u001B[0m\u001B[1;33m.\u001B[0m\u001B[0mtype_checkers\u001B[0m\u001B[1;33m,\u001B[0m \u001B[0margs\u001B[0m\u001B[1;33m)\u001B[0m\u001B[1;33m)\u001B[0m\u001B[1;33m]\u001B[0m\u001B[1;33m\u001B[0m\u001B[1;33m\u001B[0m\u001B[0m\n\u001B[0;32m    314\u001B[0m         \u001B[1;32mtry\u001B[0m\u001B[1;33m:\u001B[0m\u001B[1;33m\u001B[0m\u001B[1;33m\u001B[0m\u001B[0m\n\u001B[1;32m--> 315\u001B[1;33m             \u001B[1;32mreturn\u001B[0m \u001B[0mfunc\u001B[0m\u001B[1;33m(\u001B[0m\u001B[1;33m*\u001B[0m\u001B[0margs\u001B[0m\u001B[1;33m,\u001B[0m \u001B[1;33m**\u001B[0m\u001B[0mkwargs\u001B[0m\u001B[1;33m)\u001B[0m\u001B[1;33m\u001B[0m\u001B[1;33m\u001B[0m\u001B[0m\n\u001B[0m\u001B[0;32m    316\u001B[0m         \u001B[1;32mexcept\u001B[0m \u001B[0mTypeError\u001B[0m \u001B[1;32mas\u001B[0m \u001B[0mex\u001B[0m\u001B[1;33m:\u001B[0m\u001B[1;33m\u001B[0m\u001B[1;33m\u001B[0m\u001B[0m\n\u001B[0;32m    317\u001B[0m             \u001B[1;32mraise\u001B[0m \u001B[0mDispatchError\u001B[0m\u001B[1;33m(\u001B[0m\u001B[1;34mf\"Function {func.__code__}\"\u001B[0m\u001B[1;33m)\u001B[0m \u001B[1;32mfrom\u001B[0m \u001B[0mex\u001B[0m\u001B[1;33m\u001B[0m\u001B[1;33m\u001B[0m\u001B[0m\n",
      "\u001B[1;32m~\\anaconda3\\envs\\ml_env\\lib\\site-packages\\pandas_profiling\\model\\pandas\\summary_pandas.py\u001B[0m in \u001B[0;36mpandas_get_series_descriptions\u001B[1;34m(config, df, summarizer, typeset, pbar)\u001B[0m\n\u001B[0;32m     91\u001B[0m         \u001B[1;32mwith\u001B[0m \u001B[0mmultiprocessing\u001B[0m\u001B[1;33m.\u001B[0m\u001B[0mpool\u001B[0m\u001B[1;33m.\u001B[0m\u001B[0mThreadPool\u001B[0m\u001B[1;33m(\u001B[0m\u001B[0mpool_size\u001B[0m\u001B[1;33m)\u001B[0m \u001B[1;32mas\u001B[0m \u001B[0mexecutor\u001B[0m\u001B[1;33m:\u001B[0m\u001B[1;33m\u001B[0m\u001B[1;33m\u001B[0m\u001B[0m\n\u001B[0;32m     92\u001B[0m             for i, (column, description) in enumerate(\n\u001B[1;32m---> 93\u001B[1;33m                 \u001B[0mexecutor\u001B[0m\u001B[1;33m.\u001B[0m\u001B[0mimap_unordered\u001B[0m\u001B[1;33m(\u001B[0m\u001B[0mmultiprocess_1d\u001B[0m\u001B[1;33m,\u001B[0m \u001B[0margs\u001B[0m\u001B[1;33m)\u001B[0m\u001B[1;33m\u001B[0m\u001B[1;33m\u001B[0m\u001B[0m\n\u001B[0m\u001B[0;32m     94\u001B[0m             ):\n\u001B[0;32m     95\u001B[0m                 \u001B[0mpbar\u001B[0m\u001B[1;33m.\u001B[0m\u001B[0mset_postfix_str\u001B[0m\u001B[1;33m(\u001B[0m\u001B[1;34mf\"Describe variable:{column}\"\u001B[0m\u001B[1;33m)\u001B[0m\u001B[1;33m\u001B[0m\u001B[1;33m\u001B[0m\u001B[0m\n",
      "\u001B[1;32m~\\anaconda3\\envs\\ml_env\\lib\\multiprocessing\\pool.py\u001B[0m in \u001B[0;36mnext\u001B[1;34m(self, timeout)\u001B[0m\n\u001B[0;32m    746\u001B[0m         \u001B[1;32mif\u001B[0m \u001B[0msuccess\u001B[0m\u001B[1;33m:\u001B[0m\u001B[1;33m\u001B[0m\u001B[1;33m\u001B[0m\u001B[0m\n\u001B[0;32m    747\u001B[0m             \u001B[1;32mreturn\u001B[0m \u001B[0mvalue\u001B[0m\u001B[1;33m\u001B[0m\u001B[1;33m\u001B[0m\u001B[0m\n\u001B[1;32m--> 748\u001B[1;33m         \u001B[1;32mraise\u001B[0m \u001B[0mvalue\u001B[0m\u001B[1;33m\u001B[0m\u001B[1;33m\u001B[0m\u001B[0m\n\u001B[0m\u001B[0;32m    749\u001B[0m \u001B[1;33m\u001B[0m\u001B[0m\n\u001B[0;32m    750\u001B[0m     \u001B[0m__next__\u001B[0m \u001B[1;33m=\u001B[0m \u001B[0mnext\u001B[0m                    \u001B[1;31m# XXX\u001B[0m\u001B[1;33m\u001B[0m\u001B[1;33m\u001B[0m\u001B[0m\n",
      "\u001B[1;32m~\\anaconda3\\envs\\ml_env\\lib\\multiprocessing\\pool.py\u001B[0m in \u001B[0;36mworker\u001B[1;34m(inqueue, outqueue, initializer, initargs, maxtasks, wrap_exception)\u001B[0m\n\u001B[0;32m    119\u001B[0m         \u001B[0mjob\u001B[0m\u001B[1;33m,\u001B[0m \u001B[0mi\u001B[0m\u001B[1;33m,\u001B[0m \u001B[0mfunc\u001B[0m\u001B[1;33m,\u001B[0m \u001B[0margs\u001B[0m\u001B[1;33m,\u001B[0m \u001B[0mkwds\u001B[0m \u001B[1;33m=\u001B[0m \u001B[0mtask\u001B[0m\u001B[1;33m\u001B[0m\u001B[1;33m\u001B[0m\u001B[0m\n\u001B[0;32m    120\u001B[0m         \u001B[1;32mtry\u001B[0m\u001B[1;33m:\u001B[0m\u001B[1;33m\u001B[0m\u001B[1;33m\u001B[0m\u001B[0m\n\u001B[1;32m--> 121\u001B[1;33m             \u001B[0mresult\u001B[0m \u001B[1;33m=\u001B[0m \u001B[1;33m(\u001B[0m\u001B[1;32mTrue\u001B[0m\u001B[1;33m,\u001B[0m \u001B[0mfunc\u001B[0m\u001B[1;33m(\u001B[0m\u001B[1;33m*\u001B[0m\u001B[0margs\u001B[0m\u001B[1;33m,\u001B[0m \u001B[1;33m**\u001B[0m\u001B[0mkwds\u001B[0m\u001B[1;33m)\u001B[0m\u001B[1;33m)\u001B[0m\u001B[1;33m\u001B[0m\u001B[1;33m\u001B[0m\u001B[0m\n\u001B[0m\u001B[0;32m    122\u001B[0m         \u001B[1;32mexcept\u001B[0m \u001B[0mException\u001B[0m \u001B[1;32mas\u001B[0m \u001B[0me\u001B[0m\u001B[1;33m:\u001B[0m\u001B[1;33m\u001B[0m\u001B[1;33m\u001B[0m\u001B[0m\n\u001B[0;32m    123\u001B[0m             \u001B[1;32mif\u001B[0m \u001B[0mwrap_exception\u001B[0m \u001B[1;32mand\u001B[0m \u001B[0mfunc\u001B[0m \u001B[1;32mis\u001B[0m \u001B[1;32mnot\u001B[0m \u001B[0m_helper_reraises_exception\u001B[0m\u001B[1;33m:\u001B[0m\u001B[1;33m\u001B[0m\u001B[1;33m\u001B[0m\u001B[0m\n",
      "\u001B[1;32m~\\anaconda3\\envs\\ml_env\\lib\\site-packages\\pandas_profiling\\model\\pandas\\summary_pandas.py\u001B[0m in \u001B[0;36mmultiprocess_1d\u001B[1;34m(args)\u001B[0m\n\u001B[0;32m     70\u001B[0m         \"\"\"\n\u001B[0;32m     71\u001B[0m         \u001B[0mcolumn\u001B[0m\u001B[1;33m,\u001B[0m \u001B[0mseries\u001B[0m \u001B[1;33m=\u001B[0m \u001B[0margs\u001B[0m\u001B[1;33m\u001B[0m\u001B[1;33m\u001B[0m\u001B[0m\n\u001B[1;32m---> 72\u001B[1;33m         \u001B[1;32mreturn\u001B[0m \u001B[0mcolumn\u001B[0m\u001B[1;33m,\u001B[0m \u001B[0mdescribe_1d\u001B[0m\u001B[1;33m(\u001B[0m\u001B[0mconfig\u001B[0m\u001B[1;33m,\u001B[0m \u001B[0mseries\u001B[0m\u001B[1;33m,\u001B[0m \u001B[0msummarizer\u001B[0m\u001B[1;33m,\u001B[0m \u001B[0mtypeset\u001B[0m\u001B[1;33m)\u001B[0m\u001B[1;33m\u001B[0m\u001B[1;33m\u001B[0m\u001B[0m\n\u001B[0m\u001B[0;32m     73\u001B[0m \u001B[1;33m\u001B[0m\u001B[0m\n\u001B[0;32m     74\u001B[0m     \u001B[0mpool_size\u001B[0m \u001B[1;33m=\u001B[0m \u001B[0mconfig\u001B[0m\u001B[1;33m.\u001B[0m\u001B[0mpool_size\u001B[0m\u001B[1;33m\u001B[0m\u001B[1;33m\u001B[0m\u001B[0m\n",
      "\u001B[1;32m~\\anaconda3\\envs\\ml_env\\lib\\site-packages\\multimethod\\__init__.py\u001B[0m in \u001B[0;36m__call__\u001B[1;34m(self, *args, **kwargs)\u001B[0m\n\u001B[0;32m    313\u001B[0m         \u001B[0mfunc\u001B[0m \u001B[1;33m=\u001B[0m \u001B[0mself\u001B[0m\u001B[1;33m[\u001B[0m\u001B[0mtuple\u001B[0m\u001B[1;33m(\u001B[0m\u001B[0mfunc\u001B[0m\u001B[1;33m(\u001B[0m\u001B[0marg\u001B[0m\u001B[1;33m)\u001B[0m \u001B[1;32mfor\u001B[0m \u001B[0mfunc\u001B[0m\u001B[1;33m,\u001B[0m \u001B[0marg\u001B[0m \u001B[1;32min\u001B[0m \u001B[0mzip\u001B[0m\u001B[1;33m(\u001B[0m\u001B[0mself\u001B[0m\u001B[1;33m.\u001B[0m\u001B[0mtype_checkers\u001B[0m\u001B[1;33m,\u001B[0m \u001B[0margs\u001B[0m\u001B[1;33m)\u001B[0m\u001B[1;33m)\u001B[0m\u001B[1;33m]\u001B[0m\u001B[1;33m\u001B[0m\u001B[1;33m\u001B[0m\u001B[0m\n\u001B[0;32m    314\u001B[0m         \u001B[1;32mtry\u001B[0m\u001B[1;33m:\u001B[0m\u001B[1;33m\u001B[0m\u001B[1;33m\u001B[0m\u001B[0m\n\u001B[1;32m--> 315\u001B[1;33m             \u001B[1;32mreturn\u001B[0m \u001B[0mfunc\u001B[0m\u001B[1;33m(\u001B[0m\u001B[1;33m*\u001B[0m\u001B[0margs\u001B[0m\u001B[1;33m,\u001B[0m \u001B[1;33m**\u001B[0m\u001B[0mkwargs\u001B[0m\u001B[1;33m)\u001B[0m\u001B[1;33m\u001B[0m\u001B[1;33m\u001B[0m\u001B[0m\n\u001B[0m\u001B[0;32m    316\u001B[0m         \u001B[1;32mexcept\u001B[0m \u001B[0mTypeError\u001B[0m \u001B[1;32mas\u001B[0m \u001B[0mex\u001B[0m\u001B[1;33m:\u001B[0m\u001B[1;33m\u001B[0m\u001B[1;33m\u001B[0m\u001B[0m\n\u001B[0;32m    317\u001B[0m             \u001B[1;32mraise\u001B[0m \u001B[0mDispatchError\u001B[0m\u001B[1;33m(\u001B[0m\u001B[1;34mf\"Function {func.__code__}\"\u001B[0m\u001B[1;33m)\u001B[0m \u001B[1;32mfrom\u001B[0m \u001B[0mex\u001B[0m\u001B[1;33m\u001B[0m\u001B[1;33m\u001B[0m\u001B[0m\n",
      "\u001B[1;32m~\\anaconda3\\envs\\ml_env\\lib\\site-packages\\pandas_profiling\\model\\pandas\\summary_pandas.py\u001B[0m in \u001B[0;36mpandas_describe_1d\u001B[1;34m(config, series, summarizer, typeset)\u001B[0m\n\u001B[0;32m     48\u001B[0m         \u001B[0mvtype\u001B[0m \u001B[1;33m=\u001B[0m \u001B[0mtypeset\u001B[0m\u001B[1;33m.\u001B[0m\u001B[0mdetect_type\u001B[0m\u001B[1;33m(\u001B[0m\u001B[0mseries\u001B[0m\u001B[1;33m)\u001B[0m\u001B[1;33m\u001B[0m\u001B[1;33m\u001B[0m\u001B[0m\n\u001B[0;32m     49\u001B[0m \u001B[1;33m\u001B[0m\u001B[0m\n\u001B[1;32m---> 50\u001B[1;33m     \u001B[1;32mreturn\u001B[0m \u001B[0msummarizer\u001B[0m\u001B[1;33m.\u001B[0m\u001B[0msummarize\u001B[0m\u001B[1;33m(\u001B[0m\u001B[0mconfig\u001B[0m\u001B[1;33m,\u001B[0m \u001B[0mseries\u001B[0m\u001B[1;33m,\u001B[0m \u001B[0mdtype\u001B[0m\u001B[1;33m=\u001B[0m\u001B[0mvtype\u001B[0m\u001B[1;33m)\u001B[0m\u001B[1;33m\u001B[0m\u001B[1;33m\u001B[0m\u001B[0m\n\u001B[0m\u001B[0;32m     51\u001B[0m \u001B[1;33m\u001B[0m\u001B[0m\n\u001B[0;32m     52\u001B[0m \u001B[1;33m\u001B[0m\u001B[0m\n",
      "\u001B[1;32m~\\anaconda3\\envs\\ml_env\\lib\\site-packages\\pandas_profiling\\model\\summarizer.py\u001B[0m in \u001B[0;36msummarize\u001B[1;34m(self, config, series, dtype)\u001B[0m\n\u001B[0;32m     37\u001B[0m             \u001B[0mobject\u001B[0m\u001B[1;33m:\u001B[0m\u001B[1;33m\u001B[0m\u001B[1;33m\u001B[0m\u001B[0m\n\u001B[0;32m     38\u001B[0m         \"\"\"\n\u001B[1;32m---> 39\u001B[1;33m         \u001B[0m_\u001B[0m\u001B[1;33m,\u001B[0m \u001B[0m_\u001B[0m\u001B[1;33m,\u001B[0m \u001B[0msummary\u001B[0m \u001B[1;33m=\u001B[0m \u001B[0mself\u001B[0m\u001B[1;33m.\u001B[0m\u001B[0mhandle\u001B[0m\u001B[1;33m(\u001B[0m\u001B[0mstr\u001B[0m\u001B[1;33m(\u001B[0m\u001B[0mdtype\u001B[0m\u001B[1;33m)\u001B[0m\u001B[1;33m,\u001B[0m \u001B[0mconfig\u001B[0m\u001B[1;33m,\u001B[0m \u001B[0mseries\u001B[0m\u001B[1;33m,\u001B[0m \u001B[1;33m{\u001B[0m\u001B[1;34m\"type\"\u001B[0m\u001B[1;33m:\u001B[0m \u001B[0mstr\u001B[0m\u001B[1;33m(\u001B[0m\u001B[0mdtype\u001B[0m\u001B[1;33m)\u001B[0m\u001B[1;33m}\u001B[0m\u001B[1;33m)\u001B[0m\u001B[1;33m\u001B[0m\u001B[1;33m\u001B[0m\u001B[0m\n\u001B[0m\u001B[0;32m     40\u001B[0m         \u001B[1;32mreturn\u001B[0m \u001B[0msummary\u001B[0m\u001B[1;33m\u001B[0m\u001B[1;33m\u001B[0m\u001B[0m\n\u001B[0;32m     41\u001B[0m \u001B[1;33m\u001B[0m\u001B[0m\n",
      "\u001B[1;32m~\\anaconda3\\envs\\ml_env\\lib\\site-packages\\pandas_profiling\\model\\handler.py\u001B[0m in \u001B[0;36mhandle\u001B[1;34m(self, dtype, *args, **kwargs)\u001B[0m\n\u001B[0;32m     60\u001B[0m         \u001B[0mfuncs\u001B[0m \u001B[1;33m=\u001B[0m \u001B[0mself\u001B[0m\u001B[1;33m.\u001B[0m\u001B[0mmapping\u001B[0m\u001B[1;33m.\u001B[0m\u001B[0mget\u001B[0m\u001B[1;33m(\u001B[0m\u001B[0mdtype\u001B[0m\u001B[1;33m,\u001B[0m \u001B[1;33m[\u001B[0m\u001B[1;33m]\u001B[0m\u001B[1;33m)\u001B[0m\u001B[1;33m\u001B[0m\u001B[1;33m\u001B[0m\u001B[0m\n\u001B[0;32m     61\u001B[0m         \u001B[0mop\u001B[0m \u001B[1;33m=\u001B[0m \u001B[0mcompose\u001B[0m\u001B[1;33m(\u001B[0m\u001B[0mfuncs\u001B[0m\u001B[1;33m)\u001B[0m\u001B[1;33m\u001B[0m\u001B[1;33m\u001B[0m\u001B[0m\n\u001B[1;32m---> 62\u001B[1;33m         \u001B[1;32mreturn\u001B[0m \u001B[0mop\u001B[0m\u001B[1;33m(\u001B[0m\u001B[1;33m*\u001B[0m\u001B[0margs\u001B[0m\u001B[1;33m)\u001B[0m\u001B[1;33m\u001B[0m\u001B[1;33m\u001B[0m\u001B[0m\n\u001B[0m\u001B[0;32m     63\u001B[0m \u001B[1;33m\u001B[0m\u001B[0m\n\u001B[0;32m     64\u001B[0m \u001B[1;33m\u001B[0m\u001B[0m\n",
      "\u001B[1;32m~\\anaconda3\\envs\\ml_env\\lib\\site-packages\\pandas_profiling\\model\\handler.py\u001B[0m in \u001B[0;36mfunc2\u001B[1;34m(*x)\u001B[0m\n\u001B[0;32m     19\u001B[0m                 \u001B[1;32mreturn\u001B[0m \u001B[0mf\u001B[0m\u001B[1;33m(\u001B[0m\u001B[1;33m*\u001B[0m\u001B[0mx\u001B[0m\u001B[1;33m)\u001B[0m\u001B[1;33m\u001B[0m\u001B[1;33m\u001B[0m\u001B[0m\n\u001B[0;32m     20\u001B[0m             \u001B[1;32melse\u001B[0m\u001B[1;33m:\u001B[0m\u001B[1;33m\u001B[0m\u001B[1;33m\u001B[0m\u001B[0m\n\u001B[1;32m---> 21\u001B[1;33m                 \u001B[1;32mreturn\u001B[0m \u001B[0mf\u001B[0m\u001B[1;33m(\u001B[0m\u001B[1;33m*\u001B[0m\u001B[0mres\u001B[0m\u001B[1;33m)\u001B[0m\u001B[1;33m\u001B[0m\u001B[1;33m\u001B[0m\u001B[0m\n\u001B[0m\u001B[0;32m     22\u001B[0m \u001B[1;33m\u001B[0m\u001B[0m\n\u001B[0;32m     23\u001B[0m         \u001B[1;32mreturn\u001B[0m \u001B[0mfunc2\u001B[0m\u001B[1;33m\u001B[0m\u001B[1;33m\u001B[0m\u001B[0m\n",
      "\u001B[1;32m~\\anaconda3\\envs\\ml_env\\lib\\site-packages\\pandas_profiling\\model\\handler.py\u001B[0m in \u001B[0;36mfunc2\u001B[1;34m(*x)\u001B[0m\n\u001B[0;32m     19\u001B[0m                 \u001B[1;32mreturn\u001B[0m \u001B[0mf\u001B[0m\u001B[1;33m(\u001B[0m\u001B[1;33m*\u001B[0m\u001B[0mx\u001B[0m\u001B[1;33m)\u001B[0m\u001B[1;33m\u001B[0m\u001B[1;33m\u001B[0m\u001B[0m\n\u001B[0;32m     20\u001B[0m             \u001B[1;32melse\u001B[0m\u001B[1;33m:\u001B[0m\u001B[1;33m\u001B[0m\u001B[1;33m\u001B[0m\u001B[0m\n\u001B[1;32m---> 21\u001B[1;33m                 \u001B[1;32mreturn\u001B[0m \u001B[0mf\u001B[0m\u001B[1;33m(\u001B[0m\u001B[1;33m*\u001B[0m\u001B[0mres\u001B[0m\u001B[1;33m)\u001B[0m\u001B[1;33m\u001B[0m\u001B[1;33m\u001B[0m\u001B[0m\n\u001B[0m\u001B[0;32m     22\u001B[0m \u001B[1;33m\u001B[0m\u001B[0m\n\u001B[0;32m     23\u001B[0m         \u001B[1;32mreturn\u001B[0m \u001B[0mfunc2\u001B[0m\u001B[1;33m\u001B[0m\u001B[1;33m\u001B[0m\u001B[0m\n",
      "\u001B[1;32m~\\anaconda3\\envs\\ml_env\\lib\\site-packages\\pandas_profiling\\model\\handler.py\u001B[0m in \u001B[0;36mfunc2\u001B[1;34m(*x)\u001B[0m\n\u001B[0;32m     19\u001B[0m                 \u001B[1;32mreturn\u001B[0m \u001B[0mf\u001B[0m\u001B[1;33m(\u001B[0m\u001B[1;33m*\u001B[0m\u001B[0mx\u001B[0m\u001B[1;33m)\u001B[0m\u001B[1;33m\u001B[0m\u001B[1;33m\u001B[0m\u001B[0m\n\u001B[0;32m     20\u001B[0m             \u001B[1;32melse\u001B[0m\u001B[1;33m:\u001B[0m\u001B[1;33m\u001B[0m\u001B[1;33m\u001B[0m\u001B[0m\n\u001B[1;32m---> 21\u001B[1;33m                 \u001B[1;32mreturn\u001B[0m \u001B[0mf\u001B[0m\u001B[1;33m(\u001B[0m\u001B[1;33m*\u001B[0m\u001B[0mres\u001B[0m\u001B[1;33m)\u001B[0m\u001B[1;33m\u001B[0m\u001B[1;33m\u001B[0m\u001B[0m\n\u001B[0m\u001B[0;32m     22\u001B[0m \u001B[1;33m\u001B[0m\u001B[0m\n\u001B[0;32m     23\u001B[0m         \u001B[1;32mreturn\u001B[0m \u001B[0mfunc2\u001B[0m\u001B[1;33m\u001B[0m\u001B[1;33m\u001B[0m\u001B[0m\n",
      "\u001B[1;32m~\\anaconda3\\envs\\ml_env\\lib\\site-packages\\pandas_profiling\\model\\handler.py\u001B[0m in \u001B[0;36mfunc2\u001B[1;34m(*x)\u001B[0m\n\u001B[0;32m     15\u001B[0m     \u001B[1;32mdef\u001B[0m \u001B[0mfunc\u001B[0m\u001B[1;33m(\u001B[0m\u001B[0mf\u001B[0m\u001B[1;33m:\u001B[0m \u001B[0mCallable\u001B[0m\u001B[1;33m,\u001B[0m \u001B[0mg\u001B[0m\u001B[1;33m:\u001B[0m \u001B[0mCallable\u001B[0m\u001B[1;33m)\u001B[0m \u001B[1;33m->\u001B[0m \u001B[0mCallable\u001B[0m\u001B[1;33m:\u001B[0m\u001B[1;33m\u001B[0m\u001B[1;33m\u001B[0m\u001B[0m\n\u001B[0;32m     16\u001B[0m         \u001B[1;32mdef\u001B[0m \u001B[0mfunc2\u001B[0m\u001B[1;33m(\u001B[0m\u001B[1;33m*\u001B[0m\u001B[0mx\u001B[0m\u001B[1;33m)\u001B[0m \u001B[1;33m->\u001B[0m \u001B[0mAny\u001B[0m\u001B[1;33m:\u001B[0m\u001B[1;33m\u001B[0m\u001B[1;33m\u001B[0m\u001B[0m\n\u001B[1;32m---> 17\u001B[1;33m             \u001B[0mres\u001B[0m \u001B[1;33m=\u001B[0m \u001B[0mg\u001B[0m\u001B[1;33m(\u001B[0m\u001B[1;33m*\u001B[0m\u001B[0mx\u001B[0m\u001B[1;33m)\u001B[0m\u001B[1;33m\u001B[0m\u001B[1;33m\u001B[0m\u001B[0m\n\u001B[0m\u001B[0;32m     18\u001B[0m             \u001B[1;32mif\u001B[0m \u001B[0mtype\u001B[0m\u001B[1;33m(\u001B[0m\u001B[0mres\u001B[0m\u001B[1;33m)\u001B[0m \u001B[1;33m==\u001B[0m \u001B[0mbool\u001B[0m\u001B[1;33m:\u001B[0m\u001B[1;33m\u001B[0m\u001B[1;33m\u001B[0m\u001B[0m\n\u001B[0;32m     19\u001B[0m                 \u001B[1;32mreturn\u001B[0m \u001B[0mf\u001B[0m\u001B[1;33m(\u001B[0m\u001B[1;33m*\u001B[0m\u001B[0mx\u001B[0m\u001B[1;33m)\u001B[0m\u001B[1;33m\u001B[0m\u001B[1;33m\u001B[0m\u001B[0m\n",
      "\u001B[1;32m~\\anaconda3\\envs\\ml_env\\lib\\site-packages\\multimethod\\__init__.py\u001B[0m in \u001B[0;36m__call__\u001B[1;34m(self, *args, **kwargs)\u001B[0m\n\u001B[0;32m    313\u001B[0m         \u001B[0mfunc\u001B[0m \u001B[1;33m=\u001B[0m \u001B[0mself\u001B[0m\u001B[1;33m[\u001B[0m\u001B[0mtuple\u001B[0m\u001B[1;33m(\u001B[0m\u001B[0mfunc\u001B[0m\u001B[1;33m(\u001B[0m\u001B[0marg\u001B[0m\u001B[1;33m)\u001B[0m \u001B[1;32mfor\u001B[0m \u001B[0mfunc\u001B[0m\u001B[1;33m,\u001B[0m \u001B[0marg\u001B[0m \u001B[1;32min\u001B[0m \u001B[0mzip\u001B[0m\u001B[1;33m(\u001B[0m\u001B[0mself\u001B[0m\u001B[1;33m.\u001B[0m\u001B[0mtype_checkers\u001B[0m\u001B[1;33m,\u001B[0m \u001B[0margs\u001B[0m\u001B[1;33m)\u001B[0m\u001B[1;33m)\u001B[0m\u001B[1;33m]\u001B[0m\u001B[1;33m\u001B[0m\u001B[1;33m\u001B[0m\u001B[0m\n\u001B[0;32m    314\u001B[0m         \u001B[1;32mtry\u001B[0m\u001B[1;33m:\u001B[0m\u001B[1;33m\u001B[0m\u001B[1;33m\u001B[0m\u001B[0m\n\u001B[1;32m--> 315\u001B[1;33m             \u001B[1;32mreturn\u001B[0m \u001B[0mfunc\u001B[0m\u001B[1;33m(\u001B[0m\u001B[1;33m*\u001B[0m\u001B[0margs\u001B[0m\u001B[1;33m,\u001B[0m \u001B[1;33m**\u001B[0m\u001B[0mkwargs\u001B[0m\u001B[1;33m)\u001B[0m\u001B[1;33m\u001B[0m\u001B[1;33m\u001B[0m\u001B[0m\n\u001B[0m\u001B[0;32m    316\u001B[0m         \u001B[1;32mexcept\u001B[0m \u001B[0mTypeError\u001B[0m \u001B[1;32mas\u001B[0m \u001B[0mex\u001B[0m\u001B[1;33m:\u001B[0m\u001B[1;33m\u001B[0m\u001B[1;33m\u001B[0m\u001B[0m\n\u001B[0;32m    317\u001B[0m             \u001B[1;32mraise\u001B[0m \u001B[0mDispatchError\u001B[0m\u001B[1;33m(\u001B[0m\u001B[1;34mf\"Function {func.__code__}\"\u001B[0m\u001B[1;33m)\u001B[0m \u001B[1;32mfrom\u001B[0m \u001B[0mex\u001B[0m\u001B[1;33m\u001B[0m\u001B[1;33m\u001B[0m\u001B[0m\n",
      "\u001B[1;32m~\\anaconda3\\envs\\ml_env\\lib\\site-packages\\pandas_profiling\\model\\summary_algorithms.py\u001B[0m in \u001B[0;36minner\u001B[1;34m(config, series, summary)\u001B[0m\n\u001B[0;32m     63\u001B[0m         \u001B[1;32mif\u001B[0m \u001B[1;32mnot\u001B[0m \u001B[0msummary\u001B[0m\u001B[1;33m[\u001B[0m\u001B[1;34m\"hashable\"\u001B[0m\u001B[1;33m]\u001B[0m\u001B[1;33m:\u001B[0m\u001B[1;33m\u001B[0m\u001B[1;33m\u001B[0m\u001B[0m\n\u001B[0;32m     64\u001B[0m             \u001B[1;32mreturn\u001B[0m \u001B[0mconfig\u001B[0m\u001B[1;33m,\u001B[0m \u001B[0mseries\u001B[0m\u001B[1;33m,\u001B[0m \u001B[0msummary\u001B[0m\u001B[1;33m\u001B[0m\u001B[1;33m\u001B[0m\u001B[0m\n\u001B[1;32m---> 65\u001B[1;33m         \u001B[1;32mreturn\u001B[0m \u001B[0mfn\u001B[0m\u001B[1;33m(\u001B[0m\u001B[0mconfig\u001B[0m\u001B[1;33m,\u001B[0m \u001B[0mseries\u001B[0m\u001B[1;33m,\u001B[0m \u001B[0msummary\u001B[0m\u001B[1;33m)\u001B[0m\u001B[1;33m\u001B[0m\u001B[1;33m\u001B[0m\u001B[0m\n\u001B[0m\u001B[0;32m     66\u001B[0m \u001B[1;33m\u001B[0m\u001B[0m\n\u001B[0;32m     67\u001B[0m     \u001B[1;32mreturn\u001B[0m \u001B[0minner\u001B[0m\u001B[1;33m\u001B[0m\u001B[1;33m\u001B[0m\u001B[0m\n",
      "\u001B[1;32m~\\anaconda3\\envs\\ml_env\\lib\\site-packages\\pandas_profiling\\model\\summary_algorithms.py\u001B[0m in \u001B[0;36minner\u001B[1;34m(config, series, summary)\u001B[0m\n\u001B[0;32m     80\u001B[0m             \u001B[0mseries\u001B[0m \u001B[1;33m=\u001B[0m \u001B[0mseries\u001B[0m\u001B[1;33m.\u001B[0m\u001B[0mdropna\u001B[0m\u001B[1;33m(\u001B[0m\u001B[1;33m)\u001B[0m\u001B[1;33m\u001B[0m\u001B[1;33m\u001B[0m\u001B[0m\n\u001B[0;32m     81\u001B[0m \u001B[1;33m\u001B[0m\u001B[0m\n\u001B[1;32m---> 82\u001B[1;33m         \u001B[1;32mreturn\u001B[0m \u001B[0mfn\u001B[0m\u001B[1;33m(\u001B[0m\u001B[0mconfig\u001B[0m\u001B[1;33m,\u001B[0m \u001B[0mseries\u001B[0m\u001B[1;33m,\u001B[0m \u001B[0msummary\u001B[0m\u001B[1;33m)\u001B[0m\u001B[1;33m\u001B[0m\u001B[1;33m\u001B[0m\u001B[0m\n\u001B[0m\u001B[0;32m     83\u001B[0m \u001B[1;33m\u001B[0m\u001B[0m\n\u001B[0;32m     84\u001B[0m     \u001B[1;32mreturn\u001B[0m \u001B[0minner\u001B[0m\u001B[1;33m\u001B[0m\u001B[1;33m\u001B[0m\u001B[0m\n",
      "\u001B[1;32m~\\anaconda3\\envs\\ml_env\\lib\\site-packages\\pandas_profiling\\model\\pandas\\describe_numeric_pandas.py\u001B[0m in \u001B[0;36mpandas_describe_numeric_1d\u001B[1;34m(config, series, summary)\u001B[0m\n\u001B[0;32m    118\u001B[0m \u001B[1;33m\u001B[0m\u001B[0m\n\u001B[0;32m    119\u001B[0m     \u001B[1;32mif\u001B[0m \u001B[0mchi_squared_threshold\u001B[0m \u001B[1;33m>\u001B[0m \u001B[1;36m0.0\u001B[0m\u001B[1;33m:\u001B[0m\u001B[1;33m\u001B[0m\u001B[1;33m\u001B[0m\u001B[0m\n\u001B[1;32m--> 120\u001B[1;33m         \u001B[0mstats\u001B[0m\u001B[1;33m[\u001B[0m\u001B[1;34m\"chi_squared\"\u001B[0m\u001B[1;33m]\u001B[0m \u001B[1;33m=\u001B[0m \u001B[0mchi_square\u001B[0m\u001B[1;33m(\u001B[0m\u001B[0mfinite_values\u001B[0m\u001B[1;33m)\u001B[0m\u001B[1;33m\u001B[0m\u001B[1;33m\u001B[0m\u001B[0m\n\u001B[0m\u001B[0;32m    121\u001B[0m \u001B[1;33m\u001B[0m\u001B[0m\n\u001B[0;32m    122\u001B[0m     \u001B[0mstats\u001B[0m\u001B[1;33m[\u001B[0m\u001B[1;34m\"range\"\u001B[0m\u001B[1;33m]\u001B[0m \u001B[1;33m=\u001B[0m \u001B[0mstats\u001B[0m\u001B[1;33m[\u001B[0m\u001B[1;34m\"max\"\u001B[0m\u001B[1;33m]\u001B[0m \u001B[1;33m-\u001B[0m \u001B[0mstats\u001B[0m\u001B[1;33m[\u001B[0m\u001B[1;34m\"min\"\u001B[0m\u001B[1;33m]\u001B[0m\u001B[1;33m\u001B[0m\u001B[1;33m\u001B[0m\u001B[0m\n",
      "\u001B[1;32m~\\anaconda3\\envs\\ml_env\\lib\\site-packages\\pandas_profiling\\model\\summary_algorithms.py\u001B[0m in \u001B[0;36mchi_square\u001B[1;34m(values, histogram)\u001B[0m\n\u001B[0;32m     50\u001B[0m ) -> dict:\n\u001B[0;32m     51\u001B[0m     \u001B[1;32mif\u001B[0m \u001B[0mhistogram\u001B[0m \u001B[1;32mis\u001B[0m \u001B[1;32mNone\u001B[0m\u001B[1;33m:\u001B[0m\u001B[1;33m\u001B[0m\u001B[1;33m\u001B[0m\u001B[0m\n\u001B[1;32m---> 52\u001B[1;33m         \u001B[0mhistogram\u001B[0m\u001B[1;33m,\u001B[0m \u001B[0m_\u001B[0m \u001B[1;33m=\u001B[0m \u001B[0mnp\u001B[0m\u001B[1;33m.\u001B[0m\u001B[0mhistogram\u001B[0m\u001B[1;33m(\u001B[0m\u001B[0mvalues\u001B[0m\u001B[1;33m,\u001B[0m \u001B[0mbins\u001B[0m\u001B[1;33m=\u001B[0m\u001B[1;34m\"auto\"\u001B[0m\u001B[1;33m)\u001B[0m\u001B[1;33m\u001B[0m\u001B[1;33m\u001B[0m\u001B[0m\n\u001B[0m\u001B[0;32m     53\u001B[0m     \u001B[1;32mreturn\u001B[0m \u001B[0mdict\u001B[0m\u001B[1;33m(\u001B[0m\u001B[0mchisquare\u001B[0m\u001B[1;33m(\u001B[0m\u001B[0mhistogram\u001B[0m\u001B[1;33m)\u001B[0m\u001B[1;33m.\u001B[0m\u001B[0m_asdict\u001B[0m\u001B[1;33m(\u001B[0m\u001B[1;33m)\u001B[0m\u001B[1;33m)\u001B[0m\u001B[1;33m\u001B[0m\u001B[1;33m\u001B[0m\u001B[0m\n\u001B[0;32m     54\u001B[0m \u001B[1;33m\u001B[0m\u001B[0m\n",
      "\u001B[1;32m<__array_function__ internals>\u001B[0m in \u001B[0;36mhistogram\u001B[1;34m(*args, **kwargs)\u001B[0m\n",
      "\u001B[1;32m~\\AppData\\Roaming\\Python\\Python37\\site-packages\\numpy\\lib\\histograms.py\u001B[0m in \u001B[0;36mhistogram\u001B[1;34m(a, bins, range, normed, weights, density)\u001B[0m\n\u001B[0;32m    793\u001B[0m     \u001B[0ma\u001B[0m\u001B[1;33m,\u001B[0m \u001B[0mweights\u001B[0m \u001B[1;33m=\u001B[0m \u001B[0m_ravel_and_check_weights\u001B[0m\u001B[1;33m(\u001B[0m\u001B[0ma\u001B[0m\u001B[1;33m,\u001B[0m \u001B[0mweights\u001B[0m\u001B[1;33m)\u001B[0m\u001B[1;33m\u001B[0m\u001B[1;33m\u001B[0m\u001B[0m\n\u001B[0;32m    794\u001B[0m \u001B[1;33m\u001B[0m\u001B[0m\n\u001B[1;32m--> 795\u001B[1;33m     \u001B[0mbin_edges\u001B[0m\u001B[1;33m,\u001B[0m \u001B[0muniform_bins\u001B[0m \u001B[1;33m=\u001B[0m \u001B[0m_get_bin_edges\u001B[0m\u001B[1;33m(\u001B[0m\u001B[0ma\u001B[0m\u001B[1;33m,\u001B[0m \u001B[0mbins\u001B[0m\u001B[1;33m,\u001B[0m \u001B[0mrange\u001B[0m\u001B[1;33m,\u001B[0m \u001B[0mweights\u001B[0m\u001B[1;33m)\u001B[0m\u001B[1;33m\u001B[0m\u001B[1;33m\u001B[0m\u001B[0m\n\u001B[0m\u001B[0;32m    796\u001B[0m \u001B[1;33m\u001B[0m\u001B[0m\n\u001B[0;32m    797\u001B[0m     \u001B[1;31m# Histogram is an integer or a float array depending on the weights.\u001B[0m\u001B[1;33m\u001B[0m\u001B[1;33m\u001B[0m\u001B[1;33m\u001B[0m\u001B[0m\n",
      "\u001B[1;32m~\\AppData\\Roaming\\Python\\Python37\\site-packages\\numpy\\lib\\histograms.py\u001B[0m in \u001B[0;36m_get_bin_edges\u001B[1;34m(a, bins, range, weights)\u001B[0m\n\u001B[0;32m    449\u001B[0m         bin_edges = np.linspace(\n\u001B[0;32m    450\u001B[0m             \u001B[0mfirst_edge\u001B[0m\u001B[1;33m,\u001B[0m \u001B[0mlast_edge\u001B[0m\u001B[1;33m,\u001B[0m \u001B[0mn_equal_bins\u001B[0m \u001B[1;33m+\u001B[0m \u001B[1;36m1\u001B[0m\u001B[1;33m,\u001B[0m\u001B[1;33m\u001B[0m\u001B[1;33m\u001B[0m\u001B[0m\n\u001B[1;32m--> 451\u001B[1;33m             endpoint=True, dtype=bin_type)\n\u001B[0m\u001B[0;32m    452\u001B[0m         \u001B[1;32mreturn\u001B[0m \u001B[0mbin_edges\u001B[0m\u001B[1;33m,\u001B[0m \u001B[1;33m(\u001B[0m\u001B[0mfirst_edge\u001B[0m\u001B[1;33m,\u001B[0m \u001B[0mlast_edge\u001B[0m\u001B[1;33m,\u001B[0m \u001B[0mn_equal_bins\u001B[0m\u001B[1;33m)\u001B[0m\u001B[1;33m\u001B[0m\u001B[1;33m\u001B[0m\u001B[0m\n\u001B[0;32m    453\u001B[0m     \u001B[1;32melse\u001B[0m\u001B[1;33m:\u001B[0m\u001B[1;33m\u001B[0m\u001B[1;33m\u001B[0m\u001B[0m\n",
      "\u001B[1;32m<__array_function__ internals>\u001B[0m in \u001B[0;36mlinspace\u001B[1;34m(*args, **kwargs)\u001B[0m\n",
      "\u001B[1;32m~\\AppData\\Roaming\\Python\\Python37\\site-packages\\numpy\\core\\function_base.py\u001B[0m in \u001B[0;36mlinspace\u001B[1;34m(start, stop, num, endpoint, retstep, dtype, axis)\u001B[0m\n\u001B[0;32m    135\u001B[0m \u001B[1;33m\u001B[0m\u001B[0m\n\u001B[0;32m    136\u001B[0m     \u001B[0mdelta\u001B[0m \u001B[1;33m=\u001B[0m \u001B[0mstop\u001B[0m \u001B[1;33m-\u001B[0m \u001B[0mstart\u001B[0m\u001B[1;33m\u001B[0m\u001B[1;33m\u001B[0m\u001B[0m\n\u001B[1;32m--> 137\u001B[1;33m     \u001B[0my\u001B[0m \u001B[1;33m=\u001B[0m \u001B[0m_nx\u001B[0m\u001B[1;33m.\u001B[0m\u001B[0marange\u001B[0m\u001B[1;33m(\u001B[0m\u001B[1;36m0\u001B[0m\u001B[1;33m,\u001B[0m \u001B[0mnum\u001B[0m\u001B[1;33m,\u001B[0m \u001B[0mdtype\u001B[0m\u001B[1;33m=\u001B[0m\u001B[0mdt\u001B[0m\u001B[1;33m)\u001B[0m\u001B[1;33m.\u001B[0m\u001B[0mreshape\u001B[0m\u001B[1;33m(\u001B[0m\u001B[1;33m(\u001B[0m\u001B[1;33m-\u001B[0m\u001B[1;36m1\u001B[0m\u001B[1;33m,\u001B[0m\u001B[1;33m)\u001B[0m \u001B[1;33m+\u001B[0m \u001B[1;33m(\u001B[0m\u001B[1;36m1\u001B[0m\u001B[1;33m,\u001B[0m\u001B[1;33m)\u001B[0m \u001B[1;33m*\u001B[0m \u001B[0mndim\u001B[0m\u001B[1;33m(\u001B[0m\u001B[0mdelta\u001B[0m\u001B[1;33m)\u001B[0m\u001B[1;33m)\u001B[0m\u001B[1;33m\u001B[0m\u001B[1;33m\u001B[0m\u001B[0m\n\u001B[0m\u001B[0;32m    138\u001B[0m     \u001B[1;31m# In-place multiplication y *= delta/div is faster, but prevents the multiplicant\u001B[0m\u001B[1;33m\u001B[0m\u001B[1;33m\u001B[0m\u001B[1;33m\u001B[0m\u001B[0m\n\u001B[0;32m    139\u001B[0m     \u001B[1;31m# from overriding what class is produced, and thus prevents, e.g. use of Quantities,\u001B[0m\u001B[1;33m\u001B[0m\u001B[1;33m\u001B[0m\u001B[1;33m\u001B[0m\u001B[0m\n",
      "\u001B[1;31mMemoryError\u001B[0m: Unable to allocate 218. GiB for an array with shape (29321681636,) and data type float64"
     ]
    }
   ],
   "source": [
    "from pandas_profiling import ProfileReport\n",
    "\n",
    "profile = ProfileReport(workingDataFrame, title=newFileName)\n",
    "profile.to_file(newCsvPath + newFileName+ \".html\")"
   ],
   "metadata": {
    "collapsed": false
   }
  },
  {
   "cell_type": "code",
   "execution_count": 52,
   "outputs": [
    {
     "data": {
      "text/plain": "4578"
     },
     "execution_count": 52,
     "metadata": {},
     "output_type": "execute_result"
    }
   ],
   "source": [
    "import gc\n",
    "\n",
    "gc.collect()"
   ],
   "metadata": {
    "collapsed": false
   }
  },
  {
   "cell_type": "markdown",
   "source": [],
   "metadata": {
    "collapsed": false
   }
  }
 ],
 "metadata": {
  "kernelspec": {
   "display_name": "Python 3",
   "language": "python",
   "name": "python3"
  },
  "language_info": {
   "codemirror_mode": {
    "name": "ipython",
    "version": 2
   },
   "file_extension": ".py",
   "mimetype": "text/x-python",
   "name": "python",
   "nbconvert_exporter": "python",
   "pygments_lexer": "ipython2",
   "version": "2.7.6"
  }
 },
 "nbformat": 4,
 "nbformat_minor": 0
}

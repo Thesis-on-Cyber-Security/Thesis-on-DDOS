{
 "cells": [
  {
   "attachments": {},
   "cell_type": "markdown",
   "metadata": {},
   "source": [
    "<center><h2>\n",
    "<a href=\"https://rebrand.ly/github-of-masum\">Kindly visit my portfolio to see more of my works</a>\n",
    "</h2></center>"
   ]
  },
  {
   "cell_type": "code",
   "execution_count": null,
   "metadata": {
    "collapsed": true
   },
   "outputs": [],
   "source": [
    "# CSV-01-12\n",
    "path_DdoS_DNS = \"C:\\\\Thesis_Group_of_Brig_Gen_Razzak_Sir\\\\01-12\\\\DrDoS_DNS.csv\"\n",
    "path_DdoS_MSSQL = \"C:\\\\Thesis_Group_of_Brig_Gen_Razzak_Sir\\\\01-12\\\\DrDoS_MSSQL.csv\"\n",
    "path_DdoS_LDAP = \"C:\\\\Thesis_Group_of_Brig_Gen_Razzak_Sir\\\\01-12\\\\DrDoS_LDAP.csv\"\n",
    "path_DdoS_NTP = \"C:\\\\Thesis_Group_of_Brig_Gen_Razzak_Sir\\\\01-12\\\\DrDoS_NTP.csv\"\n",
    "path_DdoS_NetBIOS = \"C:\\\\Thesis_Group_of_Brig_Gen_Razzak_Sir\\\\01-12\\\\DrDoS_NetBIOS.csv\"\n",
    "path_DdoS_SNMP = \"C:\\\\Thesis_Group_of_Brig_Gen_Razzak_Sir\\\\01-12\\\\DrDoS_SNMP.csv\"\n",
    "path_DdoS_SSDP = \"C:\\\\Thesis_Group_of_Brig_Gen_Razzak_Sir\\\\01-12\\\\DrDoS_SSDP.csv\"\n",
    "path_DdoS_UDP = \"C:\\\\Thesis_Group_of_Brig_Gen_Razzak_Sir\\\\01-12\\\\DrDoS_UDP.csv\"\n",
    "path_Syn = \"C:\\\\Thesis_Group_of_Brig_Gen_Razzak_Sir\\\\01-12\\\\Syn.csv\"\n",
    "path_TFTP = \"C:\\\\Thesis_Group_of_Brig_Gen_Razzak_Sir\\\\01-12\\\\TFTP.csv\"\n",
    "path_UDPLag = \"C:\\\\Thesis_Group_of_Brig_Gen_Razzak_Sir\\\\01-12\\\\UDPLag.csv\"\n",
    "\n",
    "# # CSV-03-11\n",
    "# path__LDAP = \"C:\\\\Thesis_Group_of_Brig_Gen_Razzak_Sir\\\\03-11\\\\LDAP.csv\"\n",
    "# path__MSSQL = \"C:\\\\Thesis_Group_of_Brig_Gen_Razzak_Sir\\\\03-11\\\\MSSQL.csv\"\n",
    "# path__NetBIOS = \"C:\\\\Thesis_Group_of_Brig_Gen_Razzak_Sir\\\\03-11\\\\NetBIOS.csv\"\n",
    "# path__Portmap = \"C:\\\\Thesis_Group_of_Brig_Gen_Razzak_Sir\\\\03-11\\\\Portmap.csv\"\n",
    "# path__Syn = \"C:\\\\Thesis_Group_of_Brig_Gen_Razzak_Sir\\\\03-11\\\\Syn.csv\"\n",
    "# path__UDP = \"C:\\\\Thesis_Group_of_Brig_Gen_Razzak_Sir\\\\03-11\\\\UDP.csv\"\n",
    "# path__UDPLag = \"C:\\\\Thesis_Group_of_Brig_Gen_Razzak_Sir\\\\03-11\\\\UDPLag.csv\"\n",
    "\n",
    "paths = [path_DdoS_DNS, path_DdoS_MSSQL, path_DdoS_LDAP, path_DdoS_NTP, path_DdoS_NetBIOS, path_DdoS_SNMP, path_DdoS_SSDP, path_DdoS_UDP, path_Syn, path_TFTP, path_UDPLag]\n",
    "# , path__LDAP, path__MSSQL, path__NetBIOS,\n",
    "#      path__Portmap, path__Syn, path__UDP, path__UDPLag]"
   ]
  },
  {
   "cell_type": "code",
   "execution_count": null,
   "metadata": {
    "collapsed": false
   },
   "outputs": [],
   "source": []
  }
 ],
 "metadata": {
  "kernelspec": {
   "display_name": "Python 3",
   "language": "python",
   "name": "python3"
  },
  "language_info": {
   "codemirror_mode": {
    "name": "ipython",
    "version": 2
   },
   "file_extension": ".py",
   "mimetype": "text/x-python",
   "name": "python",
   "nbconvert_exporter": "python",
   "pygments_lexer": "ipython2",
   "version": "2.7.6"
  }
 },
 "nbformat": 4,
 "nbformat_minor": 0
}

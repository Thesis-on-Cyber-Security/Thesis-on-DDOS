{
 "cells": [
  {
   "cell_type": "markdown",
   "source": [
    "Loading Libraries"
   ],
   "metadata": {
    "collapsed": false
   }
  },
  {
   "cell_type": "code",
   "execution_count": 6,
   "metadata": {
    "collapsed": true
   },
   "outputs": [],
   "source": [
    "import numba\n",
    "import tensorflow as tf\n",
    "import pandas as pd\n",
    "import numpy as np\n",
    "import random\n",
    "import gc  # garbage collector\n",
    "\n",
    "from fastcore.basics import *\n",
    "from fastcore.parallel import *\n",
    "from numba import jit, njit, vectorize, cuda, uint32, f8, uint8\n",
    "\n",
    "from sklearn.model_selection import train_test_split\n",
    "from sklearn import metrics  # for accuracy calculation\n",
    "from sklearn.tree import DecisionTreeClassifier\n",
    "from sklearn.metrics import roc_auc_score, accuracy_score\n",
    "from functools import partial\n",
    "from os import cpu_count\n",
    "import matplotlib.pyplot as plt\n",
    "\n",
    "import math\n",
    "from pylab import imshow, show\n",
    "from timeit import default_timer as timer\n",
    "\n",
    "from dask import dataframe as dd\n",
    "from dask.distributed import Client"
   ]
  },
  {
   "cell_type": "markdown",
   "source": [
    "Setting up paths to csv files / datasets"
   ],
   "metadata": {
    "collapsed": false
   }
  },
  {
   "cell_type": "code",
   "execution_count": 7,
   "outputs": [
    {
     "data": {
      "text/plain": "[PhysicalDevice(name='/physical_device:CPU:0', device_type='CPU'),\n PhysicalDevice(name='/physical_device:XLA_CPU:0', device_type='XLA_CPU'),\n PhysicalDevice(name='/physical_device:XLA_GPU:0', device_type='XLA_GPU')]"
     },
     "execution_count": 7,
     "metadata": {},
     "output_type": "execute_result"
    }
   ],
   "source": [
    "tf.config.list_physical_devices(\n",
    "    device_type=None\n",
    ")"
   ],
   "metadata": {
    "collapsed": false
   }
  },
  {
   "cell_type": "code",
   "execution_count": 8,
   "outputs": [],
   "source": [
    "# CSV-01-12\n",
    "path_DdoS_DNS = \"C:\\\\Thesis_Group_of_Brig_Gen_Razzak_Sir\\\\01-12\\\\DrDoS_DNS.csv\"\n",
    "path_DdoS_MSSQL = \"C:\\\\Thesis_Group_of_Brig_Gen_Razzak_Sir\\\\01-12\\\\DrDoS_MSSQL.csv\"\n",
    "path_DdoS_LDAP = \"C:\\\\Thesis_Group_of_Brig_Gen_Razzak_Sir\\\\01-12\\\\DrDoS_LDAP.csv\"\n",
    "path_DdoS_NTP = \"C:\\\\Thesis_Group_of_Brig_Gen_Razzak_Sir\\\\01-12\\\\DrDoS_NTP.csv\"\n",
    "path_DdoS_NetBIOS = \"C:\\\\Thesis_Group_of_Brig_Gen_Razzak_Sir\\\\01-12\\\\DrDoS_NetBIOS.csv\"\n",
    "path_DdoS_SNMP = \"C:\\\\Thesis_Group_of_Brig_Gen_Razzak_Sir\\\\01-12\\\\DrDoS_SNMP.csv\"\n",
    "path_DdoS_SSDP = \"C:\\\\Thesis_Group_of_Brig_Gen_Razzak_Sir\\\\01-12\\\\DrDoS_SSDP.csv\"\n",
    "path_DdoS_UDP = \"C:\\\\Thesis_Group_of_Brig_Gen_Razzak_Sir\\\\01-12\\\\DrDoS_UDP.csv\"\n",
    "path_Syn = \"C:\\\\Thesis_Group_of_Brig_Gen_Razzak_Sir\\\\01-12\\\\Syn.csv\"\n",
    "path_TFTP = \"C:\\\\Thesis_Group_of_Brig_Gen_Razzak_Sir\\\\01-12\\\\TFTP.csv\"\n",
    "path_UDPLag = \"C:\\\\Thesis_Group_of_Brig_Gen_Razzak_Sir\\\\01-12\\\\UDPLag.csv\"\n",
    "\n",
    "# # CSV-03-11\n",
    "# path__LDAP = \"../CICDDoS-2019/CSV-03-11/03-11/LDAP.csv\"\n",
    "# path__MSSQL = \"../CICDDoS-2019/CSV-03-11/03-11/MSSQL.csv\"\n",
    "# path__NetBIOS = \"../CICDDoS-2019/CSV-03-11/03-11/NetBIOS.csv\"\n",
    "# path__Portmap = \"../CICDDoS-2019/CSV-03-11/03-11/Portmap.csv\"\n",
    "# path__Syn = \"../CICDDoS-2019/CSV-03-11/03-11/Syn.csv\"\n",
    "# path__UDP = \"../CICDDoS-2019/CSV-03-11/03-11/UDP.csv\"\n",
    "# path__UDPLag = \"../CICDDoS-2019/CSV-03-11/03-11/UDPLag.csv\"\n",
    "\n",
    "paths = [path_DdoS_DNS, path_DdoS_MSSQL, path_DdoS_LDAP, path_DdoS_NTP, path_DdoS_NetBIOS, path_DdoS_SNMP, path_DdoS_SSDP, path_DdoS_UDP, path_Syn, path_TFTP, path_UDPLag]\n",
    "# , path__LDAP, path__MSSQL, path__NetBIOS,\n",
    "#      path__Portmap, path__Syn, path__UDP, path__UDPLag]"
   ],
   "metadata": {
    "collapsed": false
   }
  },
  {
   "cell_type": "markdown",
   "source": [
    "Column / feature names"
   ],
   "metadata": {
    "collapsed": false
   }
  },
  {
   "cell_type": "code",
   "execution_count": 9,
   "outputs": [],
   "source": [
    "col_name_consistency = {\n",
    "    'Flow ID': 'Flow ID',\n",
    "    'Source IP': 'Source IP',\n",
    "    'Src IP': 'Source IP',\n",
    "    'Source Port': 'Source Port',\n",
    "    'Src Port': 'Source Port',\n",
    "    'Destination IP': 'Destination IP',\n",
    "    'Dst IP': 'Destination IP',\n",
    "    'Destination Port': 'Destination Port',\n",
    "    'Dst Port': 'Destination Port',\n",
    "    'Protocol': 'Protocol',\n",
    "    'Timestamp': 'Timestamp',\n",
    "    'Flow Duration': 'Flow Duration',\n",
    "    'Total Fwd Packets': 'Total Fwd Packets',\n",
    "    'Tot Fwd Pkts': 'Total Fwd Packets',\n",
    "    'Total Backward Packets': 'Total Backward Packets',\n",
    "    'Tot Bwd Pkts': 'Total Backward Packets',\n",
    "    'Total Length of Fwd Packets': 'Fwd Packets Length Total',\n",
    "    'TotLen Fwd Pkts': 'Fwd Packets Length Total',\n",
    "    'Total Length of Bwd Packets': 'Bwd Packets Length Total',\n",
    "    'TotLen Bwd Pkts': 'Bwd Packets Length Total',\n",
    "    'Fwd Packet Length Max': 'Fwd Packet Length Max',\n",
    "    'Fwd Pkt Len Max': 'Fwd Packet Length Max',\n",
    "    'Fwd Packet Length Min': 'Fwd Packet Length Min',\n",
    "    'Fwd Pkt Len Min': 'Fwd Packet Length Min',\n",
    "    'Fwd Packet Length Mean': 'Fwd Packet Length Mean',\n",
    "    'Fwd Pkt Len Mean': 'Fwd Packet Length Mean',\n",
    "    'Fwd Packet Length Std': 'Fwd Packet Length Std',\n",
    "    'Fwd Pkt Len Std': 'Fwd Packet Length Std',\n",
    "    'Bwd Packet Length Max': 'Bwd Packet Length Max',\n",
    "    'Bwd Pkt Len Max': 'Bwd Packet Length Max',\n",
    "    'Bwd Packet Length Min': 'Bwd Packet Length Min',\n",
    "    'Bwd Pkt Len Min': 'Bwd Packet Length Min',\n",
    "    'Bwd Packet Length Mean': 'Bwd Packet Length Mean',\n",
    "    'Bwd Pkt Len Mean': 'Bwd Packet Length Mean',\n",
    "    'Bwd Packet Length Std': 'Bwd Packet Length Std',\n",
    "    'Bwd Pkt Len Std': 'Bwd Packet Length Std',\n",
    "    'Flow Bytes/s': 'Flow Bytes/s',\n",
    "    'Flow Byts/s': 'Flow Bytes/s',\n",
    "    'Flow Packets/s': 'Flow Packets/s',\n",
    "    'Flow Pkts/s': 'Flow Packets/s',\n",
    "    'Flow IAT Mean': 'Flow IAT Mean',\n",
    "    'Flow IAT Std': 'Flow IAT Std',\n",
    "    'Flow IAT Max': 'Flow IAT Max',\n",
    "    'Flow IAT Min': 'Flow IAT Min',\n",
    "    'Fwd IAT Total': 'Fwd IAT Total',\n",
    "    'Fwd IAT Tot': 'Fwd IAT Total',\n",
    "    'Fwd IAT Mean': 'Fwd IAT Mean',\n",
    "    'Fwd IAT Std': 'Fwd IAT Std',\n",
    "    'Fwd IAT Max': 'Fwd IAT Max',\n",
    "    'Fwd IAT Min': 'Fwd IAT Min',\n",
    "    'Bwd IAT Total': 'Bwd IAT Total',\n",
    "    'Bwd IAT Tot': 'Bwd IAT Total',\n",
    "    'Bwd IAT Mean': 'Bwd IAT Mean',\n",
    "    'Bwd IAT Std': 'Bwd IAT Std',\n",
    "    'Bwd IAT Max': 'Bwd IAT Max',\n",
    "    'Bwd IAT Min': 'Bwd IAT Min',\n",
    "    'Fwd PSH Flags': 'Fwd PSH Flags',\n",
    "    'Bwd PSH Flags': 'Bwd PSH Flags',\n",
    "    'Fwd URG Flags': 'Fwd URG Flags',\n",
    "    'Bwd URG Flags': 'Bwd URG Flags',\n",
    "    'Fwd Header Length': 'Fwd Header Length',\n",
    "    'Fwd Header Len': 'Fwd Header Length',\n",
    "    'Bwd Header Length': 'Bwd Header Length',\n",
    "    'Bwd Header Len': 'Bwd Header Length',\n",
    "    'Fwd Packets/s': 'Fwd Packets/s',\n",
    "    'Fwd Pkts/s': 'Fwd Packets/s',\n",
    "    'Bwd Packets/s': 'Bwd Packets/s',\n",
    "    'Bwd Pkts/s': 'Bwd Packets/s',\n",
    "    'Min Packet Length': 'Packet Length Min',\n",
    "    'Pkt Len Min': 'Packet Length Min',\n",
    "    'Max Packet Length': 'Packet Length Max',\n",
    "    'Pkt Len Max': 'Packet Length Max',\n",
    "    'Packet Length Mean': 'Packet Length Mean',\n",
    "    'Pkt Len Mean': 'Packet Length Mean',\n",
    "    'Packet Length Std': 'Packet Length Std',\n",
    "    'Pkt Len Std': 'Packet Length Std',\n",
    "    'Packet Length Variance': 'Packet Length Variance',\n",
    "    'Pkt Len Var': 'Packet Length Variance',\n",
    "    'FIN Flag Count': 'FIN Flag Count',\n",
    "    'FIN Flag Cnt': 'FIN Flag Count',\n",
    "    'SYN Flag Count': 'SYN Flag Count',\n",
    "    'SYN Flag Cnt': 'SYN Flag Count',\n",
    "    'RST Flag Count': 'RST Flag Count',\n",
    "    'RST Flag Cnt': 'RST Flag Count',\n",
    "    'PSH Flag Count': 'PSH Flag Count',\n",
    "    'PSH Flag Cnt': 'PSH Flag Count',\n",
    "    'ACK Flag Count': 'ACK Flag Count',\n",
    "    'ACK Flag Cnt': 'ACK Flag Count',\n",
    "    'URG Flag Count': 'URG Flag Count',\n",
    "    'URG Flag Cnt': 'URG Flag Count',\n",
    "    'CWE Flag Count': 'CWE Flag Count',\n",
    "    'CWE Flag Cnt': 'CWE Flag Count',\n",
    "    'ECE Flag Count': 'ECE Flag Count',\n",
    "    'ECE Flag Cnt': 'ECE Flag Count',\n",
    "    'Down/Up Ratio': 'Down/Up Ratio',\n",
    "    'Average Packet Size': 'Avg Packet Size',\n",
    "    'Pkt Size Avg': 'Avg Packet Size',\n",
    "    'Avg Fwd Segment Size': 'Avg Fwd Segment Size',\n",
    "    'Fwd Seg Size Avg': 'Avg Fwd Segment Size',\n",
    "    'Avg Bwd Segment Size': 'Avg Bwd Segment Size',\n",
    "    'Bwd Seg Size Avg': 'Avg Bwd Segment Size',\n",
    "    'Fwd Avg Bytes/Bulk': 'Fwd Avg Bytes/Bulk',\n",
    "    'Fwd Byts/b Avg': 'Fwd Avg Bytes/Bulk',\n",
    "    'Fwd Avg Packets/Bulk': 'Fwd Avg Packets/Bulk',\n",
    "    'Fwd Pkts/b Avg': 'Fwd Avg Packets/Bulk',\n",
    "    'Fwd Avg Bulk Rate': 'Fwd Avg Bulk Rate',\n",
    "    'Fwd Blk Rate Avg': 'Fwd Avg Bulk Rate',\n",
    "    'Bwd Avg Bytes/Bulk': 'Bwd Avg Bytes/Bulk',\n",
    "    'Bwd Byts/b Avg': 'Bwd Avg Bytes/Bulk',\n",
    "    'Bwd Avg Packets/Bulk': 'Bwd Avg Packets/Bulk',\n",
    "    'Bwd Pkts/b Avg': 'Bwd Avg Packets/Bulk',\n",
    "    'Bwd Avg Bulk Rate': 'Bwd Avg Bulk Rate',\n",
    "    'Bwd Blk Rate Avg': 'Bwd Avg Bulk Rate',\n",
    "    'Subflow Fwd Packets': 'Subflow Fwd Packets',\n",
    "    'Subflow Fwd Pkts': 'Subflow Fwd Packets',\n",
    "    'Subflow Fwd Bytes': 'Subflow Fwd Bytes',\n",
    "    'Subflow Fwd Byts': 'Subflow Fwd Bytes',\n",
    "    'Subflow Bwd Packets': 'Subflow Bwd Packets',\n",
    "    'Subflow Bwd Pkts': 'Subflow Bwd Packets',\n",
    "    'Subflow Bwd Bytes': 'Subflow Bwd Bytes',\n",
    "    'Subflow Bwd Byts': 'Subflow Bwd Bytes',\n",
    "    'Init_Win_bytes_forward': 'Init Fwd Win Bytes',\n",
    "    'Init Fwd Win Byts': 'Init Fwd Win Bytes',\n",
    "    'Init_Win_bytes_backward': 'Init Bwd Win Bytes',\n",
    "    'Init Bwd Win Byts': 'Init Bwd Win Bytes',\n",
    "    'act_data_pkt_fwd': 'Fwd Act Data Packets',\n",
    "    'Fwd Act Data Pkts': 'Fwd Act Data Packets',\n",
    "    'min_seg_size_forward': 'Fwd Seg Size Min',\n",
    "    'Fwd Seg Size Min': 'Fwd Seg Size Min',\n",
    "    'Active Mean': 'Active Mean',\n",
    "    'Active Std': 'Active Std',\n",
    "    'Active Max': 'Active Max',\n",
    "    'Active Min': 'Active Min',\n",
    "    'Idle Mean': 'Idle Mean',\n",
    "    'Idle Std': 'Idle Std',\n",
    "    'Idle Max': 'Idle Max',\n",
    "    'Idle Min': 'Idle Min',\n",
    "    'Label': 'Label'\n",
    "}"
   ],
   "metadata": {
    "collapsed": false
   }
  },
  {
   "cell_type": "markdown",
   "source": [
    "Following Columns may have little insignificance over model"
   ],
   "metadata": {
    "collapsed": false
   }
  },
  {
   "cell_type": "code",
   "execution_count": 10,
   "outputs": [
    {
     "data": {
      "text/plain": "6"
     },
     "execution_count": 10,
     "metadata": {},
     "output_type": "execute_result"
    }
   ],
   "source": [
    "drop_columns = [  # this list includes all spellings across CIC NIDS datasets\n",
    "    \"Flow ID\",\n",
    "    'Fwd Header Length.1',\n",
    "    \"Timestamp\",\n",
    "    \"Unnamed: 0\",\n",
    "    \"Inbound\",\n",
    "    \"SimillarHTTP\"  # CIC-DDoS other undocumented columns\n",
    "]\n",
    "len(drop_columns)  # src_port,dst_port, src_ip, dst_ip these are duplicate"
   ],
   "metadata": {
    "collapsed": false
   }
  },
  {
   "cell_type": "code",
   "execution_count": 11,
   "outputs": [],
   "source": [
    "def readHugeCsvFileAsDataFrame(file_path):\n",
    "    # start = timer()\n",
    "    dtypes = {'SimillarHTTP': 'object',\n",
    "              'Timestamp': 'object',\n",
    "              'Source IP': 'str',\n",
    "              'Destination IP': 'str',\n",
    "              'Flow ID': 'object',\n",
    "              'Label': 'object',\n",
    "              }\n",
    "    for feature in [f'f_{i}' for i in range(82)]:\n",
    "        dtypes[feature] = \"float32\"\n",
    "\n",
    "    dask_df = dd.read_csv(file_path, low_memory=False,blocksize=50000, dtype=dtypes)  # 50MB chunk-size\n",
    "    # elapsed_time = timer() - start\n",
    "    # print(\"Read csv with dask: \", elapsed_time, \"sec\")\n",
    "    return dask_df.compute()"
   ],
   "metadata": {
    "collapsed": false
   }
  },
  {
   "cell_type": "code",
   "execution_count": 12,
   "outputs": [
    {
     "data": {
      "text/plain": "<Client: 'tcp://127.0.0.1:57645' processes=5 threads=20, memory=31.70 GiB>",
      "text/html": "<div>\n    <div style=\"width: 24px; height: 24px; background-color: #e1e1e1; border: 3px solid #9D9D9D; border-radius: 5px; position: absolute;\"> </div>\n    <div style=\"margin-left: 48px;\">\n        <h3 style=\"margin-bottom: 0px;\">Client</h3>\n        <p style=\"color: #9D9D9D; margin-bottom: 0px;\">Client-ece5267e-a070-11ed-b5b8-7486e23388c8</p>\n        <table style=\"width: 100%; text-align: left;\">\n\n        <tr>\n        \n            <td style=\"text-align: left;\"><strong>Connection method:</strong> Cluster object</td>\n            <td style=\"text-align: left;\"><strong>Cluster type:</strong> distributed.LocalCluster</td>\n        \n        </tr>\n\n        \n            <tr>\n                <td style=\"text-align: left;\">\n                    <strong>Dashboard: </strong> <a href=\"http://127.0.0.1:8787/status\" target=\"_blank\">http://127.0.0.1:8787/status</a>\n                </td>\n                <td style=\"text-align: left;\"></td>\n            </tr>\n        \n\n        </table>\n\n        \n            <details>\n            <summary style=\"margin-bottom: 20px;\"><h3 style=\"display: inline;\">Cluster Info</h3></summary>\n            <div class=\"jp-RenderedHTMLCommon jp-RenderedHTML jp-mod-trusted jp-OutputArea-output\">\n    <div style=\"width: 24px; height: 24px; background-color: #e1e1e1; border: 3px solid #9D9D9D; border-radius: 5px; position: absolute;\">\n    </div>\n    <div style=\"margin-left: 48px;\">\n        <h3 style=\"margin-bottom: 0px; margin-top: 0px;\">LocalCluster</h3>\n        <p style=\"color: #9D9D9D; margin-bottom: 0px;\">98c25104</p>\n        <table style=\"width: 100%; text-align: left;\">\n            <tr>\n                <td style=\"text-align: left;\">\n                    <strong>Dashboard:</strong> <a href=\"http://127.0.0.1:8787/status\" target=\"_blank\">http://127.0.0.1:8787/status</a>\n                </td>\n                <td style=\"text-align: left;\">\n                    <strong>Workers:</strong> 5\n                </td>\n            </tr>\n            <tr>\n                <td style=\"text-align: left;\">\n                    <strong>Total threads:</strong> 20\n                </td>\n                <td style=\"text-align: left;\">\n                    <strong>Total memory:</strong> 31.70 GiB\n                </td>\n            </tr>\n            \n            <tr>\n    <td style=\"text-align: left;\"><strong>Status:</strong> running</td>\n    <td style=\"text-align: left;\"><strong>Using processes:</strong> True</td>\n</tr>\n\n            \n        </table>\n\n        <details>\n            <summary style=\"margin-bottom: 20px;\">\n                <h3 style=\"display: inline;\">Scheduler Info</h3>\n            </summary>\n\n            <div style=\"\">\n    <div>\n        <div style=\"width: 24px; height: 24px; background-color: #FFF7E5; border: 3px solid #FF6132; border-radius: 5px; position: absolute;\"> </div>\n        <div style=\"margin-left: 48px;\">\n            <h3 style=\"margin-bottom: 0px;\">Scheduler</h3>\n            <p style=\"color: #9D9D9D; margin-bottom: 0px;\">Scheduler-8834ffc7-7d42-4433-b2c4-0e51bc323e09</p>\n            <table style=\"width: 100%; text-align: left;\">\n                <tr>\n                    <td style=\"text-align: left;\">\n                        <strong>Comm:</strong> tcp://127.0.0.1:57645\n                    </td>\n                    <td style=\"text-align: left;\">\n                        <strong>Workers:</strong> 5\n                    </td>\n                </tr>\n                <tr>\n                    <td style=\"text-align: left;\">\n                        <strong>Dashboard:</strong> <a href=\"http://127.0.0.1:8787/status\" target=\"_blank\">http://127.0.0.1:8787/status</a>\n                    </td>\n                    <td style=\"text-align: left;\">\n                        <strong>Total threads:</strong> 20\n                    </td>\n                </tr>\n                <tr>\n                    <td style=\"text-align: left;\">\n                        <strong>Started:</strong> Just now\n                    </td>\n                    <td style=\"text-align: left;\">\n                        <strong>Total memory:</strong> 31.70 GiB\n                    </td>\n                </tr>\n            </table>\n        </div>\n    </div>\n\n    <details style=\"margin-left: 48px;\">\n        <summary style=\"margin-bottom: 20px;\">\n            <h3 style=\"display: inline;\">Workers</h3>\n        </summary>\n\n        \n        <div style=\"margin-bottom: 20px;\">\n            <div style=\"width: 24px; height: 24px; background-color: #DBF5FF; border: 3px solid #4CC9FF; border-radius: 5px; position: absolute;\"> </div>\n            <div style=\"margin-left: 48px;\">\n            <details>\n                <summary>\n                    <h4 style=\"margin-bottom: 0px; display: inline;\">Worker: 0</h4>\n                </summary>\n                <table style=\"width: 100%; text-align: left;\">\n                    <tr>\n                        <td style=\"text-align: left;\">\n                            <strong>Comm: </strong> tcp://127.0.0.1:57690\n                        </td>\n                        <td style=\"text-align: left;\">\n                            <strong>Total threads: </strong> 4\n                        </td>\n                    </tr>\n                    <tr>\n                        <td style=\"text-align: left;\">\n                            <strong>Dashboard: </strong> <a href=\"http://127.0.0.1:57691/status\" target=\"_blank\">http://127.0.0.1:57691/status</a>\n                        </td>\n                        <td style=\"text-align: left;\">\n                            <strong>Memory: </strong> 6.34 GiB\n                        </td>\n                    </tr>\n                    <tr>\n                        <td style=\"text-align: left;\">\n                            <strong>Nanny: </strong> tcp://127.0.0.1:57652\n                        </td>\n                        <td style=\"text-align: left;\"></td>\n                    </tr>\n                    <tr>\n                        <td colspan=\"2\" style=\"text-align: left;\">\n                            <strong>Local directory: </strong> G:\\Brig_Gen_Razzak_Sir_Thesis_Group\\Thesis-on-DDOS-main\\Data-PreProcessing\\dask-worker-space\\worker-do72v8gi\n                        </td>\n                    </tr>\n\n                    \n\n                    \n\n                </table>\n            </details>\n            </div>\n        </div>\n        \n        <div style=\"margin-bottom: 20px;\">\n            <div style=\"width: 24px; height: 24px; background-color: #DBF5FF; border: 3px solid #4CC9FF; border-radius: 5px; position: absolute;\"> </div>\n            <div style=\"margin-left: 48px;\">\n            <details>\n                <summary>\n                    <h4 style=\"margin-bottom: 0px; display: inline;\">Worker: 1</h4>\n                </summary>\n                <table style=\"width: 100%; text-align: left;\">\n                    <tr>\n                        <td style=\"text-align: left;\">\n                            <strong>Comm: </strong> tcp://127.0.0.1:57680\n                        </td>\n                        <td style=\"text-align: left;\">\n                            <strong>Total threads: </strong> 4\n                        </td>\n                    </tr>\n                    <tr>\n                        <td style=\"text-align: left;\">\n                            <strong>Dashboard: </strong> <a href=\"http://127.0.0.1:57683/status\" target=\"_blank\">http://127.0.0.1:57683/status</a>\n                        </td>\n                        <td style=\"text-align: left;\">\n                            <strong>Memory: </strong> 6.34 GiB\n                        </td>\n                    </tr>\n                    <tr>\n                        <td style=\"text-align: left;\">\n                            <strong>Nanny: </strong> tcp://127.0.0.1:57649\n                        </td>\n                        <td style=\"text-align: left;\"></td>\n                    </tr>\n                    <tr>\n                        <td colspan=\"2\" style=\"text-align: left;\">\n                            <strong>Local directory: </strong> G:\\Brig_Gen_Razzak_Sir_Thesis_Group\\Thesis-on-DDOS-main\\Data-PreProcessing\\dask-worker-space\\worker-oph0vm7j\n                        </td>\n                    </tr>\n\n                    \n\n                    \n\n                </table>\n            </details>\n            </div>\n        </div>\n        \n        <div style=\"margin-bottom: 20px;\">\n            <div style=\"width: 24px; height: 24px; background-color: #DBF5FF; border: 3px solid #4CC9FF; border-radius: 5px; position: absolute;\"> </div>\n            <div style=\"margin-left: 48px;\">\n            <details>\n                <summary>\n                    <h4 style=\"margin-bottom: 0px; display: inline;\">Worker: 2</h4>\n                </summary>\n                <table style=\"width: 100%; text-align: left;\">\n                    <tr>\n                        <td style=\"text-align: left;\">\n                            <strong>Comm: </strong> tcp://127.0.0.1:57679\n                        </td>\n                        <td style=\"text-align: left;\">\n                            <strong>Total threads: </strong> 4\n                        </td>\n                    </tr>\n                    <tr>\n                        <td style=\"text-align: left;\">\n                            <strong>Dashboard: </strong> <a href=\"http://127.0.0.1:57682/status\" target=\"_blank\">http://127.0.0.1:57682/status</a>\n                        </td>\n                        <td style=\"text-align: left;\">\n                            <strong>Memory: </strong> 6.34 GiB\n                        </td>\n                    </tr>\n                    <tr>\n                        <td style=\"text-align: left;\">\n                            <strong>Nanny: </strong> tcp://127.0.0.1:57651\n                        </td>\n                        <td style=\"text-align: left;\"></td>\n                    </tr>\n                    <tr>\n                        <td colspan=\"2\" style=\"text-align: left;\">\n                            <strong>Local directory: </strong> G:\\Brig_Gen_Razzak_Sir_Thesis_Group\\Thesis-on-DDOS-main\\Data-PreProcessing\\dask-worker-space\\worker-bwzn_8zr\n                        </td>\n                    </tr>\n\n                    \n\n                    \n\n                </table>\n            </details>\n            </div>\n        </div>\n        \n        <div style=\"margin-bottom: 20px;\">\n            <div style=\"width: 24px; height: 24px; background-color: #DBF5FF; border: 3px solid #4CC9FF; border-radius: 5px; position: absolute;\"> </div>\n            <div style=\"margin-left: 48px;\">\n            <details>\n                <summary>\n                    <h4 style=\"margin-bottom: 0px; display: inline;\">Worker: 3</h4>\n                </summary>\n                <table style=\"width: 100%; text-align: left;\">\n                    <tr>\n                        <td style=\"text-align: left;\">\n                            <strong>Comm: </strong> tcp://127.0.0.1:57687\n                        </td>\n                        <td style=\"text-align: left;\">\n                            <strong>Total threads: </strong> 4\n                        </td>\n                    </tr>\n                    <tr>\n                        <td style=\"text-align: left;\">\n                            <strong>Dashboard: </strong> <a href=\"http://127.0.0.1:57688/status\" target=\"_blank\">http://127.0.0.1:57688/status</a>\n                        </td>\n                        <td style=\"text-align: left;\">\n                            <strong>Memory: </strong> 6.34 GiB\n                        </td>\n                    </tr>\n                    <tr>\n                        <td style=\"text-align: left;\">\n                            <strong>Nanny: </strong> tcp://127.0.0.1:57648\n                        </td>\n                        <td style=\"text-align: left;\"></td>\n                    </tr>\n                    <tr>\n                        <td colspan=\"2\" style=\"text-align: left;\">\n                            <strong>Local directory: </strong> G:\\Brig_Gen_Razzak_Sir_Thesis_Group\\Thesis-on-DDOS-main\\Data-PreProcessing\\dask-worker-space\\worker-eshpj06k\n                        </td>\n                    </tr>\n\n                    \n\n                    \n\n                </table>\n            </details>\n            </div>\n        </div>\n        \n        <div style=\"margin-bottom: 20px;\">\n            <div style=\"width: 24px; height: 24px; background-color: #DBF5FF; border: 3px solid #4CC9FF; border-radius: 5px; position: absolute;\"> </div>\n            <div style=\"margin-left: 48px;\">\n            <details>\n                <summary>\n                    <h4 style=\"margin-bottom: 0px; display: inline;\">Worker: 4</h4>\n                </summary>\n                <table style=\"width: 100%; text-align: left;\">\n                    <tr>\n                        <td style=\"text-align: left;\">\n                            <strong>Comm: </strong> tcp://127.0.0.1:57678\n                        </td>\n                        <td style=\"text-align: left;\">\n                            <strong>Total threads: </strong> 4\n                        </td>\n                    </tr>\n                    <tr>\n                        <td style=\"text-align: left;\">\n                            <strong>Dashboard: </strong> <a href=\"http://127.0.0.1:57681/status\" target=\"_blank\">http://127.0.0.1:57681/status</a>\n                        </td>\n                        <td style=\"text-align: left;\">\n                            <strong>Memory: </strong> 6.34 GiB\n                        </td>\n                    </tr>\n                    <tr>\n                        <td style=\"text-align: left;\">\n                            <strong>Nanny: </strong> tcp://127.0.0.1:57650\n                        </td>\n                        <td style=\"text-align: left;\"></td>\n                    </tr>\n                    <tr>\n                        <td colspan=\"2\" style=\"text-align: left;\">\n                            <strong>Local directory: </strong> G:\\Brig_Gen_Razzak_Sir_Thesis_Group\\Thesis-on-DDOS-main\\Data-PreProcessing\\dask-worker-space\\worker-o29yx8r0\n                        </td>\n                    </tr>\n\n                    \n\n                    \n\n                </table>\n            </details>\n            </div>\n        </div>\n        \n\n    </details>\n</div>\n\n        </details>\n    </div>\n</div>\n            </details>\n        \n\n    </div>\n</div>"
     },
     "execution_count": 12,
     "metadata": {},
     "output_type": "execute_result"
    }
   ],
   "source": [
    "scheduler = Client()\n",
    "scheduler"
   ],
   "metadata": {
    "collapsed": false
   }
  },
  {
   "cell_type": "markdown",
   "source": [
    "Without Scheduler (see the elapsed time to process)\n",
    "%%time\n",
    "workingDataFrame = readHugeCsvFileAsDataFrame(path_UDPLag)\n",
    "workingDataFrame = readHugeCsvFileAsDataFrame(path_Syn)\n",
    "workingDataFrame = readHugeCsvFileAsDataFrame(path_DdoS_NTP)\n",
    "workingDataFrame = readHugeCsvFileAsDataFrame(path_DdoS_LDAP)\n",
    "workingDataFrame = readHugeCsvFileAsDataFrame(path_DdoS_SSDP)\n",
    "workingDataFrame = readHugeCsvFileAsDataFrame(path_DdoS_UDP)\n",
    "workingDataFrame.describe()\n",
    "workingDataFrame"
   ],
   "metadata": {
    "collapsed": false
   }
  },
  {
   "cell_type": "markdown",
   "source": [
    "With Scheduler (see the elapsed time to process)"
   ],
   "metadata": {
    "collapsed": false
   }
  },
  {
   "cell_type": "code",
   "execution_count": 13,
   "outputs": [
    {
     "name": "stdout",
     "output_type": "stream",
     "text": [
      "Wall time: 12.7 s\n"
     ]
    },
    {
     "data": {
      "text/plain": "     Unnamed: 0                                 Flow ID   Source IP  \\\n0        186059   172.16.0.5-192.168.50.1-58445-4463-17  172.16.0.5   \n1        135692   172.16.0.5-192.168.50.1-36908-9914-17  172.16.0.5   \n2         33822  172.16.0.5-192.168.50.1-41727-32361-17  172.16.0.5   \n3         24498   172.16.0.5-192.168.50.1-55447-5691-17  172.16.0.5   \n4        117372  172.16.0.5-192.168.50.1-58794-56335-17  172.16.0.5   \n..          ...                                     ...         ...   \n122      350624   172.16.0.5-192.168.50.1-60490-14102-6  172.16.0.5   \n123      336856   172.16.0.5-192.168.50.1-60491-58360-6  172.16.0.5   \n124      115128    172.16.0.5-192.168.50.1-60492-2905-6  172.16.0.5   \n125       51370   172.16.0.5-192.168.50.1-60493-45714-6  172.16.0.5   \n126      317173   172.16.0.5-192.168.50.1-60494-44935-6  172.16.0.5   \n\n      Source Port  Destination IP   Destination Port   Protocol  \\\n0           58445    192.168.50.1               4463         17   \n1           36908    192.168.50.1               9914         17   \n2           41727    192.168.50.1              32361         17   \n3           55447    192.168.50.1               5691         17   \n4           58794    192.168.50.1              56335         17   \n..            ...             ...                ...        ...   \n122         60490    192.168.50.1              14102          6   \n123         60491    192.168.50.1              58360          6   \n124         60492    192.168.50.1               2905          6   \n125         60493    192.168.50.1              45714          6   \n126         60494    192.168.50.1              44935          6   \n\n                      Timestamp   Flow Duration   Total Fwd Packets  ...  \\\n0    2018-12-01 13:04:45.928673               1                   2  ...   \n1    2018-12-01 13:04:45.928913               1                   2  ...   \n2    2018-12-01 13:04:45.928915               2                   2  ...   \n3    2018-12-01 13:04:45.929024               2                   2  ...   \n4    2018-12-01 13:04:45.929096               1                   2  ...   \n..                          ...             ...                 ...  ...   \n122  2018-12-01 13:30:30.740273               1                   2  ...   \n123  2018-12-01 13:30:30.740323               1                   2  ...   \n124  2018-12-01 13:30:30.740374               2                   2  ...   \n125  2018-12-01 13:30:30.740424               0                   2  ...   \n126  2018-12-01 13:30:30.740425             134                   2  ...   \n\n      Active Std   Active Max   Active Min  Idle Mean   Idle Std   Idle Max  \\\n0            0.0          0.0          0.0        0.0        0.0        0.0   \n1            0.0          0.0          0.0        0.0        0.0        0.0   \n2            0.0          0.0          0.0        0.0        0.0        0.0   \n3            0.0          0.0          0.0        0.0        0.0        0.0   \n4            0.0          0.0          0.0        0.0        0.0        0.0   \n..           ...          ...          ...        ...        ...        ...   \n122          0.0          0.0          0.0        0.0        0.0        0.0   \n123          0.0          0.0          0.0        0.0        0.0        0.0   \n124          0.0          0.0          0.0        0.0        0.0        0.0   \n125          0.0          0.0          0.0        0.0        0.0        0.0   \n126          0.0          0.0          0.0        0.0        0.0        0.0   \n\n      Idle Min  SimillarHTTP   Inbound    Label  \n0          0.0             0         1  UDP-lag  \n1          0.0             0         1  UDP-lag  \n2          0.0             0         1  UDP-lag  \n3          0.0             0         1  UDP-lag  \n4          0.0             0         1  UDP-lag  \n..         ...           ...       ...      ...  \n122        0.0             0         1  UDP-lag  \n123        0.0             0         1  UDP-lag  \n124        0.0             0         1  UDP-lag  \n125        0.0             0         1  UDP-lag  \n126        0.0             0         1  UDP-lag  \n\n[370605 rows x 88 columns]",
      "text/html": "<div>\n<style scoped>\n    .dataframe tbody tr th:only-of-type {\n        vertical-align: middle;\n    }\n\n    .dataframe tbody tr th {\n        vertical-align: top;\n    }\n\n    .dataframe thead th {\n        text-align: right;\n    }\n</style>\n<table border=\"1\" class=\"dataframe\">\n  <thead>\n    <tr style=\"text-align: right;\">\n      <th></th>\n      <th>Unnamed: 0</th>\n      <th>Flow ID</th>\n      <th>Source IP</th>\n      <th>Source Port</th>\n      <th>Destination IP</th>\n      <th>Destination Port</th>\n      <th>Protocol</th>\n      <th>Timestamp</th>\n      <th>Flow Duration</th>\n      <th>Total Fwd Packets</th>\n      <th>...</th>\n      <th>Active Std</th>\n      <th>Active Max</th>\n      <th>Active Min</th>\n      <th>Idle Mean</th>\n      <th>Idle Std</th>\n      <th>Idle Max</th>\n      <th>Idle Min</th>\n      <th>SimillarHTTP</th>\n      <th>Inbound</th>\n      <th>Label</th>\n    </tr>\n  </thead>\n  <tbody>\n    <tr>\n      <th>0</th>\n      <td>186059</td>\n      <td>172.16.0.5-192.168.50.1-58445-4463-17</td>\n      <td>172.16.0.5</td>\n      <td>58445</td>\n      <td>192.168.50.1</td>\n      <td>4463</td>\n      <td>17</td>\n      <td>2018-12-01 13:04:45.928673</td>\n      <td>1</td>\n      <td>2</td>\n      <td>...</td>\n      <td>0.0</td>\n      <td>0.0</td>\n      <td>0.0</td>\n      <td>0.0</td>\n      <td>0.0</td>\n      <td>0.0</td>\n      <td>0.0</td>\n      <td>0</td>\n      <td>1</td>\n      <td>UDP-lag</td>\n    </tr>\n    <tr>\n      <th>1</th>\n      <td>135692</td>\n      <td>172.16.0.5-192.168.50.1-36908-9914-17</td>\n      <td>172.16.0.5</td>\n      <td>36908</td>\n      <td>192.168.50.1</td>\n      <td>9914</td>\n      <td>17</td>\n      <td>2018-12-01 13:04:45.928913</td>\n      <td>1</td>\n      <td>2</td>\n      <td>...</td>\n      <td>0.0</td>\n      <td>0.0</td>\n      <td>0.0</td>\n      <td>0.0</td>\n      <td>0.0</td>\n      <td>0.0</td>\n      <td>0.0</td>\n      <td>0</td>\n      <td>1</td>\n      <td>UDP-lag</td>\n    </tr>\n    <tr>\n      <th>2</th>\n      <td>33822</td>\n      <td>172.16.0.5-192.168.50.1-41727-32361-17</td>\n      <td>172.16.0.5</td>\n      <td>41727</td>\n      <td>192.168.50.1</td>\n      <td>32361</td>\n      <td>17</td>\n      <td>2018-12-01 13:04:45.928915</td>\n      <td>2</td>\n      <td>2</td>\n      <td>...</td>\n      <td>0.0</td>\n      <td>0.0</td>\n      <td>0.0</td>\n      <td>0.0</td>\n      <td>0.0</td>\n      <td>0.0</td>\n      <td>0.0</td>\n      <td>0</td>\n      <td>1</td>\n      <td>UDP-lag</td>\n    </tr>\n    <tr>\n      <th>3</th>\n      <td>24498</td>\n      <td>172.16.0.5-192.168.50.1-55447-5691-17</td>\n      <td>172.16.0.5</td>\n      <td>55447</td>\n      <td>192.168.50.1</td>\n      <td>5691</td>\n      <td>17</td>\n      <td>2018-12-01 13:04:45.929024</td>\n      <td>2</td>\n      <td>2</td>\n      <td>...</td>\n      <td>0.0</td>\n      <td>0.0</td>\n      <td>0.0</td>\n      <td>0.0</td>\n      <td>0.0</td>\n      <td>0.0</td>\n      <td>0.0</td>\n      <td>0</td>\n      <td>1</td>\n      <td>UDP-lag</td>\n    </tr>\n    <tr>\n      <th>4</th>\n      <td>117372</td>\n      <td>172.16.0.5-192.168.50.1-58794-56335-17</td>\n      <td>172.16.0.5</td>\n      <td>58794</td>\n      <td>192.168.50.1</td>\n      <td>56335</td>\n      <td>17</td>\n      <td>2018-12-01 13:04:45.929096</td>\n      <td>1</td>\n      <td>2</td>\n      <td>...</td>\n      <td>0.0</td>\n      <td>0.0</td>\n      <td>0.0</td>\n      <td>0.0</td>\n      <td>0.0</td>\n      <td>0.0</td>\n      <td>0.0</td>\n      <td>0</td>\n      <td>1</td>\n      <td>UDP-lag</td>\n    </tr>\n    <tr>\n      <th>...</th>\n      <td>...</td>\n      <td>...</td>\n      <td>...</td>\n      <td>...</td>\n      <td>...</td>\n      <td>...</td>\n      <td>...</td>\n      <td>...</td>\n      <td>...</td>\n      <td>...</td>\n      <td>...</td>\n      <td>...</td>\n      <td>...</td>\n      <td>...</td>\n      <td>...</td>\n      <td>...</td>\n      <td>...</td>\n      <td>...</td>\n      <td>...</td>\n      <td>...</td>\n      <td>...</td>\n    </tr>\n    <tr>\n      <th>122</th>\n      <td>350624</td>\n      <td>172.16.0.5-192.168.50.1-60490-14102-6</td>\n      <td>172.16.0.5</td>\n      <td>60490</td>\n      <td>192.168.50.1</td>\n      <td>14102</td>\n      <td>6</td>\n      <td>2018-12-01 13:30:30.740273</td>\n      <td>1</td>\n      <td>2</td>\n      <td>...</td>\n      <td>0.0</td>\n      <td>0.0</td>\n      <td>0.0</td>\n      <td>0.0</td>\n      <td>0.0</td>\n      <td>0.0</td>\n      <td>0.0</td>\n      <td>0</td>\n      <td>1</td>\n      <td>UDP-lag</td>\n    </tr>\n    <tr>\n      <th>123</th>\n      <td>336856</td>\n      <td>172.16.0.5-192.168.50.1-60491-58360-6</td>\n      <td>172.16.0.5</td>\n      <td>60491</td>\n      <td>192.168.50.1</td>\n      <td>58360</td>\n      <td>6</td>\n      <td>2018-12-01 13:30:30.740323</td>\n      <td>1</td>\n      <td>2</td>\n      <td>...</td>\n      <td>0.0</td>\n      <td>0.0</td>\n      <td>0.0</td>\n      <td>0.0</td>\n      <td>0.0</td>\n      <td>0.0</td>\n      <td>0.0</td>\n      <td>0</td>\n      <td>1</td>\n      <td>UDP-lag</td>\n    </tr>\n    <tr>\n      <th>124</th>\n      <td>115128</td>\n      <td>172.16.0.5-192.168.50.1-60492-2905-6</td>\n      <td>172.16.0.5</td>\n      <td>60492</td>\n      <td>192.168.50.1</td>\n      <td>2905</td>\n      <td>6</td>\n      <td>2018-12-01 13:30:30.740374</td>\n      <td>2</td>\n      <td>2</td>\n      <td>...</td>\n      <td>0.0</td>\n      <td>0.0</td>\n      <td>0.0</td>\n      <td>0.0</td>\n      <td>0.0</td>\n      <td>0.0</td>\n      <td>0.0</td>\n      <td>0</td>\n      <td>1</td>\n      <td>UDP-lag</td>\n    </tr>\n    <tr>\n      <th>125</th>\n      <td>51370</td>\n      <td>172.16.0.5-192.168.50.1-60493-45714-6</td>\n      <td>172.16.0.5</td>\n      <td>60493</td>\n      <td>192.168.50.1</td>\n      <td>45714</td>\n      <td>6</td>\n      <td>2018-12-01 13:30:30.740424</td>\n      <td>0</td>\n      <td>2</td>\n      <td>...</td>\n      <td>0.0</td>\n      <td>0.0</td>\n      <td>0.0</td>\n      <td>0.0</td>\n      <td>0.0</td>\n      <td>0.0</td>\n      <td>0.0</td>\n      <td>0</td>\n      <td>1</td>\n      <td>UDP-lag</td>\n    </tr>\n    <tr>\n      <th>126</th>\n      <td>317173</td>\n      <td>172.16.0.5-192.168.50.1-60494-44935-6</td>\n      <td>172.16.0.5</td>\n      <td>60494</td>\n      <td>192.168.50.1</td>\n      <td>44935</td>\n      <td>6</td>\n      <td>2018-12-01 13:30:30.740425</td>\n      <td>134</td>\n      <td>2</td>\n      <td>...</td>\n      <td>0.0</td>\n      <td>0.0</td>\n      <td>0.0</td>\n      <td>0.0</td>\n      <td>0.0</td>\n      <td>0.0</td>\n      <td>0.0</td>\n      <td>0</td>\n      <td>1</td>\n      <td>UDP-lag</td>\n    </tr>\n  </tbody>\n</table>\n<p>370605 rows × 88 columns</p>\n</div>"
     },
     "execution_count": 13,
     "metadata": {},
     "output_type": "execute_result"
    }
   ],
   "source": [
    "%%time\n",
    "df = scheduler.submit(readHugeCsvFileAsDataFrame, path_UDPLag)\n",
    "workingDataFrame = df.result()\n",
    "workingDataFrame"
   ],
   "metadata": {
    "collapsed": false
   }
  },
  {
   "cell_type": "code",
   "execution_count": 14,
   "outputs": [
    {
     "data": {
      "text/plain": "88"
     },
     "execution_count": 14,
     "metadata": {},
     "output_type": "execute_result"
    }
   ],
   "source": [
    "len(list(workingDataFrame.columns))"
   ],
   "metadata": {
    "collapsed": false
   }
  },
  {
   "cell_type": "markdown",
   "source": [
    "Dropping Unnecessary Features & maintaing column consistency"
   ],
   "metadata": {
    "collapsed": false
   }
  },
  {
   "cell_type": "code",
   "execution_count": 15,
   "outputs": [
    {
     "data": {
      "text/plain": "    Source IP  Source Port Destination IP  Destination Port  Protocol  \\\n0  172.16.0.5        58445   192.168.50.1              4463        17   \n1  172.16.0.5        36908   192.168.50.1              9914        17   \n2  172.16.0.5        41727   192.168.50.1             32361        17   \n3  172.16.0.5        55447   192.168.50.1              5691        17   \n4  172.16.0.5        58794   192.168.50.1             56335        17   \n\n   Flow Duration  Total Fwd Packets  Total Backward Packets  \\\n0              1                  2                       0   \n1              1                  2                       0   \n2              2                  2                       0   \n3              2                  2                       0   \n4              1                  2                       0   \n\n   Fwd Packets Length Total  Bwd Packets Length Total  ...  Fwd Seg Size Min  \\\n0                     766.0                       0.0  ...                -1   \n1                     778.0                       0.0  ...                -1   \n2                     750.0                       0.0  ...                -1   \n3                     738.0                       0.0  ...                -1   \n4                     750.0                       0.0  ...                -1   \n\n   Active Mean  Active Std  Active Max  Active Min  Idle Mean  Idle Std  \\\n0          0.0         0.0         0.0         0.0        0.0       0.0   \n1          0.0         0.0         0.0         0.0        0.0       0.0   \n2          0.0         0.0         0.0         0.0        0.0       0.0   \n3          0.0         0.0         0.0         0.0        0.0       0.0   \n4          0.0         0.0         0.0         0.0        0.0       0.0   \n\n   Idle Max  Idle Min    Label  \n0       0.0       0.0  UDP-lag  \n1       0.0       0.0  UDP-lag  \n2       0.0       0.0  UDP-lag  \n3       0.0       0.0  UDP-lag  \n4       0.0       0.0  UDP-lag  \n\n[5 rows x 82 columns]",
      "text/html": "<div>\n<style scoped>\n    .dataframe tbody tr th:only-of-type {\n        vertical-align: middle;\n    }\n\n    .dataframe tbody tr th {\n        vertical-align: top;\n    }\n\n    .dataframe thead th {\n        text-align: right;\n    }\n</style>\n<table border=\"1\" class=\"dataframe\">\n  <thead>\n    <tr style=\"text-align: right;\">\n      <th></th>\n      <th>Source IP</th>\n      <th>Source Port</th>\n      <th>Destination IP</th>\n      <th>Destination Port</th>\n      <th>Protocol</th>\n      <th>Flow Duration</th>\n      <th>Total Fwd Packets</th>\n      <th>Total Backward Packets</th>\n      <th>Fwd Packets Length Total</th>\n      <th>Bwd Packets Length Total</th>\n      <th>...</th>\n      <th>Fwd Seg Size Min</th>\n      <th>Active Mean</th>\n      <th>Active Std</th>\n      <th>Active Max</th>\n      <th>Active Min</th>\n      <th>Idle Mean</th>\n      <th>Idle Std</th>\n      <th>Idle Max</th>\n      <th>Idle Min</th>\n      <th>Label</th>\n    </tr>\n  </thead>\n  <tbody>\n    <tr>\n      <th>0</th>\n      <td>172.16.0.5</td>\n      <td>58445</td>\n      <td>192.168.50.1</td>\n      <td>4463</td>\n      <td>17</td>\n      <td>1</td>\n      <td>2</td>\n      <td>0</td>\n      <td>766.0</td>\n      <td>0.0</td>\n      <td>...</td>\n      <td>-1</td>\n      <td>0.0</td>\n      <td>0.0</td>\n      <td>0.0</td>\n      <td>0.0</td>\n      <td>0.0</td>\n      <td>0.0</td>\n      <td>0.0</td>\n      <td>0.0</td>\n      <td>UDP-lag</td>\n    </tr>\n    <tr>\n      <th>1</th>\n      <td>172.16.0.5</td>\n      <td>36908</td>\n      <td>192.168.50.1</td>\n      <td>9914</td>\n      <td>17</td>\n      <td>1</td>\n      <td>2</td>\n      <td>0</td>\n      <td>778.0</td>\n      <td>0.0</td>\n      <td>...</td>\n      <td>-1</td>\n      <td>0.0</td>\n      <td>0.0</td>\n      <td>0.0</td>\n      <td>0.0</td>\n      <td>0.0</td>\n      <td>0.0</td>\n      <td>0.0</td>\n      <td>0.0</td>\n      <td>UDP-lag</td>\n    </tr>\n    <tr>\n      <th>2</th>\n      <td>172.16.0.5</td>\n      <td>41727</td>\n      <td>192.168.50.1</td>\n      <td>32361</td>\n      <td>17</td>\n      <td>2</td>\n      <td>2</td>\n      <td>0</td>\n      <td>750.0</td>\n      <td>0.0</td>\n      <td>...</td>\n      <td>-1</td>\n      <td>0.0</td>\n      <td>0.0</td>\n      <td>0.0</td>\n      <td>0.0</td>\n      <td>0.0</td>\n      <td>0.0</td>\n      <td>0.0</td>\n      <td>0.0</td>\n      <td>UDP-lag</td>\n    </tr>\n    <tr>\n      <th>3</th>\n      <td>172.16.0.5</td>\n      <td>55447</td>\n      <td>192.168.50.1</td>\n      <td>5691</td>\n      <td>17</td>\n      <td>2</td>\n      <td>2</td>\n      <td>0</td>\n      <td>738.0</td>\n      <td>0.0</td>\n      <td>...</td>\n      <td>-1</td>\n      <td>0.0</td>\n      <td>0.0</td>\n      <td>0.0</td>\n      <td>0.0</td>\n      <td>0.0</td>\n      <td>0.0</td>\n      <td>0.0</td>\n      <td>0.0</td>\n      <td>UDP-lag</td>\n    </tr>\n    <tr>\n      <th>4</th>\n      <td>172.16.0.5</td>\n      <td>58794</td>\n      <td>192.168.50.1</td>\n      <td>56335</td>\n      <td>17</td>\n      <td>1</td>\n      <td>2</td>\n      <td>0</td>\n      <td>750.0</td>\n      <td>0.0</td>\n      <td>...</td>\n      <td>-1</td>\n      <td>0.0</td>\n      <td>0.0</td>\n      <td>0.0</td>\n      <td>0.0</td>\n      <td>0.0</td>\n      <td>0.0</td>\n      <td>0.0</td>\n      <td>0.0</td>\n      <td>UDP-lag</td>\n    </tr>\n  </tbody>\n</table>\n<p>5 rows × 82 columns</p>\n</div>"
     },
     "execution_count": 15,
     "metadata": {},
     "output_type": "execute_result"
    }
   ],
   "source": [
    "workingDataFrame.columns = workingDataFrame.columns.str.strip()  # sometimes there's leading / trailing whitespace\n",
    "workingDataFrame.drop(columns=drop_columns, inplace=True, errors='ignore')\n",
    "workingDataFrame.rename(columns=col_name_consistency, inplace=True)\n",
    "\n",
    "workingDataFrame.head()"
   ],
   "metadata": {
    "collapsed": false
   }
  },
  {
   "cell_type": "markdown",
   "source": [
    "Data Cleaning Based on Data Types (DownSizing)"
   ],
   "metadata": {
    "collapsed": false
   }
  },
  {
   "cell_type": "code",
   "execution_count": 16,
   "outputs": [
    {
     "name": "stdout",
     "output_type": "stream",
     "text": [
      "<class 'pandas.core.frame.DataFrame'>\n",
      "Int64Index: 370605 entries, 0 to 126\n",
      "Data columns (total 82 columns):\n",
      " #   Column                    Non-Null Count   Dtype  \n",
      "---  ------                    --------------   -----  \n",
      " 0   Source IP                 370605 non-null  object \n",
      " 1   Source Port               370605 non-null  int64  \n",
      " 2   Destination IP            370605 non-null  object \n",
      " 3   Destination Port          370605 non-null  int64  \n",
      " 4   Protocol                  370605 non-null  int64  \n",
      " 5   Flow Duration             370605 non-null  int64  \n",
      " 6   Total Fwd Packets         370605 non-null  int64  \n",
      " 7   Total Backward Packets    370605 non-null  int64  \n",
      " 8   Fwd Packets Length Total  370605 non-null  float64\n",
      " 9   Bwd Packets Length Total  370605 non-null  float64\n",
      " 10  Fwd Packet Length Max     370605 non-null  float64\n",
      " 11  Fwd Packet Length Min     370605 non-null  float64\n",
      " 12  Fwd Packet Length Mean    370605 non-null  float64\n",
      " 13  Fwd Packet Length Std     370605 non-null  float64\n",
      " 14  Bwd Packet Length Max     370605 non-null  float64\n",
      " 15  Bwd Packet Length Min     370605 non-null  float64\n",
      " 16  Bwd Packet Length Mean    370605 non-null  float64\n",
      " 17  Bwd Packet Length Std     370605 non-null  float64\n",
      " 18  Flow Bytes/s              334473 non-null  float64\n",
      " 19  Flow Packets/s            370605 non-null  float64\n",
      " 20  Flow IAT Mean             370605 non-null  float64\n",
      " 21  Flow IAT Std              370605 non-null  float64\n",
      " 22  Flow IAT Max              370605 non-null  float64\n",
      " 23  Flow IAT Min              370605 non-null  float64\n",
      " 24  Fwd IAT Total             370605 non-null  float64\n",
      " 25  Fwd IAT Mean              370605 non-null  float64\n",
      " 26  Fwd IAT Std               370605 non-null  float64\n",
      " 27  Fwd IAT Max               370605 non-null  float64\n",
      " 28  Fwd IAT Min               370605 non-null  float64\n",
      " 29  Bwd IAT Total             370605 non-null  float64\n",
      " 30  Bwd IAT Mean              370605 non-null  float64\n",
      " 31  Bwd IAT Std               370605 non-null  float64\n",
      " 32  Bwd IAT Max               370605 non-null  float64\n",
      " 33  Bwd IAT Min               370605 non-null  float64\n",
      " 34  Fwd PSH Flags             370605 non-null  int64  \n",
      " 35  Bwd PSH Flags             370605 non-null  int64  \n",
      " 36  Fwd URG Flags             370605 non-null  int64  \n",
      " 37  Bwd URG Flags             370605 non-null  int64  \n",
      " 38  Fwd Header Length         370605 non-null  int64  \n",
      " 39  Bwd Header Length         370605 non-null  int64  \n",
      " 40  Fwd Packets/s             370605 non-null  float64\n",
      " 41  Bwd Packets/s             370605 non-null  float64\n",
      " 42  Packet Length Min         370605 non-null  float64\n",
      " 43  Packet Length Max         370605 non-null  float64\n",
      " 44  Packet Length Mean        370605 non-null  float64\n",
      " 45  Packet Length Std         370605 non-null  float64\n",
      " 46  Packet Length Variance    370605 non-null  float64\n",
      " 47  FIN Flag Count            370605 non-null  int64  \n",
      " 48  SYN Flag Count            370605 non-null  int64  \n",
      " 49  RST Flag Count            370605 non-null  int64  \n",
      " 50  PSH Flag Count            370605 non-null  int64  \n",
      " 51  ACK Flag Count            370605 non-null  int64  \n",
      " 52  URG Flag Count            370605 non-null  int64  \n",
      " 53  CWE Flag Count            370605 non-null  int64  \n",
      " 54  ECE Flag Count            370605 non-null  int64  \n",
      " 55  Down/Up Ratio             370605 non-null  float64\n",
      " 56  Avg Packet Size           370605 non-null  float64\n",
      " 57  Avg Fwd Segment Size      370605 non-null  float64\n",
      " 58  Avg Bwd Segment Size      370605 non-null  float64\n",
      " 59  Fwd Avg Bytes/Bulk        370605 non-null  int64  \n",
      " 60  Fwd Avg Packets/Bulk      370605 non-null  int64  \n",
      " 61  Fwd Avg Bulk Rate         370605 non-null  int64  \n",
      " 62  Bwd Avg Bytes/Bulk        370605 non-null  int64  \n",
      " 63  Bwd Avg Packets/Bulk      370605 non-null  int64  \n",
      " 64  Bwd Avg Bulk Rate         370605 non-null  int64  \n",
      " 65  Subflow Fwd Packets       370605 non-null  int64  \n",
      " 66  Subflow Fwd Bytes         370605 non-null  int64  \n",
      " 67  Subflow Bwd Packets       370605 non-null  int64  \n",
      " 68  Subflow Bwd Bytes         370605 non-null  int64  \n",
      " 69  Init Fwd Win Bytes        370605 non-null  int64  \n",
      " 70  Init Bwd Win Bytes        370605 non-null  int64  \n",
      " 71  Fwd Act Data Packets      370605 non-null  int64  \n",
      " 72  Fwd Seg Size Min          370605 non-null  int64  \n",
      " 73  Active Mean               370605 non-null  float64\n",
      " 74  Active Std                370605 non-null  float64\n",
      " 75  Active Max                370605 non-null  float64\n",
      " 76  Active Min                370605 non-null  float64\n",
      " 77  Idle Mean                 370605 non-null  float64\n",
      " 78  Idle Std                  370605 non-null  float64\n",
      " 79  Idle Max                  370605 non-null  float64\n",
      " 80  Idle Min                  370605 non-null  float64\n",
      " 81  Label                     370605 non-null  object \n",
      "dtypes: float64(45), int64(34), object(3)\n",
      "memory usage: 296.9 MB\n"
     ]
    }
   ],
   "source": [
    "# workingDataFrame.dtypes\n",
    "workingDataFrame.info(memory_usage=\"deep\")"
   ],
   "metadata": {
    "collapsed": false
   }
  },
  {
   "cell_type": "code",
   "execution_count": 17,
   "outputs": [
    {
     "name": "stdout",
     "output_type": "stream",
     "text": [
      "<class 'pandas.core.frame.DataFrame'>\n",
      "Int64Index: 370605 entries, 0 to 126\n",
      "Data columns (total 82 columns):\n",
      " #   Column                    Non-Null Count   Dtype  \n",
      "---  ------                    --------------   -----  \n",
      " 0   Source IP                 370605 non-null  object \n",
      " 1   Source Port               370605 non-null  int32  \n",
      " 2   Destination IP            370605 non-null  object \n",
      " 3   Destination Port          370605 non-null  int32  \n",
      " 4   Protocol                  370605 non-null  int8   \n",
      " 5   Flow Duration             370605 non-null  int32  \n",
      " 6   Total Fwd Packets         370605 non-null  int16  \n",
      " 7   Total Backward Packets    370605 non-null  int16  \n",
      " 8   Fwd Packets Length Total  370605 non-null  float32\n",
      " 9   Bwd Packets Length Total  370605 non-null  float32\n",
      " 10  Fwd Packet Length Max     370605 non-null  float32\n",
      " 11  Fwd Packet Length Min     370605 non-null  float32\n",
      " 12  Fwd Packet Length Mean    370605 non-null  float32\n",
      " 13  Fwd Packet Length Std     370605 non-null  float32\n",
      " 14  Bwd Packet Length Max     370605 non-null  float32\n",
      " 15  Bwd Packet Length Min     370605 non-null  float32\n",
      " 16  Bwd Packet Length Mean    370605 non-null  float32\n",
      " 17  Bwd Packet Length Std     370605 non-null  float32\n",
      " 18  Flow Bytes/s              334473 non-null  float32\n",
      " 19  Flow Packets/s            370605 non-null  float32\n",
      " 20  Flow IAT Mean             370605 non-null  float32\n",
      " 21  Flow IAT Std              370605 non-null  float32\n",
      " 22  Flow IAT Max              370605 non-null  float32\n",
      " 23  Flow IAT Min              370605 non-null  float32\n",
      " 24  Fwd IAT Total             370605 non-null  float32\n",
      " 25  Fwd IAT Mean              370605 non-null  float32\n",
      " 26  Fwd IAT Std               370605 non-null  float32\n",
      " 27  Fwd IAT Max               370605 non-null  float32\n",
      " 28  Fwd IAT Min               370605 non-null  float32\n",
      " 29  Bwd IAT Total             370605 non-null  float32\n",
      " 30  Bwd IAT Mean              370605 non-null  float32\n",
      " 31  Bwd IAT Std               370605 non-null  float32\n",
      " 32  Bwd IAT Max               370605 non-null  float32\n",
      " 33  Bwd IAT Min               370605 non-null  float32\n",
      " 34  Fwd PSH Flags             370605 non-null  int8   \n",
      " 35  Bwd PSH Flags             370605 non-null  int8   \n",
      " 36  Fwd URG Flags             370605 non-null  int8   \n",
      " 37  Bwd URG Flags             370605 non-null  int8   \n",
      " 38  Fwd Header Length         370605 non-null  int64  \n",
      " 39  Bwd Header Length         370605 non-null  int16  \n",
      " 40  Fwd Packets/s             370605 non-null  float32\n",
      " 41  Bwd Packets/s             370605 non-null  float32\n",
      " 42  Packet Length Min         370605 non-null  float32\n",
      " 43  Packet Length Max         370605 non-null  float32\n",
      " 44  Packet Length Mean        370605 non-null  float32\n",
      " 45  Packet Length Std         370605 non-null  float32\n",
      " 46  Packet Length Variance    370605 non-null  float32\n",
      " 47  FIN Flag Count            370605 non-null  int8   \n",
      " 48  SYN Flag Count            370605 non-null  int8   \n",
      " 49  RST Flag Count            370605 non-null  int8   \n",
      " 50  PSH Flag Count            370605 non-null  int8   \n",
      " 51  ACK Flag Count            370605 non-null  int8   \n",
      " 52  URG Flag Count            370605 non-null  int8   \n",
      " 53  CWE Flag Count            370605 non-null  int8   \n",
      " 54  ECE Flag Count            370605 non-null  int8   \n",
      " 55  Down/Up Ratio             370605 non-null  float32\n",
      " 56  Avg Packet Size           370605 non-null  float32\n",
      " 57  Avg Fwd Segment Size      370605 non-null  float32\n",
      " 58  Avg Bwd Segment Size      370605 non-null  float32\n",
      " 59  Fwd Avg Bytes/Bulk        370605 non-null  int8   \n",
      " 60  Fwd Avg Packets/Bulk      370605 non-null  int8   \n",
      " 61  Fwd Avg Bulk Rate         370605 non-null  int8   \n",
      " 62  Bwd Avg Bytes/Bulk        370605 non-null  int8   \n",
      " 63  Bwd Avg Packets/Bulk      370605 non-null  int8   \n",
      " 64  Bwd Avg Bulk Rate         370605 non-null  int8   \n",
      " 65  Subflow Fwd Packets       370605 non-null  int16  \n",
      " 66  Subflow Fwd Bytes         370605 non-null  int32  \n",
      " 67  Subflow Bwd Packets       370605 non-null  int16  \n",
      " 68  Subflow Bwd Bytes         370605 non-null  int32  \n",
      " 69  Init Fwd Win Bytes        370605 non-null  int32  \n",
      " 70  Init Bwd Win Bytes        370605 non-null  int32  \n",
      " 71  Fwd Act Data Packets      370605 non-null  int8   \n",
      " 72  Fwd Seg Size Min          370605 non-null  int32  \n",
      " 73  Active Mean               370605 non-null  float32\n",
      " 74  Active Std                370605 non-null  float32\n",
      " 75  Active Max                370605 non-null  float32\n",
      " 76  Active Min                370605 non-null  float32\n",
      " 77  Idle Mean                 370605 non-null  float32\n",
      " 78  Idle Std                  370605 non-null  float32\n",
      " 79  Idle Max                  370605 non-null  float32\n",
      " 80  Idle Min                  370605 non-null  float32\n",
      " 81  Label                     370605 non-null  object \n",
      "dtypes: float32(45), int16(5), int32(8), int64(1), int8(20), object(3)\n",
      "memory usage: 161.9 MB\n"
     ]
    }
   ],
   "source": [
    "# converting 64bit float to 32 bit float & 64bit integer to 8bit integer\n",
    "for column in workingDataFrame:\n",
    "    if workingDataFrame[column].dtype == 'float64':\n",
    "        workingDataFrame[column] = pd.to_numeric(workingDataFrame[column], downcast='float')\n",
    "    if workingDataFrame[column].dtype == 'int64':\n",
    "        workingDataFrame[column] = pd.to_numeric(workingDataFrame[column], downcast='integer')\n",
    "\n",
    "workingDataFrame.info(memory_usage=\"deep\") # observe the dTypes"
   ],
   "metadata": {
    "collapsed": false
   }
  },
  {
   "cell_type": "markdown",
   "source": [
    "Finding number of missing values contains features in the dataset"
   ],
   "metadata": {
    "collapsed": false
   }
  },
  {
   "cell_type": "code",
   "execution_count": 18,
   "outputs": [
    {
     "data": {
      "text/plain": "Source IP           0\nSource Port         0\nDestination IP      0\nDestination Port    0\nProtocol            0\n                   ..\nIdle Mean           0\nIdle Std            0\nIdle Max            0\nIdle Min            0\nLabel               0\nLength: 82, dtype: int64"
     },
     "execution_count": 18,
     "metadata": {},
     "output_type": "execute_result"
    }
   ],
   "source": [
    "workingDataFrame.isnull().sum()"
   ],
   "metadata": {
    "collapsed": false
   }
  },
  {
   "cell_type": "markdown",
   "source": [
    "Removing NaN values"
   ],
   "metadata": {
    "collapsed": false
   }
  },
  {
   "cell_type": "code",
   "execution_count": 19,
   "outputs": [
    {
     "data": {
      "text/plain": "36132"
     },
     "execution_count": 19,
     "metadata": {},
     "output_type": "execute_result"
    }
   ],
   "source": [
    "workingDataFrame.isna().any(axis=1).sum()\n",
    "# workingDataFrame.isna().sum()"
   ],
   "metadata": {
    "collapsed": false
   }
  },
  {
   "cell_type": "markdown",
   "source": [],
   "metadata": {
    "collapsed": false
   }
  },
  {
   "cell_type": "code",
   "execution_count": 20,
   "outputs": [
    {
     "data": {
      "text/plain": "36403"
     },
     "execution_count": 20,
     "metadata": {},
     "output_type": "execute_result"
    }
   ],
   "source": [
    "workingDataFrame.replace([np.inf, -np.inf], np.nan, inplace=True)\n",
    "workingDataFrame.isna().any(axis=1).sum()"
   ],
   "metadata": {
    "collapsed": false
   }
  },
  {
   "cell_type": "markdown",
   "source": [
    "After Dropping NaN values, want to see total rows."
   ],
   "metadata": {
    "collapsed": false
   }
  },
  {
   "cell_type": "code",
   "execution_count": 21,
   "outputs": [
    {
     "name": "stdout",
     "output_type": "stream",
     "text": [
      "After dropping NaN values, number of rows: 334202\n",
      "After dropping NaN values, number of columns: 82\n"
     ]
    }
   ],
   "source": [
    "workingDataFrame.dropna(inplace=True)\n",
    "print(f\"After dropping NaN values, number of rows: {workingDataFrame.shape[0]}\")\n",
    "print(f\"After dropping NaN values, number of columns: {workingDataFrame.shape[1]}\")"
   ],
   "metadata": {
    "collapsed": false
   }
  },
  {
   "cell_type": "markdown",
   "source": [
    "That's why, Converting pandas dataFrame into dask's dataFrame"
   ],
   "metadata": {
    "collapsed": false
   }
  },
  {
   "cell_type": "markdown",
   "source": [
    "ddf = dd.from_pandas(workingDataFrame, npartitions=10)\n",
    "ddf.compute()"
   ],
   "metadata": {
    "collapsed": false
   }
  },
  {
   "cell_type": "markdown",
   "source": [
    "Dropping Duplicates\n",
    "There should be no duplicates because they can bias training and can lead to over-optimistic estimates of classification performance during testing."
   ],
   "metadata": {
    "collapsed": false
   }
  },
  {
   "cell_type": "code",
   "execution_count": 22,
   "outputs": [
    {
     "data": {
      "text/plain": "9"
     },
     "execution_count": 22,
     "metadata": {},
     "output_type": "execute_result"
    }
   ],
   "source": [
    "workingDataFrame.duplicated().sum()"
   ],
   "metadata": {
    "collapsed": false
   }
  },
  {
   "cell_type": "markdown",
   "source": [
    "Fully duplicate rows to be removed"
   ],
   "metadata": {
    "collapsed": false
   }
  },
  {
   "cell_type": "code",
   "execution_count": 23,
   "outputs": [
    {
     "name": "stdout",
     "output_type": "stream",
     "text": [
      "After dropping NaN values, number of rows: 334193\n",
      "After dropping NaN values, number of columns: 82\n",
      "After dropping NaN values, unique no of Source IP: 117\n",
      "After dropping NaN values, unique no of Destination IP: 138\n"
     ]
    }
   ],
   "source": [
    "workingDataFrame.drop_duplicates(inplace=True)\n",
    "workingDataFrame.reset_index(inplace=True, drop=True)\n",
    "print(f\"After dropping NaN values, number of rows: {workingDataFrame.shape[0]}\")\n",
    "print(f\"After dropping NaN values, number of columns: {workingDataFrame.shape[1]}\")\n",
    "print(f\"After dropping NaN values, unique no of Source IP: {workingDataFrame['Source IP'].nunique()}\")\n",
    "print(f\"After dropping NaN values, unique no of Destination IP: {workingDataFrame['Destination IP'].nunique()}\")\n",
    "# print(workingDataFrame[\"Source IP\"].unique())\n",
    "# print(workingDataFrame[\"Destination IP\"].unique())"
   ],
   "metadata": {
    "collapsed": false
   }
  },
  {
   "cell_type": "markdown",
   "source": [
    "After data cleaning, how much storage it holds now"
   ],
   "metadata": {
    "collapsed": false
   }
  },
  {
   "cell_type": "code",
   "execution_count": 24,
   "outputs": [
    {
     "name": "stdout",
     "output_type": "stream",
     "text": [
      "<class 'pandas.core.frame.DataFrame'>\n",
      "RangeIndex: 334193 entries, 0 to 334192\n",
      "Data columns (total 82 columns):\n",
      " #   Column                    Non-Null Count   Dtype  \n",
      "---  ------                    --------------   -----  \n",
      " 0   Source IP                 334193 non-null  object \n",
      " 1   Source Port               334193 non-null  int32  \n",
      " 2   Destination IP            334193 non-null  object \n",
      " 3   Destination Port          334193 non-null  int32  \n",
      " 4   Protocol                  334193 non-null  int8   \n",
      " 5   Flow Duration             334193 non-null  int32  \n",
      " 6   Total Fwd Packets         334193 non-null  int16  \n",
      " 7   Total Backward Packets    334193 non-null  int16  \n",
      " 8   Fwd Packets Length Total  334193 non-null  float64\n",
      " 9   Bwd Packets Length Total  334193 non-null  float64\n",
      " 10  Fwd Packet Length Max     334193 non-null  float64\n",
      " 11  Fwd Packet Length Min     334193 non-null  float64\n",
      " 12  Fwd Packet Length Mean    334193 non-null  float64\n",
      " 13  Fwd Packet Length Std     334193 non-null  float64\n",
      " 14  Bwd Packet Length Max     334193 non-null  float64\n",
      " 15  Bwd Packet Length Min     334193 non-null  float64\n",
      " 16  Bwd Packet Length Mean    334193 non-null  float64\n",
      " 17  Bwd Packet Length Std     334193 non-null  float64\n",
      " 18  Flow Bytes/s              334193 non-null  float64\n",
      " 19  Flow Packets/s            334193 non-null  float64\n",
      " 20  Flow IAT Mean             334193 non-null  float64\n",
      " 21  Flow IAT Std              334193 non-null  float64\n",
      " 22  Flow IAT Max              334193 non-null  float64\n",
      " 23  Flow IAT Min              334193 non-null  float64\n",
      " 24  Fwd IAT Total             334193 non-null  float64\n",
      " 25  Fwd IAT Mean              334193 non-null  float64\n",
      " 26  Fwd IAT Std               334193 non-null  float64\n",
      " 27  Fwd IAT Max               334193 non-null  float64\n",
      " 28  Fwd IAT Min               334193 non-null  float64\n",
      " 29  Bwd IAT Total             334193 non-null  float64\n",
      " 30  Bwd IAT Mean              334193 non-null  float64\n",
      " 31  Bwd IAT Std               334193 non-null  float64\n",
      " 32  Bwd IAT Max               334193 non-null  float64\n",
      " 33  Bwd IAT Min               334193 non-null  float64\n",
      " 34  Fwd PSH Flags             334193 non-null  int8   \n",
      " 35  Bwd PSH Flags             334193 non-null  int8   \n",
      " 36  Fwd URG Flags             334193 non-null  int8   \n",
      " 37  Bwd URG Flags             334193 non-null  int8   \n",
      " 38  Fwd Header Length         334193 non-null  int64  \n",
      " 39  Bwd Header Length         334193 non-null  int16  \n",
      " 40  Fwd Packets/s             334193 non-null  float64\n",
      " 41  Bwd Packets/s             334193 non-null  float64\n",
      " 42  Packet Length Min         334193 non-null  float64\n",
      " 43  Packet Length Max         334193 non-null  float64\n",
      " 44  Packet Length Mean        334193 non-null  float64\n",
      " 45  Packet Length Std         334193 non-null  float64\n",
      " 46  Packet Length Variance    334193 non-null  float64\n",
      " 47  FIN Flag Count            334193 non-null  int8   \n",
      " 48  SYN Flag Count            334193 non-null  int8   \n",
      " 49  RST Flag Count            334193 non-null  int8   \n",
      " 50  PSH Flag Count            334193 non-null  int8   \n",
      " 51  ACK Flag Count            334193 non-null  int8   \n",
      " 52  URG Flag Count            334193 non-null  int8   \n",
      " 53  CWE Flag Count            334193 non-null  int8   \n",
      " 54  ECE Flag Count            334193 non-null  int8   \n",
      " 55  Down/Up Ratio             334193 non-null  float64\n",
      " 56  Avg Packet Size           334193 non-null  float64\n",
      " 57  Avg Fwd Segment Size      334193 non-null  float64\n",
      " 58  Avg Bwd Segment Size      334193 non-null  float64\n",
      " 59  Fwd Avg Bytes/Bulk        334193 non-null  int8   \n",
      " 60  Fwd Avg Packets/Bulk      334193 non-null  int8   \n",
      " 61  Fwd Avg Bulk Rate         334193 non-null  int8   \n",
      " 62  Bwd Avg Bytes/Bulk        334193 non-null  int8   \n",
      " 63  Bwd Avg Packets/Bulk      334193 non-null  int8   \n",
      " 64  Bwd Avg Bulk Rate         334193 non-null  int8   \n",
      " 65  Subflow Fwd Packets       334193 non-null  int16  \n",
      " 66  Subflow Fwd Bytes         334193 non-null  int32  \n",
      " 67  Subflow Bwd Packets       334193 non-null  int16  \n",
      " 68  Subflow Bwd Bytes         334193 non-null  int32  \n",
      " 69  Init Fwd Win Bytes        334193 non-null  int32  \n",
      " 70  Init Bwd Win Bytes        334193 non-null  int32  \n",
      " 71  Fwd Act Data Packets      334193 non-null  int8   \n",
      " 72  Fwd Seg Size Min          334193 non-null  int32  \n",
      " 73  Active Mean               334193 non-null  float64\n",
      " 74  Active Std                334193 non-null  float64\n",
      " 75  Active Max                334193 non-null  float64\n",
      " 76  Active Min                334193 non-null  float64\n",
      " 77  Idle Mean                 334193 non-null  float64\n",
      " 78  Idle Std                  334193 non-null  float64\n",
      " 79  Idle Max                  334193 non-null  float64\n",
      " 80  Idle Min                  334193 non-null  float64\n",
      " 81  Label                     334193 non-null  object \n",
      "dtypes: float64(45), int16(5), int32(8), int64(1), int8(20), object(3)\n",
      "memory usage: 200.8 MB\n"
     ]
    }
   ],
   "source": [
    "workingDataFrame.info(memory_usage=\"deep\")"
   ],
   "metadata": {
    "collapsed": false
   }
  },
  {
   "cell_type": "code",
   "execution_count": null,
   "outputs": [
    {
     "data": {
      "text/plain": "Summarize dataset:   0%|          | 0/5 [00:00<?, ?it/s]",
      "application/vnd.jupyter.widget-view+json": {
       "version_major": 2,
       "version_minor": 0,
       "model_id": "c1e012c3a5424411a532d330c1f42b7c"
      }
     },
     "metadata": {},
     "output_type": "display_data"
    }
   ],
   "source": [
    "from pandas_profiling import ProfileReport\n",
    "profile = ProfileReport(workingDataFrame, title=\"DDOS\")\n",
    "profile.to_file(\"UdpLag.html\")"
   ],
   "metadata": {
    "collapsed": false,
    "pycharm": {
     "is_executing": true
    }
   }
  },
  {
   "cell_type": "code",
   "execution_count": null,
   "outputs": [],
   "source": [
    "columnList = workingDataFrame.columns.tolist()\n",
    "# columnList[:-1]  # just for now, Omitting 'label' column\n",
    "\n",
    "from sklearn.feature_selection import VarianceThreshold\n",
    "\n",
    "var_thr = VarianceThreshold(threshold=0.1)  #Removing both constant and quasi-constant\n",
    "var_thr.fit(workingDataFrame[columnList[:-1]])\n",
    "\n",
    "var_threshold_bool_list = var_thr.get_support()\n",
    "var_threshold_bool_list_after_label_added = np.append(var_threshold_bool_list,True)\n",
    "var_threshold_bool_list_after_label_added"
   ],
   "metadata": {
    "collapsed": false
   }
  },
  {
   "cell_type": "code",
   "execution_count": null,
   "outputs": [],
   "source": [
    "concol = [column for column in workingDataFrame.columns\n",
    "          if column not in workingDataFrame.columns[var_threshold_bool_list_after_label_added]]\n",
    "\n",
    "for omittedFeatures in concol:\n",
    "    print(omittedFeatures)\n",
    "\n",
    "workingDataFrame.drop(columns=concol, inplace=True, errors='ignore')\n",
    "workingDataFrame"
   ],
   "metadata": {
    "collapsed": false
   }
  },
  {
   "cell_type": "markdown",
   "source": [
    "Now arising problem is that, row number has been significantly reduced but feature numbers are still 78!!\n",
    "So, need feature engineering here"
   ],
   "metadata": {
    "collapsed": false
   }
  },
  {
   "cell_type": "code",
   "execution_count": null,
   "outputs": [],
   "source": [
    "\n",
    "def featueEngineeringBasedOnZero(dataFrameArg, thresholdPercentage, showPercentage):\n",
    "    totalCols = dataFrameArg.shape[1]\n",
    "    totalRows = len(dataFrameArg)\n",
    "    unNecessaryFeatureCount = 0\n",
    "    unNecessaryFeatureNames = []\n",
    "\n",
    "    for column in dataFrameArg:\n",
    "        zerosInCol = (dataFrameArg[column] == 0).sum()\n",
    "        if zerosInCol != 0:\n",
    "            percentageOfZerosInRow = ((zerosInCol * 100) / totalRows)\n",
    "\n",
    "            if showPercentage:\n",
    "                print(column, \"\\t\\t-\\t\\t\", zerosInCol, \"\\t\\t-\\t\\t\", percentageOfZerosInRow)\n",
    "\n",
    "            if percentageOfZerosInRow > thresholdPercentage:\n",
    "                unNecessaryFeatureNames.append(column)\n",
    "                unNecessaryFeatureCount = unNecessaryFeatureCount + 1\n",
    "\n",
    "    print(\"\\nTotal features having more than \", thresholdPercentage, \"% zero are - \", unNecessaryFeatureCount,\n",
    "          \"out of \",\n",
    "          totalCols)\n",
    "    return unNecessaryFeatureNames"
   ],
   "metadata": {
    "collapsed": false
   }
  },
  {
   "cell_type": "markdown",
   "source": [
    "Identifying those features containing 99% zeroes"
   ],
   "metadata": {
    "collapsed": false
   }
  },
  {
   "cell_type": "code",
   "execution_count": null,
   "outputs": [],
   "source": [
    "featureContainingAlmostZero = featueEngineeringBasedOnZero(dataFrameArg=workingDataFrame, thresholdPercentage=99,\n",
    "                                                           showPercentage=False)\n",
    "featureContainingAlmostZero"
   ],
   "metadata": {
    "collapsed": false
   }
  },
  {
   "cell_type": "markdown",
   "source": [
    "Omitting above features containing 99% zeroes"
   ],
   "metadata": {
    "collapsed": false
   }
  },
  {
   "cell_type": "code",
   "execution_count": null,
   "outputs": [],
   "source": [
    "workingDataFrame.drop(columns=featureContainingAlmostZero, inplace=True, errors='ignore')\n",
    "workingDataFrame.rename(columns=col_name_consistency, inplace=True)\n",
    "workingDataFrame.reset_index(inplace=True, drop=True)\n",
    "workingDataFrame"
   ],
   "metadata": {
    "collapsed": false
   }
  },
  {
   "cell_type": "markdown",
   "source": [
    "Now, To see the number of unique values in each column"
   ],
   "metadata": {
    "collapsed": false
   }
  },
  {
   "cell_type": "code",
   "execution_count": null,
   "outputs": [],
   "source": [
    "workingDataFrame.nunique(axis=0)"
   ],
   "metadata": {
    "collapsed": false
   }
  },
  {
   "cell_type": "code",
   "execution_count": null,
   "outputs": [],
   "source": [
    "workingDataFrame"
   ],
   "metadata": {
    "collapsed": false
   }
  },
  {
   "cell_type": "markdown",
   "source": [
    "Saving New DataFrame as csv file to new location"
   ],
   "metadata": {
    "collapsed": false
   }
  },
  {
   "cell_type": "code",
   "execution_count": null,
   "outputs": [],
   "source": [
    "def dataCleaningResultToAnotherCSV(dataFrameArg, dirPath, file_name):\n",
    "    dataFrameArg.to_csv(dirPath + file_name)"
   ],
   "metadata": {
    "collapsed": false
   }
  },
  {
   "cell_type": "code",
   "execution_count": null,
   "outputs": [],
   "source": [
    "newCsvPath = \"C:\\\\Thesis_Group_of_Brig_Gen_Razzak_Sir\\\\AfterDataCleaning(Final)\\\\\"\n",
    "newFileName = \"UDPLag.csv\"\n",
    "# newFileName = \"Syn.csv\"\n",
    "# newFileName = \"DrDoS_NTP.csv\"\n",
    "# newFileName = \"DrDoS_LDAP.csv\"\n",
    "# newFileName = \"DrDoS_SSDP.csv\"\n",
    "# newFileName = \"DrDoS_UDP.csv\"\n",
    "dataCleaningResultToAnotherCSV(dataFrameArg=workingDataFrame, dirPath=newCsvPath, file_name=newFileName)"
   ],
   "metadata": {
    "collapsed": false
   }
  },
  {
   "cell_type": "code",
   "execution_count": null,
   "outputs": [],
   "source": [
    "import gc\n",
    "gc.collect()\n"
   ],
   "metadata": {
    "collapsed": false
   }
  }
 ],
 "metadata": {
  "kernelspec": {
   "display_name": "Python 3",
   "language": "python",
   "name": "python3"
  },
  "language_info": {
   "codemirror_mode": {
    "name": "ipython",
    "version": 2
   },
   "file_extension": ".py",
   "mimetype": "text/x-python",
   "name": "python",
   "nbconvert_exporter": "python",
   "pygments_lexer": "ipython2",
   "version": "2.7.6"
  }
 },
 "nbformat": 4,
 "nbformat_minor": 0
}

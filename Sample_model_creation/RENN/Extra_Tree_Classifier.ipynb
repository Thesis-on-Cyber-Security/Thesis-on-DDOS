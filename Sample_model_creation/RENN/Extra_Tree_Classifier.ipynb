{
 "cells": [
  {
   "attachments": {},
   "cell_type": "markdown",
   "metadata": {
    "collapsed": false
   },
   "source": [
    "<center><h2>\n",
    "<a href=\"https://rebrand.ly/github-of-masum\">Kindly visit my portfolio to see more of my works</a>\n",
    "</h2></center>"
   ]
  },
  {
   "cell_type": "code",
   "execution_count": 4,
   "metadata": {
    "collapsed": true
   },
   "outputs": [],
   "source": [
    "import warnings\n",
    "\n",
    "import matplotlib.pyplot as plt\n",
    "import pandas as pd\n",
    "import seaborn as sns\n",
    "from dask import dataframe as dd\n",
    "from sklearn.utils import shuffle\n",
    "from sklearn.model_selection import cross_val_score, StratifiedKFold\n",
    "import joblib\n",
    "import optuna\n",
    "from optuna.samplers import TPESampler\n",
    "from sklearn.ensemble import ExtraTreesClassifier\n",
    "\n",
    "warnings.filterwarnings(\"ignore\")"
   ]
  },
  {
   "cell_type": "code",
   "execution_count": 5,
   "metadata": {
    "collapsed": false
   },
   "outputs": [
    {
     "data": {
      "text/plain": [
       "(206860, 43)"
      ]
     },
     "execution_count": 5,
     "metadata": {},
     "output_type": "execute_result"
    }
   ],
   "source": [
    "def readCSV_Function(file_path):\n",
    "    dask_df = dd.read_csv(file_path, blocksize=1e6)\n",
    "    dask_df = dask_df.repartition(npartitions=8)\n",
    "    return dask_df.compute(scheduler='threads')\n",
    "\n",
    "\n",
    "filePath = \"D:\\\\Thesis_Group_of_Brig_Gen_Razzak_Sir\\\\For_Model_Creation\\\\\"\n",
    "fileName = \"Repeated_Edited_Nearest_Neighbors_Under-sampled_Dataset.csv\"\n",
    "df = readCSV_Function(filePath + fileName)\n",
    "df = shuffle(df)\n",
    "df.shape"
   ]
  },
  {
   "cell_type": "code",
   "execution_count": 6,
   "metadata": {
    "collapsed": false
   },
   "outputs": [],
   "source": [
    "from sklearn import preprocessing\n",
    "from sklearn.preprocessing import StandardScaler\n",
    "from sklearn.model_selection import train_test_split\n",
    "\n",
    "SEED = 23\n",
    "optuna_trial_num = 50\n",
    "weights = df['Label'].value_counts() / len(df)\n",
    "y = df['Label']\n",
    "X = df.drop(columns='Label')\n",
    "\n",
    "X_std = StandardScaler().fit_transform(X)  # data standardized / scaled here\n",
    "X_norm = preprocessing.normalize(X_std)\n",
    "\n",
    "X_train, X_test, y_train, y_test = train_test_split(X, y,\n",
    "                                                    random_state=SEED,\n",
    "                                                    test_size=0.2,\n",
    "                                                    shuffle=True)"
   ]
  },
  {
   "cell_type": "markdown",
   "metadata": {
    "collapsed": false
   },
   "source": [
    "#### before applying hyperparameter tuning, let just see without how much accuracy it will provide"
   ]
  },
  {
   "cell_type": "code",
   "execution_count": 17,
   "metadata": {
    "collapsed": false
   },
   "outputs": [
    {
     "name": "stdout",
     "output_type": "stream",
     "text": [
      "Extra Tree mean accuracy using cross validation of 8 fold: 0.9332 \n"
     ]
    }
   ],
   "source": [
    "et_classifier = ExtraTreesClassifier(random_state=SEED,\n",
    "                                    max_depth=10,\n",
    "                                    bootstrap=True,\n",
    "                                    oob_score=True,\n",
    "                                    criterion='entropy',\n",
    "                                    class_weight='balanced',\n",
    "                                    warm_start=True,\n",
    "                                    n_estimators=1000)\n",
    "\n",
    "sKfold = StratifiedKFold(n_splits=8, shuffle=True, random_state=23)\n",
    "# Performing cross-validation\n",
    "cv_accuracy_wth = cross_val_score(estimator=et_classifier,\n",
    "                         X=X_train, y=y_train,\n",
    "                         cv=sKfold, scoring='accuracy',\n",
    "                         n_jobs=-1, verbose=0).mean()\n",
    "\n",
    "print(\"Extra Tree mean accuracy using cross validation of 8 fold: %0.4f \" % cv_accuracy_wth)"
   ]
  },
  {
   "cell_type": "code",
   "execution_count": 7,
   "metadata": {
    "collapsed": false
   },
   "outputs": [
    {
     "data": {
      "text/plain": [
       "42"
      ]
     },
     "execution_count": 7,
     "metadata": {},
     "output_type": "execute_result"
    }
   ],
   "source": [
    "import gc\n",
    "\n",
    "gc.collect()"
   ]
  },
  {
   "cell_type": "markdown",
   "metadata": {
    "collapsed": false
   },
   "source": [
    "<center><h3 style=\"background:yellow;color:black\">\n",
    "Finding out best hyper-parameter for Random Forest\n",
    "</h3></center>"
   ]
  },
  {
   "cell_type": "code",
   "execution_count": 8,
   "metadata": {
    "collapsed": false
   },
   "outputs": [],
   "source": [
    "def objective_etc(trial):\n",
    "    params = {\n",
    "        \"random_state\": SEED,\n",
    "        \"bootstrap\": True,\n",
    "        \"oob_score\": True,\n",
    "        \"class_weight\": 'balanced',\n",
    "        \"criterion\": trial.suggest_categorical(\"criterion\", [\"entropy\", \"gini\", \"log_loss\"]),\n",
    "        \"n_estimators\": trial.suggest_int(\"n_estimators\", 800, 1500, step=100),\n",
    "        \"max_depth\": trial.suggest_int(\"max_depth\", 8, 20),\n",
    "        \"min_samples_split\": trial.suggest_int(\"min_samples_split\", 2, 10),\n",
    "        \"min_samples_leaf\": trial.suggest_int(\"min_samples_leaf\", 1, 10),\n",
    "        \"max_features\": trial.suggest_categorical(\"max_features\", [\"sqrt\", \"log2\"])\n",
    "    }\n",
    "\n",
    "    classifier = ExtraTreesClassifier(**params)\n",
    "    sKfold = StratifiedKFold(n_splits=8, shuffle=True, random_state=SEED)\n",
    "    cv_accuracy = cross_val_score(classifier, X_train, y_train,\n",
    "                                  cv=sKfold,\n",
    "                                  verbose=1,\n",
    "                                  n_jobs=-1,\n",
    "                                  scoring='accuracy').mean()\n",
    "\n",
    "    return -cv_accuracy"
   ]
  },
  {
   "cell_type": "code",
   "execution_count": 9,
   "metadata": {
    "collapsed": false
   },
   "outputs": [
    {
     "name": "stderr",
     "output_type": "stream",
     "text": [
      "\u001b[32m[I 2023-02-24 02:42:23,918]\u001b[0m A new study created in memory with name: Extra_Tree\u001b[0m\n",
      "[Parallel(n_jobs=-1)]: Using backend LokyBackend with 20 concurrent workers.\n",
      "[Parallel(n_jobs=-1)]: Done   5 out of   8 | elapsed:  1.2min remaining:   44.3s\n",
      "[Parallel(n_jobs=-1)]: Done   8 out of   8 | elapsed:  1.2min finished\n",
      "\u001b[32m[I 2023-02-24 02:43:38,916]\u001b[0m Trial 0 finished with value: -0.9240670018369912 and parameters: {'criterion': 'gini', 'n_estimators': 1000, 'max_depth': 10, 'min_samples_split': 8, 'min_samples_leaf': 2, 'max_features': 'log2'}. Best is trial 0 with value: -0.9240670018369912.\u001b[0m\n",
      "[Parallel(n_jobs=-1)]: Using backend LokyBackend with 20 concurrent workers.\n",
      "[Parallel(n_jobs=-1)]: Done   5 out of   8 | elapsed:    1.3s remaining:    0.7s\n",
      "[Parallel(n_jobs=-1)]: Done   8 out of   8 | elapsed:    1.4s finished\n",
      "\u001b[33m[W 2023-02-24 02:43:40,783]\u001b[0m Trial 1 failed with parameters: {'criterion': 'log_loss', 'n_estimators': 1500, 'max_depth': 11, 'min_samples_split': 7, 'min_samples_leaf': 10, 'max_features': 'sqrt'} because of the following error: The value nan is not acceptable..\u001b[0m\n",
      "\u001b[33m[W 2023-02-24 02:43:40,786]\u001b[0m Trial 1 failed with value nan.\u001b[0m\n",
      "[Parallel(n_jobs=-1)]: Using backend LokyBackend with 20 concurrent workers.\n",
      "[Parallel(n_jobs=-1)]: Done   5 out of   8 | elapsed:    1.2s remaining:    0.7s\n",
      "[Parallel(n_jobs=-1)]: Done   8 out of   8 | elapsed:    1.2s finished\n",
      "\u001b[33m[W 2023-02-24 02:43:42,324]\u001b[0m Trial 2 failed with parameters: {'criterion': 'log_loss', 'n_estimators': 1300, 'max_depth': 9, 'min_samples_split': 2, 'min_samples_leaf': 10, 'max_features': 'log2'} because of the following error: The value nan is not acceptable..\u001b[0m\n",
      "\u001b[33m[W 2023-02-24 02:43:42,325]\u001b[0m Trial 2 failed with value nan.\u001b[0m\n",
      "[Parallel(n_jobs=-1)]: Using backend LokyBackend with 20 concurrent workers.\n",
      "[Parallel(n_jobs=-1)]: Done   5 out of   8 | elapsed:  2.1min remaining:  1.3min\n",
      "[Parallel(n_jobs=-1)]: Done   8 out of   8 | elapsed:  2.1min finished\n",
      "\u001b[32m[I 2023-02-24 02:45:51,118]\u001b[0m Trial 3 finished with value: -0.9436756743691386 and parameters: {'criterion': 'gini', 'n_estimators': 1400, 'max_depth': 17, 'min_samples_split': 3, 'min_samples_leaf': 6, 'max_features': 'sqrt'}. Best is trial 3 with value: -0.9436756743691386.\u001b[0m\n",
      "[Parallel(n_jobs=-1)]: Using backend LokyBackend with 20 concurrent workers.\n",
      "[Parallel(n_jobs=-1)]: Done   5 out of   8 | elapsed:  1.8min remaining:  1.1min\n",
      "[Parallel(n_jobs=-1)]: Done   8 out of   8 | elapsed:  1.8min finished\n",
      "\u001b[32m[I 2023-02-24 02:47:38,914]\u001b[0m Trial 4 finished with value: -0.9396874697863289 and parameters: {'criterion': 'entropy', 'n_estimators': 1200, 'max_depth': 15, 'min_samples_split': 8, 'min_samples_leaf': 7, 'max_features': 'sqrt'}. Best is trial 3 with value: -0.9436756743691386.\u001b[0m\n",
      "[Parallel(n_jobs=-1)]: Using backend LokyBackend with 20 concurrent workers.\n",
      "[Parallel(n_jobs=-1)]: Done   5 out of   8 | elapsed:  1.6min remaining:   56.3s\n",
      "[Parallel(n_jobs=-1)]: Done   8 out of   8 | elapsed:  1.6min finished\n",
      "\u001b[32m[I 2023-02-24 02:49:13,433]\u001b[0m Trial 5 finished with value: -0.9439173837377937 and parameters: {'criterion': 'gini', 'n_estimators': 1100, 'max_depth': 20, 'min_samples_split': 10, 'min_samples_leaf': 6, 'max_features': 'log2'}. Best is trial 5 with value: -0.9439173837377937.\u001b[0m\n",
      "[Parallel(n_jobs=-1)]: Using backend LokyBackend with 20 concurrent workers.\n",
      "[Parallel(n_jobs=-1)]: Done   5 out of   8 | elapsed:    0.7s remaining:    0.4s\n",
      "[Parallel(n_jobs=-1)]: Done   8 out of   8 | elapsed:    0.8s finished\n",
      "\u001b[33m[W 2023-02-24 02:49:14,531]\u001b[0m Trial 6 failed with parameters: {'criterion': 'log_loss', 'n_estimators': 1500, 'max_depth': 9, 'min_samples_split': 4, 'min_samples_leaf': 10, 'max_features': 'log2'} because of the following error: The value nan is not acceptable..\u001b[0m\n",
      "\u001b[33m[W 2023-02-24 02:49:14,532]\u001b[0m Trial 6 failed with value nan.\u001b[0m\n",
      "[Parallel(n_jobs=-1)]: Using backend LokyBackend with 20 concurrent workers.\n",
      "[Parallel(n_jobs=-1)]: Done   5 out of   8 | elapsed:    0.7s remaining:    0.4s\n",
      "[Parallel(n_jobs=-1)]: Done   8 out of   8 | elapsed:    0.7s finished\n",
      "\u001b[33m[W 2023-02-24 02:49:15,686]\u001b[0m Trial 7 failed with parameters: {'criterion': 'log_loss', 'n_estimators': 1000, 'max_depth': 13, 'min_samples_split': 10, 'min_samples_leaf': 3, 'max_features': 'log2'} because of the following error: The value nan is not acceptable..\u001b[0m\n",
      "\u001b[33m[W 2023-02-24 02:49:15,687]\u001b[0m Trial 7 failed with value nan.\u001b[0m\n",
      "[Parallel(n_jobs=-1)]: Using backend LokyBackend with 20 concurrent workers.\n",
      "[Parallel(n_jobs=-1)]: Done   5 out of   8 | elapsed:  1.5min remaining:   53.6s\n",
      "[Parallel(n_jobs=-1)]: Done   8 out of   8 | elapsed:  1.5min finished\n",
      "\u001b[32m[I 2023-02-24 02:50:45,679]\u001b[0m Trial 8 finished with value: -0.921124190273615 and parameters: {'criterion': 'entropy', 'n_estimators': 1200, 'max_depth': 9, 'min_samples_split': 2, 'min_samples_leaf': 4, 'max_features': 'sqrt'}. Best is trial 5 with value: -0.9439173837377937.\u001b[0m\n",
      "[Parallel(n_jobs=-1)]: Using backend LokyBackend with 20 concurrent workers.\n",
      "[Parallel(n_jobs=-1)]: Done   5 out of   8 | elapsed:  1.8min remaining:  1.1min\n",
      "[Parallel(n_jobs=-1)]: Done   8 out of   8 | elapsed:  1.9min finished\n",
      "\u001b[32m[I 2023-02-24 02:52:37,437]\u001b[0m Trial 9 finished with value: -0.9455730929130813 and parameters: {'criterion': 'entropy', 'n_estimators': 1200, 'max_depth': 14, 'min_samples_split': 6, 'min_samples_leaf': 2, 'max_features': 'sqrt'}. Best is trial 9 with value: -0.9455730929130813.\u001b[0m\n",
      "[Parallel(n_jobs=-1)]: Using backend LokyBackend with 20 concurrent workers.\n",
      "[Parallel(n_jobs=-1)]: Done   5 out of   8 | elapsed:  1.7min remaining:  1.0min\n",
      "[Parallel(n_jobs=-1)]: Done   8 out of   8 | elapsed:  1.7min finished\n",
      "\u001b[32m[I 2023-02-24 02:54:20,718]\u001b[0m Trial 10 finished with value: -0.9427511360340326 and parameters: {'criterion': 'entropy', 'n_estimators': 1200, 'max_depth': 13, 'min_samples_split': 2, 'min_samples_leaf': 1, 'max_features': 'log2'}. Best is trial 9 with value: -0.9455730929130813.\u001b[0m\n",
      "[Parallel(n_jobs=-1)]: Using backend LokyBackend with 20 concurrent workers.\n",
      "[Parallel(n_jobs=-1)]: Done   5 out of   8 | elapsed:  1.1min remaining:   41.1s\n",
      "[Parallel(n_jobs=-1)]: Done   8 out of   8 | elapsed:  1.2min finished\n",
      "\u001b[32m[I 2023-02-24 02:55:30,344]\u001b[0m Trial 11 finished with value: -0.9301157787875858 and parameters: {'criterion': 'gini', 'n_estimators': 900, 'max_depth': 11, 'min_samples_split': 2, 'min_samples_leaf': 2, 'max_features': 'log2'}. Best is trial 9 with value: -0.9455730929130813.\u001b[0m\n",
      "[Parallel(n_jobs=-1)]: Using backend LokyBackend with 20 concurrent workers.\n",
      "[Parallel(n_jobs=-1)]: Done   5 out of   8 | elapsed:  2.1min remaining:  1.2min\n",
      "[Parallel(n_jobs=-1)]: Done   8 out of   8 | elapsed:  2.1min finished\n",
      "\u001b[32m[I 2023-02-24 02:57:35,530]\u001b[0m Trial 12 finished with value: -0.9403884269554288 and parameters: {'criterion': 'gini', 'n_estimators': 1500, 'max_depth': 18, 'min_samples_split': 6, 'min_samples_leaf': 7, 'max_features': 'log2'}. Best is trial 9 with value: -0.9455730929130813.\u001b[0m\n",
      "[Parallel(n_jobs=-1)]: Using backend LokyBackend with 20 concurrent workers.\n",
      "[Parallel(n_jobs=-1)]: Done   5 out of   8 | elapsed:  1.8min remaining:  1.1min\n",
      "[Parallel(n_jobs=-1)]: Done   8 out of   8 | elapsed:  1.8min finished\n",
      "\u001b[32m[I 2023-02-24 02:59:22,890]\u001b[0m Trial 13 finished with value: -0.9365271197911631 and parameters: {'criterion': 'entropy', 'n_estimators': 1300, 'max_depth': 13, 'min_samples_split': 7, 'min_samples_leaf': 4, 'max_features': 'log2'}. Best is trial 9 with value: -0.9455730929130813.\u001b[0m\n",
      "[Parallel(n_jobs=-1)]: Using backend LokyBackend with 20 concurrent workers.\n",
      "[Parallel(n_jobs=-1)]: Done   5 out of   8 | elapsed:    0.6s remaining:    0.3s\n",
      "[Parallel(n_jobs=-1)]: Done   8 out of   8 | elapsed:    0.6s finished\n",
      "\u001b[33m[W 2023-02-24 02:59:23,864]\u001b[0m Trial 14 failed with parameters: {'criterion': 'log_loss', 'n_estimators': 800, 'max_depth': 15, 'min_samples_split': 5, 'min_samples_leaf': 9, 'max_features': 'sqrt'} because of the following error: The value nan is not acceptable..\u001b[0m\n",
      "\u001b[33m[W 2023-02-24 02:59:23,865]\u001b[0m Trial 14 failed with value nan.\u001b[0m\n",
      "[Parallel(n_jobs=-1)]: Using backend LokyBackend with 20 concurrent workers.\n",
      "[Parallel(n_jobs=-1)]: Done   5 out of   8 | elapsed:    0.6s remaining:    0.3s\n",
      "[Parallel(n_jobs=-1)]: Done   8 out of   8 | elapsed:    0.7s finished\n",
      "\u001b[33m[W 2023-02-24 02:59:25,002]\u001b[0m Trial 15 failed with parameters: {'criterion': 'log_loss', 'n_estimators': 800, 'max_depth': 15, 'min_samples_split': 5, 'min_samples_leaf': 10, 'max_features': 'sqrt'} because of the following error: The value nan is not acceptable..\u001b[0m\n",
      "\u001b[33m[W 2023-02-24 02:59:25,003]\u001b[0m Trial 15 failed with value nan.\u001b[0m\n",
      "[Parallel(n_jobs=-1)]: Using backend LokyBackend with 20 concurrent workers.\n",
      "[Parallel(n_jobs=-1)]: Done   5 out of   8 | elapsed:    0.6s remaining:    0.3s\n",
      "[Parallel(n_jobs=-1)]: Done   8 out of   8 | elapsed:    0.6s finished\n",
      "\u001b[33m[W 2023-02-24 02:59:25,967]\u001b[0m Trial 16 failed with parameters: {'criterion': 'log_loss', 'n_estimators': 800, 'max_depth': 15, 'min_samples_split': 5, 'min_samples_leaf': 10, 'max_features': 'sqrt'} because of the following error: The value nan is not acceptable..\u001b[0m\n",
      "\u001b[33m[W 2023-02-24 02:59:25,968]\u001b[0m Trial 16 failed with value nan.\u001b[0m\n",
      "[Parallel(n_jobs=-1)]: Using backend LokyBackend with 20 concurrent workers.\n",
      "[Parallel(n_jobs=-1)]: Done   5 out of   8 | elapsed:    0.6s remaining:    0.3s\n",
      "[Parallel(n_jobs=-1)]: Done   8 out of   8 | elapsed:    0.7s finished\n",
      "\u001b[33m[W 2023-02-24 02:59:26,970]\u001b[0m Trial 17 failed with parameters: {'criterion': 'log_loss', 'n_estimators': 800, 'max_depth': 15, 'min_samples_split': 5, 'min_samples_leaf': 9, 'max_features': 'sqrt'} because of the following error: The value nan is not acceptable..\u001b[0m\n",
      "\u001b[33m[W 2023-02-24 02:59:26,971]\u001b[0m Trial 17 failed with value nan.\u001b[0m\n",
      "[Parallel(n_jobs=-1)]: Using backend LokyBackend with 20 concurrent workers.\n",
      "[Parallel(n_jobs=-1)]: Done   5 out of   8 | elapsed:    0.6s remaining:    0.3s\n",
      "[Parallel(n_jobs=-1)]: Done   8 out of   8 | elapsed:    0.6s finished\n",
      "\u001b[33m[W 2023-02-24 02:59:28,056]\u001b[0m Trial 18 failed with parameters: {'criterion': 'log_loss', 'n_estimators': 800, 'max_depth': 15, 'min_samples_split': 5, 'min_samples_leaf': 10, 'max_features': 'sqrt'} because of the following error: The value nan is not acceptable..\u001b[0m\n",
      "\u001b[33m[W 2023-02-24 02:59:28,057]\u001b[0m Trial 18 failed with value nan.\u001b[0m\n",
      "[Parallel(n_jobs=-1)]: Using backend LokyBackend with 20 concurrent workers.\n",
      "[Parallel(n_jobs=-1)]: Done   5 out of   8 | elapsed:    0.6s remaining:    0.3s\n",
      "[Parallel(n_jobs=-1)]: Done   8 out of   8 | elapsed:    0.6s finished\n",
      "\u001b[33m[W 2023-02-24 02:59:29,126]\u001b[0m Trial 19 failed with parameters: {'criterion': 'log_loss', 'n_estimators': 800, 'max_depth': 15, 'min_samples_split': 5, 'min_samples_leaf': 10, 'max_features': 'sqrt'} because of the following error: The value nan is not acceptable..\u001b[0m\n",
      "\u001b[33m[W 2023-02-24 02:59:29,128]\u001b[0m Trial 19 failed with value nan.\u001b[0m\n",
      "[Parallel(n_jobs=-1)]: Using backend LokyBackend with 20 concurrent workers.\n",
      "[Parallel(n_jobs=-1)]: Done   5 out of   8 | elapsed:    0.6s remaining:    0.3s\n",
      "[Parallel(n_jobs=-1)]: Done   8 out of   8 | elapsed:    0.6s finished\n",
      "\u001b[33m[W 2023-02-24 02:59:30,106]\u001b[0m Trial 20 failed with parameters: {'criterion': 'log_loss', 'n_estimators': 800, 'max_depth': 15, 'min_samples_split': 5, 'min_samples_leaf': 10, 'max_features': 'sqrt'} because of the following error: The value nan is not acceptable..\u001b[0m\n",
      "\u001b[33m[W 2023-02-24 02:59:30,107]\u001b[0m Trial 20 failed with value nan.\u001b[0m\n",
      "[Parallel(n_jobs=-1)]: Using backend LokyBackend with 20 concurrent workers.\n",
      "[Parallel(n_jobs=-1)]: Done   5 out of   8 | elapsed:    0.6s remaining:    0.3s\n",
      "[Parallel(n_jobs=-1)]: Done   8 out of   8 | elapsed:    0.6s finished\n",
      "\u001b[33m[W 2023-02-24 02:59:31,083]\u001b[0m Trial 21 failed with parameters: {'criterion': 'log_loss', 'n_estimators': 800, 'max_depth': 15, 'min_samples_split': 5, 'min_samples_leaf': 9, 'max_features': 'sqrt'} because of the following error: The value nan is not acceptable..\u001b[0m\n",
      "\u001b[33m[W 2023-02-24 02:59:31,084]\u001b[0m Trial 21 failed with value nan.\u001b[0m\n",
      "[Parallel(n_jobs=-1)]: Using backend LokyBackend with 20 concurrent workers.\n",
      "[Parallel(n_jobs=-1)]: Done   5 out of   8 | elapsed:    0.6s remaining:    0.3s\n",
      "[Parallel(n_jobs=-1)]: Done   8 out of   8 | elapsed:    0.6s finished\n",
      "\u001b[33m[W 2023-02-24 02:59:32,060]\u001b[0m Trial 22 failed with parameters: {'criterion': 'log_loss', 'n_estimators': 800, 'max_depth': 15, 'min_samples_split': 5, 'min_samples_leaf': 10, 'max_features': 'sqrt'} because of the following error: The value nan is not acceptable..\u001b[0m\n",
      "\u001b[33m[W 2023-02-24 02:59:32,060]\u001b[0m Trial 22 failed with value nan.\u001b[0m\n",
      "[Parallel(n_jobs=-1)]: Using backend LokyBackend with 20 concurrent workers.\n",
      "[Parallel(n_jobs=-1)]: Done   5 out of   8 | elapsed:    0.6s remaining:    0.3s\n",
      "[Parallel(n_jobs=-1)]: Done   8 out of   8 | elapsed:    0.6s finished\n",
      "\u001b[33m[W 2023-02-24 02:59:33,155]\u001b[0m Trial 23 failed with parameters: {'criterion': 'log_loss', 'n_estimators': 800, 'max_depth': 15, 'min_samples_split': 5, 'min_samples_leaf': 10, 'max_features': 'sqrt'} because of the following error: The value nan is not acceptable..\u001b[0m\n",
      "\u001b[33m[W 2023-02-24 02:59:33,156]\u001b[0m Trial 23 failed with value nan.\u001b[0m\n",
      "[Parallel(n_jobs=-1)]: Using backend LokyBackend with 20 concurrent workers.\n",
      "[Parallel(n_jobs=-1)]: Done   5 out of   8 | elapsed:    0.6s remaining:    0.3s\n",
      "[Parallel(n_jobs=-1)]: Done   8 out of   8 | elapsed:    0.7s finished\n",
      "\u001b[33m[W 2023-02-24 02:59:34,280]\u001b[0m Trial 24 failed with parameters: {'criterion': 'log_loss', 'n_estimators': 800, 'max_depth': 15, 'min_samples_split': 5, 'min_samples_leaf': 10, 'max_features': 'sqrt'} because of the following error: The value nan is not acceptable..\u001b[0m\n",
      "\u001b[33m[W 2023-02-24 02:59:34,282]\u001b[0m Trial 24 failed with value nan.\u001b[0m\n",
      "[Parallel(n_jobs=-1)]: Using backend LokyBackend with 20 concurrent workers.\n",
      "[Parallel(n_jobs=-1)]: Done   5 out of   8 | elapsed:    0.6s remaining:    0.3s\n",
      "[Parallel(n_jobs=-1)]: Done   8 out of   8 | elapsed:    0.6s finished\n",
      "\u001b[33m[W 2023-02-24 02:59:35,271]\u001b[0m Trial 25 failed with parameters: {'criterion': 'log_loss', 'n_estimators': 800, 'max_depth': 15, 'min_samples_split': 5, 'min_samples_leaf': 10, 'max_features': 'sqrt'} because of the following error: The value nan is not acceptable..\u001b[0m\n",
      "\u001b[33m[W 2023-02-24 02:59:35,272]\u001b[0m Trial 25 failed with value nan.\u001b[0m\n",
      "[Parallel(n_jobs=-1)]: Using backend LokyBackend with 20 concurrent workers.\n",
      "[Parallel(n_jobs=-1)]: Done   5 out of   8 | elapsed:    0.6s remaining:    0.3s\n",
      "[Parallel(n_jobs=-1)]: Done   8 out of   8 | elapsed:    0.6s finished\n",
      "\u001b[33m[W 2023-02-24 02:59:36,347]\u001b[0m Trial 26 failed with parameters: {'criterion': 'log_loss', 'n_estimators': 800, 'max_depth': 15, 'min_samples_split': 5, 'min_samples_leaf': 9, 'max_features': 'sqrt'} because of the following error: The value nan is not acceptable..\u001b[0m\n",
      "\u001b[33m[W 2023-02-24 02:59:36,347]\u001b[0m Trial 26 failed with value nan.\u001b[0m\n",
      "[Parallel(n_jobs=-1)]: Using backend LokyBackend with 20 concurrent workers.\n",
      "[Parallel(n_jobs=-1)]: Done   5 out of   8 | elapsed:    0.6s remaining:    0.3s\n",
      "[Parallel(n_jobs=-1)]: Done   8 out of   8 | elapsed:    0.7s finished\n",
      "\u001b[33m[W 2023-02-24 02:59:37,335]\u001b[0m Trial 27 failed with parameters: {'criterion': 'log_loss', 'n_estimators': 800, 'max_depth': 15, 'min_samples_split': 5, 'min_samples_leaf': 9, 'max_features': 'sqrt'} because of the following error: The value nan is not acceptable..\u001b[0m\n",
      "\u001b[33m[W 2023-02-24 02:59:37,336]\u001b[0m Trial 27 failed with value nan.\u001b[0m\n",
      "[Parallel(n_jobs=-1)]: Using backend LokyBackend with 20 concurrent workers.\n",
      "[Parallel(n_jobs=-1)]: Done   5 out of   8 | elapsed:    0.6s remaining:    0.3s\n",
      "[Parallel(n_jobs=-1)]: Done   8 out of   8 | elapsed:    0.6s finished\n",
      "\u001b[33m[W 2023-02-24 02:59:38,318]\u001b[0m Trial 28 failed with parameters: {'criterion': 'log_loss', 'n_estimators': 800, 'max_depth': 15, 'min_samples_split': 5, 'min_samples_leaf': 10, 'max_features': 'sqrt'} because of the following error: The value nan is not acceptable..\u001b[0m\n",
      "\u001b[33m[W 2023-02-24 02:59:38,318]\u001b[0m Trial 28 failed with value nan.\u001b[0m\n",
      "[Parallel(n_jobs=-1)]: Using backend LokyBackend with 20 concurrent workers.\n",
      "[Parallel(n_jobs=-1)]: Done   5 out of   8 | elapsed:    0.6s remaining:    0.3s\n",
      "[Parallel(n_jobs=-1)]: Done   8 out of   8 | elapsed:    0.7s finished\n",
      "\u001b[33m[W 2023-02-24 02:59:39,422]\u001b[0m Trial 29 failed with parameters: {'criterion': 'log_loss', 'n_estimators': 800, 'max_depth': 16, 'min_samples_split': 5, 'min_samples_leaf': 10, 'max_features': 'sqrt'} because of the following error: The value nan is not acceptable..\u001b[0m\n",
      "\u001b[33m[W 2023-02-24 02:59:39,423]\u001b[0m Trial 29 failed with value nan.\u001b[0m\n",
      "[Parallel(n_jobs=-1)]: Using backend LokyBackend with 20 concurrent workers.\n",
      "[Parallel(n_jobs=-1)]: Done   5 out of   8 | elapsed:    0.6s remaining:    0.3s\n",
      "[Parallel(n_jobs=-1)]: Done   8 out of   8 | elapsed:    0.7s finished\n",
      "\u001b[33m[W 2023-02-24 02:59:40,528]\u001b[0m Trial 30 failed with parameters: {'criterion': 'log_loss', 'n_estimators': 800, 'max_depth': 15, 'min_samples_split': 5, 'min_samples_leaf': 4, 'max_features': 'sqrt'} because of the following error: The value nan is not acceptable..\u001b[0m\n",
      "\u001b[33m[W 2023-02-24 02:59:40,529]\u001b[0m Trial 30 failed with value nan.\u001b[0m\n",
      "[Parallel(n_jobs=-1)]: Using backend LokyBackend with 20 concurrent workers.\n",
      "[Parallel(n_jobs=-1)]: Done   5 out of   8 | elapsed:    0.6s remaining:    0.3s\n",
      "[Parallel(n_jobs=-1)]: Done   8 out of   8 | elapsed:    0.7s finished\n",
      "\u001b[33m[W 2023-02-24 02:59:41,522]\u001b[0m Trial 31 failed with parameters: {'criterion': 'log_loss', 'n_estimators': 800, 'max_depth': 16, 'min_samples_split': 5, 'min_samples_leaf': 10, 'max_features': 'sqrt'} because of the following error: The value nan is not acceptable..\u001b[0m\n",
      "\u001b[33m[W 2023-02-24 02:59:41,523]\u001b[0m Trial 31 failed with value nan.\u001b[0m\n",
      "[Parallel(n_jobs=-1)]: Using backend LokyBackend with 20 concurrent workers.\n",
      "[Parallel(n_jobs=-1)]: Done   5 out of   8 | elapsed:    0.6s remaining:    0.3s\n",
      "[Parallel(n_jobs=-1)]: Done   8 out of   8 | elapsed:    0.7s finished\n",
      "\u001b[33m[W 2023-02-24 02:59:42,626]\u001b[0m Trial 32 failed with parameters: {'criterion': 'log_loss', 'n_estimators': 800, 'max_depth': 16, 'min_samples_split': 5, 'min_samples_leaf': 10, 'max_features': 'sqrt'} because of the following error: The value nan is not acceptable..\u001b[0m\n",
      "\u001b[33m[W 2023-02-24 02:59:42,627]\u001b[0m Trial 32 failed with value nan.\u001b[0m\n",
      "[Parallel(n_jobs=-1)]: Using backend LokyBackend with 20 concurrent workers.\n",
      "[Parallel(n_jobs=-1)]: Done   5 out of   8 | elapsed:    0.6s remaining:    0.3s\n",
      "[Parallel(n_jobs=-1)]: Done   8 out of   8 | elapsed:    0.6s finished\n",
      "\u001b[33m[W 2023-02-24 02:59:43,717]\u001b[0m Trial 33 failed with parameters: {'criterion': 'log_loss', 'n_estimators': 800, 'max_depth': 16, 'min_samples_split': 5, 'min_samples_leaf': 10, 'max_features': 'sqrt'} because of the following error: The value nan is not acceptable..\u001b[0m\n",
      "\u001b[33m[W 2023-02-24 02:59:43,719]\u001b[0m Trial 33 failed with value nan.\u001b[0m\n",
      "[Parallel(n_jobs=-1)]: Using backend LokyBackend with 20 concurrent workers.\n",
      "[Parallel(n_jobs=-1)]: Done   5 out of   8 | elapsed:    0.6s remaining:    0.3s\n",
      "[Parallel(n_jobs=-1)]: Done   8 out of   8 | elapsed:    0.6s finished\n",
      "\u001b[33m[W 2023-02-24 02:59:44,708]\u001b[0m Trial 34 failed with parameters: {'criterion': 'log_loss', 'n_estimators': 800, 'max_depth': 15, 'min_samples_split': 5, 'min_samples_leaf': 10, 'max_features': 'sqrt'} because of the following error: The value nan is not acceptable..\u001b[0m\n",
      "\u001b[33m[W 2023-02-24 02:59:44,709]\u001b[0m Trial 34 failed with value nan.\u001b[0m\n",
      "[Parallel(n_jobs=-1)]: Using backend LokyBackend with 20 concurrent workers.\n",
      "[Parallel(n_jobs=-1)]: Done   5 out of   8 | elapsed:    0.6s remaining:    0.3s\n",
      "[Parallel(n_jobs=-1)]: Done   8 out of   8 | elapsed:    0.6s finished\n",
      "\u001b[33m[W 2023-02-24 02:59:45,792]\u001b[0m Trial 35 failed with parameters: {'criterion': 'log_loss', 'n_estimators': 800, 'max_depth': 15, 'min_samples_split': 5, 'min_samples_leaf': 9, 'max_features': 'sqrt'} because of the following error: The value nan is not acceptable..\u001b[0m\n",
      "\u001b[33m[W 2023-02-24 02:59:45,793]\u001b[0m Trial 35 failed with value nan.\u001b[0m\n",
      "[Parallel(n_jobs=-1)]: Using backend LokyBackend with 20 concurrent workers.\n",
      "[Parallel(n_jobs=-1)]: Done   5 out of   8 | elapsed:    0.6s remaining:    0.3s\n",
      "[Parallel(n_jobs=-1)]: Done   8 out of   8 | elapsed:    0.6s finished\n",
      "\u001b[33m[W 2023-02-24 02:59:46,873]\u001b[0m Trial 36 failed with parameters: {'criterion': 'log_loss', 'n_estimators': 800, 'max_depth': 15, 'min_samples_split': 5, 'min_samples_leaf': 10, 'max_features': 'sqrt'} because of the following error: The value nan is not acceptable..\u001b[0m\n",
      "\u001b[33m[W 2023-02-24 02:59:46,874]\u001b[0m Trial 36 failed with value nan.\u001b[0m\n",
      "[Parallel(n_jobs=-1)]: Using backend LokyBackend with 20 concurrent workers.\n",
      "[Parallel(n_jobs=-1)]: Done   5 out of   8 | elapsed:    0.6s remaining:    0.3s\n",
      "[Parallel(n_jobs=-1)]: Done   8 out of   8 | elapsed:    0.7s finished\n",
      "\u001b[33m[W 2023-02-24 02:59:47,864]\u001b[0m Trial 37 failed with parameters: {'criterion': 'log_loss', 'n_estimators': 900, 'max_depth': 15, 'min_samples_split': 5, 'min_samples_leaf': 10, 'max_features': 'sqrt'} because of the following error: The value nan is not acceptable..\u001b[0m\n",
      "\u001b[33m[W 2023-02-24 02:59:47,865]\u001b[0m Trial 37 failed with value nan.\u001b[0m\n",
      "[Parallel(n_jobs=-1)]: Using backend LokyBackend with 20 concurrent workers.\n",
      "[Parallel(n_jobs=-1)]: Done   5 out of   8 | elapsed:    0.6s remaining:    0.3s\n",
      "[Parallel(n_jobs=-1)]: Done   8 out of   8 | elapsed:    0.6s finished\n",
      "\u001b[33m[W 2023-02-24 02:59:48,938]\u001b[0m Trial 38 failed with parameters: {'criterion': 'log_loss', 'n_estimators': 800, 'max_depth': 15, 'min_samples_split': 5, 'min_samples_leaf': 10, 'max_features': 'sqrt'} because of the following error: The value nan is not acceptable..\u001b[0m\n",
      "\u001b[33m[W 2023-02-24 02:59:48,939]\u001b[0m Trial 38 failed with value nan.\u001b[0m\n",
      "[Parallel(n_jobs=-1)]: Using backend LokyBackend with 20 concurrent workers.\n",
      "[Parallel(n_jobs=-1)]: Done   5 out of   8 | elapsed:    0.6s remaining:    0.3s\n",
      "[Parallel(n_jobs=-1)]: Done   8 out of   8 | elapsed:    0.6s finished\n",
      "\u001b[33m[W 2023-02-24 02:59:50,013]\u001b[0m Trial 39 failed with parameters: {'criterion': 'log_loss', 'n_estimators': 800, 'max_depth': 15, 'min_samples_split': 5, 'min_samples_leaf': 10, 'max_features': 'sqrt'} because of the following error: The value nan is not acceptable..\u001b[0m\n",
      "\u001b[33m[W 2023-02-24 02:59:50,014]\u001b[0m Trial 39 failed with value nan.\u001b[0m\n",
      "[Parallel(n_jobs=-1)]: Using backend LokyBackend with 20 concurrent workers.\n",
      "[Parallel(n_jobs=-1)]: Done   5 out of   8 | elapsed:    0.6s remaining:    0.3s\n",
      "[Parallel(n_jobs=-1)]: Done   8 out of   8 | elapsed:    0.6s finished\n",
      "\u001b[33m[W 2023-02-24 02:59:50,993]\u001b[0m Trial 40 failed with parameters: {'criterion': 'log_loss', 'n_estimators': 800, 'max_depth': 15, 'min_samples_split': 5, 'min_samples_leaf': 10, 'max_features': 'sqrt'} because of the following error: The value nan is not acceptable..\u001b[0m\n",
      "\u001b[33m[W 2023-02-24 02:59:50,994]\u001b[0m Trial 40 failed with value nan.\u001b[0m\n",
      "[Parallel(n_jobs=-1)]: Using backend LokyBackend with 20 concurrent workers.\n",
      "[Parallel(n_jobs=-1)]: Done   5 out of   8 | elapsed:    0.6s remaining:    0.3s\n",
      "[Parallel(n_jobs=-1)]: Done   8 out of   8 | elapsed:    0.6s finished\n",
      "\u001b[33m[W 2023-02-24 02:59:52,064]\u001b[0m Trial 41 failed with parameters: {'criterion': 'log_loss', 'n_estimators': 800, 'max_depth': 16, 'min_samples_split': 5, 'min_samples_leaf': 9, 'max_features': 'sqrt'} because of the following error: The value nan is not acceptable..\u001b[0m\n",
      "\u001b[33m[W 2023-02-24 02:59:52,064]\u001b[0m Trial 41 failed with value nan.\u001b[0m\n",
      "[Parallel(n_jobs=-1)]: Using backend LokyBackend with 20 concurrent workers.\n",
      "[Parallel(n_jobs=-1)]: Done   5 out of   8 | elapsed:    0.6s remaining:    0.3s\n",
      "[Parallel(n_jobs=-1)]: Done   8 out of   8 | elapsed:    0.6s finished\n",
      "\u001b[33m[W 2023-02-24 02:59:53,043]\u001b[0m Trial 42 failed with parameters: {'criterion': 'log_loss', 'n_estimators': 800, 'max_depth': 16, 'min_samples_split': 5, 'min_samples_leaf': 4, 'max_features': 'sqrt'} because of the following error: The value nan is not acceptable..\u001b[0m\n",
      "\u001b[33m[W 2023-02-24 02:59:53,044]\u001b[0m Trial 42 failed with value nan.\u001b[0m\n",
      "[Parallel(n_jobs=-1)]: Using backend LokyBackend with 20 concurrent workers.\n",
      "[Parallel(n_jobs=-1)]: Done   5 out of   8 | elapsed:    0.6s remaining:    0.3s\n",
      "[Parallel(n_jobs=-1)]: Done   8 out of   8 | elapsed:    0.6s finished\n",
      "\u001b[33m[W 2023-02-24 02:59:54,022]\u001b[0m Trial 43 failed with parameters: {'criterion': 'log_loss', 'n_estimators': 800, 'max_depth': 15, 'min_samples_split': 5, 'min_samples_leaf': 10, 'max_features': 'sqrt'} because of the following error: The value nan is not acceptable..\u001b[0m\n",
      "\u001b[33m[W 2023-02-24 02:59:54,023]\u001b[0m Trial 43 failed with value nan.\u001b[0m\n",
      "[Parallel(n_jobs=-1)]: Using backend LokyBackend with 20 concurrent workers.\n",
      "[Parallel(n_jobs=-1)]: Done   5 out of   8 | elapsed:    0.6s remaining:    0.3s\n",
      "[Parallel(n_jobs=-1)]: Done   8 out of   8 | elapsed:    0.7s finished\n",
      "\u001b[33m[W 2023-02-24 02:59:55,125]\u001b[0m Trial 44 failed with parameters: {'criterion': 'log_loss', 'n_estimators': 800, 'max_depth': 16, 'min_samples_split': 5, 'min_samples_leaf': 10, 'max_features': 'sqrt'} because of the following error: The value nan is not acceptable..\u001b[0m\n",
      "\u001b[33m[W 2023-02-24 02:59:55,126]\u001b[0m Trial 44 failed with value nan.\u001b[0m\n",
      "[Parallel(n_jobs=-1)]: Using backend LokyBackend with 20 concurrent workers.\n",
      "[Parallel(n_jobs=-1)]: Done   5 out of   8 | elapsed:    0.6s remaining:    0.3s\n",
      "[Parallel(n_jobs=-1)]: Done   8 out of   8 | elapsed:    0.6s finished\n",
      "\u001b[33m[W 2023-02-24 02:59:56,115]\u001b[0m Trial 45 failed with parameters: {'criterion': 'log_loss', 'n_estimators': 800, 'max_depth': 15, 'min_samples_split': 5, 'min_samples_leaf': 10, 'max_features': 'sqrt'} because of the following error: The value nan is not acceptable..\u001b[0m\n",
      "\u001b[33m[W 2023-02-24 02:59:56,116]\u001b[0m Trial 45 failed with value nan.\u001b[0m\n",
      "[Parallel(n_jobs=-1)]: Using backend LokyBackend with 20 concurrent workers.\n",
      "[Parallel(n_jobs=-1)]: Done   5 out of   8 | elapsed:    0.6s remaining:    0.3s\n",
      "[Parallel(n_jobs=-1)]: Done   8 out of   8 | elapsed:    0.7s finished\n",
      "\u001b[33m[W 2023-02-24 02:59:57,223]\u001b[0m Trial 46 failed with parameters: {'criterion': 'log_loss', 'n_estimators': 800, 'max_depth': 15, 'min_samples_split': 5, 'min_samples_leaf': 10, 'max_features': 'sqrt'} because of the following error: The value nan is not acceptable..\u001b[0m\n",
      "\u001b[33m[W 2023-02-24 02:59:57,224]\u001b[0m Trial 46 failed with value nan.\u001b[0m\n",
      "[Parallel(n_jobs=-1)]: Using backend LokyBackend with 20 concurrent workers.\n",
      "[Parallel(n_jobs=-1)]: Done   5 out of   8 | elapsed:    0.6s remaining:    0.3s\n",
      "[Parallel(n_jobs=-1)]: Done   8 out of   8 | elapsed:    0.7s finished\n",
      "\u001b[33m[W 2023-02-24 02:59:58,266]\u001b[0m Trial 47 failed with parameters: {'criterion': 'log_loss', 'n_estimators': 800, 'max_depth': 16, 'min_samples_split': 5, 'min_samples_leaf': 10, 'max_features': 'sqrt'} because of the following error: The value nan is not acceptable..\u001b[0m\n",
      "\u001b[33m[W 2023-02-24 02:59:58,267]\u001b[0m Trial 47 failed with value nan.\u001b[0m\n",
      "[Parallel(n_jobs=-1)]: Using backend LokyBackend with 20 concurrent workers.\n",
      "[Parallel(n_jobs=-1)]: Done   5 out of   8 | elapsed:    0.6s remaining:    0.3s\n",
      "[Parallel(n_jobs=-1)]: Done   8 out of   8 | elapsed:    0.6s finished\n",
      "\u001b[33m[W 2023-02-24 02:59:59,224]\u001b[0m Trial 48 failed with parameters: {'criterion': 'log_loss', 'n_estimators': 800, 'max_depth': 15, 'min_samples_split': 5, 'min_samples_leaf': 10, 'max_features': 'sqrt'} because of the following error: The value nan is not acceptable..\u001b[0m\n",
      "\u001b[33m[W 2023-02-24 02:59:59,225]\u001b[0m Trial 48 failed with value nan.\u001b[0m\n",
      "[Parallel(n_jobs=-1)]: Using backend LokyBackend with 20 concurrent workers.\n",
      "[Parallel(n_jobs=-1)]: Done   5 out of   8 | elapsed:    0.6s remaining:    0.3s\n",
      "[Parallel(n_jobs=-1)]: Done   8 out of   8 | elapsed:    0.7s finished\n",
      "\u001b[33m[W 2023-02-24 03:00:00,326]\u001b[0m Trial 49 failed with parameters: {'criterion': 'log_loss', 'n_estimators': 800, 'max_depth': 15, 'min_samples_split': 5, 'min_samples_leaf': 9, 'max_features': 'sqrt'} because of the following error: The value nan is not acceptable..\u001b[0m\n",
      "\u001b[33m[W 2023-02-24 03:00:00,327]\u001b[0m Trial 49 failed with value nan.\u001b[0m\n"
     ]
    }
   ],
   "source": [
    "sampler_etc = TPESampler(seed=SEED)\n",
    "study_etc = optuna.create_study(study_name=\"Extra_Tree\", \n",
    "                                direction=\"minimize\", \n",
    "                                sampler=sampler_etc,\n",
    "                               load_if_exists=True)\n",
    "study_etc.optimize(objective_etc, n_trials=optuna_trial_num)"
   ]
  },
  {
   "cell_type": "code",
   "execution_count": 10,
   "metadata": {
    "collapsed": false
   },
   "outputs": [
    {
     "name": "stdout",
     "output_type": "stream",
     "text": [
      "Best parameters: \n",
      "{'criterion': 'entropy', 'n_estimators': 1200, 'max_depth': 14, 'min_samples_split': 6, 'min_samples_leaf': 2, 'max_features': 'sqrt'}\n",
      "\n",
      "'Best value: -0.9455730929130813\n"
     ]
    }
   ],
   "source": [
    "print(f\"Best parameters: \\n{study_etc.best_params}\\n\\n'Best value: {study_etc.best_value}\")"
   ]
  },
  {
   "attachments": {},
   "cell_type": "markdown",
   "metadata": {
    "collapsed": false
   },
   "source": [
    "#### After Hyper parameter tuning, now Extra Tree model training & onwards"
   ]
  },
  {
   "cell_type": "code",
   "execution_count": 11,
   "metadata": {
    "collapsed": false
   },
   "outputs": [
    {
     "name": "stdout",
     "output_type": "stream",
     "text": [
      "Stratified 8 fold cross validated mean accuracy: 0.9455730929130813\n"
     ]
    }
   ],
   "source": [
    "from sklearn.metrics import classification_report\n",
    "\n",
    "params_etc_best = {\n",
    "        \"random_state\": SEED,\n",
    "        \"bootstrap\": True,\n",
    "        \"oob_score\": True,\n",
    "        \"class_weight\": 'balanced',\n",
    "        \"criterion\": 'entropy',\n",
    "        \"n_estimators\": 1200,\n",
    "        \"max_depth\": 14,\n",
    "        \"min_samples_split\": 6,\n",
    "        \"min_samples_leaf\": 2,\n",
    "        \"max_features\": 'sqrt'\n",
    "    }\n",
    "\n",
    "et_classifier_best = ExtraTreesClassifier(**params_etc_best)\n",
    "sKfold = StratifiedKFold(n_splits=8, shuffle=True, random_state=SEED)\n",
    "cv_accuracy_rf = cross_val_score(et_classifier_best,\n",
    "                                 X_train, y_train,\n",
    "                                 cv=sKfold,\n",
    "                                 n_jobs=-1,\n",
    "                                 scoring='accuracy').mean()\n",
    "print(f\"Stratified 8 fold cross validated mean accuracy: {cv_accuracy_rf}\")"
   ]
  },
  {
   "cell_type": "code",
   "execution_count": 12,
   "metadata": {
    "collapsed": false
   },
   "outputs": [
    {
     "data": {
      "text/plain": [
       "['D:\\\\Thesis_Group_of_Brig_Gen_Razzak_Sir\\\\Generated_Models\\\\Extra_Tree_model_on_RENN.pkl']"
      ]
     },
     "execution_count": 12,
     "metadata": {},
     "output_type": "execute_result"
    }
   ],
   "source": [
    "modelPath = \"D:\\\\Thesis_Group_of_Brig_Gen_Razzak_Sir\\\\Generated_Models\\\\\"\n",
    "modelName = \"Extra_Tree_model_on_RENN.pkl\"\n",
    "\n",
    "# Fitting the model on the full dataset\n",
    "et_classifier_best.fit(X, y)\n",
    "\n",
    "joblib.dump(value=et_classifier_best, filename=modelPath + modelName)"
   ]
  }
 ],
 "metadata": {
  "kernelspec": {
   "display_name": "Python 3",
   "language": "python",
   "name": "python3"
  },
  "language_info": {
   "codemirror_mode": {
    "name": "ipython",
    "version": 2
   },
   "file_extension": ".py",
   "mimetype": "text/x-python",
   "name": "python",
   "nbconvert_exporter": "python",
   "pygments_lexer": "ipython2",
   "version": "2.7.6"
  }
 },
 "nbformat": 4,
 "nbformat_minor": 0
}

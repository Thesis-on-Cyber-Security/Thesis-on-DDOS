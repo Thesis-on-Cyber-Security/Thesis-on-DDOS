{
 "cells": [
  {
   "cell_type": "markdown",
   "source": [
    "<center><h2>\n",
    "<a href=\"https://masumbhai.me\">Kindly visit my portfolio to see more of my works</a>\n",
    "</h2></center>"
   ],
   "metadata": {
    "collapsed": false
   }
  },
  {
   "cell_type": "code",
   "execution_count": null,
   "metadata": {
    "collapsed": true
   },
   "outputs": [],
   "source": [
    "import warnings\n",
    "\n",
    "import matplotlib.pyplot as plt\n",
    "import pandas as pd\n",
    "import seaborn as sns\n",
    "from dask import dataframe as dd\n",
    "from sklearn.utils import shuffle\n",
    "from sklearn.model_selection import cross_val_score,StratifiedKFold\n",
    "import joblib\n",
    "import optuna\n",
    "from optuna.samplers import TPESampler\n",
    "from sklearn.ensemble import RandomForestClassifier\n",
    "\n",
    "warnings.filterwarnings(\"ignore\")"
   ]
  },
  {
   "cell_type": "code",
   "execution_count": null,
   "outputs": [],
   "source": [
    "def readCSV_Function(file_path):\n",
    "    dask_df = dd.read_csv(file_path, blocksize=1e6)\n",
    "    dask_df = dask_df.repartition(npartitions=8)\n",
    "    return dask_df.compute(scheduler='threads')\n",
    "\n",
    "filePath = \"D:\\\\Thesis_Group_of_Brig_Gen_Razzak_Sir\\\\For_Model_Creation\\\\\"\n",
    "fileName = \"Repeated_Edited_Nearest_Neighbors_Under-sampled_Dataset.csv\"\n",
    "df = readCSV_Function(filePath+fileName)\n",
    "df = shuffle(df)\n",
    "df.shape"
   ],
   "metadata": {
    "collapsed": false
   }
  },
  {
   "cell_type": "code",
   "execution_count": null,
   "outputs": [],
   "source": [
    "from sklearn import preprocessing\n",
    "from sklearn.preprocessing import StandardScaler\n",
    "from sklearn.model_selection import train_test_split\n",
    "\n",
    "SEED = 23\n",
    "optuna_trial_num = 20\n",
    "weights = df['Label'].value_counts()/len(df)\n",
    "y = df['Label']\n",
    "X = df.drop(columns='Label')\n",
    "\n",
    "X_std = StandardScaler().fit_transform(X) # data standardized / scaled here\n",
    "X_norm = preprocessing.normalize(X_std)\n",
    "\n",
    "X_train, X_test, y_train, y_test = train_test_split(X, y ,\n",
    "                                                    random_state=SEED,\n",
    "                                                    test_size=0.2,\n",
    "                                                    shuffle=True)"
   ],
   "metadata": {
    "collapsed": false
   }
  },
  {
   "cell_type": "markdown",
   "source": [
    "from sklearn.manifold import TSNE\n",
    "from sklearn.decomposition import PCA\n",
    "\n",
    "imgPath = \"G:\\\\Brig_Gen_Razzak_Sir_Thesis_Group\\\\Thesis-on-DDOS-main\\\\images\\\\\"\n",
    "imgName = \"Visualizing_DDoS_using_PCA_tSNE_in_RENN_dataset.png\"\n",
    "\n",
    "pca = PCA(n_components=0.999)\n",
    "principalComponents = pca.fit_transform(X_norm)\n",
    "\n",
    "tsne_ = TSNE(random_state = 23,\n",
    "             n_components=2,\n",
    "             verbose=0,\n",
    "             perplexity=40,\n",
    "             learning_rate='warn',\n",
    "             n_iter=500,\n",
    "             n_jobs=-1).fit_transform(principalComponents)\n",
    "\n",
    "plt.figure(figsize=(16,16))\n",
    "sns.scatterplot(x=tsne_[:, 0], y=tsne_[:, 1], s= 100,\n",
    "                hue=df['Label'],\n",
    "                cmap='Spectral',alpha=0.7,\n",
    "                sizes=(20, 200), legend=\"full\",palette=\"deep\")\n",
    "plt.title('Visualizing DDoS through t-SNE (in RENN dataset)', fontsize=24)\n",
    "plt.savefig(imgPath+imgName)"
   ],
   "metadata": {
    "collapsed": false
   }
  },
  {
   "cell_type": "markdown",
   "source": [
    "before_encoding_dataframe = df.copy(deep=True)\n",
    "le = preprocessing.LabelEncoder()\n",
    "df[\"Label\"] = le.fit_transform(df[\"Label\"])\n",
    "df[\"Label\"] = pd.to_numeric(df['Label'], downcast='integer')"
   ],
   "metadata": {
    "collapsed": false
   }
  },
  {
   "cell_type": "code",
   "execution_count": null,
   "outputs": [],
   "source": [
    "from sklearn.tree import DecisionTreeClassifier\n",
    "from sklearn.model_selection import cross_val_score,StratifiedKFold\n",
    "\n",
    "dt_classifier = DecisionTreeClassifier(criterion=\"entropy\",\n",
    "                                       min_samples_split=5,\n",
    "                                       random_state=23,\n",
    "                                       max_depth=20,\n",
    "                                       max_features='auto')\n",
    "\n",
    "sKfold = StratifiedKFold(n_splits=8, shuffle=True, random_state=23)\n",
    "# Performing cross-validation\n",
    "scores = cross_val_score(estimator=dt_classifier, X=X,y=y, cv=sKfold, scoring='accuracy',n_jobs=-1,verbose=0)\n",
    "\n",
    "print(\"Decision Tree mean accuracy using cross validation of 8 fold: %0.4f \" % (scores.mean()))"
   ],
   "metadata": {
    "collapsed": false
   }
  },
  {
   "cell_type": "code",
   "execution_count": null,
   "outputs": [],
   "source": [
    "modelPath = \"D:\\\\Thesis_Group_of_Brig_Gen_Razzak_Sir\\\\Generated_Models\\\\\"\n",
    "modelName = \"Decision_Tree_model_on_RENN.pkl\"\n",
    "\n",
    "# Fitting the model on the full dataset\n",
    "dt_classifier.fit(X,y)\n",
    "\n",
    "joblib.dump(value=dt_classifier,filename=modelPath+modelName)"
   ],
   "metadata": {
    "collapsed": false
   }
  },
  {
   "cell_type": "markdown",
   "source": [
    "with open(modelPath+modelName,'rb') as f:\n",
    "    loaded_model = joblib.load(f)\n",
    "\n",
    "print(dir(loaded_model))"
   ],
   "metadata": {
    "collapsed": false
   }
  },
  {
   "cell_type": "markdown",
   "source": [
    "### plotting decision tree"
   ],
   "metadata": {
    "collapsed": false
   }
  },
  {
   "cell_type": "code",
   "execution_count": null,
   "outputs": [],
   "source": [
    "# %%capture\n",
    "# for not showing the huge plot inside the notebook\n",
    "from sklearn import tree\n",
    "import graphviz\n",
    "\n",
    "imgPath = \"G:\\\\Brig_Gen_Razzak_Sir_Thesis_Group\\\\Thesis-on-DDOS-main\\\\images\\\\\"\n",
    "imgName = \"decision_tree_of_RENN.png\"\n",
    "\n",
    "labels = [\"DrDoS_SSDP\",\"DrDoS_UDP\",\"DrDoS_NetBIOS\",\"BENIGN\",\"DrDoS_LDAP\",\"DrDoS_DNS\",\"DrDoS_MSSQL\",\"DrDoS_SNMP\",\"UDP-lag\",\"DrDoS_NTP\",\"Syn\",\"TFTP\"]\n",
    "features = X.columns\n",
    "\n",
    "# Generate a visualization of the decision tree\n",
    "dot_data = tree.export_graphviz(decision_tree=dt_classifier,\n",
    "                                out_file=None,\n",
    "                                feature_names=features,\n",
    "                                class_names=labels,\n",
    "                                filled=True,\n",
    "                                rounded=True,\n",
    "                                proportion=True,\n",
    "                                special_characters=True)\n",
    "graph = graphviz.Source(dot_data,format='png')\n",
    "graph\n",
    "# graph.render(directory=imgPath,filename=\"Visualizing_DDoS_through_Decision_Tree.png\")\n",
    "#\n",
    "# # fig, axes = plt.subplots(nrows = 1,ncols = 1,figsize = (4,4), dpi=300)\n",
    "# fig = plt.figure(figsize=(15,10))\n",
    "# # plt.figure(figsize=(60, 60))\n",
    "# # plt.title('Visualizing DDoS through Decision Tree', fontsize=24)\n",
    "# tree.plot_tree(decision_tree=dt_classifier,\n",
    "#           feature_names=features,\n",
    "#           class_names=labels,\n",
    "#           max_depth=5,\n",
    "#           rounded=True, # Rounded node edges\n",
    "#           filled=True, # Adds color according to class\n",
    "#           proportion=True) # Displays the proportions of class samples instead of the whole number of samples\n",
    "# fig.savefig(imgPath+imgName)"
   ],
   "metadata": {
    "collapsed": false
   }
  },
  {
   "cell_type": "code",
   "execution_count": null,
   "outputs": [],
   "source": [
    "import gc\n",
    "gc.collect()"
   ],
   "metadata": {
    "collapsed": false
   }
  },
  {
   "cell_type": "markdown",
   "source": [
    "### before applying hyperparameter tuning, let just see without how much accuracy it will provide"
   ],
   "metadata": {
    "collapsed": false
   }
  },
  {
   "cell_type": "code",
   "execution_count": null,
   "outputs": [],
   "source": [
    "# creating new model instance\n",
    "rf_classifier = RandomForestClassifier(random_state=SEED,\n",
    "                                       max_depth=10,\n",
    "                                       bootstrap=True,\n",
    "                                       oob_score=True,\n",
    "                                       criterion='entropy',\n",
    "                                       class_weight='balanced',\n",
    "                                       n_estimators=1000)\n",
    "\n",
    "sKfold = StratifiedKFold(n_splits=8, shuffle=True, random_state=SEED)\n",
    "cv_accuracy = cross_val_score(rf_classifier, X_train, y_train,\n",
    "                              cv=sKfold,\n",
    "                              verbose=1,\n",
    "                              n_jobs=-1,\n",
    "                              scoring='accuracy').mean()\n",
    "cv_accuracy"
   ],
   "metadata": {
    "collapsed": false
   }
  },
  {
   "cell_type": "markdown",
   "source": [
    "<center><h3 style=\"background:yellow;color:black\">\n",
    "Finding out best hyper-parameter for Random Forest\n",
    "</h3></center>"
   ],
   "metadata": {
    "collapsed": false
   }
  },
  {
   "cell_type": "code",
   "execution_count": null,
   "outputs": [],
   "source": [
    "def objective_rf(trial):\n",
    "    params = {\n",
    "        \"random_state\": SEED,\n",
    "        \"bootstrap\" : True,\n",
    "        \"oob_score\": True,\n",
    "        \"verbose\": 2,\n",
    "        \"criterion\": 'entropy',\n",
    "        \"class_weight\": 'balanced',\n",
    "        \"n_estimators\": trial.suggest_int(\"n_estimators\", 800, 1500, step=100),\n",
    "        \"max_depth\" : trial.suggest_int(\"max_depth\", 10, 20),\n",
    "        \"min_samples_split\" : trial.suggest_int(\"min_samples_split\", 2, 10),\n",
    "        \"min_samples_leaf\" : trial.suggest_int(\"min_samples_leaf\", 1, 10),\n",
    "        \"max_features\" : trial.suggest_categorical(\"max_features\", [\"auto\", \"sqrt\", \"log2\"])\n",
    "    }\n",
    "\n",
    "    classifier = RandomForestClassifier(**params)\n",
    "    sKfold = StratifiedKFold(n_splits=8, shuffle=True, random_state=SEED)\n",
    "    cv_accuracy = cross_val_score(classifier, X_train, y_train,\n",
    "                                  cv=sKfold,\n",
    "                                  verbose=1,\n",
    "                                  n_jobs=-1,\n",
    "                                  scoring='accuracy').mean()\n",
    "\n",
    "    return cv_accuracy"
   ],
   "metadata": {
    "collapsed": false
   }
  },
  {
   "cell_type": "code",
   "execution_count": null,
   "outputs": [],
   "source": [
    "sampler_rf = TPESampler(seed=SEED)\n",
    "study_rf = optuna.create_study(study_name=\"Random_Forest\", direction=\"maximize\", sampler=sampler_rf,load_if_exists=True)\n",
    "study_rf.optimize(objective_rf, n_trials=optuna_trial_num)"
   ],
   "metadata": {
    "collapsed": false
   }
  },
  {
   "cell_type": "code",
   "execution_count": null,
   "outputs": [],
   "source": [
    "print(f\"Best parameters: \\n{study_rf.best_params}\\n'Best value: {study_rf.best_value}\")"
   ],
   "metadata": {
    "collapsed": false
   }
  },
  {
   "cell_type": "markdown",
   "source": [
    "#### After Hyper parameter tuning, now Random Forest model training & onwards"
   ],
   "metadata": {
    "collapsed": false
   }
  },
  {
   "cell_type": "code",
   "execution_count": null,
   "outputs": [],
   "source": [
    "from sklearn.metrics import classification_report\n",
    "\n",
    "rf_best_params = {\n",
    "    \"random_state\": SEED,\n",
    "    \"bootstrap\" : True,\n",
    "    \"oob_score\": True,\n",
    "    \"criterion\": 'entropy',\n",
    "    \"class_weight\": 'balanced',\n",
    "    \"n_estimators\": 1000,\n",
    "    \"max_depth\" : 20,\n",
    "    \"min_samples_split\" : 8,\n",
    "    \"min_samples_leaf\" : 1,\n",
    "    \"max_features\" : 'log2'\n",
    "}\n",
    "\n",
    "rf_classifier_best = RandomForestClassifier(**rf_best_params)\n",
    "sKfold = StratifiedKFold(n_splits=8, shuffle=True, random_state=SEED)\n",
    "cv_accuracy_rf = cross_val_score(rf_classifier_best,\n",
    "                              X_train, y_train,\n",
    "                              cv=sKfold,\n",
    "                              n_jobs=-1,\n",
    "                              scoring='accuracy').mean()\n",
    "print(f\"Stratified 8 fold cross validated mean accuracy: {cv_accuracy_rf}\")"
   ],
   "metadata": {
    "collapsed": false
   }
  },
  {
   "cell_type": "code",
   "execution_count": null,
   "outputs": [],
   "source": [
    "modelPath = \"D:\\\\Thesis_Group_of_Brig_Gen_Razzak_Sir\\\\Generated_Models\\\\\"\n",
    "modelName = \"Random_Forest_model_on_RENN.pkl\"\n",
    "\n",
    "# Fitting the model on the full dataset\n",
    "rf_classifier_best.fit(X,y)\n",
    "\n",
    "joblib.dump(value=rf_classifier_best,filename=modelPath+modelName)"
   ],
   "metadata": {
    "collapsed": false
   }
  }
 ],
 "metadata": {
  "kernelspec": {
   "display_name": "Python 3",
   "language": "python",
   "name": "python3"
  },
  "language_info": {
   "codemirror_mode": {
    "name": "ipython",
    "version": 2
   },
   "file_extension": ".py",
   "mimetype": "text/x-python",
   "name": "python",
   "nbconvert_exporter": "python",
   "pygments_lexer": "ipython2",
   "version": "2.7.6"
  }
 },
 "nbformat": 4,
 "nbformat_minor": 0
}

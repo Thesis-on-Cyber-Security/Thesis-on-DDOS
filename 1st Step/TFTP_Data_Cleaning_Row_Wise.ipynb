{
 "cells": [
  {
   "cell_type": "markdown",
   "source": [
    "<center><h2>\n",
    "<a href=\"https://masumbhai.me\">Kindly visit my portfolio to see more of my works</a>\n",
    "</h2></center>"
   ],
   "metadata": {
    "collapsed": false
   }
  },
  {
   "cell_type": "markdown",
   "source": [
    "<p style=\"background:black\">\n",
    "<code style=\"background:black;color: #0FFF50\">\n",
    "anaconda login <br/>\n",
    "conda install -c conda-forge numpy <br/>\n",
    "pip install pandas <br/>\n",
    "pip install seaborn <br/>\n",
    "conda install -c conda-forge matplotlib <br/>\n",
    "conda install -c conda-forge scikit-learn <br/>\n",
    "conda install -c conda-forge dask <br/>\n",
    "conda install -c fastai fastcore <br/>\n",
    "conda install jupyter notebook <br/>\n",
    "pip install jupyter <br/>\n",
    "pip install tqdm <br/>\n",
    "conda install cudatoolkit <br/>\n",
    "pip install --default-timeout=100 tensorflow==2.3.4 <br/>\n",
    "pip install --default-timeout=100 tensorflow-gpu==2.3.4 <br/>\n",
    "pip install numba <br/>\n",
    "</code>\n",
    "</p>"
   ],
   "metadata": {
    "collapsed": false
   }
  },
  {
   "cell_type": "code",
   "execution_count": 1,
   "metadata": {
    "collapsed": true
   },
   "outputs": [],
   "source": [
    "import pandas as pd\n",
    "import numpy as np\n",
    "from dask import dataframe as dd\n",
    "from dask.distributed import Client"
   ]
  },
  {
   "cell_type": "markdown",
   "source": [
    "<center><h4 style=\"background:yellow;color:black\">\n",
    "Setting up paths to csv files / datasets\n",
    "</center></h4>"
   ],
   "metadata": {
    "collapsed": false
   }
  },
  {
   "cell_type": "code",
   "execution_count": 2,
   "outputs": [
    {
     "name": "stdout",
     "output_type": "stream",
     "text": [
      "Total Dataset CSV Files 11\n"
     ]
    }
   ],
   "source": [
    "# CSV-01-12\n",
    "path_DdoS_DNS = \"C:\\\\Thesis_Group_of_Brig_Gen_Razzak_Sir\\\\01-12\\\\DrDoS_DNS.csv\"\n",
    "path_DdoS_MSSQL = \"C:\\\\Thesis_Group_of_Brig_Gen_Razzak_Sir\\\\01-12\\\\DrDoS_MSSQL.csv\"\n",
    "path_DdoS_LDAP = \"C:\\\\Thesis_Group_of_Brig_Gen_Razzak_Sir\\\\01-12\\\\DrDoS_LDAP.csv\"\n",
    "path_DdoS_NTP = \"C:\\\\Thesis_Group_of_Brig_Gen_Razzak_Sir\\\\01-12\\\\DrDoS_NTP.csv\"\n",
    "path_DdoS_NetBIOS = \"C:\\\\Thesis_Group_of_Brig_Gen_Razzak_Sir\\\\01-12\\\\DrDoS_NetBIOS.csv\"\n",
    "path_DdoS_SNMP = \"C:\\\\Thesis_Group_of_Brig_Gen_Razzak_Sir\\\\01-12\\\\DrDoS_SNMP.csv\"\n",
    "path_DdoS_SSDP = \"C:\\\\Thesis_Group_of_Brig_Gen_Razzak_Sir\\\\01-12\\\\DrDoS_SSDP.csv\"\n",
    "path_DdoS_UDP = \"C:\\\\Thesis_Group_of_Brig_Gen_Razzak_Sir\\\\01-12\\\\DrDoS_UDP.csv\"\n",
    "path_Syn = \"C:\\\\Thesis_Group_of_Brig_Gen_Razzak_Sir\\\\01-12\\\\Syn.csv\"\n",
    "path_TFTP = \"C:\\\\Thesis_Group_of_Brig_Gen_Razzak_Sir\\\\01-12\\\\TFTP.csv\"\n",
    "path_UDPLag = \"C:\\\\Thesis_Group_of_Brig_Gen_Razzak_Sir\\\\01-12\\\\UDPLag.csv\"\n",
    "\n",
    "# # CSV-03-11\n",
    "# path__LDAP = \"../CICDDoS-2019/CSV-03-11/03-11/LDAP.csv\"\n",
    "# path__MSSQL = \"../CICDDoS-2019/CSV-03-11/03-11/MSSQL.csv\"\n",
    "# path__NetBIOS = \"../CICDDoS-2019/CSV-03-11/03-11/NetBIOS.csv\"\n",
    "# path__Portmap = \"../CICDDoS-2019/CSV-03-11/03-11/Portmap.csv\"\n",
    "# path__Syn = \"../CICDDoS-2019/CSV-03-11/03-11/Syn.csv\"\n",
    "# path__UDP = \"../CICDDoS-2019/CSV-03-11/03-11/UDP.csv\"\n",
    "# path__UDPLag = \"../CICDDoS-2019/CSV-03-11/03-11/UDPLag.csv\"\n",
    "\n",
    "paths = [path_DdoS_DNS, path_DdoS_MSSQL, path_DdoS_LDAP, path_DdoS_NTP, path_DdoS_NetBIOS, path_DdoS_SNMP,\n",
    "         path_DdoS_SSDP, path_DdoS_UDP, path_Syn, path_TFTP, path_UDPLag]\n",
    "# , path__LDAP, path__MSSQL, path__NetBIOS,\n",
    "#      path__Portmap, path__Syn, path__UDP, path__UDPLag]\n",
    "print(\"Total Dataset CSV Files\", len(paths))\n"
   ],
   "metadata": {
    "collapsed": false
   }
  },
  {
   "cell_type": "markdown",
   "source": [
    "Assuming Column / feature names might differ in different csv files"
   ],
   "metadata": {
    "collapsed": false
   }
  },
  {
   "cell_type": "code",
   "execution_count": 3,
   "outputs": [],
   "source": [
    "col_name_consistency = {\n",
    "    'Flow ID': 'Flow ID',\n",
    "    'Source IP': 'Source IP',\n",
    "    'Src IP': 'Source IP',\n",
    "    'Source Port': 'Source Port',\n",
    "    'Src Port': 'Source Port',\n",
    "    'Destination IP': 'Destination IP',\n",
    "    'Dst IP': 'Destination IP',\n",
    "    'Destination Port': 'Destination Port',\n",
    "    'Dst Port': 'Destination Port',\n",
    "    'Protocol': 'Protocol',\n",
    "    'Timestamp': 'Timestamp',\n",
    "    'Flow Duration': 'Flow Duration',\n",
    "    'Total Fwd Packets': 'Total Fwd Packets',\n",
    "    'Tot Fwd Pkts': 'Total Fwd Packets',\n",
    "    'Total Backward Packets': 'Total Backward Packets',\n",
    "    'Tot Bwd Pkts': 'Total Backward Packets',\n",
    "    'Total Length of Fwd Packets': 'Fwd Packets Length Total',\n",
    "    'TotLen Fwd Pkts': 'Fwd Packets Length Total',\n",
    "    'Total Length of Bwd Packets': 'Bwd Packets Length Total',\n",
    "    'TotLen Bwd Pkts': 'Bwd Packets Length Total',\n",
    "    'Fwd Packet Length Max': 'Fwd Packet Length Max',\n",
    "    'Fwd Pkt Len Max': 'Fwd Packet Length Max',\n",
    "    'Fwd Packet Length Min': 'Fwd Packet Length Min',\n",
    "    'Fwd Pkt Len Min': 'Fwd Packet Length Min',\n",
    "    'Fwd Packet Length Mean': 'Fwd Packet Length Mean',\n",
    "    'Fwd Pkt Len Mean': 'Fwd Packet Length Mean',\n",
    "    'Fwd Packet Length Std': 'Fwd Packet Length Std',\n",
    "    'Fwd Pkt Len Std': 'Fwd Packet Length Std',\n",
    "    'Bwd Packet Length Max': 'Bwd Packet Length Max',\n",
    "    'Bwd Pkt Len Max': 'Bwd Packet Length Max',\n",
    "    'Bwd Packet Length Min': 'Bwd Packet Length Min',\n",
    "    'Bwd Pkt Len Min': 'Bwd Packet Length Min',\n",
    "    'Bwd Packet Length Mean': 'Bwd Packet Length Mean',\n",
    "    'Bwd Pkt Len Mean': 'Bwd Packet Length Mean',\n",
    "    'Bwd Packet Length Std': 'Bwd Packet Length Std',\n",
    "    'Bwd Pkt Len Std': 'Bwd Packet Length Std',\n",
    "    'Flow Bytes/s': 'Flow Bytes/s',\n",
    "    'Flow Byts/s': 'Flow Bytes/s',\n",
    "    'Flow Packets/s': 'Flow Packets/s',\n",
    "    'Flow Pkts/s': 'Flow Packets/s',\n",
    "    'Flow IAT Mean': 'Flow IAT Mean',\n",
    "    'Flow IAT Std': 'Flow IAT Std',\n",
    "    'Flow IAT Max': 'Flow IAT Max',\n",
    "    'Flow IAT Min': 'Flow IAT Min',\n",
    "    'Fwd IAT Total': 'Fwd IAT Total',\n",
    "    'Fwd IAT Tot': 'Fwd IAT Total',\n",
    "    'Fwd IAT Mean': 'Fwd IAT Mean',\n",
    "    'Fwd IAT Std': 'Fwd IAT Std',\n",
    "    'Fwd IAT Max': 'Fwd IAT Max',\n",
    "    'Fwd IAT Min': 'Fwd IAT Min',\n",
    "    'Bwd IAT Total': 'Bwd IAT Total',\n",
    "    'Bwd IAT Tot': 'Bwd IAT Total',\n",
    "    'Bwd IAT Mean': 'Bwd IAT Mean',\n",
    "    'Bwd IAT Std': 'Bwd IAT Std',\n",
    "    'Bwd IAT Max': 'Bwd IAT Max',\n",
    "    'Bwd IAT Min': 'Bwd IAT Min',\n",
    "    'Fwd PSH Flags': 'Fwd PSH Flags',\n",
    "    'Bwd PSH Flags': 'Bwd PSH Flags',\n",
    "    'Fwd URG Flags': 'Fwd URG Flags',\n",
    "    'Bwd URG Flags': 'Bwd URG Flags',\n",
    "    'Fwd Header Length': 'Fwd Header Length',\n",
    "    'Fwd Header Len': 'Fwd Header Length',\n",
    "    'Bwd Header Length': 'Bwd Header Length',\n",
    "    'Bwd Header Len': 'Bwd Header Length',\n",
    "    'Fwd Packets/s': 'Fwd Packets/s',\n",
    "    'Fwd Pkts/s': 'Fwd Packets/s',\n",
    "    'Bwd Packets/s': 'Bwd Packets/s',\n",
    "    'Bwd Pkts/s': 'Bwd Packets/s',\n",
    "    'Min Packet Length': 'Packet Length Min',\n",
    "    'Pkt Len Min': 'Packet Length Min',\n",
    "    'Max Packet Length': 'Packet Length Max',\n",
    "    'Pkt Len Max': 'Packet Length Max',\n",
    "    'Packet Length Mean': 'Packet Length Mean',\n",
    "    'Pkt Len Mean': 'Packet Length Mean',\n",
    "    'Packet Length Std': 'Packet Length Std',\n",
    "    'Pkt Len Std': 'Packet Length Std',\n",
    "    'Packet Length Variance': 'Packet Length Variance',\n",
    "    'Pkt Len Var': 'Packet Length Variance',\n",
    "    'FIN Flag Count': 'FIN Flag Count',\n",
    "    'FIN Flag Cnt': 'FIN Flag Count',\n",
    "    'SYN Flag Count': 'SYN Flag Count',\n",
    "    'SYN Flag Cnt': 'SYN Flag Count',\n",
    "    'RST Flag Count': 'RST Flag Count',\n",
    "    'RST Flag Cnt': 'RST Flag Count',\n",
    "    'PSH Flag Count': 'PSH Flag Count',\n",
    "    'PSH Flag Cnt': 'PSH Flag Count',\n",
    "    'ACK Flag Count': 'ACK Flag Count',\n",
    "    'ACK Flag Cnt': 'ACK Flag Count',\n",
    "    'URG Flag Count': 'URG Flag Count',\n",
    "    'URG Flag Cnt': 'URG Flag Count',\n",
    "    'CWE Flag Count': 'CWE Flag Count',\n",
    "    'CWE Flag Cnt': 'CWE Flag Count',\n",
    "    'ECE Flag Count': 'ECE Flag Count',\n",
    "    'ECE Flag Cnt': 'ECE Flag Count',\n",
    "    'Down/Up Ratio': 'Down/Up Ratio',\n",
    "    'Average Packet Size': 'Avg Packet Size',\n",
    "    'Pkt Size Avg': 'Avg Packet Size',\n",
    "    'Avg Fwd Segment Size': 'Avg Fwd Segment Size',\n",
    "    'Fwd Seg Size Avg': 'Avg Fwd Segment Size',\n",
    "    'Avg Bwd Segment Size': 'Avg Bwd Segment Size',\n",
    "    'Bwd Seg Size Avg': 'Avg Bwd Segment Size',\n",
    "    'Fwd Avg Bytes/Bulk': 'Fwd Avg Bytes/Bulk',\n",
    "    'Fwd Byts/b Avg': 'Fwd Avg Bytes/Bulk',\n",
    "    'Fwd Avg Packets/Bulk': 'Fwd Avg Packets/Bulk',\n",
    "    'Fwd Pkts/b Avg': 'Fwd Avg Packets/Bulk',\n",
    "    'Fwd Avg Bulk Rate': 'Fwd Avg Bulk Rate',\n",
    "    'Fwd Blk Rate Avg': 'Fwd Avg Bulk Rate',\n",
    "    'Bwd Avg Bytes/Bulk': 'Bwd Avg Bytes/Bulk',\n",
    "    'Bwd Byts/b Avg': 'Bwd Avg Bytes/Bulk',\n",
    "    'Bwd Avg Packets/Bulk': 'Bwd Avg Packets/Bulk',\n",
    "    'Bwd Pkts/b Avg': 'Bwd Avg Packets/Bulk',\n",
    "    'Bwd Avg Bulk Rate': 'Bwd Avg Bulk Rate',\n",
    "    'Bwd Blk Rate Avg': 'Bwd Avg Bulk Rate',\n",
    "    'Subflow Fwd Packets': 'Subflow Fwd Packets',\n",
    "    'Subflow Fwd Pkts': 'Subflow Fwd Packets',\n",
    "    'Subflow Fwd Bytes': 'Subflow Fwd Bytes',\n",
    "    'Subflow Fwd Byts': 'Subflow Fwd Bytes',\n",
    "    'Subflow Bwd Packets': 'Subflow Bwd Packets',\n",
    "    'Subflow Bwd Pkts': 'Subflow Bwd Packets',\n",
    "    'Subflow Bwd Bytes': 'Subflow Bwd Bytes',\n",
    "    'Subflow Bwd Byts': 'Subflow Bwd Bytes',\n",
    "    'Init_Win_bytes_forward': 'Init Fwd Win Bytes',\n",
    "    'Init Fwd Win Byts': 'Init Fwd Win Bytes',\n",
    "    'Init_Win_bytes_backward': 'Init Bwd Win Bytes',\n",
    "    'Init Bwd Win Byts': 'Init Bwd Win Bytes',\n",
    "    'act_data_pkt_fwd': 'Fwd Act Data Packets',\n",
    "    'Fwd Act Data Pkts': 'Fwd Act Data Packets',\n",
    "    'min_seg_size_forward': 'Fwd Seg Size Min',\n",
    "    'Fwd Seg Size Min': 'Fwd Seg Size Min',\n",
    "    'Active Mean': 'Active Mean',\n",
    "    'Active Std': 'Active Std',\n",
    "    'Active Max': 'Active Max',\n",
    "    'Active Min': 'Active Min',\n",
    "    'Idle Mean': 'Idle Mean',\n",
    "    'Idle Std': 'Idle Std',\n",
    "    'Idle Max': 'Idle Max',\n",
    "    'Idle Min': 'Idle Min',\n",
    "    'Label': 'Label'\n",
    "}"
   ],
   "metadata": {
    "collapsed": false
   }
  },
  {
   "cell_type": "markdown",
   "source": [
    "Using Parallel Processing {Dask Library} to Read the Large (above 1GB) csv files as chunk-wise but returning pandas dataframe"
   ],
   "metadata": {
    "collapsed": false
   }
  },
  {
   "cell_type": "code",
   "execution_count": 4,
   "outputs": [],
   "source": [
    "def readHugeCsvFileAsDataFrame(file_path):\n",
    "    dtypes = {'SimillarHTTP': 'object',\n",
    "              'Timestamp': 'object',\n",
    "              'Source IP': 'str',\n",
    "              'Destination IP': 'str',\n",
    "              'Flow ID': 'object',\n",
    "              'Label': 'object',\n",
    "              }\n",
    "    for feature in [f'f_{i}' for i in range(82)]:\n",
    "        dtypes[feature] = \"float32\"\n",
    "\n",
    "    # here is a trick, 40 lakh rows told to read but this csv contains 21 lakh rows, so whole file is being read\n",
    "    dask_df = dd.read_csv(file_path, low_memory=False, blocksize=1e9, dtype=dtypes).head(n=4000000)  # 50MB chunk-size\n",
    "    # dask_df = dask_df.repartition(npartitions=8)\n",
    "    # return dask_df.compute(scheduler='threads')\n",
    "    return dask_df\n"
   ],
   "metadata": {
    "collapsed": false
   }
  },
  {
   "cell_type": "markdown",
   "source": [
    "With Scheduler (see the elapsed time to process each file)"
   ],
   "metadata": {
    "collapsed": false
   }
  },
  {
   "cell_type": "code",
   "execution_count": 5,
   "outputs": [
    {
     "name": "stderr",
     "output_type": "stream",
     "text": [
      "C:\\Users\\MIST LAB\\anaconda3\\envs\\ml_env\\lib\\site-packages\\dask\\dataframe\\core.py:7117: UserWarning: Insufficient elements for `head`. 4000000 elements requested, only 2154148 elements available. Try passing larger `npartitions` to `head`.\n",
      "  f\"Insufficient elements for `head`. {n} elements requested, only {len(r)} \"\n"
     ]
    },
    {
     "name": "stdout",
     "output_type": "stream",
     "text": [
      "Wall time: 16 s\n"
     ]
    },
    {
     "data": {
      "text/plain": "         Unnamed: 0                                 Flow ID   Source IP  \\\n0             46970   172.16.0.5-192.168.50.1-64670-64670-6  172.16.0.5   \n1            164775   172.16.0.5-192.168.50.1-16405-16405-6  172.16.0.5   \n2            177893   172.16.0.5-192.168.50.1-45838-45838-6  172.16.0.5   \n3             82756   172.16.0.5-192.168.50.1-27049-27049-6  172.16.0.5   \n4            153782   172.16.0.5-192.168.50.1-43305-27049-6  172.16.0.5   \n...             ...                                     ...         ...   \n2154143       11856  172.16.0.5-192.168.50.1-62983-51638-17  172.16.0.5   \n2154144       46003  172.16.0.5-192.168.50.1-34089-58012-17  172.16.0.5   \n2154145        1740  172.16.0.5-192.168.50.1-48203-47232-17  172.16.0.5   \n2154146       74807    172.16.0.5-192.168.50.1-21417-539-17  172.16.0.5   \n2154147       17301  172.16.0.5-192.168.50.1-62509-53015-17  172.16.0.5   \n\n          Source Port  Destination IP   Destination Port   Protocol  \\\n0               64670    192.168.50.1              64670          6   \n1               16405    192.168.50.1              16405          6   \n2               45838    192.168.50.1              45838          6   \n3               27049    192.168.50.1              27049          6   \n4               43305    192.168.50.1              27049          6   \n...               ...             ...                ...        ...   \n2154143         62983    192.168.50.1              51638         17   \n2154144         34089    192.168.50.1              58012         17   \n2154145         48203    192.168.50.1              47232         17   \n2154146         21417    192.168.50.1                539         17   \n2154147         62509    192.168.50.1              53015         17   \n\n                          Timestamp   Flow Duration   Total Fwd Packets  ...  \\\n0        2018-12-01 13:34:27.403713        13120080                   4  ...   \n1        2018-12-01 13:34:27.404124         3990342                   4  ...   \n2        2018-12-01 13:34:27.404125        11842236                   4  ...   \n3        2018-12-01 13:34:27.404177         3579644                   4  ...   \n4        2018-12-01 13:34:27.404228              90                   2  ...   \n...                             ...             ...                 ...  ...   \n2154143  2018-12-01 13:42:35.907519         2998440                   4  ...   \n2154144  2018-12-01 13:42:35.907567         3006692                   4  ...   \n2154145  2018-12-01 13:42:35.907569         3004949                   4  ...   \n2154146  2018-12-01 13:42:35.907571         2999771                   4  ...   \n2154147  2018-12-01 13:42:35.907573         3000441                   4  ...   \n\n          Active Std   Active Max   Active Min   Idle Mean   Idle Std  \\\n0                0.0          1.0          1.0  13120078.0        0.0   \n1                0.0          0.0          0.0         0.0        0.0   \n2                0.0          1.0          1.0  11842234.0        0.0   \n3                0.0          0.0          0.0         0.0        0.0   \n4                0.0          0.0          0.0         0.0        0.0   \n...              ...          ...          ...         ...        ...   \n2154143          0.0          0.0          0.0         0.0        0.0   \n2154144          0.0          0.0          0.0         0.0        0.0   \n2154145          0.0          0.0          0.0         0.0        0.0   \n2154146          0.0          0.0          0.0         0.0        0.0   \n2154147          0.0          0.0          0.0         0.0        0.0   \n\n           Idle Max    Idle Min  SimillarHTTP   Inbound   Label  \n0        13120078.0  13120078.0             0         1    TFTP  \n1               0.0         0.0             0         1    TFTP  \n2        11842234.0  11842234.0             0         1    TFTP  \n3               0.0         0.0             0         1    TFTP  \n4               0.0         0.0             0         1    TFTP  \n...             ...         ...           ...       ...     ...  \n2154143         0.0         0.0             0         1    TFTP  \n2154144         0.0         0.0             0         1    TFTP  \n2154145         0.0         0.0             0         1    TFTP  \n2154146         0.0         0.0             0         1    TFTP  \n2154147         0.0         0.0             0         1    TFTP  \n\n[2154148 rows x 88 columns]",
      "text/html": "<div>\n<style scoped>\n    .dataframe tbody tr th:only-of-type {\n        vertical-align: middle;\n    }\n\n    .dataframe tbody tr th {\n        vertical-align: top;\n    }\n\n    .dataframe thead th {\n        text-align: right;\n    }\n</style>\n<table border=\"1\" class=\"dataframe\">\n  <thead>\n    <tr style=\"text-align: right;\">\n      <th></th>\n      <th>Unnamed: 0</th>\n      <th>Flow ID</th>\n      <th>Source IP</th>\n      <th>Source Port</th>\n      <th>Destination IP</th>\n      <th>Destination Port</th>\n      <th>Protocol</th>\n      <th>Timestamp</th>\n      <th>Flow Duration</th>\n      <th>Total Fwd Packets</th>\n      <th>...</th>\n      <th>Active Std</th>\n      <th>Active Max</th>\n      <th>Active Min</th>\n      <th>Idle Mean</th>\n      <th>Idle Std</th>\n      <th>Idle Max</th>\n      <th>Idle Min</th>\n      <th>SimillarHTTP</th>\n      <th>Inbound</th>\n      <th>Label</th>\n    </tr>\n  </thead>\n  <tbody>\n    <tr>\n      <th>0</th>\n      <td>46970</td>\n      <td>172.16.0.5-192.168.50.1-64670-64670-6</td>\n      <td>172.16.0.5</td>\n      <td>64670</td>\n      <td>192.168.50.1</td>\n      <td>64670</td>\n      <td>6</td>\n      <td>2018-12-01 13:34:27.403713</td>\n      <td>13120080</td>\n      <td>4</td>\n      <td>...</td>\n      <td>0.0</td>\n      <td>1.0</td>\n      <td>1.0</td>\n      <td>13120078.0</td>\n      <td>0.0</td>\n      <td>13120078.0</td>\n      <td>13120078.0</td>\n      <td>0</td>\n      <td>1</td>\n      <td>TFTP</td>\n    </tr>\n    <tr>\n      <th>1</th>\n      <td>164775</td>\n      <td>172.16.0.5-192.168.50.1-16405-16405-6</td>\n      <td>172.16.0.5</td>\n      <td>16405</td>\n      <td>192.168.50.1</td>\n      <td>16405</td>\n      <td>6</td>\n      <td>2018-12-01 13:34:27.404124</td>\n      <td>3990342</td>\n      <td>4</td>\n      <td>...</td>\n      <td>0.0</td>\n      <td>0.0</td>\n      <td>0.0</td>\n      <td>0.0</td>\n      <td>0.0</td>\n      <td>0.0</td>\n      <td>0.0</td>\n      <td>0</td>\n      <td>1</td>\n      <td>TFTP</td>\n    </tr>\n    <tr>\n      <th>2</th>\n      <td>177893</td>\n      <td>172.16.0.5-192.168.50.1-45838-45838-6</td>\n      <td>172.16.0.5</td>\n      <td>45838</td>\n      <td>192.168.50.1</td>\n      <td>45838</td>\n      <td>6</td>\n      <td>2018-12-01 13:34:27.404125</td>\n      <td>11842236</td>\n      <td>4</td>\n      <td>...</td>\n      <td>0.0</td>\n      <td>1.0</td>\n      <td>1.0</td>\n      <td>11842234.0</td>\n      <td>0.0</td>\n      <td>11842234.0</td>\n      <td>11842234.0</td>\n      <td>0</td>\n      <td>1</td>\n      <td>TFTP</td>\n    </tr>\n    <tr>\n      <th>3</th>\n      <td>82756</td>\n      <td>172.16.0.5-192.168.50.1-27049-27049-6</td>\n      <td>172.16.0.5</td>\n      <td>27049</td>\n      <td>192.168.50.1</td>\n      <td>27049</td>\n      <td>6</td>\n      <td>2018-12-01 13:34:27.404177</td>\n      <td>3579644</td>\n      <td>4</td>\n      <td>...</td>\n      <td>0.0</td>\n      <td>0.0</td>\n      <td>0.0</td>\n      <td>0.0</td>\n      <td>0.0</td>\n      <td>0.0</td>\n      <td>0.0</td>\n      <td>0</td>\n      <td>1</td>\n      <td>TFTP</td>\n    </tr>\n    <tr>\n      <th>4</th>\n      <td>153782</td>\n      <td>172.16.0.5-192.168.50.1-43305-27049-6</td>\n      <td>172.16.0.5</td>\n      <td>43305</td>\n      <td>192.168.50.1</td>\n      <td>27049</td>\n      <td>6</td>\n      <td>2018-12-01 13:34:27.404228</td>\n      <td>90</td>\n      <td>2</td>\n      <td>...</td>\n      <td>0.0</td>\n      <td>0.0</td>\n      <td>0.0</td>\n      <td>0.0</td>\n      <td>0.0</td>\n      <td>0.0</td>\n      <td>0.0</td>\n      <td>0</td>\n      <td>1</td>\n      <td>TFTP</td>\n    </tr>\n    <tr>\n      <th>...</th>\n      <td>...</td>\n      <td>...</td>\n      <td>...</td>\n      <td>...</td>\n      <td>...</td>\n      <td>...</td>\n      <td>...</td>\n      <td>...</td>\n      <td>...</td>\n      <td>...</td>\n      <td>...</td>\n      <td>...</td>\n      <td>...</td>\n      <td>...</td>\n      <td>...</td>\n      <td>...</td>\n      <td>...</td>\n      <td>...</td>\n      <td>...</td>\n      <td>...</td>\n      <td>...</td>\n    </tr>\n    <tr>\n      <th>2154143</th>\n      <td>11856</td>\n      <td>172.16.0.5-192.168.50.1-62983-51638-17</td>\n      <td>172.16.0.5</td>\n      <td>62983</td>\n      <td>192.168.50.1</td>\n      <td>51638</td>\n      <td>17</td>\n      <td>2018-12-01 13:42:35.907519</td>\n      <td>2998440</td>\n      <td>4</td>\n      <td>...</td>\n      <td>0.0</td>\n      <td>0.0</td>\n      <td>0.0</td>\n      <td>0.0</td>\n      <td>0.0</td>\n      <td>0.0</td>\n      <td>0.0</td>\n      <td>0</td>\n      <td>1</td>\n      <td>TFTP</td>\n    </tr>\n    <tr>\n      <th>2154144</th>\n      <td>46003</td>\n      <td>172.16.0.5-192.168.50.1-34089-58012-17</td>\n      <td>172.16.0.5</td>\n      <td>34089</td>\n      <td>192.168.50.1</td>\n      <td>58012</td>\n      <td>17</td>\n      <td>2018-12-01 13:42:35.907567</td>\n      <td>3006692</td>\n      <td>4</td>\n      <td>...</td>\n      <td>0.0</td>\n      <td>0.0</td>\n      <td>0.0</td>\n      <td>0.0</td>\n      <td>0.0</td>\n      <td>0.0</td>\n      <td>0.0</td>\n      <td>0</td>\n      <td>1</td>\n      <td>TFTP</td>\n    </tr>\n    <tr>\n      <th>2154145</th>\n      <td>1740</td>\n      <td>172.16.0.5-192.168.50.1-48203-47232-17</td>\n      <td>172.16.0.5</td>\n      <td>48203</td>\n      <td>192.168.50.1</td>\n      <td>47232</td>\n      <td>17</td>\n      <td>2018-12-01 13:42:35.907569</td>\n      <td>3004949</td>\n      <td>4</td>\n      <td>...</td>\n      <td>0.0</td>\n      <td>0.0</td>\n      <td>0.0</td>\n      <td>0.0</td>\n      <td>0.0</td>\n      <td>0.0</td>\n      <td>0.0</td>\n      <td>0</td>\n      <td>1</td>\n      <td>TFTP</td>\n    </tr>\n    <tr>\n      <th>2154146</th>\n      <td>74807</td>\n      <td>172.16.0.5-192.168.50.1-21417-539-17</td>\n      <td>172.16.0.5</td>\n      <td>21417</td>\n      <td>192.168.50.1</td>\n      <td>539</td>\n      <td>17</td>\n      <td>2018-12-01 13:42:35.907571</td>\n      <td>2999771</td>\n      <td>4</td>\n      <td>...</td>\n      <td>0.0</td>\n      <td>0.0</td>\n      <td>0.0</td>\n      <td>0.0</td>\n      <td>0.0</td>\n      <td>0.0</td>\n      <td>0.0</td>\n      <td>0</td>\n      <td>1</td>\n      <td>TFTP</td>\n    </tr>\n    <tr>\n      <th>2154147</th>\n      <td>17301</td>\n      <td>172.16.0.5-192.168.50.1-62509-53015-17</td>\n      <td>172.16.0.5</td>\n      <td>62509</td>\n      <td>192.168.50.1</td>\n      <td>53015</td>\n      <td>17</td>\n      <td>2018-12-01 13:42:35.907573</td>\n      <td>3000441</td>\n      <td>4</td>\n      <td>...</td>\n      <td>0.0</td>\n      <td>0.0</td>\n      <td>0.0</td>\n      <td>0.0</td>\n      <td>0.0</td>\n      <td>0.0</td>\n      <td>0.0</td>\n      <td>0</td>\n      <td>1</td>\n      <td>TFTP</td>\n    </tr>\n  </tbody>\n</table>\n<p>2154148 rows × 88 columns</p>\n</div>"
     },
     "execution_count": 5,
     "metadata": {},
     "output_type": "execute_result"
    }
   ],
   "source": [
    "%%time\n",
    "# daskScheduler = Client()\n",
    "# worker_output = daskScheduler.submit(readHugeCsvFileAsDataFrame, path_DdoS_UDP)\n",
    "workingDataFrame = readHugeCsvFileAsDataFrame(path_TFTP)\n",
    "workingDataFrame"
   ],
   "metadata": {
    "collapsed": false
   }
  },
  {
   "cell_type": "code",
   "execution_count": 6,
   "outputs": [
    {
     "name": "stdout",
     "output_type": "stream",
     "text": [
      "Memory usage of Working Dataframe: 1446.27 MB\n",
      "Total Features in the initial csv file:  88\n"
     ]
    }
   ],
   "source": [
    "mb = workingDataFrame.memory_usage().sum() / 1024 ** 2\n",
    "print('Memory usage of Working Dataframe: {:.2f} MB'.format(mb))\n",
    "print(\"Total Features in the initial csv file: \", len(list(workingDataFrame.columns)))"
   ],
   "metadata": {
    "collapsed": false
   }
  },
  {
   "cell_type": "markdown",
   "source": [
    "<center><h4 style=\"background:#ADFF2F;color:black\">\n",
    "Following Columns may have little insignificance over model creation. Follow <a href=\"https://link.springer.com/chapter/10.1007/978-3-031-09484-2_2\" >This Paper Link</a>\n",
    "</h4></center>"
   ],
   "metadata": {
    "collapsed": false
   }
  },
  {
   "cell_type": "code",
   "execution_count": 7,
   "outputs": [],
   "source": [
    "# src_port,dst_port, src_ip, dst_ip these are duplicate\n",
    "drop_columns = [\n",
    "    \"Flow ID\",\n",
    "    'Fwd Header Length.1',\n",
    "    \"Source IP\", \"Src IP\",\n",
    "    \"Source Port\", \"Src Port\",\n",
    "    \"Destination IP\", \"Dst IP\",\n",
    "    \"Destination Port\", \"Dst Port\",\n",
    "    \"Timestamp\",\n",
    "    \"Unnamed: 0\",\n",
    "    \"Inbound\",\n",
    "    \"SimillarHTTP\"\n",
    "]"
   ],
   "metadata": {
    "collapsed": false
   }
  },
  {
   "cell_type": "markdown",
   "source": [
    "<center><h3 style=\"background:yellow;color:black\">\n",
    "Dropping Unnecessary Features & maintain column consistency\n",
    "</h3></center>"
   ],
   "metadata": {
    "collapsed": false
   }
  },
  {
   "cell_type": "code",
   "execution_count": 8,
   "outputs": [
    {
     "data": {
      "text/plain": "(2154148, 78)"
     },
     "execution_count": 8,
     "metadata": {},
     "output_type": "execute_result"
    }
   ],
   "source": [
    "workingDataFrame.columns = workingDataFrame.columns.str.strip()  # sometimes there's leading / trailing whitespace\n",
    "workingDataFrame.rename(columns=col_name_consistency, inplace=True)\n",
    "workingDataFrame.drop(columns=drop_columns, inplace=True, errors='ignore')\n",
    "\n",
    "workingDataFrame.shape"
   ],
   "metadata": {
    "collapsed": false
   }
  },
  {
   "cell_type": "markdown",
   "source": [
    "<center><h3 style=\"background:yellow;color:black\">\n",
    "Data Cleaning Based on Data Types (DownSizing)\n",
    "</h3></center>"
   ],
   "metadata": {
    "collapsed": false
   }
  },
  {
   "cell_type": "code",
   "execution_count": 9,
   "outputs": [
    {
     "name": "stdout",
     "output_type": "stream",
     "text": [
      "<class 'pandas.core.frame.DataFrame'>\n",
      "RangeIndex: 2154148 entries, 0 to 2154147\n",
      "Data columns (total 78 columns):\n",
      " #   Column                    Dtype  \n",
      "---  ------                    -----  \n",
      " 0   Protocol                  int64  \n",
      " 1   Flow Duration             int64  \n",
      " 2   Total Fwd Packets         int64  \n",
      " 3   Total Backward Packets    int64  \n",
      " 4   Fwd Packets Length Total  float64\n",
      " 5   Bwd Packets Length Total  float64\n",
      " 6   Fwd Packet Length Max     float64\n",
      " 7   Fwd Packet Length Min     float64\n",
      " 8   Fwd Packet Length Mean    float64\n",
      " 9   Fwd Packet Length Std     float64\n",
      " 10  Bwd Packet Length Max     float64\n",
      " 11  Bwd Packet Length Min     float64\n",
      " 12  Bwd Packet Length Mean    float64\n",
      " 13  Bwd Packet Length Std     float64\n",
      " 14  Flow Bytes/s              float64\n",
      " 15  Flow Packets/s            float64\n",
      " 16  Flow IAT Mean             float64\n",
      " 17  Flow IAT Std              float64\n",
      " 18  Flow IAT Max              float64\n",
      " 19  Flow IAT Min              float64\n",
      " 20  Fwd IAT Total             float64\n",
      " 21  Fwd IAT Mean              float64\n",
      " 22  Fwd IAT Std               float64\n",
      " 23  Fwd IAT Max               float64\n",
      " 24  Fwd IAT Min               float64\n",
      " 25  Bwd IAT Total             float64\n",
      " 26  Bwd IAT Mean              float64\n",
      " 27  Bwd IAT Std               float64\n",
      " 28  Bwd IAT Max               float64\n",
      " 29  Bwd IAT Min               float64\n",
      " 30  Fwd PSH Flags             int64  \n",
      " 31  Bwd PSH Flags             int64  \n",
      " 32  Fwd URG Flags             int64  \n",
      " 33  Bwd URG Flags             int64  \n",
      " 34  Fwd Header Length         int64  \n",
      " 35  Bwd Header Length         int64  \n",
      " 36  Fwd Packets/s             float64\n",
      " 37  Bwd Packets/s             float64\n",
      " 38  Packet Length Min         float64\n",
      " 39  Packet Length Max         float64\n",
      " 40  Packet Length Mean        float64\n",
      " 41  Packet Length Std         float64\n",
      " 42  Packet Length Variance    float64\n",
      " 43  FIN Flag Count            int64  \n",
      " 44  SYN Flag Count            int64  \n",
      " 45  RST Flag Count            int64  \n",
      " 46  PSH Flag Count            int64  \n",
      " 47  ACK Flag Count            int64  \n",
      " 48  URG Flag Count            int64  \n",
      " 49  CWE Flag Count            int64  \n",
      " 50  ECE Flag Count            int64  \n",
      " 51  Down/Up Ratio             float64\n",
      " 52  Avg Packet Size           float64\n",
      " 53  Avg Fwd Segment Size      float64\n",
      " 54  Avg Bwd Segment Size      float64\n",
      " 55  Fwd Avg Bytes/Bulk        int64  \n",
      " 56  Fwd Avg Packets/Bulk      int64  \n",
      " 57  Fwd Avg Bulk Rate         int64  \n",
      " 58  Bwd Avg Bytes/Bulk        int64  \n",
      " 59  Bwd Avg Packets/Bulk      int64  \n",
      " 60  Bwd Avg Bulk Rate         int64  \n",
      " 61  Subflow Fwd Packets       int64  \n",
      " 62  Subflow Fwd Bytes         int64  \n",
      " 63  Subflow Bwd Packets       int64  \n",
      " 64  Subflow Bwd Bytes         int64  \n",
      " 65  Init Fwd Win Bytes        int64  \n",
      " 66  Init Bwd Win Bytes        int64  \n",
      " 67  Fwd Act Data Packets      int64  \n",
      " 68  Fwd Seg Size Min          int64  \n",
      " 69  Active Mean               float64\n",
      " 70  Active Std                float64\n",
      " 71  Active Max                float64\n",
      " 72  Active Min                float64\n",
      " 73  Idle Mean                 float64\n",
      " 74  Idle Std                  float64\n",
      " 75  Idle Max                  float64\n",
      " 76  Idle Min                  float64\n",
      " 77  Label                     object \n",
      "dtypes: float64(45), int64(32), object(1)\n",
      "memory usage: 1.4 GB\n"
     ]
    }
   ],
   "source": [
    "workingDataFrame.info(memory_usage=\"deep\")"
   ],
   "metadata": {
    "collapsed": false
   }
  },
  {
   "cell_type": "code",
   "execution_count": 10,
   "outputs": [
    {
     "name": "stdout",
     "output_type": "stream",
     "text": [
      "<class 'pandas.core.frame.DataFrame'>\n",
      "RangeIndex: 2154148 entries, 0 to 2154147\n",
      "Data columns (total 78 columns):\n",
      " #   Column                    Dtype  \n",
      "---  ------                    -----  \n",
      " 0   Protocol                  int8   \n",
      " 1   Flow Duration             int32  \n",
      " 2   Total Fwd Packets         int16  \n",
      " 3   Total Backward Packets    int16  \n",
      " 4   Fwd Packets Length Total  float32\n",
      " 5   Bwd Packets Length Total  float32\n",
      " 6   Fwd Packet Length Max     float32\n",
      " 7   Fwd Packet Length Min     float32\n",
      " 8   Fwd Packet Length Mean    float32\n",
      " 9   Fwd Packet Length Std     float32\n",
      " 10  Bwd Packet Length Max     float32\n",
      " 11  Bwd Packet Length Min     float32\n",
      " 12  Bwd Packet Length Mean    float32\n",
      " 13  Bwd Packet Length Std     float32\n",
      " 14  Flow Bytes/s              float32\n",
      " 15  Flow Packets/s            float32\n",
      " 16  Flow IAT Mean             float32\n",
      " 17  Flow IAT Std              float32\n",
      " 18  Flow IAT Max              float32\n",
      " 19  Flow IAT Min              float32\n",
      " 20  Fwd IAT Total             float32\n",
      " 21  Fwd IAT Mean              float32\n",
      " 22  Fwd IAT Std               float32\n",
      " 23  Fwd IAT Max               float32\n",
      " 24  Fwd IAT Min               float32\n",
      " 25  Bwd IAT Total             float32\n",
      " 26  Bwd IAT Mean              float32\n",
      " 27  Bwd IAT Std               float32\n",
      " 28  Bwd IAT Max               float32\n",
      " 29  Bwd IAT Min               float32\n",
      " 30  Fwd PSH Flags             int8   \n",
      " 31  Bwd PSH Flags             int8   \n",
      " 32  Fwd URG Flags             int8   \n",
      " 33  Bwd URG Flags             int8   \n",
      " 34  Fwd Header Length         int64  \n",
      " 35  Bwd Header Length         int32  \n",
      " 36  Fwd Packets/s             float32\n",
      " 37  Bwd Packets/s             float32\n",
      " 38  Packet Length Min         float32\n",
      " 39  Packet Length Max         float32\n",
      " 40  Packet Length Mean        float32\n",
      " 41  Packet Length Std         float32\n",
      " 42  Packet Length Variance    float32\n",
      " 43  FIN Flag Count            int8   \n",
      " 44  SYN Flag Count            int8   \n",
      " 45  RST Flag Count            int8   \n",
      " 46  PSH Flag Count            int8   \n",
      " 47  ACK Flag Count            int8   \n",
      " 48  URG Flag Count            int8   \n",
      " 49  CWE Flag Count            int8   \n",
      " 50  ECE Flag Count            int8   \n",
      " 51  Down/Up Ratio             float32\n",
      " 52  Avg Packet Size           float32\n",
      " 53  Avg Fwd Segment Size      float32\n",
      " 54  Avg Bwd Segment Size      float32\n",
      " 55  Fwd Avg Bytes/Bulk        int8   \n",
      " 56  Fwd Avg Packets/Bulk      int8   \n",
      " 57  Fwd Avg Bulk Rate         int8   \n",
      " 58  Bwd Avg Bytes/Bulk        int8   \n",
      " 59  Bwd Avg Packets/Bulk      int8   \n",
      " 60  Bwd Avg Bulk Rate         int8   \n",
      " 61  Subflow Fwd Packets       int16  \n",
      " 62  Subflow Fwd Bytes         int32  \n",
      " 63  Subflow Bwd Packets       int16  \n",
      " 64  Subflow Bwd Bytes         int32  \n",
      " 65  Init Fwd Win Bytes        int32  \n",
      " 66  Init Bwd Win Bytes        int32  \n",
      " 67  Fwd Act Data Packets      int8   \n",
      " 68  Fwd Seg Size Min          int32  \n",
      " 69  Active Mean               float32\n",
      " 70  Active Std                float32\n",
      " 71  Active Max                float32\n",
      " 72  Active Min                float32\n",
      " 73  Idle Mean                 float32\n",
      " 74  Idle Std                  float32\n",
      " 75  Idle Max                  float32\n",
      " 76  Idle Min                  float32\n",
      " 77  Label                     object \n",
      "dtypes: float32(45), int16(4), int32(7), int64(1), int8(20), object(1)\n",
      "memory usage: 626.6 MB\n"
     ]
    }
   ],
   "source": [
    "# converting 64bit float to 32 bit float & 64bit integer to 8bit integer\n",
    "for column in workingDataFrame:\n",
    "    if workingDataFrame[column].dtype == 'float64':\n",
    "        workingDataFrame[column] = pd.to_numeric(workingDataFrame[column], downcast='float')\n",
    "    if workingDataFrame[column].dtype == 'int64':\n",
    "        workingDataFrame[column] = pd.to_numeric(workingDataFrame[column], downcast='integer')\n",
    "\n",
    "workingDataFrame.info(memory_usage=\"deep\")  # observe the dTypes"
   ],
   "metadata": {
    "collapsed": false
   }
  },
  {
   "cell_type": "markdown",
   "source": [
    "<center><h3 style=\"background:yellow;color:black\">\n",
    "Removing NaN values & infinite values\n",
    "</h3></center>"
   ],
   "metadata": {
    "collapsed": false
   }
  },
  {
   "cell_type": "code",
   "execution_count": 11,
   "outputs": [
    {
     "name": "stdout",
     "output_type": "stream",
     "text": [
      "pure missing value contains rows: 10469\n",
      "missing value contains total rows: 33093\n",
      "After dropping NaN values, number of rows: 2121055\n",
      "After dropping NaN values, number of columns: 78\n"
     ]
    }
   ],
   "source": [
    "# workingDataFrame.isnull().sum()\n",
    "print(f\"pure missing value contains rows: {workingDataFrame.isna().any(axis=1).sum()}\")\n",
    "workingDataFrame.replace([np.inf, -np.inf], np.nan, inplace=True)\n",
    "print(f\"missing value contains total rows: {workingDataFrame.isna().any(axis=1).sum()}\")\n",
    "workingDataFrame.dropna(inplace=True)\n",
    "print(f\"After dropping NaN values, number of rows: {workingDataFrame.shape[0]}\")\n",
    "print(f\"After dropping NaN values, number of columns: {workingDataFrame.shape[1]}\")"
   ],
   "metadata": {
    "collapsed": false
   }
  },
  {
   "cell_type": "markdown",
   "source": [
    "<center><h3 style=\"background:yellow;color:black\">\n",
    "Dropping Duplicate Rows\n",
    "</h3></center>"
   ],
   "metadata": {
    "collapsed": false
   }
  },
  {
   "cell_type": "code",
   "execution_count": 12,
   "outputs": [
    {
     "name": "stdout",
     "output_type": "stream",
     "text": [
      "Fully duplicate total rows: 1171566\n",
      "After dropping Duplicate values, number of rows: 949489\n",
      "After dropping Duplicate values, number of columns: 78\n"
     ]
    }
   ],
   "source": [
    "print(f\"Fully duplicate total rows: {workingDataFrame.duplicated().sum()}\")\n",
    "workingDataFrame.drop_duplicates(inplace=True)\n",
    "workingDataFrame.reset_index(inplace=True, drop=True)\n",
    "print(f\"After dropping Duplicate values, number of rows: {workingDataFrame.shape[0]}\")\n",
    "print(f\"After dropping Duplicate values, number of columns: {workingDataFrame.shape[1]}\")"
   ],
   "metadata": {
    "collapsed": false
   }
  },
  {
   "cell_type": "markdown",
   "source": [
    "<center><h3 style=\"background:#FF00FF;color:black\">\n",
    "After data cleaning, how much storage it holds now\n",
    "</h3></center>"
   ],
   "metadata": {
    "collapsed": false
   }
  },
  {
   "cell_type": "code",
   "execution_count": 13,
   "outputs": [
    {
     "name": "stdout",
     "output_type": "stream",
     "text": [
      "<class 'pandas.core.frame.DataFrame'>\n",
      "RangeIndex: 949489 entries, 0 to 949488\n",
      "Data columns (total 78 columns):\n",
      " #   Column                    Non-Null Count   Dtype  \n",
      "---  ------                    --------------   -----  \n",
      " 0   Protocol                  949489 non-null  int8   \n",
      " 1   Flow Duration             949489 non-null  int32  \n",
      " 2   Total Fwd Packets         949489 non-null  int16  \n",
      " 3   Total Backward Packets    949489 non-null  int16  \n",
      " 4   Fwd Packets Length Total  949489 non-null  float64\n",
      " 5   Bwd Packets Length Total  949489 non-null  float64\n",
      " 6   Fwd Packet Length Max     949489 non-null  float64\n",
      " 7   Fwd Packet Length Min     949489 non-null  float64\n",
      " 8   Fwd Packet Length Mean    949489 non-null  float64\n",
      " 9   Fwd Packet Length Std     949489 non-null  float64\n",
      " 10  Bwd Packet Length Max     949489 non-null  float64\n",
      " 11  Bwd Packet Length Min     949489 non-null  float64\n",
      " 12  Bwd Packet Length Mean    949489 non-null  float64\n",
      " 13  Bwd Packet Length Std     949489 non-null  float64\n",
      " 14  Flow Bytes/s              949489 non-null  float64\n",
      " 15  Flow Packets/s            949489 non-null  float64\n",
      " 16  Flow IAT Mean             949489 non-null  float64\n",
      " 17  Flow IAT Std              949489 non-null  float64\n",
      " 18  Flow IAT Max              949489 non-null  float64\n",
      " 19  Flow IAT Min              949489 non-null  float64\n",
      " 20  Fwd IAT Total             949489 non-null  float64\n",
      " 21  Fwd IAT Mean              949489 non-null  float64\n",
      " 22  Fwd IAT Std               949489 non-null  float64\n",
      " 23  Fwd IAT Max               949489 non-null  float64\n",
      " 24  Fwd IAT Min               949489 non-null  float64\n",
      " 25  Bwd IAT Total             949489 non-null  float64\n",
      " 26  Bwd IAT Mean              949489 non-null  float64\n",
      " 27  Bwd IAT Std               949489 non-null  float64\n",
      " 28  Bwd IAT Max               949489 non-null  float64\n",
      " 29  Bwd IAT Min               949489 non-null  float64\n",
      " 30  Fwd PSH Flags             949489 non-null  int8   \n",
      " 31  Bwd PSH Flags             949489 non-null  int8   \n",
      " 32  Fwd URG Flags             949489 non-null  int8   \n",
      " 33  Bwd URG Flags             949489 non-null  int8   \n",
      " 34  Fwd Header Length         949489 non-null  int64  \n",
      " 35  Bwd Header Length         949489 non-null  int32  \n",
      " 36  Fwd Packets/s             949489 non-null  float64\n",
      " 37  Bwd Packets/s             949489 non-null  float64\n",
      " 38  Packet Length Min         949489 non-null  float64\n",
      " 39  Packet Length Max         949489 non-null  float64\n",
      " 40  Packet Length Mean        949489 non-null  float64\n",
      " 41  Packet Length Std         949489 non-null  float64\n",
      " 42  Packet Length Variance    949489 non-null  float64\n",
      " 43  FIN Flag Count            949489 non-null  int8   \n",
      " 44  SYN Flag Count            949489 non-null  int8   \n",
      " 45  RST Flag Count            949489 non-null  int8   \n",
      " 46  PSH Flag Count            949489 non-null  int8   \n",
      " 47  ACK Flag Count            949489 non-null  int8   \n",
      " 48  URG Flag Count            949489 non-null  int8   \n",
      " 49  CWE Flag Count            949489 non-null  int8   \n",
      " 50  ECE Flag Count            949489 non-null  int8   \n",
      " 51  Down/Up Ratio             949489 non-null  float64\n",
      " 52  Avg Packet Size           949489 non-null  float64\n",
      " 53  Avg Fwd Segment Size      949489 non-null  float64\n",
      " 54  Avg Bwd Segment Size      949489 non-null  float64\n",
      " 55  Fwd Avg Bytes/Bulk        949489 non-null  int8   \n",
      " 56  Fwd Avg Packets/Bulk      949489 non-null  int8   \n",
      " 57  Fwd Avg Bulk Rate         949489 non-null  int8   \n",
      " 58  Bwd Avg Bytes/Bulk        949489 non-null  int8   \n",
      " 59  Bwd Avg Packets/Bulk      949489 non-null  int8   \n",
      " 60  Bwd Avg Bulk Rate         949489 non-null  int8   \n",
      " 61  Subflow Fwd Packets       949489 non-null  int16  \n",
      " 62  Subflow Fwd Bytes         949489 non-null  int32  \n",
      " 63  Subflow Bwd Packets       949489 non-null  int16  \n",
      " 64  Subflow Bwd Bytes         949489 non-null  int32  \n",
      " 65  Init Fwd Win Bytes        949489 non-null  int32  \n",
      " 66  Init Bwd Win Bytes        949489 non-null  int32  \n",
      " 67  Fwd Act Data Packets      949489 non-null  int8   \n",
      " 68  Fwd Seg Size Min          949489 non-null  int32  \n",
      " 69  Active Mean               949489 non-null  float64\n",
      " 70  Active Std                949489 non-null  float64\n",
      " 71  Active Max                949489 non-null  float64\n",
      " 72  Active Min                949489 non-null  float64\n",
      " 73  Idle Mean                 949489 non-null  float64\n",
      " 74  Idle Std                  949489 non-null  float64\n",
      " 75  Idle Max                  949489 non-null  float64\n",
      " 76  Idle Min                  949489 non-null  float64\n",
      " 77  Label                     949489 non-null  object \n",
      "dtypes: float64(45), int16(4), int32(7), int64(1), int8(20), object(1)\n",
      "memory usage: 439.2 MB\n"
     ]
    }
   ],
   "source": [
    "workingDataFrame.info(memory_usage=\"deep\")"
   ],
   "metadata": {
    "collapsed": false
   }
  },
  {
   "cell_type": "markdown",
   "source": [
    "<center><h3 style=\"background:#00FF00;color:black\">\n",
    "Saving New DataFrame as csv file to new location\n",
    "</h3></center>"
   ],
   "metadata": {
    "collapsed": false
   }
  },
  {
   "cell_type": "code",
   "execution_count": 14,
   "outputs": [],
   "source": [
    "def dataCleaningResultToAnotherCSV(dataFrameArg, dirPath, file_name):\n",
    "    dataFrameArg.to_csv(dirPath + file_name)"
   ],
   "metadata": {
    "collapsed": false
   }
  },
  {
   "cell_type": "code",
   "execution_count": 15,
   "outputs": [],
   "source": [
    "newCsvPath = \"C:\\\\Thesis_Group_of_Brig_Gen_Razzak_Sir\\\\After_Row_Data_Cleaning\\\\\"\n",
    "# newFileName = \"cleaned_udpLag\"\n",
    "# newFileName = \"cleaned_Syn\"\n",
    "# newFileName = \"cleaned_DrDoS_NTP\"\n",
    "# newFileName = \"cleaned_DrDoS_LDAP\"\n",
    "# newFileName = \"cleaned_DrDoS_SSDP\"\n",
    "newFileName = \"cleaned_DrDoS_TFTP\"\n",
    "csvFileName = newFileName + \".csv\"\n",
    "dataCleaningResultToAnotherCSV(dataFrameArg=workingDataFrame, dirPath=newCsvPath, file_name=csvFileName)"
   ],
   "metadata": {
    "collapsed": false
   }
  },
  {
   "cell_type": "markdown",
   "source": [
    "from pandas_profiling import ProfileReport\n",
    "\n",
    "profile = ProfileReport(workingDataFrame, title=newFileName)\n",
    "profile.to_file(newCsvPath + newFileName+ \".html\")"
   ],
   "metadata": {
    "collapsed": false
   }
  },
  {
   "cell_type": "code",
   "execution_count": 16,
   "outputs": [
    {
     "data": {
      "text/plain": "21"
     },
     "execution_count": 16,
     "metadata": {},
     "output_type": "execute_result"
    }
   ],
   "source": [
    "import gc\n",
    "\n",
    "gc.collect()"
   ],
   "metadata": {
    "collapsed": false
   }
  },
  {
   "cell_type": "markdown",
   "source": [],
   "metadata": {
    "collapsed": false
   }
  }
 ],
 "metadata": {
  "kernelspec": {
   "display_name": "Python 3",
   "language": "python",
   "name": "python3"
  },
  "language_info": {
   "codemirror_mode": {
    "name": "ipython",
    "version": 2
   },
   "file_extension": ".py",
   "mimetype": "text/x-python",
   "name": "python",
   "nbconvert_exporter": "python",
   "pygments_lexer": "ipython2",
   "version": "2.7.6"
  }
 },
 "nbformat": 4,
 "nbformat_minor": 0
}

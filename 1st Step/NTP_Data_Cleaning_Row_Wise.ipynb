{
 "cells": [
  {
   "cell_type": "markdown",
   "source": [
    "<center><h2>\n",
    "<a href=\"https://masumbhai.me\">Kindly visit my portfolio to see more of my works</a>\n",
    "</h2></center>"
   ],
   "metadata": {
    "collapsed": false
   }
  },
  {
   "cell_type": "markdown",
   "source": [
    "<p style=\"background:black\">\n",
    "<code style=\"background:black;color: #0FFF50\">\n",
    "anaconda login <br/>\n",
    "conda install -c conda-forge numpy <br/>\n",
    "pip install pandas <br/>\n",
    "pip install seaborn <br/>\n",
    "conda install -c conda-forge matplotlib <br/>\n",
    "conda install -c conda-forge scikit-learn <br/>\n",
    "conda install -c conda-forge dask <br/>\n",
    "conda install -c fastai fastcore <br/>\n",
    "conda install jupyter notebook <br/>\n",
    "pip install jupyter <br/>\n",
    "pip install tqdm <br/>\n",
    "conda install cudatoolkit <br/>\n",
    "pip install --default-timeout=100 tensorflow==2.3.4 <br/>\n",
    "pip install --default-timeout=100 tensorflow-gpu==2.3.4 <br/>\n",
    "pip install numba <br/>\n",
    "</code>\n",
    "</p>"
   ],
   "metadata": {
    "collapsed": false
   }
  },
  {
   "cell_type": "code",
   "execution_count": 1,
   "metadata": {
    "collapsed": true
   },
   "outputs": [],
   "source": [
    "import pandas as pd\n",
    "import numpy as np\n",
    "from dask import dataframe as dd\n",
    "from dask.distributed import Client"
   ]
  },
  {
   "cell_type": "markdown",
   "source": [
    "<center><h4 style=\"background:yellow;color:black\">\n",
    "Setting up paths to csv files / datasets\n",
    "</center></h4>"
   ],
   "metadata": {
    "collapsed": false
   }
  },
  {
   "cell_type": "code",
   "execution_count": 2,
   "outputs": [
    {
     "name": "stdout",
     "output_type": "stream",
     "text": [
      "Total Dataset CSV Files 11\n"
     ]
    }
   ],
   "source": [
    "# CSV-01-12\n",
    "path_DdoS_DNS = \"C:\\\\Thesis_Group_of_Brig_Gen_Razzak_Sir\\\\01-12\\\\DrDoS_DNS.csv\"\n",
    "path_DdoS_MSSQL = \"C:\\\\Thesis_Group_of_Brig_Gen_Razzak_Sir\\\\01-12\\\\DrDoS_MSSQL.csv\"\n",
    "path_DdoS_LDAP = \"C:\\\\Thesis_Group_of_Brig_Gen_Razzak_Sir\\\\01-12\\\\DrDoS_LDAP.csv\"\n",
    "path_DdoS_NTP = \"C:\\\\Thesis_Group_of_Brig_Gen_Razzak_Sir\\\\01-12\\\\DrDoS_NTP.csv\"\n",
    "path_DdoS_NetBIOS = \"C:\\\\Thesis_Group_of_Brig_Gen_Razzak_Sir\\\\01-12\\\\DrDoS_NetBIOS.csv\"\n",
    "path_DdoS_SNMP = \"C:\\\\Thesis_Group_of_Brig_Gen_Razzak_Sir\\\\01-12\\\\DrDoS_SNMP.csv\"\n",
    "path_DdoS_SSDP = \"C:\\\\Thesis_Group_of_Brig_Gen_Razzak_Sir\\\\01-12\\\\DrDoS_SSDP.csv\"\n",
    "path_DdoS_UDP = \"C:\\\\Thesis_Group_of_Brig_Gen_Razzak_Sir\\\\01-12\\\\DrDoS_UDP.csv\"\n",
    "path_Syn = \"C:\\\\Thesis_Group_of_Brig_Gen_Razzak_Sir\\\\01-12\\\\Syn.csv\"\n",
    "path_TFTP = \"C:\\\\Thesis_Group_of_Brig_Gen_Razzak_Sir\\\\01-12\\\\TFTP.csv\"\n",
    "path_UDPLag = \"C:\\\\Thesis_Group_of_Brig_Gen_Razzak_Sir\\\\01-12\\\\UDPLag.csv\"\n",
    "\n",
    "# # CSV-03-11\n",
    "# path__LDAP = \"../CICDDoS-2019/CSV-03-11/03-11/LDAP.csv\"\n",
    "# path__MSSQL = \"../CICDDoS-2019/CSV-03-11/03-11/MSSQL.csv\"\n",
    "# path__NetBIOS = \"../CICDDoS-2019/CSV-03-11/03-11/NetBIOS.csv\"\n",
    "# path__Portmap = \"../CICDDoS-2019/CSV-03-11/03-11/Portmap.csv\"\n",
    "# path__Syn = \"../CICDDoS-2019/CSV-03-11/03-11/Syn.csv\"\n",
    "# path__UDP = \"../CICDDoS-2019/CSV-03-11/03-11/UDP.csv\"\n",
    "# path__UDPLag = \"../CICDDoS-2019/CSV-03-11/03-11/UDPLag.csv\"\n",
    "\n",
    "paths = [path_DdoS_DNS, path_DdoS_MSSQL, path_DdoS_LDAP, path_DdoS_NTP, path_DdoS_NetBIOS, path_DdoS_SNMP,\n",
    "         path_DdoS_SSDP, path_DdoS_UDP, path_Syn, path_TFTP, path_UDPLag]\n",
    "# , path__LDAP, path__MSSQL, path__NetBIOS,\n",
    "#      path__Portmap, path__Syn, path__UDP, path__UDPLag]\n",
    "print(\"Total Dataset CSV Files\", len(paths))\n"
   ],
   "metadata": {
    "collapsed": false
   }
  },
  {
   "cell_type": "markdown",
   "source": [
    "Assuming Column / feature names might differ in different csv files"
   ],
   "metadata": {
    "collapsed": false
   }
  },
  {
   "cell_type": "code",
   "execution_count": 3,
   "outputs": [],
   "source": [
    "col_name_consistency = {\n",
    "    'Flow ID': 'Flow ID',\n",
    "    'Source IP': 'Source IP',\n",
    "    'Src IP': 'Source IP',\n",
    "    'Source Port': 'Source Port',\n",
    "    'Src Port': 'Source Port',\n",
    "    'Destination IP': 'Destination IP',\n",
    "    'Dst IP': 'Destination IP',\n",
    "    'Destination Port': 'Destination Port',\n",
    "    'Dst Port': 'Destination Port',\n",
    "    'Protocol': 'Protocol',\n",
    "    'Timestamp': 'Timestamp',\n",
    "    'Flow Duration': 'Flow Duration',\n",
    "    'Total Fwd Packets': 'Total Fwd Packets',\n",
    "    'Tot Fwd Pkts': 'Total Fwd Packets',\n",
    "    'Total Backward Packets': 'Total Backward Packets',\n",
    "    'Tot Bwd Pkts': 'Total Backward Packets',\n",
    "    'Total Length of Fwd Packets': 'Fwd Packets Length Total',\n",
    "    'TotLen Fwd Pkts': 'Fwd Packets Length Total',\n",
    "    'Total Length of Bwd Packets': 'Bwd Packets Length Total',\n",
    "    'TotLen Bwd Pkts': 'Bwd Packets Length Total',\n",
    "    'Fwd Packet Length Max': 'Fwd Packet Length Max',\n",
    "    'Fwd Pkt Len Max': 'Fwd Packet Length Max',\n",
    "    'Fwd Packet Length Min': 'Fwd Packet Length Min',\n",
    "    'Fwd Pkt Len Min': 'Fwd Packet Length Min',\n",
    "    'Fwd Packet Length Mean': 'Fwd Packet Length Mean',\n",
    "    'Fwd Pkt Len Mean': 'Fwd Packet Length Mean',\n",
    "    'Fwd Packet Length Std': 'Fwd Packet Length Std',\n",
    "    'Fwd Pkt Len Std': 'Fwd Packet Length Std',\n",
    "    'Bwd Packet Length Max': 'Bwd Packet Length Max',\n",
    "    'Bwd Pkt Len Max': 'Bwd Packet Length Max',\n",
    "    'Bwd Packet Length Min': 'Bwd Packet Length Min',\n",
    "    'Bwd Pkt Len Min': 'Bwd Packet Length Min',\n",
    "    'Bwd Packet Length Mean': 'Bwd Packet Length Mean',\n",
    "    'Bwd Pkt Len Mean': 'Bwd Packet Length Mean',\n",
    "    'Bwd Packet Length Std': 'Bwd Packet Length Std',\n",
    "    'Bwd Pkt Len Std': 'Bwd Packet Length Std',\n",
    "    'Flow Bytes/s': 'Flow Bytes/s',\n",
    "    'Flow Byts/s': 'Flow Bytes/s',\n",
    "    'Flow Packets/s': 'Flow Packets/s',\n",
    "    'Flow Pkts/s': 'Flow Packets/s',\n",
    "    'Flow IAT Mean': 'Flow IAT Mean',\n",
    "    'Flow IAT Std': 'Flow IAT Std',\n",
    "    'Flow IAT Max': 'Flow IAT Max',\n",
    "    'Flow IAT Min': 'Flow IAT Min',\n",
    "    'Fwd IAT Total': 'Fwd IAT Total',\n",
    "    'Fwd IAT Tot': 'Fwd IAT Total',\n",
    "    'Fwd IAT Mean': 'Fwd IAT Mean',\n",
    "    'Fwd IAT Std': 'Fwd IAT Std',\n",
    "    'Fwd IAT Max': 'Fwd IAT Max',\n",
    "    'Fwd IAT Min': 'Fwd IAT Min',\n",
    "    'Bwd IAT Total': 'Bwd IAT Total',\n",
    "    'Bwd IAT Tot': 'Bwd IAT Total',\n",
    "    'Bwd IAT Mean': 'Bwd IAT Mean',\n",
    "    'Bwd IAT Std': 'Bwd IAT Std',\n",
    "    'Bwd IAT Max': 'Bwd IAT Max',\n",
    "    'Bwd IAT Min': 'Bwd IAT Min',\n",
    "    'Fwd PSH Flags': 'Fwd PSH Flags',\n",
    "    'Bwd PSH Flags': 'Bwd PSH Flags',\n",
    "    'Fwd URG Flags': 'Fwd URG Flags',\n",
    "    'Bwd URG Flags': 'Bwd URG Flags',\n",
    "    'Fwd Header Length': 'Fwd Header Length',\n",
    "    'Fwd Header Len': 'Fwd Header Length',\n",
    "    'Bwd Header Length': 'Bwd Header Length',\n",
    "    'Bwd Header Len': 'Bwd Header Length',\n",
    "    'Fwd Packets/s': 'Fwd Packets/s',\n",
    "    'Fwd Pkts/s': 'Fwd Packets/s',\n",
    "    'Bwd Packets/s': 'Bwd Packets/s',\n",
    "    'Bwd Pkts/s': 'Bwd Packets/s',\n",
    "    'Min Packet Length': 'Packet Length Min',\n",
    "    'Pkt Len Min': 'Packet Length Min',\n",
    "    'Max Packet Length': 'Packet Length Max',\n",
    "    'Pkt Len Max': 'Packet Length Max',\n",
    "    'Packet Length Mean': 'Packet Length Mean',\n",
    "    'Pkt Len Mean': 'Packet Length Mean',\n",
    "    'Packet Length Std': 'Packet Length Std',\n",
    "    'Pkt Len Std': 'Packet Length Std',\n",
    "    'Packet Length Variance': 'Packet Length Variance',\n",
    "    'Pkt Len Var': 'Packet Length Variance',\n",
    "    'FIN Flag Count': 'FIN Flag Count',\n",
    "    'FIN Flag Cnt': 'FIN Flag Count',\n",
    "    'SYN Flag Count': 'SYN Flag Count',\n",
    "    'SYN Flag Cnt': 'SYN Flag Count',\n",
    "    'RST Flag Count': 'RST Flag Count',\n",
    "    'RST Flag Cnt': 'RST Flag Count',\n",
    "    'PSH Flag Count': 'PSH Flag Count',\n",
    "    'PSH Flag Cnt': 'PSH Flag Count',\n",
    "    'ACK Flag Count': 'ACK Flag Count',\n",
    "    'ACK Flag Cnt': 'ACK Flag Count',\n",
    "    'URG Flag Count': 'URG Flag Count',\n",
    "    'URG Flag Cnt': 'URG Flag Count',\n",
    "    'CWE Flag Count': 'CWE Flag Count',\n",
    "    'CWE Flag Cnt': 'CWE Flag Count',\n",
    "    'ECE Flag Count': 'ECE Flag Count',\n",
    "    'ECE Flag Cnt': 'ECE Flag Count',\n",
    "    'Down/Up Ratio': 'Down/Up Ratio',\n",
    "    'Average Packet Size': 'Avg Packet Size',\n",
    "    'Pkt Size Avg': 'Avg Packet Size',\n",
    "    'Avg Fwd Segment Size': 'Avg Fwd Segment Size',\n",
    "    'Fwd Seg Size Avg': 'Avg Fwd Segment Size',\n",
    "    'Avg Bwd Segment Size': 'Avg Bwd Segment Size',\n",
    "    'Bwd Seg Size Avg': 'Avg Bwd Segment Size',\n",
    "    'Fwd Avg Bytes/Bulk': 'Fwd Avg Bytes/Bulk',\n",
    "    'Fwd Byts/b Avg': 'Fwd Avg Bytes/Bulk',\n",
    "    'Fwd Avg Packets/Bulk': 'Fwd Avg Packets/Bulk',\n",
    "    'Fwd Pkts/b Avg': 'Fwd Avg Packets/Bulk',\n",
    "    'Fwd Avg Bulk Rate': 'Fwd Avg Bulk Rate',\n",
    "    'Fwd Blk Rate Avg': 'Fwd Avg Bulk Rate',\n",
    "    'Bwd Avg Bytes/Bulk': 'Bwd Avg Bytes/Bulk',\n",
    "    'Bwd Byts/b Avg': 'Bwd Avg Bytes/Bulk',\n",
    "    'Bwd Avg Packets/Bulk': 'Bwd Avg Packets/Bulk',\n",
    "    'Bwd Pkts/b Avg': 'Bwd Avg Packets/Bulk',\n",
    "    'Bwd Avg Bulk Rate': 'Bwd Avg Bulk Rate',\n",
    "    'Bwd Blk Rate Avg': 'Bwd Avg Bulk Rate',\n",
    "    'Subflow Fwd Packets': 'Subflow Fwd Packets',\n",
    "    'Subflow Fwd Pkts': 'Subflow Fwd Packets',\n",
    "    'Subflow Fwd Bytes': 'Subflow Fwd Bytes',\n",
    "    'Subflow Fwd Byts': 'Subflow Fwd Bytes',\n",
    "    'Subflow Bwd Packets': 'Subflow Bwd Packets',\n",
    "    'Subflow Bwd Pkts': 'Subflow Bwd Packets',\n",
    "    'Subflow Bwd Bytes': 'Subflow Bwd Bytes',\n",
    "    'Subflow Bwd Byts': 'Subflow Bwd Bytes',\n",
    "    'Init_Win_bytes_forward': 'Init Fwd Win Bytes',\n",
    "    'Init Fwd Win Byts': 'Init Fwd Win Bytes',\n",
    "    'Init_Win_bytes_backward': 'Init Bwd Win Bytes',\n",
    "    'Init Bwd Win Byts': 'Init Bwd Win Bytes',\n",
    "    'act_data_pkt_fwd': 'Fwd Act Data Packets',\n",
    "    'Fwd Act Data Pkts': 'Fwd Act Data Packets',\n",
    "    'min_seg_size_forward': 'Fwd Seg Size Min',\n",
    "    'Fwd Seg Size Min': 'Fwd Seg Size Min',\n",
    "    'Active Mean': 'Active Mean',\n",
    "    'Active Std': 'Active Std',\n",
    "    'Active Max': 'Active Max',\n",
    "    'Active Min': 'Active Min',\n",
    "    'Idle Mean': 'Idle Mean',\n",
    "    'Idle Std': 'Idle Std',\n",
    "    'Idle Max': 'Idle Max',\n",
    "    'Idle Min': 'Idle Min',\n",
    "    'Label': 'Label'\n",
    "}"
   ],
   "metadata": {
    "collapsed": false
   }
  },
  {
   "cell_type": "markdown",
   "source": [
    "Using Parallel Processing {Dask Library} to Read the Large (above 1GB) csv files as chunk-wise but returning pandas dataframe"
   ],
   "metadata": {
    "collapsed": false
   }
  },
  {
   "cell_type": "code",
   "execution_count": 4,
   "outputs": [],
   "source": [
    "def readHugeCsvFileAsDataFrame(file_path):\n",
    "    dtypes = {'SimillarHTTP': 'object',\n",
    "              'Timestamp': 'object',\n",
    "              'Source IP': 'str',\n",
    "              'Destination IP': 'str',\n",
    "              'Flow ID': 'object',\n",
    "              'Label': 'object',\n",
    "              }\n",
    "    for feature in [f'f_{i}' for i in range(82)]:\n",
    "        dtypes[feature] = \"float32\"\n",
    "\n",
    "    dask_df = dd.read_csv(file_path, low_memory=False, blocksize=1e6, dtype=dtypes)  # 50MB chunk-size\n",
    "    # dask_df = dask_df.repartition(npartitions=8)\n",
    "    return dask_df.compute()\n"
   ],
   "metadata": {
    "collapsed": false
   }
  },
  {
   "cell_type": "markdown",
   "source": [
    "With Scheduler (see the elapsed time to process each file)"
   ],
   "metadata": {
    "collapsed": false
   }
  },
  {
   "cell_type": "code",
   "execution_count": 5,
   "outputs": [
    {
     "name": "stderr",
     "output_type": "stream",
     "text": [
      "C:\\Users\\MIST LAB\\anaconda3\\envs\\ml_env\\lib\\site-packages\\distributed\\node.py:182: UserWarning: Port 8787 is already in use.\n",
      "Perhaps you already have a cluster running?\n",
      "Hosting the HTTP server on port 51907 instead\n",
      "  f\"Port {expected} is already in use.\\n\"\n"
     ]
    },
    {
     "name": "stdout",
     "output_type": "stream",
     "text": [
      "Wall time: 10.3 s\n"
     ]
    },
    {
     "data": {
      "text/plain": "      Unnamed: 0                                Flow ID       Source IP  \\\n0              0     172.16.0.5-192.168.50.1-60675-80-6      172.16.0.5   \n1              7     172.16.0.5-192.168.50.1-60676-80-6      172.16.0.5   \n2          12858  192.168.50.7-65.55.163.78-50458-443-6    65.55.163.78   \n3          10191  192.168.50.7-65.55.163.78-50465-443-6    65.55.163.78   \n4            239         192.168.50.253-224.0.0.5-0-0-0  192.168.50.253   \n...          ...                                    ...             ...   \n1934        2414   172.16.0.5-192.168.50.1-634-63125-17      172.16.0.5   \n1935        1506   172.16.0.5-192.168.50.1-634-12431-17      172.16.0.5   \n1936         195     172.16.0.5-192.168.50.1-634-881-17      172.16.0.5   \n1937         266    172.16.0.5-192.168.50.1-634-7051-17      172.16.0.5   \n1938         508   172.16.0.5-192.168.50.1-634-60495-17      172.16.0.5   \n\n       Source Port  Destination IP   Destination Port   Protocol  \\\n0            60675    192.168.50.1                 80          6   \n1            60676    192.168.50.1                 80          6   \n2              443    192.168.50.7              50458          6   \n3              443    192.168.50.7              50465          6   \n4                0       224.0.0.5                  0          0   \n...            ...             ...                ...        ...   \n1934           634    192.168.50.1              63125         17   \n1935           634    192.168.50.1              12431         17   \n1936           634    192.168.50.1                881         17   \n1937           634    192.168.50.1               7051         17   \n1938           634    192.168.50.1              60495         17   \n\n                       Timestamp   Flow Duration   Total Fwd Packets  ...  \\\n0     2018-12-01 09:17:11.183810         5220876                  12  ...   \n1     2018-12-01 09:17:11.205636        12644252                   5  ...   \n2     2018-12-01 09:17:12.634569               3                   2  ...   \n3     2018-12-01 09:17:13.458370               3                   2  ...   \n4     2018-12-01 09:17:13.470913       114329232                  52  ...   \n...                          ...             ...                 ...  ...   \n1934  2018-12-01 10:51:39.600556           37146                 200  ...   \n1935  2018-12-01 10:51:39.635018           42011                 200  ...   \n1936  2018-12-01 10:51:39.685553           40375                 200  ...   \n1937  2018-12-01 10:51:39.721301           59116                 200  ...   \n1938  2018-12-01 10:51:39.778786           34660                 103  ...   \n\n       Active Std   Active Max   Active Min  Idle Mean       Idle Std  \\\n0        0.000000          0.0          0.0        0.0       0.000000   \n1        0.000000          0.0          0.0        0.0       0.000000   \n2        0.000000          0.0          0.0        0.0       0.000000   \n3        0.000000          0.0          0.0        0.0       0.000000   \n4        2.466441         15.0          6.0  9527428.0  248706.681286   \n...           ...          ...          ...        ...            ...   \n1934     0.000000          0.0          0.0        0.0       0.000000   \n1935     0.000000          0.0          0.0        0.0       0.000000   \n1936     0.000000          0.0          0.0        0.0       0.000000   \n1937     0.000000          0.0          0.0        0.0       0.000000   \n1938     0.000000          0.0          0.0        0.0       0.000000   \n\n       Idle Max   Idle Min          SimillarHTTP   Inbound      Label  \n0           0.0        0.0  205.174.165.72/c.php         1  DrDoS_NTP  \n1           0.0        0.0                     0         1  DrDoS_NTP  \n2           0.0        0.0                     0         1     BENIGN  \n3           0.0        0.0                     0         1     BENIGN  \n4     9950741.0  9092248.0                     0         0     BENIGN  \n...         ...        ...                   ...       ...        ...  \n1934        0.0        0.0                     0         1  DrDoS_NTP  \n1935        0.0        0.0                     0         1  DrDoS_NTP  \n1936        0.0        0.0                     0         1  DrDoS_NTP  \n1937        0.0        0.0                     0         1  DrDoS_NTP  \n1938        0.0        0.0                     0         1  DrDoS_NTP  \n\n[1217007 rows x 88 columns]",
      "text/html": "<div>\n<style scoped>\n    .dataframe tbody tr th:only-of-type {\n        vertical-align: middle;\n    }\n\n    .dataframe tbody tr th {\n        vertical-align: top;\n    }\n\n    .dataframe thead th {\n        text-align: right;\n    }\n</style>\n<table border=\"1\" class=\"dataframe\">\n  <thead>\n    <tr style=\"text-align: right;\">\n      <th></th>\n      <th>Unnamed: 0</th>\n      <th>Flow ID</th>\n      <th>Source IP</th>\n      <th>Source Port</th>\n      <th>Destination IP</th>\n      <th>Destination Port</th>\n      <th>Protocol</th>\n      <th>Timestamp</th>\n      <th>Flow Duration</th>\n      <th>Total Fwd Packets</th>\n      <th>...</th>\n      <th>Active Std</th>\n      <th>Active Max</th>\n      <th>Active Min</th>\n      <th>Idle Mean</th>\n      <th>Idle Std</th>\n      <th>Idle Max</th>\n      <th>Idle Min</th>\n      <th>SimillarHTTP</th>\n      <th>Inbound</th>\n      <th>Label</th>\n    </tr>\n  </thead>\n  <tbody>\n    <tr>\n      <th>0</th>\n      <td>0</td>\n      <td>172.16.0.5-192.168.50.1-60675-80-6</td>\n      <td>172.16.0.5</td>\n      <td>60675</td>\n      <td>192.168.50.1</td>\n      <td>80</td>\n      <td>6</td>\n      <td>2018-12-01 09:17:11.183810</td>\n      <td>5220876</td>\n      <td>12</td>\n      <td>...</td>\n      <td>0.000000</td>\n      <td>0.0</td>\n      <td>0.0</td>\n      <td>0.0</td>\n      <td>0.000000</td>\n      <td>0.0</td>\n      <td>0.0</td>\n      <td>205.174.165.72/c.php</td>\n      <td>1</td>\n      <td>DrDoS_NTP</td>\n    </tr>\n    <tr>\n      <th>1</th>\n      <td>7</td>\n      <td>172.16.0.5-192.168.50.1-60676-80-6</td>\n      <td>172.16.0.5</td>\n      <td>60676</td>\n      <td>192.168.50.1</td>\n      <td>80</td>\n      <td>6</td>\n      <td>2018-12-01 09:17:11.205636</td>\n      <td>12644252</td>\n      <td>5</td>\n      <td>...</td>\n      <td>0.000000</td>\n      <td>0.0</td>\n      <td>0.0</td>\n      <td>0.0</td>\n      <td>0.000000</td>\n      <td>0.0</td>\n      <td>0.0</td>\n      <td>0</td>\n      <td>1</td>\n      <td>DrDoS_NTP</td>\n    </tr>\n    <tr>\n      <th>2</th>\n      <td>12858</td>\n      <td>192.168.50.7-65.55.163.78-50458-443-6</td>\n      <td>65.55.163.78</td>\n      <td>443</td>\n      <td>192.168.50.7</td>\n      <td>50458</td>\n      <td>6</td>\n      <td>2018-12-01 09:17:12.634569</td>\n      <td>3</td>\n      <td>2</td>\n      <td>...</td>\n      <td>0.000000</td>\n      <td>0.0</td>\n      <td>0.0</td>\n      <td>0.0</td>\n      <td>0.000000</td>\n      <td>0.0</td>\n      <td>0.0</td>\n      <td>0</td>\n      <td>1</td>\n      <td>BENIGN</td>\n    </tr>\n    <tr>\n      <th>3</th>\n      <td>10191</td>\n      <td>192.168.50.7-65.55.163.78-50465-443-6</td>\n      <td>65.55.163.78</td>\n      <td>443</td>\n      <td>192.168.50.7</td>\n      <td>50465</td>\n      <td>6</td>\n      <td>2018-12-01 09:17:13.458370</td>\n      <td>3</td>\n      <td>2</td>\n      <td>...</td>\n      <td>0.000000</td>\n      <td>0.0</td>\n      <td>0.0</td>\n      <td>0.0</td>\n      <td>0.000000</td>\n      <td>0.0</td>\n      <td>0.0</td>\n      <td>0</td>\n      <td>1</td>\n      <td>BENIGN</td>\n    </tr>\n    <tr>\n      <th>4</th>\n      <td>239</td>\n      <td>192.168.50.253-224.0.0.5-0-0-0</td>\n      <td>192.168.50.253</td>\n      <td>0</td>\n      <td>224.0.0.5</td>\n      <td>0</td>\n      <td>0</td>\n      <td>2018-12-01 09:17:13.470913</td>\n      <td>114329232</td>\n      <td>52</td>\n      <td>...</td>\n      <td>2.466441</td>\n      <td>15.0</td>\n      <td>6.0</td>\n      <td>9527428.0</td>\n      <td>248706.681286</td>\n      <td>9950741.0</td>\n      <td>9092248.0</td>\n      <td>0</td>\n      <td>0</td>\n      <td>BENIGN</td>\n    </tr>\n    <tr>\n      <th>...</th>\n      <td>...</td>\n      <td>...</td>\n      <td>...</td>\n      <td>...</td>\n      <td>...</td>\n      <td>...</td>\n      <td>...</td>\n      <td>...</td>\n      <td>...</td>\n      <td>...</td>\n      <td>...</td>\n      <td>...</td>\n      <td>...</td>\n      <td>...</td>\n      <td>...</td>\n      <td>...</td>\n      <td>...</td>\n      <td>...</td>\n      <td>...</td>\n      <td>...</td>\n      <td>...</td>\n    </tr>\n    <tr>\n      <th>1934</th>\n      <td>2414</td>\n      <td>172.16.0.5-192.168.50.1-634-63125-17</td>\n      <td>172.16.0.5</td>\n      <td>634</td>\n      <td>192.168.50.1</td>\n      <td>63125</td>\n      <td>17</td>\n      <td>2018-12-01 10:51:39.600556</td>\n      <td>37146</td>\n      <td>200</td>\n      <td>...</td>\n      <td>0.000000</td>\n      <td>0.0</td>\n      <td>0.0</td>\n      <td>0.0</td>\n      <td>0.000000</td>\n      <td>0.0</td>\n      <td>0.0</td>\n      <td>0</td>\n      <td>1</td>\n      <td>DrDoS_NTP</td>\n    </tr>\n    <tr>\n      <th>1935</th>\n      <td>1506</td>\n      <td>172.16.0.5-192.168.50.1-634-12431-17</td>\n      <td>172.16.0.5</td>\n      <td>634</td>\n      <td>192.168.50.1</td>\n      <td>12431</td>\n      <td>17</td>\n      <td>2018-12-01 10:51:39.635018</td>\n      <td>42011</td>\n      <td>200</td>\n      <td>...</td>\n      <td>0.000000</td>\n      <td>0.0</td>\n      <td>0.0</td>\n      <td>0.0</td>\n      <td>0.000000</td>\n      <td>0.0</td>\n      <td>0.0</td>\n      <td>0</td>\n      <td>1</td>\n      <td>DrDoS_NTP</td>\n    </tr>\n    <tr>\n      <th>1936</th>\n      <td>195</td>\n      <td>172.16.0.5-192.168.50.1-634-881-17</td>\n      <td>172.16.0.5</td>\n      <td>634</td>\n      <td>192.168.50.1</td>\n      <td>881</td>\n      <td>17</td>\n      <td>2018-12-01 10:51:39.685553</td>\n      <td>40375</td>\n      <td>200</td>\n      <td>...</td>\n      <td>0.000000</td>\n      <td>0.0</td>\n      <td>0.0</td>\n      <td>0.0</td>\n      <td>0.000000</td>\n      <td>0.0</td>\n      <td>0.0</td>\n      <td>0</td>\n      <td>1</td>\n      <td>DrDoS_NTP</td>\n    </tr>\n    <tr>\n      <th>1937</th>\n      <td>266</td>\n      <td>172.16.0.5-192.168.50.1-634-7051-17</td>\n      <td>172.16.0.5</td>\n      <td>634</td>\n      <td>192.168.50.1</td>\n      <td>7051</td>\n      <td>17</td>\n      <td>2018-12-01 10:51:39.721301</td>\n      <td>59116</td>\n      <td>200</td>\n      <td>...</td>\n      <td>0.000000</td>\n      <td>0.0</td>\n      <td>0.0</td>\n      <td>0.0</td>\n      <td>0.000000</td>\n      <td>0.0</td>\n      <td>0.0</td>\n      <td>0</td>\n      <td>1</td>\n      <td>DrDoS_NTP</td>\n    </tr>\n    <tr>\n      <th>1938</th>\n      <td>508</td>\n      <td>172.16.0.5-192.168.50.1-634-60495-17</td>\n      <td>172.16.0.5</td>\n      <td>634</td>\n      <td>192.168.50.1</td>\n      <td>60495</td>\n      <td>17</td>\n      <td>2018-12-01 10:51:39.778786</td>\n      <td>34660</td>\n      <td>103</td>\n      <td>...</td>\n      <td>0.000000</td>\n      <td>0.0</td>\n      <td>0.0</td>\n      <td>0.0</td>\n      <td>0.000000</td>\n      <td>0.0</td>\n      <td>0.0</td>\n      <td>0</td>\n      <td>1</td>\n      <td>DrDoS_NTP</td>\n    </tr>\n  </tbody>\n</table>\n<p>1217007 rows × 88 columns</p>\n</div>"
     },
     "execution_count": 5,
     "metadata": {},
     "output_type": "execute_result"
    }
   ],
   "source": [
    "%%time\n",
    "daskScheduler = Client()\n",
    "worker_output = daskScheduler.submit(readHugeCsvFileAsDataFrame, path_DdoS_NTP)\n",
    "workingDataFrame = worker_output.result()\n",
    "workingDataFrame"
   ],
   "metadata": {
    "collapsed": false
   }
  },
  {
   "cell_type": "code",
   "execution_count": 6,
   "outputs": [
    {
     "name": "stdout",
     "output_type": "stream",
     "text": [
      "Memory usage of Working Dataframe: 826.37 MB\n",
      "Total Features in the initial csv file:  88\n"
     ]
    }
   ],
   "source": [
    "mb = workingDataFrame.memory_usage().sum() / 1024 ** 2\n",
    "print('Memory usage of Working Dataframe: {:.2f} MB'.format(mb))\n",
    "print(\"Total Features in the initial csv file: \", len(list(workingDataFrame.columns)))"
   ],
   "metadata": {
    "collapsed": false
   }
  },
  {
   "cell_type": "markdown",
   "source": [
    "<center><h4 style=\"background:#ADFF2F;color:black\">\n",
    "Following Columns may have little insignificance over model creation. Follow <a href=\"https://link.springer.com/chapter/10.1007/978-3-031-09484-2_2\" >This Paper Link</a>\n",
    "</h4></center>"
   ],
   "metadata": {
    "collapsed": false
   }
  },
  {
   "cell_type": "code",
   "execution_count": 7,
   "outputs": [],
   "source": [
    "# src_port,dst_port, src_ip, dst_ip these are duplicate\n",
    "drop_columns = [\n",
    "    \"Flow ID\",\n",
    "    'Fwd Header Length.1',\n",
    "    \"Source IP\", \"Src IP\",\n",
    "    \"Source Port\", \"Src Port\",\n",
    "    \"Destination IP\", \"Dst IP\",\n",
    "    \"Destination Port\", \"Dst Port\",\n",
    "    \"Timestamp\",\n",
    "    \"Unnamed: 0\",\n",
    "    \"Inbound\",\n",
    "    \"SimillarHTTP\"\n",
    "]"
   ],
   "metadata": {
    "collapsed": false
   }
  },
  {
   "cell_type": "markdown",
   "source": [
    "<center><h3 style=\"background:yellow;color:black\">\n",
    "Dropping Unnecessary Features & maintain column consistency\n",
    "</h3></center>"
   ],
   "metadata": {
    "collapsed": false
   }
  },
  {
   "cell_type": "code",
   "execution_count": 8,
   "outputs": [
    {
     "data": {
      "text/plain": "(1217007, 78)"
     },
     "execution_count": 8,
     "metadata": {},
     "output_type": "execute_result"
    }
   ],
   "source": [
    "workingDataFrame.columns = workingDataFrame.columns.str.strip()  # sometimes there's leading / trailing whitespace\n",
    "workingDataFrame.rename(columns=col_name_consistency, inplace=True)\n",
    "workingDataFrame.drop(columns=drop_columns, inplace=True, errors='ignore')\n",
    "\n",
    "workingDataFrame.shape"
   ],
   "metadata": {
    "collapsed": false
   }
  },
  {
   "cell_type": "markdown",
   "source": [
    "<center><h3 style=\"background:yellow;color:black\">\n",
    "Data Cleaning Based on Data Types (DownSizing)\n",
    "</h3></center>"
   ],
   "metadata": {
    "collapsed": false
   }
  },
  {
   "cell_type": "code",
   "execution_count": 9,
   "outputs": [
    {
     "name": "stdout",
     "output_type": "stream",
     "text": [
      "<class 'pandas.core.frame.DataFrame'>\n",
      "Int64Index: 1217007 entries, 0 to 1938\n",
      "Data columns (total 78 columns):\n",
      " #   Column                    Non-Null Count    Dtype  \n",
      "---  ------                    --------------    -----  \n",
      " 0   Protocol                  1217007 non-null  int64  \n",
      " 1   Flow Duration             1217007 non-null  int64  \n",
      " 2   Total Fwd Packets         1217007 non-null  int64  \n",
      " 3   Total Backward Packets    1217007 non-null  int64  \n",
      " 4   Fwd Packets Length Total  1217007 non-null  float64\n",
      " 5   Bwd Packets Length Total  1217007 non-null  float64\n",
      " 6   Fwd Packet Length Max     1217007 non-null  float64\n",
      " 7   Fwd Packet Length Min     1217007 non-null  float64\n",
      " 8   Fwd Packet Length Mean    1217007 non-null  float64\n",
      " 9   Fwd Packet Length Std     1217007 non-null  float64\n",
      " 10  Bwd Packet Length Max     1217007 non-null  float64\n",
      " 11  Bwd Packet Length Min     1217007 non-null  float64\n",
      " 12  Bwd Packet Length Mean    1217007 non-null  float64\n",
      " 13  Bwd Packet Length Std     1217007 non-null  float64\n",
      " 14  Flow Bytes/s              1216976 non-null  float64\n",
      " 15  Flow Packets/s            1217007 non-null  float64\n",
      " 16  Flow IAT Mean             1217007 non-null  float64\n",
      " 17  Flow IAT Std              1217007 non-null  float64\n",
      " 18  Flow IAT Max              1217007 non-null  float64\n",
      " 19  Flow IAT Min              1217007 non-null  float64\n",
      " 20  Fwd IAT Total             1217007 non-null  float64\n",
      " 21  Fwd IAT Mean              1217007 non-null  float64\n",
      " 22  Fwd IAT Std               1217007 non-null  float64\n",
      " 23  Fwd IAT Max               1217007 non-null  float64\n",
      " 24  Fwd IAT Min               1217007 non-null  float64\n",
      " 25  Bwd IAT Total             1217007 non-null  float64\n",
      " 26  Bwd IAT Mean              1217007 non-null  float64\n",
      " 27  Bwd IAT Std               1217007 non-null  float64\n",
      " 28  Bwd IAT Max               1217007 non-null  float64\n",
      " 29  Bwd IAT Min               1217007 non-null  float64\n",
      " 30  Fwd PSH Flags             1217007 non-null  int64  \n",
      " 31  Bwd PSH Flags             1217007 non-null  int64  \n",
      " 32  Fwd URG Flags             1217007 non-null  int64  \n",
      " 33  Bwd URG Flags             1217007 non-null  int64  \n",
      " 34  Fwd Header Length         1217007 non-null  int64  \n",
      " 35  Bwd Header Length         1217007 non-null  int64  \n",
      " 36  Fwd Packets/s             1217007 non-null  float64\n",
      " 37  Bwd Packets/s             1217007 non-null  float64\n",
      " 38  Packet Length Min         1217007 non-null  float64\n",
      " 39  Packet Length Max         1217007 non-null  float64\n",
      " 40  Packet Length Mean        1217007 non-null  float64\n",
      " 41  Packet Length Std         1217007 non-null  float64\n",
      " 42  Packet Length Variance    1217007 non-null  float64\n",
      " 43  FIN Flag Count            1217007 non-null  int64  \n",
      " 44  SYN Flag Count            1217007 non-null  int64  \n",
      " 45  RST Flag Count            1217007 non-null  int64  \n",
      " 46  PSH Flag Count            1217007 non-null  int64  \n",
      " 47  ACK Flag Count            1217007 non-null  int64  \n",
      " 48  URG Flag Count            1217007 non-null  int64  \n",
      " 49  CWE Flag Count            1217007 non-null  int64  \n",
      " 50  ECE Flag Count            1217007 non-null  int64  \n",
      " 51  Down/Up Ratio             1217007 non-null  float64\n",
      " 52  Avg Packet Size           1217007 non-null  float64\n",
      " 53  Avg Fwd Segment Size      1217007 non-null  float64\n",
      " 54  Avg Bwd Segment Size      1217007 non-null  float64\n",
      " 55  Fwd Avg Bytes/Bulk        1217007 non-null  int64  \n",
      " 56  Fwd Avg Packets/Bulk      1217007 non-null  int64  \n",
      " 57  Fwd Avg Bulk Rate         1217007 non-null  int64  \n",
      " 58  Bwd Avg Bytes/Bulk        1217007 non-null  int64  \n",
      " 59  Bwd Avg Packets/Bulk      1217007 non-null  int64  \n",
      " 60  Bwd Avg Bulk Rate         1217007 non-null  int64  \n",
      " 61  Subflow Fwd Packets       1217007 non-null  int64  \n",
      " 62  Subflow Fwd Bytes         1217007 non-null  int64  \n",
      " 63  Subflow Bwd Packets       1217007 non-null  int64  \n",
      " 64  Subflow Bwd Bytes         1217007 non-null  int64  \n",
      " 65  Init Fwd Win Bytes        1217007 non-null  int64  \n",
      " 66  Init Bwd Win Bytes        1217007 non-null  int64  \n",
      " 67  Fwd Act Data Packets      1217007 non-null  int64  \n",
      " 68  Fwd Seg Size Min          1217007 non-null  int64  \n",
      " 69  Active Mean               1217007 non-null  float64\n",
      " 70  Active Std                1217007 non-null  float64\n",
      " 71  Active Max                1217007 non-null  float64\n",
      " 72  Active Min                1217007 non-null  float64\n",
      " 73  Idle Mean                 1217007 non-null  float64\n",
      " 74  Idle Std                  1217007 non-null  float64\n",
      " 75  Idle Max                  1217007 non-null  float64\n",
      " 76  Idle Min                  1217007 non-null  float64\n",
      " 77  Label                     1217007 non-null  object \n",
      "dtypes: float64(45), int64(32), object(1)\n",
      "memory usage: 800.8 MB\n"
     ]
    }
   ],
   "source": [
    "workingDataFrame.info(memory_usage=\"deep\")"
   ],
   "metadata": {
    "collapsed": false
   }
  },
  {
   "cell_type": "code",
   "execution_count": 10,
   "outputs": [
    {
     "name": "stdout",
     "output_type": "stream",
     "text": [
      "<class 'pandas.core.frame.DataFrame'>\n",
      "Int64Index: 1217007 entries, 0 to 1938\n",
      "Data columns (total 78 columns):\n",
      " #   Column                    Non-Null Count    Dtype  \n",
      "---  ------                    --------------    -----  \n",
      " 0   Protocol                  1217007 non-null  int8   \n",
      " 1   Flow Duration             1217007 non-null  int32  \n",
      " 2   Total Fwd Packets         1217007 non-null  int16  \n",
      " 3   Total Backward Packets    1217007 non-null  int16  \n",
      " 4   Fwd Packets Length Total  1217007 non-null  float32\n",
      " 5   Bwd Packets Length Total  1217007 non-null  float32\n",
      " 6   Fwd Packet Length Max     1217007 non-null  float32\n",
      " 7   Fwd Packet Length Min     1217007 non-null  float32\n",
      " 8   Fwd Packet Length Mean    1217007 non-null  float32\n",
      " 9   Fwd Packet Length Std     1217007 non-null  float32\n",
      " 10  Bwd Packet Length Max     1217007 non-null  float32\n",
      " 11  Bwd Packet Length Min     1217007 non-null  float32\n",
      " 12  Bwd Packet Length Mean    1217007 non-null  float32\n",
      " 13  Bwd Packet Length Std     1217007 non-null  float32\n",
      " 14  Flow Bytes/s              1216976 non-null  float32\n",
      " 15  Flow Packets/s            1217007 non-null  float32\n",
      " 16  Flow IAT Mean             1217007 non-null  float32\n",
      " 17  Flow IAT Std              1217007 non-null  float32\n",
      " 18  Flow IAT Max              1217007 non-null  float32\n",
      " 19  Flow IAT Min              1217007 non-null  float32\n",
      " 20  Fwd IAT Total             1217007 non-null  float32\n",
      " 21  Fwd IAT Mean              1217007 non-null  float32\n",
      " 22  Fwd IAT Std               1217007 non-null  float32\n",
      " 23  Fwd IAT Max               1217007 non-null  float32\n",
      " 24  Fwd IAT Min               1217007 non-null  float32\n",
      " 25  Bwd IAT Total             1217007 non-null  float32\n",
      " 26  Bwd IAT Mean              1217007 non-null  float32\n",
      " 27  Bwd IAT Std               1217007 non-null  float32\n",
      " 28  Bwd IAT Max               1217007 non-null  float32\n",
      " 29  Bwd IAT Min               1217007 non-null  float32\n",
      " 30  Fwd PSH Flags             1217007 non-null  int8   \n",
      " 31  Bwd PSH Flags             1217007 non-null  int8   \n",
      " 32  Fwd URG Flags             1217007 non-null  int8   \n",
      " 33  Bwd URG Flags             1217007 non-null  int8   \n",
      " 34  Fwd Header Length         1217007 non-null  int64  \n",
      " 35  Bwd Header Length         1217007 non-null  int32  \n",
      " 36  Fwd Packets/s             1217007 non-null  float32\n",
      " 37  Bwd Packets/s             1217007 non-null  float32\n",
      " 38  Packet Length Min         1217007 non-null  float32\n",
      " 39  Packet Length Max         1217007 non-null  float32\n",
      " 40  Packet Length Mean        1217007 non-null  float32\n",
      " 41  Packet Length Std         1217007 non-null  float32\n",
      " 42  Packet Length Variance    1217007 non-null  float32\n",
      " 43  FIN Flag Count            1217007 non-null  int8   \n",
      " 44  SYN Flag Count            1217007 non-null  int8   \n",
      " 45  RST Flag Count            1217007 non-null  int8   \n",
      " 46  PSH Flag Count            1217007 non-null  int8   \n",
      " 47  ACK Flag Count            1217007 non-null  int8   \n",
      " 48  URG Flag Count            1217007 non-null  int8   \n",
      " 49  CWE Flag Count            1217007 non-null  int8   \n",
      " 50  ECE Flag Count            1217007 non-null  int8   \n",
      " 51  Down/Up Ratio             1217007 non-null  float32\n",
      " 52  Avg Packet Size           1217007 non-null  float32\n",
      " 53  Avg Fwd Segment Size      1217007 non-null  float32\n",
      " 54  Avg Bwd Segment Size      1217007 non-null  float32\n",
      " 55  Fwd Avg Bytes/Bulk        1217007 non-null  int8   \n",
      " 56  Fwd Avg Packets/Bulk      1217007 non-null  int8   \n",
      " 57  Fwd Avg Bulk Rate         1217007 non-null  int8   \n",
      " 58  Bwd Avg Bytes/Bulk        1217007 non-null  int8   \n",
      " 59  Bwd Avg Packets/Bulk      1217007 non-null  int8   \n",
      " 60  Bwd Avg Bulk Rate         1217007 non-null  int8   \n",
      " 61  Subflow Fwd Packets       1217007 non-null  int16  \n",
      " 62  Subflow Fwd Bytes         1217007 non-null  int32  \n",
      " 63  Subflow Bwd Packets       1217007 non-null  int16  \n",
      " 64  Subflow Bwd Bytes         1217007 non-null  int32  \n",
      " 65  Init Fwd Win Bytes        1217007 non-null  int32  \n",
      " 66  Init Bwd Win Bytes        1217007 non-null  int32  \n",
      " 67  Fwd Act Data Packets      1217007 non-null  int16  \n",
      " 68  Fwd Seg Size Min          1217007 non-null  int32  \n",
      " 69  Active Mean               1217007 non-null  float32\n",
      " 70  Active Std                1217007 non-null  float32\n",
      " 71  Active Max                1217007 non-null  float32\n",
      " 72  Active Min                1217007 non-null  float32\n",
      " 73  Idle Mean                 1217007 non-null  float32\n",
      " 74  Idle Std                  1217007 non-null  float32\n",
      " 75  Idle Max                  1217007 non-null  float32\n",
      " 76  Idle Min                  1217007 non-null  float32\n",
      " 77  Label                     1217007 non-null  object \n",
      "dtypes: float32(45), int16(5), int32(7), int64(1), int8(19), object(1)\n",
      "memory usage: 370.2 MB\n"
     ]
    }
   ],
   "source": [
    "# converting 64bit float to 32 bit float & 64bit integer to 8bit integer\n",
    "for column in workingDataFrame:\n",
    "    if workingDataFrame[column].dtype == 'float64':\n",
    "        workingDataFrame[column] = pd.to_numeric(workingDataFrame[column], downcast='float')\n",
    "    if workingDataFrame[column].dtype == 'int64':\n",
    "        workingDataFrame[column] = pd.to_numeric(workingDataFrame[column], downcast='integer')\n",
    "\n",
    "workingDataFrame.info(memory_usage=\"deep\")  # observe the dTypes"
   ],
   "metadata": {
    "collapsed": false
   }
  },
  {
   "cell_type": "markdown",
   "source": [
    "<center><h3 style=\"background:yellow;color:black\">\n",
    "Removing NaN values & infinite values\n",
    "</h3></center>"
   ],
   "metadata": {
    "collapsed": false
   }
  },
  {
   "cell_type": "code",
   "execution_count": 11,
   "outputs": [
    {
     "name": "stdout",
     "output_type": "stream",
     "text": [
      "pure missing value contains rows: 31\n",
      "missing value contains total rows: 7046\n",
      "After dropping NaN values, number of rows: 1209961\n",
      "After dropping NaN values, number of columns: 78\n"
     ]
    }
   ],
   "source": [
    "# workingDataFrame.isnull().sum()\n",
    "print(f\"pure missing value contains rows: {workingDataFrame.isna().any(axis=1).sum()}\")\n",
    "workingDataFrame.replace([np.inf, -np.inf], np.nan, inplace=True)\n",
    "print(f\"missing value contains total rows: {workingDataFrame.isna().any(axis=1).sum()}\")\n",
    "workingDataFrame.dropna(inplace=True)\n",
    "print(f\"After dropping NaN values, number of rows: {workingDataFrame.shape[0]}\")\n",
    "print(f\"After dropping NaN values, number of columns: {workingDataFrame.shape[1]}\")"
   ],
   "metadata": {
    "collapsed": false
   }
  },
  {
   "cell_type": "markdown",
   "source": [
    "<center><h3 style=\"background:yellow;color:black\">\n",
    "Dropping Duplicate Rows\n",
    "</h3></center>"
   ],
   "metadata": {
    "collapsed": false
   }
  },
  {
   "cell_type": "code",
   "execution_count": 12,
   "outputs": [
    {
     "name": "stdout",
     "output_type": "stream",
     "text": [
      "Fully duplicate total rows: 86449\n",
      "After dropping Duplicate values, number of rows: 1123512\n",
      "After dropping Duplicate values, number of columns: 78\n"
     ]
    }
   ],
   "source": [
    "print(f\"Fully duplicate total rows: {workingDataFrame.duplicated().sum()}\")\n",
    "workingDataFrame.drop_duplicates(inplace=True)\n",
    "workingDataFrame.reset_index(inplace=True, drop=True)\n",
    "print(f\"After dropping Duplicate values, number of rows: {workingDataFrame.shape[0]}\")\n",
    "print(f\"After dropping Duplicate values, number of columns: {workingDataFrame.shape[1]}\")"
   ],
   "metadata": {
    "collapsed": false
   }
  },
  {
   "cell_type": "markdown",
   "source": [
    "<center><h3 style=\"background:#FF00FF;color:black\">\n",
    "After data cleaning, how much storage it holds now\n",
    "</h3></center>"
   ],
   "metadata": {
    "collapsed": false
   }
  },
  {
   "cell_type": "code",
   "execution_count": 13,
   "outputs": [
    {
     "name": "stdout",
     "output_type": "stream",
     "text": [
      "<class 'pandas.core.frame.DataFrame'>\n",
      "RangeIndex: 1123512 entries, 0 to 1123511\n",
      "Data columns (total 78 columns):\n",
      " #   Column                    Non-Null Count    Dtype  \n",
      "---  ------                    --------------    -----  \n",
      " 0   Protocol                  1123512 non-null  int8   \n",
      " 1   Flow Duration             1123512 non-null  int32  \n",
      " 2   Total Fwd Packets         1123512 non-null  int16  \n",
      " 3   Total Backward Packets    1123512 non-null  int16  \n",
      " 4   Fwd Packets Length Total  1123512 non-null  float64\n",
      " 5   Bwd Packets Length Total  1123512 non-null  float64\n",
      " 6   Fwd Packet Length Max     1123512 non-null  float64\n",
      " 7   Fwd Packet Length Min     1123512 non-null  float64\n",
      " 8   Fwd Packet Length Mean    1123512 non-null  float64\n",
      " 9   Fwd Packet Length Std     1123512 non-null  float64\n",
      " 10  Bwd Packet Length Max     1123512 non-null  float64\n",
      " 11  Bwd Packet Length Min     1123512 non-null  float64\n",
      " 12  Bwd Packet Length Mean    1123512 non-null  float64\n",
      " 13  Bwd Packet Length Std     1123512 non-null  float64\n",
      " 14  Flow Bytes/s              1123512 non-null  float64\n",
      " 15  Flow Packets/s            1123512 non-null  float64\n",
      " 16  Flow IAT Mean             1123512 non-null  float64\n",
      " 17  Flow IAT Std              1123512 non-null  float64\n",
      " 18  Flow IAT Max              1123512 non-null  float64\n",
      " 19  Flow IAT Min              1123512 non-null  float64\n",
      " 20  Fwd IAT Total             1123512 non-null  float64\n",
      " 21  Fwd IAT Mean              1123512 non-null  float64\n",
      " 22  Fwd IAT Std               1123512 non-null  float64\n",
      " 23  Fwd IAT Max               1123512 non-null  float64\n",
      " 24  Fwd IAT Min               1123512 non-null  float64\n",
      " 25  Bwd IAT Total             1123512 non-null  float64\n",
      " 26  Bwd IAT Mean              1123512 non-null  float64\n",
      " 27  Bwd IAT Std               1123512 non-null  float64\n",
      " 28  Bwd IAT Max               1123512 non-null  float64\n",
      " 29  Bwd IAT Min               1123512 non-null  float64\n",
      " 30  Fwd PSH Flags             1123512 non-null  int8   \n",
      " 31  Bwd PSH Flags             1123512 non-null  int8   \n",
      " 32  Fwd URG Flags             1123512 non-null  int8   \n",
      " 33  Bwd URG Flags             1123512 non-null  int8   \n",
      " 34  Fwd Header Length         1123512 non-null  int64  \n",
      " 35  Bwd Header Length         1123512 non-null  int32  \n",
      " 36  Fwd Packets/s             1123512 non-null  float64\n",
      " 37  Bwd Packets/s             1123512 non-null  float64\n",
      " 38  Packet Length Min         1123512 non-null  float64\n",
      " 39  Packet Length Max         1123512 non-null  float64\n",
      " 40  Packet Length Mean        1123512 non-null  float64\n",
      " 41  Packet Length Std         1123512 non-null  float64\n",
      " 42  Packet Length Variance    1123512 non-null  float64\n",
      " 43  FIN Flag Count            1123512 non-null  int8   \n",
      " 44  SYN Flag Count            1123512 non-null  int8   \n",
      " 45  RST Flag Count            1123512 non-null  int8   \n",
      " 46  PSH Flag Count            1123512 non-null  int8   \n",
      " 47  ACK Flag Count            1123512 non-null  int8   \n",
      " 48  URG Flag Count            1123512 non-null  int8   \n",
      " 49  CWE Flag Count            1123512 non-null  int8   \n",
      " 50  ECE Flag Count            1123512 non-null  int8   \n",
      " 51  Down/Up Ratio             1123512 non-null  float64\n",
      " 52  Avg Packet Size           1123512 non-null  float64\n",
      " 53  Avg Fwd Segment Size      1123512 non-null  float64\n",
      " 54  Avg Bwd Segment Size      1123512 non-null  float64\n",
      " 55  Fwd Avg Bytes/Bulk        1123512 non-null  int8   \n",
      " 56  Fwd Avg Packets/Bulk      1123512 non-null  int8   \n",
      " 57  Fwd Avg Bulk Rate         1123512 non-null  int8   \n",
      " 58  Bwd Avg Bytes/Bulk        1123512 non-null  int8   \n",
      " 59  Bwd Avg Packets/Bulk      1123512 non-null  int8   \n",
      " 60  Bwd Avg Bulk Rate         1123512 non-null  int8   \n",
      " 61  Subflow Fwd Packets       1123512 non-null  int16  \n",
      " 62  Subflow Fwd Bytes         1123512 non-null  int32  \n",
      " 63  Subflow Bwd Packets       1123512 non-null  int16  \n",
      " 64  Subflow Bwd Bytes         1123512 non-null  int32  \n",
      " 65  Init Fwd Win Bytes        1123512 non-null  int32  \n",
      " 66  Init Bwd Win Bytes        1123512 non-null  int32  \n",
      " 67  Fwd Act Data Packets      1123512 non-null  int16  \n",
      " 68  Fwd Seg Size Min          1123512 non-null  int32  \n",
      " 69  Active Mean               1123512 non-null  float64\n",
      " 70  Active Std                1123512 non-null  float64\n",
      " 71  Active Max                1123512 non-null  float64\n",
      " 72  Active Min                1123512 non-null  float64\n",
      " 73  Idle Mean                 1123512 non-null  float64\n",
      " 74  Idle Std                  1123512 non-null  float64\n",
      " 75  Idle Max                  1123512 non-null  float64\n",
      " 76  Idle Min                  1123512 non-null  float64\n",
      " 77  Label                     1123512 non-null  object \n",
      "dtypes: float64(45), int16(5), int32(7), int64(1), int8(19), object(1)\n",
      "memory usage: 526.1 MB\n"
     ]
    }
   ],
   "source": [
    "workingDataFrame.info(memory_usage=\"deep\")"
   ],
   "metadata": {
    "collapsed": false
   }
  },
  {
   "cell_type": "markdown",
   "source": [
    "<center><h3 style=\"background:#00FF00;color:black\">\n",
    "Saving New DataFrame as csv file to new location\n",
    "</h3></center>"
   ],
   "metadata": {
    "collapsed": false
   }
  },
  {
   "cell_type": "code",
   "execution_count": null,
   "outputs": [],
   "source": [
    "def dataCleaningResultToAnotherCSV(dataFrameArg, dirPath, file_name):\n",
    "    dataFrameArg.to_csv(dirPath + file_name)"
   ],
   "metadata": {
    "collapsed": false
   }
  },
  {
   "cell_type": "code",
   "execution_count": null,
   "outputs": [],
   "source": [
    "newCsvPath = \"C:\\\\Thesis_Group_of_Brig_Gen_Razzak_Sir\\\\After_Row_Data_Cleaning\\\\\"\n",
    "# newFileName = \"cleaned_udpLag\"\n",
    "# newFileName = \"cleaned_Syn\"\n",
    "newFileName = \"cleaned_DrDoS_NTP\"\n",
    "# newFileName = \"cleaned_DrDoS_LDAP\"\n",
    "# newFileName = \"cleaned_DrDoS_SSDP\"\n",
    "# newFileName = \"cleaned_DrDoS_UDP\"\n",
    "csvFileName = newFileName + \".csv\"\n",
    "dataCleaningResultToAnotherCSV(dataFrameArg=workingDataFrame, dirPath=newCsvPath, file_name=csvFileName)"
   ],
   "metadata": {
    "collapsed": false
   }
  },
  {
   "cell_type": "code",
   "execution_count": 14,
   "outputs": [
    {
     "data": {
      "text/plain": "831"
     },
     "execution_count": 14,
     "metadata": {},
     "output_type": "execute_result"
    }
   ],
   "source": [
    "import gc\n",
    "\n",
    "gc.collect()"
   ],
   "metadata": {
    "collapsed": false
   }
  },
  {
   "cell_type": "markdown",
   "source": [],
   "metadata": {
    "collapsed": false
   }
  }
 ],
 "metadata": {
  "kernelspec": {
   "display_name": "Python 3",
   "language": "python",
   "name": "python3"
  },
  "language_info": {
   "codemirror_mode": {
    "name": "ipython",
    "version": 2
   },
   "file_extension": ".py",
   "mimetype": "text/x-python",
   "name": "python",
   "nbconvert_exporter": "python",
   "pygments_lexer": "ipython2",
   "version": "2.7.6"
  }
 },
 "nbformat": 4,
 "nbformat_minor": 0
}

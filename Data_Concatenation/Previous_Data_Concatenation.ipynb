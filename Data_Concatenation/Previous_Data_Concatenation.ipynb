{
 "cells": [
  {
   "cell_type": "markdown",
   "source": [
    "<center><h2>\n",
    "<a href=\"https://masumbhai.me\">Kindly visit my portfolio to see more of my works</a>\n",
    "</h2></center>"
   ],
   "metadata": {
    "collapsed": false
   }
  },
  {
   "cell_type": "code",
   "execution_count": 1,
   "metadata": {
    "collapsed": true
   },
   "outputs": [],
   "source": [
    "import pandas as pd\n",
    "import numpy as np\n",
    "from dask import dataframe as dd\n",
    "from dask.distributed import Client\n",
    "from sklearn.utils import shuffle\n",
    "import matplotlib.pyplot as plt\n",
    "import seaborn as sns"
   ]
  },
  {
   "cell_type": "markdown",
   "source": [
    "<center><h4 style=\"background:black;color:#7CFC00\">\n",
    "Setting up paths to csv files / datasets\n",
    "</center></h4>"
   ],
   "metadata": {
    "collapsed": false
   }
  },
  {
   "cell_type": "code",
   "execution_count": 2,
   "outputs": [
    {
     "name": "stdout",
     "output_type": "stream",
     "text": [
      "Total Dataset CSV Files 11\n"
     ]
    }
   ],
   "source": [
    "path_DdoS_DNS = \"D:\\\\Thesis_Group_of_Brig_Gen_Razzak_Sir\\\\After_Row_Data_Cleaning\\\\cleaned_DrDoS_DNS.csv\"\n",
    "path_DdoS_MSSQL = \"D:\\\\Thesis_Group_of_Brig_Gen_Razzak_Sir\\\\After_Row_Data_Cleaning\\\\cleaned_DrDoS_MSSQL.csv\"\n",
    "path_DdoS_LDAP = \"D:\\\\Thesis_Group_of_Brig_Gen_Razzak_Sir\\\\After_Row_Data_Cleaning\\\\cleaned_DrDoS_LDAP.csv\"\n",
    "path_DdoS_NTP = \"D:\\\\Thesis_Group_of_Brig_Gen_Razzak_Sir\\\\After_Row_Data_Cleaning\\\\cleaned_DrDoS_NTP.csv\"\n",
    "path_DdoS_NetBIOS = \"D:\\\\Thesis_Group_of_Brig_Gen_Razzak_Sir\\\\After_Row_Data_Cleaning\\\\cleaned_DrDoS_NetBIOS.csv\"\n",
    "path_DdoS_SNMP = \"D:\\\\Thesis_Group_of_Brig_Gen_Razzak_Sir\\\\After_Row_Data_Cleaning\\\\cleaned_DrDoS_SNMP.csv\"\n",
    "path_DdoS_SSDP = \"D:\\\\Thesis_Group_of_Brig_Gen_Razzak_Sir\\\\After_Row_Data_Cleaning\\\\cleaned_DrDoS_SSDP.csv\"\n",
    "path_DdoS_UDP = \"D:\\\\Thesis_Group_of_Brig_Gen_Razzak_Sir\\\\After_Row_Data_Cleaning\\\\cleaned_DrDoS_UDP.csv\"\n",
    "path_Syn = \"D:\\\\Thesis_Group_of_Brig_Gen_Razzak_Sir\\\\After_Row_Data_Cleaning\\\\cleaned_DrDoS_Syn.csv\"\n",
    "path_TFTP = \"D:\\\\Thesis_Group_of_Brig_Gen_Razzak_Sir\\\\After_Row_Data_Cleaning\\\\cleaned_DrDoS_TFTP.csv\"\n",
    "path_UDPLag = \"D:\\\\Thesis_Group_of_Brig_Gen_Razzak_Sir\\\\After_Row_Data_Cleaning\\\\cleaned_DrDoS_udpLag.csv\"\n",
    "\n",
    "paths = [path_DdoS_DNS, path_DdoS_MSSQL, path_DdoS_LDAP, path_DdoS_NTP, path_DdoS_SNMP,path_DdoS_SSDP, path_DdoS_UDP, path_Syn, path_TFTP, path_UDPLag, path_DdoS_NetBIOS]\n",
    "\n",
    "print(\"Total Dataset CSV Files\", len(paths))\n"
   ],
   "metadata": {
    "collapsed": false
   }
  },
  {
   "cell_type": "code",
   "execution_count": 3,
   "outputs": [],
   "source": [
    "def readCSV_Function(file_path):\n",
    "    dask_df = dd.read_csv(file_path, blocksize=1e6)\n",
    "    dask_df = dask_df.repartition(npartitions=8)\n",
    "    return dask_df.compute(scheduler='threads')"
   ],
   "metadata": {
    "collapsed": false
   }
  },
  {
   "cell_type": "code",
   "execution_count": 4,
   "outputs": [
    {
     "data": {
      "text/plain": "(409000, 78)"
     },
     "execution_count": 4,
     "metadata": {},
     "output_type": "execute_result"
    }
   ],
   "source": [
    "df = pd.DataFrame()\n",
    "\n",
    "d0 = readCSV_Function(paths[0])\n",
    "d0 = shuffle(d0)\n",
    "d0 = d0.sample(n=40000) # DNS 73886 rows\n",
    "\n",
    "d1 = readCSV_Function(paths[1])\n",
    "d1 = shuffle(d1)\n",
    "d1 = d1.sample(n=40000) # MSSQL 183511 rows\n",
    "\n",
    "d2 = readCSV_Function(paths[2])\n",
    "d2 = shuffle(d2)\n",
    "d2 = d2.sample(n=30000) # LDAP 30234 rows\n",
    "\n",
    "d3 = readCSV_Function(paths[3])\n",
    "d3 = shuffle(d3)\n",
    "d3 = d3.sample(n=40000) #NTP 1123512 rows\n",
    "\n",
    "\n",
    "d4 = readCSV_Function(paths[4])\n",
    "d4 = shuffle(d4)\n",
    "d4 = d4.sample(n=40000) # SNMP 69275 rows\n",
    "\n",
    "d5 = readCSV_Function(paths[5])\n",
    "d5 = shuffle(d5)\n",
    "d5 = d5.sample(n=40000) # SSDP 890746 rows\n",
    "\n",
    "d6 = readCSV_Function(paths[6])\n",
    "d6 = shuffle(d6)\n",
    "d6 = d6.sample(n=40000) # UDP 1076308 rows\n",
    "\n",
    "d7 = readCSV_Function(paths[7])\n",
    "d7 = shuffle(d7)\n",
    "d7 = d7.sample(n=40000) # Syn 155867 rows\n",
    "\n",
    "d8 = readCSV_Function(paths[8])\n",
    "d8 = shuffle(d8)\n",
    "d8 = d8.sample(n=40000) # TFTP 949489 rows\n",
    "\n",
    "d9 = readCSV_Function(paths[9])\n",
    "d9 = shuffle(d9)\n",
    "d9 = d9.sample(n=40000) # UDP-Lag 92936 rows\n",
    "\n",
    "d10 = readCSV_Function(paths[10])\n",
    "d10 = shuffle(d10)\n",
    "d10 = d10.sample(n=19000) # NETBIOS 19513 rows\n",
    "\n",
    "df = pd.concat([d0,d1,d2,d3,d4,d5,d6,d7,d8,d9,d10])\n",
    "# for i in paths:\n",
    "#     dask_df = readCSV_Function(i)\n",
    "#     dask_df = shuffle(dask_df)\n",
    "#     dask_df = dask_df.sample(n=30000)\n",
    "#     df = pd.concat([df,dask_df])\n",
    "\n",
    "df.drop(columns=[\"Unnamed: 0\"], inplace=True, errors='ignore')\n",
    "df = shuffle(df) # for better model creation, data shuffling is must\n",
    "df.reset_index(inplace=True,drop=True)\n",
    "df.shape"
   ],
   "metadata": {
    "collapsed": false
   }
  },
  {
   "cell_type": "markdown",
   "source": [
    "<center><h3 style=\"background:#00FF00;color:black\">\n",
    "Saving New DataFrame as csv file to new location\n",
    "</h3></center>"
   ],
   "metadata": {
    "collapsed": false
   }
  },
  {
   "cell_type": "code",
   "execution_count": 5,
   "outputs": [],
   "source": [
    "def dataCleaningResultToAnotherCSV(dataFrameArg, dirPath, file_name):\n",
    "    dataFrameArg.to_csv(dirPath + file_name)"
   ],
   "metadata": {
    "collapsed": false
   }
  },
  {
   "cell_type": "code",
   "execution_count": 6,
   "outputs": [],
   "source": [
    "newDataFramePath = \"D:\\\\Thesis_Group_of_Brig_Gen_Razzak_Sir\\\\Concatenated_Data_Before_Feature_Engineering\\\\\"\n",
    "newFileName = \"Cleaned_Data.csv\"\n",
    "dataCleaningResultToAnotherCSV(dataFrameArg=df, dirPath=newDataFramePath, file_name=newFileName)"
   ],
   "metadata": {
    "collapsed": false
   }
  }
 ],
 "metadata": {
  "kernelspec": {
   "display_name": "Python 3",
   "language": "python",
   "name": "python3"
  },
  "language_info": {
   "codemirror_mode": {
    "name": "ipython",
    "version": 2
   },
   "file_extension": ".py",
   "mimetype": "text/x-python",
   "name": "python",
   "nbconvert_exporter": "python",
   "pygments_lexer": "ipython2",
   "version": "2.7.6"
  }
 },
 "nbformat": 4,
 "nbformat_minor": 0
}

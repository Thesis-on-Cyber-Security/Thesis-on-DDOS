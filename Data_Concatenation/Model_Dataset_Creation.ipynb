{
 "cells": [
  {
   "cell_type": "markdown",
   "source": [
    "<center><h2>\n",
    "<a href=\"https://masumbhai.me\">Kindly visit my portfolio to see more of my works</a>\n",
    "</h2></center>"
   ],
   "metadata": {
    "collapsed": false
   }
  },
  {
   "cell_type": "code",
   "execution_count": 27,
   "outputs": [],
   "source": [
    "import warnings\n",
    "\n",
    "import pandas as pd\n",
    "from dask import dataframe as dd\n",
    "from sklearn.utils import shuffle\n",
    "import matplotlib.pyplot as plt\n",
    "\n",
    "warnings.filterwarnings(\"ignore\")\n",
    "imgPath = \"G:\\\\Brig_Gen_Razzak_Sir_Thesis_Group\\\\Thesis-on-DDOS-main\\\\images\\\\\""
   ],
   "metadata": {
    "collapsed": false
   }
  },
  {
   "cell_type": "code",
   "execution_count": 2,
   "outputs": [],
   "source": [
    "def readCSV_Function(file_path):\n",
    "    dask_df = dd.read_csv(file_path, blocksize=1e6)\n",
    "    dask_df = dask_df.repartition(npartitions=8)\n",
    "    return dask_df.compute(scheduler='threads')"
   ],
   "metadata": {
    "collapsed": false
   }
  },
  {
   "cell_type": "code",
   "execution_count": 3,
   "outputs": [
    {
     "data": {
      "text/plain": "(299880, 66)"
     },
     "execution_count": 3,
     "metadata": {},
     "output_type": "execute_result"
    }
   ],
   "source": [
    "filePath = \"D:\\\\Thesis_Group_of_Brig_Gen_Razzak_Sir\\\\After_Column_Data_Cleaning\\\\\"\n",
    "fileName = \"after_dropping_unique_data_containing_features.csv\"\n",
    "\n",
    "initial_df = readCSV_Function(filePath+fileName)\n",
    "initial_df.drop(columns=[\"Unnamed: 0\"], inplace=True, errors='ignore')\n",
    "initial_df = shuffle(initial_df)\n",
    "initial_df.shape"
   ],
   "metadata": {
    "collapsed": false
   }
  },
  {
   "cell_type": "code",
   "execution_count": 4,
   "outputs": [
    {
     "data": {
      "text/plain": "(43, 2)"
     },
     "execution_count": 4,
     "metadata": {},
     "output_type": "execute_result"
    }
   ],
   "source": [
    "features_filepath = \"D:\\\\Thesis_Group_of_Brig_Gen_Razzak_Sir\\\\After_Feature_Engineering\\\\Selected_Features_along_with_PCA.csv\"\n",
    "features_df = readCSV_Function(features_filepath)\n",
    "features_df.drop(columns=[\"Unnamed: 0\"], inplace=True, errors='ignore')\n",
    "features_df.shape"
   ],
   "metadata": {
    "collapsed": false
   }
  },
  {
   "cell_type": "code",
   "execution_count": 7,
   "metadata": {
    "collapsed": true
   },
   "outputs": [],
   "source": [
    "from sklearn.preprocessing import StandardScaler\n",
    "from sklearn import preprocessing\n",
    "from sklearn.model_selection import train_test_split\n",
    "\n",
    "final_selected_features = sorted(list(features_df[\"Names\"]))\n",
    "df = initial_df[final_selected_features]\n",
    "\n",
    "weights = df['Label'].value_counts()/len(df)\n",
    "y = df['Label']\n",
    "X = df.drop(columns='Label')\n",
    "\n",
    "# X_std = StandardScaler().fit_transform(X) # data standardized / scaled here\n",
    "# X_norm = preprocessing.normalize(X_std)\n",
    "#\n",
    "# X_train, X_test, y_train, y_test = train_test_split(X, y ,\n",
    "#                                                     random_state=1,\n",
    "#                                                     test_size=0.2,\n",
    "#                                                     shuffle=True)"
   ]
  },
  {
   "cell_type": "markdown",
   "source": [
    "<center><h3 style=\"background:#00FF00;color:black\">\n",
    "Saving the imbalanced initial dataset\n",
    "</h3></center>"
   ],
   "metadata": {
    "collapsed": false
   }
  },
  {
   "cell_type": "code",
   "execution_count": 6,
   "outputs": [],
   "source": [
    "filePath = \"D:\\\\Thesis_Group_of_Brig_Gen_Razzak_Sir\\\\For_Model_Creation\\\\\"\n",
    "fileName = \"imbalanced_43_features_DDOS_dataset.csv\"\n",
    "df.to_csv(filePath+fileName)"
   ],
   "metadata": {
    "collapsed": false
   }
  },
  {
   "cell_type": "markdown",
   "source": [
    "<center><h3 style=\"background:#FFEB3B;color:black\">\n",
    "Applying Condensed Nearest Neighbors undersampling\n",
    "</h3></center>"
   ],
   "metadata": {
    "collapsed": false
   }
  },
  {
   "cell_type": "code",
   "execution_count": null,
   "outputs": [],
   "source": [
    "from collections import Counter\n",
    "from imblearn.under_sampling import CondensedNearestNeighbour\n",
    "\n",
    "cnn = CondensedNearestNeighbour(n_neighbors=5,n_jobs=-1,random_state=42)\n",
    "X_resampled_cnn, y_resampled_cnn = cnn.fit_resample(X, y)\n",
    "\n",
    "print(\"Resampled class distribution:\", Counter(y_resampled_cnn))"
   ],
   "metadata": {
    "collapsed": false,
    "pycharm": {
     "is_executing": true
    }
   }
  },
  {
   "cell_type": "code",
   "execution_count": null,
   "outputs": [],
   "source": [
    "imgName = \"Undersampled_by_Condensed_Nearest_Neighbour.png\"\n",
    "counter = Counter(y_resampled_cnn)\n",
    "colors = [\"#33FF33\",\"#03A9F4\",\"magenta\",\"#F4A460\",\"#0099FF\",\"#FFEB3B\",\"#C0C0C0\",\"orange\",\"#FF0099\",\"#FF6600\",\"#9B59B6\"]\n",
    "\n",
    "plt.figure(figsize=(30,10))\n",
    "plt.bar(x=counter.keys(),height=counter.values(),color=colors,alpha=0.7,align=\"center\",linewidth=0.5)\n",
    "plt.rcParams['font.size'] = 24\n",
    "plt.title(\"Condensed Nearest Neighbour Under-sampling\")\n",
    "plt.tight_layout()\n",
    "plt.savefig(imgPath+imgName)"
   ],
   "metadata": {
    "collapsed": false,
    "pycharm": {
     "is_executing": true
    }
   }
  },
  {
   "cell_type": "markdown",
   "source": [
    "<center><h3 style=\"background:#FFEB3B;color:black\">\n",
    "Applying Edited Nearest Neighbors undersampling\n",
    "</h3></center>"
   ],
   "metadata": {
    "collapsed": false
   }
  },
  {
   "cell_type": "code",
   "execution_count": 10,
   "outputs": [
    {
     "name": "stdout",
     "output_type": "stream",
     "text": [
      "Resampled class distribution: Counter({'TFTP': 29399, 'Syn': 26679, 'DrDoS_NTP': 21740, 'DrDoS_MSSQL': 21375, 'UDP-lag': 19164, 'DrDoS_SNMP': 17288, 'DrDoS_LDAP': 11001, 'DrDoS_DNS': 9842, 'BENIGN': 4670, 'DrDoS_UDP': 3691, 'DrDoS_SSDP': 3370})\n"
     ]
    }
   ],
   "source": [
    "from collections import Counter\n",
    "from imblearn.under_sampling import EditedNearestNeighbours\n",
    "\n",
    "enn = EditedNearestNeighbours()\n",
    "X_resampled_enn, y_resampled_enn = enn.fit_resample(X, y)\n",
    "\n",
    "print(\"Resampled class distribution:\", Counter(y_resampled_enn))"
   ],
   "metadata": {
    "collapsed": false
   }
  },
  {
   "cell_type": "code",
   "execution_count": null,
   "outputs": [],
   "source": [
    "imgName = \"Undersampled_by_Edited_Nearest_Neighbour.png\"\n",
    "counter = Counter(y_resampled_enn)\n",
    "colors = [\"#33FF33\",\"#03A9F4\",\"magenta\",\"#F4A460\",\"#0099FF\",\"#FFEB3B\",\"#C0C0C0\",\"orange\",\"#FF0099\",\"#FF6600\",\"#9B59B6\"]\n",
    "\n",
    "plt.figure(figsize=(30,10))\n",
    "plt.bar(x=counter.keys(),height=counter.values(),color=colors,alpha=0.7,align=\"center\",linewidth=0.5)\n",
    "plt.rcParams['font.size'] = 24\n",
    "plt.title(\"Edited Nearest Neighbour Under-sampling\")\n",
    "plt.tight_layout()\n",
    "plt.savefig(imgPath+imgName)"
   ],
   "metadata": {
    "collapsed": false,
    "pycharm": {
     "is_executing": true
    }
   }
  },
  {
   "cell_type": "markdown",
   "source": [
    "<center><h3 style=\"background:#FFEB3B;color:black\">\n",
    "Applying Near Miss version-1 undersampling\n",
    "</h3></center>"
   ],
   "metadata": {
    "collapsed": false
   }
  },
  {
   "cell_type": "code",
   "execution_count": 16,
   "outputs": [
    {
     "name": "stdout",
     "output_type": "stream",
     "text": [
      "Resampled class distribution: Counter({'BENIGN': 4670, 'DrDoS_DNS': 4670, 'DrDoS_LDAP': 4670, 'DrDoS_MSSQL': 4670, 'DrDoS_NTP': 4670, 'DrDoS_SNMP': 4670, 'DrDoS_SSDP': 4670, 'DrDoS_UDP': 4670, 'Syn': 4670, 'TFTP': 4670, 'UDP-lag': 4670})\n"
     ]
    }
   ],
   "source": [
    "from imblearn.under_sampling import NearMiss\n",
    "from collections import Counter\n",
    "\n",
    "nm1 = NearMiss(version=1)\n",
    "X_resampled_nm1, y_resampled_nm1 = nm1.fit_resample(X, y)\n",
    "\n",
    "print(\"Resampled class distribution:\", Counter(y_resampled_nm1))"
   ],
   "metadata": {
    "collapsed": false
   }
  },
  {
   "cell_type": "code",
   "execution_count": null,
   "outputs": [],
   "source": [
    "imgName = \"Undersampled_by_Near_Miss_Version-1.png\"\n",
    "counter = Counter(y_resampled_nm1)\n",
    "colors = [\"#33FF33\",\"#03A9F4\",\"magenta\",\"#F4A460\",\"#0099FF\",\"#FFEB3B\",\"#C0C0C0\",\"orange\",\"#FF0099\",\"#FF6600\",\"#9B59B6\"]\n",
    "\n",
    "plt.figure(figsize=(30,10))\n",
    "plt.bar(x=counter.keys(),height=counter.values(),color=colors,alpha=0.7,align=\"center\",linewidth=0.5)\n",
    "plt.rcParams['font.size'] = 24\n",
    "plt.title(\"Near Miss Version-1 Under-sampling\")\n",
    "plt.tight_layout()\n",
    "plt.savefig(imgPath+imgName)"
   ],
   "metadata": {
    "collapsed": false,
    "pycharm": {
     "is_executing": true
    }
   }
  },
  {
   "cell_type": "markdown",
   "source": [
    "<center><h3 style=\"background:#FFEB3B;color:black\">\n",
    "Applying Near Miss version-2 undersampling\n",
    "</h3></center>"
   ],
   "metadata": {
    "collapsed": false
   }
  },
  {
   "cell_type": "code",
   "execution_count": 15,
   "outputs": [
    {
     "name": "stdout",
     "output_type": "stream",
     "text": [
      "Resampled class distribution: Counter({'BENIGN': 4670, 'DrDoS_DNS': 4670, 'DrDoS_LDAP': 4670, 'DrDoS_MSSQL': 4670, 'DrDoS_NTP': 4670, 'DrDoS_SNMP': 4670, 'DrDoS_SSDP': 4670, 'DrDoS_UDP': 4670, 'Syn': 4670, 'TFTP': 4670, 'UDP-lag': 4670})\n"
     ]
    }
   ],
   "source": [
    "from imblearn.under_sampling import NearMiss\n",
    "from collections import Counter\n",
    "\n",
    "nm2 = NearMiss(version=2)\n",
    "X_resampled_nm2, y_resampled_nm2 = nm2.fit_resample(X, y)\n",
    "\n",
    "print(\"Resampled class distribution:\", Counter(y_resampled_nm2))"
   ],
   "metadata": {
    "collapsed": false
   }
  },
  {
   "cell_type": "code",
   "execution_count": null,
   "outputs": [],
   "source": [
    "imgName = \"Undersampled_by_Near_Miss_Version-2.png\"\n",
    "counter = Counter(y_resampled_nm2)\n",
    "colors = [\"#33FF33\",\"#03A9F4\",\"magenta\",\"#F4A460\",\"#0099FF\",\"#FFEB3B\",\"#C0C0C0\",\"orange\",\"#FF0099\",\"#FF6600\",\"#9B59B6\"]\n",
    "\n",
    "plt.figure(figsize=(30,10))\n",
    "plt.bar(x=counter.keys(),height=counter.values(),color=colors,alpha=0.7,align=\"center\",linewidth=0.5)\n",
    "plt.rcParams['font.size'] = 24\n",
    "plt.title(\"Near Miss Version-2 Under-sampling\")\n",
    "plt.tight_layout()\n",
    "plt.savefig(imgPath+imgName)"
   ],
   "metadata": {
    "collapsed": false,
    "pycharm": {
     "is_executing": true
    }
   }
  },
  {
   "cell_type": "markdown",
   "source": [
    "<center><h3 style=\"background:#FFEB3B;color:black\">\n",
    "Applying Cluster Centroids undersampling\n",
    "</h3></center>"
   ],
   "metadata": {
    "collapsed": false
   }
  },
  {
   "cell_type": "code",
   "execution_count": 14,
   "outputs": [
    {
     "name": "stdout",
     "output_type": "stream",
     "text": [
      "Resampled class distribution: Counter({'TFTP': 29958, 'DrDoS_UDP': 29950, 'Syn': 29915, 'DrDoS_MSSQL': 29704, 'DrDoS_NTP': 29678, 'DrDoS_SNMP': 29497, 'DrDoS_DNS': 29204, 'UDP-lag': 28720, 'DrDoS_LDAP': 28618, 'BENIGN': 4670, 'DrDoS_SSDP': 4670})\n"
     ]
    }
   ],
   "source": [
    "from collections import Counter\n",
    "from imblearn.under_sampling import ClusterCentroids\n",
    "\n",
    "cc_US = ClusterCentroids(sampling_strategy='majority')\n",
    "X_resampled_cc, y_resampled_cc = cc_US.fit_resample(X, y)\n",
    "\n",
    "print(\"Resampled class distribution:\", Counter(y_resampled_cc))"
   ],
   "metadata": {
    "collapsed": false
   }
  },
  {
   "cell_type": "code",
   "execution_count": null,
   "outputs": [],
   "source": [
    "imgName = \"Undersampled_by_Cluster_Centroids.png\"\n",
    "counter = Counter(y_resampled_cc)\n",
    "colors = [\"#33FF33\",\"#03A9F4\",\"magenta\",\"#F4A460\",\"#0099FF\",\"#FFEB3B\",\"#C0C0C0\",\"orange\",\"#FF0099\",\"#FF6600\",\"#9B59B6\"]\n",
    "\n",
    "plt.figure(figsize=(30,10))\n",
    "plt.bar(x=counter.keys(),height=counter.values(),color=colors,alpha=0.7,align=\"center\",linewidth=0.5)\n",
    "plt.rcParams['font.size'] = 24\n",
    "plt.title(\"Cluster Centroids Under-sampling\")\n",
    "plt.tight_layout()\n",
    "plt.savefig(imgPath+imgName)"
   ],
   "metadata": {
    "collapsed": false,
    "pycharm": {
     "is_executing": true
    }
   }
  },
  {
   "cell_type": "markdown",
   "source": [
    "<center><h3 style=\"background:#FF6F00;color:black\">\n",
    "Applying SMOTE (Synthetic Minority Oversampling)\n",
    "</h3></center>"
   ],
   "metadata": {
    "collapsed": false
   }
  },
  {
   "cell_type": "code",
   "execution_count": 17,
   "outputs": [
    {
     "name": "stdout",
     "output_type": "stream",
     "text": [
      "Resampled class distribution: Counter({'DrDoS_SNMP': 29966, 'DrDoS_SSDP': 29966, 'TFTP': 29966, 'Syn': 29966, 'DrDoS_UDP': 29966, 'DrDoS_NTP': 29966, 'UDP-lag': 29966, 'DrDoS_DNS': 29966, 'DrDoS_MSSQL': 29966, 'BENIGN': 29966, 'DrDoS_LDAP': 29966})\n"
     ]
    }
   ],
   "source": [
    "from collections import Counter\n",
    "from imblearn.over_sampling import SMOTE\n",
    "\n",
    "sm = SMOTE(k_neighbors=3,random_state = 42)\n",
    "X_resampled_sm, y_resampled_sm = sm.fit_resample(X, y)\n",
    "\n",
    "print(\"Resampled class distribution:\", Counter(y_resampled_sm))"
   ],
   "metadata": {
    "collapsed": false
   }
  },
  {
   "cell_type": "code",
   "execution_count": null,
   "outputs": [],
   "source": [
    "imgName = \"Oversampled_by_SMOTE.png\"\n",
    "counter = Counter(y_resampled_sm)\n",
    "colors = [\"#33FF33\",\"#03A9F4\",\"magenta\",\"#F4A460\",\"#0099FF\",\"#FFEB3B\",\"#C0C0C0\",\"orange\",\"#FF0099\",\"#FF6600\",\"#9B59B6\"]\n",
    "\n",
    "plt.figure(figsize=(30,10))\n",
    "plt.bar(x=counter.keys(),height=counter.values(),color=colors,alpha=0.7,align=\"center\",linewidth=0.5)\n",
    "plt.rcParams['font.size'] = 24\n",
    "plt.title(\"SMOTE (Synthetic Minority) Over-sampling\")\n",
    "plt.tight_layout()\n",
    "plt.savefig(imgPath+imgName)"
   ],
   "metadata": {
    "collapsed": false,
    "pycharm": {
     "is_executing": true
    }
   }
  },
  {
   "cell_type": "markdown",
   "source": [
    "<center><h3 style=\"background:#FF6F00;color:black\">\n",
    "Applying BorderLine SMOTE Oversampling\n",
    "</h3></center>"
   ],
   "metadata": {
    "collapsed": false
   }
  },
  {
   "cell_type": "code",
   "execution_count": 25,
   "outputs": [
    {
     "name": "stdout",
     "output_type": "stream",
     "text": [
      "Resampled class distribution: Counter({'DrDoS_SNMP': 29966, 'DrDoS_SSDP': 29966, 'TFTP': 29966, 'Syn': 29966, 'DrDoS_UDP': 29966, 'DrDoS_NTP': 29966, 'UDP-lag': 29966, 'DrDoS_DNS': 29966, 'DrDoS_MSSQL': 29966, 'BENIGN': 29966, 'DrDoS_LDAP': 29966})\n"
     ]
    }
   ],
   "source": [
    "from collections import Counter\n",
    "from imblearn.over_sampling import BorderlineSMOTE\n",
    "\n",
    "blsm = BorderlineSMOTE(random_state=42)\n",
    "X_resampled_blsm, y_resampled_blsm = blsm.fit_resample(X, y)\n",
    "\n",
    "print(\"Resampled class distribution:\", Counter(y_resampled_blsm))"
   ],
   "metadata": {
    "collapsed": false
   }
  },
  {
   "cell_type": "code",
   "execution_count": null,
   "outputs": [],
   "source": [
    "imgName = \"Oversampled_by_BorderLine_SMOTE.png\"\n",
    "counter = Counter(y_resampled_blsm)\n",
    "colors = [\"#33FF33\",\"#03A9F4\",\"magenta\",\"#F4A460\",\"#0099FF\",\"#FFEB3B\",\"#C0C0C0\",\"orange\",\"#FF0099\",\"#FF6600\",\"#9B59B6\"]\n",
    "\n",
    "plt.figure(figsize=(30,10))\n",
    "plt.bar(x=counter.keys(),height=counter.values(),color=colors,alpha=0.7,align=\"center\",linewidth=0.5)\n",
    "plt.rcParams['font.size'] = 24\n",
    "plt.title(\"BorderLine SMOTE (Synthetic Minority) Over-sampling\")\n",
    "plt.tight_layout()\n",
    "plt.savefig(imgPath+imgName)"
   ],
   "metadata": {
    "collapsed": false,
    "pycharm": {
     "is_executing": true
    }
   }
  },
  {
   "cell_type": "markdown",
   "source": [
    "<center><h3 style=\"background:#4FC3F7;color:black\">\n",
    "Bar Chart of \"Label\" Feature or target variable\n",
    "</h3></center>"
   ],
   "metadata": {
    "collapsed": false
   }
  },
  {
   "cell_type": "markdown",
   "source": [
    "# Summarize distribution\n",
    "counter = Counter(y_resampled)\n",
    "for i,j in counter.items():\n",
    "    per = j/len(y_resampled) * 100\n",
    "    print(f\"Label:{i}  n:{j}  {per:.3}%\")"
   ],
   "metadata": {
    "collapsed": false
   }
  }
 ],
 "metadata": {
  "kernelspec": {
   "display_name": "Python 3",
   "language": "python",
   "name": "python3"
  },
  "language_info": {
   "codemirror_mode": {
    "name": "ipython",
    "version": 2
   },
   "file_extension": ".py",
   "mimetype": "text/x-python",
   "name": "python",
   "nbconvert_exporter": "python",
   "pygments_lexer": "ipython2",
   "version": "2.7.6"
  }
 },
 "nbformat": 4,
 "nbformat_minor": 0
}

{
 "cells": [
  {
   "attachments": {},
   "cell_type": "markdown",
   "metadata": {},
   "source": [
    "<center><h2>\n",
    "<a href=\"https://masumbhai.me\">Kindly visit my portfolio to see more of my works</a>\n",
    "</h2></center>"
   ]
  },
  {
   "cell_type": "code",
   "execution_count": 3,
   "metadata": {},
   "outputs": [],
   "source": [
    "import warnings\n",
    "\n",
    "import numpy as np\n",
    "import pandas as pd\n",
    "from dask import dataframe as dd\n",
    "from sklearn.utils import shuffle\n",
    "import matplotlib.pyplot as plt\n",
    "import seaborn as sns\n",
    "\n",
    "imgPath = \"G:\\\\Brig_Gen_Razzak_Sir_Thesis_Group\\\\ML_approach\\\\images\\\\\"\n",
    "filePath = \"D:\\\\Thesis_Group_of_Brig_Gen_Razzak_Sir\\\\After_Row_Data_Cleaning\\\\\"\n",
    "warnings.filterwarnings(\"ignore\")"
   ]
  },
  {
   "cell_type": "code",
   "execution_count": 4,
   "metadata": {},
   "outputs": [],
   "source": [
    "def readCSV_Function(file_path):\n",
    "    dask_df = dd.read_csv(file_path, blocksize=1e6)\n",
    "    dask_df = dask_df.repartition(npartitions=8)\n",
    "    return dask_df.compute(scheduler='threads')"
   ]
  },
  {
   "cell_type": "code",
   "execution_count": 5,
   "metadata": {},
   "outputs": [
    {
     "name": "stdout",
     "output_type": "stream",
     "text": [
      "(949489, 78)\n"
     ]
    },
    {
     "data": {
      "text/plain": [
       "TFTP      947933\n",
       "BENIGN      1556\n",
       "Name: Label, dtype: int64"
      ]
     },
     "execution_count": 5,
     "metadata": {},
     "output_type": "execute_result"
    }
   ],
   "source": [
    "fileName = \"cleaned_DrDoS_TFTP.csv\"\n",
    "\n",
    "initial_df = readCSV_Function(filePath+fileName)\n",
    "initial_df.drop(columns=[\"Unnamed: 0\"], inplace=True, errors='ignore')\n",
    "initial_df.drop(initial_df[initial_df.Label == \"WebDDoS\"].index, inplace=True,errors='ignore')\n",
    "initial_df = shuffle(initial_df)\n",
    "print(initial_df.shape)\n",
    "initial_df['Label'].value_counts()"
   ]
  },
  {
   "cell_type": "code",
   "execution_count": 6,
   "metadata": {},
   "outputs": [],
   "source": [
    "features_filepath = \"D:\\\\Thesis_Group_of_Brig_Gen_Razzak_Sir\\\\After_Feature_Engineering\\\\Selected_Features_along_with_PCA.csv\"\n",
    "features_df = readCSV_Function(features_filepath)\n",
    "features_df.drop(columns=[\"Unnamed: 0\"], inplace=True, errors='ignore')\n",
    "feature_list = list(features_df[\"Names\"])\n",
    "feature_list.remove(\"Label\")\n",
    "feature_list.append(\"Label\")\n",
    "\n",
    "df = initial_df[feature_list]\n",
    "\n",
    "weights = df['Label'].value_counts()/len(df)\n",
    "y = df['Label']\n",
    "X = df.drop(columns='Label')"
   ]
  },
  {
   "cell_type": "code",
   "execution_count": 7,
   "metadata": {},
   "outputs": [
    {
     "data": {
      "image/png": "[encoded data removed]",
      "text/plain": [
       "<Figure size 640x480 with 1 Axes>"
      ]
     },
     "metadata": {},
     "output_type": "display_data"
    }
   ],
   "source": [
    "imgName = \"initial_TFTP.png\"\n",
    "ax  = sns.countplot(x=y, label=\"Count\")\n",
    "plt.savefig(imgPath + imgName)"
   ]
  },
  {
   "attachments": {},
   "cell_type": "markdown",
   "metadata": {},
   "source": [
    "<center><h3 style=\"background:#FFEB3B;color:black\">\n",
    "Applying Repeated Edited Nearest Neighbors undersampling\n",
    "</h3></center>"
   ]
  },
  {
   "cell_type": "code",
   "execution_count": 8,
   "metadata": {},
   "outputs": [],
   "source": [
    "from collections import Counter\n",
    "from imblearn.under_sampling import RepeatedEditedNearestNeighbours\n",
    "\n",
    "renn = RepeatedEditedNearestNeighbours(sampling_strategy='not minority', n_neighbors=10, max_iter=25, n_jobs=-1)\n",
    "X_resampled_renn, y_resampled_renn = renn.fit_resample(X, y)"
   ]
  },
  {
   "cell_type": "code",
   "execution_count": null,
   "metadata": {},
   "outputs": [],
   "source": [
    "counter = Counter(y_resampled_renn)\n",
    "counter.most_common() # sorting ascending order for better plotting in graph\n",
    "for i,j in counter.items():\n",
    "    per = j/len(y_resampled_renn) * 100\n",
    "    print(f\"Label:{i}  n:{j}  {per:.3}%\")"
   ]
  },
  {
   "cell_type": "code",
   "execution_count": null,
   "metadata": {},
   "outputs": [],
   "source": [
    "imgName = \"TFTP_Undersampled_by_RENN.png\"\n",
    "colors = [\"#33FF33\",\"#03A9F4\"]\n",
    "\n",
    "# plt.figure(figsize=(36,10))\n",
    "plt.bar(x=sorted(counter, key=counter.get),height=sorted(counter.values()),color=colors,alpha=0.7,align=\"center\",linewidth=0.5)\n",
    "plt.rcParams['font.size'] = 24\n",
    "plt.title(\"After Under-sampling TFTP with RENN\")\n",
    "plt.tight_layout()\n",
    "plt.savefig(imgPath+imgName)"
   ]
  },
  {
   "cell_type": "code",
   "execution_count": null,
   "metadata": {},
   "outputs": [],
   "source": [
    "dl_file_path = \"G:\\\\Brig_Gen_Razzak_Sir_Thesis_Group\\\\ML_approach\\For_2_Step\\\\individual_csv_files\\\\\"\n",
    "dl_file_name = \"TFTP_Dataset_RENN.csv\"\n",
    "\n",
    "data_res = np.concatenate((X_resampled_renn, np.vstack(y_resampled_renn)), axis = 1)\n",
    "data_res = pd.DataFrame(data_res,columns=df.columns)\n",
    "data_res = shuffle(data_res)\n",
    "data_res.to_csv(dl_file_path+dl_file_name,index=False,header=True)"
   ]
  },
  {
   "attachments": {},
   "cell_type": "markdown",
   "metadata": {},
   "source": [
    "<center><h3 style=\"background:#FFEB3B;color:black\">\n",
    "Applying Random undersampling\n",
    "</h3></center>"
   ]
  },
  {
   "cell_type": "code",
   "execution_count": null,
   "metadata": {},
   "outputs": [],
   "source": [
    "import numpy as np\n",
    "from collections import Counter\n",
    "\n",
    "def random_undersample(X, y, ratio=1.0):\n",
    "    counter = Counter(y)\n",
    "    min_class_size = min(counter.values()) * ratio\n",
    "\n",
    "    X_undersampled = []\n",
    "    y_undersampled = []\n",
    "\n",
    "    for class_label, class_size in counter.items():\n",
    "        X_class = X[y == class_label]\n",
    "        y_class = y[y == class_label]\n",
    "        if class_size >= min_class_size:\n",
    "            indices = np.random.choice(class_size, size=int(min_class_size), replace=False)\n",
    "            X_undersampled.append(X_class[indices])\n",
    "            y_undersampled.append(y_class[indices])\n",
    "        else:\n",
    "            X_undersampled.append(X_class)\n",
    "            y_undersampled.append(y_class)\n",
    "    # Concatenate the undersampled X and y arrays and return them\n",
    "    X_undersampled = np.concatenate(X_undersampled)\n",
    "    y_undersampled = np.concatenate(y_undersampled)\n",
    "    return X_undersampled, y_undersampled"
   ]
  },
  {
   "cell_type": "code",
   "execution_count": null,
   "metadata": {},
   "outputs": [],
   "source": [
    "X_resampled_rand,y_resampled_rand = random_undersample(X,y)\n",
    "\n",
    "dl_file_path = \"G:\\\\Brig_Gen_Razzak_Sir_Thesis_Group\\\\ML_approach\\For_2_Step\\\\individual_csv_files\\\\\"\n",
    "dl_file_name = \"TFTP_Dataset_Cluster_Centroids.csv\"\n",
    "\n",
    "data_res = np.concatenate((X_resampled_rand, np.vstack(y_resampled_rand)), axis = 1)\n",
    "data_res = pd.DataFrame(data_res,columns=df.columns)\n",
    "data_res = shuffle(data_res)\n",
    "data_res.to_csv(dl_file_path+dl_file_name,index=False,header=True)"
   ]
  },
  {
   "attachments": {},
   "cell_type": "markdown",
   "metadata": {},
   "source": [
    "<center><h3 style=\"background:#FFEB3B;color:black\">\n",
    "Applying Cluster Centroids undersampling\n",
    "</h3></center>"
   ]
  },
  {
   "cell_type": "code",
   "execution_count": null,
   "metadata": {},
   "outputs": [],
   "source": [
    "from collections import Counter\n",
    "from imblearn.under_sampling import ClusterCentroids\n",
    "\n",
    "cc_US = ClusterCentroids(sampling_strategy='not minority')\n",
    "X_resampled_cc, y_resampled_cc = cc_US.fit_resample(X, y)"
   ]
  },
  {
   "cell_type": "code",
   "execution_count": null,
   "metadata": {},
   "outputs": [],
   "source": [
    "counter = Counter(y_resampled_cc)\n",
    "counter.most_common() # sorting ascending order for better plotting in graph\n",
    "for i,j in counter.items():\n",
    "    per = j/len(y_resampled_cc) * 100\n",
    "    print(f\"Label:{i}  n:{j}  {per:.3}%\")"
   ]
  },
  {
   "cell_type": "code",
   "execution_count": null,
   "metadata": {},
   "outputs": [],
   "source": [
    "dl_file_path = \"G:\\\\Brig_Gen_Razzak_Sir_Thesis_Group\\\\ML_approach\\For_2_Step\\\\individual_csv_files\\\\\"\n",
    "dl_file_name = \"TFTP_Dataset_Cluster_Centroids.csv\"\n",
    "\n",
    "data_res = np.concatenate((X_resampled_cc, np.vstack(y_resampled_cc)), axis = 1)\n",
    "data_res = pd.DataFrame(data_res,columns=df.columns)\n",
    "data_res = shuffle(data_res)\n",
    "data_res.to_csv(dl_file_path+dl_file_name,index=False,header=True)"
   ]
  },
  {
   "cell_type": "code",
   "execution_count": null,
   "metadata": {},
   "outputs": [],
   "source": [
    "imgName = \"TFTP_Undersampled_by_Cluster_Centroids.png\"\n",
    "colors = [\"#33FF33\",\"#03A9F4\"]\n",
    "\n",
    "# plt.figure(figsize=(36,10))\n",
    "plt.bar(x=sorted(counter, key=counter.get),height=sorted(counter.values()),color=colors,alpha=0.7,align=\"center\",linewidth=0.5)\n",
    "plt.rcParams['font.size'] = 24\n",
    "plt.title(\"After Under-sampling TFTP with Cluster Centroids\")\n",
    "plt.tight_layout()\n",
    "plt.savefig(imgPath+imgName)"
   ]
  }
 ],
 "metadata": {
  "kernelspec": {
   "display_name": "dl_env",
   "language": "python",
   "name": "python3"
  },
  "language_info": {
   "codemirror_mode": {
    "name": "ipython",
    "version": 3
   },
   "file_extension": ".py",
   "mimetype": "text/x-python",
   "name": "python",
   "nbconvert_exporter": "python",
   "pygments_lexer": "ipython3",
   "version": "3.7.12"
  },
  "orig_nbformat": 4,
  "vscode": {
   "interpreter": {
    "hash": "fae8fe14c19e165627484c8c0a47e23322ea1ef14b54ede25ec6506c4ab3188b"
   }
  }
 },
 "nbformat": 4,
 "nbformat_minor": 2
}

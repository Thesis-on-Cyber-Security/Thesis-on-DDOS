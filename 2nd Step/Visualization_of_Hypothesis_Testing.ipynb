{
 "cells": [
  {
   "cell_type": "markdown",
   "source": [
    "<center><h2>\n",
    "<a href=\"https://masumbhai.me\">Kindly visit my portfolio to see more of my works</a>\n",
    "</h2></center>"
   ],
   "metadata": {
    "collapsed": false
   }
  },
  {
   "cell_type": "code",
   "execution_count": 1,
   "outputs": [],
   "source": [
    "import pandas as pd\n",
    "import numpy as np\n",
    "from dask import dataframe as dd\n",
    "from dask.distributed import Client\n",
    "from sklearn.utils import shuffle\n",
    "import matplotlib.pyplot as plt\n",
    "import seaborn as sns"
   ],
   "metadata": {
    "collapsed": false
   }
  },
  {
   "cell_type": "code",
   "execution_count": 2,
   "metadata": {
    "collapsed": true
   },
   "outputs": [
    {
     "name": "stdout",
     "output_type": "stream",
     "text": [
      "<class 'pandas.core.frame.DataFrame'>\n",
      "Int64Index: 409000 entries, 1633 to 1950\n",
      "Data columns (total 79 columns):\n",
      " #   Column                    Non-Null Count   Dtype  \n",
      "---  ------                    --------------   -----  \n",
      " 0   Unnamed: 0                409000 non-null  int64  \n",
      " 1   Protocol                  409000 non-null  int64  \n",
      " 2   Flow Duration             409000 non-null  int64  \n",
      " 3   Total Fwd Packets         409000 non-null  int64  \n",
      " 4   Total Backward Packets    409000 non-null  int64  \n",
      " 5   Fwd Packets Length Total  409000 non-null  float64\n",
      " 6   Bwd Packets Length Total  409000 non-null  float64\n",
      " 7   Fwd Packet Length Max     409000 non-null  float64\n",
      " 8   Fwd Packet Length Min     409000 non-null  float64\n",
      " 9   Fwd Packet Length Mean    409000 non-null  float64\n",
      " 10  Fwd Packet Length Std     409000 non-null  float64\n",
      " 11  Bwd Packet Length Max     409000 non-null  float64\n",
      " 12  Bwd Packet Length Min     409000 non-null  float64\n",
      " 13  Bwd Packet Length Mean    409000 non-null  float64\n",
      " 14  Bwd Packet Length Std     409000 non-null  float64\n",
      " 15  Flow Bytes/s              409000 non-null  float64\n",
      " 16  Flow Packets/s            409000 non-null  float64\n",
      " 17  Flow IAT Mean             409000 non-null  float64\n",
      " 18  Flow IAT Std              409000 non-null  float64\n",
      " 19  Flow IAT Max              409000 non-null  float64\n",
      " 20  Flow IAT Min              409000 non-null  float64\n",
      " 21  Fwd IAT Total             409000 non-null  float64\n",
      " 22  Fwd IAT Mean              409000 non-null  float64\n",
      " 23  Fwd IAT Std               409000 non-null  float64\n",
      " 24  Fwd IAT Max               409000 non-null  float64\n",
      " 25  Fwd IAT Min               409000 non-null  float64\n",
      " 26  Bwd IAT Total             409000 non-null  float64\n",
      " 27  Bwd IAT Mean              409000 non-null  float64\n",
      " 28  Bwd IAT Std               409000 non-null  float64\n",
      " 29  Bwd IAT Max               409000 non-null  float64\n",
      " 30  Bwd IAT Min               409000 non-null  float64\n",
      " 31  Fwd PSH Flags             409000 non-null  int64  \n",
      " 32  Bwd PSH Flags             409000 non-null  int64  \n",
      " 33  Fwd URG Flags             409000 non-null  int64  \n",
      " 34  Bwd URG Flags             409000 non-null  int64  \n",
      " 35  Fwd Header Length         409000 non-null  int64  \n",
      " 36  Bwd Header Length         409000 non-null  int64  \n",
      " 37  Fwd Packets/s             409000 non-null  float64\n",
      " 38  Bwd Packets/s             409000 non-null  float64\n",
      " 39  Packet Length Min         409000 non-null  float64\n",
      " 40  Packet Length Max         409000 non-null  float64\n",
      " 41  Packet Length Mean        409000 non-null  float64\n",
      " 42  Packet Length Std         409000 non-null  float64\n",
      " 43  Packet Length Variance    409000 non-null  float64\n",
      " 44  FIN Flag Count            409000 non-null  int64  \n",
      " 45  SYN Flag Count            409000 non-null  int64  \n",
      " 46  RST Flag Count            409000 non-null  int64  \n",
      " 47  PSH Flag Count            409000 non-null  int64  \n",
      " 48  ACK Flag Count            409000 non-null  int64  \n",
      " 49  URG Flag Count            409000 non-null  int64  \n",
      " 50  CWE Flag Count            409000 non-null  int64  \n",
      " 51  ECE Flag Count            409000 non-null  int64  \n",
      " 52  Down/Up Ratio             409000 non-null  float64\n",
      " 53  Avg Packet Size           409000 non-null  float64\n",
      " 54  Avg Fwd Segment Size      409000 non-null  float64\n",
      " 55  Avg Bwd Segment Size      409000 non-null  float64\n",
      " 56  Fwd Avg Bytes/Bulk        409000 non-null  int64  \n",
      " 57  Fwd Avg Packets/Bulk      409000 non-null  int64  \n",
      " 58  Fwd Avg Bulk Rate         409000 non-null  int64  \n",
      " 59  Bwd Avg Bytes/Bulk        409000 non-null  int64  \n",
      " 60  Bwd Avg Packets/Bulk      409000 non-null  int64  \n",
      " 61  Bwd Avg Bulk Rate         409000 non-null  int64  \n",
      " 62  Subflow Fwd Packets       409000 non-null  int64  \n",
      " 63  Subflow Fwd Bytes         409000 non-null  int64  \n",
      " 64  Subflow Bwd Packets       409000 non-null  int64  \n",
      " 65  Subflow Bwd Bytes         409000 non-null  int64  \n",
      " 66  Init Fwd Win Bytes        409000 non-null  int64  \n",
      " 67  Init Bwd Win Bytes        409000 non-null  int64  \n",
      " 68  Fwd Act Data Packets      409000 non-null  int64  \n",
      " 69  Fwd Seg Size Min          409000 non-null  int64  \n",
      " 70  Active Mean               409000 non-null  float64\n",
      " 71  Active Std                409000 non-null  float64\n",
      " 72  Active Max                409000 non-null  float64\n",
      " 73  Active Min                409000 non-null  float64\n",
      " 74  Idle Mean                 409000 non-null  float64\n",
      " 75  Idle Std                  409000 non-null  float64\n",
      " 76  Idle Max                  409000 non-null  float64\n",
      " 77  Idle Min                  409000 non-null  float64\n",
      " 78  Label                     409000 non-null  object \n",
      "dtypes: float64(45), int64(33), object(1)\n",
      "memory usage: 272.0 MB\n"
     ]
    }
   ],
   "source": [
    "def readCSV_Function(file_path):\n",
    "    dask_df = dd.read_csv(file_path, blocksize=1e6)\n",
    "    dask_df = dask_df.repartition(npartitions=8)\n",
    "    return dask_df.compute(scheduler='threads')\n",
    "\n",
    "filePath = \"D:\\\\Thesis_Group_of_Brig_Gen_Razzak_Sir\\\\Concatenated_Data_Before_Feature_Engineering\\\\Cleaned_Data.csv\"\n",
    "df = readCSV_Function(filePath)\n",
    "df = shuffle(df)\n",
    "df.info(memory_usage=\"deep\")"
   ]
  },
  {
   "cell_type": "markdown",
   "source": [
    "##### here, only categorical feature is Label, rests are numerical values"
   ],
   "metadata": {
    "collapsed": false
   }
  },
  {
   "cell_type": "code",
   "execution_count": 5,
   "outputs": [
    {
     "ename": "TypeError",
     "evalue": "loop of ufunc does not support argument 0 of type float which has no callable log method",
     "output_type": "error",
     "traceback": [
      "\u001B[1;31m---------------------------------------------------------------------------\u001B[0m",
      "\u001B[1;31mAttributeError\u001B[0m                            Traceback (most recent call last)",
      "\u001B[1;31mAttributeError\u001B[0m: 'float' object has no attribute 'log'",
      "\nThe above exception was the direct cause of the following exception:\n",
      "\u001B[1;31mTypeError\u001B[0m                                 Traceback (most recent call last)",
      "\u001B[1;32m~\\AppData\\Local\\Temp\\ipykernel_10324\\4051590095.py\u001B[0m in \u001B[0;36m<module>\u001B[1;34m\u001B[0m\n\u001B[1;32m----> 1\u001B[1;33m \u001B[1;33m(\u001B[0m\u001B[0mpd\u001B[0m\u001B[1;33m.\u001B[0m\u001B[0mDataFrame\u001B[0m\u001B[1;33m(\u001B[0m\u001B[0mnp\u001B[0m\u001B[1;33m.\u001B[0m\u001B[0mlog\u001B[0m\u001B[1;33m(\u001B[0m\u001B[0mdf\u001B[0m\u001B[1;33m.\u001B[0m\u001B[0mwhere\u001B[0m\u001B[1;33m(\u001B[0m\u001B[0mdf\u001B[0m\u001B[1;33m[\u001B[0m\u001B[1;34m'Label'\u001B[0m\u001B[1;33m]\u001B[0m\u001B[1;33m==\u001B[0m\u001B[1;34m\"BENIGN\"\u001B[0m\u001B[1;33m)\u001B[0m\u001B[1;33m)\u001B[0m\u001B[1;33m)\u001B[0m\u001B[1;33m)\u001B[0m\u001B[1;33m.\u001B[0m\u001B[0mhist\u001B[0m\u001B[1;33m(\u001B[0m\u001B[0mxlabelsize\u001B[0m\u001B[1;33m=\u001B[0m\u001B[1;36m8\u001B[0m\u001B[1;33m,\u001B[0m\u001B[0mylabelsize\u001B[0m\u001B[1;33m=\u001B[0m\u001B[1;36m8\u001B[0m\u001B[1;33m,\u001B[0m\u001B[0mfigsize\u001B[0m\u001B[1;33m=\u001B[0m\u001B[1;33m(\u001B[0m\u001B[1;36m30\u001B[0m\u001B[1;33m,\u001B[0m\u001B[1;36m30\u001B[0m\u001B[1;33m)\u001B[0m\u001B[1;33m)\u001B[0m\u001B[1;33m\u001B[0m\u001B[1;33m\u001B[0m\u001B[0m\n\u001B[0m",
      "\u001B[1;32m~\\anaconda3\\envs\\ml_env\\lib\\site-packages\\pandas\\core\\generic.py\u001B[0m in \u001B[0;36m__array_ufunc__\u001B[1;34m(self, ufunc, method, *inputs, **kwargs)\u001B[0m\n\u001B[0;32m   2030\u001B[0m         \u001B[0mself\u001B[0m\u001B[1;33m,\u001B[0m \u001B[0mufunc\u001B[0m\u001B[1;33m:\u001B[0m \u001B[0mnp\u001B[0m\u001B[1;33m.\u001B[0m\u001B[0mufunc\u001B[0m\u001B[1;33m,\u001B[0m \u001B[0mmethod\u001B[0m\u001B[1;33m:\u001B[0m \u001B[0mstr\u001B[0m\u001B[1;33m,\u001B[0m \u001B[1;33m*\u001B[0m\u001B[0minputs\u001B[0m\u001B[1;33m:\u001B[0m \u001B[0mAny\u001B[0m\u001B[1;33m,\u001B[0m \u001B[1;33m**\u001B[0m\u001B[0mkwargs\u001B[0m\u001B[1;33m:\u001B[0m \u001B[0mAny\u001B[0m\u001B[1;33m\u001B[0m\u001B[1;33m\u001B[0m\u001B[0m\n\u001B[0;32m   2031\u001B[0m     ):\n\u001B[1;32m-> 2032\u001B[1;33m         \u001B[1;32mreturn\u001B[0m \u001B[0marraylike\u001B[0m\u001B[1;33m.\u001B[0m\u001B[0marray_ufunc\u001B[0m\u001B[1;33m(\u001B[0m\u001B[0mself\u001B[0m\u001B[1;33m,\u001B[0m \u001B[0mufunc\u001B[0m\u001B[1;33m,\u001B[0m \u001B[0mmethod\u001B[0m\u001B[1;33m,\u001B[0m \u001B[1;33m*\u001B[0m\u001B[0minputs\u001B[0m\u001B[1;33m,\u001B[0m \u001B[1;33m**\u001B[0m\u001B[0mkwargs\u001B[0m\u001B[1;33m)\u001B[0m\u001B[1;33m\u001B[0m\u001B[1;33m\u001B[0m\u001B[0m\n\u001B[0m\u001B[0;32m   2033\u001B[0m \u001B[1;33m\u001B[0m\u001B[0m\n\u001B[0;32m   2034\u001B[0m     \u001B[1;31m# ideally we would define this to avoid the getattr checks, but\u001B[0m\u001B[1;33m\u001B[0m\u001B[1;33m\u001B[0m\u001B[1;33m\u001B[0m\u001B[0m\n",
      "\u001B[1;32m~\\anaconda3\\envs\\ml_env\\lib\\site-packages\\pandas\\core\\arraylike.py\u001B[0m in \u001B[0;36marray_ufunc\u001B[1;34m(self, ufunc, method, *inputs, **kwargs)\u001B[0m\n\u001B[0;32m    370\u001B[0m             \u001B[1;31m# take this path if there are no kwargs\u001B[0m\u001B[1;33m\u001B[0m\u001B[1;33m\u001B[0m\u001B[1;33m\u001B[0m\u001B[0m\n\u001B[0;32m    371\u001B[0m             \u001B[0mmgr\u001B[0m \u001B[1;33m=\u001B[0m \u001B[0minputs\u001B[0m\u001B[1;33m[\u001B[0m\u001B[1;36m0\u001B[0m\u001B[1;33m]\u001B[0m\u001B[1;33m.\u001B[0m\u001B[0m_mgr\u001B[0m\u001B[1;33m\u001B[0m\u001B[1;33m\u001B[0m\u001B[0m\n\u001B[1;32m--> 372\u001B[1;33m             \u001B[0mresult\u001B[0m \u001B[1;33m=\u001B[0m \u001B[0mmgr\u001B[0m\u001B[1;33m.\u001B[0m\u001B[0mapply\u001B[0m\u001B[1;33m(\u001B[0m\u001B[0mgetattr\u001B[0m\u001B[1;33m(\u001B[0m\u001B[0mufunc\u001B[0m\u001B[1;33m,\u001B[0m \u001B[0mmethod\u001B[0m\u001B[1;33m)\u001B[0m\u001B[1;33m)\u001B[0m\u001B[1;33m\u001B[0m\u001B[1;33m\u001B[0m\u001B[0m\n\u001B[0m\u001B[0;32m    373\u001B[0m         \u001B[1;32melse\u001B[0m\u001B[1;33m:\u001B[0m\u001B[1;33m\u001B[0m\u001B[1;33m\u001B[0m\u001B[0m\n\u001B[0;32m    374\u001B[0m             \u001B[1;31m# otherwise specific ufunc methods (eg np.<ufunc>.accumulate(..))\u001B[0m\u001B[1;33m\u001B[0m\u001B[1;33m\u001B[0m\u001B[1;33m\u001B[0m\u001B[0m\n",
      "\u001B[1;32m~\\anaconda3\\envs\\ml_env\\lib\\site-packages\\pandas\\core\\internals\\managers.py\u001B[0m in \u001B[0;36mapply\u001B[1;34m(self, f, align_keys, ignore_failures, **kwargs)\u001B[0m\n\u001B[0;32m    323\u001B[0m             \u001B[1;32mtry\u001B[0m\u001B[1;33m:\u001B[0m\u001B[1;33m\u001B[0m\u001B[1;33m\u001B[0m\u001B[0m\n\u001B[0;32m    324\u001B[0m                 \u001B[1;32mif\u001B[0m \u001B[0mcallable\u001B[0m\u001B[1;33m(\u001B[0m\u001B[0mf\u001B[0m\u001B[1;33m)\u001B[0m\u001B[1;33m:\u001B[0m\u001B[1;33m\u001B[0m\u001B[1;33m\u001B[0m\u001B[0m\n\u001B[1;32m--> 325\u001B[1;33m                     \u001B[0mapplied\u001B[0m \u001B[1;33m=\u001B[0m \u001B[0mb\u001B[0m\u001B[1;33m.\u001B[0m\u001B[0mapply\u001B[0m\u001B[1;33m(\u001B[0m\u001B[0mf\u001B[0m\u001B[1;33m,\u001B[0m \u001B[1;33m**\u001B[0m\u001B[0mkwargs\u001B[0m\u001B[1;33m)\u001B[0m\u001B[1;33m\u001B[0m\u001B[1;33m\u001B[0m\u001B[0m\n\u001B[0m\u001B[0;32m    326\u001B[0m                 \u001B[1;32melse\u001B[0m\u001B[1;33m:\u001B[0m\u001B[1;33m\u001B[0m\u001B[1;33m\u001B[0m\u001B[0m\n\u001B[0;32m    327\u001B[0m                     \u001B[0mapplied\u001B[0m \u001B[1;33m=\u001B[0m \u001B[0mgetattr\u001B[0m\u001B[1;33m(\u001B[0m\u001B[0mb\u001B[0m\u001B[1;33m,\u001B[0m \u001B[0mf\u001B[0m\u001B[1;33m)\u001B[0m\u001B[1;33m(\u001B[0m\u001B[1;33m**\u001B[0m\u001B[0mkwargs\u001B[0m\u001B[1;33m)\u001B[0m\u001B[1;33m\u001B[0m\u001B[1;33m\u001B[0m\u001B[0m\n",
      "\u001B[1;32m~\\anaconda3\\envs\\ml_env\\lib\\site-packages\\pandas\\core\\internals\\blocks.py\u001B[0m in \u001B[0;36mapply\u001B[1;34m(self, func, **kwargs)\u001B[0m\n\u001B[0;32m    379\u001B[0m         \"\"\"\n\u001B[0;32m    380\u001B[0m         \u001B[1;32mwith\u001B[0m \u001B[0mnp\u001B[0m\u001B[1;33m.\u001B[0m\u001B[0merrstate\u001B[0m\u001B[1;33m(\u001B[0m\u001B[0mall\u001B[0m\u001B[1;33m=\u001B[0m\u001B[1;34m\"ignore\"\u001B[0m\u001B[1;33m)\u001B[0m\u001B[1;33m:\u001B[0m\u001B[1;33m\u001B[0m\u001B[1;33m\u001B[0m\u001B[0m\n\u001B[1;32m--> 381\u001B[1;33m             \u001B[0mresult\u001B[0m \u001B[1;33m=\u001B[0m \u001B[0mfunc\u001B[0m\u001B[1;33m(\u001B[0m\u001B[0mself\u001B[0m\u001B[1;33m.\u001B[0m\u001B[0mvalues\u001B[0m\u001B[1;33m,\u001B[0m \u001B[1;33m**\u001B[0m\u001B[0mkwargs\u001B[0m\u001B[1;33m)\u001B[0m\u001B[1;33m\u001B[0m\u001B[1;33m\u001B[0m\u001B[0m\n\u001B[0m\u001B[0;32m    382\u001B[0m \u001B[1;33m\u001B[0m\u001B[0m\n\u001B[0;32m    383\u001B[0m         \u001B[1;32mreturn\u001B[0m \u001B[0mself\u001B[0m\u001B[1;33m.\u001B[0m\u001B[0m_split_op_result\u001B[0m\u001B[1;33m(\u001B[0m\u001B[0mresult\u001B[0m\u001B[1;33m)\u001B[0m\u001B[1;33m\u001B[0m\u001B[1;33m\u001B[0m\u001B[0m\n",
      "\u001B[1;31mTypeError\u001B[0m: loop of ufunc does not support argument 0 of type float which has no callable log method"
     ]
    }
   ],
   "source": [
    "(pd.DataFrame(np.log(df.where(df['Label']==\"BENIGN\")))).hist(xlabelsize=8,ylabelsize=8,figsize=(30,30))"
   ],
   "metadata": {
    "collapsed": false
   }
  }
 ],
 "metadata": {
  "kernelspec": {
   "display_name": "Python 3",
   "language": "python",
   "name": "python3"
  },
  "language_info": {
   "codemirror_mode": {
    "name": "ipython",
    "version": 2
   },
   "file_extension": ".py",
   "mimetype": "text/x-python",
   "name": "python",
   "nbconvert_exporter": "python",
   "pygments_lexer": "ipython2",
   "version": "2.7.6"
  }
 },
 "nbformat": 4,
 "nbformat_minor": 0
}

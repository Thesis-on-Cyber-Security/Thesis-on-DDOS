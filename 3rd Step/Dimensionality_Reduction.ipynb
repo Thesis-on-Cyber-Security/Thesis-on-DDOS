{
 "cells": [
  {
   "cell_type": "code",
   "execution_count": 11,
   "metadata": {
    "collapsed": true
   },
   "outputs": [],
   "source": [
    "import pandas as pd\n",
    "import numpy as np\n",
    "from dask import dataframe as dd\n",
    "from dask.distributed import Client\n",
    "from sklearn.utils import shuffle\n",
    "from sklearn import preprocessing\n",
    "from scipy import stats\n",
    "import matplotlib.pyplot as plt\n",
    "import seaborn as sns"
   ]
  },
  {
   "cell_type": "code",
   "execution_count": 12,
   "outputs": [],
   "source": [
    "def readCSV_Function(file_path):\n",
    "    dask_df = dd.read_csv(file_path, blocksize=1e6)\n",
    "    dask_df = dask_df.repartition(npartitions=8)\n",
    "    return dask_df.compute(scheduler='threads')\n",
    "\n",
    "filePath = \"D:\\\\Thesis_Group_of_Brig_Gen_Razzak_Sir\\\\Concatenated_Data_Before_Feature_Engineering\\\\Cleaned_Data.csv\"\n",
    "df = readCSV_Function(filePath)\n",
    "df.drop(columns=[\"Unnamed: 0\"], inplace=True, errors='ignore')\n",
    "df = shuffle(df)"
   ],
   "metadata": {
    "collapsed": false
   }
  },
  {
   "cell_type": "code",
   "execution_count": 13,
   "outputs": [
    {
     "data": {
      "text/plain": "Protocol                         3\nFlow Duration               143257\nTotal Fwd Packets              365\nTotal Backward Packets         140\nFwd Packets Length Total      2625\n                             ...  \nIdle Mean                    65588\nIdle Std                     52351\nIdle Max                     65560\nIdle Min                     65445\nLabel                           13\nLength: 78, dtype: int64"
     },
     "execution_count": 13,
     "metadata": {},
     "output_type": "execute_result"
    }
   ],
   "source": [
    "df.nunique()"
   ],
   "metadata": {
    "collapsed": false
   }
  },
  {
   "cell_type": "markdown",
   "source": [
    "#### Dropping categorical columns that have one category predominance"
   ],
   "metadata": {
    "collapsed": false
   }
  },
  {
   "cell_type": "code",
   "execution_count": 14,
   "outputs": [
    {
     "data": {
      "text/plain": "['Bwd PSH Flags',\n 'Fwd URG Flags',\n 'Bwd URG Flags',\n 'FIN Flag Count',\n 'PSH Flag Count',\n 'ECE Flag Count',\n 'Fwd Avg Bytes/Bulk',\n 'Fwd Avg Packets/Bulk',\n 'Fwd Avg Bulk Rate',\n 'Bwd Avg Bytes/Bulk',\n 'Bwd Avg Packets/Bulk',\n 'Bwd Avg Bulk Rate']"
     },
     "execution_count": 14,
     "metadata": {},
     "output_type": "execute_result"
    }
   ],
   "source": [
    "unique_value_columns = [col for col in df.columns if df[col].nunique() == 1]\n",
    "unique_value_columns"
   ],
   "metadata": {
    "collapsed": false
   }
  },
  {
   "cell_type": "markdown",
   "source": [
    "#### Performing drop operation & saving that in new csv"
   ],
   "metadata": {
    "collapsed": false
   }
  },
  {
   "cell_type": "code",
   "execution_count": 15,
   "outputs": [
    {
     "data": {
      "text/plain": "(409000, 66)"
     },
     "execution_count": 15,
     "metadata": {},
     "output_type": "execute_result"
    }
   ],
   "source": [
    "df.drop(columns=unique_value_columns, inplace=True)\n",
    "df.shape"
   ],
   "metadata": {
    "collapsed": false
   }
  },
  {
   "cell_type": "markdown",
   "source": [
    "def dataCleaningResultToAnotherCSV(dataFrameArg, dirPath, file_name):\n",
    "    dataFrameArg.to_csv(dirPath + file_name)\n",
    "\n",
    "newCsvPath = \"D:\\\\Thesis_Group_of_Brig_Gen_Razzak_Sir\\\\After_Column_Data_Cleaning\\\\\"\n",
    "csvFileName = \"after_dropping_unique_data_containing_features.csv\"\n",
    "dataCleaningResultToAnotherCSV(dataFrameArg=df, dirPath=newCsvPath, file_name=csvFileName)"
   ],
   "metadata": {
    "collapsed": false
   }
  },
  {
   "cell_type": "markdown",
   "source": [
    "#### As we visualized the heatmap of the remaining 66 features, now need to find out the co-relation pairs\n",
    "#### But Before that, need to apply encoding of categorical data, such as \"Label\" feature"
   ],
   "metadata": {
    "collapsed": false
   }
  },
  {
   "cell_type": "code",
   "execution_count": 16,
   "outputs": [
    {
     "data": {
      "text/plain": "      Protocol  Flow Duration  Total Fwd Packets  Total Backward Packets  \\\n57          17             48                  2                       0   \n602         17             13                  2                       0   \n888         17         107842                  4                       0   \n2413        17              2                  2                       0   \n1914        17         105815                  4                       0   \n\n      Fwd Packets Length Total  Bwd Packets Length Total  \\\n57                      2944.0                       0.0   \n602                     2808.0                       0.0   \n888                     1438.0                       0.0   \n2413                    1688.0                       0.0   \n1914                    1438.0                       0.0   \n\n      Fwd Packet Length Max  Fwd Packet Length Min  Fwd Packet Length Mean  \\\n57                   1472.0                 1472.0                  1472.0   \n602                  1404.0                 1404.0                  1404.0   \n888                   389.0                  330.0                   359.5   \n2413                  844.0                  844.0                   844.0   \n1914                  389.0                  330.0                   359.5   \n\n      Fwd Packet Length Std  ...  Fwd Seg Size Min  Active Mean  Active Std  \\\n57                 0.000000  ...              1344          0.0         0.0   \n602                0.000000  ...                 0          0.0         0.0   \n888               34.063667  ...                -1          0.0         0.0   \n2413               0.000000  ...                 0          0.0         0.0   \n1914              34.063667  ...                 0          0.0         0.0   \n\n      Active Max  Active Min  Idle Mean  Idle Std  Idle Max  Idle Min  \\\n57           0.0         0.0        0.0       0.0       0.0       0.0   \n602          0.0         0.0        0.0       0.0       0.0       0.0   \n888          0.0         0.0        0.0       0.0       0.0       0.0   \n2413         0.0         0.0        0.0       0.0       0.0       0.0   \n1914         0.0         0.0        0.0       0.0       0.0       0.0   \n\n            Label  \n57     DrDoS_LDAP  \n602    DrDoS_SNMP  \n888       UDP-lag  \n2413  DrDoS_MSSQL  \n1914    DrDoS_UDP  \n\n[5 rows x 66 columns]",
      "text/html": "<div>\n<style scoped>\n    .dataframe tbody tr th:only-of-type {\n        vertical-align: middle;\n    }\n\n    .dataframe tbody tr th {\n        vertical-align: top;\n    }\n\n    .dataframe thead th {\n        text-align: right;\n    }\n</style>\n<table border=\"1\" class=\"dataframe\">\n  <thead>\n    <tr style=\"text-align: right;\">\n      <th></th>\n      <th>Protocol</th>\n      <th>Flow Duration</th>\n      <th>Total Fwd Packets</th>\n      <th>Total Backward Packets</th>\n      <th>Fwd Packets Length Total</th>\n      <th>Bwd Packets Length Total</th>\n      <th>Fwd Packet Length Max</th>\n      <th>Fwd Packet Length Min</th>\n      <th>Fwd Packet Length Mean</th>\n      <th>Fwd Packet Length Std</th>\n      <th>...</th>\n      <th>Fwd Seg Size Min</th>\n      <th>Active Mean</th>\n      <th>Active Std</th>\n      <th>Active Max</th>\n      <th>Active Min</th>\n      <th>Idle Mean</th>\n      <th>Idle Std</th>\n      <th>Idle Max</th>\n      <th>Idle Min</th>\n      <th>Label</th>\n    </tr>\n  </thead>\n  <tbody>\n    <tr>\n      <th>57</th>\n      <td>17</td>\n      <td>48</td>\n      <td>2</td>\n      <td>0</td>\n      <td>2944.0</td>\n      <td>0.0</td>\n      <td>1472.0</td>\n      <td>1472.0</td>\n      <td>1472.0</td>\n      <td>0.000000</td>\n      <td>...</td>\n      <td>1344</td>\n      <td>0.0</td>\n      <td>0.0</td>\n      <td>0.0</td>\n      <td>0.0</td>\n      <td>0.0</td>\n      <td>0.0</td>\n      <td>0.0</td>\n      <td>0.0</td>\n      <td>DrDoS_LDAP</td>\n    </tr>\n    <tr>\n      <th>602</th>\n      <td>17</td>\n      <td>13</td>\n      <td>2</td>\n      <td>0</td>\n      <td>2808.0</td>\n      <td>0.0</td>\n      <td>1404.0</td>\n      <td>1404.0</td>\n      <td>1404.0</td>\n      <td>0.000000</td>\n      <td>...</td>\n      <td>0</td>\n      <td>0.0</td>\n      <td>0.0</td>\n      <td>0.0</td>\n      <td>0.0</td>\n      <td>0.0</td>\n      <td>0.0</td>\n      <td>0.0</td>\n      <td>0.0</td>\n      <td>DrDoS_SNMP</td>\n    </tr>\n    <tr>\n      <th>888</th>\n      <td>17</td>\n      <td>107842</td>\n      <td>4</td>\n      <td>0</td>\n      <td>1438.0</td>\n      <td>0.0</td>\n      <td>389.0</td>\n      <td>330.0</td>\n      <td>359.5</td>\n      <td>34.063667</td>\n      <td>...</td>\n      <td>-1</td>\n      <td>0.0</td>\n      <td>0.0</td>\n      <td>0.0</td>\n      <td>0.0</td>\n      <td>0.0</td>\n      <td>0.0</td>\n      <td>0.0</td>\n      <td>0.0</td>\n      <td>UDP-lag</td>\n    </tr>\n    <tr>\n      <th>2413</th>\n      <td>17</td>\n      <td>2</td>\n      <td>2</td>\n      <td>0</td>\n      <td>1688.0</td>\n      <td>0.0</td>\n      <td>844.0</td>\n      <td>844.0</td>\n      <td>844.0</td>\n      <td>0.000000</td>\n      <td>...</td>\n      <td>0</td>\n      <td>0.0</td>\n      <td>0.0</td>\n      <td>0.0</td>\n      <td>0.0</td>\n      <td>0.0</td>\n      <td>0.0</td>\n      <td>0.0</td>\n      <td>0.0</td>\n      <td>DrDoS_MSSQL</td>\n    </tr>\n    <tr>\n      <th>1914</th>\n      <td>17</td>\n      <td>105815</td>\n      <td>4</td>\n      <td>0</td>\n      <td>1438.0</td>\n      <td>0.0</td>\n      <td>389.0</td>\n      <td>330.0</td>\n      <td>359.5</td>\n      <td>34.063667</td>\n      <td>...</td>\n      <td>0</td>\n      <td>0.0</td>\n      <td>0.0</td>\n      <td>0.0</td>\n      <td>0.0</td>\n      <td>0.0</td>\n      <td>0.0</td>\n      <td>0.0</td>\n      <td>0.0</td>\n      <td>DrDoS_UDP</td>\n    </tr>\n  </tbody>\n</table>\n<p>5 rows × 66 columns</p>\n</div>"
     },
     "execution_count": 16,
     "metadata": {},
     "output_type": "execute_result"
    }
   ],
   "source": [
    "le = preprocessing.LabelEncoder()\n",
    "before_encoding_dataframe = df.copy(deep=True)\n",
    "before_encoding_dataframe.head(5) # see the Label feature"
   ],
   "metadata": {
    "collapsed": false
   }
  },
  {
   "cell_type": "code",
   "execution_count": 17,
   "outputs": [
    {
     "data": {
      "text/plain": "      Protocol  Flow Duration  Total Fwd Packets  Total Backward Packets  \\\n57          17             48                  2                       0   \n602         17             13                  2                       0   \n888         17         107842                  4                       0   \n2413        17              2                  2                       0   \n1914        17         105815                  4                       0   \n\n      Fwd Packets Length Total  Bwd Packets Length Total  \\\n57                      2944.0                       0.0   \n602                     2808.0                       0.0   \n888                     1438.0                       0.0   \n2413                    1688.0                       0.0   \n1914                    1438.0                       0.0   \n\n      Fwd Packet Length Max  Fwd Packet Length Min  Fwd Packet Length Mean  \\\n57                   1472.0                 1472.0                  1472.0   \n602                  1404.0                 1404.0                  1404.0   \n888                   389.0                  330.0                   359.5   \n2413                  844.0                  844.0                   844.0   \n1914                  389.0                  330.0                   359.5   \n\n      Fwd Packet Length Std  ...  Fwd Seg Size Min  Active Mean  Active Std  \\\n57                 0.000000  ...              1344          0.0         0.0   \n602                0.000000  ...                 0          0.0         0.0   \n888               34.063667  ...                -1          0.0         0.0   \n2413               0.000000  ...                 0          0.0         0.0   \n1914              34.063667  ...                 0          0.0         0.0   \n\n      Active Max  Active Min  Idle Mean  Idle Std  Idle Max  Idle Min  Label  \n57           0.0         0.0        0.0       0.0       0.0       0.0      2  \n602          0.0         0.0        0.0       0.0       0.0       0.0      6  \n888          0.0         0.0        0.0       0.0       0.0       0.0     11  \n2413         0.0         0.0        0.0       0.0       0.0       0.0      3  \n1914         0.0         0.0        0.0       0.0       0.0       0.0      8  \n\n[5 rows x 66 columns]",
      "text/html": "<div>\n<style scoped>\n    .dataframe tbody tr th:only-of-type {\n        vertical-align: middle;\n    }\n\n    .dataframe tbody tr th {\n        vertical-align: top;\n    }\n\n    .dataframe thead th {\n        text-align: right;\n    }\n</style>\n<table border=\"1\" class=\"dataframe\">\n  <thead>\n    <tr style=\"text-align: right;\">\n      <th></th>\n      <th>Protocol</th>\n      <th>Flow Duration</th>\n      <th>Total Fwd Packets</th>\n      <th>Total Backward Packets</th>\n      <th>Fwd Packets Length Total</th>\n      <th>Bwd Packets Length Total</th>\n      <th>Fwd Packet Length Max</th>\n      <th>Fwd Packet Length Min</th>\n      <th>Fwd Packet Length Mean</th>\n      <th>Fwd Packet Length Std</th>\n      <th>...</th>\n      <th>Fwd Seg Size Min</th>\n      <th>Active Mean</th>\n      <th>Active Std</th>\n      <th>Active Max</th>\n      <th>Active Min</th>\n      <th>Idle Mean</th>\n      <th>Idle Std</th>\n      <th>Idle Max</th>\n      <th>Idle Min</th>\n      <th>Label</th>\n    </tr>\n  </thead>\n  <tbody>\n    <tr>\n      <th>57</th>\n      <td>17</td>\n      <td>48</td>\n      <td>2</td>\n      <td>0</td>\n      <td>2944.0</td>\n      <td>0.0</td>\n      <td>1472.0</td>\n      <td>1472.0</td>\n      <td>1472.0</td>\n      <td>0.000000</td>\n      <td>...</td>\n      <td>1344</td>\n      <td>0.0</td>\n      <td>0.0</td>\n      <td>0.0</td>\n      <td>0.0</td>\n      <td>0.0</td>\n      <td>0.0</td>\n      <td>0.0</td>\n      <td>0.0</td>\n      <td>2</td>\n    </tr>\n    <tr>\n      <th>602</th>\n      <td>17</td>\n      <td>13</td>\n      <td>2</td>\n      <td>0</td>\n      <td>2808.0</td>\n      <td>0.0</td>\n      <td>1404.0</td>\n      <td>1404.0</td>\n      <td>1404.0</td>\n      <td>0.000000</td>\n      <td>...</td>\n      <td>0</td>\n      <td>0.0</td>\n      <td>0.0</td>\n      <td>0.0</td>\n      <td>0.0</td>\n      <td>0.0</td>\n      <td>0.0</td>\n      <td>0.0</td>\n      <td>0.0</td>\n      <td>6</td>\n    </tr>\n    <tr>\n      <th>888</th>\n      <td>17</td>\n      <td>107842</td>\n      <td>4</td>\n      <td>0</td>\n      <td>1438.0</td>\n      <td>0.0</td>\n      <td>389.0</td>\n      <td>330.0</td>\n      <td>359.5</td>\n      <td>34.063667</td>\n      <td>...</td>\n      <td>-1</td>\n      <td>0.0</td>\n      <td>0.0</td>\n      <td>0.0</td>\n      <td>0.0</td>\n      <td>0.0</td>\n      <td>0.0</td>\n      <td>0.0</td>\n      <td>0.0</td>\n      <td>11</td>\n    </tr>\n    <tr>\n      <th>2413</th>\n      <td>17</td>\n      <td>2</td>\n      <td>2</td>\n      <td>0</td>\n      <td>1688.0</td>\n      <td>0.0</td>\n      <td>844.0</td>\n      <td>844.0</td>\n      <td>844.0</td>\n      <td>0.000000</td>\n      <td>...</td>\n      <td>0</td>\n      <td>0.0</td>\n      <td>0.0</td>\n      <td>0.0</td>\n      <td>0.0</td>\n      <td>0.0</td>\n      <td>0.0</td>\n      <td>0.0</td>\n      <td>0.0</td>\n      <td>3</td>\n    </tr>\n    <tr>\n      <th>1914</th>\n      <td>17</td>\n      <td>105815</td>\n      <td>4</td>\n      <td>0</td>\n      <td>1438.0</td>\n      <td>0.0</td>\n      <td>389.0</td>\n      <td>330.0</td>\n      <td>359.5</td>\n      <td>34.063667</td>\n      <td>...</td>\n      <td>0</td>\n      <td>0.0</td>\n      <td>0.0</td>\n      <td>0.0</td>\n      <td>0.0</td>\n      <td>0.0</td>\n      <td>0.0</td>\n      <td>0.0</td>\n      <td>0.0</td>\n      <td>8</td>\n    </tr>\n  </tbody>\n</table>\n<p>5 rows × 66 columns</p>\n</div>"
     },
     "execution_count": 17,
     "metadata": {},
     "output_type": "execute_result"
    }
   ],
   "source": [
    "df[\"Label\"] = le.fit_transform(df[\"Label\"])\n",
    "df[\"Label\"] = pd.to_numeric(df['Label'], downcast='integer')\n",
    "df.head(5) # see the Label feature"
   ],
   "metadata": {
    "collapsed": false
   }
  },
  {
   "cell_type": "markdown",
   "source": [
    "<center><h3 style=\"background:#FF00FF;color:black\">\n",
    "Encoding of \"Label\" visualization\n",
    "</h3></center>"
   ],
   "metadata": {
    "collapsed": false
   }
  },
  {
   "cell_type": "code",
   "execution_count": 18,
   "outputs": [
    {
     "data": {
      "text/plain": "            Label  Encoding\n0      DrDoS_LDAP         2\n1      DrDoS_SNMP         6\n2         UDP-lag        11\n3     DrDoS_MSSQL         3\n4       DrDoS_UDP         8\n5            TFTP        10\n6      DrDoS_SSDP         7\n7   DrDoS_NetBIOS         5\n8             Syn         9\n9       DrDoS_NTP         4\n10         BENIGN         0\n11      DrDoS_DNS         1\n12        WebDDoS        12",
      "text/html": "<div>\n<style scoped>\n    .dataframe tbody tr th:only-of-type {\n        vertical-align: middle;\n    }\n\n    .dataframe tbody tr th {\n        vertical-align: top;\n    }\n\n    .dataframe thead th {\n        text-align: right;\n    }\n</style>\n<table border=\"1\" class=\"dataframe\">\n  <thead>\n    <tr style=\"text-align: right;\">\n      <th></th>\n      <th>Label</th>\n      <th>Encoding</th>\n    </tr>\n  </thead>\n  <tbody>\n    <tr>\n      <th>0</th>\n      <td>DrDoS_LDAP</td>\n      <td>2</td>\n    </tr>\n    <tr>\n      <th>1</th>\n      <td>DrDoS_SNMP</td>\n      <td>6</td>\n    </tr>\n    <tr>\n      <th>2</th>\n      <td>UDP-lag</td>\n      <td>11</td>\n    </tr>\n    <tr>\n      <th>3</th>\n      <td>DrDoS_MSSQL</td>\n      <td>3</td>\n    </tr>\n    <tr>\n      <th>4</th>\n      <td>DrDoS_UDP</td>\n      <td>8</td>\n    </tr>\n    <tr>\n      <th>5</th>\n      <td>TFTP</td>\n      <td>10</td>\n    </tr>\n    <tr>\n      <th>6</th>\n      <td>DrDoS_SSDP</td>\n      <td>7</td>\n    </tr>\n    <tr>\n      <th>7</th>\n      <td>DrDoS_NetBIOS</td>\n      <td>5</td>\n    </tr>\n    <tr>\n      <th>8</th>\n      <td>Syn</td>\n      <td>9</td>\n    </tr>\n    <tr>\n      <th>9</th>\n      <td>DrDoS_NTP</td>\n      <td>4</td>\n    </tr>\n    <tr>\n      <th>10</th>\n      <td>BENIGN</td>\n      <td>0</td>\n    </tr>\n    <tr>\n      <th>11</th>\n      <td>DrDoS_DNS</td>\n      <td>1</td>\n    </tr>\n    <tr>\n      <th>12</th>\n      <td>WebDDoS</td>\n      <td>12</td>\n    </tr>\n  </tbody>\n</table>\n</div>"
     },
     "execution_count": 18,
     "metadata": {},
     "output_type": "execute_result"
    }
   ],
   "source": [
    "Label_keys = list(before_encoding_dataframe.Label)\n",
    "Label_values = list(df.Label)\n",
    "# Label_tuples = list(zip(Label_keys,Label_values)) # # creating tuples from above two lists\n",
    "# Label_visualize_df = pd.DataFrame(Label_tuples, columns=['Label','Encoding'])\n",
    "Label_dict = dict(Label = Label_keys,Encoding = Label_values)\n",
    "Label_visualize_df = pd.DataFrame.from_dict(Label_dict)\n",
    "Label_visualize_df.drop_duplicates(inplace=True)\n",
    "Label_visualize_df.reset_index(inplace=True, drop=True)\n",
    "Label_visualize_df"
   ],
   "metadata": {
    "collapsed": false
   }
  },
  {
   "cell_type": "markdown",
   "source": [
    "<center><h4 style=\"background:#ADFF2F;color:black\">\n",
    "Saving the after encoding dataframe into new csv\n",
    "</h4></center>"
   ],
   "metadata": {
    "collapsed": false
   }
  },
  {
   "cell_type": "code",
   "execution_count": 19,
   "outputs": [
    {
     "name": "stdout",
     "output_type": "stream",
     "text": [
      "<class 'pandas.core.frame.DataFrame'>\n",
      "Int64Index: 409000 entries, 57 to 1209\n",
      "Data columns (total 66 columns):\n",
      " #   Column                    Non-Null Count   Dtype  \n",
      "---  ------                    --------------   -----  \n",
      " 0   Protocol                  409000 non-null  int64  \n",
      " 1   Flow Duration             409000 non-null  int64  \n",
      " 2   Total Fwd Packets         409000 non-null  int64  \n",
      " 3   Total Backward Packets    409000 non-null  int64  \n",
      " 4   Fwd Packets Length Total  409000 non-null  float64\n",
      " 5   Bwd Packets Length Total  409000 non-null  float64\n",
      " 6   Fwd Packet Length Max     409000 non-null  float64\n",
      " 7   Fwd Packet Length Min     409000 non-null  float64\n",
      " 8   Fwd Packet Length Mean    409000 non-null  float64\n",
      " 9   Fwd Packet Length Std     409000 non-null  float64\n",
      " 10  Bwd Packet Length Max     409000 non-null  float64\n",
      " 11  Bwd Packet Length Min     409000 non-null  float64\n",
      " 12  Bwd Packet Length Mean    409000 non-null  float64\n",
      " 13  Bwd Packet Length Std     409000 non-null  float64\n",
      " 14  Flow Bytes/s              409000 non-null  float64\n",
      " 15  Flow Packets/s            409000 non-null  float64\n",
      " 16  Flow IAT Mean             409000 non-null  float64\n",
      " 17  Flow IAT Std              409000 non-null  float64\n",
      " 18  Flow IAT Max              409000 non-null  float64\n",
      " 19  Flow IAT Min              409000 non-null  float64\n",
      " 20  Fwd IAT Total             409000 non-null  float64\n",
      " 21  Fwd IAT Mean              409000 non-null  float64\n",
      " 22  Fwd IAT Std               409000 non-null  float64\n",
      " 23  Fwd IAT Max               409000 non-null  float64\n",
      " 24  Fwd IAT Min               409000 non-null  float64\n",
      " 25  Bwd IAT Total             409000 non-null  float64\n",
      " 26  Bwd IAT Mean              409000 non-null  float64\n",
      " 27  Bwd IAT Std               409000 non-null  float64\n",
      " 28  Bwd IAT Max               409000 non-null  float64\n",
      " 29  Bwd IAT Min               409000 non-null  float64\n",
      " 30  Fwd PSH Flags             409000 non-null  int64  \n",
      " 31  Fwd Header Length         409000 non-null  int64  \n",
      " 32  Bwd Header Length         409000 non-null  int64  \n",
      " 33  Fwd Packets/s             409000 non-null  float64\n",
      " 34  Bwd Packets/s             409000 non-null  float64\n",
      " 35  Packet Length Min         409000 non-null  float64\n",
      " 36  Packet Length Max         409000 non-null  float64\n",
      " 37  Packet Length Mean        409000 non-null  float64\n",
      " 38  Packet Length Std         409000 non-null  float64\n",
      " 39  Packet Length Variance    409000 non-null  float64\n",
      " 40  SYN Flag Count            409000 non-null  int64  \n",
      " 41  RST Flag Count            409000 non-null  int64  \n",
      " 42  ACK Flag Count            409000 non-null  int64  \n",
      " 43  URG Flag Count            409000 non-null  int64  \n",
      " 44  CWE Flag Count            409000 non-null  int64  \n",
      " 45  Down/Up Ratio             409000 non-null  float64\n",
      " 46  Avg Packet Size           409000 non-null  float64\n",
      " 47  Avg Fwd Segment Size      409000 non-null  float64\n",
      " 48  Avg Bwd Segment Size      409000 non-null  float64\n",
      " 49  Subflow Fwd Packets       409000 non-null  int64  \n",
      " 50  Subflow Fwd Bytes         409000 non-null  int64  \n",
      " 51  Subflow Bwd Packets       409000 non-null  int64  \n",
      " 52  Subflow Bwd Bytes         409000 non-null  int64  \n",
      " 53  Init Fwd Win Bytes        409000 non-null  int64  \n",
      " 54  Init Bwd Win Bytes        409000 non-null  int64  \n",
      " 55  Fwd Act Data Packets      409000 non-null  int64  \n",
      " 56  Fwd Seg Size Min          409000 non-null  int64  \n",
      " 57  Active Mean               409000 non-null  float64\n",
      " 58  Active Std                409000 non-null  float64\n",
      " 59  Active Max                409000 non-null  float64\n",
      " 60  Active Min                409000 non-null  float64\n",
      " 61  Idle Mean                 409000 non-null  float64\n",
      " 62  Idle Std                  409000 non-null  float64\n",
      " 63  Idle Max                  409000 non-null  float64\n",
      " 64  Idle Min                  409000 non-null  float64\n",
      " 65  Label                     409000 non-null  int8   \n",
      "dtypes: float64(45), int64(20), int8(1)\n",
      "memory usage: 206.3 MB\n"
     ]
    }
   ],
   "source": [
    "dirPath = \"D:\\\\Thesis_Group_of_Brig_Gen_Razzak_Sir\\\\After_Column_Data_Cleaning\\\\\"\n",
    "csvFileName = \"After_Label_Encoding.csv\"\n",
    "encodingFileName = \"Label_Encoding.csv\"\n",
    "\n",
    "Label_visualize_df.to_csv(dirPath+encodingFileName)\n",
    "df.to_csv(dirPath + csvFileName)\n",
    "df.info(memory_usage=\"deep\")"
   ],
   "metadata": {
    "collapsed": false
   }
  },
  {
   "cell_type": "markdown",
   "source": [
    "<center><h3 style=\"background:yellow;color:black\">\n",
    "Pearson co-variance implementation\n",
    "</h3></center>"
   ],
   "metadata": {
    "collapsed": false
   }
  },
  {
   "cell_type": "code",
   "execution_count": 20,
   "outputs": [
    {
     "name": "stdout",
     "output_type": "stream",
     "text": [
      "Pearson co-relation between Flow Duration & Fwd IAT Total : 1.000\n",
      "Pearson co-relation between Total Fwd Packets & Subflow Fwd Packets : 1.000\n",
      "Pearson co-relation between Total Backward Packets & Subflow Bwd Packets : 1.000\n",
      "Pearson co-relation between Fwd Packets Length Total & Subflow Fwd Bytes : 1.000\n",
      "Pearson co-relation between Fwd Packets Length Total & Fwd Act Data Packets : 0.997\n",
      "Pearson co-relation between Bwd Packets Length Total & Subflow Bwd Bytes : 1.000\n",
      "Pearson co-relation between Fwd Packet Length Max & Fwd Packet Length Min : 0.987\n",
      "Pearson co-relation between Fwd Packet Length Max & Fwd Packet Length Mean : 0.995\n",
      "Pearson co-relation between Fwd Packet Length Max & Packet Length Min : 0.986\n",
      "Pearson co-relation between Fwd Packet Length Max & Packet Length Max : 0.979\n",
      "Pearson co-relation between Fwd Packet Length Max & Packet Length Mean : 0.995\n",
      "Pearson co-relation between Fwd Packet Length Max & Avg Packet Size : 0.986\n",
      "Pearson co-relation between Fwd Packet Length Max & Avg Fwd Segment Size : 0.995\n",
      "Pearson co-relation between Fwd Packet Length Min & Fwd Packet Length Max : 0.987\n",
      "Pearson co-relation between Fwd Packet Length Min & Fwd Packet Length Mean : 0.995\n",
      "Pearson co-relation between Fwd Packet Length Min & Packet Length Min : 0.999\n",
      "Pearson co-relation between Fwd Packet Length Min & Packet Length Max : 0.957\n",
      "Pearson co-relation between Fwd Packet Length Min & Packet Length Mean : 0.994\n",
      "Pearson co-relation between Fwd Packet Length Min & Avg Packet Size : 0.991\n",
      "Pearson co-relation between Fwd Packet Length Min & Avg Fwd Segment Size : 0.995\n",
      "Pearson co-relation between Fwd Packet Length Mean & Fwd Packet Length Max : 0.995\n",
      "Pearson co-relation between Fwd Packet Length Mean & Fwd Packet Length Min : 0.995\n",
      "Pearson co-relation between Fwd Packet Length Mean & Packet Length Min : 0.995\n",
      "Pearson co-relation between Fwd Packet Length Mean & Packet Length Max : 0.966\n",
      "Pearson co-relation between Fwd Packet Length Mean & Packet Length Mean : 0.999\n",
      "Pearson co-relation between Fwd Packet Length Mean & Avg Packet Size : 0.992\n",
      "Pearson co-relation between Fwd Packet Length Mean & Avg Fwd Segment Size : 1.000\n",
      "Pearson co-relation between Bwd Packet Length Max & Bwd Packet Length Std : 0.901\n",
      "Pearson co-relation between Bwd Packet Length Mean & Avg Bwd Segment Size : 1.000\n",
      "Pearson co-relation between Bwd Packet Length Std & Bwd Packet Length Max : 0.901\n",
      "Pearson co-relation between Flow Packets/s & Fwd Packets/s : 1.000\n",
      "Pearson co-relation between Flow IAT Mean & Flow IAT Std : 0.984\n",
      "Pearson co-relation between Flow IAT Mean & Flow IAT Max : 0.962\n",
      "Pearson co-relation between Flow IAT Mean & Fwd IAT Mean : 0.992\n",
      "Pearson co-relation between Flow IAT Mean & Fwd IAT Std : 0.978\n",
      "Pearson co-relation between Flow IAT Mean & Fwd IAT Max : 0.962\n",
      "Pearson co-relation between Flow IAT Mean & Idle Mean : 0.962\n",
      "Pearson co-relation between Flow IAT Mean & Idle Max : 0.956\n",
      "Pearson co-relation between Flow IAT Mean & Idle Min : 0.904\n",
      "Pearson co-relation between Flow IAT Std & Flow IAT Mean : 0.984\n",
      "Pearson co-relation between Flow IAT Std & Flow IAT Max : 0.966\n",
      "Pearson co-relation between Flow IAT Std & Fwd IAT Mean : 0.983\n",
      "Pearson co-relation between Flow IAT Std & Fwd IAT Std : 0.998\n",
      "Pearson co-relation between Flow IAT Std & Fwd IAT Max : 0.965\n",
      "Pearson co-relation between Flow IAT Std & Idle Mean : 0.980\n",
      "Pearson co-relation between Flow IAT Std & Idle Max : 0.959\n",
      "Pearson co-relation between Flow IAT Std & Idle Min : 0.940\n",
      "Pearson co-relation between Flow IAT Max & Flow IAT Mean : 0.962\n",
      "Pearson co-relation between Flow IAT Max & Flow IAT Std : 0.966\n",
      "Pearson co-relation between Flow IAT Max & Fwd IAT Mean : 0.975\n",
      "Pearson co-relation between Flow IAT Max & Fwd IAT Std : 0.970\n",
      "Pearson co-relation between Flow IAT Max & Fwd IAT Max : 0.999\n",
      "Pearson co-relation between Flow IAT Max & Idle Mean : 0.961\n",
      "Pearson co-relation between Flow IAT Max & Idle Max : 0.994\n",
      "Pearson co-relation between Flow IAT Min & Fwd IAT Min : 0.998\n",
      "Pearson co-relation between Fwd IAT Total & Flow Duration : 1.000\n",
      "Pearson co-relation between Fwd IAT Mean & Flow IAT Mean : 0.992\n",
      "Pearson co-relation between Fwd IAT Mean & Flow IAT Std : 0.983\n",
      "Pearson co-relation between Fwd IAT Mean & Flow IAT Max : 0.975\n",
      "Pearson co-relation between Fwd IAT Mean & Fwd IAT Std : 0.984\n",
      "Pearson co-relation between Fwd IAT Mean & Fwd IAT Max : 0.975\n",
      "Pearson co-relation between Fwd IAT Mean & Idle Mean : 0.968\n",
      "Pearson co-relation between Fwd IAT Mean & Idle Max : 0.970\n",
      "Pearson co-relation between Fwd IAT Mean & Idle Min : 0.902\n",
      "Pearson co-relation between Fwd IAT Std & Flow IAT Mean : 0.978\n",
      "Pearson co-relation between Fwd IAT Std & Flow IAT Std : 0.998\n",
      "Pearson co-relation between Fwd IAT Std & Flow IAT Max : 0.970\n",
      "Pearson co-relation between Fwd IAT Std & Fwd IAT Mean : 0.984\n",
      "Pearson co-relation between Fwd IAT Std & Fwd IAT Max : 0.970\n",
      "Pearson co-relation between Fwd IAT Std & Idle Mean : 0.984\n",
      "Pearson co-relation between Fwd IAT Std & Idle Max : 0.963\n",
      "Pearson co-relation between Fwd IAT Std & Idle Min : 0.942\n",
      "Pearson co-relation between Fwd IAT Max & Flow IAT Mean : 0.962\n",
      "Pearson co-relation between Fwd IAT Max & Flow IAT Std : 0.965\n",
      "Pearson co-relation between Fwd IAT Max & Flow IAT Max : 0.999\n",
      "Pearson co-relation between Fwd IAT Max & Fwd IAT Mean : 0.975\n",
      "Pearson co-relation between Fwd IAT Max & Fwd IAT Std : 0.970\n",
      "Pearson co-relation between Fwd IAT Max & Idle Mean : 0.961\n",
      "Pearson co-relation between Fwd IAT Max & Idle Max : 0.995\n",
      "Pearson co-relation between Fwd IAT Min & Flow IAT Min : 0.998\n",
      "Pearson co-relation between Bwd IAT Total & Bwd IAT Max : 0.942\n",
      "Pearson co-relation between Bwd IAT Mean & Bwd IAT Std : 0.997\n",
      "Pearson co-relation between Bwd IAT Mean & Bwd IAT Max : 0.973\n",
      "Pearson co-relation between Bwd IAT Std & Bwd IAT Mean : 0.997\n",
      "Pearson co-relation between Bwd IAT Std & Bwd IAT Max : 0.984\n",
      "Pearson co-relation between Bwd IAT Max & Bwd IAT Total : 0.942\n",
      "Pearson co-relation between Bwd IAT Max & Bwd IAT Mean : 0.973\n",
      "Pearson co-relation between Bwd IAT Max & Bwd IAT Std : 0.984\n",
      "Pearson co-relation between Fwd PSH Flags & RST Flag Count : 1.000\n",
      "Pearson co-relation between Fwd Packets/s & Flow Packets/s : 1.000\n",
      "Pearson co-relation between Packet Length Min & Fwd Packet Length Max : 0.986\n",
      "Pearson co-relation between Packet Length Min & Fwd Packet Length Min : 0.999\n",
      "Pearson co-relation between Packet Length Min & Fwd Packet Length Mean : 0.995\n",
      "Pearson co-relation between Packet Length Min & Packet Length Max : 0.956\n",
      "Pearson co-relation between Packet Length Min & Packet Length Mean : 0.994\n",
      "Pearson co-relation between Packet Length Min & Avg Packet Size : 0.992\n",
      "Pearson co-relation between Packet Length Min & Avg Fwd Segment Size : 0.995\n",
      "Pearson co-relation between Packet Length Max & Fwd Packet Length Max : 0.979\n",
      "Pearson co-relation between Packet Length Max & Fwd Packet Length Min : 0.957\n",
      "Pearson co-relation between Packet Length Max & Fwd Packet Length Mean : 0.966\n",
      "Pearson co-relation between Packet Length Max & Packet Length Min : 0.956\n",
      "Pearson co-relation between Packet Length Max & Packet Length Mean : 0.971\n",
      "Pearson co-relation between Packet Length Max & Avg Packet Size : 0.961\n",
      "Pearson co-relation between Packet Length Max & Avg Fwd Segment Size : 0.966\n",
      "Pearson co-relation between Packet Length Mean & Fwd Packet Length Max : 0.995\n",
      "Pearson co-relation between Packet Length Mean & Fwd Packet Length Min : 0.994\n",
      "Pearson co-relation between Packet Length Mean & Fwd Packet Length Mean : 0.999\n",
      "Pearson co-relation between Packet Length Mean & Packet Length Min : 0.994\n",
      "Pearson co-relation between Packet Length Mean & Packet Length Max : 0.971\n",
      "Pearson co-relation between Packet Length Mean & Avg Packet Size : 0.993\n",
      "Pearson co-relation between Packet Length Mean & Avg Fwd Segment Size : 0.999\n",
      "Pearson co-relation between RST Flag Count & Fwd PSH Flags : 1.000\n",
      "Pearson co-relation between Avg Packet Size & Fwd Packet Length Max : 0.986\n",
      "Pearson co-relation between Avg Packet Size & Fwd Packet Length Min : 0.991\n",
      "Pearson co-relation between Avg Packet Size & Fwd Packet Length Mean : 0.992\n",
      "Pearson co-relation between Avg Packet Size & Packet Length Min : 0.992\n",
      "Pearson co-relation between Avg Packet Size & Packet Length Max : 0.961\n",
      "Pearson co-relation between Avg Packet Size & Packet Length Mean : 0.993\n",
      "Pearson co-relation between Avg Packet Size & Avg Fwd Segment Size : 0.992\n",
      "Pearson co-relation between Avg Fwd Segment Size & Fwd Packet Length Max : 0.995\n",
      "Pearson co-relation between Avg Fwd Segment Size & Fwd Packet Length Min : 0.995\n",
      "Pearson co-relation between Avg Fwd Segment Size & Fwd Packet Length Mean : 1.000\n",
      "Pearson co-relation between Avg Fwd Segment Size & Packet Length Min : 0.995\n",
      "Pearson co-relation between Avg Fwd Segment Size & Packet Length Max : 0.966\n",
      "Pearson co-relation between Avg Fwd Segment Size & Packet Length Mean : 0.999\n",
      "Pearson co-relation between Avg Fwd Segment Size & Avg Packet Size : 0.992\n",
      "Pearson co-relation between Avg Bwd Segment Size & Bwd Packet Length Mean : 1.000\n",
      "Pearson co-relation between Subflow Fwd Packets & Total Fwd Packets : 1.000\n",
      "Pearson co-relation between Subflow Fwd Bytes & Fwd Packets Length Total : 1.000\n",
      "Pearson co-relation between Subflow Fwd Bytes & Fwd Act Data Packets : 0.997\n",
      "Pearson co-relation between Subflow Bwd Packets & Total Backward Packets : 1.000\n",
      "Pearson co-relation between Subflow Bwd Bytes & Bwd Packets Length Total : 1.000\n",
      "Pearson co-relation between Fwd Act Data Packets & Fwd Packets Length Total : 0.997\n",
      "Pearson co-relation between Fwd Act Data Packets & Subflow Fwd Bytes : 0.997\n",
      "Pearson co-relation between Active Std & Active Max : 0.904\n",
      "Pearson co-relation between Active Max & Active Std : 0.904\n",
      "Pearson co-relation between Idle Mean & Flow IAT Mean : 0.962\n",
      "Pearson co-relation between Idle Mean & Flow IAT Std : 0.980\n",
      "Pearson co-relation between Idle Mean & Flow IAT Max : 0.961\n",
      "Pearson co-relation between Idle Mean & Fwd IAT Mean : 0.968\n",
      "Pearson co-relation between Idle Mean & Fwd IAT Std : 0.984\n",
      "Pearson co-relation between Idle Mean & Fwd IAT Max : 0.961\n",
      "Pearson co-relation between Idle Mean & Idle Max : 0.966\n",
      "Pearson co-relation between Idle Mean & Idle Min : 0.968\n",
      "Pearson co-relation between Idle Max & Flow IAT Mean : 0.956\n",
      "Pearson co-relation between Idle Max & Flow IAT Std : 0.959\n",
      "Pearson co-relation between Idle Max & Flow IAT Max : 0.994\n",
      "Pearson co-relation between Idle Max & Fwd IAT Mean : 0.970\n",
      "Pearson co-relation between Idle Max & Fwd IAT Std : 0.963\n",
      "Pearson co-relation between Idle Max & Fwd IAT Max : 0.995\n",
      "Pearson co-relation between Idle Max & Idle Mean : 0.966\n",
      "Pearson co-relation between Idle Min & Flow IAT Mean : 0.904\n",
      "Pearson co-relation between Idle Min & Flow IAT Std : 0.940\n",
      "Pearson co-relation between Idle Min & Fwd IAT Mean : 0.902\n",
      "Pearson co-relation between Idle Min & Fwd IAT Std : 0.942\n",
      "Pearson co-relation between Idle Min & Idle Mean : 0.968\n",
      "\n",
      "###########################################################################\n",
      "Found above pearson threshold co-related pairs: 156\n"
     ]
    }
   ],
   "source": [
    "Pearson_Threshold = 0.9\n",
    "count = 0\n",
    "for i in df.columns:\n",
    "   for j in df.columns:\n",
    "       if i!= j:\n",
    "           corr,_ = stats.pearsonr(df[i],df[j])\n",
    "           if corr >= Pearson_Threshold:\n",
    "               count = count + 1\n",
    "               print(f\"Pearson co-relation between {i} & {j} : {corr:.3f}\")\n",
    "\n",
    "print(\"\\n###########################################################################\")\n",
    "print(f\"Found above pearson threshold co-related pairs: {count}\")"
   ],
   "metadata": {
    "collapsed": false
   }
  }
 ],
 "metadata": {
  "kernelspec": {
   "display_name": "Python 3",
   "language": "python",
   "name": "python3"
  },
  "language_info": {
   "codemirror_mode": {
    "name": "ipython",
    "version": 2
   },
   "file_extension": ".py",
   "mimetype": "text/x-python",
   "name": "python",
   "nbconvert_exporter": "python",
   "pygments_lexer": "ipython2",
   "version": "2.7.6"
  }
 },
 "nbformat": 4,
 "nbformat_minor": 0
}

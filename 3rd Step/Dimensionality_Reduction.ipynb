{
 "cells": [
  {
   "cell_type": "code",
   "execution_count": 43,
   "metadata": {
    "collapsed": true
   },
   "outputs": [],
   "source": [
    "import pandas as pd\n",
    "import numpy as np\n",
    "from dask import dataframe as dd\n",
    "from dask.distributed import Client\n",
    "from sklearn.utils import shuffle\n",
    "from sklearn import preprocessing\n",
    "from scipy import stats\n",
    "import matplotlib.pyplot as plt\n",
    "import seaborn as sns"
   ]
  },
  {
   "cell_type": "code",
   "execution_count": 44,
   "outputs": [],
   "source": [
    "def readCSV_Function(file_path):\n",
    "    dask_df = dd.read_csv(file_path, blocksize=1e6)\n",
    "    dask_df = dask_df.repartition(npartitions=8)\n",
    "    return dask_df.compute(scheduler='threads')\n",
    "\n",
    "filePath = \"D:\\\\Thesis_Group_of_Brig_Gen_Razzak_Sir\\\\Concatenated_Data_Before_Feature_Engineering\\\\Cleaned_Data.csv\"\n",
    "df = readCSV_Function(filePath)\n",
    "df.drop(columns=[\"Unnamed: 0\"], inplace=True, errors='ignore')\n",
    "df = shuffle(df)"
   ],
   "metadata": {
    "collapsed": false
   }
  },
  {
   "cell_type": "code",
   "execution_count": 45,
   "outputs": [
    {
     "data": {
      "text/plain": "Protocol                         3\nFlow Duration               143257\nTotal Fwd Packets              365\nTotal Backward Packets         140\nFwd Packets Length Total      2625\n                             ...  \nIdle Mean                    65588\nIdle Std                     52351\nIdle Max                     65560\nIdle Min                     65445\nLabel                           13\nLength: 78, dtype: int64"
     },
     "execution_count": 45,
     "metadata": {},
     "output_type": "execute_result"
    }
   ],
   "source": [
    "df.nunique()"
   ],
   "metadata": {
    "collapsed": false
   }
  },
  {
   "cell_type": "markdown",
   "source": [
    "#### Dropping categorical columns that have one category predominance"
   ],
   "metadata": {
    "collapsed": false
   }
  },
  {
   "cell_type": "code",
   "execution_count": 46,
   "outputs": [
    {
     "data": {
      "text/plain": "['Bwd PSH Flags',\n 'Fwd URG Flags',\n 'Bwd URG Flags',\n 'FIN Flag Count',\n 'PSH Flag Count',\n 'ECE Flag Count',\n 'Fwd Avg Bytes/Bulk',\n 'Fwd Avg Packets/Bulk',\n 'Fwd Avg Bulk Rate',\n 'Bwd Avg Bytes/Bulk',\n 'Bwd Avg Packets/Bulk',\n 'Bwd Avg Bulk Rate']"
     },
     "execution_count": 46,
     "metadata": {},
     "output_type": "execute_result"
    }
   ],
   "source": [
    "unique_value_columns = [col for col in df.columns if df[col].nunique() == 1]\n",
    "unique_value_columns"
   ],
   "metadata": {
    "collapsed": false
   }
  },
  {
   "cell_type": "markdown",
   "source": [
    "#### Performing drop operation & saving that in new csv"
   ],
   "metadata": {
    "collapsed": false
   }
  },
  {
   "cell_type": "code",
   "execution_count": 47,
   "outputs": [
    {
     "data": {
      "text/plain": "(409000, 66)"
     },
     "execution_count": 47,
     "metadata": {},
     "output_type": "execute_result"
    }
   ],
   "source": [
    "df.drop(columns=unique_value_columns, inplace=True)\n",
    "df.shape"
   ],
   "metadata": {
    "collapsed": false
   }
  },
  {
   "cell_type": "markdown",
   "source": [
    "def dataCleaningResultToAnotherCSV(dataFrameArg, dirPath, file_name):\n",
    "    dataFrameArg.to_csv(dirPath + file_name)\n",
    "\n",
    "newCsvPath = \"D:\\\\Thesis_Group_of_Brig_Gen_Razzak_Sir\\\\After_Column_Data_Cleaning\\\\\"\n",
    "csvFileName = \"after_dropping_unique_data_containing_features.csv\"\n",
    "dataCleaningResultToAnotherCSV(dataFrameArg=df, dirPath=newCsvPath, file_name=csvFileName)"
   ],
   "metadata": {
    "collapsed": false
   }
  },
  {
   "cell_type": "markdown",
   "source": [
    "#### As we visualized the heatmap of the remaining 66 features, now need to find out the co-relation pairs\n",
    "#### But Before that, need to apply encoding of categorical data, such as \"Label\" feature"
   ],
   "metadata": {
    "collapsed": false
   }
  },
  {
   "cell_type": "code",
   "execution_count": 48,
   "outputs": [
    {
     "data": {
      "text/plain": "      Protocol  Flow Duration  Total Fwd Packets  Total Backward Packets  \\\n424         17          10439                200                       0   \n1419        17              1                  2                       0   \n626         17         106895                  4                       0   \n960         17            287                  2                       0   \n2166        17        2996838                  4                       0   \n\n      Fwd Packets Length Total  Bwd Packets Length Total  \\\n424                    88000.0                       0.0   \n1419                     866.0                       0.0   \n626                     1438.0                       0.0   \n960                     2944.0                       0.0   \n2166                    2064.0                       0.0   \n\n      Fwd Packet Length Max  Fwd Packet Length Min  Fwd Packet Length Mean  \\\n424                   440.0                  440.0                   440.0   \n1419                  433.0                  433.0                   433.0   \n626                   389.0                  330.0                   359.5   \n960                  1472.0                 1472.0                  1472.0   \n2166                  516.0                  516.0                   516.0   \n\n      Fwd Packet Length Std  ...  Fwd Seg Size Min  Active Mean  Active Std  \\\n424                0.000000  ...                 0          0.0         0.0   \n1419               0.000000  ...               617          0.0         0.0   \n626               34.063667  ...                 0          0.0         0.0   \n960                0.000000  ...                14          0.0         0.0   \n2166               0.000000  ...                 0          0.0         0.0   \n\n      Active Max  Active Min  Idle Mean  Idle Std  Idle Max  Idle Min  \\\n424          0.0         0.0        0.0       0.0       0.0       0.0   \n1419         0.0         0.0        0.0       0.0       0.0       0.0   \n626          0.0         0.0        0.0       0.0       0.0       0.0   \n960          0.0         0.0        0.0       0.0       0.0       0.0   \n2166         0.0         0.0        0.0       0.0       0.0       0.0   \n\n            Label  \n424     DrDoS_NTP  \n1419  DrDoS_MSSQL  \n626    DrDoS_SSDP  \n960    DrDoS_LDAP  \n2166         TFTP  \n\n[5 rows x 66 columns]",
      "text/html": "<div>\n<style scoped>\n    .dataframe tbody tr th:only-of-type {\n        vertical-align: middle;\n    }\n\n    .dataframe tbody tr th {\n        vertical-align: top;\n    }\n\n    .dataframe thead th {\n        text-align: right;\n    }\n</style>\n<table border=\"1\" class=\"dataframe\">\n  <thead>\n    <tr style=\"text-align: right;\">\n      <th></th>\n      <th>Protocol</th>\n      <th>Flow Duration</th>\n      <th>Total Fwd Packets</th>\n      <th>Total Backward Packets</th>\n      <th>Fwd Packets Length Total</th>\n      <th>Bwd Packets Length Total</th>\n      <th>Fwd Packet Length Max</th>\n      <th>Fwd Packet Length Min</th>\n      <th>Fwd Packet Length Mean</th>\n      <th>Fwd Packet Length Std</th>\n      <th>...</th>\n      <th>Fwd Seg Size Min</th>\n      <th>Active Mean</th>\n      <th>Active Std</th>\n      <th>Active Max</th>\n      <th>Active Min</th>\n      <th>Idle Mean</th>\n      <th>Idle Std</th>\n      <th>Idle Max</th>\n      <th>Idle Min</th>\n      <th>Label</th>\n    </tr>\n  </thead>\n  <tbody>\n    <tr>\n      <th>424</th>\n      <td>17</td>\n      <td>10439</td>\n      <td>200</td>\n      <td>0</td>\n      <td>88000.0</td>\n      <td>0.0</td>\n      <td>440.0</td>\n      <td>440.0</td>\n      <td>440.0</td>\n      <td>0.000000</td>\n      <td>...</td>\n      <td>0</td>\n      <td>0.0</td>\n      <td>0.0</td>\n      <td>0.0</td>\n      <td>0.0</td>\n      <td>0.0</td>\n      <td>0.0</td>\n      <td>0.0</td>\n      <td>0.0</td>\n      <td>DrDoS_NTP</td>\n    </tr>\n    <tr>\n      <th>1419</th>\n      <td>17</td>\n      <td>1</td>\n      <td>2</td>\n      <td>0</td>\n      <td>866.0</td>\n      <td>0.0</td>\n      <td>433.0</td>\n      <td>433.0</td>\n      <td>433.0</td>\n      <td>0.000000</td>\n      <td>...</td>\n      <td>617</td>\n      <td>0.0</td>\n      <td>0.0</td>\n      <td>0.0</td>\n      <td>0.0</td>\n      <td>0.0</td>\n      <td>0.0</td>\n      <td>0.0</td>\n      <td>0.0</td>\n      <td>DrDoS_MSSQL</td>\n    </tr>\n    <tr>\n      <th>626</th>\n      <td>17</td>\n      <td>106895</td>\n      <td>4</td>\n      <td>0</td>\n      <td>1438.0</td>\n      <td>0.0</td>\n      <td>389.0</td>\n      <td>330.0</td>\n      <td>359.5</td>\n      <td>34.063667</td>\n      <td>...</td>\n      <td>0</td>\n      <td>0.0</td>\n      <td>0.0</td>\n      <td>0.0</td>\n      <td>0.0</td>\n      <td>0.0</td>\n      <td>0.0</td>\n      <td>0.0</td>\n      <td>0.0</td>\n      <td>DrDoS_SSDP</td>\n    </tr>\n    <tr>\n      <th>960</th>\n      <td>17</td>\n      <td>287</td>\n      <td>2</td>\n      <td>0</td>\n      <td>2944.0</td>\n      <td>0.0</td>\n      <td>1472.0</td>\n      <td>1472.0</td>\n      <td>1472.0</td>\n      <td>0.000000</td>\n      <td>...</td>\n      <td>14</td>\n      <td>0.0</td>\n      <td>0.0</td>\n      <td>0.0</td>\n      <td>0.0</td>\n      <td>0.0</td>\n      <td>0.0</td>\n      <td>0.0</td>\n      <td>0.0</td>\n      <td>DrDoS_LDAP</td>\n    </tr>\n    <tr>\n      <th>2166</th>\n      <td>17</td>\n      <td>2996838</td>\n      <td>4</td>\n      <td>0</td>\n      <td>2064.0</td>\n      <td>0.0</td>\n      <td>516.0</td>\n      <td>516.0</td>\n      <td>516.0</td>\n      <td>0.000000</td>\n      <td>...</td>\n      <td>0</td>\n      <td>0.0</td>\n      <td>0.0</td>\n      <td>0.0</td>\n      <td>0.0</td>\n      <td>0.0</td>\n      <td>0.0</td>\n      <td>0.0</td>\n      <td>0.0</td>\n      <td>TFTP</td>\n    </tr>\n  </tbody>\n</table>\n<p>5 rows × 66 columns</p>\n</div>"
     },
     "execution_count": 48,
     "metadata": {},
     "output_type": "execute_result"
    }
   ],
   "source": [
    "le = preprocessing.LabelEncoder()\n",
    "before_encoding_dataframe = df.copy(deep=True)\n",
    "before_encoding_dataframe.head(5) # see the Label feature"
   ],
   "metadata": {
    "collapsed": false
   }
  },
  {
   "cell_type": "code",
   "execution_count": 49,
   "outputs": [
    {
     "data": {
      "text/plain": "      Protocol  Flow Duration  Total Fwd Packets  Total Backward Packets  \\\n424         17          10439                200                       0   \n1419        17              1                  2                       0   \n626         17         106895                  4                       0   \n960         17            287                  2                       0   \n2166        17        2996838                  4                       0   \n\n      Fwd Packets Length Total  Bwd Packets Length Total  \\\n424                    88000.0                       0.0   \n1419                     866.0                       0.0   \n626                     1438.0                       0.0   \n960                     2944.0                       0.0   \n2166                    2064.0                       0.0   \n\n      Fwd Packet Length Max  Fwd Packet Length Min  Fwd Packet Length Mean  \\\n424                   440.0                  440.0                   440.0   \n1419                  433.0                  433.0                   433.0   \n626                   389.0                  330.0                   359.5   \n960                  1472.0                 1472.0                  1472.0   \n2166                  516.0                  516.0                   516.0   \n\n      Fwd Packet Length Std  ...  Fwd Seg Size Min  Active Mean  Active Std  \\\n424                0.000000  ...                 0          0.0         0.0   \n1419               0.000000  ...               617          0.0         0.0   \n626               34.063667  ...                 0          0.0         0.0   \n960                0.000000  ...                14          0.0         0.0   \n2166               0.000000  ...                 0          0.0         0.0   \n\n      Active Max  Active Min  Idle Mean  Idle Std  Idle Max  Idle Min  Label  \n424          0.0         0.0        0.0       0.0       0.0       0.0      4  \n1419         0.0         0.0        0.0       0.0       0.0       0.0      3  \n626          0.0         0.0        0.0       0.0       0.0       0.0      7  \n960          0.0         0.0        0.0       0.0       0.0       0.0      2  \n2166         0.0         0.0        0.0       0.0       0.0       0.0     10  \n\n[5 rows x 66 columns]",
      "text/html": "<div>\n<style scoped>\n    .dataframe tbody tr th:only-of-type {\n        vertical-align: middle;\n    }\n\n    .dataframe tbody tr th {\n        vertical-align: top;\n    }\n\n    .dataframe thead th {\n        text-align: right;\n    }\n</style>\n<table border=\"1\" class=\"dataframe\">\n  <thead>\n    <tr style=\"text-align: right;\">\n      <th></th>\n      <th>Protocol</th>\n      <th>Flow Duration</th>\n      <th>Total Fwd Packets</th>\n      <th>Total Backward Packets</th>\n      <th>Fwd Packets Length Total</th>\n      <th>Bwd Packets Length Total</th>\n      <th>Fwd Packet Length Max</th>\n      <th>Fwd Packet Length Min</th>\n      <th>Fwd Packet Length Mean</th>\n      <th>Fwd Packet Length Std</th>\n      <th>...</th>\n      <th>Fwd Seg Size Min</th>\n      <th>Active Mean</th>\n      <th>Active Std</th>\n      <th>Active Max</th>\n      <th>Active Min</th>\n      <th>Idle Mean</th>\n      <th>Idle Std</th>\n      <th>Idle Max</th>\n      <th>Idle Min</th>\n      <th>Label</th>\n    </tr>\n  </thead>\n  <tbody>\n    <tr>\n      <th>424</th>\n      <td>17</td>\n      <td>10439</td>\n      <td>200</td>\n      <td>0</td>\n      <td>88000.0</td>\n      <td>0.0</td>\n      <td>440.0</td>\n      <td>440.0</td>\n      <td>440.0</td>\n      <td>0.000000</td>\n      <td>...</td>\n      <td>0</td>\n      <td>0.0</td>\n      <td>0.0</td>\n      <td>0.0</td>\n      <td>0.0</td>\n      <td>0.0</td>\n      <td>0.0</td>\n      <td>0.0</td>\n      <td>0.0</td>\n      <td>4</td>\n    </tr>\n    <tr>\n      <th>1419</th>\n      <td>17</td>\n      <td>1</td>\n      <td>2</td>\n      <td>0</td>\n      <td>866.0</td>\n      <td>0.0</td>\n      <td>433.0</td>\n      <td>433.0</td>\n      <td>433.0</td>\n      <td>0.000000</td>\n      <td>...</td>\n      <td>617</td>\n      <td>0.0</td>\n      <td>0.0</td>\n      <td>0.0</td>\n      <td>0.0</td>\n      <td>0.0</td>\n      <td>0.0</td>\n      <td>0.0</td>\n      <td>0.0</td>\n      <td>3</td>\n    </tr>\n    <tr>\n      <th>626</th>\n      <td>17</td>\n      <td>106895</td>\n      <td>4</td>\n      <td>0</td>\n      <td>1438.0</td>\n      <td>0.0</td>\n      <td>389.0</td>\n      <td>330.0</td>\n      <td>359.5</td>\n      <td>34.063667</td>\n      <td>...</td>\n      <td>0</td>\n      <td>0.0</td>\n      <td>0.0</td>\n      <td>0.0</td>\n      <td>0.0</td>\n      <td>0.0</td>\n      <td>0.0</td>\n      <td>0.0</td>\n      <td>0.0</td>\n      <td>7</td>\n    </tr>\n    <tr>\n      <th>960</th>\n      <td>17</td>\n      <td>287</td>\n      <td>2</td>\n      <td>0</td>\n      <td>2944.0</td>\n      <td>0.0</td>\n      <td>1472.0</td>\n      <td>1472.0</td>\n      <td>1472.0</td>\n      <td>0.000000</td>\n      <td>...</td>\n      <td>14</td>\n      <td>0.0</td>\n      <td>0.0</td>\n      <td>0.0</td>\n      <td>0.0</td>\n      <td>0.0</td>\n      <td>0.0</td>\n      <td>0.0</td>\n      <td>0.0</td>\n      <td>2</td>\n    </tr>\n    <tr>\n      <th>2166</th>\n      <td>17</td>\n      <td>2996838</td>\n      <td>4</td>\n      <td>0</td>\n      <td>2064.0</td>\n      <td>0.0</td>\n      <td>516.0</td>\n      <td>516.0</td>\n      <td>516.0</td>\n      <td>0.000000</td>\n      <td>...</td>\n      <td>0</td>\n      <td>0.0</td>\n      <td>0.0</td>\n      <td>0.0</td>\n      <td>0.0</td>\n      <td>0.0</td>\n      <td>0.0</td>\n      <td>0.0</td>\n      <td>0.0</td>\n      <td>10</td>\n    </tr>\n  </tbody>\n</table>\n<p>5 rows × 66 columns</p>\n</div>"
     },
     "execution_count": 49,
     "metadata": {},
     "output_type": "execute_result"
    }
   ],
   "source": [
    "df[\"Label\"] = le.fit_transform(df[\"Label\"])\n",
    "df[\"Label\"] = pd.to_numeric(df['Label'], downcast='integer')\n",
    "df.head(5) # see the Label feature"
   ],
   "metadata": {
    "collapsed": false
   }
  },
  {
   "cell_type": "markdown",
   "source": [
    "<center><h3 style=\"background:#FF00FF;color:black\">\n",
    "Encoding of \"Label\" visualization\n",
    "</h3></center>"
   ],
   "metadata": {
    "collapsed": false
   }
  },
  {
   "cell_type": "code",
   "execution_count": 50,
   "outputs": [
    {
     "data": {
      "text/plain": "            Label  Encoding\n0       DrDoS_NTP         4\n1     DrDoS_MSSQL         3\n2      DrDoS_SSDP         7\n3      DrDoS_LDAP         2\n4            TFTP        10\n5       DrDoS_DNS         1\n6       DrDoS_UDP         8\n7      DrDoS_SNMP         6\n8             Syn         9\n9   DrDoS_NetBIOS         5\n10        UDP-lag        11\n11         BENIGN         0\n12        WebDDoS        12",
      "text/html": "<div>\n<style scoped>\n    .dataframe tbody tr th:only-of-type {\n        vertical-align: middle;\n    }\n\n    .dataframe tbody tr th {\n        vertical-align: top;\n    }\n\n    .dataframe thead th {\n        text-align: right;\n    }\n</style>\n<table border=\"1\" class=\"dataframe\">\n  <thead>\n    <tr style=\"text-align: right;\">\n      <th></th>\n      <th>Label</th>\n      <th>Encoding</th>\n    </tr>\n  </thead>\n  <tbody>\n    <tr>\n      <th>0</th>\n      <td>DrDoS_NTP</td>\n      <td>4</td>\n    </tr>\n    <tr>\n      <th>1</th>\n      <td>DrDoS_MSSQL</td>\n      <td>3</td>\n    </tr>\n    <tr>\n      <th>2</th>\n      <td>DrDoS_SSDP</td>\n      <td>7</td>\n    </tr>\n    <tr>\n      <th>3</th>\n      <td>DrDoS_LDAP</td>\n      <td>2</td>\n    </tr>\n    <tr>\n      <th>4</th>\n      <td>TFTP</td>\n      <td>10</td>\n    </tr>\n    <tr>\n      <th>5</th>\n      <td>DrDoS_DNS</td>\n      <td>1</td>\n    </tr>\n    <tr>\n      <th>6</th>\n      <td>DrDoS_UDP</td>\n      <td>8</td>\n    </tr>\n    <tr>\n      <th>7</th>\n      <td>DrDoS_SNMP</td>\n      <td>6</td>\n    </tr>\n    <tr>\n      <th>8</th>\n      <td>Syn</td>\n      <td>9</td>\n    </tr>\n    <tr>\n      <th>9</th>\n      <td>DrDoS_NetBIOS</td>\n      <td>5</td>\n    </tr>\n    <tr>\n      <th>10</th>\n      <td>UDP-lag</td>\n      <td>11</td>\n    </tr>\n    <tr>\n      <th>11</th>\n      <td>BENIGN</td>\n      <td>0</td>\n    </tr>\n    <tr>\n      <th>12</th>\n      <td>WebDDoS</td>\n      <td>12</td>\n    </tr>\n  </tbody>\n</table>\n</div>"
     },
     "execution_count": 50,
     "metadata": {},
     "output_type": "execute_result"
    }
   ],
   "source": [
    "Label_keys = list(before_encoding_dataframe.Label)\n",
    "Label_values = list(df.Label)\n",
    "# Label_tuples = list(zip(Label_keys,Label_values)) # # creating tuples from above two lists\n",
    "# Label_visualize_df = pd.DataFrame(Label_tuples, columns=['Label','Encoding'])\n",
    "Label_dict = dict(Label = Label_keys,Encoding = Label_values)\n",
    "Label_visualize_df = pd.DataFrame.from_dict(Label_dict)\n",
    "Label_visualize_df.drop_duplicates(inplace=True)\n",
    "Label_visualize_df.reset_index(inplace=True, drop=True)\n",
    "Label_visualize_df"
   ],
   "metadata": {
    "collapsed": false
   }
  },
  {
   "cell_type": "markdown",
   "source": [
    "<center><h4 style=\"background:#ADFF2F;color:black\">\n",
    "Saving the after encoding dataframe into new csv\n",
    "</h4></center>"
   ],
   "metadata": {
    "collapsed": false
   }
  },
  {
   "cell_type": "code",
   "execution_count": 51,
   "outputs": [],
   "source": [
    "# dirPath = \"D:\\\\Thesis_Group_of_Brig_Gen_Razzak_Sir\\\\After_Column_Data_Cleaning\\\\\"\n",
    "# csvFileName = \"After_Label_Encoding.csv\"\n",
    "# encodingFileName = \"Label_Encoding.csv\"\n",
    "#\n",
    "# Label_visualize_df.to_csv(dirPath+encodingFileName)\n",
    "# df.to_csv(dirPath + csvFileName)\n",
    "# df.info(memory_usage=\"deep\")"
   ],
   "metadata": {
    "collapsed": false
   }
  },
  {
   "cell_type": "markdown",
   "source": [
    "<center><h3 style=\"background:orange;color:black\">\n",
    "Hypothesis Testing\n",
    "</h3></center>"
   ],
   "metadata": {
    "collapsed": false
   }
  },
  {
   "cell_type": "markdown",
   "source": [
    "##### Null Hypothesis(H0): There exists no co-relation between two features\n",
    "##### Alternative Hypothesis (H1): opposite of null hypothesis"
   ],
   "metadata": {
    "collapsed": false
   }
  },
  {
   "cell_type": "markdown",
   "source": [
    "<center><h3 style=\"background:yellow;color:black\">\n",
    "Chi-Squared Test\n",
    "</h3></center>"
   ],
   "metadata": {
    "collapsed": false
   }
  },
  {
   "cell_type": "code",
   "execution_count": 52,
   "outputs": [],
   "source": [
    "from scipy.stats import chi2_contingency\n",
    "def chi_squared_test(feature1,feature2):\n",
    "    stat ,p, dof, expected = chi2_contingency(pd.crosstab(feature1,feature2))\n",
    "    alpha = 0.05\n",
    "    if p > alpha:\n",
    "        return f\"They are independent & P-value: {p}\"\n",
    "    else:\n",
    "        return f\"Co-related & P-value: {p}\""
   ],
   "metadata": {
    "collapsed": false
   }
  },
  {
   "cell_type": "code",
   "execution_count": 53,
   "outputs": [
    {
     "data": {
      "text/plain": "['ACK Flag Count',\n 'Active Max',\n 'Active Mean',\n 'Active Min',\n 'Active Std',\n 'Avg Bwd Segment Size',\n 'Avg Fwd Segment Size',\n 'Avg Packet Size',\n 'Bwd Header Length',\n 'Bwd IAT Max',\n 'Bwd IAT Mean',\n 'Bwd IAT Min',\n 'Bwd IAT Std',\n 'Bwd IAT Total',\n 'Bwd Packet Length Max',\n 'Bwd Packet Length Mean',\n 'Bwd Packet Length Min',\n 'Bwd Packet Length Std',\n 'Bwd Packets Length Total',\n 'Bwd Packets/s',\n 'CWE Flag Count',\n 'Down/Up Ratio',\n 'Flow Bytes/s',\n 'Flow Duration',\n 'Flow IAT Max',\n 'Flow IAT Mean',\n 'Flow IAT Min',\n 'Flow IAT Std',\n 'Flow Packets/s',\n 'Fwd Act Data Packets',\n 'Fwd Header Length',\n 'Fwd IAT Max',\n 'Fwd IAT Mean',\n 'Fwd IAT Min',\n 'Fwd IAT Std',\n 'Fwd IAT Total',\n 'Fwd PSH Flags',\n 'Fwd Packet Length Max',\n 'Fwd Packet Length Mean',\n 'Fwd Packet Length Min',\n 'Fwd Packet Length Std',\n 'Fwd Packets Length Total',\n 'Fwd Packets/s',\n 'Fwd Seg Size Min',\n 'Idle Max',\n 'Idle Mean',\n 'Idle Min',\n 'Idle Std',\n 'Init Bwd Win Bytes',\n 'Init Fwd Win Bytes',\n 'Label',\n 'Packet Length Max',\n 'Packet Length Mean',\n 'Packet Length Min',\n 'Packet Length Std',\n 'Packet Length Variance',\n 'Protocol',\n 'RST Flag Count',\n 'SYN Flag Count',\n 'Subflow Bwd Bytes',\n 'Subflow Bwd Packets',\n 'Subflow Fwd Bytes',\n 'Subflow Fwd Packets',\n 'Total Backward Packets',\n 'Total Fwd Packets',\n 'URG Flag Count']"
     },
     "execution_count": 53,
     "metadata": {},
     "output_type": "execute_result"
    }
   ],
   "source": [
    "present_columns = sorted(df)\n",
    "present_columns"
   ],
   "metadata": {
    "collapsed": false
   }
  },
  {
   "cell_type": "markdown",
   "source": [
    "##### Relation between Syn Flag count vs Protocol"
   ],
   "metadata": {
    "collapsed": false
   }
  },
  {
   "cell_type": "code",
   "execution_count": 54,
   "outputs": [
    {
     "data": {
      "text/plain": "Protocol         0      6       17\nSYN Flag Count                    \n0               344  76009  332533\n1                 0    114       0",
      "text/html": "<div>\n<style scoped>\n    .dataframe tbody tr th:only-of-type {\n        vertical-align: middle;\n    }\n\n    .dataframe tbody tr th {\n        vertical-align: top;\n    }\n\n    .dataframe thead th {\n        text-align: right;\n    }\n</style>\n<table border=\"1\" class=\"dataframe\">\n  <thead>\n    <tr style=\"text-align: right;\">\n      <th>Protocol</th>\n      <th>0</th>\n      <th>6</th>\n      <th>17</th>\n    </tr>\n    <tr>\n      <th>SYN Flag Count</th>\n      <th></th>\n      <th></th>\n      <th></th>\n    </tr>\n  </thead>\n  <tbody>\n    <tr>\n      <th>0</th>\n      <td>344</td>\n      <td>76009</td>\n      <td>332533</td>\n    </tr>\n    <tr>\n      <th>1</th>\n      <td>0</td>\n      <td>114</td>\n      <td>0</td>\n    </tr>\n  </tbody>\n</table>\n</div>"
     },
     "execution_count": 54,
     "metadata": {},
     "output_type": "execute_result"
    }
   ],
   "source": [
    "pd.crosstab(df['SYN Flag Count'],df['Protocol'])"
   ],
   "metadata": {
    "collapsed": false
   }
  },
  {
   "cell_type": "code",
   "execution_count": 55,
   "outputs": [
    {
     "data": {
      "text/plain": "'Co-related & P-value: 5.24843500768918e-109'"
     },
     "execution_count": 55,
     "metadata": {},
     "output_type": "execute_result"
    }
   ],
   "source": [
    "chi_squared_test(df['SYN Flag Count'],df['Protocol'])"
   ],
   "metadata": {
    "collapsed": false
   }
  },
  {
   "cell_type": "markdown",
   "source": [
    "##### Relation between RST Flag count vs Protocol"
   ],
   "metadata": {
    "collapsed": false
   }
  },
  {
   "cell_type": "code",
   "execution_count": 56,
   "outputs": [
    {
     "data": {
      "text/plain": "Protocol         0      6       17\nRST Flag Count                    \n0               344  75097  332533\n1                 0   1026       0",
      "text/html": "<div>\n<style scoped>\n    .dataframe tbody tr th:only-of-type {\n        vertical-align: middle;\n    }\n\n    .dataframe tbody tr th {\n        vertical-align: top;\n    }\n\n    .dataframe thead th {\n        text-align: right;\n    }\n</style>\n<table border=\"1\" class=\"dataframe\">\n  <thead>\n    <tr style=\"text-align: right;\">\n      <th>Protocol</th>\n      <th>0</th>\n      <th>6</th>\n      <th>17</th>\n    </tr>\n    <tr>\n      <th>RST Flag Count</th>\n      <th></th>\n      <th></th>\n      <th></th>\n    </tr>\n  </thead>\n  <tbody>\n    <tr>\n      <th>0</th>\n      <td>344</td>\n      <td>75097</td>\n      <td>332533</td>\n    </tr>\n    <tr>\n      <th>1</th>\n      <td>0</td>\n      <td>1026</td>\n      <td>0</td>\n    </tr>\n  </tbody>\n</table>\n</div>"
     },
     "execution_count": 56,
     "metadata": {},
     "output_type": "execute_result"
    }
   ],
   "source": [
    "pd.crosstab(df['RST Flag Count'],df['Protocol'])"
   ],
   "metadata": {
    "collapsed": false
   }
  },
  {
   "cell_type": "code",
   "execution_count": 57,
   "outputs": [
    {
     "data": {
      "text/plain": "'Co-related & P-value: 0.0'"
     },
     "execution_count": 57,
     "metadata": {},
     "output_type": "execute_result"
    }
   ],
   "source": [
    "chi_squared_test(df['RST Flag Count'],df['Protocol'])"
   ],
   "metadata": {
    "collapsed": false
   }
  },
  {
   "cell_type": "markdown",
   "source": [
    "##### Relation between CWE Flag count vs Protocol"
   ],
   "metadata": {
    "collapsed": false
   }
  },
  {
   "cell_type": "code",
   "execution_count": 58,
   "outputs": [
    {
     "data": {
      "text/plain": "Protocol         0      6       17\nCWE Flag Count                    \n0               344  73778  332533\n1                 0   2345       0",
      "text/html": "<div>\n<style scoped>\n    .dataframe tbody tr th:only-of-type {\n        vertical-align: middle;\n    }\n\n    .dataframe tbody tr th {\n        vertical-align: top;\n    }\n\n    .dataframe thead th {\n        text-align: right;\n    }\n</style>\n<table border=\"1\" class=\"dataframe\">\n  <thead>\n    <tr style=\"text-align: right;\">\n      <th>Protocol</th>\n      <th>0</th>\n      <th>6</th>\n      <th>17</th>\n    </tr>\n    <tr>\n      <th>CWE Flag Count</th>\n      <th></th>\n      <th></th>\n      <th></th>\n    </tr>\n  </thead>\n  <tbody>\n    <tr>\n      <th>0</th>\n      <td>344</td>\n      <td>73778</td>\n      <td>332533</td>\n    </tr>\n    <tr>\n      <th>1</th>\n      <td>0</td>\n      <td>2345</td>\n      <td>0</td>\n    </tr>\n  </tbody>\n</table>\n</div>"
     },
     "execution_count": 58,
     "metadata": {},
     "output_type": "execute_result"
    }
   ],
   "source": [
    "pd.crosstab(df['CWE Flag Count'],df['Protocol'])"
   ],
   "metadata": {
    "collapsed": false
   }
  },
  {
   "cell_type": "code",
   "execution_count": 59,
   "outputs": [
    {
     "data": {
      "text/plain": "'Co-related & P-value: 0.0'"
     },
     "execution_count": 59,
     "metadata": {},
     "output_type": "execute_result"
    }
   ],
   "source": [
    "chi_squared_test(df['CWE Flag Count'],df['Protocol'])"
   ],
   "metadata": {
    "collapsed": false
   }
  },
  {
   "cell_type": "markdown",
   "source": [
    "##### Relation between URG Flag count vs Protocol"
   ],
   "metadata": {
    "collapsed": false
   }
  },
  {
   "cell_type": "code",
   "execution_count": 60,
   "outputs": [
    {
     "data": {
      "text/plain": "Protocol         0      6       17\nURG Flag Count                    \n0               344  71593  332533\n1                 0   4530       0",
      "text/html": "<div>\n<style scoped>\n    .dataframe tbody tr th:only-of-type {\n        vertical-align: middle;\n    }\n\n    .dataframe tbody tr th {\n        vertical-align: top;\n    }\n\n    .dataframe thead th {\n        text-align: right;\n    }\n</style>\n<table border=\"1\" class=\"dataframe\">\n  <thead>\n    <tr style=\"text-align: right;\">\n      <th>Protocol</th>\n      <th>0</th>\n      <th>6</th>\n      <th>17</th>\n    </tr>\n    <tr>\n      <th>URG Flag Count</th>\n      <th></th>\n      <th></th>\n      <th></th>\n    </tr>\n  </thead>\n  <tbody>\n    <tr>\n      <th>0</th>\n      <td>344</td>\n      <td>71593</td>\n      <td>332533</td>\n    </tr>\n    <tr>\n      <th>1</th>\n      <td>0</td>\n      <td>4530</td>\n      <td>0</td>\n    </tr>\n  </tbody>\n</table>\n</div>"
     },
     "execution_count": 60,
     "metadata": {},
     "output_type": "execute_result"
    }
   ],
   "source": [
    "pd.crosstab(df['URG Flag Count'],df['Protocol'])"
   ],
   "metadata": {
    "collapsed": false
   }
  },
  {
   "cell_type": "code",
   "execution_count": 61,
   "outputs": [
    {
     "data": {
      "text/plain": "'Co-related & P-value: 0.0'"
     },
     "execution_count": 61,
     "metadata": {},
     "output_type": "execute_result"
    }
   ],
   "source": [
    "chi_squared_test(df['URG Flag Count'],df['Protocol'])"
   ],
   "metadata": {
    "collapsed": false
   }
  },
  {
   "cell_type": "markdown",
   "source": [
    "<center><h3 style=\"background:yellow;color:black\">\n",
    "T Test\n",
    "</h3></center>"
   ],
   "metadata": {
    "collapsed": false
   }
  },
  {
   "cell_type": "code",
   "execution_count": 62,
   "outputs": [],
   "source": [
    "from scipy.stats import ttest_ind\n",
    "def t_value_test(feature1,feature2):\n",
    "    score = ttest_ind(feature1,feature2,equal_var=False)[1]\n",
    "    if score > 0.05:\n",
    "        return f\"Co-related & T-score: {score}\"\n",
    "    return f\"They are independent & T-score: {score}\""
   ],
   "metadata": {
    "collapsed": false
   }
  },
  {
   "cell_type": "markdown",
   "source": [
    "##### Relation between Flow Duration vs FWD IAT Total"
   ],
   "metadata": {
    "collapsed": false
   }
  },
  {
   "cell_type": "code",
   "execution_count": 63,
   "outputs": [
    {
     "data": {
      "text/plain": "'Co-related & T-score: 0.8868497655037039'"
     },
     "execution_count": 63,
     "metadata": {},
     "output_type": "execute_result"
    }
   ],
   "source": [
    "t_value_test(df['Flow Duration'],df['Fwd IAT Total'])"
   ],
   "metadata": {
    "collapsed": false
   }
  },
  {
   "cell_type": "markdown",
   "source": [
    "<center><h3 style=\"background:yellow;color:black\">\n",
    "Pearson co-variance implementation\n",
    "</h3></center>"
   ],
   "metadata": {
    "collapsed": false
   }
  },
  {
   "cell_type": "code",
   "execution_count": 64,
   "outputs": [
    {
     "name": "stdout",
     "output_type": "stream",
     "text": [
      "Pearson co-relation between Flow Duration & Fwd IAT Total : 1.000\n",
      "Pearson co-relation between Total Fwd Packets & Subflow Fwd Packets : 1.000\n",
      "Pearson co-relation between Total Backward Packets & Subflow Bwd Packets : 1.000\n",
      "Pearson co-relation between Fwd Packets Length Total & Subflow Fwd Bytes : 1.000\n",
      "Pearson co-relation between Fwd Packets Length Total & Fwd Act Data Packets : 0.997\n",
      "Pearson co-relation between Bwd Packets Length Total & Subflow Bwd Bytes : 1.000\n",
      "Pearson co-relation between Fwd Packet Length Max & Fwd Packet Length Min : 0.987\n",
      "Pearson co-relation between Fwd Packet Length Max & Fwd Packet Length Mean : 0.995\n",
      "Pearson co-relation between Fwd Packet Length Max & Packet Length Min : 0.986\n",
      "Pearson co-relation between Fwd Packet Length Max & Packet Length Max : 0.979\n",
      "Pearson co-relation between Fwd Packet Length Max & Packet Length Mean : 0.995\n",
      "Pearson co-relation between Fwd Packet Length Max & Avg Packet Size : 0.986\n",
      "Pearson co-relation between Fwd Packet Length Max & Avg Fwd Segment Size : 0.995\n",
      "Pearson co-relation between Fwd Packet Length Min & Fwd Packet Length Max : 0.987\n",
      "Pearson co-relation between Fwd Packet Length Min & Fwd Packet Length Mean : 0.995\n",
      "Pearson co-relation between Fwd Packet Length Min & Packet Length Min : 0.999\n",
      "Pearson co-relation between Fwd Packet Length Min & Packet Length Max : 0.957\n",
      "Pearson co-relation between Fwd Packet Length Min & Packet Length Mean : 0.994\n",
      "Pearson co-relation between Fwd Packet Length Min & Avg Packet Size : 0.991\n",
      "Pearson co-relation between Fwd Packet Length Min & Avg Fwd Segment Size : 0.995\n",
      "Pearson co-relation between Fwd Packet Length Mean & Fwd Packet Length Max : 0.995\n",
      "Pearson co-relation between Fwd Packet Length Mean & Fwd Packet Length Min : 0.995\n",
      "Pearson co-relation between Fwd Packet Length Mean & Packet Length Min : 0.995\n",
      "Pearson co-relation between Fwd Packet Length Mean & Packet Length Max : 0.966\n",
      "Pearson co-relation between Fwd Packet Length Mean & Packet Length Mean : 0.999\n",
      "Pearson co-relation between Fwd Packet Length Mean & Avg Packet Size : 0.992\n",
      "Pearson co-relation between Fwd Packet Length Mean & Avg Fwd Segment Size : 1.000\n",
      "Pearson co-relation between Bwd Packet Length Max & Bwd Packet Length Std : 0.901\n",
      "Pearson co-relation between Bwd Packet Length Mean & Avg Bwd Segment Size : 1.000\n",
      "Pearson co-relation between Bwd Packet Length Std & Bwd Packet Length Max : 0.901\n",
      "Pearson co-relation between Flow Packets/s & Fwd Packets/s : 1.000\n",
      "Pearson co-relation between Flow IAT Mean & Flow IAT Std : 0.984\n",
      "Pearson co-relation between Flow IAT Mean & Flow IAT Max : 0.962\n",
      "Pearson co-relation between Flow IAT Mean & Fwd IAT Mean : 0.992\n",
      "Pearson co-relation between Flow IAT Mean & Fwd IAT Std : 0.978\n",
      "Pearson co-relation between Flow IAT Mean & Fwd IAT Max : 0.962\n",
      "Pearson co-relation between Flow IAT Mean & Idle Mean : 0.962\n",
      "Pearson co-relation between Flow IAT Mean & Idle Max : 0.956\n",
      "Pearson co-relation between Flow IAT Mean & Idle Min : 0.904\n",
      "Pearson co-relation between Flow IAT Std & Flow IAT Mean : 0.984\n",
      "Pearson co-relation between Flow IAT Std & Flow IAT Max : 0.966\n",
      "Pearson co-relation between Flow IAT Std & Fwd IAT Mean : 0.983\n",
      "Pearson co-relation between Flow IAT Std & Fwd IAT Std : 0.998\n",
      "Pearson co-relation between Flow IAT Std & Fwd IAT Max : 0.965\n",
      "Pearson co-relation between Flow IAT Std & Idle Mean : 0.980\n",
      "Pearson co-relation between Flow IAT Std & Idle Max : 0.959\n",
      "Pearson co-relation between Flow IAT Std & Idle Min : 0.940\n",
      "Pearson co-relation between Flow IAT Max & Flow IAT Mean : 0.962\n",
      "Pearson co-relation between Flow IAT Max & Flow IAT Std : 0.966\n",
      "Pearson co-relation between Flow IAT Max & Fwd IAT Mean : 0.975\n",
      "Pearson co-relation between Flow IAT Max & Fwd IAT Std : 0.970\n",
      "Pearson co-relation between Flow IAT Max & Fwd IAT Max : 0.999\n",
      "Pearson co-relation between Flow IAT Max & Idle Mean : 0.961\n",
      "Pearson co-relation between Flow IAT Max & Idle Max : 0.994\n",
      "Pearson co-relation between Flow IAT Min & Fwd IAT Min : 0.998\n",
      "Pearson co-relation between Fwd IAT Total & Flow Duration : 1.000\n",
      "Pearson co-relation between Fwd IAT Mean & Flow IAT Mean : 0.992\n",
      "Pearson co-relation between Fwd IAT Mean & Flow IAT Std : 0.983\n",
      "Pearson co-relation between Fwd IAT Mean & Flow IAT Max : 0.975\n",
      "Pearson co-relation between Fwd IAT Mean & Fwd IAT Std : 0.984\n",
      "Pearson co-relation between Fwd IAT Mean & Fwd IAT Max : 0.975\n",
      "Pearson co-relation between Fwd IAT Mean & Idle Mean : 0.968\n",
      "Pearson co-relation between Fwd IAT Mean & Idle Max : 0.970\n",
      "Pearson co-relation between Fwd IAT Mean & Idle Min : 0.902\n",
      "Pearson co-relation between Fwd IAT Std & Flow IAT Mean : 0.978\n",
      "Pearson co-relation between Fwd IAT Std & Flow IAT Std : 0.998\n",
      "Pearson co-relation between Fwd IAT Std & Flow IAT Max : 0.970\n",
      "Pearson co-relation between Fwd IAT Std & Fwd IAT Mean : 0.984\n",
      "Pearson co-relation between Fwd IAT Std & Fwd IAT Max : 0.970\n",
      "Pearson co-relation between Fwd IAT Std & Idle Mean : 0.984\n",
      "Pearson co-relation between Fwd IAT Std & Idle Max : 0.963\n",
      "Pearson co-relation between Fwd IAT Std & Idle Min : 0.942\n",
      "Pearson co-relation between Fwd IAT Max & Flow IAT Mean : 0.962\n",
      "Pearson co-relation between Fwd IAT Max & Flow IAT Std : 0.965\n",
      "Pearson co-relation between Fwd IAT Max & Flow IAT Max : 0.999\n",
      "Pearson co-relation between Fwd IAT Max & Fwd IAT Mean : 0.975\n",
      "Pearson co-relation between Fwd IAT Max & Fwd IAT Std : 0.970\n",
      "Pearson co-relation between Fwd IAT Max & Idle Mean : 0.961\n",
      "Pearson co-relation between Fwd IAT Max & Idle Max : 0.995\n",
      "Pearson co-relation between Fwd IAT Min & Flow IAT Min : 0.998\n",
      "Pearson co-relation between Bwd IAT Total & Bwd IAT Max : 0.942\n",
      "Pearson co-relation between Bwd IAT Mean & Bwd IAT Std : 0.997\n",
      "Pearson co-relation between Bwd IAT Mean & Bwd IAT Max : 0.973\n",
      "Pearson co-relation between Bwd IAT Std & Bwd IAT Mean : 0.997\n",
      "Pearson co-relation between Bwd IAT Std & Bwd IAT Max : 0.984\n",
      "Pearson co-relation between Bwd IAT Max & Bwd IAT Total : 0.942\n",
      "Pearson co-relation between Bwd IAT Max & Bwd IAT Mean : 0.973\n",
      "Pearson co-relation between Bwd IAT Max & Bwd IAT Std : 0.984\n",
      "Pearson co-relation between Fwd PSH Flags & RST Flag Count : 1.000\n",
      "Pearson co-relation between Fwd Packets/s & Flow Packets/s : 1.000\n",
      "Pearson co-relation between Packet Length Min & Fwd Packet Length Max : 0.986\n",
      "Pearson co-relation between Packet Length Min & Fwd Packet Length Min : 0.999\n",
      "Pearson co-relation between Packet Length Min & Fwd Packet Length Mean : 0.995\n",
      "Pearson co-relation between Packet Length Min & Packet Length Max : 0.956\n",
      "Pearson co-relation between Packet Length Min & Packet Length Mean : 0.994\n",
      "Pearson co-relation between Packet Length Min & Avg Packet Size : 0.992\n",
      "Pearson co-relation between Packet Length Min & Avg Fwd Segment Size : 0.995\n",
      "Pearson co-relation between Packet Length Max & Fwd Packet Length Max : 0.979\n",
      "Pearson co-relation between Packet Length Max & Fwd Packet Length Min : 0.957\n",
      "Pearson co-relation between Packet Length Max & Fwd Packet Length Mean : 0.966\n",
      "Pearson co-relation between Packet Length Max & Packet Length Min : 0.956\n",
      "Pearson co-relation between Packet Length Max & Packet Length Mean : 0.971\n",
      "Pearson co-relation between Packet Length Max & Avg Packet Size : 0.961\n",
      "Pearson co-relation between Packet Length Max & Avg Fwd Segment Size : 0.966\n",
      "Pearson co-relation between Packet Length Mean & Fwd Packet Length Max : 0.995\n",
      "Pearson co-relation between Packet Length Mean & Fwd Packet Length Min : 0.994\n",
      "Pearson co-relation between Packet Length Mean & Fwd Packet Length Mean : 0.999\n",
      "Pearson co-relation between Packet Length Mean & Packet Length Min : 0.994\n",
      "Pearson co-relation between Packet Length Mean & Packet Length Max : 0.971\n",
      "Pearson co-relation between Packet Length Mean & Avg Packet Size : 0.993\n",
      "Pearson co-relation between Packet Length Mean & Avg Fwd Segment Size : 0.999\n",
      "Pearson co-relation between RST Flag Count & Fwd PSH Flags : 1.000\n",
      "Pearson co-relation between Avg Packet Size & Fwd Packet Length Max : 0.986\n",
      "Pearson co-relation between Avg Packet Size & Fwd Packet Length Min : 0.991\n",
      "Pearson co-relation between Avg Packet Size & Fwd Packet Length Mean : 0.992\n",
      "Pearson co-relation between Avg Packet Size & Packet Length Min : 0.992\n",
      "Pearson co-relation between Avg Packet Size & Packet Length Max : 0.961\n",
      "Pearson co-relation between Avg Packet Size & Packet Length Mean : 0.993\n",
      "Pearson co-relation between Avg Packet Size & Avg Fwd Segment Size : 0.992\n",
      "Pearson co-relation between Avg Fwd Segment Size & Fwd Packet Length Max : 0.995\n",
      "Pearson co-relation between Avg Fwd Segment Size & Fwd Packet Length Min : 0.995\n",
      "Pearson co-relation between Avg Fwd Segment Size & Fwd Packet Length Mean : 1.000\n",
      "Pearson co-relation between Avg Fwd Segment Size & Packet Length Min : 0.995\n",
      "Pearson co-relation between Avg Fwd Segment Size & Packet Length Max : 0.966\n",
      "Pearson co-relation between Avg Fwd Segment Size & Packet Length Mean : 0.999\n",
      "Pearson co-relation between Avg Fwd Segment Size & Avg Packet Size : 0.992\n",
      "Pearson co-relation between Avg Bwd Segment Size & Bwd Packet Length Mean : 1.000\n",
      "Pearson co-relation between Subflow Fwd Packets & Total Fwd Packets : 1.000\n",
      "Pearson co-relation between Subflow Fwd Bytes & Fwd Packets Length Total : 1.000\n",
      "Pearson co-relation between Subflow Fwd Bytes & Fwd Act Data Packets : 0.997\n",
      "Pearson co-relation between Subflow Bwd Packets & Total Backward Packets : 1.000\n",
      "Pearson co-relation between Subflow Bwd Bytes & Bwd Packets Length Total : 1.000\n",
      "Pearson co-relation between Fwd Act Data Packets & Fwd Packets Length Total : 0.997\n",
      "Pearson co-relation between Fwd Act Data Packets & Subflow Fwd Bytes : 0.997\n",
      "Pearson co-relation between Active Std & Active Max : 0.904\n",
      "Pearson co-relation between Active Max & Active Std : 0.904\n",
      "Pearson co-relation between Idle Mean & Flow IAT Mean : 0.962\n",
      "Pearson co-relation between Idle Mean & Flow IAT Std : 0.980\n",
      "Pearson co-relation between Idle Mean & Flow IAT Max : 0.961\n",
      "Pearson co-relation between Idle Mean & Fwd IAT Mean : 0.968\n",
      "Pearson co-relation between Idle Mean & Fwd IAT Std : 0.984\n",
      "Pearson co-relation between Idle Mean & Fwd IAT Max : 0.961\n",
      "Pearson co-relation between Idle Mean & Idle Max : 0.966\n",
      "Pearson co-relation between Idle Mean & Idle Min : 0.968\n",
      "Pearson co-relation between Idle Max & Flow IAT Mean : 0.956\n",
      "Pearson co-relation between Idle Max & Flow IAT Std : 0.959\n",
      "Pearson co-relation between Idle Max & Flow IAT Max : 0.994\n",
      "Pearson co-relation between Idle Max & Fwd IAT Mean : 0.970\n",
      "Pearson co-relation between Idle Max & Fwd IAT Std : 0.963\n",
      "Pearson co-relation between Idle Max & Fwd IAT Max : 0.995\n",
      "Pearson co-relation between Idle Max & Idle Mean : 0.966\n",
      "Pearson co-relation between Idle Min & Flow IAT Mean : 0.904\n",
      "Pearson co-relation between Idle Min & Flow IAT Std : 0.940\n",
      "Pearson co-relation between Idle Min & Fwd IAT Mean : 0.902\n",
      "Pearson co-relation between Idle Min & Fwd IAT Std : 0.942\n",
      "Pearson co-relation between Idle Min & Idle Mean : 0.968\n",
      "\n",
      "###########################################################################\n",
      "Found above pearson threshold co-related pairs: 156\n"
     ]
    }
   ],
   "source": [
    "Pearson_Threshold = 0.9\n",
    "count = 0\n",
    "for i in df.columns:\n",
    "   for j in df.columns:\n",
    "       if i!= j:\n",
    "           corr,_ = stats.pearsonr(df[i],df[j])\n",
    "           if corr >= Pearson_Threshold:\n",
    "               count = count + 1\n",
    "               print(f\"Pearson co-relation between {i} & {j} : {corr:.3f}\")\n",
    "\n",
    "print(\"\\n###########################################################################\")\n",
    "print(f\"Found above pearson threshold co-related pairs: {count}\")"
   ],
   "metadata": {
    "collapsed": false
   }
  },
  {
   "cell_type": "markdown",
   "source": [
    "<center><h3 style=\"background:orange;color:black\">\n",
    "Need to reduce dimentionality of those above co-related pairs using PCA\n",
    "</h3></center>"
   ],
   "metadata": {
    "collapsed": false
   }
  },
  {
   "cell_type": "markdown",
   "source": [
    "##### But before applying PCA, need to data standardization & Compute the covariance matrix"
   ],
   "metadata": {
    "collapsed": false
   }
  },
  {
   "cell_type": "code",
   "execution_count": 65,
   "outputs": [
    {
     "data": {
      "text/plain": "array([[ 1.00000244, -0.7531957 , -0.06263539, ..., -0.75308395,\n        -0.63974858, -0.43794953],\n       [-0.7531957 ,  1.00000244, -0.00272005, ...,  0.8703841 ,\n         0.64706931,  0.37749434],\n       [-0.06263539, -0.00272005,  1.00000244, ..., -0.00814798,\n        -0.00761259, -0.02526513],\n       ...,\n       [-0.75308395,  0.8703841 , -0.00814798, ...,  1.00000244,\n         0.88018429,  0.38636973],\n       [-0.63974858,  0.64706931, -0.00761259, ...,  0.88018429,\n         1.00000244,  0.3459005 ],\n       [-0.43794953,  0.37749434, -0.02526513, ...,  0.38636973,\n         0.3459005 ,  1.00000244]])"
     },
     "execution_count": 65,
     "metadata": {},
     "output_type": "execute_result"
    }
   ],
   "source": [
    "from sklearn.preprocessing import StandardScaler\n",
    "from sklearn import preprocessing\n",
    "\n",
    "X_std = StandardScaler().fit_transform(df) # data standardized / scaled here\n",
    "X_norm = preprocessing.normalize(df)\n",
    "mean_vec = np.mean(X_std,axis=0)\n",
    "cov_mat = ((X_std - mean_vec).T.dot(X_std - mean_vec)) / (X_std.shape[0]-1)\n",
    "cov_mat # 66 rows & 66 columns"
   ],
   "metadata": {
    "collapsed": false
   }
  },
  {
   "cell_type": "markdown",
   "source": [
    "#### Eigen decomposition of co-variance matrix"
   ],
   "metadata": {
    "collapsed": false
   }
  },
  {
   "cell_type": "code",
   "execution_count": 66,
   "outputs": [
    {
     "name": "stdout",
     "output_type": "stream",
     "text": [
      "Eigen Vectors of co-variance matrix:\n",
      " [[-2.05454278e-01+0.j -6.45378474e-03+0.j  5.70199983e-02+0.j ...\n",
      "   1.34895744e-14+0.j -2.50883566e-14+0.j  3.23339678e-14+0.j]\n",
      " [ 2.04908583e-01+0.j -3.78796076e-02+0.j -1.32903200e-01+0.j ...\n",
      "  -6.70459584e-15+0.j -3.19595293e-12+0.j -3.79987111e-13+0.j]\n",
      " [ 2.31937691e-03+0.j  1.00417961e-02+0.j  1.25317518e-02+0.j ...\n",
      "   1.03016474e-01+0.j -2.60564342e-01+0.j  1.06855051e-01+0.j]\n",
      " ...\n",
      " [ 2.19464811e-01+0.j -4.97904868e-02+0.j -1.50166961e-01+0.j ...\n",
      "  -9.53636418e-15+0.j -5.88352991e-14+0.j  2.50793949e-14+0.j]\n",
      " [ 1.94389440e-01+0.j -3.82159303e-02+0.j -1.31065048e-01+0.j ...\n",
      "   1.50955131e-14+0.j -1.29961877e-14+0.j  1.67119441e-14+0.j]\n",
      " [ 1.36203332e-01+0.j -4.44433655e-02+0.j  5.54129387e-02+0.j ...\n",
      "   4.34501197e-15+0.j  1.71505734e-14+0.j  6.44221347e-15+0.j]]\n",
      "\n",
      "###################################################################\n",
      "\n",
      "Eigen values of co-variance matrix:\n",
      " [ 1.64753971e+01+0.00000000e+00j  6.84879341e+00+0.00000000e+00j\n",
      "  5.93273097e+00+0.00000000e+00j  3.59303129e+00+0.00000000e+00j\n",
      "  3.09098484e+00+0.00000000e+00j  3.01587886e+00+0.00000000e+00j\n",
      "  2.61238778e+00+0.00000000e+00j  2.48969873e+00+0.00000000e+00j\n",
      "  2.00959537e+00+0.00000000e+00j  1.99746440e+00+0.00000000e+00j\n",
      "  1.93025191e+00+0.00000000e+00j  1.83765050e+00+0.00000000e+00j\n",
      "  1.28491505e+00+0.00000000e+00j  1.23854657e+00+0.00000000e+00j\n",
      "  1.14848012e+00+0.00000000e+00j  1.12413596e+00+0.00000000e+00j\n",
      "  1.02543465e+00+0.00000000e+00j  9.81892954e-01+0.00000000e+00j\n",
      "  9.57097354e-01+0.00000000e+00j  8.99015140e-01+0.00000000e+00j\n",
      "  8.38953128e-01+0.00000000e+00j  7.73500553e-01+0.00000000e+00j\n",
      "  6.95824789e-01+0.00000000e+00j  6.01035067e-01+0.00000000e+00j\n",
      "  5.28444002e-01+0.00000000e+00j  3.66866523e-01+0.00000000e+00j\n",
      "  3.23426480e-01+0.00000000e+00j  2.98496734e-01+0.00000000e+00j\n",
      "  2.30310099e-01+0.00000000e+00j  2.15106609e-01+0.00000000e+00j\n",
      "  1.49030063e-01+0.00000000e+00j  1.20984944e-01+0.00000000e+00j\n",
      "  9.44275187e-02+0.00000000e+00j  8.38181284e-02+0.00000000e+00j\n",
      "  4.17141334e-02+0.00000000e+00j  3.66721919e-02+0.00000000e+00j\n",
      "  2.23335656e-02+0.00000000e+00j  2.16579029e-02+0.00000000e+00j\n",
      "  1.72261650e-02+0.00000000e+00j  1.15796973e-02+0.00000000e+00j\n",
      "  7.17759439e-03+0.00000000e+00j  5.63720090e-03+0.00000000e+00j\n",
      "  4.14726452e-03+0.00000000e+00j  3.90741306e-03+0.00000000e+00j\n",
      "  2.93542929e-03+0.00000000e+00j  2.43229025e-03+0.00000000e+00j\n",
      "  2.25410637e-03+0.00000000e+00j  1.32712770e-03+0.00000000e+00j\n",
      "  1.13759151e-03+0.00000000e+00j  1.06514572e-03+0.00000000e+00j\n",
      "  9.27395836e-04+0.00000000e+00j  7.88113900e-04+0.00000000e+00j\n",
      "  6.62380330e-04+0.00000000e+00j  5.96870047e-04+0.00000000e+00j\n",
      "  2.11042387e-04+0.00000000e+00j  1.24282121e-04+0.00000000e+00j\n",
      "  2.39251770e-05+0.00000000e+00j  1.50094969e-05+0.00000000e+00j\n",
      " -2.92922392e-15+0.00000000e+00j -3.20963085e-16+0.00000000e+00j\n",
      " -2.27430807e-16+3.66359209e-17j -2.27430807e-16-3.66359209e-17j\n",
      " -8.98973410e-17+0.00000000e+00j  2.59261239e-17+0.00000000e+00j\n",
      " -4.16658388e-17+0.00000000e+00j -1.28023200e-17+0.00000000e+00j]\n"
     ]
    }
   ],
   "source": [
    "eig_values, eigen_vec = np.linalg.eig(cov_mat)\n",
    "print(f\"Eigen Vectors of co-variance matrix:\\n {eigen_vec}\")\n",
    "print(\"\\n###################################################################\\n\")\n",
    "print(f\"Eigen values of co-variance matrix:\\n {eig_values}\")"
   ],
   "metadata": {
    "collapsed": false
   }
  },
  {
   "cell_type": "markdown",
   "source": [
    "#### Now need to select the principal components"
   ],
   "metadata": {
    "collapsed": false
   }
  },
  {
   "cell_type": "code",
   "execution_count": 67,
   "outputs": [
    {
     "name": "stdout",
     "output_type": "stream",
     "text": [
      "0 16.475397052151536\n",
      "1 6.848793408416326\n",
      "2 5.932730965636064\n",
      "3 3.5930312909164726\n",
      "4 3.090984835001137\n",
      "5 3.015878860916776\n",
      "6 2.6123877779519598\n",
      "7 2.489698726025652\n",
      "8 2.009595371766422\n",
      "9 1.99746439929715\n",
      "10 1.9302519052437037\n",
      "11 1.8376504960534152\n",
      "12 1.2849150460412355\n",
      "13 1.2385465718502515\n",
      "14 1.1484801194209706\n",
      "15 1.1241359618594624\n",
      "16 1.0254346544512147\n",
      "17 0.9818929539502065\n",
      "18 0.957097353816934\n",
      "19 0.8990151404665104\n",
      "20 0.8389531283311615\n",
      "21 0.7735005532368856\n",
      "22 0.6958247885763191\n",
      "23 0.6010350671488298\n",
      "24 0.5284440022068849\n",
      "25 0.36686652282530813\n",
      "26 0.32342648013438313\n",
      "27 0.29849673402195487\n",
      "28 0.23031009938556765\n",
      "29 0.21510660932657397\n",
      "30 0.14903006298668067\n",
      "31 0.12098494397156988\n",
      "32 0.09442751866156107\n",
      "33 0.08381812838506367\n",
      "34 0.041714133397904946\n",
      "35 0.03667219192301318\n",
      "36 0.022333565592597228\n",
      "37 0.021657902940910006\n",
      "38 0.01722616501842631\n",
      "39 0.011579697284044711\n",
      "40 0.007177594391862743\n",
      "41 0.005637200899545507\n",
      "42 0.00414726451950179\n",
      "43 0.003907413060414472\n",
      "44 0.002935429285088872\n",
      "45 0.0024322902458247865\n",
      "46 0.0022541063708983802\n",
      "47 0.0013271276980520498\n",
      "48 0.0011375915093875114\n",
      "49 0.0010651457225158683\n",
      "50 0.000927395836168303\n",
      "51 0.0007881139003349696\n",
      "52 0.0006623803297038794\n",
      "53 0.0005968700473840394\n",
      "54 0.00021104238674889418\n",
      "55 0.00012428212129084672\n",
      "56 2.3925177021170646e-05\n",
      "57 1.5009496910739383e-05\n",
      "58 2.9292239168334737e-15\n",
      "59 3.209630850037912e-16\n",
      "60 2.3036267655144566e-16\n",
      "61 2.3036267655144566e-16\n",
      "62 8.989734101604166e-17\n",
      "63 4.166583883828116e-17\n",
      "64 2.5926123851133316e-17\n",
      "65 1.2802320014277678e-17\n"
     ]
    }
   ],
   "source": [
    "eig_pairs = [(np.abs(eig_values[i]),eigen_vec[:,i]) for i in range(len(eig_values))]\n",
    "# here, eig_pairs data_types are list of tuples(eig_values,eigen_vec)\n",
    "# need to sort in descending order\n",
    "eig_pairs.sort(key=lambda x: x[0],reverse=True)\n",
    "# ok need to visualize the descending sort of eigen pairs\n",
    "for i,j in enumerate(eig_pairs):\n",
    "    print(i,j[0])"
   ],
   "metadata": {
    "collapsed": false
   }
  },
  {
   "cell_type": "markdown",
   "source": [
    "##### after 55, it seems it has too little insignificance"
   ],
   "metadata": {
    "collapsed": false
   }
  },
  {
   "cell_type": "markdown",
   "source": [
    "##### Explained Variance"
   ],
   "metadata": {
    "collapsed": false
   }
  },
  {
   "cell_type": "code",
   "execution_count": 68,
   "outputs": [],
   "source": [
    "tot = sum(eig_values)\n",
    "exp_var = [(i/tot)*100 for i in sorted(eig_values,reverse=True)]\n",
    "# exp_var"
   ],
   "metadata": {
    "collapsed": false
   }
  },
  {
   "cell_type": "code",
   "execution_count": 69,
   "outputs": [
    {
     "data": {
      "text/plain": "<Figure size 2000x800 with 1 Axes>",
      "image/png": "[encoded data removed]"
     },
     "metadata": {},
     "output_type": "display_data"
    }
   ],
   "source": [
    "imgPath = \"G:\\\\Brig_Gen_Razzak_Sir_Thesis_Group\\\\Thesis-on-DDOS-main\\\\images\\\\\"\n",
    "imgName = \"PCA_explained_variance.png\"\n",
    "with plt.style.context(style=\"grayscale\"):\n",
    "    plt.figure(figsize=(20,8))\n",
    "    plt.bar(x=range(len(df.columns)),height=exp_var,alpha=0.5,align=\"center\",label=\"individual explained variance\")\n",
    "    plt.legend(loc=\"best\")\n",
    "    plt.xlabel(\"principal components\")\n",
    "    plt.ylabel(\"explained variable ratio\")\n",
    "    plt.tight_layout()\n",
    "    plt.savefig(imgPath+imgName)"
   ],
   "metadata": {
    "collapsed": false
   }
  },
  {
   "cell_type": "markdown",
   "source": [
    "##### Camulative Explained Variance"
   ],
   "metadata": {
    "collapsed": false
   }
  },
  {
   "cell_type": "code",
   "execution_count": 80,
   "outputs": [
    {
     "data": {
      "text/plain": "<Figure size 800x550 with 1 Axes>",
      "image/png": "[encoded data removed]"
     },
     "metadata": {},
     "output_type": "display_data"
    }
   ],
   "source": [
    "from sklearn.decomposition import PCA\n",
    "pca = PCA().fit(X_std)\n",
    "imgPath = \"G:\\\\Brig_Gen_Razzak_Sir_Thesis_Group\\\\Thesis-on-DDOS-main\\\\images\\\\\"\n",
    "imgName = \"PCA_Cumulative_explained_variance.png\"\n",
    "with plt.style.context(style=\"seaborn-notebook\"):\n",
    "    plt.plot(np.cumsum(pca.explained_variance_ratio_))\n",
    "    plt.xlabel(\"total features or components\")\n",
    "    plt.ylabel(\"Cumulative Explained Variance\")\n",
    "    plt.xlim(0,len(df.columns),1)\n",
    "    plt.tight_layout()\n",
    "    plt.savefig(imgPath+imgName)"
   ],
   "metadata": {
    "collapsed": false
   }
  },
  {
   "cell_type": "code",
   "execution_count": 71,
   "outputs": [
    {
     "data": {
      "text/plain": "['Solarize_Light2',\n '_classic_test_patch',\n 'bmh',\n 'classic',\n 'dark_background',\n 'fast',\n 'fivethirtyeight',\n 'ggplot',\n 'grayscale',\n 'seaborn',\n 'seaborn-bright',\n 'seaborn-colorblind',\n 'seaborn-dark',\n 'seaborn-dark-palette',\n 'seaborn-darkgrid',\n 'seaborn-deep',\n 'seaborn-muted',\n 'seaborn-notebook',\n 'seaborn-paper',\n 'seaborn-pastel',\n 'seaborn-poster',\n 'seaborn-talk',\n 'seaborn-ticks',\n 'seaborn-white',\n 'seaborn-whitegrid',\n 'tableau-colorblind10']"
     },
     "execution_count": 71,
     "metadata": {},
     "output_type": "execute_result"
    }
   ],
   "source": [
    "plt.style.available"
   ],
   "metadata": {
    "collapsed": false
   }
  }
 ],
 "metadata": {
  "kernelspec": {
   "display_name": "Python 3",
   "language": "python",
   "name": "python3"
  },
  "language_info": {
   "codemirror_mode": {
    "name": "ipython",
    "version": 2
   },
   "file_extension": ".py",
   "mimetype": "text/x-python",
   "name": "python",
   "nbconvert_exporter": "python",
   "pygments_lexer": "ipython2",
   "version": "2.7.6"
  }
 },
 "nbformat": 4,
 "nbformat_minor": 0
}
